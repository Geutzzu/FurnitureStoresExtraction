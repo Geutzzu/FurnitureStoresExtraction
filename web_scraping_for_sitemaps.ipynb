{
 "cells": [
  {
   "metadata": {},
   "cell_type": "markdown",
   "source": [
    "# Web scraping the sites that contain site maps\n",
    "\n",
    "This notebook aims to gather all the data from multiple that contain site maps. The target is to get as many product websites from different pages with as many different furniture types as possible."
   ],
   "id": "7c6a352b9f6cb4a9"
  },
  {
   "cell_type": "code",
   "id": "initial_id",
   "metadata": {
    "collapsed": true,
    "ExecuteTime": {
     "end_time": "2024-09-02T22:55:55.453249Z",
     "start_time": "2024-09-02T22:55:54.908585Z"
    }
   },
   "source": [
    "# importing libraries\n",
    "\n",
    "import csv \n",
    "import operator\n",
    "\n",
    "import requests\n",
    "from tqdm import tqdm \n",
    "from bs4 import BeautifulSoup\n",
    "\n",
    "from concurrent.futures import ThreadPoolExecutor\n",
    "import concurrent\n",
    "\n",
    "from urllib.parse import urlparse\n",
    "from urllib.parse import urljoin"
   ],
   "outputs": [],
   "execution_count": 1
  },
  {
   "metadata": {},
   "cell_type": "markdown",
   "source": "### Methods for getting the base url and for checking if the website has a sitemap",
   "id": "82c89620a1731cc3"
  },
  {
   "metadata": {
    "ExecuteTime": {
     "end_time": "2024-09-02T22:58:28.987533Z",
     "start_time": "2024-09-02T22:58:28.980888Z"
    }
   },
   "cell_type": "code",
   "source": [
    "\n",
    "\n",
    "\n",
    "SITEMAP_PATHS = [\n",
    "    \"sitemap.xml\",\n",
    "    \"sitemap_index.xml\",\n",
    "    \".sitemap.xml\",\n",
    "    \"sitemap/sitemap.xml\",\n",
    "    \"sitemap_index/sitemap.xml\"\n",
    "]\n",
    "\n",
    "def get_base_url(url):\n",
    "    try:\n",
    "        parsed_url = urlparse(url)\n",
    "        base_url = f\"{parsed_url.scheme}://{parsed_url.netloc}\"\n",
    "        return base_url\n",
    "    except Exception as e:\n",
    "        # print(f\"Error parsing URL {url}: {e}\")\n",
    "        return None\n",
    "\n",
    "def check_sitemap(base_url):\n",
    "    \"\"\"\n",
    "    Check if the given base URL has a sitemap in one of the common paths.\n",
    "    Returns the URL of the sitemap if found, otherwise None.\n",
    "    \"\"\"\n",
    "    for sitemap_path in SITEMAP_PATHS:\n",
    "        sitemap_url = urljoin(base_url, sitemap_path)\n",
    "        try:\n",
    "            response = requests.head(sitemap_url, timeout=10)\n",
    "            # Check if the URL exists and returns a successful status code (200)\n",
    "            if 200 <= response.status_code < 300:\n",
    "                return sitemap_url\n",
    "        except requests.RequestException as e:\n",
    "            # print(f\"Error checking {sitemap_url}: {e}\")\n",
    "            continue\n",
    "    return None\n",
    "\n",
    "def check_sitemap_concurrently(base_urls):\n",
    "    \"\"\"\n",
    "    Checks sitemaps for a list of base URLs concurrently.\n",
    "    Returns a list of results with the base URL and sitemap URL.\n",
    "    \"\"\"\n",
    "    results = []\n",
    "    with ThreadPoolExecutor(max_workers=16) as executor:\n",
    "        futures = {executor.submit(check_sitemap, base_url): base_url for base_url in base_urls}\n",
    "        for future in tqdm(concurrent.futures.as_completed(futures), total=len(futures), desc=\"Checking sitemaps\"):\n",
    "            base_url = futures[future]\n",
    "            sitemap_url = future.result()\n",
    "            if sitemap_url:\n",
    "                results.append([base_url, \"Sitemap found\", sitemap_url])\n",
    "            else:\n",
    "                results.append([base_url, \"No sitemap found\", \"\"])\n",
    "    return results"
   ],
   "id": "be2f786884fe403e",
   "outputs": [],
   "execution_count": 2
  },
  {
   "metadata": {},
   "cell_type": "markdown",
   "source": "### Filtering out the websites that are not accessible that have a site map",
   "id": "f654312a4e74e8f1"
  },
  {
   "metadata": {
    "ExecuteTime": {
     "end_time": "2024-09-02T21:50:14.794230Z",
     "start_time": "2024-09-02T21:47:51.130024Z"
    }
   },
   "cell_type": "code",
   "source": [
    "# reading the csv file and storing the links in the links list\n",
    "links = []\n",
    "with open('furniture stores pages.csv', mode='r', newline='') as file:\n",
    "    csv_reader = csv.reader(file)\n",
    "    for row in csv_reader:\n",
    "        try:\n",
    "            link = get_base_url(row[0])\n",
    "            links.append(link)\n",
    "        except Exception as e:\n",
    "            continue\n",
    "        \n",
    "\n",
    "# Check sitemaps concurrently\n",
    "sitemap_results = check_sitemap_concurrently(links)\n",
    "\n",
    "# Write the results to the output CSV file\n",
    "output_csv = \"sitemap_results.csv\"\n",
    "with open(output_csv, mode='w', newline='', encoding='utf-8') as csvfile:\n",
    "    csvwriter = csv.writer(csvfile)\n",
    "    csvwriter.writerow([\"URL\", \"Status\", \"Sitemap URL\"])  # Header row\n",
    "    csvwriter.writerows(sitemap_results)  # Write all results\n",
    "\n",
    "print(f\"Results saved to {output_csv}.\")"
   ],
   "id": "cbdd1c3171951b50",
   "outputs": [
    {
     "name": "stderr",
     "output_type": "stream",
     "text": [
      "Checking sitemaps: 100%|██████████| 705/705 [02:23<00:00,  4.91it/s]"
     ]
    },
    {
     "name": "stdout",
     "output_type": "stream",
     "text": [
      "Results saved to sitemap_results.csv.\n"
     ]
    },
    {
     "name": "stderr",
     "output_type": "stream",
     "text": [
      "\n"
     ]
    }
   ],
   "execution_count": 3
  },
  {
   "metadata": {},
   "cell_type": "markdown",
   "source": "### Getting the sitemaps from the csv file",
   "id": "53637297a4e4279d"
  },
  {
   "metadata": {
    "ExecuteTime": {
     "end_time": "2024-09-02T22:58:32.168544Z",
     "start_time": "2024-09-02T22:58:32.162103Z"
    }
   },
   "cell_type": "code",
   "source": [
    "# getting only the sitemaps from the csv file\n",
    "sitemaps = []\n",
    "with open('sitemap_results.csv', mode='r', newline='') as file:\n",
    "    csv_reader = csv.reader(file)\n",
    "    for row in csv_reader:\n",
    "        if row[1] != 'No sitemap found':\n",
    "            sitemaps.append(row[2])\n",
    "\n",
    "print(sitemaps[1:], len(sitemaps))"
   ],
   "id": "ddab114938e8c622",
   "outputs": [
    {
     "name": "stdout",
     "output_type": "stream",
     "text": [
      "['https://cane-line.co.uk/sitemap.xml', 'https://edenliving.online/sitemap.xml', 'https://dunlin.com.au/sitemap.xml', 'https://vastinterior.com.au/sitemap.xml', 'https://hemisphereliving.com.au/sitemap.xml', 'https://www.factorybuys.com.au/sitemap.xml', 'https://dhfonline.com/sitemap.xml', 'https://www.tandemarbor.com/sitemap.xml', 'https://www.perchfurniture.com/sitemap.xml', 'https://modshop1.com/sitemap.xml', 'https://www.ourfurniturewarehouse.com.au/sitemap.xml', 'https://www.hudsonfurniture.com.au/sitemap.xml', 'https://www.scandesign.com/sitemap.xml', 'https://www.sofamania.com/sitemap.xml', 'https://www.fentonandfenton.com.au/sitemap.xml', 'https://4-chairs.com/sitemap.xml', 'https://www.knoll.com/sitemap.xml', 'https://acmeshelving.com/sitemap.xml', 'https://claytongrayhome.com/sitemap.xml', 'https://www.do-shop.com/sitemap.xml', 'https://premiumpatio.com.au/sitemap.xml', 'https://www.theinside.com/sitemap.xml', 'https://www.kmpfurniture.com/sitemap.xml', 'https://www.jseitz.com/sitemap.xml', 'https://emfurn.com/sitemap.xml', 'https://24estyle.com/sitemap.xml', 'https://galvinbrothers.co.uk/sitemap.xml', 'https://shopspencerfurnituresiouxfalls.com/sitemap.xml', 'https://bryantscountrystore.com/sitemap.xml', 'https://magnolialane.biz/sitemap.xml', 'https://www.vavoom.com.au/sitemap.xml', 'https://vincentdesign.com.au/sitemap.xml', 'https://www.loungesplus.com.au/sitemap.xml', 'https://www.danishinspirations.com/sitemap_index.xml', 'https://www.yellowleafhammocks.com/sitemap.xml', 'https://www.theguestroomfurniture.com/sitemap.xml', 'https://runyonsfinefurniture.com/sitemap.xml', 'https://karladubois.com/sitemap.xml', 'https://livingedge.com.au/sitemap_index.xml', 'https://viesso.com/sitemap.xml', 'https://www.cranmorehome.com.au/sitemap.xml', 'https://www.fiveelementsfurniture.com/sitemap.xml', 'https://floydhome.com/sitemap.xml', 'https://columbineshowroom.com/sitemap_index.xml', 'https://www.wardrobe-bunk-bed-sofa.uk/sitemap.xml', 'https://www.comfortfurniture.com.sg/sitemap.xml', 'https://www.fads.co.uk/sitemap_index.xml', 'https://mulamu.com/sitemap.xml', 'https://www.timothyoulton.com/sitemap.xml', 'https://www.royaloakfurniture.co.uk/sitemap.xml', 'https://www.hopewells.co.uk/sitemap.xml', 'https://totalpatioaccessories.com/sitemap.xml', 'https://www.jensen-lewis.com/sitemap.xml', 'https://kokocollective.com.au/sitemap.xml', 'https://www.popandscott.com/sitemap.xml', 'https://shophorne.com/sitemap.xml', 'https://cultdesign.co.nz/sitemap.xml', 'https://www.gowfb.com/sitemap.xml', 'https://allwoodfurn.com/sitemap.xml', 'https://lostine.com/sitemap.xml', 'https://www.mainecottage.com/sitemap.xml', 'https://www.somedaydesigns.co.uk/sitemap.xml', 'https://homeresource.com/sitemap.xml', 'https://www.antoninimodernliving.com/sitemap.xml', 'https://www.idcmn.com/sitemap.xml', 'https://urbanfurnishing.net/sitemap.xml', 'https://vancouverwoodworks.com/sitemap.xml', 'https://www.kannoa.com/sitemap.xml', 'https://osmen.com.au/sitemap.xml', 'https://designkollective.com/sitemap.xml', 'https://contempoconcepts.com/sitemap.xml', 'https://www.thefurnituremegastore.co.uk/sitemap.xml', 'https://eurolivingfurniture.com/sitemap.xml', 'https://midinmod.com/sitemap.xml', 'https://hauslondon.com/sitemap.xml', 'https://decorium.us/sitemap.xml', 'https://www.softsquare.com/sitemap.xml', 'https://www.groensfinefurniture.com/sitemap_index.xml', 'https://najarianfurniture.com/sitemap.xml', 'https://huckandpeck.com/sitemap.xml', 'https://qualitywoods.com/sitemap.xml', 'https://www.roccityfurniture.com/sitemap.xml', 'https://craftassociatesfurniture.com/sitemap.xml', 'https://huset-shop.com/sitemap.xml', 'https://sika-design.com/sitemap.xml', 'https://www.scotmeachamwoodhome.com/sitemap.xml', 'https://thebellacottage.com/sitemap.xml', 'https://www.skandium.com/sitemap.xml', 'https://sjotime.com/sitemap.xml', 'https://www.woodwaves.com/sitemap.xml', 'https://jeremiahcollection.com/sitemap.xml', 'https://littlepartners.com/sitemap.xml', 'https://thefinestore.com/sitemap.xml', 'https://lorfords.com/sitemap.xml', 'https://www.arighibianchi.co.uk/sitemap.xml', 'https://idlehands.design/sitemap.xml', 'https://thewoodroom.com.au/sitemap.xml', 'https://thebanyantree.com.au/sitemap.xml', 'https://hauserstores.com/sitemap.xml', 'https://boahaus.com/sitemap.xml', 'https://www.sutherlandfurniture.com/sitemap_index.xml', 'https://apato.com.au/sitemap.xml', 'https://www.living-home.co.uk/sitemap.xml', 'https://relm.com.au/sitemap.xml', 'https://ardoutdoor.com/sitemap.xml', 'https://www.hatihome.com/sitemap.xml', 'https://modernkomfort.ca/sitemap.xml', 'https://www.aarniooriginals.com/sitemap.xml', 'https://hedgehousefurniture.com/sitemap.xml', 'https://livingbydesign.net.au/sitemap.xml', 'https://alasaw.com/sitemap.xml', 'https://classicwithatwist.com.au/sitemap.xml', 'https://chansfurniture.com/sitemap.xml', 'https://www.ameriwoodhome.com/sitemap.xml', 'https://shop.vanillawood.com/sitemap.xml', 'https://www.morningstartrading.ca/sitemap.xml', 'https://oakforless.com/sitemap.xml', 'http://www.mountainteak.com/sitemap.xml', 'https://www.getmycouch.com/sitemap.xml', 'https://www.lestudiolum.com/sitemap.xml', 'https://homestreethome.ie/sitemap.xml', 'https://www.myconcept.com.hk/sitemap.xml', 'https://www.homeandstyle.com.sg/sitemap.xml', 'https://vauntdesign.com/sitemap.xml', 'https://www.kolocollection.com/sitemap.xml', 'https://furnitica-vinova.myshopify.com/sitemap.xml', 'https://asianteakfurniture.com/sitemap.xml', 'https://jordanshome.ca/sitemap.xml', 'https://urbangalleria.com/sitemap.xml', 'https://barnabylane.com.au/sitemap.xml', 'https://teak-warehouse-sale.com/sitemap.xml', 'https://teak-furniture-singapore.com/sitemap.xml', 'https://www.granitelane.com.au/sitemap.xml', 'https://mikazahome.ca/sitemap.xml', 'https://loft-theme-demo-nashville.myshopify.com/sitemap.xml', 'https://teakco.com/sitemap.xml', 'https://www.stylemyhome.com.au/sitemap.xml', 'https://boulevardoutdoorfurniture.com/sitemap.xml', 'https://www.modernfurniture.com.au/sitemap.xml', 'https://big-sale-furniture.com/sitemap.xml', 'https://www.skovby.com/sitemap.xml', 'https://www.modishstore.com/sitemap.xml', 'https://candb.ca/sitemap.xml', 'https://www.blackmango.com.au/sitemap.xml', 'https://brownandbeam.com/sitemap.xml', 'https://www.oopenspace.com/sitemap.xml', 'https://jnmhome.ca/sitemap.xml', 'https://furniturestoresalemoregon.com/sitemap.xml', 'https://taeillo.com/sitemap.xml', 'https://vintage-etc.com/sitemap.xml', 'https://www.hamac-shop.be/sitemap.xml', 'https://www.masayacompany.com/sitemap.xml', 'https://www.youngath-art.com/sitemap.xml', 'https://arkaliving.com/sitemap.xml', 'https://thonet.co.nz/sitemap.xml', 'https://www.oakvillage.co.uk/sitemap.xml', 'http://www.diamondfurniturepremier.com/sitemap.xml', 'https://www.cmphouse.com/sitemap.xml', 'https://www.212concept.com/sitemap.xml', 'https://vintagehomeboutique.ca/sitemap.xml', 'https://bydesignmodern.com/sitemap.xml', 'https://www.couchpotatocompany.com/sitemap.xml', 'https://www.laura-james.co.uk/sitemap.xml', 'https://www.stacksfurniture.co.nz/sitemap.xml', 'https://taktcph.com/sitemap_index.xml', 'https://atomi.shop/sitemap.xml', 'https://pastperfect.sg/sitemap_index.xml', 'https://emesfurnishop.co.uk/sitemap.xml', 'https://mossgardenhome.com/sitemap.xml', 'https://www.amcfurniture.co.uk/sitemap.xml', 'https://www.mydiscountmalta.com/sitemap.xml', 'https://timelessdesign.com.my/sitemap.xml', 'https://lazysusansusa.com/sitemap.xml', 'https://ifurnituresupply.com/sitemap.xml', 'https://nyfurnitureoutlets.com/sitemap_index.xml', 'https://www.willowcreekteak.com/sitemap.xml', 'https://hklivingusa.com/sitemap.xml', 'https://foxwoodmerchants.com/sitemap.xml', 'https://www.ambersfurniture.com/sitemap.xml', 'https://fredericksgallery.ca/sitemap.xml', 'https://www.18karatstore.com/sitemap.xml', 'https://www.equilibriumfurnishings.com/sitemap.xml', 'https://mildanmarket.com/sitemap.xml', 'https://designhouse.com/sitemap.xml', 'http://veranda.com.au/sitemap.xml', 'https://www.insaraf.com/sitemap.xml', 'https://www.lakkadhaara.com/sitemap.xml', 'https://homedesignstoreflorida.com/sitemap.xml', 'https://www.nsquarestudio.com/sitemap.xml', 'https://bedesign.fi/sitemap.xml', 'https://scanteak.com.sg/sitemap.xml', 'http://roomyroom.com/sitemap.xml', 'http://www.komodromos.com.cy/sitemap_index.xml', 'https://www.finnavenue.com/sitemap.xml', 'https://singaporetradingpost.com/sitemap.xml', 'https://singapore-furniture-sale.com/sitemap.xml', 'https://wholesaleclassicfurniture.com/sitemap.xml', 'https://1outdoorfurniture.com/sitemap.xml', 'https://hemma.sg/sitemap.xml', 'https://wholesaleteakcompany.com/sitemap.xml', 'https://www.ministryofchair.com/sitemap.xml', 'https://www.novena.com.sg/sitemap.xml', 'https://houseofanli.com/sitemap.xml', 'https://www.vetrohome.com/sitemap.xml', 'https://www.nookandcranny.com/sitemap.xml', 'https://www.gowanusfurniture.com/sitemap.xml', 'https://alteriors.ca/sitemap.xml', 'https://ilrestaurato.com/sitemap.xml', 'https://onske.co.uk/sitemap.xml', 'https://syscomseatings.com/sitemap_index.xml', 'https://www.zavedo.nz/sitemap.xml', 'https://www.hammockshop.co.nz/sitemap.xml', 'https://www.corcovado.co.nz/sitemap.xml', 'https://www.lujo.co.nz/sitemap.xml', 'https://www.shopden-la.com/sitemap.xml', 'https://sofasandmore.co.nz/sitemap.xml', 'https://warehaus.sg/sitemap.xml', 'https://www.bandhinidesign.com/sitemap.xml', 'https://kubekfurniture.com/sitemap.xml', 'https://modernhomefurniture.com.au/sitemap.xml', 'https://augustusbrandt.co.uk/sitemap.xml', 'https://www.zipchair.com/sitemap.xml', 'https://maximahouse.com/sitemap.xml', 'https://woodaction.com/sitemap.xml', 'https://homesteadfurniturebc.com/sitemap.xml', 'https://popstrukt.com/sitemap.xml', 'https://dkmodernfurniture.com/sitemap.xml', 'https://www.case22.com.au/sitemap.xml', 'https://www.rimufurniture.co.nz/sitemap_index.xml', 'https://studioydesign.ca/sitemap.xml', 'https://pure-patio.com/sitemap.xml', 'https://jubileefurniturelv.com/sitemap.xml', 'https://interiorsinvogue.com/sitemap.xml', 'https://rigersfitness.com/sitemap.xml', 'https://ezzo.co.uk/sitemap.xml', 'https://sakhome.co.uk/sitemap.xml', 'https://huxlo.co.uk/sitemap.xml', 'https://www.furnituresales.com.au/sitemap.xml', 'https://avehome.com/sitemap.xml', 'https://elephanthead.co.uk/sitemap.xml', 'https://www.mantrafurnishings.com/sitemap.xml', 'https://www.coolstuffandaccessories.com/sitemap.xml', 'https://denvermodern.com/sitemap.xml', 'https://www.henryandoliverco.com/sitemap.xml', 'https://www.interiorliving.ca/sitemap.xml', 'https://french-classic-furniture.com/sitemap.xml', 'https://habitekshop.com/sitemap.xml', 'https://plankandpipe.co.uk/sitemap.xml', 'https://www.greensladesfurniture.co.nz/sitemap.xml', 'https://www.polyteakoutdoor.com/sitemap.xml', 'https://www.souk.co.nz/sitemap.xml', 'https://shop-ames-interiors.com/sitemap_index.xml', 'https://newstartfurniture.com.au/sitemap.xml', 'https://www.thedesignedit.com.au/sitemap.xml', 'https://www.therusticfurniturestore.com/sitemap.xml', 'https://dormahome.com/sitemap.xml', 'https://yoyo.co.nz/sitemap.xml', 'https://mahliainteriors.com.au/sitemap.xml', 'https://choufani.com/sitemap.xml', 'https://panana.co.uk/sitemap.xml', 'https://copperbarnhome.com/sitemap.xml', 'https://www.ofo.com.au/sitemap.xml', 'https://www.generalstorefurniture.com.au/sitemap.xml', 'https://www.simpli-home.com/sitemap.xml', 'https://mrnanyang.com/sitemap.xml', 'https://www.mykahome.com.au/sitemap.xml', 'https://www.furniturecontracts.com.au/sitemap.xml', 'https://www.naturalgeo.com/sitemap.xml', 'https://hamptonsstyle.com.au/sitemap.xml', 'https://home-evolution.com/sitemap.xml', 'https://www.innerspace.net.au/sitemap.xml', 'https://bydesigntexas.com/sitemap.xml', 'https://www.blockandchisel.co.za/sitemap.xml', 'https://grandads-shed.com/sitemap.xml', 'https://lavida-furniture.com/sitemap.xml', 'https://rawmaterials.eu/sitemap.xml', 'https://modernityvintage.com/sitemap.xml', 'https://www.smallspaceplus.com/sitemap.xml', 'https://limitedabode.co.uk/sitemap.xml', 'https://luxstreet.com.au/sitemap_index.xml', 'https://www.totemroad.com/sitemap.xml', 'https://whataroom.com/sitemap.xml', 'https://mintffe.com.au/sitemap_index.xml', 'https://www.byronbayhangingchairs.com.au/sitemap.xml', 'https://www.homebarsusa.com/sitemap.xml', 'https://www.wellhunghammocks.com/sitemap.xml', 'https://nofred.com/sitemap.xml', 'https://brisbanefurniture.com.au/sitemap.xml', 'https://midcenturymasters.com/sitemap.xml', 'https://www.ledecostyle.com/sitemap.xml', 'https://primrosehomeware.co.uk/sitemap.xml', 'https://www.classic2modern.com/sitemap.xml', 'https://www.theimporter.co.nz/sitemap.xml', 'https://www.mrandmrswhite.net/sitemap.xml', 'https://circa60.com/sitemap.xml', 'https://thecountryfurniture.com/sitemap.xml', 'https://reecefurniture.com/sitemap.xml', 'https://ulfertskids.com/sitemap.xml', 'https://www.prestige-affairs.com/sitemap.xml', 'https://www.thecurious.mx/sitemap.xml', 'https://www.smithmade.com.au/sitemap.xml', 'https://vanspecial.com/sitemap.xml', 'https://www.canvasinteriors.com/sitemap.xml', 'https://www.autonomousfurniture.com/sitemap.xml', 'https://parliamentinteriors.com/sitemap.xml', 'https://elinahome.com/sitemap.xml', 'https://finditstyleithome.com.au/sitemap.xml', 'https://medleyhome.com/sitemap.xml', 'https://www.sunshinefurniture.com.au/sitemap.xml', 'https://shop.humblecrew.com/sitemap.xml', 'http://mollanbros.co.uk/sitemap.xml', 'https://atouchoffurniture.co.uk/sitemap.xml', 'https://tiger-oak.com/sitemap.xml', 'https://jordansinteriors.ca/sitemap.xml', 'https://www.georgestreet.co.uk/sitemap.xml', 'https://bestfurniture.co.nz/sitemap.xml', 'https://lexiconhome.com/sitemap.xml', 'http://camerich-bd.com/sitemap.xml', 'https://adona.in/sitemap.xml', 'https://nativelifestyle.co.uk/sitemap.xml', 'https://yourpatiostore.com/sitemap.xml', 'https://bohincstudio.com/sitemap.xml', 'https://ingoodcompany.com.au/sitemap.xml', 'https://rutherford-romaguera2611.myshopify.com/sitemap.xml', 'https://www.needlerock.co.uk/sitemap_index.xml', 'https://www.saladinostyle.com/sitemap.xml', 'https://finelinefurnitureandaccessories.com/sitemap.xml', 'https://bungalowfurniture.com/sitemap.xml', 'https://donar.si/sitemap.xml', 'https://foreverfurniture.ca/sitemap.xml', 'https://www.countrytime.ca/sitemap_index.xml', 'https://www.gblfurniture.com/sitemap.xml', 'https://www.hopperstudio.com/sitemap.xml', 'https://www.centralliving.co.uk/sitemap.xml', 'https://www.therejectshop.sg/sitemap.xml', 'https://www.angliarecliners.co.uk/sitemap_index.xml', 'https://pepegarden.co.uk/sitemap.xml', 'https://hilaryandflo.co.uk/sitemap.xml', 'https://settlehome.co.uk/sitemap.xml', 'https://shannonsales.co.uk/sitemap.xml', 'https://www.simplyhammocks.co.uk/sitemap.xml', 'https://tiffanyjayne.co.uk/sitemap.xml', 'https://www.whytesofcrossgar.co.uk/sitemap.xml', 'https://lloydloom-uk.co.uk/sitemap.xml', 'https://www.askewsfurniture.co.uk/sitemap.xml', 'https://www.royalcraft.co.uk/sitemap.xml', 'https://www.dillamores.co.uk/sitemap.xml', 'https://www.bridgnorthfurniture.co.uk/sitemap.xml', 'https://www.theattikstannes.co.uk/sitemap.xml', 'https://thefurniture-house.co.uk/sitemap.xml', 'http://davidmoura.co.uk/sitemap.xml', 'https://www.theurbaneditions.com/sitemap.xml', 'https://furnituredirectonline.co.uk/sitemap.xml', 'https://furniturebylauren.co.uk/sitemap_index.xml', 'https://furniturevilla.co.uk/sitemap.xml', 'https://hanchicsfurniture.co.uk/sitemap.xml', 'https://www.nabisottomanfurniture.co.uk/sitemap.xml', 'https://www.poppiesfurnituredirect.co.uk/sitemap.xml', 'https://www.simplyhomeinteriors.co.uk/sitemap.xml', 'https://www.littletulip.com/sitemap.xml', 'https://uniquehomefurnishing.co.uk/sitemap.xml', 'https://urbansize.co.uk/sitemap.xml', 'https://www.abowed.co.uk/sitemap.xml', 'https://www.rightprice.co.uk/sitemap.xml', 'https://www.modernfurnituredeals.co.uk/sitemap.xml', 'https://www.grandadsshedbrigg.co.uk/sitemap_index.xml', 'https://www.maisonandgarden.co.uk/sitemap.xml', 'https://www.quaysideinteriors.co.uk/sitemap.xml', 'https://rusticland.co.uk/sitemap.xml', 'https://chelseafurnishings.co.uk/sitemap.xml', 'https://www.arfurnishings.co.uk/sitemap.xml', 'https://hemmingandwills.co.uk/sitemap.xml', 'https://elegancehomefurniture.co.uk/sitemap.xml', 'https://www.decoframe.co.uk/sitemap.xml', 'https://www.onlydiningchairs.com.au/sitemap.xml', 'https://afg.us.com/sitemap.xml', 'https://www.collectioni.com/sitemap.xml', 'https://www.myharmony.hk/sitemap.xml', 'https://savannahspace.com/sitemap.xml', 'https://www.sundays-company.com/sitemap.xml', 'https://thebeachfurniture.com.au/sitemap.xml', 'https://squarehome.com/sitemap.xml', 'https://furnituremama.com/sitemap.xml', 'https://derwenthouseliving.co.uk/sitemap_index.xml', 'https://signaturefinefurniture.ca/sitemap_index.xml'] 386\n"
     ]
    }
   ],
   "execution_count": 3
  },
  {
   "metadata": {},
   "cell_type": "markdown",
   "source": "### Methods for getting the links from the sitemaps",
   "id": "7212ef201c988cf9"
  },
  {
   "metadata": {
    "ExecuteTime": {
     "end_time": "2024-09-02T22:58:44.863352Z",
     "start_time": "2024-09-02T22:58:44.853437Z"
    }
   },
   "cell_type": "code",
   "source": [
    "def get_data(url):\n",
    "    response = requests.get(url)\n",
    "    return response.text\n",
    "\n",
    "def is_valid_product_link(url):\n",
    "    # Exclude common unwanted patterns\n",
    "    unwanted_patterns = ['.jpg', '.jpeg', '.png', '.gif', '.svg', '.css', '.js', '.ico', 'tel:', 'mailto:', '#']\n",
    "    for pattern in unwanted_patterns:\n",
    "        if pattern in url:\n",
    "            return False\n",
    "    # Only accept URLs that contain \"collections\" or \"products\"\n",
    "    if '/products/' in url: # or  'collections' in url: - right now I will only focus on the products path\n",
    "        return True\n",
    "    return False\n",
    "\n",
    "def is_desired_site_map_link(url): #  \n",
    "    # Only accept URLs that contain \"sitemap\"\n",
    "    if 'sitemap_products_1.xml' in url: # most website have this in the url that I am looking for\n",
    "        return True\n",
    "    return False\n",
    "\n",
    "\n",
    "dict_href_links = {}\n",
    "\n",
    "def get_links_from_sitemap(website_link): # modified version from the one in the other notebook\n",
    "    # Set the base of the URL depending on whether \"collections\" or \"products\" is in the link\n",
    "    website_origin = website_link\n",
    "    sitemap_index = website_link.find('/sitemap')\n",
    "    if sitemap_index == -1:\n",
    "        sitemap_index = website_link.find('/.sitemap')\n",
    "    if sitemap_index != -1:\n",
    "        website_origin = website_link[:sitemap_index + 1] \n",
    "\n",
    "    html_data = get_data(website_link)\n",
    "    soup = BeautifulSoup(html_data, \"html.parser\")\n",
    "    list_links = []\n",
    "\n",
    "    for link in soup.find_all(\"loc\"): # this contains the links inside xml files\n",
    "        link = link.text\n",
    "        # Filter out invalid links (non-product/collection pages)\n",
    "        \n",
    "        if not is_valid_product_link(link) and not is_desired_site_map_link(link): \n",
    "            continue\n",
    "        \n",
    "        link_to_append = None\n",
    "\n",
    "        # Handle absolute URLs that start with the origin\n",
    "        if link.startswith(str(website_origin)):\n",
    "            link_to_append = link\n",
    "        \n",
    "        # Handle relative URLs that start with \"/\"\n",
    "        elif link.startswith(\"/\"):\n",
    "            #print(href)\n",
    "            link_with_www = website_origin + link[1:]\n",
    "            #print(\"adjusted link =\", link_with_www)\n",
    "            link_to_append = link_with_www\n",
    "        \n",
    "\n",
    "        \n",
    "        # If link_to_append is not None, check if it's already in dict_href_links and if it's accessible\n",
    "        if link_to_append is not None:\n",
    "            if link_to_append not in dict_href_links: #  and check_website(link_to_append) - I will not check the links here, I will check them after I get all the links\n",
    "                dict_href_links[link_to_append] = None  # Mark it as seen\n",
    "\n",
    "                list_links.append(link_to_append)\n",
    "\n",
    "    # Convert list of links to a dictionary with \"Not-checked\" as the default value for each\n",
    "    dict_links = dict.fromkeys(list_links, \"Not-checked\")\n",
    "    return dict_links\n",
    "\n",
    "def get_subpage_links(l, max_depth=3, current_depth=0, write_frequency=500, csv_filename=\"link_data.csv\"):\n",
    "    processed_links_count = 0\n",
    "    \n",
    "    if current_depth >= max_depth:\n",
    "        return l\n",
    "\n",
    "    with ThreadPoolExecutor(max_workers=32) as executor:\n",
    "        futures = {executor.submit(get_links_from_sitemap, link): link for link in l if l[link] == \"Not-checked\"}\n",
    "        \n",
    "        for future in tqdm(concurrent.futures.as_completed(futures), total=len(futures), desc=\"Processing subpage links\"):\n",
    "            link = futures[future]\n",
    "            try:\n",
    "                dict_links_subpages = future.result()\n",
    "            except Exception as e:\n",
    "                print(f\"Error fetching {link}: {e}\")\n",
    "                continue\n",
    "            l[link] = \"Checked\"\n",
    "            l.update(dict_links_subpages)\n",
    "\n",
    "            processed_links_count += 1\n",
    "            \n",
    "            # Write to file every 'write_frequency' processed links\n",
    "            if processed_links_count >= write_frequency:\n",
    "                write_links_to_csv(l, csv_filename)\n",
    "                processed_links_count = 0  # Reset the counter\n",
    "\n",
    "    # Recursively call the function for the next depth level\n",
    "    return get_subpage_links(l, max_depth, current_depth + 1, write_frequency, csv_filename)\n",
    "\n",
    "def write_links_to_csv(links_dict, csv_filename):\n",
    "    \"\"\"Writes the current state of the links dictionary to a CSV file.\"\"\"\n",
    "    with open(csv_filename, \"w\", newline='') as csvfile:\n",
    "        csvwriter = csv.writer(csvfile)\n",
    "        for link in links_dict.keys():\n",
    "            csvwriter.writerow([link])\n",
    "\n",
    "    print(f\"Links saved to {csv_filename}.\")\n"
   ],
   "id": "340ba3461c63f04a",
   "outputs": [],
   "execution_count": 4
  },
  {
   "metadata": {},
   "cell_type": "markdown",
   "source": "### Getting the links from the sitemaps\n",
   "id": "edc385befce0d660"
  },
  {
   "metadata": {
    "jupyter": {
     "is_executing": true
    },
    "ExecuteTime": {
     "start_time": "2024-09-02T22:58:49.410459Z"
    }
   },
   "cell_type": "code",
   "source": [
    "# we gather all the links from some pages\n",
    "\n",
    "# we test with the first page inside the final_links csv\n",
    "\n",
    "websites = sitemaps[1:]  # exclude the first row\n",
    "# create dictionary of website\n",
    "dict_links = { website : \"Not-checked\" for website in websites }\n",
    "\n",
    "counter, counter2 = None, 0\n",
    "csv_filename = \"link_data.csv\"\n",
    "\n",
    "while counter != 0:\n",
    "    counter2 += 1\n",
    "    dict_links2 = get_subpage_links(dict_links, csv_filename=csv_filename)\n",
    "    counter = operator.countOf(dict_links2.values(), \"Not-checked\")  # Number of \"Not-checked\" links\n",
    "    \n",
    "    # Print some statements for debugging\n",
    "    print(\"\")\n",
    "    print(\"THIS IS LOOP ITERATION NUMBER\", counter2)\n",
    "    print(\"LENGTH OF DICTIONARY WITH LINKS =\", len(dict_links2))\n",
    "    print(\"NUMBER OF 'Not-checked' LINKS = \", counter)\n",
    "    print(\"\")\n",
    "    \n",
    "    dict_links = dict_links2\n",
    "    \n",
    "\n",
    "write_links_to_csv(dict_links, csv_filename)\n",
    "\n",
    "print(\"Links saved to link_data.csv.\")"
   ],
   "id": "1d9434319c325b31",
   "outputs": [
    {
     "name": "stderr",
     "output_type": "stream",
     "text": [
      "Processing subpage links:   0%|          | 0/385 [00:00<?, ?it/s]C:\\Python312\\Lib\\html\\parser.py:171: XMLParsedAsHTMLWarning: It looks like you're parsing an XML document using an HTML parser. If this really is an HTML document (maybe it's XHTML?), you can ignore or filter this warning. If it's XML, you should know that using an XML parser will be more reliable. To parse this document as XML, make sure you have the lxml package installed, and pass the keyword argument `features=\"xml\"` into the BeautifulSoup constructor.\n",
      "  k = self.parse_starttag(i)\n",
      "Processing subpage links: 100%|██████████| 385/385 [00:08<00:00, 43.35it/s]\n",
      "Processing subpage links:   2%|▏         | 533/32551 [00:17<05:45, 92.58it/s] "
     ]
    },
    {
     "name": "stdout",
     "output_type": "stream",
     "text": [
      "Links saved to link_data.csv.\n"
     ]
    },
    {
     "name": "stderr",
     "output_type": "stream",
     "text": [
      "Processing subpage links:   3%|▎         | 1034/32551 [00:36<10:40, 49.20it/s] "
     ]
    },
    {
     "name": "stdout",
     "output_type": "stream",
     "text": [
      "Links saved to link_data.csv.\n"
     ]
    },
    {
     "name": "stderr",
     "output_type": "stream",
     "text": [
      "Processing subpage links:   5%|▍         | 1500/32551 [01:15<2:32:59,  3.38it/s]"
     ]
    },
    {
     "name": "stdout",
     "output_type": "stream",
     "text": [
      "Links saved to link_data.csv.\n"
     ]
    },
    {
     "name": "stderr",
     "output_type": "stream",
     "text": [
      "Processing subpage links:   6%|▌         | 2000/32551 [01:36<56:18,  9.04it/s]  "
     ]
    },
    {
     "name": "stdout",
     "output_type": "stream",
     "text": [
      "Links saved to link_data.csv.\n"
     ]
    },
    {
     "name": "stderr",
     "output_type": "stream",
     "text": [
      "Processing subpage links:   8%|▊         | 2551/32551 [01:56<13:31, 36.99it/s]  "
     ]
    },
    {
     "name": "stdout",
     "output_type": "stream",
     "text": [
      "Links saved to link_data.csv.\n"
     ]
    },
    {
     "name": "stderr",
     "output_type": "stream",
     "text": [
      "Processing subpage links:   8%|▊         | 2707/32551 [02:02<22:40, 21.94it/s]"
     ]
    }
   ],
   "execution_count": null
  },
  {
   "metadata": {},
   "cell_type": "code",
   "outputs": [],
   "execution_count": null,
   "source": "",
   "id": "560a06202edd9f12"
  }
 ],
 "metadata": {
  "kernelspec": {
   "display_name": "Python 3",
   "language": "python",
   "name": "python3"
  },
  "language_info": {
   "codemirror_mode": {
    "name": "ipython",
    "version": 2
   },
   "file_extension": ".py",
   "mimetype": "text/x-python",
   "name": "python",
   "nbconvert_exporter": "python",
   "pygments_lexer": "ipython2",
   "version": "2.7.6"
  }
 },
 "nbformat": 4,
 "nbformat_minor": 5
}
