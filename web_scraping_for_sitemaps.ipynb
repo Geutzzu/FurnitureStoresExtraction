{
 "cells": [
  {
   "metadata": {},
   "cell_type": "markdown",
   "source": [
    "# Web scraping the sites that contain site maps\n",
    "\n",
    "This notebook aims to gather all the data from multiple websites that contain site maps. The target is to get as many product websites from different pages with as many different furniture types as possible."
   ],
   "id": "7c6a352b9f6cb4a9"
  },
  {
   "cell_type": "code",
   "id": "initial_id",
   "metadata": {
    "collapsed": true,
    "ExecuteTime": {
     "end_time": "2024-09-13T20:19:48.554451Z",
     "start_time": "2024-09-13T20:19:48.090878Z"
    }
   },
   "source": [
    "# importing libraries\n",
    "\n",
    "import csv \n",
    "import operator\n",
    "import re\n",
    "\n",
    "import sys\n",
    "\n",
    "import requests\n",
    "from tqdm import tqdm \n",
    "from bs4 import BeautifulSoup\n",
    "\n",
    "from concurrent.futures import ThreadPoolExecutor\n",
    "import concurrent\n",
    "\n",
    "from urllib.parse import urlparse\n",
    "from urllib.parse import urljoin\n",
    "\n",
    "from collections import defaultdict"
   ],
   "outputs": [],
   "execution_count": 1
  },
  {
   "metadata": {},
   "cell_type": "markdown",
   "source": "### Methods for getting the base url and for checking if the website has a sitemap",
   "id": "82c89620a1731cc3"
  },
  {
   "metadata": {
    "ExecuteTime": {
     "end_time": "2024-09-13T20:34:01.421364Z",
     "start_time": "2024-09-13T20:34:01.414696Z"
    }
   },
   "cell_type": "code",
   "source": [
    "\n",
    "\n",
    "\n",
    "SITEMAP_PATHS = [\n",
    "    \"sitemap.xml\",\n",
    "    \"sitemap_index.xml\",\n",
    "    \".sitemap.xml\",\n",
    "    \"sitemap/sitemap.xml\",\n",
    "    \"sitemap_index/sitemap.xml\"\n",
    "]\n",
    "\n",
    "def get_base_url(url):\n",
    "    try:\n",
    "        parsed_url = urlparse(url)\n",
    "        base_url = f\"{parsed_url.scheme}://{parsed_url.netloc}\"\n",
    "        return base_url\n",
    "    except Exception as e:\n",
    "        # print(f\"Error parsing URL {url}: {e}\")\n",
    "        return None\n",
    "\n",
    "def check_sitemap(base_url):\n",
    "    \"\"\"\n",
    "    Check if the given base URL has a sitemap in one of the common paths.\n",
    "    Returns the URL of the sitemap if found, otherwise None.\n",
    "    \"\"\"\n",
    "    for sitemap_path in SITEMAP_PATHS:\n",
    "        sitemap_url = urljoin(base_url, sitemap_path)\n",
    "        try:\n",
    "            response = requests.head(sitemap_url, timeout=10)\n",
    "            # Check if the URL exists and returns a successful status code (200)\n",
    "            if 200 <= response.status_code < 300:\n",
    "                return sitemap_url\n",
    "        except requests.RequestException as e:\n",
    "            # print(f\"Error checking {sitemap_url}: {e}\")\n",
    "            continue\n",
    "    return None\n",
    "\n",
    "def check_sitemap_concurrently(base_urls):\n",
    "    \"\"\"\n",
    "    Checks sitemaps for a list of base URLs concurrently.\n",
    "    Returns a list of results with the base URL and sitemap URL.\n",
    "    \"\"\"\n",
    "    results = []\n",
    "    with ThreadPoolExecutor(max_workers=16) as executor:\n",
    "        futures = {executor.submit(check_sitemap, base_url): base_url for base_url in base_urls}\n",
    "        for future in tqdm(concurrent.futures.as_completed(futures), total=len(futures), desc=\"Checking sitemaps\"):\n",
    "            base_url = futures[future]\n",
    "            sitemap_url = future.result()\n",
    "            if sitemap_url:\n",
    "                results.append([base_url, \"Sitemap found\", sitemap_url])\n",
    "            else:\n",
    "                results.append([base_url, \"No sitemap found\", \"\"])\n",
    "    return results"
   ],
   "id": "be2f786884fe403e",
   "outputs": [],
   "execution_count": 13
  },
  {
   "metadata": {},
   "cell_type": "markdown",
   "source": "### Filtering out the websites that are not accessible that have a site map",
   "id": "f654312a4e74e8f1"
  },
  {
   "metadata": {},
   "cell_type": "code",
   "source": [
    "# reading the csv file and storing the links in the links list\n",
    "links = []\n",
    "with open('Data/furniture stores pages.csv', mode='r', newline='') as file:\n",
    "    csv_reader = csv.reader(file)\n",
    "    for row in csv_reader:\n",
    "        try:\n",
    "            link = get_base_url(row[0])\n",
    "            links.append(link)\n",
    "        except Exception as e:\n",
    "            continue\n",
    "        \n",
    "\n",
    "# Check sitemaps concurrently\n",
    "sitemap_results = check_sitemap_concurrently(links)\n",
    "\n",
    "# Write the results to the output CSV file\n",
    "output_csv = \"sitemap_results.csv\"\n",
    "with open(output_csv, mode='w', newline='', encoding='utf-8') as csvfile:\n",
    "    csvwriter = csv.writer(csvfile)\n",
    "    csvwriter.writerow([\"URL\", \"Status\", \"Sitemap URL\"])  # Header row\n",
    "    csvwriter.writerows(sitemap_results)  # Write all results\n",
    "\n",
    "print(f\"Results saved to {output_csv}.\")"
   ],
   "id": "cbdd1c3171951b50",
   "outputs": [],
   "execution_count": null
  },
  {
   "metadata": {},
   "cell_type": "markdown",
   "source": "### Getting the sitemaps from the csv file",
   "id": "53637297a4e4279d"
  },
  {
   "metadata": {
    "ExecuteTime": {
     "end_time": "2024-09-06T19:38:45.507357Z",
     "start_time": "2024-09-06T19:38:45.499350Z"
    }
   },
   "cell_type": "code",
   "source": [
    "# getting only the sitemaps from the csv file\n",
    "sitemaps = []\n",
    "with open('sitemap_results.csv', mode='r', newline='') as file:\n",
    "    csv_reader = csv.reader(file)\n",
    "    for row in csv_reader:\n",
    "        if row[1] != 'No sitemap found':\n",
    "            sitemaps.append(row[2])\n",
    "\n",
    "print(sitemaps[1:], len(sitemaps))"
   ],
   "id": "ddab114938e8c622",
   "outputs": [
    {
     "name": "stdout",
     "output_type": "stream",
     "text": [
      "['https://cane-line.co.uk/sitemap.xml', 'https://edenliving.online/sitemap.xml', 'https://dunlin.com.au/sitemap.xml', 'https://vastinterior.com.au/sitemap.xml', 'https://hemisphereliving.com.au/sitemap.xml', 'https://www.factorybuys.com.au/sitemap.xml', 'https://dhfonline.com/sitemap.xml', 'https://www.tandemarbor.com/sitemap.xml', 'https://www.perchfurniture.com/sitemap.xml', 'https://modshop1.com/sitemap.xml', 'https://www.ourfurniturewarehouse.com.au/sitemap.xml', 'https://www.hudsonfurniture.com.au/sitemap.xml', 'https://www.scandesign.com/sitemap.xml', 'https://www.sofamania.com/sitemap.xml', 'https://www.fentonandfenton.com.au/sitemap.xml', 'https://4-chairs.com/sitemap.xml', 'https://www.knoll.com/sitemap.xml', 'https://acmeshelving.com/sitemap.xml', 'https://claytongrayhome.com/sitemap.xml', 'https://www.do-shop.com/sitemap.xml', 'https://premiumpatio.com.au/sitemap.xml', 'https://www.theinside.com/sitemap.xml', 'https://www.kmpfurniture.com/sitemap.xml', 'https://www.jseitz.com/sitemap.xml', 'https://emfurn.com/sitemap.xml', 'https://24estyle.com/sitemap.xml', 'https://galvinbrothers.co.uk/sitemap.xml', 'https://shopspencerfurnituresiouxfalls.com/sitemap.xml', 'https://bryantscountrystore.com/sitemap.xml', 'https://magnolialane.biz/sitemap.xml', 'https://www.vavoom.com.au/sitemap.xml', 'https://vincentdesign.com.au/sitemap.xml', 'https://www.loungesplus.com.au/sitemap.xml', 'https://www.danishinspirations.com/sitemap_index.xml', 'https://www.yellowleafhammocks.com/sitemap.xml', 'https://www.theguestroomfurniture.com/sitemap.xml', 'https://runyonsfinefurniture.com/sitemap.xml', 'https://karladubois.com/sitemap.xml', 'https://livingedge.com.au/sitemap_index.xml', 'https://viesso.com/sitemap.xml', 'https://www.cranmorehome.com.au/sitemap.xml', 'https://www.fiveelementsfurniture.com/sitemap.xml', 'https://floydhome.com/sitemap.xml', 'https://columbineshowroom.com/sitemap_index.xml', 'https://www.wardrobe-bunk-bed-sofa.uk/sitemap.xml', 'https://www.comfortfurniture.com.sg/sitemap.xml', 'https://www.fads.co.uk/sitemap_index.xml', 'https://mulamu.com/sitemap.xml', 'https://www.timothyoulton.com/sitemap.xml', 'https://www.royaloakfurniture.co.uk/sitemap.xml', 'https://www.hopewells.co.uk/sitemap.xml', 'https://totalpatioaccessories.com/sitemap.xml', 'https://www.jensen-lewis.com/sitemap.xml', 'https://kokocollective.com.au/sitemap.xml', 'https://www.popandscott.com/sitemap.xml', 'https://shophorne.com/sitemap.xml', 'https://cultdesign.co.nz/sitemap.xml', 'https://www.gowfb.com/sitemap.xml', 'https://allwoodfurn.com/sitemap.xml', 'https://lostine.com/sitemap.xml', 'https://www.mainecottage.com/sitemap.xml', 'https://www.somedaydesigns.co.uk/sitemap.xml', 'https://homeresource.com/sitemap.xml', 'https://www.antoninimodernliving.com/sitemap.xml', 'https://www.idcmn.com/sitemap.xml', 'https://urbanfurnishing.net/sitemap.xml', 'https://vancouverwoodworks.com/sitemap.xml', 'https://www.kannoa.com/sitemap.xml', 'https://osmen.com.au/sitemap.xml', 'https://designkollective.com/sitemap.xml', 'https://contempoconcepts.com/sitemap.xml', 'https://www.thefurnituremegastore.co.uk/sitemap.xml', 'https://eurolivingfurniture.com/sitemap.xml', 'https://midinmod.com/sitemap.xml', 'https://hauslondon.com/sitemap.xml', 'https://decorium.us/sitemap.xml', 'https://www.softsquare.com/sitemap.xml', 'https://www.groensfinefurniture.com/sitemap_index.xml', 'https://najarianfurniture.com/sitemap.xml', 'https://huckandpeck.com/sitemap.xml', 'https://qualitywoods.com/sitemap.xml', 'https://www.roccityfurniture.com/sitemap.xml', 'https://craftassociatesfurniture.com/sitemap.xml', 'https://huset-shop.com/sitemap.xml', 'https://sika-design.com/sitemap.xml', 'https://www.scotmeachamwoodhome.com/sitemap.xml', 'https://thebellacottage.com/sitemap.xml', 'https://www.skandium.com/sitemap.xml', 'https://sjotime.com/sitemap.xml', 'https://www.woodwaves.com/sitemap.xml', 'https://jeremiahcollection.com/sitemap.xml', 'https://littlepartners.com/sitemap.xml', 'https://thefinestore.com/sitemap.xml', 'https://lorfords.com/sitemap.xml', 'https://www.arighibianchi.co.uk/sitemap.xml', 'https://idlehands.design/sitemap.xml', 'https://thewoodroom.com.au/sitemap.xml', 'https://thebanyantree.com.au/sitemap.xml', 'https://hauserstores.com/sitemap.xml', 'https://boahaus.com/sitemap.xml', 'https://www.sutherlandfurniture.com/sitemap_index.xml', 'https://apato.com.au/sitemap.xml', 'https://www.living-home.co.uk/sitemap.xml', 'https://relm.com.au/sitemap.xml', 'https://ardoutdoor.com/sitemap.xml', 'https://www.hatihome.com/sitemap.xml', 'https://modernkomfort.ca/sitemap.xml', 'https://www.aarniooriginals.com/sitemap.xml', 'https://hedgehousefurniture.com/sitemap.xml', 'https://livingbydesign.net.au/sitemap.xml', 'https://alasaw.com/sitemap.xml', 'https://classicwithatwist.com.au/sitemap.xml', 'https://chansfurniture.com/sitemap.xml', 'https://www.ameriwoodhome.com/sitemap.xml', 'https://shop.vanillawood.com/sitemap.xml', 'https://www.morningstartrading.ca/sitemap.xml', 'https://oakforless.com/sitemap.xml', 'http://www.mountainteak.com/sitemap.xml', 'https://www.getmycouch.com/sitemap.xml', 'https://www.lestudiolum.com/sitemap.xml', 'https://homestreethome.ie/sitemap.xml', 'https://www.myconcept.com.hk/sitemap.xml', 'https://www.homeandstyle.com.sg/sitemap.xml', 'https://vauntdesign.com/sitemap.xml', 'https://www.kolocollection.com/sitemap.xml', 'https://furnitica-vinova.myshopify.com/sitemap.xml', 'https://asianteakfurniture.com/sitemap.xml', 'https://jordanshome.ca/sitemap.xml', 'https://urbangalleria.com/sitemap.xml', 'https://barnabylane.com.au/sitemap.xml', 'https://teak-warehouse-sale.com/sitemap.xml', 'https://teak-furniture-singapore.com/sitemap.xml', 'https://www.granitelane.com.au/sitemap.xml', 'https://mikazahome.ca/sitemap.xml', 'https://loft-theme-demo-nashville.myshopify.com/sitemap.xml', 'https://teakco.com/sitemap.xml', 'https://www.stylemyhome.com.au/sitemap.xml', 'https://boulevardoutdoorfurniture.com/sitemap.xml', 'https://www.modernfurniture.com.au/sitemap.xml', 'https://big-sale-furniture.com/sitemap.xml', 'https://www.skovby.com/sitemap.xml', 'https://www.modishstore.com/sitemap.xml', 'https://candb.ca/sitemap.xml', 'https://www.blackmango.com.au/sitemap.xml', 'https://brownandbeam.com/sitemap.xml', 'https://www.oopenspace.com/sitemap.xml', 'https://jnmhome.ca/sitemap.xml', 'https://furniturestoresalemoregon.com/sitemap.xml', 'https://taeillo.com/sitemap.xml', 'https://vintage-etc.com/sitemap.xml', 'https://www.hamac-shop.be/sitemap.xml', 'https://www.masayacompany.com/sitemap.xml', 'https://www.youngath-art.com/sitemap.xml', 'https://arkaliving.com/sitemap.xml', 'https://thonet.co.nz/sitemap.xml', 'https://www.oakvillage.co.uk/sitemap.xml', 'http://www.diamondfurniturepremier.com/sitemap.xml', 'https://www.cmphouse.com/sitemap.xml', 'https://www.212concept.com/sitemap.xml', 'https://vintagehomeboutique.ca/sitemap.xml', 'https://bydesignmodern.com/sitemap.xml', 'https://www.couchpotatocompany.com/sitemap.xml', 'https://www.laura-james.co.uk/sitemap.xml', 'https://www.stacksfurniture.co.nz/sitemap.xml', 'https://taktcph.com/sitemap_index.xml', 'https://atomi.shop/sitemap.xml', 'https://pastperfect.sg/sitemap_index.xml', 'https://emesfurnishop.co.uk/sitemap.xml', 'https://mossgardenhome.com/sitemap.xml', 'https://www.amcfurniture.co.uk/sitemap.xml', 'https://www.mydiscountmalta.com/sitemap.xml', 'https://timelessdesign.com.my/sitemap.xml', 'https://lazysusansusa.com/sitemap.xml', 'https://ifurnituresupply.com/sitemap.xml', 'https://nyfurnitureoutlets.com/sitemap_index.xml', 'https://www.willowcreekteak.com/sitemap.xml', 'https://hklivingusa.com/sitemap.xml', 'https://foxwoodmerchants.com/sitemap.xml', 'https://www.ambersfurniture.com/sitemap.xml', 'https://fredericksgallery.ca/sitemap.xml', 'https://www.18karatstore.com/sitemap.xml', 'https://www.equilibriumfurnishings.com/sitemap.xml', 'https://mildanmarket.com/sitemap.xml', 'https://designhouse.com/sitemap.xml', 'http://veranda.com.au/sitemap.xml', 'https://www.insaraf.com/sitemap.xml', 'https://www.lakkadhaara.com/sitemap.xml', 'https://homedesignstoreflorida.com/sitemap.xml', 'https://www.nsquarestudio.com/sitemap.xml', 'https://bedesign.fi/sitemap.xml', 'https://scanteak.com.sg/sitemap.xml', 'http://roomyroom.com/sitemap.xml', 'http://www.komodromos.com.cy/sitemap_index.xml', 'https://www.finnavenue.com/sitemap.xml', 'https://singaporetradingpost.com/sitemap.xml', 'https://singapore-furniture-sale.com/sitemap.xml', 'https://wholesaleclassicfurniture.com/sitemap.xml', 'https://1outdoorfurniture.com/sitemap.xml', 'https://hemma.sg/sitemap.xml', 'https://wholesaleteakcompany.com/sitemap.xml', 'https://www.ministryofchair.com/sitemap.xml', 'https://www.novena.com.sg/sitemap.xml', 'https://houseofanli.com/sitemap.xml', 'https://www.vetrohome.com/sitemap.xml', 'https://www.nookandcranny.com/sitemap.xml', 'https://www.gowanusfurniture.com/sitemap.xml', 'https://alteriors.ca/sitemap.xml', 'https://ilrestaurato.com/sitemap.xml', 'https://onske.co.uk/sitemap.xml', 'https://syscomseatings.com/sitemap_index.xml', 'https://www.zavedo.nz/sitemap.xml', 'https://www.hammockshop.co.nz/sitemap.xml', 'https://www.corcovado.co.nz/sitemap.xml', 'https://www.lujo.co.nz/sitemap.xml', 'https://www.shopden-la.com/sitemap.xml', 'https://sofasandmore.co.nz/sitemap.xml', 'https://warehaus.sg/sitemap.xml', 'https://www.bandhinidesign.com/sitemap.xml', 'https://kubekfurniture.com/sitemap.xml', 'https://modernhomefurniture.com.au/sitemap.xml', 'https://augustusbrandt.co.uk/sitemap.xml', 'https://www.zipchair.com/sitemap.xml', 'https://maximahouse.com/sitemap.xml', 'https://woodaction.com/sitemap.xml', 'https://homesteadfurniturebc.com/sitemap.xml', 'https://popstrukt.com/sitemap.xml', 'https://dkmodernfurniture.com/sitemap.xml', 'https://www.case22.com.au/sitemap.xml', 'https://www.rimufurniture.co.nz/sitemap_index.xml', 'https://studioydesign.ca/sitemap.xml', 'https://pure-patio.com/sitemap.xml', 'https://jubileefurniturelv.com/sitemap.xml', 'https://interiorsinvogue.com/sitemap.xml', 'https://rigersfitness.com/sitemap.xml', 'https://ezzo.co.uk/sitemap.xml', 'https://sakhome.co.uk/sitemap.xml', 'https://huxlo.co.uk/sitemap.xml', 'https://www.furnituresales.com.au/sitemap.xml', 'https://avehome.com/sitemap.xml', 'https://elephanthead.co.uk/sitemap.xml', 'https://www.mantrafurnishings.com/sitemap.xml', 'https://www.coolstuffandaccessories.com/sitemap.xml', 'https://denvermodern.com/sitemap.xml', 'https://www.henryandoliverco.com/sitemap.xml', 'https://www.interiorliving.ca/sitemap.xml', 'https://french-classic-furniture.com/sitemap.xml', 'https://habitekshop.com/sitemap.xml', 'https://plankandpipe.co.uk/sitemap.xml', 'https://www.greensladesfurniture.co.nz/sitemap.xml', 'https://www.polyteakoutdoor.com/sitemap.xml', 'https://www.souk.co.nz/sitemap.xml', 'https://shop-ames-interiors.com/sitemap_index.xml', 'https://newstartfurniture.com.au/sitemap.xml', 'https://www.thedesignedit.com.au/sitemap.xml', 'https://www.therusticfurniturestore.com/sitemap.xml', 'https://dormahome.com/sitemap.xml', 'https://yoyo.co.nz/sitemap.xml', 'https://mahliainteriors.com.au/sitemap.xml', 'https://choufani.com/sitemap.xml', 'https://panana.co.uk/sitemap.xml', 'https://copperbarnhome.com/sitemap.xml', 'https://www.ofo.com.au/sitemap.xml', 'https://www.generalstorefurniture.com.au/sitemap.xml', 'https://www.simpli-home.com/sitemap.xml', 'https://mrnanyang.com/sitemap.xml', 'https://www.mykahome.com.au/sitemap.xml', 'https://www.furniturecontracts.com.au/sitemap.xml', 'https://www.naturalgeo.com/sitemap.xml', 'https://hamptonsstyle.com.au/sitemap.xml', 'https://home-evolution.com/sitemap.xml', 'https://www.innerspace.net.au/sitemap.xml', 'https://bydesigntexas.com/sitemap.xml', 'https://www.blockandchisel.co.za/sitemap.xml', 'https://grandads-shed.com/sitemap.xml', 'https://lavida-furniture.com/sitemap.xml', 'https://rawmaterials.eu/sitemap.xml', 'https://modernityvintage.com/sitemap.xml', 'https://www.smallspaceplus.com/sitemap.xml', 'https://limitedabode.co.uk/sitemap.xml', 'https://luxstreet.com.au/sitemap_index.xml', 'https://www.totemroad.com/sitemap.xml', 'https://whataroom.com/sitemap.xml', 'https://mintffe.com.au/sitemap_index.xml', 'https://www.byronbayhangingchairs.com.au/sitemap.xml', 'https://www.homebarsusa.com/sitemap.xml', 'https://www.wellhunghammocks.com/sitemap.xml', 'https://nofred.com/sitemap.xml', 'https://brisbanefurniture.com.au/sitemap.xml', 'https://midcenturymasters.com/sitemap.xml', 'https://www.ledecostyle.com/sitemap.xml', 'https://primrosehomeware.co.uk/sitemap.xml', 'https://www.classic2modern.com/sitemap.xml', 'https://www.theimporter.co.nz/sitemap.xml', 'https://www.mrandmrswhite.net/sitemap.xml', 'https://circa60.com/sitemap.xml', 'https://thecountryfurniture.com/sitemap.xml', 'https://reecefurniture.com/sitemap.xml', 'https://ulfertskids.com/sitemap.xml', 'https://www.prestige-affairs.com/sitemap.xml', 'https://www.thecurious.mx/sitemap.xml', 'https://www.smithmade.com.au/sitemap.xml', 'https://vanspecial.com/sitemap.xml', 'https://www.canvasinteriors.com/sitemap.xml', 'https://www.autonomousfurniture.com/sitemap.xml', 'https://parliamentinteriors.com/sitemap.xml', 'https://elinahome.com/sitemap.xml', 'https://finditstyleithome.com.au/sitemap.xml', 'https://medleyhome.com/sitemap.xml', 'https://www.sunshinefurniture.com.au/sitemap.xml', 'https://shop.humblecrew.com/sitemap.xml', 'http://mollanbros.co.uk/sitemap.xml', 'https://atouchoffurniture.co.uk/sitemap.xml', 'https://tiger-oak.com/sitemap.xml', 'https://jordansinteriors.ca/sitemap.xml', 'https://www.georgestreet.co.uk/sitemap.xml', 'https://bestfurniture.co.nz/sitemap.xml', 'https://lexiconhome.com/sitemap.xml', 'http://camerich-bd.com/sitemap.xml', 'https://adona.in/sitemap.xml', 'https://nativelifestyle.co.uk/sitemap.xml', 'https://yourpatiostore.com/sitemap.xml', 'https://bohincstudio.com/sitemap.xml', 'https://ingoodcompany.com.au/sitemap.xml', 'https://rutherford-romaguera2611.myshopify.com/sitemap.xml', 'https://www.needlerock.co.uk/sitemap_index.xml', 'https://www.saladinostyle.com/sitemap.xml', 'https://finelinefurnitureandaccessories.com/sitemap.xml', 'https://bungalowfurniture.com/sitemap.xml', 'https://donar.si/sitemap.xml', 'https://foreverfurniture.ca/sitemap.xml', 'https://www.countrytime.ca/sitemap_index.xml', 'https://www.gblfurniture.com/sitemap.xml', 'https://www.hopperstudio.com/sitemap.xml', 'https://www.centralliving.co.uk/sitemap.xml', 'https://www.therejectshop.sg/sitemap.xml', 'https://www.angliarecliners.co.uk/sitemap_index.xml', 'https://pepegarden.co.uk/sitemap.xml', 'https://hilaryandflo.co.uk/sitemap.xml', 'https://settlehome.co.uk/sitemap.xml', 'https://shannonsales.co.uk/sitemap.xml', 'https://www.simplyhammocks.co.uk/sitemap.xml', 'https://tiffanyjayne.co.uk/sitemap.xml', 'https://www.whytesofcrossgar.co.uk/sitemap.xml', 'https://lloydloom-uk.co.uk/sitemap.xml', 'https://www.askewsfurniture.co.uk/sitemap.xml', 'https://www.royalcraft.co.uk/sitemap.xml', 'https://www.dillamores.co.uk/sitemap.xml', 'https://www.bridgnorthfurniture.co.uk/sitemap.xml', 'https://www.theattikstannes.co.uk/sitemap.xml', 'https://thefurniture-house.co.uk/sitemap.xml', 'http://davidmoura.co.uk/sitemap.xml', 'https://www.theurbaneditions.com/sitemap.xml', 'https://furnituredirectonline.co.uk/sitemap.xml', 'https://furniturebylauren.co.uk/sitemap_index.xml', 'https://furniturevilla.co.uk/sitemap.xml', 'https://hanchicsfurniture.co.uk/sitemap.xml', 'https://www.nabisottomanfurniture.co.uk/sitemap.xml', 'https://www.poppiesfurnituredirect.co.uk/sitemap.xml', 'https://www.simplyhomeinteriors.co.uk/sitemap.xml', 'https://www.littletulip.com/sitemap.xml', 'https://uniquehomefurnishing.co.uk/sitemap.xml', 'https://urbansize.co.uk/sitemap.xml', 'https://www.abowed.co.uk/sitemap.xml', 'https://www.rightprice.co.uk/sitemap.xml', 'https://www.modernfurnituredeals.co.uk/sitemap.xml', 'https://www.grandadsshedbrigg.co.uk/sitemap_index.xml', 'https://www.maisonandgarden.co.uk/sitemap.xml', 'https://www.quaysideinteriors.co.uk/sitemap.xml', 'https://rusticland.co.uk/sitemap.xml', 'https://chelseafurnishings.co.uk/sitemap.xml', 'https://www.arfurnishings.co.uk/sitemap.xml', 'https://hemmingandwills.co.uk/sitemap.xml', 'https://elegancehomefurniture.co.uk/sitemap.xml', 'https://www.decoframe.co.uk/sitemap.xml', 'https://www.onlydiningchairs.com.au/sitemap.xml', 'https://afg.us.com/sitemap.xml', 'https://www.collectioni.com/sitemap.xml', 'https://www.myharmony.hk/sitemap.xml', 'https://savannahspace.com/sitemap.xml', 'https://www.sundays-company.com/sitemap.xml', 'https://thebeachfurniture.com.au/sitemap.xml', 'https://squarehome.com/sitemap.xml', 'https://furnituremama.com/sitemap.xml', 'https://derwenthouseliving.co.uk/sitemap_index.xml', 'https://signaturefinefurniture.ca/sitemap_index.xml'] 386\n"
     ]
    }
   ],
   "execution_count": 3
  },
  {
   "metadata": {},
   "cell_type": "markdown",
   "source": "### Methods for getting the links from the sitemaps",
   "id": "7212ef201c988cf9"
  },
  {
   "metadata": {
    "ExecuteTime": {
     "end_time": "2024-09-13T20:33:42.242629Z",
     "start_time": "2024-09-13T20:33:42.232731Z"
    }
   },
   "cell_type": "code",
   "source": [
    "def get_data(url):\n",
    "    try:\n",
    "        response = requests.get(url, timeout=10)\n",
    "        response.raise_for_status()\n",
    "    except requests.RequestException as e:\n",
    "        print(f\"Error fetching {url}: {e}\")\n",
    "        return None\n",
    "    return response.text\n",
    "\n",
    "def is_valid_product_link(url):\n",
    "    # Exclude common unwanted patterns\n",
    "    unwanted_patterns = ['.jpg', '.jpeg', '.png', '.gif', '.svg', '.css', '.js', '.ico', 'tel:', 'mailto:', '#']\n",
    "    for pattern in unwanted_patterns:\n",
    "        if pattern in url:\n",
    "            return False\n",
    "    # Only accept URLs that contain \"collections\" or \"products\"\n",
    "    if '/products/' in url: # or  'collections' in url: - right now I will only focus on the products path\n",
    "        return True\n",
    "    return False\n",
    "\n",
    "def is_desired_site_map_link(url): #  \n",
    "    # Only accept URLs that contain \"sitemap\"\n",
    "    if 'sitemap_products_1.xml' in url: # most website have this in the url that I am looking for\n",
    "        return True\n",
    "    return False\n",
    "\n",
    "\n",
    "dict_href_links = {}\n",
    "\n",
    "def get_links_from_sitemap(website_link): # modified version from the one in the other notebook\n",
    "    # Set the base of the URL depending on whether \"collections\" or \"products\" is in the link\n",
    "    website_origin = website_link\n",
    "    sitemap_index = website_link.find('/sitemap')\n",
    "    if sitemap_index == -1:\n",
    "        sitemap_index = website_link.find('/.sitemap')\n",
    "    if sitemap_index != -1:\n",
    "        website_origin = website_link[:sitemap_index + 1] \n",
    "\n",
    "    html_data = get_data(website_link)\n",
    "    soup = BeautifulSoup(html_data, \"html.parser\")\n",
    "    list_links = []\n",
    "\n",
    "    for link in soup.find_all(\"loc\"): # this contains the links inside xml files\n",
    "        link = link.text\n",
    "        # Filter out invalid links (non-product/collection pages)\n",
    "        \n",
    "        if not is_valid_product_link(link) and not is_desired_site_map_link(link): \n",
    "            continue\n",
    "        \n",
    "        link_to_append = None\n",
    "\n",
    "        # Handle absolute URLs that start with the origin\n",
    "        if link.startswith(str(website_origin)):\n",
    "            link_to_append = link\n",
    "        \n",
    "        # Handle relative URLs that start with \"/\"\n",
    "        elif link.startswith(\"/\"):\n",
    "            #print(href)\n",
    "            link_with_www = website_origin + link[1:]\n",
    "            #print(\"adjusted link =\", link_with_www)\n",
    "            link_to_append = link_with_www\n",
    "        \n",
    "\n",
    "        \n",
    "        # If link_to_append is not None, check if it's already in dict_href_links and if it's accessible\n",
    "        if link_to_append is not None:\n",
    "            if link_to_append not in dict_href_links: #  and check_website(link_to_append) - I will not check the links here, I will check them after I get all the links\n",
    "                dict_href_links[link_to_append] = None  # Mark it as seen\n",
    "\n",
    "                list_links.append(link_to_append)\n",
    "\n",
    "    # Convert list of links to a dictionary with \"Not-checked\" as the default value for each\n",
    "    dict_links = dict.fromkeys(list_links, \"Not-checked\")\n",
    "    return dict_links\n",
    "\n",
    "def get_subpage_links(l, max_depth=3, current_depth=0, write_frequency=500, csv_filename=\"link_data.csv\"):\n",
    "    processed_links_count = 0\n",
    "    \n",
    "    if current_depth >= max_depth:\n",
    "        return l\n",
    "\n",
    "    with ThreadPoolExecutor(max_workers=32) as executor:\n",
    "        futures = {executor.submit(get_links_from_sitemap, link): link for link in l if l[link] == \"Not-checked\"}\n",
    "        \n",
    "        for future in tqdm(concurrent.futures.as_completed(futures), total=len(futures), desc=\"Processing subpage links\"):\n",
    "            link = futures[future]\n",
    "            try:\n",
    "                dict_links_subpages = future.result()\n",
    "                # print(f\"Processed {link} with {len(dict_links_subpages)} subpages.\")\n",
    "            except Exception as e:\n",
    "                print(f\"Error fetching {link}: {e}\")\n",
    "                continue\n",
    "            l[link] = \"Checked\"\n",
    "            l.update(dict_links_subpages)\n",
    "\n",
    "            processed_links_count += 1\n",
    "            \n",
    "            # Write to file every 'write_frequency' processed links\n",
    "            if processed_links_count >= write_frequency: # this actually writes all the links to the csv file - even the not checked ones but in my case it is sufficient\n",
    "                write_links_to_csv(l, csv_filename)\n",
    "                processed_links_count = 0  # Reset the counter\n",
    "\n",
    "    # Recursively call the function for the next depth level\n",
    "    return get_subpage_links(l, max_depth, current_depth + 1, write_frequency, csv_filename)\n",
    "\n",
    "def write_links_to_csv(links_dict, csv_filename):\n",
    "    \"\"\"Writes the current state of the links dictionary to a CSV file.\"\"\"\n",
    "    with open(csv_filename, \"w\", newline='') as csvfile:\n",
    "        csvwriter = csv.writer(csvfile)\n",
    "        for link in links_dict.keys():\n",
    "            csvwriter.writerow([link])\n",
    "\n",
    "    print(f\"Links saved to {csv_filename}.\")\n"
   ],
   "id": "340ba3461c63f04a",
   "outputs": [],
   "execution_count": 12
  },
  {
   "metadata": {},
   "cell_type": "markdown",
   "source": "### Getting the links from the sitemaps\n",
   "id": "edc385befce0d660"
  },
  {
   "metadata": {
    "ExecuteTime": {
     "end_time": "2024-09-06T20:38:20.298405Z",
     "start_time": "2024-09-06T20:38:20.020756Z"
    }
   },
   "cell_type": "code",
   "source": [
    "# we gather all the links from some pages\n",
    "\n",
    "# we test with the first page inside the final_links csv\n",
    "\n",
    "websites = sitemaps[1:]  # exclude the first row\n",
    "# create dictionary of website\n",
    "dict_links = { website : \"Not-checked\" for website in websites }\n",
    "\n",
    "counter, counter2 = None, 0\n",
    "csv_filename = \"link_data.csv\"\n",
    "\n",
    "while counter != 0:\n",
    "    counter2 += 1\n",
    "    dict_links2 = get_subpage_links(dict_links, csv_filename=csv_filename)\n",
    "    counter = operator.countOf(dict_links2.values(), \"Not-checked\")  # Number of \"Not-checked\" links\n",
    "    \n",
    "    # Print some statements for debugging\n",
    "    print(\"\")\n",
    "    print(\"THIS IS LOOP ITERATION NUMBER\", counter2)\n",
    "    print(\"LENGTH OF DICTIONARY WITH LINKS =\", len(dict_links2))\n",
    "    print(\"NUMBER OF 'Not-checked' LINKS = \", counter)\n",
    "    print(\"\")\n",
    "    \n",
    "    dict_links = dict_links2\n",
    "    \n",
    "\n",
    "write_links_to_csv(dict_links, csv_filename)\n",
    "\n",
    "print(\"Links saved to link_data.csv.\")\n",
    "\n",
    "# removing any link that points to a sitemap\n",
    "\n"
   ],
   "id": "1d9434319c325b31",
   "outputs": [
    {
     "ename": "NameError",
     "evalue": "name 'sitemaps' is not defined",
     "output_type": "error",
     "traceback": [
      "\u001B[1;31m---------------------------------------------------------------------------\u001B[0m",
      "\u001B[1;31mNameError\u001B[0m                                 Traceback (most recent call last)",
      "Cell \u001B[1;32mIn[4], line 5\u001B[0m\n\u001B[0;32m      1\u001B[0m \u001B[38;5;66;03m# we gather all the links from some pages\u001B[39;00m\n\u001B[0;32m      2\u001B[0m \n\u001B[0;32m      3\u001B[0m \u001B[38;5;66;03m# we test with the first page inside the final_links csv\u001B[39;00m\n\u001B[1;32m----> 5\u001B[0m websites \u001B[38;5;241m=\u001B[39m \u001B[43msitemaps\u001B[49m[\u001B[38;5;241m1\u001B[39m:]  \u001B[38;5;66;03m# exclude the first row\u001B[39;00m\n\u001B[0;32m      6\u001B[0m \u001B[38;5;66;03m# create dictionary of website\u001B[39;00m\n\u001B[0;32m      7\u001B[0m dict_links \u001B[38;5;241m=\u001B[39m { website : \u001B[38;5;124m\"\u001B[39m\u001B[38;5;124mNot-checked\u001B[39m\u001B[38;5;124m\"\u001B[39m \u001B[38;5;28;01mfor\u001B[39;00m website \u001B[38;5;129;01min\u001B[39;00m websites }\n",
      "\u001B[1;31mNameError\u001B[0m: name 'sitemaps' is not defined"
     ]
    }
   ],
   "execution_count": 4
  },
  {
   "metadata": {},
   "cell_type": "markdown",
   "source": "### Removing the sitemap links from the csv file",
   "id": "39f6c9b2985b3b46"
  },
  {
   "metadata": {
    "ExecuteTime": {
     "end_time": "2024-09-13T20:19:53.895057Z",
     "start_time": "2024-09-13T20:19:52.560682Z"
    }
   },
   "cell_type": "code",
   "source": [
    "links = []\n",
    "\n",
    "with open('link_data.csv', mode='r', newline='') as file:\n",
    "    csv_reader = csv.reader(file)\n",
    "    for row in csv_reader:\n",
    "        if '.xml' not in row[0]:\n",
    "            links.append(row[0])\n",
    "\n",
    "with open('link_data.csv', mode='w', newline='') as file:\n",
    "    csv_writer = csv.writer(file)\n",
    "    for link in links:\n",
    "        csv_writer.writerow([link])\n",
    "        \n",
    "print(\"Links saved to link_data.csv.\")"
   ],
   "id": "59753b24e3dcc7eb",
   "outputs": [
    {
     "name": "stdout",
     "output_type": "stream",
     "text": [
      "Links saved to link_data.csv.\n"
     ]
    }
   ],
   "execution_count": 3
  },
  {
   "metadata": {},
   "cell_type": "markdown",
   "source": [
    "# DECIDED TO NOT USE THIS METHOD \n",
    "### Creating a new csv file with the links content \n",
    "\n",
    "First csv that will contain only raw html data (from h1, p tags etc.)\n",
    "- URL,Source,title,h1,h2,h3,p,span\n",
    "\n",
    "Second csv will contain the links will contain a more finallized version of the data\n",
    "- URL,Source,Product_Name,Description,Price"
   ],
   "id": "57fa53806b8a73e2"
  },
  {
   "metadata": {},
   "cell_type": "code",
   "source": [
    "\n",
    "# tags_to_extract = ['h1', 'p'] # change this in order to get information from different tags\n",
    "# \n",
    "# output_file = 'raw_content.csv'\n",
    "# \n",
    "# def extract_text_from_url(url):\n",
    "#     html_data = get_data(url) # this is \"None\" if the link is not accessible\n",
    "#     if html_data is None:\n",
    "#         return None\n",
    "#     soup = BeautifulSoup(html_data, \"html.parser\")\n",
    "#     \n",
    "#     extracted_text = { tag: [] for tag in tags_to_extract }\n",
    "#     \n",
    "#     for tag in tags_to_extract:\n",
    "#         elements = soup.find_all(tag)\n",
    "#         for element in elements:\n",
    "#             text = element.get_text(strip=True)\n",
    "#             if text:\n",
    "#                 extracted_text[tag].append(text)\n",
    "#     for tag in extracted_text:\n",
    "#         extracted_text[tag] = ' ### '.join(extracted_text[tag])\n",
    "#         \n",
    "#     return extracted_text\n",
    "# \n",
    "# def process_url(url):\n",
    "#     extracted_text = extract_text_from_url(url)\n",
    "#     if extracted_text:\n",
    "#         row = [url, get_base_url(url)]  # Replace 'Source Name' with your actual source\n",
    "#         for tag in tags_to_extract:\n",
    "#             row.append(extracted_text.get(tag, ''))  # Append text for each tag\n",
    "#         return row\n",
    "#     return None\n",
    "# \n",
    "# def save_text_to_csv(data):\n",
    "#     with open(output_file, mode='w', newline='', encoding='utf-8') as file:\n",
    "#         writer = csv.writer(file)\n",
    "#         headers = ['URL', 'Source'] + tags_to_extract\n",
    "#         writer.writerow(headers)\n",
    "#         for row in data:\n",
    "#             if row[2] and row[3]:\n",
    "#                 writer.writerow(row)"
   ],
   "id": "560a06202edd9f12",
   "execution_count": null,
   "outputs": []
  },
  {
   "metadata": {},
   "cell_type": "markdown",
   "source": [
    "### Extracting all relevant text from the links and maintaining its structure\n",
    "\n",
    "In this code block I will take a different approach and get all relevant data from the page and not altering its ordering (like I did above by separating the tags content apart). If this proves inefficient I will go back to the previous method but this makes more sense logically as long as the text segments are short enough for the model to understand, yet not to small for the model to not be able to understand the context (even though the context is some random text from the page like hyperlink text etc.)"
   ],
   "id": "cb886e2cb6e99b70"
  },
  {
   "metadata": {
    "ExecuteTime": {
     "end_time": "2024-09-13T20:19:59.250702Z",
     "start_time": "2024-09-13T20:19:58.116426Z"
    }
   },
   "cell_type": "code",
   "source": [
    "PRODUCT_TITLE_KEYWORDS = ['product', 'item', 'title', 'name', 'description', 'head']\n",
    "\n",
    "\n",
    "def clean_text(text):\n",
    "    # Replace multiple spaces and line breaks with a single space\n",
    "    cleaned_text = re.sub(r'\\s+', ' ', text).strip()\n",
    "    return cleaned_text\n",
    "\n",
    "def extract_text_from_url(url):\n",
    "    html_data = get_data(url)\n",
    "    if html_data is None:\n",
    "        return None\n",
    "    \n",
    "    soup = BeautifulSoup(html_data, \"html.parser\")\n",
    "\n",
    "    # Remove scripts, styles, and irrelevant content\n",
    "    for script in soup([\"script\", \"style\", \"footer\", \"nav\", \"header\", \"noscript\"]):\n",
    "        script.extract()\n",
    "\n",
    "    h1_tags = [clean_text(h1.get_text()) for h1 in soup.find_all('h1')]\n",
    "    \n",
    "    filtered_h1_tags = []\n",
    "\n",
    "    for tag in h1_tags:\n",
    "        if any(keyword in tag.lower() for keyword in PRODUCT_TITLE_KEYWORDS):\n",
    "            filtered_h1_tags.append(tag)\n",
    "    \n",
    "    h1_tags = filtered_h1_tags\n",
    "    \n",
    "    page_text = clean_text(soup.get_text(separator=' '))\n",
    "\n",
    "    # If no h1 tags are found, return None\n",
    "    if not h1_tags:\n",
    "        return None\n",
    "\n",
    "    # Only take the first h1 tag and its position\n",
    "    h1_tag = h1_tags[0]  # Assuming we only care about the first h1 tag\n",
    "    if h1_tag in page_text:\n",
    "        start_idx = page_text.index(h1_tag)\n",
    "        end_idx = start_idx + len(h1_tag)\n",
    "        h1_tag_position = (h1_tag, start_idx, end_idx)\n",
    "        return [h1_tag_position], page_text\n",
    "    return None\n",
    "\n",
    "def tokenize_and_label(text, h1_tag_positions, token_window=30):\n",
    "    tokens = text.split()\n",
    "    labels = ['O'] * len(tokens)  # Default all tokens to 'O'\n",
    "    \n",
    "    # Create character-to-token index mapping\n",
    "    char_to_token_idx = []\n",
    "    current_pos = 0\n",
    "    for token in tokens:\n",
    "        char_to_token_idx.append(current_pos)\n",
    "        current_pos += len(token) + 1  # Adding 1 for the space separator\n",
    "    \n",
    "    # We only care about the first h1_tag position\n",
    "    h1_text, start_idx, end_idx = h1_tag_positions[0]\n",
    "\n",
    "    # Find the token indices corresponding to the h1_tag\n",
    "    start_token_idx = None\n",
    "    end_token_idx = None\n",
    "    for i, char_idx in enumerate(char_to_token_idx):\n",
    "        if start_token_idx is None and char_idx >= start_idx:\n",
    "            start_token_idx = i\n",
    "        if char_idx > end_idx:\n",
    "            end_token_idx = i\n",
    "            break\n",
    "\n",
    "    if start_token_idx is not None:\n",
    "        # Label the h1 tag tokens\n",
    "        labels[start_token_idx] = 'B-PRODUCT'\n",
    "        if end_token_idx is None:  # If the tag is the last part of the text\n",
    "            end_token_idx = len(tokens)\n",
    "        for j in range(start_token_idx + 1, end_token_idx):\n",
    "            labels[j] = 'I-PRODUCT'\n",
    "\n",
    "        # Trim the tokens to keep a window around the product\n",
    "        start_window = max(0, start_token_idx - token_window)\n",
    "        end_window = min(len(tokens), end_token_idx + token_window)\n",
    "        \n",
    "        # Trim the tokens and labels to the window\n",
    "        tokens = tokens[start_window:end_window]\n",
    "        labels = labels[start_window:end_window]\n",
    "\n",
    "    return tokens, labels\n",
    "\n",
    "# Process a single URL and return a row with extracted text\n",
    "def process_url(url):\n",
    "    try:\n",
    "        result = extract_text_from_url(url)\n",
    "        if result is None:\n",
    "            return None  # Skip processing if extraction failed\n",
    "\n",
    "        h1_tag_positions, page_text = result\n",
    "\n",
    "        if page_text:\n",
    "            tokens, labels = tokenize_and_label(page_text, h1_tag_positions, token_window=30)\n",
    "            return [url, get_base_url(url), tokens, labels]\n",
    "        return None\n",
    "    except Exception as e:\n",
    "        print(f\"Error processing URL {url}: {e}\")\n",
    "        return None\n",
    "\n",
    "# Save extracted text data into a CSV file\n",
    "import pandas as pd\n",
    "\n",
    "def save_text_to_csv(data, output_file='tokenized_data.csv'):\n",
    "    rows = []\n",
    "    for url, source, tokens, labels in data:\n",
    "        rows.append([url, source, tokens, labels])\n",
    "\n",
    "    # Create a DataFrame and save it to a CSV\n",
    "    df = pd.DataFrame(rows, columns=['URL', 'Source', 'Tokens', 'Labels'])\n",
    "    \n",
    "    # Save DataFrame to a CSV file\n",
    "    df.to_csv(output_file, index=False, encoding='utf-8')\n",
    "    print(f\"Data saved to {output_file}\")\n"
   ],
   "id": "7afeda848fbf46de",
   "outputs": [],
   "execution_count": 4
  },
  {
   "metadata": {
    "ExecuteTime": {
     "end_time": "2024-09-13T20:43:52.119857Z",
     "start_time": "2024-09-13T20:43:51.235829Z"
    }
   },
   "cell_type": "code",
   "source": [
    "# GETTING THE LINKS FROM 'link_data.csv'\n",
    "\n",
    "urls = []\n",
    "\n",
    "with open('link_data.csv', mode='r', newline='') as file:\n",
    "    csv_reader = csv.reader(file)\n",
    "    for row in csv_reader:\n",
    "        urls.append(row[0])\n",
    "        \n",
    "import random\n",
    "random.shuffle(urls)\n",
    "\n",
    "print(urls[:1000])\n"
   ],
   "id": "a3eb5b03bb419dee",
   "outputs": [
    {
     "name": "stdout",
     "output_type": "stream",
     "text": [
      "['https://www.ledecostyle.com/products/stunning-pair-of-murano-mushroom-table-lamps-by-vistosi', 'https://www.do-shop.com/products/soho-round-pedestal-table-small', 'https://www.myconcept.com.hk/zh/products/kare-design-shelf-authentico-zick-zack-150', 'https://modshop1.com/products/mulberry-protection-83', 'https://www.stacksfurniture.co.nz/products/umbrapillarcoarrack-black', 'https://yoyo.co.nz/products/io-table-light', 'https://limitedabode.co.uk/products/lemon-vase', 'https://www.skandium.com/en-kr/products/one-step-up-bookcase', 'https://emfurn.com/products/lp-kiana-queen-metal-stainless-steel-headboard', 'https://www.gowfb.com/products/hoof-floor-lamp-in-off-white-finish', 'https://hauslondon.com/products/cache-floor-lamp-by-aurelien-barbry-for-le-klint', 'https://www.thefurnituremegastore.co.uk/products/alaska-triple-sleeper-futon-bunk-bed', 'https://cane-line.co.uk/products/cushion-set-basket-chair', 'https://lexiconhome.com/products/b181534t-1', 'https://classicwithatwist.com.au/products/bebop-low-table-120x70-h-42-cm', 'https://modshop1.com/products/aruba-sofa', 'https://www.totemroad.com/products/inartisan-kaira-natural-belly-basket-small', 'https://www.greensladesfurniture.co.nz/products/barn-sliding-door-single-cabinet', 'https://sika-design.com/products/charlottenborg-exterior-2-seater', 'https://www.interiorliving.ca/products/cove-sectional', 'https://viesso.com/products/pera-mw-counter-stool', 'https://www.laura-james.co.uk/products/marston-4-seater-rattan-dining-set-with-premium-grey-parasol-grey', 'https://parliamentinteriors.com/products/sabine-cabinet', 'https://dormahome.com/products/iittala-kastehelmi-bowl-light-blue', 'https://designkollective.com/stores/sohoconcept/products/152772', 'https://www.jensen-lewis.com/products/sarah-5-drawer-chest', 'https://arkaliving.com/products/large-river-stone-egg-lantern-modern-garden-candle-lighting-9-coming-in-august', 'https://fredericksgallery.ca/products/rival', 'https://newstartfurniture.com.au/products/5-piece-garden-lounge-set-solid-pinewood', 'https://bestfurniture.co.nz/products/white-tigers-in-the-clouds-canvas-stretched-ready-to-hang-sue-skellern-nz-made', 'https://viesso.com/products/linea-sofa', 'https://www.finnavenue.com/products/tate-pleated-silk-cushion-taupe', 'https://thecountryfurniture.com/products/stuartson-octagon-vanity-mirror-pearl-silver', 'https://www.skandium.com/products/montana-panton-wire', 'https://www.myconcept.com.hk/products/oluce-lulu-table-lamp', 'https://www.whytesofcrossgar.co.uk/products/borg-desk-1', 'https://shophorne.com/products/ulm-daybed-crib-conversion-kit-birch', 'https://www.stylemyhome.com.au/products/swirling-gold-2-canvas-in-antique-silver-frame', 'https://vincentdesign.com.au/products/chilewich-placemat-heddle-dogwood', 'https://cultdesign.co.nz/products/alphabet-sofa-pl3001', 'https://www.idcmn.com/products/ekornes-stressless-wing-large-classic-power-recliner-with-ottoman', 'https://kubekfurniture.com/products/viscount-barstool-in-mustard-cerrato', 'https://www.thefurnituremegastore.co.uk/products/cora-fabric-sofa-armchair-collection-choice-of-fabrics', 'https://teakco.com/products/mateo-elizabeth-4-door-4-drawer-160cm-english-buffet-sideboard', 'https://atouchoffurniture.co.uk/products/4ft-6ins-oxford-painted-bed', 'https://designkollective.com/stores/sohoconcept/products/155351', 'https://homeresource.com/products/progetti-blossom-chair', 'https://www.hudsonfurniture.com.au/products/dream-oval-coffee-table-wholesale', 'https://cultdesign.co.nz/products/aros-round-2-o-100', 'https://www.georgestreet.co.uk/products/g-plan-elliot/?variation_id=18608', 'https://designkollective.com/stores/chic-home/products/87561', 'https://www.royaloakfurniture.co.uk/products/burnsall-oak-dining-table', 'https://www.onlydiningchairs.com.au/products/leather-wooden-elbow-dining-chairs-stannis', 'https://www.henryandoliverco.com/products/miccah-temple-jar-medium', 'https://designkollective.com/stores/mixfurniture/products/167670', 'https://www.totemroad.com/products/heirloom-modular-sofa', 'https://designkollective.com/stores/stowersfurniture/products/65944', 'https://hauserstores.com/products/terrain-table-lamp', 'https://modernkomfort.ca/products/sanibel-table-lamp', 'https://limitedabode.co.uk/products/gold-octopus-wine-bottle-holder', 'https://designkollective.com/stores/sohoconcept/products/156480', 'https://www.myconcept.com.hk/zh/products/artemide-nessino', 'https://www.thedesignedit.com.au/products/glass-jar-large-black', 'https://newstartfurniture.com.au/products/century-988-blue-rug', 'https://designkollective.com/stores/mixfurniture/products/158659', 'https://livingbydesign.net.au/products/mara-marble-spoon-rest-20x11cm-white', 'https://afg.us.com/products/tulen-reclining-loveseat', 'https://rusticland.co.uk/de/products/2-tier-rustic-shelves-handmade-solid-wood-industrial-shelf-metal-non-lipped-brackets', 'https://designkollective.com/stores/winteriors/products/104967', 'https://www.modernfurniture.com.au/products/display-unit-3-door-bookcase-kaldi-wood-white', 'https://www.mantrafurnishings.com/products/circle-outdoor-dining-table', 'https://livingbydesign.net.au/products/sevilla-contempo-bench-w-piped-edging-bracken-green', 'https://www.sunshinefurniture.com.au/products/tokyo-bar-stool-white', 'https://www.skandium.com/en-kr/products/167-pendant-lamp', 'https://designkollective.com/stores/winteriors/products/105391', 'https://www.thefurnituremegastore.co.uk/products/valentino-navy-velvet-deep-tufted-lion-head-bar-stool', 'https://shophorne.com/products/task-table-lamp-cream', 'https://qualitywoods.com/products/qw-amish-woodside-nook-set', 'https://thecountryfurniture.com/products/blariden-accent-table', 'https://lostine.com/products/izmir-pillow', 'https://singaporetradingpost.com/products/elephant-themed-ginger-jar', 'https://kubekfurniture.com/products/the-authentic-waxed-1500mm-plank-dining-table', 'https://www.mainecottage.com/products/over-brellas', 'https://www.simpli-home.com/products/riverside-console-sofa-table', 'https://brownandbeam.com/products/crescent-sectional', 'https://www.softsquare.com/products/b-b-italia-michel-effe-sofa', 'https://mrnanyang.com/products/fusion-desk-system-or-workstations', 'https://thebellacottage.com/products/rufolo-glass-gold-large-serving-bowl', 'https://denvermodern.com/products/stone-coffee-table', 'https://alteriors.ca/products/21-21-pendant-light', 'https://huckandpeck.com/products/90661', 'https://www.gowfb.com/products/space-saving-shoe-storage-cabinet', 'https://qualitywoods.com/products/qw-amish-preston-side-chair', 'https://wholesaleteakcompany.com/products/elle-sweden-glass-display-bookcase-solid-wood-4-colour-2-size', 'https://thecountryfurniture.com/products/tracling-slate-oversized-accent-ottoman', 'https://www.simplyhammocks.co.uk/products/globo-single-stand-replacement-part-b', 'https://www.royaloakfurniture.co.uk/products/county-display-cabinet-1', 'https://homestreethome.ie/products/teak-wooden-bar-stool', 'https://livingbydesign.net.au/products/marimekko-rasymatto-oven-mitten-black-white-set-of-2', 'https://www.gblfurniture.com/products/mon-chique-table-lamp', 'https://huckandpeck.com/products/loloi-victoria-rug-lt-blue-natural-vk-18', 'https://vancouverwoodworks.com/products/howardmiller-deliaiii', 'https://urbangalleria.com/products/plastic-pot-spruce-tree-planter', 'https://reecefurniture.com/products/artistic-weavers-glyph-pillow-cream-metallic-gold-down-glyp7075', 'https://qualitywoods.com/products/berlin-gardens-chaise-lounge', 'https://www.theimporter.co.nz/products/geometric-screen-whitewash', 'https://timelessdesign.com.my/products/himari-2-glass-door-showcase', 'https://modernhomefurniture.com.au/products/bondi-round-dining-table-in-solid-messmate-wood', 'https://www.ledecostyle.com/products/belgian-art-deco-commode-or-bar', 'https://www.zipchair.com/products/curve-task-chair-with-golden-state-warriors-global-logo', 'https://www.thefurnituremegastore.co.uk/products/thacket-sheesham-cd-rack', 'https://afg.us.com/products/carly-bed', 'https://livingbydesign.net.au/products/marimekko-hauki-fish-lunch-napkin', 'https://urbangalleria.com/products/toy-story-1-bean-bag-sofa', 'https://ilrestaurato.com/en-it/products/lady-armchairs-marco-zanuso-arflex-1950s', 'https://www.thefurnituremegastore.co.uk/products/augusta-grey-bedside-cabinet-with-hairpin-legs', 'https://www.do-shop.com/products/garden-of-eden-rug-june-free-shape', 'https://bungalowfurniture.com/products/aiden-vint-muscle-tee', 'https://qualitywoods.com/products/qw-amish-acadia-office-chair-with-gas-lift', 'https://alteriors.ca/products/people-casegoods', 'https://www.georgestreet.co.uk/products/g-plan-elliot/?variation_id=19631', 'https://www.collectioni.com/products/pink-fallen-xl-chandelier', 'https://hauslondon.com/products/tactile-sideboard-by-terence-woodgate', 'https://thecountryfurniture.com/products/arlo-recliner', 'https://cultdesign.co.nz/products/earth-kitchen-stool', 'https://designkollective.com/stores/chic-home/products/56899', 'https://totalpatioaccessories.com/products/tgbc-monaco-square-base-9', 'https://boulevardoutdoorfurniture.com/products/knockranny-outdoor-side-table', 'https://www.askewsfurniture.co.uk/products/shackletons-mairena', 'https://www.hammockshop.co.nz/products/hammock-cover', 'https://www.arighibianchi.co.uk/products/cooper-dining-chair', 'https://designkollective.com/stores/sohoconcept/products/151408', 'https://claytongrayhome.com/products/elina-extra-large-6-drawer-dresser-white', 'https://modshop1.com/products/mulberry-protection-53', 'https://www.jensen-lewis.com/products/daley-sofa', 'https://www.softsquare.com/products/finn-juhl-model-45-chair', 'https://www.212concept.com/products/malta-sideboard', 'https://www.skandium.com/en-kr/products/pacha-two-seater-sofa-outdoor-w-armrest', 'https://www.simpli-home.com/products/hunter-3-door-sideboard-buffet-in-walnut', 'https://choufani.com/en-kw/products/allegra-center-table', 'https://designkollective.com/stores/sohoconcept/products/150805', 'https://designkollective.com/stores/sohoconcept/products/153570', 'https://claytongrayhome.com/products/made-goods-sarlic-box-set-natural-mixed-horn', 'https://designkollective.com/stores/uptownstyle/products/138407', 'https://www.equilibriumfurnishings.com/products/malibu-4-drawer-chest-rustic-white', 'https://livingbydesign.net.au/products/aquilla-curved-tv-entertainment-unit-ivory', 'https://www.myconcept.com.hk/zh/products/tolomeo-diffusore-wall-lamp', 'https://reecefurniture.com/products/silver-fan-disk-on-marble-base-21', 'https://mossgardenhome.com/products/chilewich-boucle-woven-mat-natural', 'https://designkollective.com/stores/mixfurniture/products/147151', 'https://bestfurniture.co.nz/products/finn-occasional-chair-solid-oak', 'https://www.case22.com.au/products/elite-dining-chairs-in-shearling-fabric', 'https://jordansinteriors.ca/products/regency-refinement-sette', 'https://www.stacksfurniture.co.nz/products/parnell-outdoor-dining-chair-in-black', 'https://teak-warehouse-sale.com/products/england-queen-anne-2-drawer-sofa-table-writing-desk-tws899-choco', 'https://claytongrayhome.com/products/palecek-quinn-chandelier', 'https://designkollective.com/stores/mixfurniture/products/158980', 'https://thebeachfurniture.com.au/products/copy-of-hampton-dining-table', 'https://www.sunshinefurniture.com.au/products/cayman-dining-table-1-8-x-0-9', 'https://designkollective.com/stores/marco-polo-imports/products/22367', 'https://lexiconhome.com/products/upm188259-1pwh', 'https://viesso.com/products/ombre-placemat', 'https://uniquehomefurnishing.co.uk/products/childrens-narrow-cabinet-with-1-door-1-drawer', 'https://thecountryfurniture.com/products/ottone-modern-mirror-gold', 'https://magnolialane.biz/products/mia-planter-medium-matte-taupe', 'https://www.coolstuffandaccessories.com/products/crystalview-xtreme-nano-anti-fog-treatment', 'https://designkollective.com/stores/mixfurniture/products/174533', 'https://hauserstores.com/products/tartan-linen-pillow-1', 'https://designkollective.com/stores/chic-home/products/61213', 'https://www.do-shop.com/products/beige-marble-tiles-48-7-x-76-9-cm-mirrored-materials-wallpaper-by-piet-hein-eek', 'https://www.laura-james.co.uk/products/tracy-3-seater-sofa-grey-linen', 'https://lexiconhome.com/products/upm189478-1pw', 'https://afg.us.com/products/paulina-dining-table-rustic-walnut-espresso', 'https://www.do-shop.com/products/agora-stool', 'https://afg.us.com/products/larkinhurst-earth-rocker-recliner', 'https://hamptonsstyle.com.au/products/cube-footed-nickel-clock', 'https://designkollective.com/stores/tuvalu/products/7743', 'https://taeillo.com/products/dinma', 'https://limitedabode.co.uk/products/twisted-candles-set-of-3', 'https://www.willowcreekteak.com/products/diamond-round-handwoven-indoor-outdoor-rug', 'https://www.simpli-home.com/products/noreen-square-pouf', 'https://lexiconhome.com/products/y18b2053tttw-1', 'https://www.getmycouch.com/products/watson-3-seater-sofa-in-beige-premium-suede-fabric', 'https://designkollective.com/stores/sohoconcept/products/155359', 'https://hamptonsstyle.com.au/products/nautical-iv-sepia', 'https://kubekfurniture.com/products/pisa-chair-in-dark-slate', 'https://www.ofo.com.au/products/nero-coventry-76-3pce-outdoor-dining-set', 'https://fredericksgallery.ca/products/axel', 'https://woodaction.com/products/collins-dressing-table', 'https://www.do-shop.com/products/mater-lounge-chair', 'https://www.greensladesfurniture.co.nz/products/sailing-away-landscape', 'https://designkollective.com/stores/chic-home/products/137672', 'https://bydesignmodern.com/products/chair-321-109-2', 'https://singapore-furniture-sale.com/products/kendra-tv-console-solid-wood-simple-living-room-furniture-audio-visual-cabinet-old-living-room-tv-cabinet-nordic-all-solid-wood-tv-cabinet-coffee-table-combination', 'https://www.onlydiningchairs.com.au/products/vintage-grey-pu-leather-bar-stools-lennox', 'https://emfurn.com/pt/products/turin-black-stainless-steel-barstool', 'https://totalpatioaccessories.com/products/studio-deep-seating', 'https://www.factorybuys.com.au/products/devanti-air-fryer-7l-lcd-fryers-oven-airfryer-kitchen-healthy-cooker-stainless-steel', 'https://designkollective.com/stores/castleantiquesinc/products/39431', 'https://www.askewsfurniture.co.uk/products/glass-table-chair-set-includes-4x-chairs', 'https://teak-warehouse-sale.com/products/zuri-marriott-bedside-table-solid-wood-scandinavian-nordic-bedroom-4-colours', 'https://designkollective.com/stores/uptownstyle/products/141999', 'https://www.greensladesfurniture.co.nz/products/halo-nest-pendant-light-small-brass', 'https://modernkomfort.ca/products/chestwick-pillow-dark-grey', 'https://www.morningstartrading.ca/pages/products/bedside-cabinets', 'https://www.zipchair.com/products/curve-task-chair-with-los-angeles-angels-secondary', 'https://www.myconcept.com.hk/zh/products/carl-hansen-son-ch25', 'https://woodaction.com/products/premium-round-stool-004', 'https://www.factorybuys.com.au/products/table-top-tv-swivel-mounted-stand-1', 'https://mrnanyang.com/products/workmate-lockable-mobile-storage-pedestal', 'https://copperbarnhome.com/products/herringbone-white-7-piece-dining-table-set-1', 'https://designkollective.com/stores/mixfurniture/products/41138', 'https://www.212concept.com/products/copy-of-snoop-hook', 'https://designkollective.com/stores/sohoconcept/products/149858', 'https://livingbydesign.net.au/products/laurent-leather-arm-chair-cognac-leather', 'https://modshop1.com/products/8-oiled-walnut-cone-leg-set-of-4', 'https://www.mainecottage.com/products/lighthouse-nantucket', 'https://www.mainecottage.com/products/kim-hovell-the-longest-day', 'https://www.softsquare.com/products/u-turn', 'https://www.myconcept.com.hk/products/stelton-em-press-tea-maker', 'https://afg.us.com/products/carriage-house-coffee-table-white', 'https://thecountryfurniture.com/products/vail-stationary-loveseat', 'https://decorium.us/products/shoulder-zoned-gel-dough-pillow', 'https://www.henryandoliverco.com/products/boston-wool-blend-silver-rug', 'https://eurolivingfurniture.com/products/balo-floor-vase-3pcs', 'https://singapore-furniture-sale.com/products/naples-solid-teak-timber-90cm-dining-bench-light-pecansfs638be-90-35-ta-lp_1', 'https://huckandpeck.com/products/vasco-spice-8-x-11', 'https://www.do-shop.com/products/crawford-dining-table-1', 'https://designkollective.com/stores/chic-home/products/87984', 'https://www.modishstore.com/products/flash-furniture-high-back-black-leather-executive-swivel-office-chair-5', 'https://totalpatioaccessories.com/products/earth-tone-soulmate-bronze-55', 'https://hauslondon.com/products/solid-pendant-cylinder-marble-by-terence-woodgate', 'https://www.classic2modern.com/products/tura-console-table-white-laquer-er-1026-18', 'https://www.somedaydesigns.co.uk/products/fiord-322', 'https://designkollective.com/stores/mixfurniture/products/146782', 'https://osmen.com.au/products/morso-ash-scraper-includes-blow-pipe', 'https://www.stacksfurniture.co.nz/products/ghost-12-2-drawer-bedside', 'https://designkollective.com/stores/tistas/products/77282', 'https://huckandpeck.com/products/loloi-enchant-rug-neutral-en-27', 'https://claytongrayhome.com/products/oly-river-cocktail-table-frost-white', 'https://www.shopden-la.com/products/architectural-pottery-jet-planter', 'https://eurolivingfurniture.com/products/blanche-painting', 'https://foreverfurniture.ca/products/harvest-door-and-drawer-night-stand', 'https://qualitywoods.com/products/millcraft-bourdeaux-armoire', 'https://kubekfurniture.com/products/durham-sofa', 'https://www.youngath-art.com/products/mirror-in-rustic-finish', 'https://emfurn.com/products/elton-velvet-accent-armchair-black-frame', 'https://homestreethome.ie/products/reclaimed-window-mirror', 'https://www.willowcreekteak.com/products/monterey-teak-dining-arm-chair-sunbrella-cushion', 'https://osmen.com.au/products/gin-90-low-fire-pit-table', 'https://emfurn.com/fr/products/lp-amistad-86-wood-dining-table', 'https://mahliainteriors.com.au/products/bone-inlay-vine-sideboard-grey', 'https://homeresource.com/products/aida-bed', 'https://mossgardenhome.com/products/so-old-birthday-card', 'https://www.classic2modern.com/products/baxton-studio-roldan-modern-and-contemporary-two-tone-walnut-and-grey-finished-wood-3-drawer-bedroom-chest', 'https://www.thefurnituremegastore.co.uk/products/st-ives-french-grey-oak-square-dining-table-4-matching-ladder-back-dining-chairs', 'https://urbangalleria.com/products/yandel-single-seater', 'https://www.classic2modern.com/products/sara-bedroom', 'https://yourpatiostore.com/products/casbah-pouf-square-25-x-25-website', 'https://www.bandhinidesign.com/en-nz/products/intertwined-natural-lounge-cushion-55x55cm', 'https://www.homebarsusa.com/products/howard-miller-jayden-iv-curio-cabinet-680574', 'https://www.thefurnituremegastore.co.uk/products/cuban-mango-wood-3-drawer-coffee-table', 'https://www.generalstorefurniture.com.au/products/manta-jarrah-dining-table', 'https://www.factorybuys.com.au/products/3pc-gardeon-outdoor-furniture-sofa-set-wicker-rattan-garden-lounge-chair-setting', 'https://emfurn.com/fr/products/swerve-vinyl-dining-chair', 'https://thecountryfurniture.com/products/amaris-brown-black-5-pc-dining-set', 'https://vanspecial.com/products/gap-pendant-short-black', 'https://www.furnituresales.com.au/products/200968791', 'https://www.tandemarbor.com/products/crosby-ottoman-oyster-vintage-leather', 'https://www.equilibriumfurnishings.com/products/quinta-dresser', 'https://modernhomefurniture.com.au/products/noah-coffee-table', 'https://www.stacksfurniture.co.nz/products/mediumterrazzoroundtray-agave', 'https://livingbydesign.net.au/products/marimekko-lokki-bath-bundle-single-beige-white', 'https://rusticland.co.uk/es/products/x-shape-rustic-kitchen-dining-table-4-seater-table-oak-craft-finish-tab34', 'https://www.factorybuys.com.au/products/9x12m-heavy-duty-poly-tarps-tarpaulin-camping-cover-clear', 'https://www.onlydiningchairs.com.au/products/coastal-indoor-outdoor-fibreglass-bar-stools-fairview', 'https://www.modernfurniture.com.au/products/woodflex-flexible-half-round-slat-wall-panel-oak-veneer-270cm', 'https://studioydesign.ca/products/boxy-table-lamp', 'https://www.do-shop.com/products/sliding-doors-cabinet-lipsticks-seletti-wears-toiletpaper', 'https://www.mainecottage.com/products/nellie-2-over-2-dresser', 'https://www.tandemarbor.com/products/varick-sofa-silver-streak-crushed-velvet', 'https://kubekfurniture.com/products/maverick-retro-armchair-in-brown-leather', 'https://www.mainecottage.com/products/sea-biscuit-porch-swatch', 'https://www.lakkadhaara.com/products/aksha-carved-mirror', 'https://www.myconcept.com.hk/zh/products/occhio-mito-soffitto-20', 'https://www.canvasinteriors.com/products/touchstone-1', 'https://www.thefurnituremegastore.co.uk/products/canterbury-accent-swivel-chair-various-fabric-options-accent-swivel-chair-various-fabric-options', 'https://www.ameriwoodhome.com/products/remington-end-table-black', 'https://modernhomefurniture.com.au/products/ashley-timber-dining-chair-black-pu', 'https://atomi.shop/products/forms-pi-sofa-with-upholstery-three-seater', 'https://huckandpeck.com/products/nolita-indigo-8-x-11', 'https://www.jensen-lewis.com/products/malik-flex-dining-chair', 'https://french-classic-furniture.com/products/frog-childrens-bookshelf', 'https://hemmingandwills.co.uk/products/mayville-table-lamp-natural-brushed-bronze', 'https://huset-shop.com/products/copy-of-aveva-swedish-flag-trivet', 'https://maximahouse.com/products/tine-24-piece-stainless-steel-flatware-set682', 'https://www.willowcreekteak.com/products/colosseo-outdoor-fire-table', 'https://emfurn.com/fr/products/xia-tufted-performance-velvet-office-chair', 'https://arkaliving.com/products/tribal-wood-hand-carved-hunter-shield-sculpture', 'https://www.coolstuffandaccessories.com/products/mairi-modern-beige-plastic-and-wood-finished-2-piece-counter-stool-set', 'https://hauslondon.com/products/av1-pavilion-chair-by-anderssen-voll-for-tradition', 'https://maximahouse.com/products/kai-oak-wood-dining-table', 'https://lexiconhome.com/products/bedr185789-1ckxx', 'https://www.interiorliving.ca/products/marcel-drawer-storage-bed', 'https://vauntdesign.com/products/nordic-dinnerware-set-24-piece-grey', 'https://www.mykahome.com.au/products/cot8350-sn-2-3m-right-return-office-desk-walnut', 'https://timelessdesign.com.my/products/pintalo-pendant-lamp-b', 'https://www.laura-james.co.uk/products/8-seater-cube-outdoor-dining-set-polywood-top-with-grey-premium-square-parasol-and-cover-natural-brown', 'https://midinmod.com/products/eldridge-platform-bed-queen-cognac-velvet', 'https://www.loungesplus.com.au/products/bed-6', 'https://lavida-furniture.com/products/harmony-mirror', 'https://www.jensen-lewis.com/products/optima-seattle-recliner', 'https://runyonsfinefurniture.com/products/jason-scott-spanish-prison-cocktail-table', 'https://www.laura-james.co.uk/products/outlet-stevie-2-door-wardrobe-grey-1', 'https://www.classic2modern.com/products/winchester-mirror-small', 'https://alteriors.ca/products/360-table', 'https://whataroom.com/products/olsen-lifp-top-storage-connect-it-desk-cappuccino', 'https://apato.com.au/products/riki-footstool', 'https://viesso.com/products/wave-oak-tv-cupboard', 'https://boahaus.com/products/7410-ds', 'https://designkollective.com/stores/alpinehomefurnishings/products/33814', 'https://homesteadfurniturebc.com/en-us/products/d-bodhi-wine-rack-15-bottle', 'https://cane-line.co.uk/products/endless-soft-2-seater-sofa', 'https://designkollective.com/stores/theshiplapstore/products/54956', 'https://tiger-oak.com/products/ceiling-pendant-model-hercules-by-jo-hammerborg-for-fog-and-morup-1960s', 'https://www.georgestreet.co.uk/products/g-plan-chloe/?variation_id=17795', 'https://emfurn.com/fr/products/lp-align-upholstered-fabric-corner-sofa', 'https://modernkomfort.ca/products/white-charcuterie-plank', 'https://vastinterior.com.au/products/vast-furniture-voucher', 'https://www.coolstuffandaccessories.com/products/charlotte-upholstered-loveseat', 'https://houseofanli.com/products/yucatan-anthracite-carpet', 'https://www.greensladesfurniture.co.nz/products/lines-black-natural-oak-sideboard', 'https://modernhomefurniture.com.au/products/cheetah-swivel-bar-stool', 'https://livingbydesign.net.au/products/royal-doulton-mug-blue-brush-on-white-set-of-4', 'https://whataroom.com/products/dalia-stacking-side-chair', 'https://elephanthead.co.uk/products/pink-and-gold-floral-paper-mache-box', 'https://jordanshome.ca/products/erabella-coffee-table', 'https://designkollective.com/stores/sohoconcept/products/155720', 'https://www.insaraf.com/products/solid-wood-curved-writing-study-table', 'https://www.loungesplus.com.au/products/bedroom-suite-22', 'https://hklivingusa.com/products/ceramic-70s-dinner-plate-earth-set-of-2', 'https://www.sunshinefurniture.com.au/products/dante-lamp-table', 'https://claytongrayhome.com/products/arteriors-home-harrington-counter-stool', 'https://teak-furniture-singapore.com/products/grace-nordic-japanese-design-sofa-solid-wood-choice-of-6-size-8-fabric-color', 'https://www.myconcept.com.hk/zh/products/audo-copenhagen-harbour-column-bar-table', 'https://finelinefurnitureandaccessories.com/products/made-goods-lindsey-36-inch-silhouettes-burled-wood-veneer-dresser', 'https://designkollective.com/stores/winteriors/products/90896', 'https://totalpatioaccessories.com/products/cab-monaco-60-square-table-29', 'https://vanspecial.com/products/kinto-taku-serving-board-300-x-150mm', 'https://huckandpeck.com/products/myanmar-aquamarine-3-5-x-5-5', 'https://designkollective.com/stores/13hublane/products/11148', 'https://emfurn.com/es/products/lp-slope-upholstered-vinyl-ottoman', 'https://www.naturalgeo.com/en-gb/products/natural-geo-handmade-rosewood-dotted-elephant-wooden-decorative-box', 'https://www.therejectshop.sg/products/riesling-slim-shoe-cabinet', 'https://emfurn.com/es/products/lp-enye-distressed-vintage-floral-lattice-5x8-area-rug', 'https://www.scandesign.com/products/fame-barstool-vintage-grey', 'https://designkollective.com/stores/love-aesthetics/products/7082', 'https://wholesaleclassicfurniture.com/products/angelina-herringbone-coffee-table-designer-solid-wood-coffee-table-table-small-apartment-living-room-home-nordic-light-luxury-retro-herringbone-coffee-table-coffee-table', 'https://www.mykahome.com.au/products/cdt6629-ch-2-2m-wooden-dining-table-distress-natural', 'https://emfurn.com/es/products/lp-nova-full-metal-headboard', 'https://www.georgestreet.co.uk/products/g-plan-chloe/?variation_id=18389', 'https://mossgardenhome.com/products/abstract-floral-tote-bag', 'https://www.do-shop.com/products/navarra-tables-collection', 'https://eurolivingfurniture.com/products/lydia-rug', 'https://hauserstores.com/products/southern-living-auburn-crystal-sconce', 'https://www.generalstorefurniture.com.au/products/marri-and-jarrah-metropol-queen-or-king-bed-wa-made-1', 'https://wholesaleclassicfurniture.com/products/courm-shoe-storage-box', 'https://homeresource.com/products/rialto-side', 'https://bedesign.fi/products/lume-trestle-legs-charcoal-black', 'https://qualitywoods.com/products/qw-amish-london-nightstand', 'https://www.fentonandfenton.com.au/products/bone-inlay-checkerboard-cube-in-lilac', 'https://vanspecial.com/products/nona-set-of-3-mini-vases-white', 'https://thebellacottage.com/products/clyde-protection-plan-f8da914d-5fad-4e7e-8e74-f65611b518af-3', 'https://designkollective.com/stores/patdo/products/109759', 'https://shophorne.com/products/claudo-led-sconce', 'https://newstartfurniture.com.au/products/bar-table-110x50x105-cm-solid-acacia-wood', 'https://wholesaleclassicfurniture.com/products/gerta-velvet-throw-pillow-cover-insert', 'https://medleyhome.com/products/kirnik-bumper-sectional-in-latex-wool', 'https://brisbanefurniture.com.au/products/forge-refectory-table-2000mm', 'https://barnabylane.com.au/products/spensley-dining-chair-oak-grey', 'https://vauntdesign.com/products/louis-adjustable-brass-bar-stool', 'https://www.mykahome.com.au/products/cot6162-sn-1-6m-single-seater-walnut-office-desk-black-legs', 'https://woodaction.com/products/babar-sheesham-nesting-table-set-of-4', 'https://www.insaraf.com/products/solid-wood-charlie-sofa-b-single-seater', 'https://edenliving.online/products/leto-occasional-chair', 'https://qualitywoods.com/products/qw-amish-brunswick-wine-cabinet', 'https://www.modernfurniture.com.au/products/arkin-high-back-office-chair-black', 'https://designkollective.com/stores/castleantiquesinc/products/54007', 'https://lexiconhome.com/products/s181138br-1', 'https://www.naturalgeo.com/en-au/products/natural-geo-true-love-never-ends-decorative-wall-hanging-brass-accent-plate', 'https://designkollective.com/stores/sohoconcept/products/149260', 'https://lexiconhome.com/products/bedr181342k-1ckxx', 'https://urbangalleria.com/products/mat-planter-ad0046', 'https://www.skandium.com/en-kr/products/libri-desk', 'https://emfurn.com/products/personalized-doggykingdom-collar', 'https://www.shopden-la.com/products/paul-frankl-cork-nightstands-for-johnson-furniture-co', 'https://scanteak.com.sg/products/45cm-throw-cushion-light-brown', 'https://whataroom.com/products/jolo-ottoman', 'https://urbangalleria.com/products/balderrama-book-shelf-in-yellow-and-green-colour', 'https://www.18karatstore.com/products/cha-h24567on-1-ea', 'https://www.theimporter.co.nz/products/carter-live-edge-dining-table-2-0m', 'https://designkollective.com/stores/sohoconcept/products/152602', 'https://huset-shop.com/products/moomin-collectors-box', 'https://fredericksgallery.ca/products/laguna-dining-table-by-handstone', 'https://www.askewsfurniture.co.uk/products/melton-reclaimed-pine-dressing-wall-mirror', 'https://www.myconcept.com.hk/products/audo-copenhagen-androgyne-table-top-for-side-table', 'https://vintagehomeboutique.ca/products/mid-century-expanding-rosewood-ying-yang-table-by-ole-gjerlov-knudsen-and-torben-lund-for-france-and-son', 'https://www.gowfb.com/products/remi-tv-stand-with-brushed-stainless-steel', 'https://thebanyantree.com.au/products/maggies-harvest-by-maggie-beer', 'https://designkollective.com/stores/winteriors/products/90900', 'https://reecefurniture.com/products/ceramic-ribbed-cylinder-vase-ivory-18-75', 'https://www.henryandoliverco.com/products/designer-boys-pale-blue-foliage-ii', 'https://www.kolocollection.com/products/parkway-modular-corner-sectional-with-grade-b-fabric', 'https://afg.us.com/products/gabriel-upholstered-side-chairs-set-of-2-cappuccino-and-tan', 'https://www.furnituresales.com.au/products/teak-azur-bedside-table', 'https://reecefurniture.com/products/gold-ceramic-leaf-plate', 'https://teakco.com/products/mp-china-shanghai-side-table-3-drawer-tek168-bs-003-ol-rj-picture-illustration-colour-for-reference-only-light-pecan-colour', 'https://www.insaraf.com/products/cubex-wardrobe', 'https://viesso.com/products/batyline-white-hpcl-white-sample', 'https://designkollective.com/stores/marco-polo-imports/products/126681', 'https://designkollective.com/stores/sohoconcept/products/149400', 'https://newstartfurniture.com.au/products/single-pu-leather-bed-frame-black', 'https://timelessdesign.com.my/products/albin-bear-play-mat', 'https://www.bandhinidesign.com/en-nz/products/rake-applique-velvet-desert-lounge-cushion-55-x-55cm-1', 'https://hauslondon.com/products/matin-flush-mount-by-hay', 'https://www.georgestreet.co.uk/products/g-plan-chloe/?variation_id=17317', 'https://www.naturalgeo.com/en-gb/products/green-floral-6-piece-decorative-steel-tea-set-tea-set-200b', 'https://elephanthead.co.uk/products/teal-and-brown-floral-painted-diyas-tealight-holders', 'https://cane-line.co.uk/products/cut-stool', 'https://designkollective.com/stores/sohoconcept/products/155632', 'https://shophorne.com/products/staub-round-cocotte-1-5qt', 'https://www.idcmn.com/products/mobican-elena-1ele72-double-dresser-1', 'https://elephanthead.co.uk/products/owl-in-a-ring-christmas-ornament', 'https://www.lujo.co.nz/products/portable-hammock-and-stand-double', 'https://www.equilibriumfurnishings.com/products/carmel-5-drawer-chest', 'https://oakforless.com/products/fd-4133t-traditional-oak-67-tv-stand', 'https://whataroom.com/products/brighton-wood-storage-bed-in-cinnamon', 'https://www.ofo.com.au/products/hanging-staghorn-leaf-bunch', 'https://modshop1.com/products/sag-harbor-sofa-in-boucle', 'https://modshop1.com/products/optical-illusion-lumbar', 'https://www.insaraf.com/products/solid-wood-turner-dining-table-with-drawers', 'https://www.simpli-home.com/products/bayshore-outdoor-conversation-chair-set-of-2', 'https://www.greensladesfurniture.co.nz/products/heirloom-nz-made-faux-fur-throw-150x220cm-striped-elk', 'https://www.myconcept.com.hk/products/kare-design-shelf-modern-art-200', 'https://mossgardenhome.com/products/york-outdoor-right-module', 'https://alteriors.ca/products/tiles-2-runner-m', 'https://www.antoninimodernliving.com/products/oliver-b-dining-tables-eclisse-dt-87-wht', 'https://afg.us.com/products/amie-sectional', 'https://arkaliving.com/products/handwoven-bamboo-basket', 'https://www.georgestreet.co.uk/products/g-plan-elliot/?variation_id=19171', 'https://www.tandemarbor.com/products/varick-armless-chair-blanc-plush-velvet', 'https://onske.co.uk/products/black-leather-217-style-office-chair', 'https://www.hopewells.co.uk/products/living-dining/dining-furniture/skovby/skovby-sm23-dining-table', 'https://www.somedaydesigns.co.uk/products/rust-rich-velvet-ferm-living', 'https://www.factorybuys.com.au/products/fully-adjustable-single-monitor-arm-stand-black', 'https://dhfonline.com/products/johnson-barstool', 'https://www.whytesofcrossgar.co.uk/products/monty-2-2-chest', 'https://finelinefurnitureandaccessories.com/products/19-gold-clear-glass-vase', 'https://www.homebarsusa.com/products/ram-game-room-swivel-game-chair-in-slate', 'https://hamptonsstyle.com.au/products/tictactoe-coastal', 'https://jubileefurniturelv.com/products/dictict-tv-stand', 'https://www.skandium.com/en-kr/products/j52b-chair', 'https://emfurn.com/fr/products/vanessa-6-drawer-dresser', 'https://www.laura-james.co.uk/products/ella-wooden-armchair-set-of-2-oak', 'https://claytongrayhome.com/products/robert-abbey-bling-large-chandelier-antique-brass', 'https://www.simpli-home.com/products/eastwood-54-inch-square-dining-table', 'https://www.willowcreekteak.com/products/6-pc-venice-teak-deep-seating-armless-with-square-coffee-table-sunbrella-cushion', 'https://www.mykahome.com.au/products/clc2600-nis-3-seater-sofa-bed-light-blue-1', 'https://www.bandhinidesign.com/en-nz/products/outdoor-nautical-uniform-lounge-cushion-55-x-55-cm', 'https://www.fiveelementsfurniture.com/products/younger_east-sofa', 'https://www.jensen-lewis.com/products/berkeley-10-drawer-dresser', 'https://shophorne.com/products/condiment-trio', 'https://www.equilibriumfurnishings.com/products/computer-desk-48l-black-silver-metal', 'https://designkollective.com/stores/mixfurniture/products/147114', 'https://designkollective.com/stores/winteriors/products/105214', 'https://www.masayacompany.com/products/amador-rocking-chair-colonial-pattern', 'https://jordanshome.ca/products/acapulco-chair-apple-green', 'https://cultdesign.co.nz/products/pk25-tm-lounge-chair', 'https://emfurn.com/products/lp-conduct-mesh-office-chair', 'https://www.bandhinidesign.com/products/sea-horse-natural-artwork-67-x-85-cm', 'https://vancouverwoodworks.com/products/winners-only-dc33660r', 'https://classicwithatwist.com.au/products/bellevie-sunlounger-grey-taupe', 'https://www.georgestreet.co.uk/products/g-plan-elliot/?variation_id=18656', 'https://www.myconcept.com.hk/zh/products/carl-hansen-son-ch403-waiting-chair', 'https://www.myconcept.com.hk/products/aytm-omni-shelving-system-low-extra', 'https://www.kolocollection.com/products/sunbrella-upholstery-spectrum-mushroom', 'https://www.georgestreet.co.uk/products/g-plan-chloe/?variation_id=18080', 'https://foreverfurniture.ca/products/366lzbca', 'https://thefinestore.com/products/akari-1ad-table-lamp-isamu-noguchi-vitra', 'https://mossgardenhome.com/products/jurassic-world-die-cast-metal-projector-mini-kit', 'https://brownandbeam.com/products/plaid-throw-black', 'https://ilrestaurato.com/en-it/products/large-mirrored-glass-coffee-table-ny-form-1960s', 'https://emfurn.com/fr/products/lp-poise-office-chair', 'https://kubekfurniture.com/products/mayfair-sofa', 'https://afg.us.com/products/santa-fe-25-chair-side-table-dark-brown', 'https://www.shopden-la.com/products/pair-of-wooden-native-american-busts', 'https://www.212concept.com/products/solid-hook-4-hooks-oak', 'https://www.scandesign.com/products/fuller-area-rug-grey', 'https://www.georgestreet.co.uk/products/g-plan-elliot/?variation_id=18675', 'https://www.stacksfurniture.co.nz/products/moebe-magazine-double-bay-tall-shelving-system-walnut-b', 'https://emfurn.com/products/finn-dining-table-in-white-silver', 'https://www.classic2modern.com/products/terra-condo-classic-l-modular-sectional-livesmart-fabric-cream', 'https://www.gowfb.com/products/2-year-product-repair-upsell-under-1500-00', 'https://ilrestaurato.com/en-be/products/vintage-rocking-chair-luigi-crassevig-1970s', 'https://hauserstores.com/products/lina-linen-pillow-warm-cream', 'https://runyonsfinefurniture.com/products/dining-chair', 'https://modernkomfort.ca/products/adeline-chandelier', 'https://viesso.com/products/seminar-kvp-table', 'https://limitedabode.co.uk/products/black-plant-pot', 'https://www.simplyhammocks.co.uk/products/swing-nest-hanging-chair-taupe', 'https://www.vavoom.com.au/products/fruit-lemon', 'https://atouchoffurniture.co.uk/products/nw30-hearts-of-oak-single-drawer-wardrobe-with-2-doors', 'https://designkollective.com/stores/sohoconcept/products/152218', 'https://vanspecial.com/products/condesa-chair-deep-blue-black-frame', 'https://www.jensen-lewis.com/products/giselle-chair', 'https://magnolialane.biz/products/gatsby-mirror-oval-gold-metal', 'https://emfurn.com/fr/products/lp-freydis-greek-key-8x10-area-rug', 'https://shophorne.com/products/moon-cutlery-brushed-steel', 'https://arkaliving.com/products/large-whitewash-timor-hand-carved-mirror', 'https://ilrestaurato.com/en-us/products/italian-carrara-marble-dining-table-1970s', 'https://www.greensladesfurniture.co.nz/products/stlucia-linen-sectional-modualr-sofa-2-seater-middle', 'https://www.loungesplus.com.au/products/sofa-chair', 'https://www.greensladesfurniture.co.nz/products/artwood-aw-44-armchair', 'https://www.tandemarbor.com/products/mercer-ottoman-graphite-box-weave-linen', 'https://viesso.com/products/nyhavn-outdoor-wall-light', 'https://sakhome.co.uk/products/grainy-plate', 'https://finelinefurnitureandaccessories.com/products/made-goods-pierre-vintage-faux-shagreen-with-whitewashed-oak-desk', 'https://thecountryfurniture.com/products/fair-warm-brown-accent-cabinet', 'https://teak-furniture-singapore.com/products/luna-modern-minimalist-coffee-table', 'https://teak-furniture-singapore.com/products/jesse-solid-wood-dining-table-modern-minimalist-conference-table', 'https://vancouverwoodworks.com/products/howardmiller-angelina-1', 'https://www.simpli-home.com/products/harper-3-door-sideboard-buffet-storage-cabinet', 'https://www.coolstuffandaccessories.com/products/vologne-console-table', 'https://woodaction.com/products/bj-stool-15', 'https://singaporetradingpost.com/products/green-floral-velvet-cushion', 'https://thebeachfurniture.com.au/products/verona-bedside-table-rhs', 'https://www.do-shop.com/products/slow-lounge-chair-two-seater', 'https://teak-warehouse-sale.com/products/boston-hilton-american-solid-wood-sofa-1-2-3-armrest-leather-cloth-seat', 'https://cultdesign.co.nz/products/silhouette-mirror-rectangle', 'https://www.antoninimodernliving.com/products/italian-garden-outdoor-dining-tables-quatris-sq-dt-wht', 'https://kubekfurniture.com/products/edwina-corner-dining-set-in-3-wicker-special-grey-in-stock', 'https://designkollective.com/stores/sohoconcept/products/154520', 'https://thebanyantree.com.au/products/tasteology-pizza-seasoning', 'https://wholesaleteakcompany.com/products/larde-circle-table-lamp', 'https://www.factorybuys.com.au/products/wall-mounted-tv-bracket', 'https://www.georgestreet.co.uk/products/g-plan-chloe/?variation_id=17501', 'https://www.furnituresales.com.au/products/mesh-serving-trays-set-of-2', 'https://hamptonsstyle.com.au/products/hamptonsarchedmirrorblack', 'https://www.corcovado.co.nz/products/entrance-bench', 'https://www.vavoom.com.au/products/smithsonian-swivel-armchair-charcoal', 'https://whataroom.com/products/lawtey-2-drawer-writing-desk-with-outlet-aged-walnut', 'https://choufani.com/en-kw/products/violetta-door-handle', 'https://qualitywoods.com/products/qw-amish-lincoln-office-desk-hutch', 'https://www.ledecostyle.com/products/pair-of-mid-century-modernist-club-chairs-1', 'https://hauserstores.com/products/arrow-cordless-lamp', 'https://www.greensladesfurniture.co.nz/products/nz-sheepskin-round-floor-rug-natural-120cm', 'https://www.modernfurnituredeals.co.uk/products/small-copper-brushed-elephant-figurine', 'https://ilrestaurato.com/en-be/products/vintage-lc2-leather-armchairs-le-corbusier-cassina-1970s', 'https://www.softsquare.com/products/copy-of-b-b-ray-outdoor-sectional', 'https://www.myconcept.com.hk/products/kare-design-sideboard-la-gomera-4-doors', 'https://emfurn.com/es/products/lp-lucia-twin-performance-velvet-headboard', 'https://www.shopden-la.com/products/pyramid-paper-shade-table-lamp', 'https://www.simpli-home.com/products/henley-tufted-ottoman', 'https://hklivingusa.com/products/slatted-bench-teak-wood', 'https://designkollective.com/stores/marco-polo-imports/products/51088', 'https://www.laura-james.co.uk/products/amelia-whitewash-dining-table-set-6-seater-freya-grey-carver-chairs-with-oak-legs', 'https://www.fiveelementsfurniture.com/products/super-light-table', 'https://www.thefurnituremegastore.co.uk/products/new-foundry-console-table', 'https://timelessdesign.com.my/products/sassa-5-tier-book-shelf', 'https://www.getmycouch.com/products/door-runner-1', 'https://bestfurniture.co.nz/products/downey-coffee-table-with-drawers', 'https://boahaus.com/products/boahaus-hollywood-vanity-mirror-bulbs-10-count', 'https://www.georgestreet.co.uk/products/g-plan-elliot/?variation_id=18755', 'https://teakco.com/products/china-shanghai-chest-of-drawer-5-drawers-tek168tb-005-ol-rh', 'https://designkollective.com/stores/sohoconcept/products/164493', 'https://emfurn.com/es/products/lp-lippa-48-oval-wood-top-dining-table', 'https://www.myconcept.com.hk/zh/products/artemide-pirce-suspension', 'https://boulevardoutdoorfurniture.com/products/oneata-navua-outdoor-lounge-set', 'https://decorium.us/products/velvet-storage-ottoman-with-gold-base-in-3-color-options', 'https://homestreethome.ie/products/trioleaf-masala-box-black', 'https://www.granitelane.com.au/products/aerial-seascape-print', 'https://www.mykahome.com.au/products/evo-top-drawer-tv-stand', 'https://designkollective.com/stores/chic-home/products/137800', 'https://hauslondon.com/products/bestlite-bl7-chrome-hardwired-clearance', 'https://newstartfurniture.com.au/products/atrium-hatch-natural-floor-rug', 'https://elephanthead.co.uk/products/light-blue-and-white-mini-succulent-planter', 'https://www.quaysideinteriors.co.uk/products/coastal-dining-chair-two-tone-green', 'https://teakco.com/products/weston-nordic-solid-wood-bedside-lamp-table-scandinavian', 'https://wholesaleclassicfurniture.com/products/savannah-american-french-style-simple-flannel-sofa-neo-classical', 'https://nofred.com/products/mouse-chair-2', 'https://www.prestige-affairs.com/products/natalia-armless-sofa-white-granite', 'https://www.softsquare.com/products/artifort-bras-3-seat-sofa', 'https://jordanshome.ca/products/painting-of-tiles', 'https://www.zipchair.com/products/joy-floral-vertical-blue', 'https://teak-furniture-singapore.com/products/autumn-recycle-solid-wood-buffet-sideboard-cabinet-old-elm', 'https://thefinestore.com/products/calvo-side-table-walnut-scp-1', 'https://www.askewsfurniture.co.uk/products/albany-collection-by-sherborne-fabric', 'https://viesso.com/products/flipside-sofabed', 'https://yourpatiostore.com/en-ca/products/atlantic-side-table-round-solid-website', 'https://teakco.com/products/pjs-photo-frame-3-section-french-style-dso-grey-colour', 'https://alteriors.ca/products/usm-haller-storage-g2a', 'https://viesso.com/products/eiffel-arm-wire-counter-stool-leather', 'https://jordansinteriors.ca/zh/products/valencia-bunching-cocktail-table', 'https://www.blackmango.com.au/products/juno-bedhead-slipcover-only-queen', 'https://designkollective.com/stores/theshiplapstore/products/54799', 'https://brisbanefurniture.com.au/products/halo-buffet', 'https://www.whytesofcrossgar.co.uk/products/benson-large-sideboard', 'https://jordansinteriors.ca/zh/products/walnut-grove-dresser', 'https://www.centralliving.co.uk/products/birdie-easy-grande-table-lamp-6-colours', 'https://ilrestaurato.com/en-it/products/murano-glass-table-lamp-by-carlo-nason-1970s', 'https://designkollective.com/stores/sohoconcept/products/153238', 'https://www.georgestreet.co.uk/products/g-plan-chloe/?variation_id=16466', 'https://bestfurniture.co.nz/products/helsinki-coffee-table', 'https://mossgardenhome.com/products/glass-square-tealight-holder', 'https://www.skandium.com/products/hay-palissade-round-cone-table', 'https://www.skandium.com/en-kr/products/dreistelz-floor-lamp', 'https://lexiconhome.com/products/d182538-60', 'https://www.getmycouch.com/products/julia-tv-unit-walnut-finish-fn-gmc-009608', 'https://foreverfurniture.ca/products/2m1-sectional', 'https://newstartfurniture.com.au/products/gardeon-outdoor-patio-furniture-recliner-chairs-table-setting-wicker-lounge-5pc-black', 'https://claytongrayhome.com/products/made-goods-lorenz-single-nightstand-zinc', 'https://www.cranmorehome.com.au/products/bedside-table-curved-by-cranmore-home-co', 'https://hauslondon.com/products/jwda-concrete-lamp-by-menu', 'https://littlepartners.com/products/explore-n-store-learning-tower-lp0145-top-stretcher', 'https://www.greensladesfurniture.co.nz/products/denver-side-table', 'https://qualitywoods.com/products/qw-amish-kira-dresser-mirror', 'https://homesteadfurniturebc.com/products/x-style-steel-dining-table-bases-set-of-2-gunmetal-grey', 'https://www.interiorliving.ca/products/mix-modular-4-pc-sectional', 'https://modshop1.com/products/marrakech-white-pink', 'https://designkollective.com/stores/mixfurniture/products/159128', 'https://jordanshome.ca/products/fierce-chair', 'https://newstartfurniture.com.au/products/skandinavian-315-silver-floor-rug', 'https://hemma.sg/products/hugo-tv-media-bench-black-white', 'https://candb.ca/products/mws_apo_1_mavis-chair-custom', 'https://french-classic-furniture.com/products/paxson-comfort-anti-fatigue-mat', 'https://jordansinteriors.ca/products/jaymar-dylan-bed', 'https://www.georgestreet.co.uk/products/g-plan-chloe/?variation_id=16721', 'https://www.georgestreet.co.uk/products/g-plan-elliot/?variation_id=20473', 'https://4-chairs.com/products/dakota-sectional', 'https://designkollective.com/stores/chic-home/products/52595', 'https://alteriors.ca/products/meshmatics-suspension', 'https://teak-furniture-singapore.com/products/mareike-contemporary-minimalist-led-half-moon-standing-lamp', 'https://www.sundays-company.com/products/take-the-edge-off-counter-stool-white', 'https://designkollective.com/stores/studio427/products/80438', 'https://www.granitelane.com.au/products/mona-tray-black', 'https://cultdesign.co.nz/products/office-desk', 'https://thefinestore.com/products/j42-chair-black-hay', 'https://www.willowcreekteak.com/products/huntington-club-chair-replacement-cushion', 'http://camerich-bd.com/products/crescent-bed/', 'https://www.classic2modern.com/products/barcelona-platform-q-s', 'https://www.classic2modern.com/products/d832-dining-chair', 'https://modernkomfort.ca/products/boynton-wall-lantern-medium', 'https://www.myconcept.com.hk/products/carl-hansen-son-ch22-lounge-chair', 'https://www.getmycouch.com/products/liam-4-seater-sofa-in-boucle-fabric', 'https://www.kmpfurniture.com/fire_collection/products/lighting_76_1.html', 'https://www.laura-james.co.uk/products/marilyn-bar-stool-set-of-2-grey-velvet', 'https://dhfonline.com/products/new-orleans-double-old-fashioned-glass-s-4', 'https://www.gowfb.com/products/pur-queen-murphy-wall-bed-and-2-storage-units-136', 'https://tiger-oak.com/products/19th-century-danish-mahogany-armchair', 'https://www.classic2modern.com/products/delaware-adjustable-cafe-table', 'https://www.zipchair.com/products/office-chair-1000-with-tennessee-lady-volunteers-logo', 'https://designkollective.com/stores/marco-polo-imports/products/100295', 'https://mossgardenhome.com/products/zen-yoga-aluminum-sculpture-arms-up', 'https://tiger-oak.com/products/pair-of-antique-os-de-mouton-arm-chairs', 'https://ilrestaurato.com/en-de/products/leather-lounge-armchair-by-pascal-mourgue-for-steiner-1970s', 'https://www.skandium.com/products/kitchen-roll-holder-vipp266', 'https://www.zipchair.com/products/silver-club-chair-with-stanford-cardinals-logo', 'https://designkollective.com/stores/sohoconcept/products/153692', 'https://urbangalleria.com/products/leatherite-computer-chair', 'https://atomi.shop/products/natural-brown-high-back-sofa', 'https://ilrestaurato.com/en-it/products/vienna-straw-curved-wood-chairs-1970s-set-of-4', 'https://www.greensladesfurniture.co.nz/products/oreti-cement-outdoor-planter-medium', 'https://www.theimporter.co.nz/products/oriental-bedside-natural', 'https://www.stacksfurniture.co.nz/products/tango-sofa-in-orleans-clover', 'https://www.insaraf.com/products/solid-wood-sputnik-beige-fabric-lampshade-floor-lamp-with-brown-base', 'https://www.factorybuys.com.au/products/kids-ride-on-car-black-3', 'https://cane-line.co.uk/products/cushion-set-connect-3-seater-sofa', 'https://ingoodcompany.com.au/products/epic-table-warm-taupe-travertine', 'https://maximahouse.com/products/horizontal-murphy-bed-invento-with-a-sofa-european-queen-2', 'https://hamptonsstyle.com.au/products/domo-short-cloche', 'https://designhouse.com/es/products/neon-butterfly-reverie', 'https://emfurn.com/fr/products/lp-conduit-outdoor-patio-wicker-rattan-dining-armchair-set-of-2', 'https://mahliainteriors.com.au/products/mother-of-pearl-floral-small-cross-white', 'https://asianteakfurniture.com/products/camryn-belair-bed-japanese-style-tatami-bed-nordic-solid-wood', 'https://24estyle.com/products/dinasaur-egg-agate-skull', 'https://www.myconcept.com.hk/zh/products/artemide-nur-mini-gloss', 'https://huckandpeck.com/products/myanmar-tobacco-3-5-x-5-5', 'https://www.myconcept.com.hk/zh/products/italamp-perla-table', 'https://www.homebarsusa.com/products/howard-miller-kane-iv-curio-cabinet-680698', 'https://www.zipchair.com/products/silver-sofa-with-los-angeles-dodgers-logo', 'https://www.stacksfurniture.co.nz/products/mogambo-leather-armchair-in-coronet-olive', 'https://www.canvasinteriors.com/products/rene-1', 'https://emfurn.com/products/convene-4-piece-outdoor-patio-daybed', 'https://www.henryandoliverco.com/products/rectangle-tissue-box-whitewash', 'https://bydesignmodern.com/products/dining-chairs-322-180', 'https://www.myconcept.com.hk/products/magis-360-swivel-stool', 'https://circa60.com/products/long-sexy-mid-century-modern-sculpted-dresser-sideboard-c-1960s', 'https://www.couchpotatocompany.com/products/rocker', 'https://french-classic-furniture.com/products/chloe-scandinavian-sofa-american-hardwood-japanese-style-choice-of-5-size-7-color', 'https://whataroom.com/products/bernal-dining-table', 'https://www.modishstore.com/products/safavieh-pembrooke-rattan-side-chair', 'https://sakhome.co.uk/products/luxe-40cm-roaster-in-carbon-steel-quantum-ii-coating', 'https://www.myconcept.com.hk/products/fontanaarte-cheshire-table-lamp', 'https://www.mantrafurnishings.com/products/mop-overlay-taj-mirror-medium-mantra-home-decor', 'https://modernkomfort.ca/products/bayou-flush-mount', 'https://1outdoorfurniture.com/products/camryn-belair-bed-japanese-style-tatami-bed-nordic-solid-wood', 'https://claytongrayhome.com/products/made-goods-carrigan-60-dresser-french-gray-vintage-faux-shagreen', 'https://www.tandemarbor.com/products/humboldt-shelter-bed-graphite-crushed-velvet', 'https://www.vavoom.com.au/products/tigerlily-jasmine-felt-air-freshener', 'https://www.canvasinteriors.com/products/maya-1', 'https://www.tandemarbor.com/products/varick-u-chaise-sectional-blanc-plush-velvet', 'https://limitedabode.co.uk/products/metal-indoor-outdoor-mirror', 'https://www.thefurnituremegastore.co.uk/products/laurence-pewter-leaner-mirror', 'https://shophorne.com/products/footed-salt-cellar-with-spoon', 'https://www.scandesign.com/products/jasmine-sofa-light-stone', 'https://designkollective.com/stores/coastal-living/products/5839', 'https://designkollective.com/stores/winteriors/products/90933', 'https://modernhomefurniture.com.au/products/tarantino-taro-corner-chaise-electric-recliner', 'https://homeresource.com/products/shade-outdoor-palette-1', 'https://thebanyantree.com.au/products/oyoy-gilbert-guard', 'https://sakhome.co.uk/products/bakehouse-nylon-spoon-with-s-s-handle', 'https://www.ameriwoodhome.com/products/finnegan-29-36-gallon-aquarium-or-terrarium-stand', 'https://wholesaleclassicfurniture.com/products/lemington-dining-table', 'https://www.skandium.com/products/cover-chair-with-upholstered-seat', 'https://www.fentonandfenton.com.au/products/piero-clemente-garreffa-coloseo', 'https://www.willowcreekteak.com/products/monterey-teak-outdoor-chaise-lounger-with-wheels-sunbrella-cushion', 'https://lavida-furniture.com/products/ares-ars-33-visitor-office-chair', 'https://lavida-furniture.com/products/golf-night-stand', 'https://edenliving.online/products/arona-3pce-chat-setting', 'https://modshop1.com/products/amalfi-sofa-in-linen-and-walnut-base', 'https://jordanshome.ca/products/franklins-forge-end-table', 'https://studioydesign.ca/products/salema-2-piece-sectional-sofa-living-room-furniture', 'https://www.modishstore.com/products/safavieh-gianni-arm-chair', 'https://www.skandium.com/products/le-roi-coffee-table', 'https://cultdesign.co.nz/products/vl38-floor-lamp-black', 'https://lexiconhome.com/products/o185606-31', 'https://www.softsquare.com/products/calligaris-saint-tropez-office-chair', 'https://emfurn.com/pt/products/lp-cecilia-full-queen-performance-velvet-headboard', 'https://atomi.shop/products/folding-low-table', 'https://choufani.com/en-bh/products/melodie-mirror', 'https://www.gowfb.com/products/iso-single-sleeper-swivel-chair-with-silver-powder-coated-steel', 'https://hamptonsstyle.com.au/products/hunter-rattan-scallop-round-mirror', 'https://decorium.us/products/anita-seared-oak-stool-in-2-sizes-and-3-color-options', 'https://reecefurniture.com/products/ceramic-9-25-planter-on-stand-blue', 'https://www.myconcept.com.hk/zh/products/occhio-sito-verticale', 'https://www.loungesplus.com.au/products/3-seater-with-end-recliners-2', 'https://www.212concept.com/products/gazel-arm-lounge-4-star-chair', 'https://hemmingandwills.co.uk/products/single-rattan-nest-chair', 'https://www.factorybuys.com.au/products/greenhouse-6mx3m-garden-shed-green-house-storage-tunnel-plant', 'https://afg.us.com/products/caitbrook-gray-rectangular-dining-room-counter-table', 'https://www.totemroad.com/products/coral-oval-dining-table', 'https://www.mykahome.com.au/products/cdt8438-kd-1-18-h-wooden-storage-cabinet-natural', 'https://hauserstores.com/products/circinus-round-mirror', 'https://designkollective.com/stores/castleantiquesinc/products/31097', 'https://mildanmarket.com/products/adisa-39x39', 'https://www.myconcept.com.hk/zh/products/nanimarquina-aros', 'https://www.georgestreet.co.uk/products/g-plan-elliot/?variation_id=20327', 'https://limitedabode.co.uk/products/bulldog-art', 'https://modernhomefurniture.com.au/products/caulfield-bar-stool-solid-seat-white', 'https://woodaction.com/products/cora-mirror', 'https://wholesaleclassicfurniture.com/products/cologne-cathedral-concrete-night-light', 'https://www.souk.co.nz/products/gretna-rug-200-x-300cm', 'https://designkollective.com/stores/chic-home/products/58180', 'https://www.thefurnituremegastore.co.uk/products/willow-vintage-leather-tufted-chair-choice-of-feet-leathers', 'https://jordanshome.ca/products/halston-6-drawer-dresser', 'https://totalpatioaccessories.com/products/aubrey-right-module', 'https://designkollective.com/stores/chic-home/products/98462', 'https://www.naturalgeo.com/products/natural-geo-handmade-rosewood-flower-wooden-decorative-box-with-key', 'https://atomi.shop/products/t-o-dining-table-veneer-maple-clear', 'https://dunlin.com.au/products/exterior-bracket-light', 'https://candb.ca/products/abstract-buffet-grey', 'https://emfurn.com/pt/products/tulip-60-oval-wood-dining-table', 'https://viesso.com/products/celeste-lava-side-table', 'https://viesso.com/products/sunny-sooty-indoor-outdoor-cushion', 'https://finelinefurnitureandaccessories.com/products/made-goods-hyde-complementary-sculptural-coffee-table', 'https://qualitywoods.com/products/qw-amish-open-rope-coat-tree', 'https://www.georgestreet.co.uk/products/g-plan-chloe/?variation_id=16559', 'https://arkaliving.com/products/two-2-natural-living-room-chair-teak-wooden-chair-simple-unique-dining-chair', 'https://www.kolocollection.com/products/illum-60x39-5-counter-height-table-aluminum-base-ceramic-top', 'https://designkollective.com/stores/sohoconcept/products/152921', 'https://www.quaysideinteriors.co.uk/products/flavia-dining-chair-green-boucle', 'https://hamptonsstyle.com.au/products/long-island-side-table-large-black', 'https://french-classic-furniture.com/products/archeveque-geometric-area-rug', 'https://teakco.com/products/charlotte-american-country-dressing-table-vanity-desk-mirror', 'https://www.idcmn.com/products/65032', 'https://rusticland.co.uk/es/products/pairs-of-scaffold-board-225mm-shelf-brackets-raw-black-white-fixings-included', 'https://www.myconcept.com.hk/products/artemide-edge-30-suspension', 'https://grandads-shed.com/products/fabric-leather-dining-bench-1', 'https://mossgardenhome.com/products/wood-smoke-rag-rug-2-x-3', 'https://modernityvintage.com/products/copy-of-vintage-italian-fratelli-reguitti-coat-hanger', 'https://vancouverwoodworks.com/products/nightandday-pap-kh-ekg-rd-cho-com', 'https://www.ambersfurniture.com/products/mckenzie-3-drw-desk', 'https://qualitywoods.com/products/millcraft-bourdeaux-3-drawer-nightstand', 'https://homeresource.com/products/moondance-nightstand', 'https://www.couchpotatocompany.com/products/florence-knoll-medium-low-table-rectangular', 'https://www.mainecottage.com/products/sunbrella-longboard-rug-french-blue', 'https://www.gowfb.com/products/cantro-extending-dining-table-with-clear-glass-and-black-powder-coated-base', 'https://www.getmycouch.com/products/harley-slipper-chair-in-green-fabric-fn-gmc-009536', 'https://designkollective.com/stores/mixfurniture/products/113681', 'https://kubekfurniture.com/products/sherwood-folding-table-1400mm-available-may', 'https://www.simplyhammocks.co.uk/products/underquilt-poncho', 'https://www.insaraf.com/products/casa-brown-wooden-wall-light', 'https://afg.us.com/products/wadeworth-brown-beige-occasional-table-set-set-of-3', 'https://designkollective.com/stores/sohoconcept/products/149312', 'https://designkollective.com/stores/sohoconcept/products/151071', 'https://www.willowcreekteak.com/products/9-pc-venice-teak-arm-dining-set-with-102-rectangular-dining-table', 'https://lavida-furniture.com/products/bianca-sofa-set-3-3-1', 'https://uniquehomefurnishing.co.uk/products/velvet-rose-diamond-candle-jar', 'https://www.thefurnituremegastore.co.uk/products/chloe-fabric-3-2-sofa-set-grey', 'https://jordansinteriors.ca/products/lily-koo-patrick-executive-desk', 'https://shophorne.com/products/zwilling-pro-3-paring-knife', 'https://afg.us.com/products/bixby-dining-chair-set-of-2-espresso', 'https://www.skandium.com/en-kr/products/ch338-table-mahogany', 'https://hklivingusa.com/products/felt-seat-cover-camel', 'https://www.skandium.com/en-kr/products/bykato-table', 'https://hauserstores.com/products/the-mooring-ii-wall-art', 'https://newstartfurniture.com.au/products/gardeon-sun-lounge-setting-recliner-chair-outdoor-furniture-patio-wicker-sofa', 'https://www.rightprice.co.uk/products/lignum-fusion-twelve-v-oak-natural-junior', 'https://www.modishstore.com/products/safavieh-canyon-teak-round-stool', 'https://www.laura-james.co.uk/products/willow-wood-round-coffee-table', 'https://www.simplyhammocks.co.uk/products/travock-xl-travel-hammock-rainbow', 'https://lostine.com/products/first-day-as-swiss', 'https://livingbydesign.net.au/products/cone-candle-bundle-mixed-set-of-3', 'https://bestfurniture.co.nz/products/bernard-old-elm-butterfly-extension-table', 'https://jordansinteriors.ca/zh/products/galactica-swivel-chair', 'https://www.idcmn.com/products/tranekaer-252-dining-chair', 'https://ingoodcompany.com.au/products/epic-table-burnt-red', 'https://designkollective.com/stores/mixfurniture/products/147827', 'https://nativelifestyle.co.uk/products/fthr-woven-grey', 'https://afg.us.com/products/lodia-round-counter-height-table', 'https://www.laura-james.co.uk/products/charlie-dining-table-drop-leaf-natural', 'https://designkollective.com/stores/mixfurniture/products/105719', 'https://decorium.us/products/roy-traditional-bedroom-collection', 'https://www.do-shop.com/products/valet-lounge-chair', 'https://newstartfurniture.com.au/products/cefito-wall-cabinet-storage-bathroom-kitchen-bedroom-cupboard-organiser-white', 'https://dormahome.com/products/gamma-chair-petrol-blue', 'https://homedesignstoreflorida.com/products/sh-serenity-face', 'https://qualitywoods.com/products/qw-amish-reclaimed-barnwood-london-fog-dresser', 'https://www.couchpotatocompany.com/products/noguchi-coffee-table', 'https://www.thefurnituremegastore.co.uk/products/bombay-mango-wood-small-dining-table', 'https://www.thefurnituremegastore.co.uk/products/chelsea-lion-knocker-back-pink-velvet-dining-chairs-set-of-2', 'https://bestfurniture.co.nz/products/tin-man-fork-ewe-box-framed-ready-to-hang-tony-cribb-nz-made', 'https://www.insaraf.com/products/maharaja-bed', 'https://designkollective.com/stores/sohoconcept/products/157182', 'https://urbanfurnishing.net/products/katie-60-modern-farmhouse-vanity-with-carrara-white-top-driftwood-gray', 'https://www.modishstore.com/products/vita-silvia-white', 'https://viesso.com/products/bondi-belle-configuration-11-with-teak-table', 'https://designkollective.com/stores/13hublane/products/9178', 'https://vancouverwoodworks.com/products/aamerica-briob285k', 'https://hauslondon.com/products/cloche-by-lars-feller-fjetland', 'https://www.softsquare.com/products/artifort-beso-wood-leg-stool', 'https://www.modishstore.com/products/modway-path-dining-side-chair', 'https://www.modernfurnituredeals.co.uk/products/eli-5-doors-3-drawers-mirrored-wardrobe-white', 'https://designkollective.com/stores/sohoconcept/products/150145', 'https://homeresource.com/products/chester-one', 'https://designkollective.com/stores/mixfurniture/products/170907', 'https://www.loungesplus.com.au/products/eco-breeze-wool-beige', 'https://www.equilibriumfurnishings.com/products/dining-table-32x-48-white', 'https://livingbydesign.net.au/products/aria-lupa-round-dining-table-sahara-ciment-150cm', 'https://grandads-shed.com/products/gowthorpe-corner-tv-unit', 'https://hauslondon.com/products/lens-box-stackable-maple-by-thomas-jenkins', 'https://designkollective.com/stores/tistas/products/61435', 'https://thebanyantree.com.au/products/get-well-soon-teapot-card', 'https://www.mainecottage.com/products/oceane-gourd-table-lamp', 'https://www.willowcreekteak.com/products/les-jardin-mona-solar-led-lamp', 'https://www.skandium.com/en-kr/products/georg-stool', 'https://whataroom.com/products/perth-outdoor-dining-table', 'https://designkollective.com/stores/sohoconcept/products/154266', 'https://www.equilibriumfurnishings.com/products/table-set-3pcs-set-white-silver-metal', 'https://choufani.com/en-kw/products/kate-bed', 'https://www.lakkadhaara.com/products/solid-wood-coffee-table-7', 'https://designkollective.com/stores/de-cor-globally-inspired/products/175383', 'https://www.jensen-lewis.com/products/nico-full-xl-loveseat-sleeper', 'https://www.askewsfurniture.co.uk/products/austin-dining-chair-grey-velvet', 'https://rutherford-romaguera2611.myshopify.com/products/brass-pineapple-drink-set', 'https://www.scandesign.com/products/shelby-recliner-mint', 'https://afg.us.com/products/chime-firm-mattress', 'https://designkollective.com/stores/winteriors/products/90852', 'https://newstartfurniture.com.au/products/artiss-office-chair-gaming-chair-computer-mesh-chairs-executive-mid-back-black-1', 'https://designkollective.com/stores/mixfurniture/products/148699', 'https://finditstyleithome.com.au/products/rattan-bar-cart', 'https://shophorne.com/products/santorini-outdoor-pendant', 'https://decorium.us/products/astra-fabric-stool-in-2-sizes-and-3-color-options', 'https://hamptonsstyle.com.au/products/bridgewater-dining-table', 'https://emfurn.com/pt/products/emfurn-block-walnut-stool', 'https://www.18karatstore.com/products/cha-bs48938ws-2-ea', 'https://emfurn.com/fr/products/lp-gear-dining-side-chair', 'https://www.georgestreet.co.uk/products/g-plan-elliot/?variation_id=18729', 'https://designkollective.com/stores/uptownstyle/products/73128', 'https://vancouverwoodworks.com/products/whittier-wood-3505gac', 'https://jordansinteriors.ca/zh/products/oak-knoll-spindle-platform', 'https://www.antoninimodernliving.com/products/italian-garden-outdoor-dining-chairs-summertime-wht', 'https://oakforless.com/products/sd-2952ro2-48-sedona-rustic-oak-48-h-bookcase', 'https://designkollective.com/stores/castleantiquesinc/products/29328', 'https://designkollective.com/stores/sohoconcept/products/157453', 'https://kubekfurniture.com/products/midnight-montana-cushion-box', 'https://designhouse.com/products/gaze-of-the-predator', 'https://www.georgestreet.co.uk/products/g-plan-elliot/?variation_id=19336', 'https://modernhomefurniture.com.au/products/clayton-tv-unit-2-0m', 'https://pepegarden.co.uk/products/amelia-square-table', 'https://vincentdesign.com.au/products/rains-w-puffer-black', 'https://classicwithatwist.com.au/products/1800-chair-back-rest-cushion-1', 'https://midinmod.com/products/rigo-blue-8x10-washable-rug', 'https://viesso.com/products/bok-oak-side-table', 'https://hklivingusa.com/products/space-drawer-cabinet', 'https://hauslondon.com/products/cast-wall-sconce-dimmable-by-menu', 'https://lexiconhome.com/products/s189407dg-2', 'https://www.simpli-home.com/products/skyler-nesting-2-pc-side-table', 'https://designkollective.com/stores/marco-polo-imports/products/138700', 'https://www.do-shop.com/products/infinito-armchair', 'https://designkollective.com/stores/marco-polo-imports/products/52444', 'https://www.modishstore.com/products/safavieh-nevin-accent-table', 'https://teak-warehouse-sale.com/products/sleigh-solid-teak-timber-queen-bed-mahogany-color-tws899bs-000-qs-m_1', 'https://designkollective.com/stores/de-cor-globally-inspired/products/175434', 'https://jordansinteriors.ca/products/lily-koo-curtis-headboard', 'https://huckandpeck.com/products/loloi-masai-rug-java-ivory-mas-01', 'https://www.ambersfurniture.com/products/fdw-broadway-table', 'https://www.myconcept.com.hk/zh/products/magis-mil-table-80-cm', 'https://jordansinteriors.ca/products/childs-table', 'https://limitedabode.co.uk/products/staffy-art', 'https://finelinefurnitureandaccessories.com/products/made-goods-ramon-contemporary-faux-buffet', 'https://finelinefurnitureandaccessories.com/products/made-goods-renard-sophisticated-hair-on-hide-tray-set', 'https://adona.in/products/adona-aura-floating-compact-wall-shelf-retainer-set-two-kids', 'https://www.simpli-home.com/products/reaney-swivel-office-chair', 'https://jubileefurniturelv.com/products/carsa-modern-leather-sectional-with-chaise', 'https://mrnanyang.com/products/contemporary-charm-sintered-stone-coffee-table', 'https://www.skandium.com/en-kr/products/pacha-lounge-chair-outdoor-swivel', 'https://www.myconcept.com.hk/products/artemide-pirce-suspension', 'https://huset-shop.com/products/shepherd-of-sweden-allan-slippers', 'https://www.antoninimodernliving.com/products/8-82174', 'https://designkollective.com/stores/sohoconcept/products/152352', 'https://www.factorybuys.com.au/products/600w-led-grow-light-full-spectrum', 'https://qualitywoods.com/products/qw-amish-matison-6-drawer-chest', 'https://www.myconcept.com.hk/products/magis-officina-bistrot-table-alto-80x55-cm', 'https://www.granitelane.com.au/products/garcia-rug-fudge', 'https://hamptonsstyle.com.au/products/samaraporcelainlampstring', 'https://www.canvasinteriors.com/products/anna', 'https://mulamu.com/products/hakon-table', 'https://modernkomfort.ca/products/elise-rug-05-navy-red', 'https://fredericksgallery.ca/products/algoma-4-drawer-chest-new', 'https://jordansinteriors.ca/products/asian-stool', 'https://bungalowfurniture.com/products/mabuhay-matte-gold', 'https://sakhome.co.uk/products/artisan-street-20cm-medium-mixing-bowl', 'https://totalpatioaccessories.com/products/pedestal-ottoman-24', 'https://www.smallspaceplus.com/products/aries', 'https://www.simpli-home.com/products/ela-narrow-end-table', 'https://jubileefurniturelv.com/products/rium-leather-love-seat-with-recliner', 'https://www.greensladesfurniture.co.nz/products/odesa-console', 'https://www.sundays-company.com/products/everyday-4-door-sideboard-oak', 'https://shop.vanillawood.com/products/rico-espinet-nina-flushmount', 'https://thebanyantree.com.au/products/chair-172-feelgood-designs', 'https://www.modernfurniture.com.au/products/larkin-executive-desk-with-right-return-2-4m-mahogany-black', 'https://bestfurniture.co.nz/products/nostalgia-sofa-2-sizes-and-colours', 'https://modernkomfort.ca/products/studio-rack', 'https://mulamu.com/products/issa-chair', 'https://candb.ca/products/lavo-26-counter-stool-blue-set-of-2', 'https://emfurn.com/es/products/lp-tahoe-outdoor-patio-acacia-wood-side-table', 'https://hauserstores.com/products/misty-seaside-wall-art', 'https://www.fiveelementsfurniture.com/products/lodi-chair', 'https://www.modishstore.com/products/modway-engage-leather-sofa-set', 'https://qualitywoods.com/products/qw-amish-felix-secretary-desk', 'https://www.greensladesfurniture.co.nz/products/devon-hast-teak-outdoor-bar-leaner-table-1500', 'https://rusticland.co.uk/it/products/reclaimed-table-rustic-wooden-desk-office-pc-storage-unit-steel-industrial-style-ot04', 'https://www.couchpotatocompany.com/products/tai-ping-la-playa-rug', 'https://vanspecial.com/products/kinto-aquaculture-vase-80mm-grey', 'https://qualitywoods.com/products/qw-amish-nbw-4-door-buffet-with-hutch-mirrored-back', 'https://claytongrayhome.com/products/made-goods-annika-stool-sand', 'https://www.theimporter.co.nz/products/diamond-sphere-cushion', 'https://fredericksgallery.ca/products/saratoga-nightstand-new-2', 'https://modernhomefurniture.com.au/products/clifton-study-desk-1', 'https://jubileefurniturelv.com/products/merdell-small-modern-leather-sectional', 'https://nativelifestyle.co.uk/products/shorncus-coral-4545', 'https://urbangalleria.com/products/sofa-cum-bed-leatherite-red', 'https://ingoodcompany.com.au/products/stacked', 'https://vancouverwoodworks.com/products/howardmiller-yvonnewallclock', 'https://candb.ca/products/3light-concrete-pendant-lamp-31', 'https://designkollective.com/stores/13hublane/products/11080', 'https://taeillo.com/products/nife', 'https://jubileefurniturelv.com/products/gara-modern-leather-sectional', 'https://emfurn.com/products/concord-round-colorful-wall-clock', 'https://livingbydesign.net.au/products/bento-power-sara-kiyo-popowa', 'https://www.centralliving.co.uk/products/valkea-tealight-holder-orange', 'https://www.rightprice.co.uk/products/renata-console-table-oak', 'https://designkollective.com/stores/sohoconcept/products/156006', 'https://www.coolstuffandaccessories.com/products/hypergear-cobrastrike-true-wireless-gaming-earbuds', 'https://www.do-shop.com/products/swirl-small-suspension-light', 'https://thebanyantree.com.au/products/globewest-artie-wave-console', 'https://hauslondon.com/products/tools-cheese-knife', 'https://www.stacksfurniture.co.nz/products/alliraorganisermedium-purple', 'https://thecountryfurniture.com/products/lodanna-gray-two-drawer-night-stand', 'https://newstartfurniture.com.au/products/artiss-lift-up-top-coffee-table-storage-shelf-black', 'https://designkollective.com/stores/marco-polo-imports/products/4453', 'https://www.scandesign.com/products/cielo-coffee-table-bleached', 'https://homesteadfurniturebc.com/en-us/products/galileo-sideboard-72', 'https://designkollective.com/stores/horizonhome/products/9993', 'https://www.equilibriumfurnishings.com/products/alma-nuevo-table-side-top-black-metal', 'https://www.thefurnituremegastore.co.uk/products/picasso-pink-fabric-bedstead-3ft-single-bed', 'https://www.myconcept.com.hk/zh/products/aytm-canopy-for-6-pendels', 'https://afg.us.com/products/bridson-gray-rect-drm-table-set-set-of-6', 'https://homeresource.com/products/homey-table']\n"
     ]
    }
   ],
   "execution_count": 19
  },
  {
   "metadata": {
    "ExecuteTime": {
     "end_time": "2024-09-13T20:50:42.477531Z",
     "start_time": "2024-09-13T20:43:54.866189Z"
    }
   },
   "cell_type": "code",
   "source": [
    "\n",
    "extracted_data = []\n",
    "    \n",
    "\n",
    "with ThreadPoolExecutor(max_workers=32) as executor:\n",
    "    future_to_url = {executor.submit(process_url, url): url for url in urls[:5000]}\n",
    "    for future in tqdm(concurrent.futures.as_completed(future_to_url), total=len(future_to_url), desc=\"Extracting content from URLs (p, h1, h2 etc.)\"): \n",
    "        result = future.result()\n",
    "        if result:\n",
    "            extracted_data.append(result)\n",
    "            \n",
    "print(extracted_data)\n"
   ],
   "id": "3ea0363b4856970a",
   "outputs": [
    {
     "name": "stderr",
     "output_type": "stream",
     "text": [
      "Extracting content from URLs (p, h1, h2 etc.):   5%|▍         | 247/5000 [00:24<12:37,  6.28it/s]"
     ]
    },
    {
     "name": "stdout",
     "output_type": "stream",
     "text": [
      "Error fetching https://modernhomefurniture.com.au/products/noah-coffee-table: 404 Client Error: Not Found for url: https://modernhomefurniture.com.au/products/noah-coffee-table\n"
     ]
    },
    {
     "name": "stderr",
     "output_type": "stream",
     "text": [
      "Extracting content from URLs (p, h1, h2 etc.):   6%|▌         | 293/5000 [00:31<25:29,  3.08it/s]"
     ]
    },
    {
     "name": "stdout",
     "output_type": "stream",
     "text": [
      "Error fetching https://modernkomfort.ca/products/white-charcuterie-plank: 404 Client Error: Not Found for url: https://modernkomfort.ca/products/white-charcuterie-plank\n"
     ]
    },
    {
     "name": "stderr",
     "output_type": "stream",
     "text": [
      "Extracting content from URLs (p, h1, h2 etc.):   9%|▉         | 438/5000 [00:42<04:03, 18.72it/s]"
     ]
    },
    {
     "name": "stdout",
     "output_type": "stream",
     "text": [
      "Error fetching https://www.somedaydesigns.co.uk/products/rust-rich-velvet-ferm-living: 404 Client Error: Not Found for url: https://www.somedaydesigns.co.uk/products/rust-rich-velvet-ferm-living\n"
     ]
    },
    {
     "name": "stderr",
     "output_type": "stream",
     "text": [
      "Extracting content from URLs (p, h1, h2 etc.):  10%|█         | 515/5000 [00:50<06:46, 11.04it/s]"
     ]
    },
    {
     "name": "stdout",
     "output_type": "stream",
     "text": [
      "Error fetching https://thecountryfurniture.com/products/fair-warm-brown-accent-cabinet: 404 Client Error: Not Found for url: https://thecountryfurniture.com/products/fair-warm-brown-accent-cabinet\n"
     ]
    },
    {
     "name": "stderr",
     "output_type": "stream",
     "text": [
      "Extracting content from URLs (p, h1, h2 etc.):  11%|█         | 536/5000 [00:52<11:49,  6.29it/s]"
     ]
    },
    {
     "name": "stdout",
     "output_type": "stream",
     "text": [
      "Error fetching https://www.modernfurnituredeals.co.uk/products/small-copper-brushed-elephant-figurine: 404 Client Error: Not Found for url: https://www.modernfurnituredeals.co.uk/products/small-copper-brushed-elephant-figurine\n"
     ]
    },
    {
     "name": "stderr",
     "output_type": "stream",
     "text": [
      "Extracting content from URLs (p, h1, h2 etc.):  18%|█▊        | 890/5000 [01:23<03:36, 18.97it/s]"
     ]
    },
    {
     "name": "stdout",
     "output_type": "stream",
     "text": [
      "Error fetching https://designhouse.com/products/gaze-of-the-predator: 404 Client Error: Not Found for url: https://designhouse.com/products/gaze-of-the-predator\n"
     ]
    },
    {
     "name": "stderr",
     "output_type": "stream",
     "text": [
      "Extracting content from URLs (p, h1, h2 etc.):  22%|██▏       | 1080/5000 [01:41<08:03,  8.11it/s]"
     ]
    },
    {
     "name": "stdout",
     "output_type": "stream",
     "text": [
      "Error fetching https://designkollective.com/stores/de-cor-globally-inspired/products/175276: 404 Client Error: Not Found for url: https://designkollective.com/stores/de-cor-globally-inspired/products/175276\n"
     ]
    },
    {
     "name": "stderr",
     "output_type": "stream",
     "text": [
      "Extracting content from URLs (p, h1, h2 etc.):  29%|██▉       | 1471/5000 [02:18<03:06, 18.90it/s]"
     ]
    },
    {
     "name": "stdout",
     "output_type": "stream",
     "text": [
      "Error fetching https://www.prestige-affairs.com/products/soraya-chair: 404 Client Error: Not Found for url: https://www.prestige-affairs.com/products/soraya-chair\n"
     ]
    },
    {
     "name": "stderr",
     "output_type": "stream",
     "text": [
      "Extracting content from URLs (p, h1, h2 etc.):  32%|███▏      | 1618/5000 [02:30<02:44, 20.58it/s]"
     ]
    },
    {
     "name": "stdout",
     "output_type": "stream",
     "text": [
      "Error fetching https://bungalowfurniture.com/products/4-7770-paw-resist-pet-bowl-s-green: 404 Client Error: Not Found for url: https://bungalowfurniture.com/products/4-7770-paw-resist-pet-bowl-s-green\n"
     ]
    },
    {
     "name": "stderr",
     "output_type": "stream",
     "text": [
      "Extracting content from URLs (p, h1, h2 etc.):  34%|███▍      | 1711/5000 [02:35<03:04, 17.81it/s]"
     ]
    },
    {
     "name": "stdout",
     "output_type": "stream",
     "text": [
      "Error fetching https://www.shopden-la.com/products/brass-conch-ashtray: 404 Client Error: Not Found for url: https://www.shopden-la.com/products/brass-conch-ashtray\n"
     ]
    },
    {
     "name": "stderr",
     "output_type": "stream",
     "text": [
      "Extracting content from URLs (p, h1, h2 etc.):  35%|███▍      | 1726/5000 [02:36<02:59, 18.28it/s]"
     ]
    },
    {
     "name": "stdout",
     "output_type": "stream",
     "text": [
      "Error fetching https://magnolialane.biz/products/camps-bay-covers-white: 404 Client Error: Not Found for url: https://magnolialane.biz/products/camps-bay-covers-white\n"
     ]
    },
    {
     "name": "stderr",
     "output_type": "stream",
     "text": [
      "Extracting content from URLs (p, h1, h2 etc.):  35%|███▍      | 1744/5000 [02:38<03:16, 16.58it/s]"
     ]
    },
    {
     "name": "stdout",
     "output_type": "stream",
     "text": [
      "Error fetching https://www.idcmn.com/products/triplex-coffee-table: 404 Client Error: Not Found for url: https://www.idcmn.com/products/triplex-coffee-table\n"
     ]
    },
    {
     "name": "stderr",
     "output_type": "stream",
     "text": [
      "Extracting content from URLs (p, h1, h2 etc.):  42%|████▏     | 2090/5000 [03:03<04:09, 11.64it/s]"
     ]
    },
    {
     "name": "stdout",
     "output_type": "stream",
     "text": [
      "Error fetching https://hklivingusa.com/products/cover-for-aluminum-outdoor-sofa: 404 Client Error: Not Found for url: https://hklivingusa.com/products/cover-for-aluminum-outdoor-sofa\n"
     ]
    },
    {
     "name": "stderr",
     "output_type": "stream",
     "text": [
      "Extracting content from URLs (p, h1, h2 etc.):  43%|████▎     | 2134/5000 [03:05<02:38, 18.11it/s]"
     ]
    },
    {
     "name": "stdout",
     "output_type": "stream",
     "text": [
      "Error fetching https://www.georgestreet.co.uk/products/turin-crushed-mirror-nest-of-2-tables/: 404 Client Error: Not Found for url: https://www.georgestreet.co.uk/products/turin-crushed-mirror-nest-of-2-tables/\n"
     ]
    },
    {
     "name": "stderr",
     "output_type": "stream",
     "text": [
      "Extracting content from URLs (p, h1, h2 etc.):  44%|████▍     | 2217/5000 [03:11<02:27, 18.87it/s]"
     ]
    },
    {
     "name": "stdout",
     "output_type": "stream",
     "text": [
      "Error fetching https://www.scandesign.com/products/sassi-sofa-teal: 404 Client Error: Not Found for url: https://www.scandesign.com/products/sassi-sofa-teal\n"
     ]
    },
    {
     "name": "stderr",
     "output_type": "stream",
     "text": [
      "Extracting content from URLs (p, h1, h2 etc.):  50%|████▉     | 2495/5000 [03:31<02:12, 18.93it/s]"
     ]
    },
    {
     "name": "stdout",
     "output_type": "stream",
     "text": [
      "Error fetching https://www.modernfurnituredeals.co.uk/products/3-drawer-bedside-cabinet: 404 Client Error: Not Found for url: https://www.modernfurnituredeals.co.uk/products/3-drawer-bedside-cabinet\n"
     ]
    },
    {
     "name": "stderr",
     "output_type": "stream",
     "text": [
      "Extracting content from URLs (p, h1, h2 etc.):  51%|█████     | 2561/5000 [03:36<02:11, 18.60it/s]"
     ]
    },
    {
     "name": "stdout",
     "output_type": "stream",
     "text": [
      "Error fetching https://www.vavoom.com.au/products/terrier-wall-art-gloss-finish-with-gold-metal-frame: 404 Client Error: Not Found for url: https://www.vavoom.com.au/products/terrier-wall-art-gloss-finish-with-gold-metal-frame\n"
     ]
    },
    {
     "name": "stderr",
     "output_type": "stream",
     "text": [
      "Extracting content from URLs (p, h1, h2 etc.):  55%|█████▌    | 2758/5000 [03:50<01:36, 23.18it/s]"
     ]
    },
    {
     "name": "stdout",
     "output_type": "stream",
     "text": [
      "Error fetching https://designkollective.com/stores/mixfurniture/products/148089: 404 Client Error: Not Found for url: https://designkollective.com/stores/mixfurniture/products/148089\n"
     ]
    },
    {
     "name": "stderr",
     "output_type": "stream",
     "text": [
      "Extracting content from URLs (p, h1, h2 etc.):  63%|██████▎   | 3171/5000 [04:22<02:22, 12.81it/s]"
     ]
    },
    {
     "name": "stdout",
     "output_type": "stream",
     "text": [
      "Error fetching https://thecountryfurniture.com/products/nassau-sofa-table-dark-brown: 404 Client Error: Not Found for url: https://thecountryfurniture.com/products/nassau-sofa-table-dark-brown\n"
     ]
    },
    {
     "name": "stderr",
     "output_type": "stream",
     "text": [
      "Extracting content from URLs (p, h1, h2 etc.):  65%|██████▍   | 3232/5000 [04:26<01:32, 19.07it/s]"
     ]
    },
    {
     "name": "stdout",
     "output_type": "stream",
     "text": [
      "Error fetching https://hamptonsstyle.com.au/products/exotique-ceramic-plate: 404 Client Error: Not Found for url: https://hamptonsstyle.com.au/products/exotique-ceramic-plate\n"
     ]
    },
    {
     "name": "stderr",
     "output_type": "stream",
     "text": [
      "Extracting content from URLs (p, h1, h2 etc.):  66%|██████▋   | 3321/5000 [04:32<02:18, 12.10it/s]"
     ]
    },
    {
     "name": "stdout",
     "output_type": "stream",
     "text": [
      "Error fetching https://thebanyantree.com.au/products/globewest-normandy-twist-sofa-chair: 404 Client Error: Not Found for url: https://thebanyantree.com.au/products/globewest-normandy-twist-sofa-chair\n"
     ]
    },
    {
     "name": "stderr",
     "output_type": "stream",
     "text": [
      "Extracting content from URLs (p, h1, h2 etc.):  69%|██████▉   | 3447/5000 [04:43<02:29, 10.42it/s]"
     ]
    },
    {
     "name": "stdout",
     "output_type": "stream",
     "text": [
      "Error fetching https://thecountryfurniture.com/products/bayflynn-white-black-home-office-desk-clean-lined: 404 Client Error: Not Found for url: https://thecountryfurniture.com/products/bayflynn-white-black-home-office-desk-clean-lined\n"
     ]
    },
    {
     "name": "stderr",
     "output_type": "stream",
     "text": [
      "Extracting content from URLs (p, h1, h2 etc.):  73%|███████▎  | 3639/5000 [05:00<01:46, 12.82it/s]"
     ]
    },
    {
     "name": "stdout",
     "output_type": "stream",
     "text": [
      "Error fetching https://brisbanefurniture.com.au/products/factory-second-white-french-mirror: 404 Client Error: Not Found for url: https://brisbanefurniture.com.au/products/factory-second-white-french-mirror\n"
     ]
    },
    {
     "name": "stderr",
     "output_type": "stream",
     "text": [
      "Extracting content from URLs (p, h1, h2 etc.):  75%|███████▌  | 3772/5000 [05:10<01:53, 10.79it/s]"
     ]
    },
    {
     "name": "stdout",
     "output_type": "stream",
     "text": [
      "Error fetching https://eurolivingfurniture.com/products/tevo-chest: 404 Client Error: Not Found for url: https://eurolivingfurniture.com/products/tevo-chest\n"
     ]
    },
    {
     "name": "stderr",
     "output_type": "stream",
     "text": [
      "Extracting content from URLs (p, h1, h2 etc.):  80%|████████  | 4012/5000 [05:27<01:03, 15.68it/s]"
     ]
    },
    {
     "name": "stdout",
     "output_type": "stream",
     "text": [
      "Error fetching https://www.modernfurnituredeals.co.uk/products/black-tweed-bar-stool-solid-wood: 404 Client Error: Not Found for url: https://www.modernfurnituredeals.co.uk/products/black-tweed-bar-stool-solid-wood\n"
     ]
    },
    {
     "name": "stderr",
     "output_type": "stream",
     "text": [
      "Extracting content from URLs (p, h1, h2 etc.):  84%|████████▍ | 4225/5000 [05:46<02:18,  5.59it/s]"
     ]
    },
    {
     "name": "stdout",
     "output_type": "stream",
     "text": [
      "Error fetching https://limitedabode.co.uk/products/flower-names-vase: 404 Client Error: Not Found for url: https://limitedabode.co.uk/products/flower-names-vase\n"
     ]
    },
    {
     "name": "stderr",
     "output_type": "stream",
     "text": [
      "Extracting content from URLs (p, h1, h2 etc.):  87%|████████▋ | 4363/5000 [05:55<00:34, 18.39it/s]"
     ]
    },
    {
     "name": "stdout",
     "output_type": "stream",
     "text": [
      "Error fetching https://woodaction.com/products/modern-5-by-8-ft-sl7: 404 Client Error: Not Found for url: https://woodaction.com/products/modern-5-by-8-ft-sl7\n"
     ]
    },
    {
     "name": "stderr",
     "output_type": "stream",
     "text": [
      "Extracting content from URLs (p, h1, h2 etc.):  91%|█████████ | 4535/5000 [06:10<00:44, 10.54it/s]"
     ]
    },
    {
     "name": "stdout",
     "output_type": "stream",
     "text": [
      "Error fetching https://foreverfurniture.ca/products/krahn-lime-green-5-piece-deluxe-bistro-set-and-chairs: 404 Client Error: Not Found for url: https://foreverfurniture.ca/products/krahn-lime-green-5-piece-deluxe-bistro-set-and-chairs\n"
     ]
    },
    {
     "name": "stderr",
     "output_type": "stream",
     "text": [
      "Extracting content from URLs (p, h1, h2 etc.):  98%|█████████▊| 4894/5000 [06:38<00:05, 17.98it/s]"
     ]
    },
    {
     "name": "stdout",
     "output_type": "stream",
     "text": [
      "Error fetching https://livingbydesign.net.au/products/ecology-samara-goblet-wine-glasses-set-of-4-white: 404 Client Error: Not Found for url: https://livingbydesign.net.au/products/ecology-samara-goblet-wine-glasses-set-of-4-white\n"
     ]
    },
    {
     "name": "stderr",
     "output_type": "stream",
     "text": [
      "Extracting content from URLs (p, h1, h2 etc.):  98%|█████████▊| 4899/5000 [06:39<00:06, 16.11it/s]"
     ]
    },
    {
     "name": "stdout",
     "output_type": "stream",
     "text": [
      "Error fetching https://www.simplyhammocks.co.uk/products/clearance-aruba-cayenne-hammock: 404 Client Error: Not Found for url: https://www.simplyhammocks.co.uk/products/clearance-aruba-cayenne-hammock\n"
     ]
    },
    {
     "name": "stderr",
     "output_type": "stream",
     "text": [
      "Extracting content from URLs (p, h1, h2 etc.): 100%|██████████| 5000/5000 [06:47<00:00, 12.27it/s]"
     ]
    },
    {
     "name": "stdout",
     "output_type": "stream",
     "text": [
      "Error fetching https://midinmod.com/products/aliana-dining-set-with-ohio-light-grey-chairs: 404 Client Error: Not Found for url: https://midinmod.com/products/aliana-dining-set-with-ohio-light-grey-chairs\n",
      "[['https://emfurn.com/products/lp-kiana-queen-metal-stainless-steel-headboard', 'https://emfurn.com', ['Kiana', 'Queen', 'Metal', 'Stainless', 'Steel', 'Headboard', 'Skip', 'to', 'content', '🚚', 'FREE', 'SHIPPING', '|', '✅', '1', 'YEAR', 'WARRANTY', '|', '↩️', 'EASY', 'RETURNS', 'Cart', 'Your', 'cart', 'is', 'empty'], ['B-PRODUCT', 'I-PRODUCT', 'I-PRODUCT', 'I-PRODUCT', 'I-PRODUCT', 'I-PRODUCT', 'O', 'O', 'O', 'O', 'O', 'O', 'O', 'O', 'O', 'O', 'O', 'O', 'O', 'O', 'O', 'O', 'O', 'O', 'O', 'O']], ['https://www.thefurnituremegastore.co.uk/products/valentino-navy-velvet-deep-tufted-lion-head-bar-stool', 'https://www.thefurnituremegastore.co.uk', ['Valentino', 'Navy', 'Velvet', 'Deep', 'Tufted', 'Lion', 'Head', 'Bar', 'Stool', '|', 'The', 'Furniture', 'Mega', 'Store', 'Click', 'or', 'scroll', 'to', 'zoom', 'Tap', 'or', 'pinch', 'to', 'zoom', 'Click', 'or', 'scroll', 'to', 'zoom'], ['B-PRODUCT', 'I-PRODUCT', 'I-PRODUCT', 'I-PRODUCT', 'I-PRODUCT', 'I-PRODUCT', 'I-PRODUCT', 'I-PRODUCT', 'I-PRODUCT', 'O', 'O', 'O', 'O', 'O', 'O', 'O', 'O', 'O', 'O', 'O', 'O', 'O', 'O', 'O', 'O', 'O', 'O', 'O', 'O']], ['https://www.tandemarbor.com/products/varick-sofa-silver-streak-crushed-velvet', 'https://www.tandemarbor.com', ['quantity', '1', '2', '3', '4', '5', '6', '7', '8', '9', '10', 'Silver', 'Streak', 'Crushed', 'Velvet', 'Price:', '$3,890', 'Add', 'To', 'Cart', 'Product', 'Details:', 'Luxurious', 'casual', 'comfort', 'at', 'its', 'finest.', 'Sink', 'into', 'the', 'charmingly', 'plush,', 'designer', 'form', 'of', 'the', 'amply-stuffed', 'Varick', 'Sofa.', 'A', 'seating'], ['O', 'O', 'O', 'O', 'O', 'O', 'O', 'O', 'O', 'O', 'O', 'O', 'O', 'O', 'O', 'O', 'O', 'O', 'O', 'O', 'B-PRODUCT', 'I-PRODUCT', 'O', 'O', 'O', 'O', 'O', 'O', 'O', 'O', 'O', 'O', 'O', 'O', 'O', 'O', 'O', 'O', 'O', 'O', 'O', 'O']], ['https://www.tandemarbor.com/products/crosby-ottoman-oyster-vintage-leather', 'https://www.tandemarbor.com', ['Ottoman', 'quantity', '1', '2', '3', '4', '5', '6', '7', '8', '9', '10', 'Oyster', 'Vintage', 'Leather', 'Price:', '$2,460', 'Add', 'To', 'Cart', 'Product', 'Details:', 'Complete', 'the', 'coordinated', 'look', 'of', 'your', 'living', 'space', 'with', 'the', 'cool,', 'contemporary', 'Crosby', 'Ottoman.', 'Its', 'clean-lined', 'rectangular', 'form', 'offers', 'the'], ['O', 'O', 'O', 'O', 'O', 'O', 'O', 'O', 'O', 'O', 'O', 'O', 'O', 'O', 'O', 'O', 'O', 'O', 'O', 'O', 'B-PRODUCT', 'I-PRODUCT', 'O', 'O', 'O', 'O', 'O', 'O', 'O', 'O', 'O', 'O', 'O', 'O', 'O', 'O', 'O', 'O', 'O', 'O', 'O', 'O']], ['https://emfurn.com/es/products/lp-nova-full-metal-headboard', 'https://emfurn.com', ['Nova', 'Full', 'Metal', 'Headboard', 'Ir', 'al', 'contenido', '🚚', 'FREE', 'SHIPPING', '|', '✅', '1', 'YEAR', 'WARRANTY', '|', '↩️', 'EASY', 'RETURNS', 'Cesta', 'La', 'cesta', 'está', 'vacía'], ['B-PRODUCT', 'I-PRODUCT', 'I-PRODUCT', 'I-PRODUCT', 'O', 'O', 'O', 'O', 'O', 'O', 'O', 'O', 'O', 'O', 'O', 'O', 'O', 'O', 'O', 'O', 'O', 'O', 'O', 'O']], ['https://www.insaraf.com/products/solid-wood-curved-writing-study-table', 'https://www.insaraf.com', ['used', 'by', 'our', 'experienced', 'and', 'skilled', 'craftsmen', 'to', 'make', 'your', 'solid', 'wood', 'furniture', 'the', 'way', 'you', 'expect', 'it', 'to', 'be.', 'Product', 'Standards', 'Products', 'are', 'made', 'in', 'bulk', 'with', 'standardizations,', 'so', 'that', 'each', 'product', 'has', 'that', 'technical', 'and', 'visual', 'greatness', 'that', 'every', 'furniture'], ['O', 'O', 'O', 'O', 'O', 'O', 'O', 'O', 'O', 'O', 'O', 'O', 'O', 'O', 'O', 'O', 'O', 'O', 'O', 'O', 'B-PRODUCT', 'I-PRODUCT', 'O', 'O', 'O', 'O', 'O', 'O', 'O', 'O', 'O', 'O', 'O', 'O', 'O', 'O', 'O', 'O', 'O', 'O', 'O', 'O']], ['https://newstartfurniture.com.au/products/single-pu-leather-bed-frame-black', 'https://newstartfurniture.com.au', ['Black', 'PU', 'Leather', '|', 'Newstart', 'Furniture', 'Skip', 'to', 'content', 'Buy', 'Furniture', 'Now', '&', 'Pay', 'Later', 'with', 'Afterpay,', 'ZipPay', 'and', 'ZipMoney', 'Palermo', 'Single', 'Bed', 'Frame', 'Black', 'PU', 'Leather', 'Headboard', 'Save', '34%', 'SKU:', 'V63-761175', 'Price:', 'Sale', 'price', '$333.00', 'Regular', 'price', '$504.95', '/', 'GST', 'included', 'Stock:', 'Sold', 'out', 'Quantity:', 'Sold', 'out'], ['O', 'O', 'O', 'O', 'O', 'O', 'O', 'O', 'O', 'O', 'O', 'O', 'O', 'O', 'O', 'O', 'O', 'O', 'O', 'O', 'B-PRODUCT', 'I-PRODUCT', 'I-PRODUCT', 'I-PRODUCT', 'I-PRODUCT', 'I-PRODUCT', 'I-PRODUCT', 'I-PRODUCT', 'O', 'O', 'O', 'O', 'O', 'O', 'O', 'O', 'O', 'O', 'O', 'O', 'O', 'O', 'O', 'O', 'O', 'O', 'O', 'O']], ['https://elephanthead.co.uk/products/owl-in-a-ring-christmas-ornament', 'https://elephanthead.co.uk', ['Owl-in-a-Ring', 'Christmas', 'Ornament', '–', 'The', 'Elephant', 'Head', 'We', 'use', 'cookies', 'so', 'we', 'can', 'provide', 'you', 'with', 'the', 'best', 'user', 'experience', 'and', 'deliver', 'products'], ['B-PRODUCT', 'I-PRODUCT', 'I-PRODUCT', 'O', 'O', 'O', 'O', 'O', 'O', 'O', 'O', 'O', 'O', 'O', 'O', 'O', 'O', 'O', 'O', 'O', 'O', 'O', 'O']], ['https://www.insaraf.com/products/solid-wood-charlie-sofa-b-single-seater', 'https://www.insaraf.com', ['used', 'by', 'our', 'experienced', 'and', 'skilled', 'craftsmen', 'to', 'make', 'your', 'solid', 'wood', 'furniture', 'the', 'way', 'you', 'expect', 'it', 'to', 'be.', 'Product', 'Standards', 'Products', 'are', 'made', 'in', 'bulk', 'with', 'standardizations,', 'so', 'that', 'each', 'product', 'has', 'that', 'technical', 'and', 'visual', 'greatness', 'that', 'every', 'furniture'], ['O', 'O', 'O', 'O', 'O', 'O', 'O', 'O', 'O', 'O', 'O', 'O', 'O', 'O', 'O', 'O', 'O', 'O', 'O', 'O', 'B-PRODUCT', 'I-PRODUCT', 'O', 'O', 'O', 'O', 'O', 'O', 'O', 'O', 'O', 'O', 'O', 'O', 'O', 'O', 'O', 'O', 'O', 'O', 'O', 'O']], ['https://www.tandemarbor.com/products/varick-armless-chair-blanc-plush-velvet', 'https://www.tandemarbor.com', ['Chair', 'quantity', '1', '2', '3', '4', '5', '6', '7', '8', '9', '10', 'Blanc', 'Plush', 'Velvet', 'Price:', '$2,505', 'Add', 'To', 'Cart', 'Product', 'Details:', 'The', 'Varick', 'Armless', 'Chair', 'seamlessly', 'blends', 'tailored', 'stitching', 'with', 'overstuffed,', 'super-thick', 'cushions', 'for', 'modern', 'slipper', 'chair', 'appearance.', 'The', 'Varick', 'Armless'], ['O', 'O', 'O', 'O', 'O', 'O', 'O', 'O', 'O', 'O', 'O', 'O', 'O', 'O', 'O', 'O', 'O', 'O', 'O', 'O', 'B-PRODUCT', 'I-PRODUCT', 'O', 'O', 'O', 'O', 'O', 'O', 'O', 'O', 'O', 'O', 'O', 'O', 'O', 'O', 'O', 'O', 'O', 'O', 'O', 'O']], ['https://www.insaraf.com/products/cubex-wardrobe', 'https://www.insaraf.com', ['used', 'by', 'our', 'experienced', 'and', 'skilled', 'craftsmen', 'to', 'make', 'your', 'solid', 'wood', 'furniture', 'the', 'way', 'you', 'expect', 'it', 'to', 'be.', 'Product', 'Standards', 'Products', 'are', 'made', 'in', 'bulk', 'with', 'standardizations,', 'so', 'that', 'each', 'product', 'has', 'that', 'technical', 'and', 'visual', 'greatness', 'that', 'every', 'furniture'], ['O', 'O', 'O', 'O', 'O', 'O', 'O', 'O', 'O', 'O', 'O', 'O', 'O', 'O', 'O', 'O', 'O', 'O', 'O', 'O', 'B-PRODUCT', 'I-PRODUCT', 'O', 'O', 'O', 'O', 'O', 'O', 'O', 'O', 'O', 'O', 'O', 'O', 'O', 'O', 'O', 'O', 'O', 'O', 'O', 'O']], ['https://www.insaraf.com/products/solid-wood-turner-dining-table-with-drawers', 'https://www.insaraf.com', ['used', 'by', 'our', 'experienced', 'and', 'skilled', 'craftsmen', 'to', 'make', 'your', 'solid', 'wood', 'furniture', 'the', 'way', 'you', 'expect', 'it', 'to', 'be.', 'Product', 'Standards', 'Products', 'are', 'made', 'in', 'bulk', 'with', 'standardizations,', 'so', 'that', 'each', 'product', 'has', 'that', 'technical', 'and', 'visual', 'greatness', 'that', 'every', 'furniture'], ['O', 'O', 'O', 'O', 'O', 'O', 'O', 'O', 'O', 'O', 'O', 'O', 'O', 'O', 'O', 'O', 'O', 'O', 'O', 'O', 'B-PRODUCT', 'I-PRODUCT', 'O', 'O', 'O', 'O', 'O', 'O', 'O', 'O', 'O', 'O', 'O', 'O', 'O', 'O', 'O', 'O', 'O', 'O', 'O', 'O']], ['https://www.gowfb.com/products/2-year-product-repair-upsell-under-1500-00', 'https://www.gowfb.com', ['2', 'Year', 'Product', 'Repair', 'Upsell', 'Under', '$1500.00', '—', 'Wholesale', 'Furniture', 'Brokers', 'Skip', 'to', 'content', 'Basic', 'FREE*', 'Shipping', 'Anywhere', 'in', 'the', 'United', 'States', 'Free', 'Shipping', 'in', 'the', 'U.S.'], ['B-PRODUCT', 'I-PRODUCT', 'I-PRODUCT', 'I-PRODUCT', 'I-PRODUCT', 'I-PRODUCT', 'I-PRODUCT', 'O', 'O', 'O', 'O', 'O', 'O', 'O', 'O', 'O', 'O', 'O', 'O', 'O', 'O', 'O', 'O', 'O', 'O', 'O', 'O']], ['https://www.tandemarbor.com/products/mercer-ottoman-graphite-box-weave-linen', 'https://www.tandemarbor.com', ['quantity', '1', '2', '3', '4', '5', '6', '7', '8', '9', '10', 'Graphite', 'Box', 'Weave', 'Linen', 'Price:', '$1,900', 'Add', 'To', 'Cart', 'Product', 'Details:', 'This', 'small', 'cubic', 'ottoman', 'is', 'anything', 'but', 'square.', 'Its', 'elegant', 'design', 'suits', 'the', 'most', 'current', 'interiors', 'just', 'as', 'well', 'as'], ['O', 'O', 'O', 'O', 'O', 'O', 'O', 'O', 'O', 'O', 'O', 'O', 'O', 'O', 'O', 'O', 'O', 'O', 'O', 'O', 'B-PRODUCT', 'I-PRODUCT', 'O', 'O', 'O', 'O', 'O', 'O', 'O', 'O', 'O', 'O', 'O', 'O', 'O', 'O', 'O', 'O', 'O', 'O', 'O', 'O']], ['https://emfurn.com/es/products/lp-lucia-twin-performance-velvet-headboard', 'https://emfurn.com', ['Lucia', 'Twin', 'Performance', 'Velvet', 'Headboard', 'Ir', 'al', 'contenido', '🚚', 'FREE', 'SHIPPING', '|', '✅', '1', 'YEAR', 'WARRANTY', '|', '↩️', 'EASY', 'RETURNS', 'Cesta', 'La', 'cesta', 'está', 'vacía'], ['B-PRODUCT', 'I-PRODUCT', 'I-PRODUCT', 'I-PRODUCT', 'I-PRODUCT', 'O', 'O', 'O', 'O', 'O', 'O', 'O', 'O', 'O', 'O', 'O', 'O', 'O', 'O', 'O', 'O', 'O', 'O', 'O', 'O']], ['https://www.blackmango.com.au/products/juno-bedhead-slipcover-only-queen', 'https://www.blackmango.com.au', ['Juno', 'Bedhead', 'Slipcover', 'ONLY', 'Queen', '|', 'Black', 'Mango', '–', 'Black', 'Mango', 'Interiors', 'Skip', 'to', 'content', 'Pause', 'slideshow', 'Play', 'slideshow', '48', 'HOUR', 'DISPATCH', 'AUSTRALIA', 'WIDE', '30'], ['B-PRODUCT', 'I-PRODUCT', 'I-PRODUCT', 'I-PRODUCT', 'I-PRODUCT', 'O', 'O', 'O', 'O', 'O', 'O', 'O', 'O', 'O', 'O', 'O', 'O', 'O', 'O', 'O', 'O', 'O', 'O', 'O', 'O']], ['https://www.tandemarbor.com/products/humboldt-shelter-bed-graphite-crushed-velvet', 'https://www.tandemarbor.com', ['Bed', 'quantity', '1', '2', '3', '4', '5', '6', '7', '8', '9', '10', 'Graphite', 'Crushed', 'Velvet', 'Price:', '$3,925', 'Add', 'To', 'Cart', 'Product', 'Details:', 'This', 'soft,', 'sweeping', 'and', 'rolled', 'bed', 'frame', 'is', 'a', 'modern', 'update', 'to', 'a', 'classic', 'shelter', 'and', 'wingback', 'bed.', 'The', 'tailored'], ['O', 'O', 'O', 'O', 'O', 'O', 'O', 'O', 'O', 'O', 'O', 'O', 'O', 'O', 'O', 'O', 'O', 'O', 'O', 'O', 'B-PRODUCT', 'I-PRODUCT', 'O', 'O', 'O', 'O', 'O', 'O', 'O', 'O', 'O', 'O', 'O', 'O', 'O', 'O', 'O', 'O', 'O', 'O', 'O', 'O']], ['https://www.insaraf.com/products/solid-wood-sputnik-beige-fabric-lampshade-floor-lamp-with-brown-base', 'https://www.insaraf.com', ['used', 'by', 'our', 'experienced', 'and', 'skilled', 'craftsmen', 'to', 'make', 'your', 'solid', 'wood', 'furniture', 'the', 'way', 'you', 'expect', 'it', 'to', 'be.', 'Product', 'Standards', 'Products', 'are', 'made', 'in', 'bulk', 'with', 'standardizations,', 'so', 'that', 'each', 'product', 'has', 'that', 'technical', 'and', 'visual', 'greatness', 'that', 'every', 'furniture'], ['O', 'O', 'O', 'O', 'O', 'O', 'O', 'O', 'O', 'O', 'O', 'O', 'O', 'O', 'O', 'O', 'O', 'O', 'O', 'O', 'B-PRODUCT', 'I-PRODUCT', 'O', 'O', 'O', 'O', 'O', 'O', 'O', 'O', 'O', 'O', 'O', 'O', 'O', 'O', 'O', 'O', 'O', 'O', 'O', 'O']], ['https://www.tandemarbor.com/products/varick-u-chaise-sectional-blanc-plush-velvet', 'https://www.tandemarbor.com', ['Sectional', 'quantity', '1', '2', '3', '4', '5', '6', '7', '8', '9', '10', 'Blanc', 'Plush', 'Velvet', 'Price:', '$11,220', 'Add', 'To', 'Cart', 'Product', 'Details:', 'Luxurious', 'casual', 'comfort', 'at', 'its', 'finest.', 'Sink', 'into', 'the', 'charmingly', 'plush,', 'designer', 'form', 'of', 'the', 'amply-stuffed', 'Varick', 'Sectional.', 'A', 'seating'], ['O', 'O', 'O', 'O', 'O', 'O', 'O', 'O', 'O', 'O', 'O', 'O', 'O', 'O', 'O', 'O', 'O', 'O', 'O', 'O', 'B-PRODUCT', 'I-PRODUCT', 'O', 'O', 'O', 'O', 'O', 'O', 'O', 'O', 'O', 'O', 'O', 'O', 'O', 'O', 'O', 'O', 'O', 'O', 'O', 'O']], ['https://emfurn.com/pt/products/lp-cecilia-full-queen-performance-velvet-headboard', 'https://emfurn.com', ['Cecilia', 'Full/Queen', 'Performance', 'Velvet', 'Headboard', 'Pular', 'para', 'o', 'conteúdo', '🚚', 'FREE', 'SHIPPING', '|', '✅', '1', 'YEAR', 'WARRANTY', '|', '↩️', 'EASY', 'RETURNS', 'Carrinho', 'Seu', 'carrinho', 'está'], ['B-PRODUCT', 'I-PRODUCT', 'I-PRODUCT', 'I-PRODUCT', 'I-PRODUCT', 'O', 'O', 'O', 'O', 'O', 'O', 'O', 'O', 'O', 'O', 'O', 'O', 'O', 'O', 'O', 'O', 'O', 'O', 'O', 'O']], ['https://www.insaraf.com/products/casa-brown-wooden-wall-light', 'https://www.insaraf.com', ['used', 'by', 'our', 'experienced', 'and', 'skilled', 'craftsmen', 'to', 'make', 'your', 'solid', 'wood', 'furniture', 'the', 'way', 'you', 'expect', 'it', 'to', 'be.', 'Product', 'Standards', 'Products', 'are', 'made', 'in', 'bulk', 'with', 'standardizations,', 'so', 'that', 'each', 'product', 'has', 'that', 'technical', 'and', 'visual', 'greatness', 'that', 'every', 'furniture'], ['O', 'O', 'O', 'O', 'O', 'O', 'O', 'O', 'O', 'O', 'O', 'O', 'O', 'O', 'O', 'O', 'O', 'O', 'O', 'O', 'B-PRODUCT', 'I-PRODUCT', 'O', 'O', 'O', 'O', 'O', 'O', 'O', 'O', 'O', 'O', 'O', 'O', 'O', 'O', 'O', 'O', 'O', 'O', 'O', 'O']], ['https://www.insaraf.com/products/maharaja-bed', 'https://www.insaraf.com', ['used', 'by', 'our', 'experienced', 'and', 'skilled', 'craftsmen', 'to', 'make', 'your', 'solid', 'wood', 'furniture', 'the', 'way', 'you', 'expect', 'it', 'to', 'be.', 'Product', 'Standards', 'Products', 'are', 'made', 'in', 'bulk', 'with', 'standardizations,', 'so', 'that', 'each', 'product', 'has', 'that', 'technical', 'and', 'visual', 'greatness', 'that', 'every', 'furniture'], ['O', 'O', 'O', 'O', 'O', 'O', 'O', 'O', 'O', 'O', 'O', 'O', 'O', 'O', 'O', 'O', 'O', 'O', 'O', 'O', 'B-PRODUCT', 'I-PRODUCT', 'O', 'O', 'O', 'O', 'O', 'O', 'O', 'O', 'O', 'O', 'O', 'O', 'O', 'O', 'O', 'O', 'O', 'O', 'O', 'O']], ['https://jordansinteriors.ca/products/lily-koo-curtis-headboard', 'https://jordansinteriors.ca', ['Lily', 'Koo', '-', 'Curtis', 'Headboard', '–', 'Jordans', 'Interiors', '0', 'Home', 'Lily', 'Koo', '-', 'Curtis', 'Headboard', 'New', 'Ask', 'An', 'Expert', 'Lily', 'Koo', '-', 'Curtis', 'Headboard', 'Vendor:'], ['B-PRODUCT', 'I-PRODUCT', 'I-PRODUCT', 'I-PRODUCT', 'I-PRODUCT', 'O', 'O', 'O', 'O', 'O', 'O', 'O', 'O', 'O', 'O', 'O', 'O', 'O', 'O', 'O', 'O', 'O', 'O', 'O', 'O']], ['https://www.tandemarbor.com/products/leroy-chair-pumice-plush-velvet', 'https://www.tandemarbor.com', ['Chair', 'quantity', '1', '2', '3', '4', '5', '6', '7', '8', '9', '10', 'Pumice', 'Plush', 'Velvet', 'Price:', '$2,790', 'Add', 'To', 'Cart', 'Product', 'Details:', 'Soundly', 'constructed,', 'solidly', 'traditional,', 'the', 'Leroy', 'Chair', 'makes', 'a', 'statement', 'in', 'living', 'rooms', 'with', 'its', 'familiar,', 'cozy', 'charm.', 'A', 'tall'], ['O', 'O', 'O', 'O', 'O', 'O', 'O', 'O', 'O', 'O', 'O', 'O', 'O', 'O', 'O', 'O', 'O', 'O', 'O', 'O', 'B-PRODUCT', 'I-PRODUCT', 'O', 'O', 'O', 'O', 'O', 'O', 'O', 'O', 'O', 'O', 'O', 'O', 'O', 'O', 'O', 'O', 'O', 'O', 'O', 'O']], ['https://www.modishstore.com/products/roost-bruce-the-moose-brushy-reindeer-ornaments', 'https://www.modishstore.com', ['modal', 'Open', 'media', '3', 'in', 'modal', 'Open', 'media', '4', 'in', 'modal', 'Open', 'media', '5', 'in', 'modal', '1', '/', 'of', '4', 'Bruce', 'the', 'Moose', '&', 'Brushy', 'Reindeer', 'Ornaments', 'Bruce', 'the', 'Moose', '&', 'Brushy', 'Reindeer', 'Ornaments', 'Artisan', 'Living', '|', 'SKU:', 'H727', 'Regular', 'price', '$61.00', 'Regular', 'price', 'Sale', 'price', '$61.00', 'Unit', 'price', '/', 'per', 'Sale', 'Sold', 'out'], ['O', 'O', 'O', 'O', 'O', 'O', 'O', 'O', 'O', 'O', 'O', 'O', 'O', 'O', 'O', 'O', 'O', 'O', 'O', 'O', 'B-PRODUCT', 'I-PRODUCT', 'I-PRODUCT', 'I-PRODUCT', 'I-PRODUCT', 'I-PRODUCT', 'I-PRODUCT', 'I-PRODUCT', 'I-PRODUCT', 'I-PRODUCT', 'I-PRODUCT', 'I-PRODUCT', 'I-PRODUCT', 'I-PRODUCT', 'O', 'O', 'O', 'O', 'O', 'O', 'O', 'O', 'O', 'O', 'O', 'O', 'O', 'O', 'O', 'O', 'O', 'O', 'O', 'O']], ['https://vauntdesign.com/products/umbel-concrete-planter', 'https://vauntdesign.com', ['Scandinavian', 'Sculptural', 'Shop', 'By', 'Room', 'Bathroom', 'Bedroom', 'Kitchen', 'Hallway', 'Living', 'Room', 'Office', 'Clearance', 'Facebook', 'Instagram', 'Pinterest', 'Register', '/', 'Log', 'in', 'Sorry,', 'we', 'no', 'longer', 'sell', 'this', 'product', 'Due', 'to', 'popular', 'demand', \"'Umbel\", 'Concrete', \"Vase'\", 'is', 'no', 'longer', 'available.', 'But', 'fear', 'not;', 'a', 'range', 'of', 'other', 'great', 'items'], ['O', 'O', 'O', 'O', 'O', 'O', 'O', 'O', 'O', 'O', 'O', 'O', 'O', 'O', 'O', 'O', 'O', 'O', 'O', 'O', 'B-PRODUCT', 'I-PRODUCT', 'I-PRODUCT', 'I-PRODUCT', 'I-PRODUCT', 'I-PRODUCT', 'I-PRODUCT', 'O', 'O', 'O', 'O', 'O', 'O', 'O', 'O', 'O', 'O', 'O', 'O', 'O', 'O', 'O', 'O', 'O', 'O', 'O', 'O']], ['https://www.tandemarbor.com/products/horatio-sofa-alabaster-vintage-leather', 'https://www.tandemarbor.com', ['Sofa', 'quantity', '1', '2', '3', '4', '5', '6', '7', '8', '9', '10', 'Alabaster', 'Vintage', 'Leather', 'Price:', '$5,725', 'Add', 'To', 'Cart', 'Product', 'Details:', 'Transforms', 'your', 'living', 'space', 'with', 'this', 'modern', 'interpretation', 'of', 'the', 'classic', 'camelback', 'sofa', 'design.', 'A', 'single', 'graceful', 'arch', 'curves', 'with'], ['O', 'O', 'O', 'O', 'O', 'O', 'O', 'O', 'O', 'O', 'O', 'O', 'O', 'O', 'O', 'O', 'O', 'O', 'O', 'O', 'B-PRODUCT', 'I-PRODUCT', 'O', 'O', 'O', 'O', 'O', 'O', 'O', 'O', 'O', 'O', 'O', 'O', 'O', 'O', 'O', 'O', 'O', 'O', 'O', 'O']], ['https://bestfurniture.co.nz/products/ambrose-slatted-headboard-all-sizes-nz-made-bedroom-furniture', 'https://bestfurniture.co.nz', ['the', 'processing', 'of', 'my', 'data', 'in', 'accordance', 'with', 'the', 'conditions', 'set', 'out', 'in', 'the', 'our', 'Privacy', 'Policy', '.', 'Accept', 'Decline', 'AMBROSE', 'SLATTED', 'HEADBOARD', '|', 'ALL', 'SIZES', '|', 'NZ', 'MADE', 'BEDROOM', 'FURNITURE', '$799.00', 'NZD', '/', 'Single', 'King', 'Single', 'Double', 'Queen', 'King', 'Super', 'King', 'Single', 'King', 'Single', 'Double', 'Queen', 'King', 'Super', 'King', 'Single'], ['O', 'O', 'O', 'O', 'O', 'O', 'O', 'O', 'O', 'O', 'O', 'O', 'O', 'O', 'O', 'O', 'O', 'O', 'O', 'O', 'B-PRODUCT', 'I-PRODUCT', 'I-PRODUCT', 'I-PRODUCT', 'I-PRODUCT', 'I-PRODUCT', 'I-PRODUCT', 'I-PRODUCT', 'I-PRODUCT', 'I-PRODUCT', 'I-PRODUCT', 'O', 'O', 'O', 'O', 'O', 'O', 'O', 'O', 'O', 'O', 'O', 'O', 'O', 'O', 'O', 'O', 'O', 'O', 'O', 'O']], ['https://www.tandemarbor.com/products/evans-corner-chair-oyster-plush-velvet', 'https://www.tandemarbor.com', ['Chair', 'quantity', '1', '2', '3', '4', '5', '6', '7', '8', '9', '10', 'Oyster', 'Plush', 'Velvet', 'Price:', '$2,465', 'Add', 'To', 'Cart', 'Product', 'Details:', 'Practical', 'and', 'stylish,', 'this', 'Corner', 'Chair', 'is', 'alluring', 'in', 'appearance', 'with', 'the', 'crisp', 'lines', 'of', 'the', 'tapered', 'arm', 'complimented', 'by'], ['O', 'O', 'O', 'O', 'O', 'O', 'O', 'O', 'O', 'O', 'O', 'O', 'O', 'O', 'O', 'O', 'O', 'O', 'O', 'O', 'B-PRODUCT', 'I-PRODUCT', 'O', 'O', 'O', 'O', 'O', 'O', 'O', 'O', 'O', 'O', 'O', 'O', 'O', 'O', 'O', 'O', 'O', 'O', 'O', 'O']], ['https://www.gowfb.com/products/2-year-product-replacement-upsell-under-10-00', 'https://www.gowfb.com', ['2', 'Year', 'Product', 'Replacement', 'Upsell', 'Under', '$10.00', '—', 'Wholesale', 'Furniture', 'Brokers', 'Skip', 'to', 'content', 'Basic', 'FREE*', 'Shipping', 'Anywhere', 'in', 'the', 'United', 'States', 'Free', 'Shipping', 'in', 'the', 'U.S.'], ['B-PRODUCT', 'I-PRODUCT', 'I-PRODUCT', 'I-PRODUCT', 'I-PRODUCT', 'I-PRODUCT', 'I-PRODUCT', 'O', 'O', 'O', 'O', 'O', 'O', 'O', 'O', 'O', 'O', 'O', 'O', 'O', 'O', 'O', 'O', 'O', 'O', 'O', 'O']], ['https://www.nabisottomanfurniture.co.uk/products/luxury-ottoman-grey-plush-soft-velvet-bed-with-diamond-headboard', 'https://www.nabisottomanfurniture.co.uk', ['SIANA', 'OTTOMAN', 'GREY', 'PLUSH', 'SOFT', 'VELVET', 'BED', 'WITH', 'DIAMOND', 'HEADBOARD', 'OPTION', '–', \"Nabi's\", 'Ottoman', 'Furniture', 'Menu', 'Cart', '0', 'SIANA', 'OTTOMAN', 'GREY', 'PLUSH', 'SOFT', 'VELVET', 'BED', 'WITH', 'DIAMOND', 'HEADBOARD', 'OPTIONAL', 'MATTRESS', '£350', '00', '£350.00', 'Unit', 'price', '/', 'per', 'Tax', 'included.', 'Shipping', 'calculated', 'at', 'checkout.', '3ft', 'Ottoman', 'Bed', '-', '£350.00', 'GBP', '4ft'], ['O', 'O', 'O', 'O', 'O', 'O', 'O', 'O', 'O', 'O', 'O', 'O', 'O', 'O', 'O', 'O', 'O', 'O', 'B-PRODUCT', 'I-PRODUCT', 'I-PRODUCT', 'I-PRODUCT', 'I-PRODUCT', 'I-PRODUCT', 'I-PRODUCT', 'I-PRODUCT', 'I-PRODUCT', 'I-PRODUCT', 'I-PRODUCT', 'I-PRODUCT', 'O', 'O', 'O', 'O', 'O', 'O', 'O', 'O', 'O', 'O', 'O', 'O', 'O', 'O', 'O', 'O', 'O', 'O', 'O', 'O']], ['https://www.insaraf.com/products/raj-centre-table', 'https://www.insaraf.com', ['used', 'by', 'our', 'experienced', 'and', 'skilled', 'craftsmen', 'to', 'make', 'your', 'solid', 'wood', 'furniture', 'the', 'way', 'you', 'expect', 'it', 'to', 'be.', 'Product', 'Standards', 'Products', 'are', 'made', 'in', 'bulk', 'with', 'standardizations,', 'so', 'that', 'each', 'product', 'has', 'that', 'technical', 'and', 'visual', 'greatness', 'that', 'every', 'furniture'], ['O', 'O', 'O', 'O', 'O', 'O', 'O', 'O', 'O', 'O', 'O', 'O', 'O', 'O', 'O', 'O', 'O', 'O', 'O', 'O', 'B-PRODUCT', 'I-PRODUCT', 'O', 'O', 'O', 'O', 'O', 'O', 'O', 'O', 'O', 'O', 'O', 'O', 'O', 'O', 'O', 'O', 'O', 'O', 'O', 'O']], ['https://mossgardenhome.com/products/led-headlamp', 'https://mossgardenhome.com', ['LED', 'Headlamp', '|', 'Moss', 'Danforth', 'Home', '/', 'Products', '/', 'LED', 'Headlamp', '43586', 'LED', 'Headlamp', '$14.99', 'Default', 'Title', 'Qty', 'Add', 'to', 'Cart', 'Turn'], ['B-PRODUCT', 'I-PRODUCT', 'O', 'O', 'O', 'O', 'O', 'O', 'O', 'O', 'O', 'O', 'O', 'O', 'O', 'O', 'O', 'O', 'O', 'O', 'O', 'O']], ['https://www.tandemarbor.com/products/varick-corner-chair-blanc-plush-velvet', 'https://www.tandemarbor.com', ['Chair', 'quantity', '1', '2', '3', '4', '5', '6', '7', '8', '9', '10', 'Blanc', 'Plush', 'Velvet', 'Price:', '$2,575', 'Add', 'To', 'Cart', 'Product', 'Details:', 'The', 'Varick', 'Corner', 'Chair', 'is', 'a', 'pivotal', 'component', 'for', 'any', 'Varick', 'sectional.', 'It', 'can', 'be', 'used', 'to', 'create', 'an', 'L-Shaped'], ['O', 'O', 'O', 'O', 'O', 'O', 'O', 'O', 'O', 'O', 'O', 'O', 'O', 'O', 'O', 'O', 'O', 'O', 'O', 'O', 'B-PRODUCT', 'I-PRODUCT', 'O', 'O', 'O', 'O', 'O', 'O', 'O', 'O', 'O', 'O', 'O', 'O', 'O', 'O', 'O', 'O', 'O', 'O', 'O', 'O']], ['https://www.tandemarbor.com/products/varick-corner-chair-haze-vintage-leather', 'https://www.tandemarbor.com', ['Chair', 'quantity', '1', '2', '3', '4', '5', '6', '7', '8', '9', '10', 'Haze', 'Vintage', 'Leather', 'Price:', '$3,025', 'Add', 'To', 'Cart', 'Product', 'Details:', 'The', 'Varick', 'Corner', 'Chair', 'is', 'a', 'pivotal', 'component', 'for', 'any', 'Varick', 'sectional.', 'It', 'can', 'be', 'used', 'to', 'create', 'an', 'L-Shaped'], ['O', 'O', 'O', 'O', 'O', 'O', 'O', 'O', 'O', 'O', 'O', 'O', 'O', 'O', 'O', 'O', 'O', 'O', 'O', 'O', 'B-PRODUCT', 'I-PRODUCT', 'O', 'O', 'O', 'O', 'O', 'O', 'O', 'O', 'O', 'O', 'O', 'O', 'O', 'O', 'O', 'O', 'O', 'O', 'O', 'O']], ['https://www.tandemarbor.com/products/aleksandar-dining-chair-marzipan-box-weave-linen', 'https://www.tandemarbor.com', ['quantity', '1', '2', '3', '4', '5', '6', '7', '8', '9', '10', 'Marzipan', 'Box', 'Weave', 'Linen', 'Price:', '$1,845', 'Add', 'To', 'Cart', 'Product', 'Details:', 'A', 'classic', 'dining', 'chair', 'with', 'a', 'stylish', 'detail', '-', 'the', 'entire', 'silhouette', 'is', 'upholstered.', 'The', 'seat', 'is', 'accented', 'with', 'piping'], ['O', 'O', 'O', 'O', 'O', 'O', 'O', 'O', 'O', 'O', 'O', 'O', 'O', 'O', 'O', 'O', 'O', 'O', 'O', 'O', 'B-PRODUCT', 'I-PRODUCT', 'O', 'O', 'O', 'O', 'O', 'O', 'O', 'O', 'O', 'O', 'O', 'O', 'O', 'O', 'O', 'O', 'O', 'O', 'O', 'O']], ['https://emfurn.com/products/lp-sophia-tufted-performance-velvet-full-queen-headboard', 'https://emfurn.com', ['Sophia', 'Tufted', 'Performance', 'Velvet', 'Full/Queen', 'Headboard', 'Skip', 'to', 'content', '🚚', 'FREE', 'SHIPPING', '|', '✅', '1', 'YEAR', 'WARRANTY', '|', '↩️', 'EASY', 'RETURNS', 'Cart', 'Your', 'cart', 'is', 'empty'], ['B-PRODUCT', 'I-PRODUCT', 'I-PRODUCT', 'I-PRODUCT', 'I-PRODUCT', 'I-PRODUCT', 'O', 'O', 'O', 'O', 'O', 'O', 'O', 'O', 'O', 'O', 'O', 'O', 'O', 'O', 'O', 'O', 'O', 'O', 'O', 'O']], ['https://vauntdesign.com/products/jahan-industrial-metal-dome-pendant-light', 'https://vauntdesign.com', ['Scandinavian', 'Sculptural', 'Shop', 'By', 'Room', 'Bathroom', 'Bedroom', 'Kitchen', 'Hallway', 'Living', 'Room', 'Office', 'Clearance', 'Facebook', 'Instagram', 'Pinterest', 'Register', '/', 'Log', 'in', 'Sorry,', 'we', 'no', 'longer', 'sell', 'this', 'product', 'Due', 'to', 'popular', 'demand', \"'Jahan\", 'Industrial', 'Dome', 'Pendant', \"Light'\", 'is', 'no', 'longer', 'available.', 'But', 'fear', 'not;', 'a', 'range', 'of', 'other'], ['O', 'O', 'O', 'O', 'O', 'O', 'O', 'O', 'O', 'O', 'O', 'O', 'O', 'O', 'O', 'O', 'O', 'O', 'O', 'O', 'B-PRODUCT', 'I-PRODUCT', 'I-PRODUCT', 'I-PRODUCT', 'I-PRODUCT', 'I-PRODUCT', 'I-PRODUCT', 'O', 'O', 'O', 'O', 'O', 'O', 'O', 'O', 'O', 'O', 'O', 'O', 'O', 'O', 'O', 'O', 'O', 'O', 'O', 'O']], ['https://www.insaraf.com/products/wooden-log-indiana-thar-bookcase-with-door-drawer-natural', 'https://www.insaraf.com', ['used', 'by', 'our', 'experienced', 'and', 'skilled', 'craftsmen', 'to', 'make', 'your', 'solid', 'wood', 'furniture', 'the', 'way', 'you', 'expect', 'it', 'to', 'be.', 'Product', 'Standards', 'Products', 'are', 'made', 'in', 'bulk', 'with', 'standardizations,', 'so', 'that', 'each', 'product', 'has', 'that', 'technical', 'and', 'visual', 'greatness', 'that', 'every', 'furniture'], ['O', 'O', 'O', 'O', 'O', 'O', 'O', 'O', 'O', 'O', 'O', 'O', 'O', 'O', 'O', 'O', 'O', 'O', 'O', 'O', 'B-PRODUCT', 'I-PRODUCT', 'O', 'O', 'O', 'O', 'O', 'O', 'O', 'O', 'O', 'O', 'O', 'O', 'O', 'O', 'O', 'O', 'O', 'O', 'O', 'O']], ['https://circa60.com/products/framed-female-nude-vintage-renoir-reproduction-artwork-wall-hanging', 'https://circa60.com', ['FRAMED', 'Female', 'Nude', 'Vintage', 'Renoir', 'Reproduction', 'ARTWORK', 'Wall', 'Hanging', '–', 'Circa60', '$', '{{amount}}', 'Skip', 'to', 'content', 'FRAMED', 'Female', 'Nude', 'Vintage', 'Renoir', 'Reproduction', 'ARTWORK', 'Wall', 'Hanging', 'Sale', 'price', 'Price', '$'], ['B-PRODUCT', 'I-PRODUCT', 'I-PRODUCT', 'I-PRODUCT', 'I-PRODUCT', 'I-PRODUCT', 'I-PRODUCT', 'I-PRODUCT', 'I-PRODUCT', 'O', 'O', 'O', 'O', 'O', 'O', 'O', 'O', 'O', 'O', 'O', 'O', 'O', 'O', 'O', 'O', 'O', 'O', 'O', 'O']], ['https://www.bandhinidesign.com/en-us/products/creature-metal-silver-lion-head-white-white-lounge-cushion-55-x-55cm', 'https://www.bandhinidesign.com', ['Creature', 'Metal', 'Silver', 'Lion', 'Head', 'White', '&', 'White', 'Lounge', 'Cushion', '55', 'x', '55cm', '[{\"id\":279392649283,\"handle\":\"all-collections-new\",\"title\":\"All', 'Collections', 'New\",\"updated_at\":\"2024-09-11T13:10:09+10:00\",\"body_html\":\"\",\"published_at\":\"2024-02-06T16:08:02+10:00\",\"sort_order\":\"manual\",\"template_suffix\":\"\",\"disjunctive\":true,\"rules\":[{\"column\":\"tag\",\"relation\":\"equals\",\"condition\":\"coastal', 'new\"},{\"column\":\"tag\",\"relation\":\"equals\",\"condition\":\"country', 'new\"},{\"column\":\"tag\",\"relation\":\"equals\",\"condition\":\"global', 'new\"},{\"column\":\"tag\",\"relation\":\"equals\",\"condition\":\"urban', 'new\"}],\"published_scope\":\"global\",\"image\":{\"created_at\":\"2024-02-08T11:29:20+10:00\",\"alt\":null,\"width\":3200,\"height\":1600,\"src\":\"\\\\/\\\\/www.bandhinidesign.com\\\\/cdn\\\\/shop\\\\/collections\\\\/Collection_Header_Image_8.jpg?v=1707355760\"}},{\"id\":428148174,\"handle\":\"all\",\"title\":\"All', 'Products\",\"updated_at\":\"2024-09-13T14:41:20+10:00\",\"body_html\":\"Shop', 'the', 'entire', 'Bandhini', 'collection.\",\"published_at\":\"2017-05-02T21:33:05+10:00\",\"sort_order\":\"alpha-asc\",\"template_suffix\":\"\",\"disjunctive\":false,\"rules\":[{\"column\":\"variant_price\",\"relation\":\"greater_than\",\"condition\":\"1\"},{\"column\":\"title\",\"relation\":\"not_contains\",\"condition\":\"Add', 'Ons\"}],\"published_scope\":\"global\"},{\"id\":279231627331,\"handle\":\"country-cushions\",\"title\":\"Country', 'Cushions\",\"updated_at\":\"2024-09-11T13:10:09+10:00\",\"body_html\":\"\",\"published_at\":\"2024-01-31T10:14:33+10:00\",\"sort_order\":\"manual\",\"template_suffix\":\"\",\"disjunctive\":false,\"rules\":[{\"column\":\"tag\",\"relation\":\"equals\",\"condition\":\"country', 'new\"}],\"published_scope\":\"global\",\"image\":{\"created_at\":\"2024-02-08T13:46:52+10:00\",\"alt\":null,\"width\":3200,\"height\":1600,\"src\":\"\\\\/\\\\/www.bandhinidesign.com\\\\/cdn\\\\/shop\\\\/collections\\\\/Country.png?v=1719965441\"}},{\"id\":266508173379,\"handle\":\"embellished-1\",\"updated_at\":\"2024-09-06T14:34:43+10:00\",\"published_at\":\"2022-05-03T10:15:19+10:00\",\"sort_order\":\"alpha-asc\",\"template_suffix\":\"\",\"published_scope\":\"global\",\"title\":\"Embellished\",\"body_html\":\"\\\\u003ch5\\\\u003e\\\\u003cspan', 'style=\\\\\"color:', '#ffffff;\\\\\"\\\\u003eOur', 'range', 'of', 'Embellished'], ['B-PRODUCT', 'I-PRODUCT', 'I-PRODUCT', 'I-PRODUCT', 'I-PRODUCT', 'I-PRODUCT', 'I-PRODUCT', 'I-PRODUCT', 'I-PRODUCT', 'I-PRODUCT', 'I-PRODUCT', 'I-PRODUCT', 'I-PRODUCT', 'O', 'O', 'O', 'O', 'O', 'O', 'O', 'O', 'O', 'O', 'O', 'O', 'O', 'O', 'O', 'O', 'O', 'O', 'O', 'O']], ['https://www.insaraf.com/products/solid-wood-bevel-red-printed-fabric-lampshade-floor-lamp-with-beige-base', 'https://www.insaraf.com', ['used', 'by', 'our', 'experienced', 'and', 'skilled', 'craftsmen', 'to', 'make', 'your', 'solid', 'wood', 'furniture', 'the', 'way', 'you', 'expect', 'it', 'to', 'be.', 'Product', 'Standards', 'Products', 'are', 'made', 'in', 'bulk', 'with', 'standardizations,', 'so', 'that', 'each', 'product', 'has', 'that', 'technical', 'and', 'visual', 'greatness', 'that', 'every', 'furniture'], ['O', 'O', 'O', 'O', 'O', 'O', 'O', 'O', 'O', 'O', 'O', 'O', 'O', 'O', 'O', 'O', 'O', 'O', 'O', 'O', 'B-PRODUCT', 'I-PRODUCT', 'O', 'O', 'O', 'O', 'O', 'O', 'O', 'O', 'O', 'O', 'O', 'O', 'O', 'O', 'O', 'O', 'O', 'O', 'O', 'O']], ['https://www.tandemarbor.com/products/horatio-sofa-pumice-vintage-leather', 'https://www.tandemarbor.com', ['Sofa', 'quantity', '1', '2', '3', '4', '5', '6', '7', '8', '9', '10', 'Pumice', 'Vintage', 'Leather', 'Price:', '$5,725', 'Add', 'To', 'Cart', 'Product', 'Details:', 'Transforms', 'your', 'living', 'space', 'with', 'this', 'modern', 'interpretation', 'of', 'the', 'classic', 'camelback', 'sofa', 'design.', 'A', 'single', 'graceful', 'arch', 'curves', 'with'], ['O', 'O', 'O', 'O', 'O', 'O', 'O', 'O', 'O', 'O', 'O', 'O', 'O', 'O', 'O', 'O', 'O', 'O', 'O', 'O', 'B-PRODUCT', 'I-PRODUCT', 'O', 'O', 'O', 'O', 'O', 'O', 'O', 'O', 'O', 'O', 'O', 'O', 'O', 'O', 'O', 'O', 'O', 'O', 'O', 'O']], ['https://newstartfurniture.com.au/products/king-single-pu-leather-bed-frame-black', 'https://newstartfurniture.com.au', ['|', 'Black', 'PU', 'Leather', '|', 'Newstart', 'Skip', 'to', 'content', 'Buy', 'Furniture', 'Now', '&', 'Pay', 'Later', 'with', 'Afterpay,', 'ZipPay', 'and', 'ZipMoney', 'Palermo', 'King', 'Single', 'Bed', 'Frame', '|', 'Black', 'PU', 'Leather', 'Headboard', 'Save', '39%', 'SKU:', 'V63-819103', 'Price:', 'Sale', 'price', '$379.00', 'Regular', 'price', '$624.95', '/', 'GST', 'included', 'Stock:', 'Sold', 'out', 'Quantity:', 'Sold', 'out'], ['O', 'O', 'O', 'O', 'O', 'O', 'O', 'O', 'O', 'O', 'O', 'O', 'O', 'O', 'O', 'O', 'O', 'O', 'O', 'O', 'B-PRODUCT', 'I-PRODUCT', 'I-PRODUCT', 'I-PRODUCT', 'I-PRODUCT', 'I-PRODUCT', 'I-PRODUCT', 'I-PRODUCT', 'I-PRODUCT', 'I-PRODUCT', 'O', 'O', 'O', 'O', 'O', 'O', 'O', 'O', 'O', 'O', 'O', 'O', 'O', 'O', 'O', 'O', 'O', 'O', 'O', 'O']], ['https://www.insaraf.com/products/solid-wood-criss-cross-black-fabric-lampshade-table-lamp-with-brown-base', 'https://www.insaraf.com', ['used', 'by', 'our', 'experienced', 'and', 'skilled', 'craftsmen', 'to', 'make', 'your', 'solid', 'wood', 'furniture', 'the', 'way', 'you', 'expect', 'it', 'to', 'be.', 'Product', 'Standards', 'Products', 'are', 'made', 'in', 'bulk', 'with', 'standardizations,', 'so', 'that', 'each', 'product', 'has', 'that', 'technical', 'and', 'visual', 'greatness', 'that', 'every', 'furniture'], ['O', 'O', 'O', 'O', 'O', 'O', 'O', 'O', 'O', 'O', 'O', 'O', 'O', 'O', 'O', 'O', 'O', 'O', 'O', 'O', 'B-PRODUCT', 'I-PRODUCT', 'O', 'O', 'O', 'O', 'O', 'O', 'O', 'O', 'O', 'O', 'O', 'O', 'O', 'O', 'O', 'O', 'O', 'O', 'O', 'O']], ['https://www.insaraf.com/products/solid-wood-buck-trio-coffee-table', 'https://www.insaraf.com', ['used', 'by', 'our', 'experienced', 'and', 'skilled', 'craftsmen', 'to', 'make', 'your', 'solid', 'wood', 'furniture', 'the', 'way', 'you', 'expect', 'it', 'to', 'be.', 'Product', 'Standards', 'Products', 'are', 'made', 'in', 'bulk', 'with', 'standardizations,', 'so', 'that', 'each', 'product', 'has', 'that', 'technical', 'and', 'visual', 'greatness', 'that', 'every', 'furniture'], ['O', 'O', 'O', 'O', 'O', 'O', 'O', 'O', 'O', 'O', 'O', 'O', 'O', 'O', 'O', 'O', 'O', 'O', 'O', 'O', 'B-PRODUCT', 'I-PRODUCT', 'O', 'O', 'O', 'O', 'O', 'O', 'O', 'O', 'O', 'O', 'O', 'O', 'O', 'O', 'O', 'O', 'O', 'O', 'O', 'O']], ['https://www.tandemarbor.com/products/evans-ottoman-oyster-crushed-velvet', 'https://www.tandemarbor.com', ['Ottoman', 'quantity', '1', '2', '3', '4', '5', '6', '7', '8', '9', '10', 'Oyster', 'Crushed', 'Velvet', 'Price:', '$2,430', 'Add', 'To', 'Cart', 'Product', 'Details:', 'Practical', 'and', 'stylish,', 'this', 'Ottoman', 'is', 'alluring', 'in', 'appearance', 'with', 'its', 'crisp', 'lines.', 'Use', 'it', 'as', 'extra', 'seating,', 'a', 'functional'], ['O', 'O', 'O', 'O', 'O', 'O', 'O', 'O', 'O', 'O', 'O', 'O', 'O', 'O', 'O', 'O', 'O', 'O', 'O', 'O', 'B-PRODUCT', 'I-PRODUCT', 'O', 'O', 'O', 'O', 'O', 'O', 'O', 'O', 'O', 'O', 'O', 'O', 'O', 'O', 'O', 'O', 'O', 'O', 'O', 'O']], ['https://settlehome.co.uk/products/copy-of-hand-made-double-pinch-pleat-headed-curtains', 'https://settlehome.co.uk', ['Us', '▾', 'Interior', 'Design', 'Service', 'Recent', 'Projects-', 'Elegant', 'drawing', 'room', 'Recent', 'projects', '-', 'Stunning', 'dining', 'room', 'Home', '/', 'Products', '/', 'Hand', 'made', 'double', 'pinch', 'pleat', 'headed', 'curtains', 'in', 'Sanderson', 'Elysian', 'collection', 'Hand', 'made', 'double', 'pinch', 'pleat', 'headed', 'curtains', 'in', 'Sanderson', 'Elysian', 'collection', '£', 'Details', 'Below', 'Enquire', 'here', 'Contact', 'details', 'Please', 'enter'], ['O', 'O', 'O', 'O', 'O', 'O', 'O', 'O', 'O', 'O', 'O', 'O', 'O', 'O', 'O', 'O', 'O', 'O', 'O', 'O', 'B-PRODUCT', 'I-PRODUCT', 'I-PRODUCT', 'I-PRODUCT', 'I-PRODUCT', 'I-PRODUCT', 'I-PRODUCT', 'I-PRODUCT', 'I-PRODUCT', 'I-PRODUCT', 'I-PRODUCT', 'O', 'O', 'O', 'O', 'O', 'O', 'O', 'O', 'O', 'O', 'O', 'O', 'O', 'O', 'O', 'O', 'O', 'O', 'O', 'O']], ['https://www.tandemarbor.com/products/mulberry-chaise-pumice-plush-velvet', 'https://www.tandemarbor.com', ['Chaise', 'quantity', '1', '2', '3', '4', '5', '6', '7', '8', '9', '10', 'Pumice', 'Plush', 'Velvet', 'Price:', '$4,095', 'Add', 'To', 'Cart', 'Product', 'Details:', 'Relax', 'in', 'style', 'with', 'the', 'Mulberry', 'Chaise.', 'This', 'modern', 'silhouette', 'is', 'minimal', 'yet', 'rounded', 'with', 'familiar', 'comfort.', 'The', 'deep', 'profile'], ['O', 'O', 'O', 'O', 'O', 'O', 'O', 'O', 'O', 'O', 'O', 'O', 'O', 'O', 'O', 'O', 'O', 'O', 'O', 'O', 'B-PRODUCT', 'I-PRODUCT', 'O', 'O', 'O', 'O', 'O', 'O', 'O', 'O', 'O', 'O', 'O', 'O', 'O', 'O', 'O', 'O', 'O', 'O', 'O', 'O']], ['https://timelessdesign.com.my/products/ally-name-card-holder', 'https://timelessdesign.com.my', ['Ally', 'Name', 'Card', 'Holder', 'l', 'Card', 'Holder', 'Malaysia', 'l', 'TIMELESS', 'DESIGN', '—', 'Timeless', 'Design', 'Lifestyle', 'Store', 'Skip', 'to', 'content', 'Click', 'to', 'expand', 'Tap', 'to'], ['B-PRODUCT', 'I-PRODUCT', 'I-PRODUCT', 'I-PRODUCT', 'O', 'O', 'O', 'O', 'O', 'O', 'O', 'O', 'O', 'O', 'O', 'O', 'O', 'O', 'O', 'O', 'O', 'O', 'O', 'O']], ['https://www.tandemarbor.com/products/varick-armless-chair-marzipan-box-weave-linen', 'https://www.tandemarbor.com', ['quantity', '1', '2', '3', '4', '5', '6', '7', '8', '9', '10', 'Marzipan', 'Box', 'Weave', 'Linen', 'Price:', '$2,505', 'Add', 'To', 'Cart', 'Product', 'Details:', 'The', 'Varick', 'Armless', 'Chair', 'seamlessly', 'blends', 'tailored', 'stitching', 'with', 'overstuffed,', 'super-thick', 'cushions', 'for', 'modern', 'slipper', 'chair', 'appearance.', 'The', 'Varick', 'Armless'], ['O', 'O', 'O', 'O', 'O', 'O', 'O', 'O', 'O', 'O', 'O', 'O', 'O', 'O', 'O', 'O', 'O', 'O', 'O', 'O', 'B-PRODUCT', 'I-PRODUCT', 'O', 'O', 'O', 'O', 'O', 'O', 'O', 'O', 'O', 'O', 'O', 'O', 'O', 'O', 'O', 'O', 'O', 'O', 'O', 'O']], ['https://www.insaraf.com/products/solid-wood-romeo-sqaure-coffee-table-walnut', 'https://www.insaraf.com', ['used', 'by', 'our', 'experienced', 'and', 'skilled', 'craftsmen', 'to', 'make', 'your', 'solid', 'wood', 'furniture', 'the', 'way', 'you', 'expect', 'it', 'to', 'be.', 'Product', 'Standards', 'Products', 'are', 'made', 'in', 'bulk', 'with', 'standardizations,', 'so', 'that', 'each', 'product', 'has', 'that', 'technical', 'and', 'visual', 'greatness', 'that', 'every', 'furniture'], ['O', 'O', 'O', 'O', 'O', 'O', 'O', 'O', 'O', 'O', 'O', 'O', 'O', 'O', 'O', 'O', 'O', 'O', 'O', 'O', 'B-PRODUCT', 'I-PRODUCT', 'O', 'O', 'O', 'O', 'O', 'O', 'O', 'O', 'O', 'O', 'O', 'O', 'O', 'O', 'O', 'O', 'O', 'O', 'O', 'O']], ['https://www.tandemarbor.com/products/pumice-plush-velvet', 'https://www.tandemarbor.com', ['Us', 'Live', 'Chat', '(chat', 'circle', 'at', 'bottom', 'left)', '(800)', '306-4504', 'hello@tandemarbor.com', 'or', 'use', 'the', 'contact', 'form', 'here!', 'Pumice', 'Plush', 'Velvet', 'Product', 'Details:', 'A', 'buttery', 'soft', 'fabric', 'with', 'a', 'subtle', 'sheen', 'and', 'soft', 'hand', 'for', 'an', 'elegant', 'look.', 'This', 'is', 'considered', 'a', 'performance'], ['O', 'O', 'O', 'O', 'O', 'O', 'O', 'O', 'O', 'O', 'O', 'O', 'O', 'O', 'O', 'O', 'O', 'O', 'O', 'O', 'B-PRODUCT', 'I-PRODUCT', 'O', 'O', 'O', 'O', 'O', 'O', 'O', 'O', 'O', 'O', 'O', 'O', 'O', 'O', 'O', 'O', 'O', 'O', 'O', 'O']], ['https://www.georgestreet.co.uk/products/atlanta-white-triple-wardrobe/', 'https://www.georgestreet.co.uk', ['Products', '|', 'George', 'Street', 'Furnishers', 'Newport', '×', 'Warning', 'Cookies', 'are', 'used', 'on', 'this', 'site', 'to', 'provide', 'the', 'best', 'user', 'experience.', 'If'], ['B-PRODUCT', 'O', 'O', 'O', 'O', 'O', 'O', 'O', 'O', 'O', 'O', 'O', 'O', 'O', 'O', 'O', 'O', 'O', 'O', 'O', 'O']], ['https://www.greensladesfurniture.co.nz/products/sanderson-headboard-in-vintage-grey-velvet-queen', 'https://www.greensladesfurniture.co.nz', ['Sanderson', 'Headboard', 'in', 'Vintage', 'Grey', 'Velvet', '-', 'Queen', '–', 'Greenslades', 'Furniture', 'Great', 'Everyday', 'Low', 'Prices', '|', 'Delivery', 'NZ', 'Wide', '|', 'A', 'family', 'business', 'EST.', '1993', 'Sofas', '&', 'Lounge'], ['B-PRODUCT', 'I-PRODUCT', 'I-PRODUCT', 'I-PRODUCT', 'I-PRODUCT', 'I-PRODUCT', 'I-PRODUCT', 'I-PRODUCT', 'O', 'O', 'O', 'O', 'O', 'O', 'O', 'O', 'O', 'O', 'O', 'O', 'O', 'O', 'O', 'O', 'O', 'O', 'O', 'O']], ['https://www.shopden-la.com/products/gio-ponti-headboard-and-bed-frame-with-attached-nightstands', 'https://www.shopden-la.com', ['Gio', 'Ponti', 'Headboard', 'and', 'Bedframe', 'with', 'Attached', 'Nightstands', '–', 'DEN', 'Follow', 'on', 'Instagram!', 'SCHEDULE', 'AN', 'APPOINTMENT', 'BLOG', 'CUSTOMER', 'SERVICE', 'RESTORATION', 'PROP', 'RENTAL', 'INTERIOR', 'DESIGN', 'PROGRAM', 'Gio', 'Ponti', 'Headboard'], ['B-PRODUCT', 'I-PRODUCT', 'I-PRODUCT', 'I-PRODUCT', 'I-PRODUCT', 'I-PRODUCT', 'I-PRODUCT', 'I-PRODUCT', 'O', 'O', 'O', 'O', 'O', 'O', 'O', 'O', 'O', 'O', 'O', 'O', 'O', 'O', 'O', 'O', 'O', 'O', 'O', 'O']], ['https://www.gowfb.com/products/riverdale-double-queen-bookcase-headboard-washed-black', 'https://www.gowfb.com', ['content', 'Basic', 'FREE*', 'Shipping', 'Anywhere', 'in', 'the', 'United', 'States', 'Free', 'Shipping', 'in', 'the', 'U.S.', 'Click', 'to', 'expand', 'Tap', 'to', 'zoom', 'Riverdale', 'Double', '/', 'Queen', 'Bookcase', 'Headboard', '-', 'Drifted', 'Gray', 'by', 'Prepac', 'Save', '29', '%', 'Original', 'price', '$279.99', 'Current', 'price', '$199.99', 'Drifted', 'Gray', '-', '$199.99', 'Drifted', 'Gray', 'Color', '1', '2'], ['O', 'O', 'O', 'O', 'O', 'O', 'O', 'O', 'O', 'O', 'O', 'O', 'O', 'O', 'O', 'O', 'O', 'O', 'O', 'O', 'B-PRODUCT', 'I-PRODUCT', 'I-PRODUCT', 'I-PRODUCT', 'I-PRODUCT', 'I-PRODUCT', 'I-PRODUCT', 'I-PRODUCT', 'I-PRODUCT', 'O', 'O', 'O', 'O', 'O', 'O', 'O', 'O', 'O', 'O', 'O', 'O', 'O', 'O', 'O', 'O', 'O', 'O', 'O', 'O']], ['https://limitedabode.co.uk/products/cool-ornamental-dog', 'https://limitedabode.co.uk', ['Cool', 'Ornamental', 'Dog', '-', 'Limited', 'Abode', 'Skip', 'to', 'content', 'Close', 'menu', 'New', 'In', 'Halloween', 'Christmas', 'DECORATIONS', 'Christmas', 'Decorations', 'Christmas', 'Trees', 'View', 'All', 'FESTIVE'], ['B-PRODUCT', 'I-PRODUCT', 'I-PRODUCT', 'O', 'O', 'O', 'O', 'O', 'O', 'O', 'O', 'O', 'O', 'O', 'O', 'O', 'O', 'O', 'O', 'O', 'O', 'O', 'O']], ['https://newstartfurniture.com.au/products/queen-pu-leather-bed-frame-white', 'https://newstartfurniture.com.au', ['|', 'White', 'PU', 'Leather,', 'Modern', 'Elegance', 'Skip', 'to', 'content', 'Buy', 'Furniture', 'Now', '&', 'Pay', 'Later', 'with', 'Afterpay,', 'ZipPay', 'and', 'ZipMoney', 'Palermo', 'White', 'PU', 'Leather', 'Queen', 'Bed', 'Frame', '&', 'Headboard', 'Save', '34%', 'SKU:', 'V63-761235', 'Price:', 'Sale', 'price', '$438.00', 'Regular', 'price', '$664.95', '/', 'GST', 'included', 'Stock:', 'Sold', 'out', 'Quantity:', 'Sold', 'out'], ['O', 'O', 'O', 'O', 'O', 'O', 'O', 'O', 'O', 'O', 'O', 'O', 'O', 'O', 'O', 'O', 'O', 'O', 'O', 'O', 'B-PRODUCT', 'I-PRODUCT', 'I-PRODUCT', 'I-PRODUCT', 'I-PRODUCT', 'I-PRODUCT', 'I-PRODUCT', 'I-PRODUCT', 'I-PRODUCT', 'O', 'O', 'O', 'O', 'O', 'O', 'O', 'O', 'O', 'O', 'O', 'O', 'O', 'O', 'O', 'O', 'O', 'O', 'O', 'O']], ['https://www.insaraf.com/products/solid-wood-eva-tv-unit-with-sliding-doors', 'https://www.insaraf.com', ['used', 'by', 'our', 'experienced', 'and', 'skilled', 'craftsmen', 'to', 'make', 'your', 'solid', 'wood', 'furniture', 'the', 'way', 'you', 'expect', 'it', 'to', 'be.', 'Product', 'Standards', 'Products', 'are', 'made', 'in', 'bulk', 'with', 'standardizations,', 'so', 'that', 'each', 'product', 'has', 'that', 'technical', 'and', 'visual', 'greatness', 'that', 'every', 'furniture'], ['O', 'O', 'O', 'O', 'O', 'O', 'O', 'O', 'O', 'O', 'O', 'O', 'O', 'O', 'O', 'O', 'O', 'O', 'O', 'O', 'B-PRODUCT', 'I-PRODUCT', 'O', 'O', 'O', 'O', 'O', 'O', 'O', 'O', 'O', 'O', 'O', 'O', 'O', 'O', 'O', 'O', 'O', 'O', 'O', 'O']], ['https://www.insaraf.com/products/poster-bed-romeo', 'https://www.insaraf.com', ['used', 'by', 'our', 'experienced', 'and', 'skilled', 'craftsmen', 'to', 'make', 'your', 'solid', 'wood', 'furniture', 'the', 'way', 'you', 'expect', 'it', 'to', 'be.', 'Product', 'Standards', 'Products', 'are', 'made', 'in', 'bulk', 'with', 'standardizations,', 'so', 'that', 'each', 'product', 'has', 'that', 'technical', 'and', 'visual', 'greatness', 'that', 'every', 'furniture'], ['O', 'O', 'O', 'O', 'O', 'O', 'O', 'O', 'O', 'O', 'O', 'O', 'O', 'O', 'O', 'O', 'O', 'O', 'O', 'O', 'B-PRODUCT', 'I-PRODUCT', 'O', 'O', 'O', 'O', 'O', 'O', 'O', 'O', 'O', 'O', 'O', 'O', 'O', 'O', 'O', 'O', 'O', 'O', 'O', 'O']], ['https://www.insaraf.com/products/opium-coffee-table', 'https://www.insaraf.com', ['used', 'by', 'our', 'experienced', 'and', 'skilled', 'craftsmen', 'to', 'make', 'your', 'solid', 'wood', 'furniture', 'the', 'way', 'you', 'expect', 'it', 'to', 'be.', 'Product', 'Standards', 'Products', 'are', 'made', 'in', 'bulk', 'with', 'standardizations,', 'so', 'that', 'each', 'product', 'has', 'that', 'technical', 'and', 'visual', 'greatness', 'that', 'every', 'furniture'], ['O', 'O', 'O', 'O', 'O', 'O', 'O', 'O', 'O', 'O', 'O', 'O', 'O', 'O', 'O', 'O', 'O', 'O', 'O', 'O', 'B-PRODUCT', 'I-PRODUCT', 'O', 'O', 'O', 'O', 'O', 'O', 'O', 'O', 'O', 'O', 'O', 'O', 'O', 'O', 'O', 'O', 'O', 'O', 'O', 'O']], ['https://www.tandemarbor.com/products/varick-5-piece-corner-sectional-haze-vintage-leather', 'https://www.tandemarbor.com', ['Sectional', 'quantity', '1', '2', '3', '4', '5', '6', '7', '8', '9', '10', 'Haze', 'Vintage', 'Leather', 'Price:', '$14,425', 'Add', 'To', 'Cart', 'Product', 'Details:', 'Luxurious', 'casual', 'comfort', 'at', 'its', 'finest.', 'Sink', 'into', 'the', 'charmingly', 'plush,', 'designer', 'form', 'of', 'the', 'amply-stuffed', 'Varick', 'Sectional.', 'A', 'seating'], ['O', 'O', 'O', 'O', 'O', 'O', 'O', 'O', 'O', 'O', 'O', 'O', 'O', 'O', 'O', 'O', 'O', 'O', 'O', 'O', 'B-PRODUCT', 'I-PRODUCT', 'O', 'O', 'O', 'O', 'O', 'O', 'O', 'O', 'O', 'O', 'O', 'O', 'O', 'O', 'O', 'O', 'O', 'O', 'O', 'O']], ['https://www.thedesignedit.com.au/products/half-moon-queen-bedhead-velvet-slipcover', 'https://www.thedesignedit.com.au', ['-', 'homewares', 'orders', 'over', '$99', '2', 'Year', 'Warranty', 'on', 'all', 'Furniture', '14', 'day', 'money', 'back', 'guarantee', '$1,500.00', '$0.00', 'Create', 'Estate', 'Half', 'Moon', 'Queen', 'Bedhead', '-', 'Velvet', 'Slipcover', 'No', 'reviews', 'Default', 'Title', '-', 'Sold', 'Out', 'Quantity', 'Add', 'to', 'Cart', '•', '$1,500.00', 'Notify', 'Me', 'when', 'back', 'in', 'stock', 'Sign'], ['O', 'O', 'O', 'O', 'O', 'O', 'O', 'O', 'O', 'O', 'O', 'O', 'O', 'O', 'O', 'O', 'O', 'O', 'O', 'O', 'B-PRODUCT', 'I-PRODUCT', 'I-PRODUCT', 'I-PRODUCT', 'I-PRODUCT', 'I-PRODUCT', 'I-PRODUCT', 'O', 'O', 'O', 'O', 'O', 'O', 'O', 'O', 'O', 'O', 'O', 'O', 'O', 'O', 'O', 'O', 'O', 'O', 'O', 'O']], ['https://www.insaraf.com/products/solid-wood-tania-bed-1', 'https://www.insaraf.com', ['used', 'by', 'our', 'experienced', 'and', 'skilled', 'craftsmen', 'to', 'make', 'your', 'solid', 'wood', 'furniture', 'the', 'way', 'you', 'expect', 'it', 'to', 'be.', 'Product', 'Standards', 'Products', 'are', 'made', 'in', 'bulk', 'with', 'standardizations,', 'so', 'that', 'each', 'product', 'has', 'that', 'technical', 'and', 'visual', 'greatness', 'that', 'every', 'furniture'], ['O', 'O', 'O', 'O', 'O', 'O', 'O', 'O', 'O', 'O', 'O', 'O', 'O', 'O', 'O', 'O', 'O', 'O', 'O', 'O', 'B-PRODUCT', 'I-PRODUCT', 'O', 'O', 'O', 'O', 'O', 'O', 'O', 'O', 'O', 'O', 'O', 'O', 'O', 'O', 'O', 'O', 'O', 'O', 'O', 'O']], ['https://www.interiorliving.ca/products/portland-fully-upholstered-bed-with-adjustable-headrest', 'https://www.interiorliving.ca', ['information', 'Open', 'media', '1', 'in', 'modal', 'Open', 'media', '2', 'in', 'modal', 'Open', 'media', '3', 'in', 'modal', '1', '/', 'of', '3', 'Portland', 'Fully-Upholstered', 'Bed', 'with', 'Adjustable', 'Headrest', 'Portland', 'Fully-Upholstered', 'Bed', 'with', 'Adjustable', 'Headrest', 'Inquire', 'for', 'Price', '×', 'Inquire', 'for', 'Portland', 'Fully-Upholstered', 'Bed', 'with', 'Adjustable', 'Headrest', 'Name', 'Email'], ['O', 'O', 'O', 'O', 'O', 'O', 'O', 'O', 'O', 'O', 'O', 'O', 'O', 'O', 'O', 'O', 'O', 'O', 'O', 'O', 'B-PRODUCT', 'I-PRODUCT', 'I-PRODUCT', 'I-PRODUCT', 'I-PRODUCT', 'I-PRODUCT', 'O', 'O', 'O', 'O', 'O', 'O', 'O', 'O', 'O', 'O', 'O', 'O', 'O', 'O', 'O', 'O', 'O', 'O', 'O', 'O']], ['https://www.insaraf.com/products/solid-wood-eva-study-table-with-2-drawers-stone', 'https://www.insaraf.com', ['used', 'by', 'our', 'experienced', 'and', 'skilled', 'craftsmen', 'to', 'make', 'your', 'solid', 'wood', 'furniture', 'the', 'way', 'you', 'expect', 'it', 'to', 'be.', 'Product', 'Standards', 'Products', 'are', 'made', 'in', 'bulk', 'with', 'standardizations,', 'so', 'that', 'each', 'product', 'has', 'that', 'technical', 'and', 'visual', 'greatness', 'that', 'every', 'furniture'], ['O', 'O', 'O', 'O', 'O', 'O', 'O', 'O', 'O', 'O', 'O', 'O', 'O', 'O', 'O', 'O', 'O', 'O', 'O', 'O', 'B-PRODUCT', 'I-PRODUCT', 'O', 'O', 'O', 'O', 'O', 'O', 'O', 'O', 'O', 'O', 'O', 'O', 'O', 'O', 'O', 'O', 'O', 'O', 'O', 'O']], ['https://www.insaraf.com/products/romeo-plasma-uromeo-plasma-unit', 'https://www.insaraf.com', ['used', 'by', 'our', 'experienced', 'and', 'skilled', 'craftsmen', 'to', 'make', 'your', 'solid', 'wood', 'furniture', 'the', 'way', 'you', 'expect', 'it', 'to', 'be.', 'Product', 'Standards', 'Products', 'are', 'made', 'in', 'bulk', 'with', 'standardizations,', 'so', 'that', 'each', 'product', 'has', 'that', 'technical', 'and', 'visual', 'greatness', 'that', 'every', 'furniture'], ['O', 'O', 'O', 'O', 'O', 'O', 'O', 'O', 'O', 'O', 'O', 'O', 'O', 'O', 'O', 'O', 'O', 'O', 'O', 'O', 'B-PRODUCT', 'I-PRODUCT', 'O', 'O', 'O', 'O', 'O', 'O', 'O', 'O', 'O', 'O', 'O', 'O', 'O', 'O', 'O', 'O', 'O', 'O', 'O', 'O']], ['https://www.tandemarbor.com/products/ludlow-sofa-alabaster-plush-velvet', 'https://www.tandemarbor.com', ['Sofa', 'quantity', '1', '2', '3', '4', '5', '6', '7', '8', '9', '10', 'Alabaster', 'Plush', 'Velvet', 'Price:', '$4,320', 'Add', 'To', 'Cart', 'Product', 'Details:', 'The', 'Ludlow', 'Sofa', 'translates', 'the', 'best', 'elements', 'of', 'traditional', 'sofa', 'design', 'for', 'the', 'modern', 'home.', 'With', 'cleanly', 'rounded', 'roll-arms', 'and'], ['O', 'O', 'O', 'O', 'O', 'O', 'O', 'O', 'O', 'O', 'O', 'O', 'O', 'O', 'O', 'O', 'O', 'O', 'O', 'O', 'B-PRODUCT', 'I-PRODUCT', 'O', 'O', 'O', 'O', 'O', 'O', 'O', 'O', 'O', 'O', 'O', 'O', 'O', 'O', 'O', 'O', 'O', 'O', 'O', 'O']], ['https://www.tandemarbor.com/products/thompson-sofa-silver-streak-box-weave-linen', 'https://www.tandemarbor.com', ['1', '2', '3', '4', '5', '6', '7', '8', '9', '10', 'Silver', 'Streak', 'Box', 'Weave', 'Linen', 'Price:', '$4,100', 'Add', 'To', 'Cart', 'Product', 'Details:', 'Find', 'home', 'in', 'the', 'Thompson', 'Sofa.', 'This', 'sleek', 'design', 'is', 'a', 'new', 'benchmark', 'for', 'modern', 'home', 'style', 'with', 'a', 'traditional'], ['O', 'O', 'O', 'O', 'O', 'O', 'O', 'O', 'O', 'O', 'O', 'O', 'O', 'O', 'O', 'O', 'O', 'O', 'O', 'O', 'B-PRODUCT', 'I-PRODUCT', 'O', 'O', 'O', 'O', 'O', 'O', 'O', 'O', 'O', 'O', 'O', 'O', 'O', 'O', 'O', 'O', 'O', 'O', 'O', 'O']], ['https://emfurn.com/products/lp-cecilia-full-queen-performance-velvet-headboard', 'https://emfurn.com', ['Cecilia', 'Full/Queen', 'Performance', 'Velvet', 'Headboard', 'Skip', 'to', 'content', '🚚', 'FREE', 'SHIPPING', '|', '✅', '1', 'YEAR', 'WARRANTY', '|', '↩️', 'EASY', 'RETURNS', 'Cart', 'Your', 'cart', 'is', 'empty'], ['B-PRODUCT', 'I-PRODUCT', 'I-PRODUCT', 'I-PRODUCT', 'I-PRODUCT', 'O', 'O', 'O', 'O', 'O', 'O', 'O', 'O', 'O', 'O', 'O', 'O', 'O', 'O', 'O', 'O', 'O', 'O', 'O', 'O']], ['https://limitedabode.co.uk/products/hand-ornament', 'https://limitedabode.co.uk', ['Hand', 'Ornament', '-', 'Limited', 'Abode', 'Skip', 'to', 'content', 'Close', 'menu', 'New', 'In', 'Halloween', 'Christmas', 'DECORATIONS', 'Christmas', 'Decorations', 'Christmas', 'Trees', 'View', 'All', 'FESTIVE'], ['B-PRODUCT', 'I-PRODUCT', 'O', 'O', 'O', 'O', 'O', 'O', 'O', 'O', 'O', 'O', 'O', 'O', 'O', 'O', 'O', 'O', 'O', 'O', 'O', 'O']], ['https://www.insaraf.com/products/solid-wood-eter-dining-set-4-seater-with-chairs-extensions', 'https://www.insaraf.com', ['used', 'by', 'our', 'experienced', 'and', 'skilled', 'craftsmen', 'to', 'make', 'your', 'solid', 'wood', 'furniture', 'the', 'way', 'you', 'expect', 'it', 'to', 'be.', 'Product', 'Standards', 'Products', 'are', 'made', 'in', 'bulk', 'with', 'standardizations,', 'so', 'that', 'each', 'product', 'has', 'that', 'technical', 'and', 'visual', 'greatness', 'that', 'every', 'furniture'], ['O', 'O', 'O', 'O', 'O', 'O', 'O', 'O', 'O', 'O', 'O', 'O', 'O', 'O', 'O', 'O', 'O', 'O', 'O', 'O', 'B-PRODUCT', 'I-PRODUCT', 'O', 'O', 'O', 'O', 'O', 'O', 'O', 'O', 'O', 'O', 'O', 'O', 'O', 'O', 'O', 'O', 'O', 'O', 'O', 'O']], ['https://www.tandemarbor.com/products/mulberry-chaise-blue-print-crushed-velvet', 'https://www.tandemarbor.com', ['quantity', '1', '2', '3', '4', '5', '6', '7', '8', '9', '10', 'Blue', 'Print', 'Crushed', 'Velvet', 'Price:', '$4,095', 'Add', 'To', 'Cart', 'Product', 'Details:', 'Relax', 'in', 'style', 'with', 'the', 'Mulberry', 'Chaise.', 'This', 'modern', 'silhouette', 'is', 'minimal', 'yet', 'rounded', 'with', 'familiar', 'comfort.', 'The', 'deep', 'profile'], ['O', 'O', 'O', 'O', 'O', 'O', 'O', 'O', 'O', 'O', 'O', 'O', 'O', 'O', 'O', 'O', 'O', 'O', 'O', 'O', 'B-PRODUCT', 'I-PRODUCT', 'O', 'O', 'O', 'O', 'O', 'O', 'O', 'O', 'O', 'O', 'O', 'O', 'O', 'O', 'O', 'O', 'O', 'O', 'O', 'O']], ['https://www.insaraf.com/products/solid-wood-brass-bed-a-with-dual-storage', 'https://www.insaraf.com', ['used', 'by', 'our', 'experienced', 'and', 'skilled', 'craftsmen', 'to', 'make', 'your', 'solid', 'wood', 'furniture', 'the', 'way', 'you', 'expect', 'it', 'to', 'be.', 'Product', 'Standards', 'Products', 'are', 'made', 'in', 'bulk', 'with', 'standardizations,', 'so', 'that', 'each', 'product', 'has', 'that', 'technical', 'and', 'visual', 'greatness', 'that', 'every', 'furniture'], ['O', 'O', 'O', 'O', 'O', 'O', 'O', 'O', 'O', 'O', 'O', 'O', 'O', 'O', 'O', 'O', 'O', 'O', 'O', 'O', 'B-PRODUCT', 'I-PRODUCT', 'O', 'O', 'O', 'O', 'O', 'O', 'O', 'O', 'O', 'O', 'O', 'O', 'O', 'O', 'O', 'O', 'O', 'O', 'O', 'O']], ['https://vauntdesign.com/products/joris-cream-side-table', 'https://vauntdesign.com', ['Scandinavian', 'Sculptural', 'Shop', 'By', 'Room', 'Bathroom', 'Bedroom', 'Kitchen', 'Hallway', 'Living', 'Room', 'Office', 'Clearance', 'Facebook', 'Instagram', 'Pinterest', 'Register', '/', 'Log', 'in', 'Sorry,', 'we', 'no', 'longer', 'sell', 'this', 'product', 'Due', 'to', 'popular', 'demand', \"'Joris\", 'Cream', 'Side', \"Table'\", 'is', 'no', 'longer', 'available.', 'But', 'fear', 'not;', 'a', 'range', 'of', 'other', 'great'], ['O', 'O', 'O', 'O', 'O', 'O', 'O', 'O', 'O', 'O', 'O', 'O', 'O', 'O', 'O', 'O', 'O', 'O', 'O', 'O', 'B-PRODUCT', 'I-PRODUCT', 'I-PRODUCT', 'I-PRODUCT', 'I-PRODUCT', 'I-PRODUCT', 'I-PRODUCT', 'O', 'O', 'O', 'O', 'O', 'O', 'O', 'O', 'O', 'O', 'O', 'O', 'O', 'O', 'O', 'O', 'O', 'O', 'O', 'O']], ['https://www.insaraf.com/products/solid-wood-frozen-sofa-2-seater', 'https://www.insaraf.com', ['used', 'by', 'our', 'experienced', 'and', 'skilled', 'craftsmen', 'to', 'make', 'your', 'solid', 'wood', 'furniture', 'the', 'way', 'you', 'expect', 'it', 'to', 'be.', 'Product', 'Standards', 'Products', 'are', 'made', 'in', 'bulk', 'with', 'standardizations,', 'so', 'that', 'each', 'product', 'has', 'that', 'technical', 'and', 'visual', 'greatness', 'that', 'every', 'furniture'], ['O', 'O', 'O', 'O', 'O', 'O', 'O', 'O', 'O', 'O', 'O', 'O', 'O', 'O', 'O', 'O', 'O', 'O', 'O', 'O', 'B-PRODUCT', 'I-PRODUCT', 'O', 'O', 'O', 'O', 'O', 'O', 'O', 'O', 'O', 'O', 'O', 'O', 'O', 'O', 'O', 'O', 'O', 'O', 'O', 'O']], ['https://www.tandemarbor.com/products/horatio-chair-oyster-box-weave-linen', 'https://www.tandemarbor.com', ['quantity', '1', '2', '3', '4', '5', '6', '7', '8', '9', '10', 'Oyster', 'Box', 'Weave', 'Linen', 'Price:', '$2,650', 'Add', 'To', 'Cart', 'Product', 'Details:', 'The', 'Horatio', 'Chair', 'simplifies', 'the', 'elements', 'of', 'a', 'traditional', 'chair', 'design', 'into', 'a', 'peaceful', 'modern', 'silhouette.', 'The', 'arched', 'camelback', 'and'], ['O', 'O', 'O', 'O', 'O', 'O', 'O', 'O', 'O', 'O', 'O', 'O', 'O', 'O', 'O', 'O', 'O', 'O', 'O', 'O', 'B-PRODUCT', 'I-PRODUCT', 'O', 'O', 'O', 'O', 'O', 'O', 'O', 'O', 'O', 'O', 'O', 'O', 'O', 'O', 'O', 'O', 'O', 'O', 'O', 'O']], ['https://houseofanli.com/products/deer-head-l49xp47xh94', 'https://houseofanli.com', ['Deer', 'Head', '–', 'House', 'of', 'AnLi', 'Free', 'Design', 'Service', 'Bespoke', 'Services', 'Free', 'Delivery', 'Over', '$200', 'Account', 'Cart', '(0)', '0', 'COLLECTIONS', 'Accessories', 'Belgian'], ['B-PRODUCT', 'I-PRODUCT', 'O', 'O', 'O', 'O', 'O', 'O', 'O', 'O', 'O', 'O', 'O', 'O', 'O', 'O', 'O', 'O', 'O', 'O', 'O', 'O']], ['https://www.tandemarbor.com/products/leroy-chair-haze-plush-velvet', 'https://www.tandemarbor.com', ['Chair', 'quantity', '1', '2', '3', '4', '5', '6', '7', '8', '9', '10', 'Haze', 'Plush', 'Velvet', 'Price:', '$2,790', 'Add', 'To', 'Cart', 'Product', 'Details:', 'Soundly', 'constructed,', 'solidly', 'traditional,', 'the', 'Leroy', 'Chair', 'makes', 'a', 'statement', 'in', 'living', 'rooms', 'with', 'its', 'familiar,', 'cozy', 'charm.', 'A', 'tall'], ['O', 'O', 'O', 'O', 'O', 'O', 'O', 'O', 'O', 'O', 'O', 'O', 'O', 'O', 'O', 'O', 'O', 'O', 'O', 'O', 'B-PRODUCT', 'I-PRODUCT', 'O', 'O', 'O', 'O', 'O', 'O', 'O', 'O', 'O', 'O', 'O', 'O', 'O', 'O', 'O', 'O', 'O', 'O', 'O', 'O']], ['https://www.tandemarbor.com/products/varick-sofa-blue-print-box-weave-linen', 'https://www.tandemarbor.com', ['1', '2', '3', '4', '5', '6', '7', '8', '9', '10', 'Blue', 'Print', 'Box', 'Weave', 'Linen', 'Price:', '$3,890', 'Add', 'To', 'Cart', 'Product', 'Details:', 'Luxurious', 'casual', 'comfort', 'at', 'its', 'finest.', 'Sink', 'into', 'the', 'charmingly', 'plush,', 'designer', 'form', 'of', 'the', 'amply-stuffed', 'Varick', 'Sofa.', 'A', 'seating'], ['O', 'O', 'O', 'O', 'O', 'O', 'O', 'O', 'O', 'O', 'O', 'O', 'O', 'O', 'O', 'O', 'O', 'O', 'O', 'O', 'B-PRODUCT', 'I-PRODUCT', 'O', 'O', 'O', 'O', 'O', 'O', 'O', 'O', 'O', 'O', 'O', 'O', 'O', 'O', 'O', 'O', 'O', 'O', 'O', 'O']], ['https://www.insaraf.com/products/solid-wood-lyon-series-hanging-light-with-beige-base', 'https://www.insaraf.com', ['used', 'by', 'our', 'experienced', 'and', 'skilled', 'craftsmen', 'to', 'make', 'your', 'solid', 'wood', 'furniture', 'the', 'way', 'you', 'expect', 'it', 'to', 'be.', 'Product', 'Standards', 'Products', 'are', 'made', 'in', 'bulk', 'with', 'standardizations,', 'so', 'that', 'each', 'product', 'has', 'that', 'technical', 'and', 'visual', 'greatness', 'that', 'every', 'furniture'], ['O', 'O', 'O', 'O', 'O', 'O', 'O', 'O', 'O', 'O', 'O', 'O', 'O', 'O', 'O', 'O', 'O', 'O', 'O', 'O', 'B-PRODUCT', 'I-PRODUCT', 'O', 'O', 'O', 'O', 'O', 'O', 'O', 'O', 'O', 'O', 'O', 'O', 'O', 'O', 'O', 'O', 'O', 'O', 'O', 'O']], ['https://www.tandemarbor.com/products/lincoln-shelter-bed-oyster-plush-velvet', 'https://www.tandemarbor.com', ['Bed', 'quantity', '1', '2', '3', '4', '5', '6', '7', '8', '9', '10', 'Oyster', 'Plush', 'Velvet', 'Price:', '$3,170', 'Add', 'To', 'Cart', 'Product', 'Details:', 'A', 'stately', 'silhouette', 'with', 'clean', 'angular', 'lines,', 'this', 'sleigh', 'bed', 'is', 'the', 'archetype', 'of', 'a', 'traditional', 'design', 'with', 'a', 'mid-century'], ['O', 'O', 'O', 'O', 'O', 'O', 'O', 'O', 'O', 'O', 'O', 'O', 'O', 'O', 'O', 'O', 'O', 'O', 'O', 'O', 'B-PRODUCT', 'I-PRODUCT', 'O', 'O', 'O', 'O', 'O', 'O', 'O', 'O', 'O', 'O', 'O', 'O', 'O', 'O', 'O', 'O', 'O', 'O', 'O', 'O']], ['https://www.insaraf.com/products/solid-wood-lord-bed-with-hydraulic-storage', 'https://www.insaraf.com', ['used', 'by', 'our', 'experienced', 'and', 'skilled', 'craftsmen', 'to', 'make', 'your', 'solid', 'wood', 'furniture', 'the', 'way', 'you', 'expect', 'it', 'to', 'be.', 'Product', 'Standards', 'Products', 'are', 'made', 'in', 'bulk', 'with', 'standardizations,', 'so', 'that', 'each', 'product', 'has', 'that', 'technical', 'and', 'visual', 'greatness', 'that', 'every', 'furniture'], ['O', 'O', 'O', 'O', 'O', 'O', 'O', 'O', 'O', 'O', 'O', 'O', 'O', 'O', 'O', 'O', 'O', 'O', 'O', 'O', 'B-PRODUCT', 'I-PRODUCT', 'O', 'O', 'O', 'O', 'O', 'O', 'O', 'O', 'O', 'O', 'O', 'O', 'O', 'O', 'O', 'O', 'O', 'O', 'O', 'O']], ['https://lexiconhome.com/products/bedr181882kn-1ek', 'https://lexiconhome.com', ['H', 'x', '85\\\\\"', 'W\\\\u003c\\\\/li\\\\u003e\\\\n\\\\u003cli\\\\u003eFootboard', 'Dimensions:14\\\\\"', 'H', 'x', '81\\\\\"', 'W\\\\u003c\\\\/li\\\\u003e\\\\n\\\\u003cli\\\\u003eProduct', 'Dimensions:(Rail', 'to', 'floor)', '2\\\\\"\\\\u003c\\\\/li\\\\u003e\\\\n\\\\u003cli\\\\u003eProduct', 'Weight:99', 'lbs\\\\u003c\\\\/li\\\\u003e\\\\n\\\\u003cli\\\\u003eFrame', 'Material:Solid', 'Wood\\\\u003c\\\\/li\\\\u003e\\\\n\\\\u003cli\\\\u003eUpholstery', 'Material:100%', 'polyester\\\\u003c\\\\/li\\\\u003e\\\\n\\\\u003c\\\\/ul\\\\u003e\"}', 'Home', 'Cavalier', 'Eastern', 'King', 'Headboard', 'with', 'Button', 'Tufted', '&', 'Nailhead', 'in', 'Charcoal', 'Cavalier', 'Eastern', 'King', 'Headboard', 'with', 'Button', 'Tufted', '&', 'Nailhead', 'in', 'Charcoal', 'Product', 'Description', 'Default', 'Title', '-', '$579.00', 'USD', 'Maximum', 'quantity'], ['O', 'O', 'O', 'O', 'O', 'O', 'O', 'O', 'O', 'O', 'O', 'O', 'O', 'O', 'O', 'O', 'O', 'O', 'O', 'O', 'B-PRODUCT', 'I-PRODUCT', 'I-PRODUCT', 'I-PRODUCT', 'I-PRODUCT', 'I-PRODUCT', 'I-PRODUCT', 'I-PRODUCT', 'I-PRODUCT', 'I-PRODUCT', 'I-PRODUCT', 'O', 'O', 'O', 'O', 'O', 'O', 'O', 'O', 'O', 'O', 'O', 'O', 'O', 'O', 'O', 'O', 'O', 'O', 'O', 'O']], ['https://www.insaraf.com/products/solid-wood-tavern-series-hanging-light-with-brown-base', 'https://www.insaraf.com', ['used', 'by', 'our', 'experienced', 'and', 'skilled', 'craftsmen', 'to', 'make', 'your', 'solid', 'wood', 'furniture', 'the', 'way', 'you', 'expect', 'it', 'to', 'be.', 'Product', 'Standards', 'Products', 'are', 'made', 'in', 'bulk', 'with', 'standardizations,', 'so', 'that', 'each', 'product', 'has', 'that', 'technical', 'and', 'visual', 'greatness', 'that', 'every', 'furniture'], ['O', 'O', 'O', 'O', 'O', 'O', 'O', 'O', 'O', 'O', 'O', 'O', 'O', 'O', 'O', 'O', 'O', 'O', 'O', 'O', 'B-PRODUCT', 'I-PRODUCT', 'O', 'O', 'O', 'O', 'O', 'O', 'O', 'O', 'O', 'O', 'O', 'O', 'O', 'O', 'O', 'O', 'O', 'O', 'O', 'O']], ['https://acmeshelving.com/products/child-egghead-plastic-mannequin-1', 'https://acmeshelving.com', ['Wall', 'Mounts', 'Sign', '&', 'Signs', 'Holders', 'Used', '&', 'New', 'Retail', 'Shelving', 'Madix', 'About', 'us', 'LARGE', 'ORDERS', 'inquire', 'now', 'Sale', 'Sale', 'Child', 'Egghead', 'Plastic', 'Mannequin', 'Product', 'Description:', 'Child', 'Egghead', 'Plastic', 'Mannequin', '>Comes', 'with', '35cm', 'Glass', 'Base', '>Polypropylene', '>Straight', 'Arms', 'for', 'Easy', 'Dressing', '>Height:', '130cm', '>Shoulder:'], ['O', 'O', 'O', 'O', 'O', 'O', 'O', 'O', 'O', 'O', 'O', 'O', 'O', 'O', 'O', 'O', 'O', 'O', 'O', 'O', 'B-PRODUCT', 'I-PRODUCT', 'I-PRODUCT', 'I-PRODUCT', 'O', 'O', 'O', 'O', 'O', 'O', 'O', 'O', 'O', 'O', 'O', 'O', 'O', 'O', 'O', 'O', 'O', 'O', 'O', 'O']], ['https://www.tandemarbor.com/products/crosby-sofa-alabaster-box-weave-linen', 'https://www.tandemarbor.com', ['quantity', '1', '2', '3', '4', '5', '6', '7', '8', '9', '10', 'Alabaster', 'Box', 'Weave', 'Linen', 'Price:', '$4,320', 'Add', 'To', 'Cart', 'Product', 'Details:', 'With', 'a', 'seamlessly', 'beautiful', 'solution', 'to', 'modern', 'seating,', 'the', 'Crosby', 'Sofa', 'offers', 'a', 'fresh', 'take', 'on', 'traditional', 'features.', 'Cleanly', 'sloped'], ['O', 'O', 'O', 'O', 'O', 'O', 'O', 'O', 'O', 'O', 'O', 'O', 'O', 'O', 'O', 'O', 'O', 'O', 'O', 'O', 'B-PRODUCT', 'I-PRODUCT', 'O', 'O', 'O', 'O', 'O', 'O', 'O', 'O', 'O', 'O', 'O', 'O', 'O', 'O', 'O', 'O', 'O', 'O', 'O', 'O']], ['https://designkollective.com/stores/mixfurniture/products/91022', 'https://designkollective.com', ['Old', 'East', 'African', 'Headrest', '|', 'MIX', 'Furniture', '|', 'Boutique', 'furniture', 'in', 'Los', 'Angeles,', 'CA', 'Cart', 'Summary', 'Your', 'cart', 'is', 'currently', 'empty.', 'Shop', 'thousands', 'of'], ['B-PRODUCT', 'I-PRODUCT', 'I-PRODUCT', 'I-PRODUCT', 'O', 'O', 'O', 'O', 'O', 'O', 'O', 'O', 'O', 'O', 'O', 'O', 'O', 'O', 'O', 'O', 'O', 'O', 'O', 'O']], ['https://emfurn.com/es/products/lp-alyson-angular-channel-tufted-performance-velvet-full-queen-headboard', 'https://emfurn.com', ['al', 'contenido', '🚚', 'FREE', 'SHIPPING', '|', '✅', '1', 'YEAR', 'WARRANTY', '|', '↩️', 'EASY', 'RETURNS', 'Cesta', 'La', 'cesta', 'está', 'vacía', 'Zoom', 'Alyson', 'Angular', 'Channel', 'Tufted', 'Performance', 'Velvet', 'Full', '/', 'Queen', 'Headboard', 'Precio', 'de', 'oferta', '$282.16', 'USD', '$282.16', 'Color:', 'Charcoal', 'Color', 'Charcoal', 'Dusty', 'Rose', 'Navy', 'Teal', 'White', 'Reducir', 'cantidad', 'Reducir', 'cantidad', 'Añadir'], ['O', 'O', 'O', 'O', 'O', 'O', 'O', 'O', 'O', 'O', 'O', 'O', 'O', 'O', 'O', 'O', 'O', 'O', 'O', 'O', 'B-PRODUCT', 'I-PRODUCT', 'I-PRODUCT', 'I-PRODUCT', 'I-PRODUCT', 'I-PRODUCT', 'I-PRODUCT', 'I-PRODUCT', 'I-PRODUCT', 'I-PRODUCT', 'O', 'O', 'O', 'O', 'O', 'O', 'O', 'O', 'O', 'O', 'O', 'O', 'O', 'O', 'O', 'O', 'O', 'O', 'O', 'O']], ['https://www.factorybuys.com.au/products/8-rain-shower-head-set-bathroom-gooseneck-square-taps-hand-held-high-pressure-1', 'https://www.factorybuys.com.au', ['Material:', 'Brass', 'Surface:', 'Matte', 'black', 'Overall', 'dimensions:', 'refer', 'to', 'image', 'What’s', 'Included', '1x', 'Cefito', 'Showerhead', '1x', 'Cefito', 'Shower', 'taps', 'set', \"8''\", 'Rain', 'Shower', 'Head', 'Wall', 'Arm', 'Square', 'High', 'Pressure', 'Twins', 'Tap', 'Black', 'RRP', '$350.39', '(Was', '$174.77)', 'Regular', 'price', '$159.21', 'Sale', 'price', 'Now', '$159.21', 'Save', '$191!', 'Regular', 'price', '(Was', '$174.77)', 'Save', '$191!', 'Unit'], ['O', 'O', 'O', 'O', 'O', 'O', 'O', 'O', 'O', 'O', 'O', 'O', 'O', 'O', 'O', 'O', 'O', 'O', 'O', 'O', 'B-PRODUCT', 'I-PRODUCT', 'I-PRODUCT', 'I-PRODUCT', 'I-PRODUCT', 'I-PRODUCT', 'I-PRODUCT', 'I-PRODUCT', 'I-PRODUCT', 'I-PRODUCT', 'I-PRODUCT', 'I-PRODUCT', 'O', 'O', 'O', 'O', 'O', 'O', 'O', 'O', 'O', 'O', 'O', 'O', 'O', 'O', 'O', 'O', 'O', 'O', 'O', 'O']], ['https://www.tandemarbor.com/products/mulberry-chair-pumice-plush-velvet', 'https://www.tandemarbor.com', ['Chair', 'quantity', '1', '2', '3', '4', '5', '6', '7', '8', '9', '10', 'Pumice', 'Plush', 'Velvet', 'Price:', '$3,010', 'Add', 'To', 'Cart', 'Product', 'Details:', 'A', 'bold,', 'modern', 'silhouette,', 'the', 'Mulberry', 'Chair', 'offers', 'enveloping', 'comfort', 'with', 'its', 'large', 'track', 'arms', 'and', 'sturdy', 'square', 'profile.', 'Its'], ['O', 'O', 'O', 'O', 'O', 'O', 'O', 'O', 'O', 'O', 'O', 'O', 'O', 'O', 'O', 'O', 'O', 'O', 'O', 'O', 'B-PRODUCT', 'I-PRODUCT', 'O', 'O', 'O', 'O', 'O', 'O', 'O', 'O', 'O', 'O', 'O', 'O', 'O', 'O', 'O', 'O', 'O', 'O', 'O', 'O']], ['https://emfurn.com/es/products/lp-alessia-queen-metal-headboard', 'https://emfurn.com', ['Alessia', 'Queen', 'Metal', 'Headboard', 'Ir', 'al', 'contenido', '🚚', 'FREE', 'SHIPPING', '|', '✅', '1', 'YEAR', 'WARRANTY', '|', '↩️', 'EASY', 'RETURNS', 'Cesta', 'La', 'cesta', 'está', 'vacía'], ['B-PRODUCT', 'I-PRODUCT', 'I-PRODUCT', 'I-PRODUCT', 'O', 'O', 'O', 'O', 'O', 'O', 'O', 'O', 'O', 'O', 'O', 'O', 'O', 'O', 'O', 'O', 'O', 'O', 'O', 'O']], ['https://www.tandemarbor.com/products/horatio-chaise-silver-streak-crushed-velvet', 'https://www.tandemarbor.com', ['quantity', '1', '2', '3', '4', '5', '6', '7', '8', '9', '10', 'Silver', 'Streak', 'Crushed', 'Velvet', 'Price:', '$3,600', 'Add', 'To', 'Cart', 'Product', 'Details:', 'This', 'simplified', 'chaise', 'combines', 'clean-lined', 'contemporary', 'comfort', 'with', 'an', 'echo', 'of', 'the', 'past.', 'Its', 'unmistakable', 'camelback', 'creates', 'a', 'welcoming', 'headrest'], ['O', 'O', 'O', 'O', 'O', 'O', 'O', 'O', 'O', 'O', 'O', 'O', 'O', 'O', 'O', 'O', 'O', 'O', 'O', 'O', 'B-PRODUCT', 'I-PRODUCT', 'O', 'O', 'O', 'O', 'O', 'O', 'O', 'O', 'O', 'O', 'O', 'O', 'O', 'O', 'O', 'O', 'O', 'O', 'O', 'O']], ['https://www.insaraf.com/products/solid-wood-voted-smart-tv-unit', 'https://www.insaraf.com', ['used', 'by', 'our', 'experienced', 'and', 'skilled', 'craftsmen', 'to', 'make', 'your', 'solid', 'wood', 'furniture', 'the', 'way', 'you', 'expect', 'it', 'to', 'be.', 'Product', 'Standards', 'Products', 'are', 'made', 'in', 'bulk', 'with', 'standardizations,', 'so', 'that', 'each', 'product', 'has', 'that', 'technical', 'and', 'visual', 'greatness', 'that', 'every', 'furniture'], ['O', 'O', 'O', 'O', 'O', 'O', 'O', 'O', 'O', 'O', 'O', 'O', 'O', 'O', 'O', 'O', 'O', 'O', 'O', 'O', 'B-PRODUCT', 'I-PRODUCT', 'O', 'O', 'O', 'O', 'O', 'O', 'O', 'O', 'O', 'O', 'O', 'O', 'O', 'O', 'O', 'O', 'O', 'O', 'O', 'O']], ['https://www.insaraf.com/products/solid-wood-ventus-cluster-hanging-lamp-with-brown-base', 'https://www.insaraf.com', ['used', 'by', 'our', 'experienced', 'and', 'skilled', 'craftsmen', 'to', 'make', 'your', 'solid', 'wood', 'furniture', 'the', 'way', 'you', 'expect', 'it', 'to', 'be.', 'Product', 'Standards', 'Products', 'are', 'made', 'in', 'bulk', 'with', 'standardizations,', 'so', 'that', 'each', 'product', 'has', 'that', 'technical', 'and', 'visual', 'greatness', 'that', 'every', 'furniture'], ['O', 'O', 'O', 'O', 'O', 'O', 'O', 'O', 'O', 'O', 'O', 'O', 'O', 'O', 'O', 'O', 'O', 'O', 'O', 'O', 'B-PRODUCT', 'I-PRODUCT', 'O', 'O', 'O', 'O', 'O', 'O', 'O', 'O', 'O', 'O', 'O', 'O', 'O', 'O', 'O', 'O', 'O', 'O', 'O', 'O']], ['https://vauntdesign.com/products/locky-vintage-tripod-floor-lamp', 'https://vauntdesign.com', ['Scandinavian', 'Sculptural', 'Shop', 'By', 'Room', 'Bathroom', 'Bedroom', 'Kitchen', 'Hallway', 'Living', 'Room', 'Office', 'Clearance', 'Facebook', 'Instagram', 'Pinterest', 'Register', '/', 'Log', 'in', 'Sorry,', 'we', 'no', 'longer', 'sell', 'this', 'product', 'Due', 'to', 'popular', 'demand', \"'Locky\", 'Industrial', 'Tripod', 'Floor', \"Lamp'\", 'is', 'no', 'longer', 'available.', 'But', 'fear', 'not;', 'a', 'range', 'of', 'other'], ['O', 'O', 'O', 'O', 'O', 'O', 'O', 'O', 'O', 'O', 'O', 'O', 'O', 'O', 'O', 'O', 'O', 'O', 'O', 'O', 'B-PRODUCT', 'I-PRODUCT', 'I-PRODUCT', 'I-PRODUCT', 'I-PRODUCT', 'I-PRODUCT', 'I-PRODUCT', 'O', 'O', 'O', 'O', 'O', 'O', 'O', 'O', 'O', 'O', 'O', 'O', 'O', 'O', 'O', 'O', 'O', 'O', 'O', 'O']], ['https://www.tandemarbor.com/products/evans-corner-chair-blanc-plush-velvet', 'https://www.tandemarbor.com', ['Chair', 'quantity', '1', '2', '3', '4', '5', '6', '7', '8', '9', '10', 'Blanc', 'Plush', 'Velvet', 'Price:', '$2,465', 'Add', 'To', 'Cart', 'Product', 'Details:', 'Practical', 'and', 'stylish,', 'this', 'Corner', 'Chair', 'is', 'alluring', 'in', 'appearance', 'with', 'the', 'crisp', 'lines', 'of', 'the', 'tapered', 'arm', 'complimented', 'by'], ['O', 'O', 'O', 'O', 'O', 'O', 'O', 'O', 'O', 'O', 'O', 'O', 'O', 'O', 'O', 'O', 'O', 'O', 'O', 'O', 'B-PRODUCT', 'I-PRODUCT', 'O', 'O', 'O', 'O', 'O', 'O', 'O', 'O', 'O', 'O', 'O', 'O', 'O', 'O', 'O', 'O', 'O', 'O', 'O', 'O']], ['https://lorfords.com/products/the-molly-headboard-thyme-bertioli-x-lorfords-contemporary', 'https://lorfords.com', ['The', 'Molly', 'Headboard', '|', 'Thyme', '&', 'Bertioli', 'x', 'Lorfords', 'Contemporary', 'Skip', 'to', 'content', 'Basket', 'Your', 'basket', 'is', 'empty', 'EXPLORE', 'OUR', 'NEW', 'COLLABORATION', 'WITH', 'TODHUNTER', 'EARLE', 'INTERIORS', 'Facebook', 'Pinterest', 'Twitter', 'The'], ['B-PRODUCT', 'I-PRODUCT', 'I-PRODUCT', 'I-PRODUCT', 'I-PRODUCT', 'I-PRODUCT', 'I-PRODUCT', 'I-PRODUCT', 'I-PRODUCT', 'I-PRODUCT', 'O', 'O', 'O', 'O', 'O', 'O', 'O', 'O', 'O', 'O', 'O', 'O', 'O', 'O', 'O', 'O', 'O', 'O', 'O', 'O']], ['https://www.insaraf.com/products/wall-shelf', 'https://www.insaraf.com', ['used', 'by', 'our', 'experienced', 'and', 'skilled', 'craftsmen', 'to', 'make', 'your', 'solid', 'wood', 'furniture', 'the', 'way', 'you', 'expect', 'it', 'to', 'be.', 'Product', 'Standards', 'Products', 'are', 'made', 'in', 'bulk', 'with', 'standardizations,', 'so', 'that', 'each', 'product', 'has', 'that', 'technical', 'and', 'visual', 'greatness', 'that', 'every', 'furniture'], ['O', 'O', 'O', 'O', 'O', 'O', 'O', 'O', 'O', 'O', 'O', 'O', 'O', 'O', 'O', 'O', 'O', 'O', 'O', 'O', 'B-PRODUCT', 'I-PRODUCT', 'O', 'O', 'O', 'O', 'O', 'O', 'O', 'O', 'O', 'O', 'O', 'O', 'O', 'O', 'O', 'O', 'O', 'O', 'O', 'O']], ['https://www.gowfb.com/products/3-year-product-repair-upsell-under-1500-00', 'https://www.gowfb.com', ['3', 'Year', 'Product', 'Repair', 'Upsell', 'Under', '$1500.00', '—', 'Wholesale', 'Furniture', 'Brokers', 'Skip', 'to', 'content', 'Basic', 'FREE*', 'Shipping', 'Anywhere', 'in', 'the', 'United', 'States', 'Free', 'Shipping', 'in', 'the', 'U.S.'], ['B-PRODUCT', 'I-PRODUCT', 'I-PRODUCT', 'I-PRODUCT', 'I-PRODUCT', 'I-PRODUCT', 'I-PRODUCT', 'O', 'O', 'O', 'O', 'O', 'O', 'O', 'O', 'O', 'O', 'O', 'O', 'O', 'O', 'O', 'O', 'O', 'O', 'O', 'O']], ['https://www.modishstore.com/products/safavieh-lester-awning-stripes-dining-chair-set-of-2-flat-nail-heads', 'https://www.modishstore.com', ['Flat', 'Nail', 'Heads', '-', 'Set', 'Of', '2', 'Skip', 'to', 'product', 'information', 'Open', 'media', '1', 'in', 'modal', '1', '/', 'of', '1', 'Safavieh', 'Lester', 'Awning', 'Stripes', 'Dining', 'Chair', 'Flat', 'Nail', 'Heads', '-', 'Set', 'Of', '2', 'Safavieh', 'Lester', 'Awning', 'Stripes', 'Dining', 'Chair', 'Flat', 'Nail', 'Heads', '-', 'Set', 'Of', '2', 'Safavieh', '|', 'SKU:', 'MCR4709X-SET2', 'Regular', 'price', '$606.75', 'Regular', 'price', 'Sale', 'price', '$606.75', 'Unit', 'price', '/', 'per', 'Sale', 'Sold', 'out', 'Free'], ['O', 'O', 'O', 'O', 'O', 'O', 'O', 'O', 'O', 'O', 'O', 'O', 'O', 'O', 'O', 'O', 'O', 'O', 'O', 'O', 'B-PRODUCT', 'I-PRODUCT', 'I-PRODUCT', 'I-PRODUCT', 'I-PRODUCT', 'I-PRODUCT', 'I-PRODUCT', 'I-PRODUCT', 'I-PRODUCT', 'I-PRODUCT', 'I-PRODUCT', 'I-PRODUCT', 'I-PRODUCT', 'I-PRODUCT', 'I-PRODUCT', 'I-PRODUCT', 'I-PRODUCT', 'I-PRODUCT', 'I-PRODUCT', 'I-PRODUCT', 'I-PRODUCT', 'I-PRODUCT', 'I-PRODUCT', 'I-PRODUCT', 'I-PRODUCT', 'I-PRODUCT', 'O', 'O', 'O', 'O', 'O', 'O', 'O', 'O', 'O', 'O', 'O', 'O', 'O', 'O', 'O', 'O', 'O', 'O', 'O', 'O']], ['https://atouchoffurniture.co.uk/products/loft-collection-small-antique-ceramic-phrenology-head', 'https://atouchoffurniture.co.uk', ['Loft', 'Collection', 'Small', 'Antique', 'Ceramic', 'Phrenology', 'Head', '–', 'A', 'Touch', 'of', 'Furniture', 'Contact', 'Us', 'Banbury', 'Store', 'Bicester', 'Store', 'Delivery', 'Service', 'Blog', 'SALE', '0800', '160', '1177', '{\"id\":3929382223895,\"title\":\"Loft', 'Collection'], ['B-PRODUCT', 'I-PRODUCT', 'I-PRODUCT', 'I-PRODUCT', 'I-PRODUCT', 'I-PRODUCT', 'I-PRODUCT', 'O', 'O', 'O', 'O', 'O', 'O', 'O', 'O', 'O', 'O', 'O', 'O', 'O', 'O', 'O', 'O', 'O', 'O', 'O', 'O']], ['https://www.modishstore.com/products/safavieh-esther-arm-chair-with-awning-stripes-flat-black-nail-heads', 'https://www.modishstore.com', ['modal', 'Open', 'media', '4', 'in', 'modal', 'Open', 'media', '5', 'in', 'modal', 'Open', 'media', '6', 'in', 'modal', '1', '/', 'of', '6', 'Safavieh', 'Esther', 'Arm', 'Chair', 'With', 'Awning', 'Stripes', '-', 'Flat', 'Black', 'Nail', 'Heads', 'Safavieh', 'Esther', 'Arm', 'Chair', 'With', 'Awning', 'Stripes', '-', 'Flat', 'Black', 'Nail', 'Heads', 'Safavieh', '|', 'SKU:', 'MCR4575B', '(1)', '1', 'total', 'reviews', '5.0', '/', '5.0', 'Regular', 'price', '$555.57', 'Regular', 'price', 'Sale', 'price', '$555.57', 'Unit'], ['O', 'O', 'O', 'O', 'O', 'O', 'O', 'O', 'O', 'O', 'O', 'O', 'O', 'O', 'O', 'O', 'O', 'O', 'O', 'O', 'B-PRODUCT', 'I-PRODUCT', 'I-PRODUCT', 'I-PRODUCT', 'I-PRODUCT', 'I-PRODUCT', 'I-PRODUCT', 'I-PRODUCT', 'I-PRODUCT', 'I-PRODUCT', 'I-PRODUCT', 'I-PRODUCT', 'I-PRODUCT', 'I-PRODUCT', 'I-PRODUCT', 'I-PRODUCT', 'I-PRODUCT', 'I-PRODUCT', 'I-PRODUCT', 'I-PRODUCT', 'I-PRODUCT', 'I-PRODUCT', 'I-PRODUCT', 'I-PRODUCT', 'O', 'O', 'O', 'O', 'O', 'O', 'O', 'O', 'O', 'O', 'O', 'O', 'O', 'O', 'O', 'O', 'O', 'O', 'O', 'O']], ['https://www.tandemarbor.com/products/thompson-chaise-black-jack-vintage-leather', 'https://www.tandemarbor.com', ['quantity', '1', '2', '3', '4', '5', '6', '7', '8', '9', '10', 'Black', 'Jack', 'Vintage', 'Leather', 'Price:', '$3,110', 'Add', 'To', 'Cart', 'Product', 'Details:', 'The', 'Thompson', 'Chaise', 'successfully', 'marries', 'traditional', 'comfort', 'with', 'modern', 'simplicity.', 'The', 'single', 'back', 'cushion', 'and', 'elongated', 'bench', 'seat', 'offer', 'plenty'], ['O', 'O', 'O', 'O', 'O', 'O', 'O', 'O', 'O', 'O', 'O', 'O', 'O', 'O', 'O', 'O', 'O', 'O', 'O', 'O', 'B-PRODUCT', 'I-PRODUCT', 'O', 'O', 'O', 'O', 'O', 'O', 'O', 'O', 'O', 'O', 'O', 'O', 'O', 'O', 'O', 'O', 'O', 'O', 'O', 'O']], ['https://finditstyleithome.com.au/products/lulu-bed-head-nude-king', 'https://finditstyleithome.com.au', ['Skip', 'to', 'content', 'Submit', 'Close', 'search', 'HUMM.', 'AFTERPAY', '&', 'PAYPAL', 'AVAILABLE', 'Lulu', 'Bed', 'Head', '-', 'Nude', 'King', 'Regular', 'price', '$1,490.00', 'Sale', 'price', '$1,299.00', 'Sale', 'Default', 'Title', 'Quantity', 'Add', 'to', 'cart', 'View', 'on', 'Amazon', 'Inspired', 'by', 'the', 'chic'], ['O', 'O', 'O', 'O', 'O', 'O', 'O', 'O', 'O', 'O', 'O', 'B-PRODUCT', 'I-PRODUCT', 'I-PRODUCT', 'I-PRODUCT', 'I-PRODUCT', 'I-PRODUCT', 'O', 'O', 'O', 'O', 'O', 'O', 'O', 'O', 'O', 'O', 'O', 'O', 'O', 'O', 'O', 'O', 'O', 'O', 'O', 'O']], ['https://hamptonsstyle.com.au/products/chinoiserie-pagoda-hanging-ornaments-box-of-4', 'https://hamptonsstyle.com.au', ['Chinoiserie', 'Pagoda', 'Hanging', 'ornaments', 'S/4', 'Call', 'us', 'at', '(07)', '5577', '9667', 'Home', '/', 'Products', '/', 'Chinoiserie', 'Pagoda', 'Hanging', 'ornaments', 'S/4', 'Chinoiserie', 'Pagoda', 'Hanging', 'ornaments', 'S/4'], ['B-PRODUCT', 'I-PRODUCT', 'I-PRODUCT', 'I-PRODUCT', 'I-PRODUCT', 'O', 'O', 'O', 'O', 'O', 'O', 'O', 'O', 'O', 'O', 'O', 'O', 'O', 'O', 'O', 'O', 'O', 'O', 'O', 'O']], ['https://www.hudsonfurniture.com.au/products/super-king-upholstered-bedhead', 'https://www.hudsonfurniture.com.au', ['Super', 'King', 'upholstered', 'bedhead', '–', 'Hudson', 'Furniture', 'Skip', 'to', 'content', 'Close', 'menu', 'SHOP', 'BEDROOM', 'FURNITURE', 'Dressing', 'Tables', 'Seating', '/', 'Bed', 'end', 'Stools', 'Bedroom', 'Mirrors'], ['B-PRODUCT', 'I-PRODUCT', 'I-PRODUCT', 'I-PRODUCT', 'O', 'O', 'O', 'O', 'O', 'O', 'O', 'O', 'O', 'O', 'O', 'O', 'O', 'O', 'O', 'O', 'O', 'O', 'O', 'O']], ['https://www.tandemarbor.com/products/thompson-ottoman-alabaster-box-weave-linen', 'https://www.tandemarbor.com', ['quantity', '1', '2', '3', '4', '5', '6', '7', '8', '9', '10', 'Alabaster', 'Box', 'Weave', 'Linen', 'Price:', '$1,940', 'Add', 'To', 'Cart', 'Product', 'Details:', 'Perfect', 'your', 'seating', 'arrangement', 'with', 'the', 'Thompson', 'Ottoman.', 'The', 'narrow', 'frame', 'and', 'lean,', 'tapered', 'wooden', 'feet', 'evoke', 'an', 'elegance', 'that'], ['O', 'O', 'O', 'O', 'O', 'O', 'O', 'O', 'O', 'O', 'O', 'O', 'O', 'O', 'O', 'O', 'O', 'O', 'O', 'O', 'B-PRODUCT', 'I-PRODUCT', 'O', 'O', 'O', 'O', 'O', 'O', 'O', 'O', 'O', 'O', 'O', 'O', 'O', 'O', 'O', 'O', 'O', 'O', 'O', 'O']], ['https://www.insaraf.com/products/solid-wood-eter-sideboard', 'https://www.insaraf.com', ['used', 'by', 'our', 'experienced', 'and', 'skilled', 'craftsmen', 'to', 'make', 'your', 'solid', 'wood', 'furniture', 'the', 'way', 'you', 'expect', 'it', 'to', 'be.', 'Product', 'Standards', 'Products', 'are', 'made', 'in', 'bulk', 'with', 'standardizations,', 'so', 'that', 'each', 'product', 'has', 'that', 'technical', 'and', 'visual', 'greatness', 'that', 'every', 'furniture'], ['O', 'O', 'O', 'O', 'O', 'O', 'O', 'O', 'O', 'O', 'O', 'O', 'O', 'O', 'O', 'O', 'O', 'O', 'O', 'O', 'B-PRODUCT', 'I-PRODUCT', 'O', 'O', 'O', 'O', 'O', 'O', 'O', 'O', 'O', 'O', 'O', 'O', 'O', 'O', 'O', 'O', 'O', 'O', 'O', 'O']], ['https://www.tandemarbor.com/products/charlton-chair-pumice-plush-velvet', 'https://www.tandemarbor.com', ['Chair', 'quantity', '1', '2', '3', '4', '5', '6', '7', '8', '9', '10', 'Pumice', 'Plush', 'Velvet', 'Price:', '$3,245', 'Add', 'To', 'Cart', 'Product', 'Details:', 'Perched', 'atop', 'elongated', 'wooden', 'legs,', 'the', 'Charlton', 'Chair', 'is', 'the', 'picture', 'of', 'classic', 'furniture', 'design.', 'Devotees', 'of', '1920s', 'styles', 'will'], ['O', 'O', 'O', 'O', 'O', 'O', 'O', 'O', 'O', 'O', 'O', 'O', 'O', 'O', 'O', 'O', 'O', 'O', 'O', 'O', 'B-PRODUCT', 'I-PRODUCT', 'O', 'O', 'O', 'O', 'O', 'O', 'O', 'O', 'O', 'O', 'O', 'O', 'O', 'O', 'O', 'O', 'O', 'O', 'O', 'O']], ['https://www.gowfb.com/products/chillout-bed-in-stone-boucle-with-adjustable-headrests', 'https://www.gowfb.com', ['content', 'Basic', 'FREE*', 'Shipping', 'Anywhere', 'in', 'the', 'United', 'States', 'Free', 'Shipping', 'in', 'the', 'U.S.', 'Click', 'to', 'expand', 'Tap', 'to', 'zoom', 'Chillout', 'Bed', 'in', 'Stone', 'Boucle', 'with', 'Adjustable', 'Headrests', '-', 'Available', 'in', '2', 'Sizes', 'by', 'Mobital', 'Sold', 'out', 'Original', 'price', '$4,499.00', 'Current', 'price', '$2,999.99', 'Stone', 'Boucle', '/', 'Queen', '-', 'Translation', 'missing:', 'en.products.status.sold_out', 'Stone', 'Boucle'], ['O', 'O', 'O', 'O', 'O', 'O', 'O', 'O', 'O', 'O', 'O', 'O', 'O', 'O', 'O', 'O', 'O', 'O', 'O', 'O', 'B-PRODUCT', 'I-PRODUCT', 'I-PRODUCT', 'I-PRODUCT', 'I-PRODUCT', 'I-PRODUCT', 'I-PRODUCT', 'I-PRODUCT', 'I-PRODUCT', 'I-PRODUCT', 'I-PRODUCT', 'I-PRODUCT', 'I-PRODUCT', 'O', 'O', 'O', 'O', 'O', 'O', 'O', 'O', 'O', 'O', 'O', 'O', 'O', 'O', 'O', 'O', 'O', 'O', 'O', 'O']], ['https://vancouverwoodworks.com/products/whittier-wood-1302gac', 'https://vancouverwoodworks.com', ['McKenzie', 'Twin-SL', 'Headboard', 'Bedroom', 'furniture', 'in', 'Vancouver,', 'WA', '|', 'Vancouver', 'Woodworks', 'Quality', 'Wood', 'Furniture', 'Quality', 'Wood', 'Furniture', '360-696-8590', '3000', 'NE', 'Andresen', 'Rd,', 'Vancouver'], ['B-PRODUCT', 'I-PRODUCT', 'I-PRODUCT', 'O', 'O', 'O', 'O', 'O', 'O', 'O', 'O', 'O', 'O', 'O', 'O', 'O', 'O', 'O', 'O', 'O', 'O', 'O', 'O']], ['https://www.tandemarbor.com/products/nina-dining-chair-pumice-vintage-leather', 'https://www.tandemarbor.com', ['Chair', 'quantity', '1', '2', '3', '4', '5', '6', '7', '8', '9', '10', 'Pumice', 'Vintage', 'Leather', 'Price:', '$2,375', 'Add', 'To', 'Cart', 'Product', 'Details:', 'A', 'curved', 'wingback', 'dining', 'chair', 'is', 'grand', 'in', 'scale', 'but', 'not', 'in', 'size.', 'The', 'decorative', 'tufted,', 'nail', 'trim', 'and', 'tapered'], ['O', 'O', 'O', 'O', 'O', 'O', 'O', 'O', 'O', 'O', 'O', 'O', 'O', 'O', 'O', 'O', 'O', 'O', 'O', 'O', 'B-PRODUCT', 'I-PRODUCT', 'O', 'O', 'O', 'O', 'O', 'O', 'O', 'O', 'O', 'O', 'O', 'O', 'O', 'O', 'O', 'O', 'O', 'O', 'O', 'O']], ['https://www.gowfb.com/products/3-year-product-repair-upsell-under-9000-00', 'https://www.gowfb.com', ['3', 'Year', 'Product', 'Repair', 'Upsell', 'Under', '$9000.00', '—', 'Wholesale', 'Furniture', 'Brokers', 'Skip', 'to', 'content', 'Basic', 'FREE*', 'Shipping', 'Anywhere', 'in', 'the', 'United', 'States', 'Free', 'Shipping', 'in', 'the', 'U.S.'], ['B-PRODUCT', 'I-PRODUCT', 'I-PRODUCT', 'I-PRODUCT', 'I-PRODUCT', 'I-PRODUCT', 'I-PRODUCT', 'O', 'O', 'O', 'O', 'O', 'O', 'O', 'O', 'O', 'O', 'O', 'O', 'O', 'O', 'O', 'O', 'O', 'O', 'O', 'O']], ['https://www.18karatstore.com/products/hosley-aromatherapy-linen-diffuser-gift-set', 'https://www.18karatstore.com', ['Title', '-', '$20.99', 'Light', 'Source', 'Type', 'Candle', 'Brand', 'Hosley', 'Material', 'Ceramic', 'Item', 'Dimensions', 'LxWxH', '11.75', 'x', '8.75', 'x', '6.5', 'inches', 'About', 'this', 'item', 'PRODUCT:', 'Hosley', 'Aromatherapy', 'Linen', 'Diffuser', 'Gift', 'Set.', 'USE:', 'These', 'are', 'perfect', 'for', 'adding', 'a', 'decorative', 'touch', 'to', 'any', \"room's\", 'decor.'], ['O', 'O', 'O', 'O', 'O', 'O', 'O', 'O', 'O', 'O', 'O', 'O', 'O', 'O', 'O', 'O', 'O', 'O', 'O', 'O', 'B-PRODUCT', 'I-PRODUCT', 'I-PRODUCT', 'O', 'O', 'O', 'O', 'O', 'O', 'O', 'O', 'O', 'O', 'O', 'O', 'O', 'O', 'O', 'O', 'O', 'O', 'O', 'O']], ['https://www.insaraf.com/products/solid-wood-indiana-tica-console-table', 'https://www.insaraf.com', ['used', 'by', 'our', 'experienced', 'and', 'skilled', 'craftsmen', 'to', 'make', 'your', 'solid', 'wood', 'furniture', 'the', 'way', 'you', 'expect', 'it', 'to', 'be.', 'Product', 'Standards', 'Products', 'are', 'made', 'in', 'bulk', 'with', 'standardizations,', 'so', 'that', 'each', 'product', 'has', 'that', 'technical', 'and', 'visual', 'greatness', 'that', 'every', 'furniture'], ['O', 'O', 'O', 'O', 'O', 'O', 'O', 'O', 'O', 'O', 'O', 'O', 'O', 'O', 'O', 'O', 'O', 'O', 'O', 'O', 'B-PRODUCT', 'I-PRODUCT', 'O', 'O', 'O', 'O', 'O', 'O', 'O', 'O', 'O', 'O', 'O', 'O', 'O', 'O', 'O', 'O', 'O', 'O', 'O', 'O']], ['https://lorfords.com/products/the-poppy-headboard-thyme-bertioli-x-lorfords-contemporary-copy', 'https://lorfords.com', ['The', 'Poppy', 'Headboard', '|', 'Thyme', '&', 'Bertioli', 'x', 'Lorfords', 'Contemporary', 'Skip', 'to', 'content', 'Basket', 'Your', 'basket', 'is', 'empty', 'EXPLORE', 'OUR', 'NEW', 'COLLABORATION', 'WITH', 'TODHUNTER', 'EARLE', 'INTERIORS', 'Facebook', 'Pinterest', 'Twitter', 'The'], ['B-PRODUCT', 'I-PRODUCT', 'I-PRODUCT', 'I-PRODUCT', 'I-PRODUCT', 'I-PRODUCT', 'I-PRODUCT', 'I-PRODUCT', 'I-PRODUCT', 'I-PRODUCT', 'O', 'O', 'O', 'O', 'O', 'O', 'O', 'O', 'O', 'O', 'O', 'O', 'O', 'O', 'O', 'O', 'O', 'O', 'O', 'O']], ['https://www.zipchair.com/products/office-chair-1000-with-rutgers-scarlet-knights-head-logo', 'https://www.zipchair.com', ['Office', 'Chair', '1000', 'with', 'Rutgers', 'Scarlet', 'Knights', 'Head', 'Logo', '–', 'Zipchair', 'Skip', 'to', 'content', 'Contact', 'Us', 'Blank', 'Furniture', 'Upload', 'Your', 'Logo', 'Item', 'added', 'to', 'your', 'cart', 'View', 'my', 'cart'], ['B-PRODUCT', 'I-PRODUCT', 'I-PRODUCT', 'I-PRODUCT', 'I-PRODUCT', 'I-PRODUCT', 'I-PRODUCT', 'I-PRODUCT', 'I-PRODUCT', 'O', 'O', 'O', 'O', 'O', 'O', 'O', 'O', 'O', 'O', 'O', 'O', 'O', 'O', 'O', 'O', 'O', 'O', 'O', 'O']], ['https://www.insaraf.com/products/contrast-coffee-table', 'https://www.insaraf.com', ['used', 'by', 'our', 'experienced', 'and', 'skilled', 'craftsmen', 'to', 'make', 'your', 'solid', 'wood', 'furniture', 'the', 'way', 'you', 'expect', 'it', 'to', 'be.', 'Product', 'Standards', 'Products', 'are', 'made', 'in', 'bulk', 'with', 'standardizations,', 'so', 'that', 'each', 'product', 'has', 'that', 'technical', 'and', 'visual', 'greatness', 'that', 'every', 'furniture'], ['O', 'O', 'O', 'O', 'O', 'O', 'O', 'O', 'O', 'O', 'O', 'O', 'O', 'O', 'O', 'O', 'O', 'O', 'O', 'O', 'B-PRODUCT', 'I-PRODUCT', 'O', 'O', 'O', 'O', 'O', 'O', 'O', 'O', 'O', 'O', 'O', 'O', 'O', 'O', 'O', 'O', 'O', 'O', 'O', 'O']], ['https://www.wardrobe-bunk-bed-sofa.uk/products/rivalid-2-seater-adjustable-headrests-wavey-springs-hr-foam-many-colours-210cm', 'https://www.wardrobe-bunk-bed-sofa.uk', ['in', 'modal', 'Open', 'media', '6', 'in', 'modal', 'Open', 'media', '7', 'in', 'modal', '1', '/', 'of', '7', 'Wardrobe', 'Bunk', 'Bed', 'Sofa', 'RIVALID', '-', '2', 'Seater,', 'Adjustable', 'Headrests,', 'Wavey', 'Springs,', 'HR', 'Foam,', 'Many', 'Colours', '>210cm<', 'RIVALID', '-', '2', 'Seater,', 'Adjustable', 'Headrests,', 'Wavey', 'Springs,', 'HR', 'Foam,', 'Many', 'Colours', '>210cm<', 'Regular', 'price', '£800.00', 'GBP', 'Regular', 'price', 'Sale'], ['O', 'O', 'O', 'O', 'O', 'O', 'O', 'O', 'O', 'O', 'O', 'O', 'O', 'O', 'O', 'O', 'O', 'O', 'O', 'O', 'B-PRODUCT', 'I-PRODUCT', 'I-PRODUCT', 'I-PRODUCT', 'I-PRODUCT', 'I-PRODUCT', 'I-PRODUCT', 'I-PRODUCT', 'I-PRODUCT', 'I-PRODUCT', 'I-PRODUCT', 'I-PRODUCT', 'I-PRODUCT', 'O', 'O', 'O', 'O', 'O', 'O', 'O', 'O', 'O', 'O', 'O', 'O', 'O', 'O', 'O', 'O', 'O', 'O', 'O', 'O']], ['https://lexiconhome.com/products/bedr181882n-1', 'https://lexiconhome.com', ['H', 'x', '69\\\\\"', 'W\\\\u003c\\\\/li\\\\u003e\\\\n\\\\u003cli\\\\u003eFootboard', 'Dimensions:14\\\\\"', 'H', 'x', '65\\\\\"', 'W\\\\u003c\\\\/li\\\\u003e\\\\n\\\\u003cli\\\\u003eProduct', 'Dimensions:(Rail', 'to', 'floor)', '2\\\\\"\\\\u003c\\\\/li\\\\u003e\\\\n\\\\u003cli\\\\u003eProduct', 'Weight:88', 'lbs\\\\u003c\\\\/li\\\\u003e\\\\n\\\\u003cli\\\\u003eFrame', 'Material:Solid', 'Wood\\\\u003c\\\\/li\\\\u003e\\\\n\\\\u003cli\\\\u003eUpholstery', 'Material:100%', 'polyester\\\\u003c\\\\/li\\\\u003e\\\\n\\\\u003c\\\\/ul\\\\u003e\"}', 'Home', 'Cavalier', 'Queen', 'Headboard', 'with', 'Button', 'Tufted', '&', 'Nailhead', 'in', 'Charcoal', 'Cavalier', 'Queen', 'Headboard', 'with', 'Button', 'Tufted', '&', 'Nailhead', 'in', 'Charcoal', 'Product', 'Description', 'Default', 'Title', '-', '$439.00', 'USD', 'Maximum', 'quantity', 'available'], ['O', 'O', 'O', 'O', 'O', 'O', 'O', 'O', 'O', 'O', 'O', 'O', 'O', 'O', 'O', 'O', 'O', 'O', 'O', 'O', 'B-PRODUCT', 'I-PRODUCT', 'I-PRODUCT', 'I-PRODUCT', 'I-PRODUCT', 'I-PRODUCT', 'I-PRODUCT', 'I-PRODUCT', 'I-PRODUCT', 'I-PRODUCT', 'O', 'O', 'O', 'O', 'O', 'O', 'O', 'O', 'O', 'O', 'O', 'O', 'O', 'O', 'O', 'O', 'O', 'O', 'O', 'O']], ['https://www.insaraf.com/products/solid-wood-mayor-l-shape-sofa', 'https://www.insaraf.com', ['used', 'by', 'our', 'experienced', 'and', 'skilled', 'craftsmen', 'to', 'make', 'your', 'solid', 'wood', 'furniture', 'the', 'way', 'you', 'expect', 'it', 'to', 'be.', 'Product', 'Standards', 'Products', 'are', 'made', 'in', 'bulk', 'with', 'standardizations,', 'so', 'that', 'each', 'product', 'has', 'that', 'technical', 'and', 'visual', 'greatness', 'that', 'every', 'furniture'], ['O', 'O', 'O', 'O', 'O', 'O', 'O', 'O', 'O', 'O', 'O', 'O', 'O', 'O', 'O', 'O', 'O', 'O', 'O', 'O', 'B-PRODUCT', 'I-PRODUCT', 'O', 'O', 'O', 'O', 'O', 'O', 'O', 'O', 'O', 'O', 'O', 'O', 'O', 'O', 'O', 'O', 'O', 'O', 'O', 'O']], ['https://www.tandemarbor.com/products/crosby-ottoman-blue-print-vintage-leather', 'https://www.tandemarbor.com', ['quantity', '1', '2', '3', '4', '5', '6', '7', '8', '9', '10', 'Blue', 'Print', 'Vintage', 'Leather', 'Price:', '$1,360', 'Add', 'To', 'Cart', 'Product', 'Details:', 'Complete', 'the', 'coordinated', 'look', 'of', 'your', 'living', 'space', 'with', 'the', 'cool,', 'contemporary', 'Crosby', 'Ottoman.', 'Its', 'clean-lined', 'rectangular', 'form', 'offers', 'the'], ['O', 'O', 'O', 'O', 'O', 'O', 'O', 'O', 'O', 'O', 'O', 'O', 'O', 'O', 'O', 'O', 'O', 'O', 'O', 'O', 'B-PRODUCT', 'I-PRODUCT', 'O', 'O', 'O', 'O', 'O', 'O', 'O', 'O', 'O', 'O', 'O', 'O', 'O', 'O', 'O', 'O', 'O', 'O', 'O', 'O']], ['https://www.whytesofcrossgar.co.uk/products/sophie-headboard', 'https://www.whytesofcrossgar.co.uk', ['Candy', 'Headboard', '—', 'Whytes', 'of', 'Crossgar', 'Skip', 'to', 'content', 'Click', 'to', 'expand', 'Tap', 'to', 'zoom', 'Candy', 'Headboard', 'by', 'Slumbernight', 'Save', 'up', 'to'], ['B-PRODUCT', 'I-PRODUCT', 'O', 'O', 'O', 'O', 'O', 'O', 'O', 'O', 'O', 'O', 'O', 'O', 'O', 'O', 'O', 'O', 'O', 'O', 'O', 'O']]]\n"
     ]
    },
    {
     "name": "stderr",
     "output_type": "stream",
     "text": [
      "\n"
     ]
    }
   ],
   "execution_count": 20
  },
  {
   "metadata": {
    "ExecuteTime": {
     "end_time": "2024-09-13T20:51:47.539735Z",
     "start_time": "2024-09-13T20:51:47.531277Z"
    }
   },
   "cell_type": "code",
   "source": [
    "# Save the extracted content to a CSV file\n",
    "\n",
    "\n",
    "\n",
    "save_text_to_csv(extracted_data, output_file='Data/dataset_for_training_1.csv')"
   ],
   "id": "14e35c0ca21c7454",
   "outputs": [
    {
     "name": "stdout",
     "output_type": "stream",
     "text": [
      "Data saved to Data/dataset_for_training_1.csv\n"
     ]
    }
   ],
   "execution_count": 22
  },
  {
   "metadata": {
    "ExecuteTime": {
     "end_time": "2024-09-13T20:51:50.651969Z",
     "start_time": "2024-09-13T20:51:50.636256Z"
    }
   },
   "cell_type": "code",
   "source": [
    "data = []\n",
    "counter = 0\n",
    "\n",
    "\n",
    "# Increase the field size limit\n",
    "csv.field_size_limit(10**7)\n",
    "\n",
    "\n",
    "with open('Data/dataset_for_training_1.csv', mode='r', newline='', encoding='utf-8') as file:  # 46986\n",
    "    csv_reader = csv.reader(file)\n",
    "    for row in csv_reader:\n",
    "        counter += 1\n",
    "        data.append([row[2]])\n",
    "        \n",
    "\n",
    "with open('Data/dataset_for_training_1.csv', mode='w', newline='', encoding='utf-8') as file:\n",
    "    csv_writer = csv.writer(file)\n",
    "    for row in data:\n",
    "        row = row[0].replace('[', '').replace(']', '').replace('\\'', '').replace(',', '').replace('\\\"', '')\n",
    "        csv_writer.writerow([row])\n",
    "\n"
   ],
   "id": "d0ecc46f4aa812a0",
   "outputs": [],
   "execution_count": 23
  },
  {
   "metadata": {},
   "cell_type": "markdown",
   "source": "\n",
   "id": "65412ca13beb6924"
  },
  {
   "metadata": {
    "ExecuteTime": {
     "end_time": "2024-09-07T13:47:05.001780Z",
     "start_time": "2024-09-07T13:47:04.998376Z"
    }
   },
   "cell_type": "code",
   "source": "print(data[200][0], data[200][2])",
   "id": "ead6f4b84e820a87",
   "outputs": [
    {
     "name": "stdout",
     "output_type": "stream",
     "text": [
      "https://www.ambersfurniture.com/products/dc-rory DC Rory – Amber's Furniture Lock icon Rectangle 1 Rectangle 2 + Rectangle 2 Copy Shape Rectangle 1 Shopify logo Skip to content Search Sale Event Expand menu Collapse menu In Stock & On Sale Decor-rest Sale Dining Expand menu Collapse menu Tables Dining Collections Fine Dining Works Buffets & Sideboards Canadian Made Dining Chairs Bedroom Expand menu Collapse menu Bedroom Collections Magniflex Mattresses Bedroom Sale Living Room Expand menu Collapse menu Sofas Motion Leather Occasional Chairs & Ottomans Sofa Beds Popular Sectionals Decor-rest Gallery Occasional & Office Expand menu Collapse menu Occasional Tables Bookcases Desks Amish Collections Custom Design Inspiration Contact Huge Selection In-Stock & On Sale in our 40,000 SQFT Showroom! Call us at 403-291-3858 or come on in! Close Amber Imports DC Rory Sale $1,749 Regular price $2,499 Default Title - $1,749.00 CAD Quantity Add to Cart The Rory Dining Collection 48\" Round Table w/ 4 Parsons Chairs Available in: Walnut or Black Share Share Tweet Pin it Fancy +1 A-M AM - Amber Leather Sofa Regular price $2,799 Sale price $1,999 Sale View A-M AM - Clooney Leather Sofa Regular price $2,799 Sale price $1,999 Sale View A-M AM - Cozy Reclining Leather Sofa Regular price $3,499 Sale price $2,999 Sale View A-M AM - Kennedy Leather Sofa On sale from $2,699 Sale View \"Close (esc)\"\n"
     ]
    }
   ],
   "execution_count": 22
  },
  {
   "metadata": {
    "ExecuteTime": {
     "end_time": "2024-09-13T20:38:29.423396Z",
     "start_time": "2024-09-13T20:38:29.420298Z"
    }
   },
   "cell_type": "code",
   "source": "print(len(extracted_data))",
   "id": "814a65d249e0e242",
   "outputs": [
    {
     "name": "stdout",
     "output_type": "stream",
     "text": [
      "23\n"
     ]
    }
   ],
   "execution_count": 18
  },
  {
   "metadata": {
    "ExecuteTime": {
     "end_time": "2024-09-07T16:57:18.818501Z",
     "start_time": "2024-09-07T16:57:18.340589Z"
    }
   },
   "cell_type": "code",
   "source": [
    "url = 'https://www.ikea.com/us/en/p/brimnes-bed-frame-w-storage-and-headboard-white-luroey-s69216757/'\n",
    "\n",
    "html_data = extract_text_from_url(url)\n",
    "\n",
    "print(html_data[0])\n",
    "\n",
    "print(html_data[1][1027:1091])"
   ],
   "id": "44ff3acbf690358e",
   "outputs": [
    {
     "name": "stdout",
     "output_type": "stream",
     "text": [
      "[('FRIHETEN Sleeper sectional,3 seat w/storage, Skiftebo dark gray', 1027, 1090)]\n",
      "FRIHETEN Sleeper sectional,3 seat w/storage, Skiftebo dark gray \n"
     ]
    }
   ],
   "execution_count": 11
  },
  {
   "metadata": {
    "ExecuteTime": {
     "end_time": "2024-09-13T20:51:33.148792Z",
     "start_time": "2024-09-13T20:51:33.145563Z"
    }
   },
   "cell_type": "code",
   "source": "print(len(extracted_data))",
   "id": "49a90453d27666a6",
   "outputs": [
    {
     "name": "stdout",
     "output_type": "stream",
     "text": [
      "125\n"
     ]
    }
   ],
   "execution_count": 21
  },
  {
   "metadata": {},
   "cell_type": "code",
   "outputs": [],
   "execution_count": null,
   "source": "",
   "id": "8cd191523d593ae8"
  }
 ],
 "metadata": {
  "kernelspec": {
   "display_name": "Python 3",
   "language": "python",
   "name": "python3"
  },
  "language_info": {
   "codemirror_mode": {
    "name": "ipython",
    "version": 2
   },
   "file_extension": ".py",
   "mimetype": "text/x-python",
   "name": "python",
   "nbconvert_exporter": "python",
   "pygments_lexer": "ipython2",
   "version": "2.7.6"
  }
 },
 "nbformat": 4,
 "nbformat_minor": 5
}
