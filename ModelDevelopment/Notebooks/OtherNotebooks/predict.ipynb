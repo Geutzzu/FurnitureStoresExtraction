{
 "cells": [
  {
   "metadata": {},
   "cell_type": "markdown",
   "source": "# Notebook for running predictions on text data",
   "id": "138c032472053cc9"
  },
  {
   "cell_type": "code",
   "id": "initial_id",
   "metadata": {
    "collapsed": true,
    "ExecuteTime": {
     "end_time": "2024-10-27T17:13:30.218994Z",
     "start_time": "2024-10-27T17:13:18.659037Z"
    }
   },
   "source": [
    "from transformers import AutoTokenizer, AutoModelForTokenClassification\n",
    "import torch"
   ],
   "outputs": [],
   "execution_count": 3
  },
  {
   "metadata": {
    "ExecuteTime": {
     "end_time": "2024-10-27T17:13:31.433897Z",
     "start_time": "2024-10-27T17:13:30.229071Z"
    }
   },
   "cell_type": "code",
   "source": [
    "# load the model and tokenizer\n",
    "model_name = model_checkpoint = \"../../Models/ROB_0.89F1_16B_100000DAT\"\n",
    "tokenizer = AutoTokenizer.from_pretrained(model_name, add_prefix_space=True)\n",
    "model = AutoModelForTokenClassification.from_pretrained(model_name)"
   ],
   "id": "797484645ce9ed4b",
   "outputs": [],
   "execution_count": 4
  },
  {
   "metadata": {
    "ExecuteTime": {
     "end_time": "2024-10-27T17:13:31.466420Z",
     "start_time": "2024-10-27T17:13:31.462713Z"
    }
   },
   "cell_type": "code",
   "source": "label_list = ['O', 'B-PRODUCT', 'I-PRODUCT']",
   "id": "aec2868b2743c2dd",
   "outputs": [],
   "execution_count": 5
  },
  {
   "metadata": {
    "ExecuteTime": {
     "end_time": "2024-10-27T17:13:52.336134Z",
     "start_time": "2024-10-27T17:13:52.331294Z"
    }
   },
   "cell_type": "code",
   "source": [
    "\n",
    "# takes a splited sentance and returns the labels\n",
    "def predict_labels(text, model, tokenizer, label_list, max_length=512):\n",
    "\n",
    "    inputs = tokenizer(text, return_tensors=\"pt\", max_length=max_length, truncation=True, is_split_into_words=True)\n",
    "    word_ids = inputs.word_ids()\n",
    "    \n",
    "    with torch.no_grad():\n",
    "        outputs = model(**inputs)\n",
    "        \n",
    "    logits = outputs.logits\n",
    "    predictions = torch.argmax(logits, dim=2)\n",
    "    \n",
    "    predictions = [label_list[prediction] for prediction in predictions[0]]\n",
    "    tokenized_tokens = tokenizer.convert_ids_to_tokens(inputs[\"input_ids\"][0])\n",
    "    \n",
    "    labels = ['O'] * len(text)\n",
    "    \n",
    "    for idx, (token, prediction) in enumerate(zip(tokenized_tokens, predictions)):\n",
    "        original_token_index = word_ids[idx]\n",
    "        if original_token_index is not None:\n",
    "            labels[original_token_index] = prediction\n",
    "        \n",
    "    return labels\n",
    "    "
   ],
   "id": "27c3df5b997ba77d",
   "outputs": [],
   "execution_count": 7
  },
  {
   "metadata": {
    "ExecuteTime": {
     "end_time": "2024-10-27T17:14:31.389987Z",
     "start_time": "2024-10-27T17:14:31.352734Z"
    }
   },
   "cell_type": "code",
   "source": [
    "text = \"\"\"[URL] <NO_URL> [URL] [TITLE] <NO_TITLE> [TITLE]\n",
    "[TEXT]  \n",
    "Soft sofa for Sleeping and Lounging, Price  $ 100.00, \n",
    " [TEXT] \"\"\"\n",
    "\n",
    "labels = predict_labels(text.split(), model, tokenizer, label_list)\n",
    "\n",
    "for token, label in zip(text.split(), labels):\n",
    "    print(f\"{token:10}: {label}\")"
   ],
   "id": "435982d59ddfa9ff",
   "outputs": [
    {
     "name": "stdout",
     "output_type": "stream",
     "text": [
      "[URL]     : O\n",
      "<NO_URL>  : O\n",
      "[URL]     : O\n",
      "[TITLE]   : O\n",
      "<NO_TITLE>: O\n",
      "[TITLE]   : O\n",
      "[TEXT]    : O\n",
      "Soft      : O\n",
      "sofa      : O\n",
      "for       : O\n",
      "Sleeping  : O\n",
      "and       : O\n",
      "Lounging, : O\n",
      "Price     : O\n",
      "$         : O\n",
      "100.00,   : O\n",
      "[TEXT]    : O\n"
     ]
    }
   ],
   "execution_count": 10
  },
  {
   "metadata": {
    "ExecuteTime": {
     "end_time": "2024-10-27T17:14:33.840742Z",
     "start_time": "2024-10-27T17:14:33.775758Z"
    }
   },
   "cell_type": "code",
   "source": [
    "\n",
    "\n",
    "inputs = tokenizer(text, return_tensors=\"pt\", max_length=512, truncation=True)\n",
    "\n",
    "# model prediction\n",
    "with torch.no_grad():\n",
    "    outputs = model(**inputs)\n",
    "\n",
    "logits = outputs.logits\n",
    "\n",
    "probabilities = torch.softmax(logits, dim=2)\n",
    "\n",
    "tokens = tokenizer.convert_ids_to_tokens(inputs[\"input_ids\"][0])\n",
    "word_ids = inputs.word_ids()\n",
    "\n",
    "\n",
    "predicted_labels = []\n",
    "o_tag_probs = []\n",
    "b_product_probs = []\n",
    "i_product_probs = []\n",
    "\n",
    "for i, token_probs in enumerate(probabilities[0]):\n",
    "    o_tag_prob = token_probs[label_list.index('O')].item()\n",
    "    b_product_prob = token_probs[label_list.index('B-PRODUCT')].item()\n",
    "    i_product_prob = token_probs[label_list.index('I-PRODUCT')].item()\n",
    "\n",
    "    max_prob, predicted_idx = torch.max(token_probs, dim=0)  #\n",
    "    predicted_label = label_list[predicted_idx]\n",
    "\n",
    "    predicted_labels.append(predicted_label)\n",
    "    o_tag_probs.append(o_tag_prob)\n",
    "    b_product_probs.append(b_product_prob)\n",
    "    i_product_probs.append(i_product_prob)\n",
    "\n",
    "\n",
    "for token, label, o_prob, b_prob, i_prob in zip(tokens, predicted_labels, o_tag_probs, b_product_probs, i_product_probs):\n",
    "    print(f\"{token:10}: {label:10} O: {o_prob:.2f} B-PRODUCT: {b_prob:.2f} I-PRODUCT: {i_prob:.2f}\")"
   ],
   "id": "9360ff38eed23b5a",
   "outputs": [
    {
     "name": "stdout",
     "output_type": "stream",
     "text": [
      "<s>       : O          O: 0.83 B-PRODUCT: 0.06 I-PRODUCT: 0.11\n",
      "[URL]     : O          O: 1.00 B-PRODUCT: 0.00 I-PRODUCT: 0.00\n",
      "Ġ         : O          O: 1.00 B-PRODUCT: 0.00 I-PRODUCT: 0.00\n",
      "<NO_URL>  : O          O: 1.00 B-PRODUCT: 0.00 I-PRODUCT: 0.00\n",
      "Ġ         : O          O: 1.00 B-PRODUCT: 0.00 I-PRODUCT: 0.00\n",
      "[URL]     : O          O: 1.00 B-PRODUCT: 0.00 I-PRODUCT: 0.00\n",
      "Ġ         : O          O: 1.00 B-PRODUCT: 0.00 I-PRODUCT: 0.00\n",
      "[TITLE]   : O          O: 1.00 B-PRODUCT: 0.00 I-PRODUCT: 0.00\n",
      "Ġ         : O          O: 1.00 B-PRODUCT: 0.00 I-PRODUCT: 0.00\n",
      "<NO_TITLE>: O          O: 1.00 B-PRODUCT: 0.00 I-PRODUCT: 0.00\n",
      "Ġ         : O          O: 1.00 B-PRODUCT: 0.00 I-PRODUCT: 0.00\n",
      "[TITLE]   : O          O: 1.00 B-PRODUCT: 0.00 I-PRODUCT: 0.00\n",
      "Ġ         : O          O: 1.00 B-PRODUCT: 0.00 I-PRODUCT: 0.00\n",
      "Ċ         : O          O: 1.00 B-PRODUCT: 0.00 I-PRODUCT: 0.00\n",
      "[TEXT]    : O          O: 1.00 B-PRODUCT: 0.00 I-PRODUCT: 0.00\n",
      "Ġ         : O          O: 1.00 B-PRODUCT: 0.00 I-PRODUCT: 0.00\n",
      "Ġ         : O          O: 0.99 B-PRODUCT: 0.01 I-PRODUCT: 0.00\n",
      "Ċ         : O          O: 0.93 B-PRODUCT: 0.07 I-PRODUCT: 0.00\n",
      "Soft      : B-PRODUCT  O: 0.46 B-PRODUCT: 0.52 I-PRODUCT: 0.01\n",
      "Ġsofa     : O          O: 0.61 B-PRODUCT: 0.03 I-PRODUCT: 0.37\n",
      "Ġfor      : I-PRODUCT  O: 0.34 B-PRODUCT: 0.01 I-PRODUCT: 0.65\n",
      "ĠSleeping : O          O: 0.76 B-PRODUCT: 0.00 I-PRODUCT: 0.23\n",
      "Ġand      : O          O: 0.71 B-PRODUCT: 0.00 I-PRODUCT: 0.29\n",
      "ĠLou      : O          O: 0.88 B-PRODUCT: 0.00 I-PRODUCT: 0.12\n",
      "ng        : O          O: 0.87 B-PRODUCT: 0.00 I-PRODUCT: 0.13\n",
      "ing       : O          O: 0.84 B-PRODUCT: 0.00 I-PRODUCT: 0.15\n",
      ",         : O          O: 0.76 B-PRODUCT: 0.00 I-PRODUCT: 0.24\n",
      "ĠPrice    : O          O: 0.90 B-PRODUCT: 0.00 I-PRODUCT: 0.10\n",
      "Ġ         : O          O: 0.87 B-PRODUCT: 0.00 I-PRODUCT: 0.12\n",
      "Ġ$        : O          O: 0.93 B-PRODUCT: 0.00 I-PRODUCT: 0.07\n",
      "Ġ100      : O          O: 0.98 B-PRODUCT: 0.00 I-PRODUCT: 0.02\n",
      ".         : O          O: 0.97 B-PRODUCT: 0.00 I-PRODUCT: 0.03\n",
      "00        : O          O: 0.98 B-PRODUCT: 0.00 I-PRODUCT: 0.02\n",
      ",         : O          O: 0.96 B-PRODUCT: 0.00 I-PRODUCT: 0.04\n",
      "Ġ         : O          O: 0.96 B-PRODUCT: 0.00 I-PRODUCT: 0.04\n",
      "Ċ         : O          O: 0.99 B-PRODUCT: 0.00 I-PRODUCT: 0.00\n",
      "Ġ         : O          O: 1.00 B-PRODUCT: 0.00 I-PRODUCT: 0.00\n",
      "[TEXT]    : O          O: 0.88 B-PRODUCT: 0.04 I-PRODUCT: 0.07\n",
      "Ġ         : O          O: 1.00 B-PRODUCT: 0.00 I-PRODUCT: 0.00\n",
      "</s>      : O          O: 0.88 B-PRODUCT: 0.04 I-PRODUCT: 0.07\n"
     ]
    }
   ],
   "execution_count": 11
  },
  {
   "metadata": {},
   "cell_type": "code",
   "outputs": [],
   "execution_count": null,
   "source": "\n",
   "id": "7172cc21fbd1ab9"
  }
 ],
 "metadata": {
  "kernelspec": {
   "display_name": "Python 3",
   "language": "python",
   "name": "python3"
  },
  "language_info": {
   "codemirror_mode": {
    "name": "ipython",
    "version": 2
   },
   "file_extension": ".py",
   "mimetype": "text/x-python",
   "name": "python",
   "nbconvert_exporter": "python",
   "pygments_lexer": "ipython2",
   "version": "2.7.6"
  }
 },
 "nbformat": 4,
 "nbformat_minor": 5
}
