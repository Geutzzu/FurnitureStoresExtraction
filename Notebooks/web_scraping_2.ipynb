{
 "cells": [
  {
   "metadata": {},
   "cell_type": "markdown",
   "source": [
    "# Web scraping for most of the sitemap websites"
   ],
   "id": "e58d6fa6cae01bda"
  },
  {
   "cell_type": "code",
   "id": "initial_id",
   "metadata": {
    "collapsed": true,
    "ExecuteTime": {
     "end_time": "2024-09-19T21:14:52.445447500Z",
     "start_time": "2024-09-19T21:14:52.365661400Z"
    }
   },
   "source": [
    "# importing libraries\n",
    "\n",
    "import csv \n",
    "import operator\n",
    "import re\n",
    "import threading\n",
    "import random\n",
    "\n",
    "import sys\n",
    "\n",
    "import requests\n",
    "from tqdm import tqdm \n",
    "from bs4 import BeautifulSoup\n",
    "\n",
    "from concurrent.futures import ThreadPoolExecutor\n",
    "import concurrent\n",
    "\n",
    "from urllib.parse import urlparse\n",
    "from urllib.parse import urljoin\n",
    "\n",
    "import spacy # we use this for word similarity\n",
    "\n",
    "from collections import defaultdict\n",
    "import time\n"
   ],
   "outputs": [],
   "execution_count": 3
  },
  {
   "metadata": {},
   "cell_type": "markdown",
   "source": [
    "### Loading the links for scraping"
   ],
   "id": "70014b6139f4992b"
  },
  {
   "metadata": {
    "ExecuteTime": {
     "end_time": "2024-09-19T21:14:52.862369700Z",
     "start_time": "2024-09-19T21:14:52.384609900Z"
    }
   },
   "cell_type": "code",
   "source": [
    "links = []\n",
    "\n",
    "with open('../dispersed_link_data.csv', mode='r', newline='', encoding='utf-8') as file:\n",
    "    csv_reader = csv.reader(file)\n",
    "    for row in csv_reader:\n",
    "        links.append(row[0])"
   ],
   "id": "b45c1a630cbb50ca",
   "outputs": [],
   "execution_count": 4
  },
  {
   "cell_type": "markdown",
   "source": [
    "### Additional methods for storing data"
   ],
   "metadata": {
    "collapsed": false
   },
   "id": "ce5baaf9812c5c3a"
  },
  {
   "cell_type": "code",
   "execution_count": 5,
   "outputs": [],
   "source": [
    "def write_data_to_csv(data_to_write, csv_filename):\n",
    "    # Open the file in append mode 'a' and ensure newline is handled correctly\n",
    "    with open(csv_filename, \"a\", newline='') as csvfile:\n",
    "        csvwriter = csv.writer(csvfile)\n",
    "        # Iterate over the list of tuples and append each to the CSV\n",
    "        for row in data_to_write:\n",
    "            csvwriter.writerow(row)"
   ],
   "metadata": {
    "collapsed": false,
    "ExecuteTime": {
     "end_time": "2024-09-19T21:14:52.878451800Z",
     "start_time": "2024-09-19T21:14:52.867352200Z"
    }
   },
   "id": "9e2c507de6cfaec1"
  },
  {
   "metadata": {},
   "cell_type": "markdown",
   "source": [
    "### Methods that will be used for scraping\n"
   ],
   "id": "7e730773ae77fcc8"
  },
  {
   "metadata": {
    "is_executing": true,
    "ExecuteTime": {
     "start_time": "2024-09-19T21:14:52.904408Z"
    }
   },
   "cell_type": "code",
   "outputs": [
    {
     "name": "stdout",
     "output_type": "stream",
     "text": [
      "FROM GET_DATA: Failed to retrieve https://www.comfortfurniture.com.sg/category/products/bundle-sale, Status Code: 202\n",
      "FROM:PROCESS_URL: Skipped processing https://www.comfortfurniture.com.sg/category/products/bundle-sale because extract_data returned None\n"
     ]
    },
    {
     "name": "stderr",
     "output_type": "stream",
     "text": [
      "Processing URLs:   0%|          | 25/100000 [00:01<52:07, 31.96it/s]  "
     ]
    },
    {
     "name": "stdout",
     "output_type": "stream",
     "text": [
      "FROM GET_DATA: Failed to retrieve https://magnolialane.biz/products/malawi-tub-chair, Status Code: 404\n"
     ]
    },
    {
     "name": "stderr",
     "output_type": "stream",
     "text": [
      "Processing URLs:   0%|          | 29/100000 [00:02<1:24:21, 19.75it/s]"
     ]
    },
    {
     "name": "stdout",
     "output_type": "stream",
     "text": [
      "FROM GET_DATA: Failed to retrieve https://kokocollective.com.au/products/pom-pom-blanket-navy, Status Code: 404\n"
     ]
    },
    {
     "name": "stderr",
     "output_type": "stream",
     "text": [
      "Processing URLs:   0%|          | 29/100000 [00:02<1:24:21, 19.75it/s]"
     ]
    },
    {
     "name": "stdout",
     "output_type": "stream",
     "text": [
      "FROM:PROCESS_URL: Skipped processing https://magnolialane.biz/products/malawi-tub-chair because extract_data returned None\n"
     ]
    },
    {
     "name": "stderr",
     "output_type": "stream",
     "text": [
      "Processing URLs:   0%|          | 31/100000 [00:04<4:53:00,  5.69it/s]"
     ]
    },
    {
     "name": "stdout",
     "output_type": "stream",
     "text": [
      "FROM:PROCESS_URL: Skipped processing https://kokocollective.com.au/products/pom-pom-blanket-navy because extract_data returned None\n"
     ]
    },
    {
     "name": "stderr",
     "output_type": "stream",
     "text": [
      "Processing URLs:   0%|          | 113/100000 [00:13<5:46:12,  4.81it/s]"
     ]
    },
    {
     "name": "stdout",
     "output_type": "stream",
     "text": [
      "FROM GET_DATA: Failed to retrieve https://brownandbeam.com/products/karis-slipcovered-sofa, Status Code: 404\n"
     ]
    },
    {
     "name": "stderr",
     "output_type": "stream",
     "text": [
      "                                                                        "
     ]
    },
    {
     "name": "stdout",
     "output_type": "stream",
     "text": [
      "FROM:PROCESS_URL: Skipped processing https://brownandbeam.com/products/karis-slipcovered-sofa because extract_data returned None\n"
     ]
    },
    {
     "name": "stderr",
     "output_type": "stream",
     "text": [
      "Processing URLs:   0%|          | 114/100000 [00:15<12:04:34,  2.30it/s]"
     ]
    },
    {
     "name": "stdout",
     "output_type": "stream",
     "text": [
      "FROM GET_DATA: Failed to retrieve https://arkaliving.com/products/5738deb1f85082cb3f27ff9a, Status Code: 404\n"
     ]
    },
    {
     "name": "stderr",
     "output_type": "stream",
     "text": [
      "                                                                        \r"
     ]
    },
    {
     "name": "stdout",
     "output_type": "stream",
     "text": [
      "FROM GET_DATA: Failed to retrieve https://www.stylemyhome.com.au/products/plain-abigail-upholstered-storage-box, Status Code: 404\n"
     ]
    },
    {
     "name": "stderr",
     "output_type": "stream",
     "text": [
      "Processing URLs:   0%|          | 115/100000 [00:16<16:55:24,  1.64it/s]"
     ]
    },
    {
     "name": "stdout",
     "output_type": "stream",
     "text": [
      "FROM:PROCESS_URL: Skipped processing https://arkaliving.com/products/5738deb1f85082cb3f27ff9a because extract_data returned None\n"
     ]
    },
    {
     "name": "stderr",
     "output_type": "stream",
     "text": [
      "Processing URLs:   0%|          | 117/100000 [00:17<23:17:25,  1.19it/s]"
     ]
    },
    {
     "name": "stdout",
     "output_type": "stream",
     "text": [
      "FROM:PROCESS_URL: Skipped processing https://www.stylemyhome.com.au/products/plain-abigail-upholstered-storage-box because extract_data returned None\n"
     ]
    },
    {
     "name": "stderr",
     "output_type": "stream",
     "text": [
      "Processing URLs:   0%|          | 325/100000 [00:34<3:46:19,  7.34it/s] "
     ]
    },
    {
     "name": "stdout",
     "output_type": "stream",
     "text": [
      "FROM GET_DATA: Failed to retrieve https://www.knoll.com/design-plan/products/by-brand/filzfelt-design, Status Code: 404\n"
     ]
    },
    {
     "name": "stderr",
     "output_type": "stream",
     "text": [
      "                                                                       "
     ]
    },
    {
     "name": "stdout",
     "output_type": "stream",
     "text": [
      "FROM GET_DATA: Failed to retrieve https://www.comfortfurniture.com.sg/category/products/childrens-furniture, Status Code: 202\n"
     ]
    },
    {
     "name": "stderr",
     "output_type": "stream",
     "text": [
      "Processing URLs:   0%|          | 327/100000 [00:35<6:13:49,  4.44it/s]"
     ]
    },
    {
     "name": "stdout",
     "output_type": "stream",
     "text": [
      "FROM:PROCESS_URL: Skipped processing https://www.knoll.com/design-plan/products/by-brand/filzfelt-design because extract_data returned None\n"
     ]
    },
    {
     "name": "stderr",
     "output_type": "stream",
     "text": [
      "Processing URLs:   0%|          | 328/100000 [00:36<11:53:19,  2.33it/s]"
     ]
    },
    {
     "name": "stdout",
     "output_type": "stream",
     "text": [
      "FROM:PROCESS_URL: Skipped processing https://www.comfortfurniture.com.sg/category/products/childrens-furniture because extract_data returned None\n"
     ]
    },
    {
     "name": "stderr",
     "output_type": "stream",
     "text": [
      "Processing URLs:   0%|          | 404/100000 [00:42<2:31:08, 10.98it/s] "
     ]
    },
    {
     "name": "stdout",
     "output_type": "stream",
     "text": [
      "FROM GET_DATA: Failed to retrieve https://thebanyantree.com.au/products/lynettesoftpinkvelvetcushion, Status Code: 404\n"
     ]
    },
    {
     "name": "stderr",
     "output_type": "stream",
     "text": [
      "Processing URLs:   0%|          | 406/100000 [00:43<3:00:05,  9.22it/s]"
     ]
    },
    {
     "name": "stdout",
     "output_type": "stream",
     "text": [
      "FROM:PROCESS_URL: Skipped processing https://thebanyantree.com.au/products/lynettesoftpinkvelvetcushion because extract_data returned None\n"
     ]
    },
    {
     "name": "stderr",
     "output_type": "stream",
     "text": [
      "Processing URLs:   0%|          | 438/100000 [00:47<3:11:53,  8.65it/s]"
     ]
    },
    {
     "name": "stdout",
     "output_type": "stream",
     "text": [
      "FROM GET_DATA: Failed to retrieve https://arkaliving.com/products/5738df90e321409007766985, Status Code: 404\n"
     ]
    },
    {
     "name": "stderr",
     "output_type": "stream",
     "text": [
      "Processing URLs:   0%|          | 440/100000 [00:48<3:15:39,  8.48it/s]"
     ]
    },
    {
     "name": "stdout",
     "output_type": "stream",
     "text": [
      "FROM GET_DATA: Failed to retrieve https://www.stylemyhome.com.au/products/fabric-sample, Status Code: 404\n"
     ]
    },
    {
     "name": "stderr",
     "output_type": "stream",
     "text": [
      "Processing URLs:   0%|          | 440/100000 [00:49<3:15:39,  8.48it/s]"
     ]
    },
    {
     "name": "stdout",
     "output_type": "stream",
     "text": [
      "FROM:PROCESS_URL: Skipped processing https://arkaliving.com/products/5738df90e321409007766985 because extract_data returned None\n"
     ]
    },
    {
     "name": "stderr",
     "output_type": "stream",
     "text": [
      "Processing URLs:   0%|          | 443/100000 [00:50<10:32:12,  2.62it/s]"
     ]
    },
    {
     "name": "stdout",
     "output_type": "stream",
     "text": [
      "FROM:PROCESS_URL: Skipped processing https://www.stylemyhome.com.au/products/fabric-sample because extract_data returned None\n"
     ]
    },
    {
     "name": "stderr",
     "output_type": "stream",
     "text": [
      "Processing URLs:   1%|          | 628/100000 [01:04<1:37:53, 16.92it/s] "
     ]
    },
    {
     "name": "stdout",
     "output_type": "stream",
     "text": [
      "FROM GET_DATA: Failed to retrieve https://www.comfortfurniture.com.sg/category/products/tv-consoles, Status Code: 202\n"
     ]
    },
    {
     "name": "stderr",
     "output_type": "stream",
     "text": [
      "Processing URLs:   1%|          | 631/100000 [01:05<2:36:10, 10.60it/s]"
     ]
    },
    {
     "name": "stdout",
     "output_type": "stream",
     "text": [
      "FROM:PROCESS_URL: Skipped processing https://www.comfortfurniture.com.sg/category/products/tv-consoles because extract_data returned None\n"
     ]
    },
    {
     "name": "stderr",
     "output_type": "stream",
     "text": [
      "Processing URLs:   1%|          | 757/100000 [01:20<3:31:10,  7.83it/s]"
     ]
    },
    {
     "name": "stdout",
     "output_type": "stream",
     "text": [
      "FROM GET_DATA: Failed to retrieve https://arkaliving.com/products/5738dccfab48de6e3b5413db, Status Code: 404\n"
     ]
    },
    {
     "name": "stderr",
     "output_type": "stream",
     "text": [
      "                                                                       "
     ]
    },
    {
     "name": "stdout",
     "output_type": "stream",
     "text": [
      "FROM GET_DATA: Failed to retrieve https://www.stylemyhome.com.au/products/joshua-oak-glass-cross-leg-coffee-table, Status Code: 404\n"
     ]
    },
    {
     "name": "stderr",
     "output_type": "stream",
     "text": [
      "Processing URLs:   1%|          | 758/100000 [01:22<5:42:45,  4.83it/s]"
     ]
    },
    {
     "name": "stdout",
     "output_type": "stream",
     "text": [
      "FROM:PROCESS_URL: Skipped processing https://arkaliving.com/products/5738dccfab48de6e3b5413db because extract_data returned None\n"
     ]
    },
    {
     "name": "stderr",
     "output_type": "stream",
     "text": [
      "Processing URLs:   1%|          | 760/100000 [01:23<14:15:00,  1.93it/s]"
     ]
    },
    {
     "name": "stdout",
     "output_type": "stream",
     "text": [
      "FROM:PROCESS_URL: Skipped processing https://www.stylemyhome.com.au/products/joshua-oak-glass-cross-leg-coffee-table because extract_data returned None\n"
     ]
    },
    {
     "name": "stderr",
     "output_type": "stream",
     "text": [
      "Processing URLs:   1%|          | 950/100000 [01:38<3:01:33,  9.09it/s] "
     ]
    },
    {
     "name": "stdout",
     "output_type": "stream",
     "text": [
      "FROM GET_DATA: Failed to retrieve https://www.comfortfurniture.com.sg/category/products/lights-and-bulbs, Status Code: 202\n"
     ]
    },
    {
     "name": "stderr",
     "output_type": "stream",
     "text": [
      "                                                                       "
     ]
    },
    {
     "name": "stdout",
     "output_type": "stream",
     "text": [
      "FROM GET_DATA: Failed to retrieve https://magnolialane.biz/products/cliffton-beach-coffee-table, Status Code: 404\n"
     ]
    },
    {
     "name": "stderr",
     "output_type": "stream",
     "text": [
      "Processing URLs:   1%|          | 952/100000 [01:40<4:06:41,  6.69it/s]"
     ]
    },
    {
     "name": "stdout",
     "output_type": "stream",
     "text": [
      "FROM:PROCESS_URL: Skipped processing https://www.comfortfurniture.com.sg/category/products/lights-and-bulbs because extract_data returned None\n"
     ]
    },
    {
     "name": "stderr",
     "output_type": "stream",
     "text": [
      "Processing URLs:   1%|          | 954/100000 [01:41<9:23:08,  2.93it/s]"
     ]
    },
    {
     "name": "stdout",
     "output_type": "stream",
     "text": [
      "FROM GET_DATA: Failed to retrieve https://dhfonline.com/products/rachele-tray, Status Code: 404\n"
     ]
    },
    {
     "name": "stderr",
     "output_type": "stream",
     "text": [
      "Processing URLs:   1%|          | 954/100000 [01:42<9:23:08,  2.93it/s]"
     ]
    },
    {
     "name": "stdout",
     "output_type": "stream",
     "text": [
      "FROM:PROCESS_URL: Skipped processing https://magnolialane.biz/products/cliffton-beach-coffee-table because extract_data returned None\n"
     ]
    },
    {
     "name": "stderr",
     "output_type": "stream",
     "text": [
      "Processing URLs:   1%|          | 955/100000 [01:43<16:17:19,  1.69it/s]"
     ]
    },
    {
     "name": "stdout",
     "output_type": "stream",
     "text": [
      "FROM:PROCESS_URL: Skipped processing https://dhfonline.com/products/rachele-tray because extract_data returned None\n"
     ]
    },
    {
     "name": "stderr",
     "output_type": "stream",
     "text": [
      "Processing URLs:   1%|          | 1069/100000 [01:53<3:47:38,  7.24it/s]"
     ]
    },
    {
     "name": "stdout",
     "output_type": "stream",
     "text": [
      "FROM GET_DATA: Failed to retrieve https://www.stylemyhome.com.au/products/joshua-oak-glass-cross-leg-side-table, Status Code: 404\n"
     ]
    },
    {
     "name": "stderr",
     "output_type": "stream",
     "text": [
      "Processing URLs:   1%|          | 1071/100000 [01:54<10:52:05,  2.53it/s]"
     ]
    },
    {
     "name": "stdout",
     "output_type": "stream",
     "text": [
      "FROM:PROCESS_URL: Skipped processing https://www.stylemyhome.com.au/products/joshua-oak-glass-cross-leg-side-table because extract_data returned None\n"
     ]
    },
    {
     "name": "stderr",
     "output_type": "stream",
     "text": [
      "                                                                         \r"
     ]
    },
    {
     "name": "stdout",
     "output_type": "stream",
     "text": [
      "FROM GET_DATA: Failed to retrieve https://www.comfortfurniture.com.sg/category/products/natural-signature, Status Code: 202\n"
     ]
    },
    {
     "name": "stderr",
     "output_type": "stream",
     "text": [
      "Processing URLs:   1%|          | 1244/100000 [02:09<3:22:02,  8.15it/s]"
     ]
    },
    {
     "name": "stdout",
     "output_type": "stream",
     "text": [
      "FROM:PROCESS_URL: Skipped processing https://www.comfortfurniture.com.sg/category/products/natural-signature because extract_data returned None\n"
     ]
    },
    {
     "name": "stderr",
     "output_type": "stream",
     "text": [
      "                                                                        "
     ]
    },
    {
     "name": "stdout",
     "output_type": "stream",
     "text": [
      "FROM GET_DATA: Failed to retrieve https://www.georgestreet.co.uk/products/footstool/, Status Code: 404\n"
     ]
    },
    {
     "name": "stderr",
     "output_type": "stream",
     "text": [
      "Processing URLs:   1%|          | 1247/100000 [02:10<5:13:53,  5.24it/s]"
     ]
    },
    {
     "name": "stdout",
     "output_type": "stream",
     "text": [
      "FROM:PROCESS_URL: Skipped processing https://www.georgestreet.co.uk/products/footstool/ because extract_data returned None\n"
     ]
    },
    {
     "name": "stderr",
     "output_type": "stream",
     "text": [
      "Processing URLs:   1%|▏         | 1390/100000 [02:26<2:56:03,  9.33it/s]"
     ]
    },
    {
     "name": "stdout",
     "output_type": "stream",
     "text": [
      "FROM GET_DATA: Failed to retrieve https://www.stylemyhome.com.au/products/hugo-deluxe-bedhead, Status Code: 404\n"
     ]
    },
    {
     "name": "stderr",
     "output_type": "stream",
     "text": [
      "Processing URLs:   1%|▏         | 1392/100000 [02:27<3:02:20,  9.01it/s]"
     ]
    },
    {
     "name": "stdout",
     "output_type": "stream",
     "text": [
      "FROM:PROCESS_URL: Skipped processing https://www.stylemyhome.com.au/products/hugo-deluxe-bedhead because extract_data returned None\n"
     ]
    },
    {
     "name": "stderr",
     "output_type": "stream",
     "text": [
      "Processing URLs:   2%|▏         | 1566/100000 [02:42<1:40:09, 16.38it/s]"
     ]
    },
    {
     "name": "stdout",
     "output_type": "stream",
     "text": [
      "FROM GET_DATA: Failed to retrieve https://www.comfortfurniture.com.sg/category/products/matte-black, Status Code: 202\n"
     ]
    },
    {
     "name": "stderr",
     "output_type": "stream",
     "text": [
      "Processing URLs:   2%|▏         | 1570/100000 [02:42<3:50:45,  7.11it/s]"
     ]
    },
    {
     "name": "stdout",
     "output_type": "stream",
     "text": [
      "FROM:PROCESS_URL: Skipped processing https://www.comfortfurniture.com.sg/category/products/matte-black because extract_data returned None\n"
     ]
    },
    {
     "name": "stderr",
     "output_type": "stream",
     "text": [
      "Processing URLs:   2%|▏         | 1702/100000 [02:58<2:47:53,  9.76it/s]"
     ]
    },
    {
     "name": "stdout",
     "output_type": "stream",
     "text": [
      "FROM GET_DATA: Failed to retrieve https://www.stylemyhome.com.au/products/indigo-coral-i-framed, Status Code: 404\n"
     ]
    },
    {
     "name": "stderr",
     "output_type": "stream",
     "text": [
      "Processing URLs:   2%|▏         | 1706/100000 [02:59<6:02:50,  4.52it/s]"
     ]
    },
    {
     "name": "stdout",
     "output_type": "stream",
     "text": [
      "FROM:PROCESS_URL: Skipped processing https://www.stylemyhome.com.au/products/indigo-coral-i-framed because extract_data returned None\n"
     ]
    },
    {
     "name": "stderr",
     "output_type": "stream",
     "text": [
      "                                                                        "
     ]
    },
    {
     "name": "stdout",
     "output_type": "stream",
     "text": [
      "FROM GET_DATA: Failed to retrieve https://www.comfortfurniture.com.sg/category/products/banquet-furniture, Status Code: 202\n"
     ]
    },
    {
     "name": "stderr",
     "output_type": "stream",
     "text": [
      "Processing URLs:   2%|▏         | 1880/100000 [03:14<1:40:31, 16.27it/s]"
     ]
    },
    {
     "name": "stdout",
     "output_type": "stream",
     "text": [
      "FROM:PROCESS_URL: Skipped processing https://www.comfortfurniture.com.sg/category/products/banquet-furniture because extract_data returned None\n"
     ]
    },
    {
     "name": "stderr",
     "output_type": "stream",
     "text": [
      "Processing URLs:   2%|▏         | 1906/100000 [03:16<2:32:47, 10.70it/s]"
     ]
    }
   ],
   "execution_count": null,
   "source": [
    "def get_base_url(url):\n",
    "    try:\n",
    "        parsed_url = urlparse(url)\n",
    "        base_url = f\"{parsed_url.scheme}://{parsed_url.netloc}\"\n",
    "        return base_url\n",
    "    except Exception as e:\n",
    "        # print(f\"Error parsing URL {url}: {e}\")\n",
    "        return None\n",
    "\n",
    "\n",
    "def clean_text(text):\n",
    "    # Replace multiple spaces and line breaks with a single space\n",
    "    cleaned_text = re.sub(r'\\s+', ' ', text).strip()\n",
    "    return cleaned_text\n",
    "\n",
    "USER_AGENTS = [\n",
    "    \"Mozilla/5.0 (Windows NT 10.0; Win64; x64) AppleWebKit/537.36 (KHTML, like Gecko) Chrome/85.0.4183.102 Safari/537.36\",\n",
    "    \"Mozilla/5.0 (Macintosh; Intel Mac OS X 10_15_5) AppleWebKit/537.36 (KHTML, like Gecko) Chrome/83.0.4103.116 Safari/537.36\",\n",
    "    \"Mozilla/5.0 (X11; Linux x86_64) AppleWebKit/537.36 (KHTML, like Gecko) Chrome/81.0.4044.122 Safari/537.36\",\n",
    "    \"Mozilla/5.0 (Windows NT 10.0; Win64; x64; rv:79.0) Gecko/20100101 Firefox/79.0\",\n",
    "    \"Mozilla/5.0 (Macintosh; Intel Mac OS X 10_15_6) AppleWebKit/605.1.15 (KHTML, like Gecko) Version/14.0.1 Safari/605.1.15\",\n",
    "]\n",
    "\n",
    "# List of proxy servers (this can be dynamically updated with proxy pools or services)\n",
    "PROXIES = [\n",
    "    {\"http\": \"http://178.48.68.61:18080\",  \"https\": \"http://178.48.68.61:18080\"},    \n",
    "]\n",
    "\n",
    "# Function to get page content\n",
    "def get_data(url):\n",
    "    headers = {\"User-Agent\": random.choice(USER_AGENTS)}  # Rotate user-agent\n",
    "\n",
    "    try:\n",
    "        response = requests.get(url, headers=headers, timeout=3)\n",
    "\n",
    "        # Handle rate-limiting (HTTP 429) by pausing and retrying\n",
    "        if response.status_code == 429:\n",
    "            tqdm.write(f\"FROM GET_DATA: Rate limit reached. Sleeping before retrying {url}\")\n",
    "            # print(f\"FROM GET_DATA: Rate limit reached. Sleeping before retrying {url}\")\n",
    "            time.sleep(random.uniform(4, 8))  # Random delay to avoid detection\n",
    "            return get_data(url)\n",
    "\n",
    "        if response.status_code == 200:\n",
    "            return response.content  # Return HTML content if successful\n",
    "\n",
    "        tqdm.write(f\"FROM GET_DATA: Failed to retrieve {url}, Status Code: {response.status_code}\")\n",
    "        # print(f\"FROM GET_DATA: Failed to retrieve {url}, Status Code: {response.status_code}\")\n",
    "        return None\n",
    "\n",
    "    except requests.RequestException as e:\n",
    "        tqdm.write(f\"FROM GET_DATA: Error fetching {url}: {e}\")\n",
    "        # print(f\"FROM GET_DATA: Error fetching {url}: {e}\")\n",
    "        return None\n",
    "\n",
    "\n",
    "def has_letters(input_string):\n",
    "    return any(char.isalpha() for char in input_string)\n",
    "\n",
    "def extract_data(url):\n",
    "    html_data = get_data(url)\n",
    "    if html_data is None:\n",
    "        return None\n",
    "    \n",
    "    soup = BeautifulSoup(html_data, \"html.parser\")\n",
    "    \n",
    "    # Finding the title in the meta tags\n",
    "    title = soup.find('title')\n",
    "    if title:\n",
    "        title = title.get_text()\n",
    "    else: title = None\n",
    "        \n",
    "    # Remove scripts, styles, and irrelevant content\n",
    "    for script in soup([\"script\", \"style\", \"footer\", \"nav\", \"header\", \"noscript\", \"head\"]):\n",
    "        script.extract()\n",
    "\n",
    "    h1_tags = [clean_text(h1.get_text()) for h1 in soup.find_all('h1')]\n",
    "    \n",
    "    page_text = clean_text(soup.get_text(separator=' '))\n",
    "    \n",
    "    h1_tag = None\n",
    "    # If no h1 tags are found, return None\n",
    "    if h1_tags:\n",
    "        h1_tag = h1_tags[0] \n",
    " \n",
    "    # We get the last path of the url\n",
    "    url_index = url.rfind('/')\n",
    "    url_last_path = url[url_index + 1:].replace('-', ' ')\n",
    "    \n",
    "    if not has_letters(url_last_path):\n",
    "        url_last_path = None\n",
    "    \n",
    "    h1_tag_position = None\n",
    "    if h1_tag and page_text:  # Ensure both are not None\n",
    "        if h1_tag in page_text:\n",
    "            start_idx = page_text.index(h1_tag)\n",
    "            end_idx = start_idx + len(h1_tag)\n",
    "            h1_tag_position = (h1_tag, start_idx, end_idx)\n",
    "    \n",
    "    return h1_tag_position, title, url_last_path, page_text\n",
    "    \n",
    "\n",
    "final_data = []\n",
    "links = links[:100000]  \n",
    "\n",
    "final_data_lock = threading.Lock()  # A lock to ensure thread-safe appending to the list\n",
    "\n",
    "# Function to process a single URL\n",
    "def process_url(link):\n",
    "    try:\n",
    "        result = extract_data(link)\n",
    "        if result is not None:\n",
    "            h1_tag, title, url_last_path, page_text = result\n",
    "            with final_data_lock:\n",
    "                final_data.append([link, h1_tag, title, url_last_path, page_text])\n",
    "        else:\n",
    "            tqdm.write(f\"FROM:PROCESS_URL: Skipped processing {link} because extract_data returned None\")\n",
    "    except Exception as e:\n",
    "        tqdm.write(f\"FROM:PROCESS_URL: Error processing {link}: {e}\")\n",
    "\n",
    "\n",
    "# Read from CSV and process in parallel\n",
    "with open('../dispersed_link_data.csv', mode='r', newline='', encoding='utf-8') as file:\n",
    "\n",
    "    # Use ThreadPoolExecutor for parallel processing\n",
    "    with ThreadPoolExecutor(max_workers=32) as executor:  # Adjust max_workers as needed\n",
    "        futures = []\n",
    "        for link in links:\n",
    "            futures.append(executor.submit(process_url, link))  # Submit tasks to the thread pool\n",
    "\n",
    "        # Track progress with tqdm\n",
    "        for _ in tqdm(concurrent.futures.as_completed(futures), total=len(links), desc=\"Processing URLs\"):\n",
    "            pass  # We don't need the result here since we're appending directly to final_data\n",
    "\n",
    "                          \n"
   ],
   "id": "da2a0de946c3761f"
  },
  {
   "cell_type": "code",
   "execution_count": null,
   "outputs": [],
   "source": [
    "with open('../data/preprocessed_data_from_all_sitemaps.csv', mode='w', newline='', encoding='utf-8') as file:\n",
    "    csv_writer = csv.writer(file)\n",
    "    csv_writer.writerow(['URL', 'h1', 'title', 'url_last_path', 'page_text'])\n",
    "    for row in final_data:\n",
    "        csv_writer.writerow(row)\n",
    "        \n",
    "\n",
    "print(\"Processing completed!\")"
   ],
   "metadata": {
    "collapsed": false,
    "is_executing": true
   },
   "id": "6c10df05c3a6f7a2"
  },
  {
   "cell_type": "code",
   "execution_count": null,
   "outputs": [],
   "source": [],
   "metadata": {
    "collapsed": false,
    "is_executing": true
   },
   "id": "68141b6d4c19d01a"
  },
  {
   "cell_type": "code",
   "execution_count": null,
   "outputs": [],
   "source": [],
   "metadata": {
    "collapsed": false,
    "is_executing": true
   },
   "id": "67673213880c14ec"
  }
 ],
 "metadata": {
  "kernelspec": {
   "display_name": "Python 3",
   "language": "python",
   "name": "python3"
  },
  "language_info": {
   "codemirror_mode": {
    "name": "ipython",
    "version": 2
   },
   "file_extension": ".py",
   "mimetype": "text/x-python",
   "name": "python",
   "nbconvert_exporter": "python",
   "pygments_lexer": "ipython2",
   "version": "2.7.6"
  }
 },
 "nbformat": 4,
 "nbformat_minor": 5
}
