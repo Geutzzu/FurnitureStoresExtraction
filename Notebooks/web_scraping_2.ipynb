{
 "cells": [
  {
   "metadata": {},
   "cell_type": "markdown",
   "source": [
    "# Web scraping for most of the sitemap websites"
   ],
   "id": "e58d6fa6cae01bda"
  },
  {
   "cell_type": "code",
   "id": "initial_id",
   "metadata": {
    "collapsed": true,
    "ExecuteTime": {
     "end_time": "2024-09-19T20:30:11.160387200Z",
     "start_time": "2024-09-19T20:30:11.096223500Z"
    }
   },
   "source": [
    "# importing libraries\n",
    "\n",
    "import csv \n",
    "import operator\n",
    "import re\n",
    "import threading\n",
    "import random\n",
    "\n",
    "import sys\n",
    "\n",
    "import requests\n",
    "from tqdm import tqdm \n",
    "from bs4 import BeautifulSoup\n",
    "\n",
    "from concurrent.futures import ThreadPoolExecutor\n",
    "import concurrent\n",
    "\n",
    "from urllib.parse import urlparse\n",
    "from urllib.parse import urljoin\n",
    "\n",
    "import spacy # we use this for word similarity\n",
    "\n",
    "from collections import defaultdict\n",
    "import time\n"
   ],
   "outputs": [],
   "execution_count": 20
  },
  {
   "metadata": {},
   "cell_type": "markdown",
   "source": [
    "### Loading the links for scraping"
   ],
   "id": "70014b6139f4992b"
  },
  {
   "metadata": {
    "ExecuteTime": {
     "end_time": "2024-09-19T20:30:11.721077400Z",
     "start_time": "2024-09-19T20:30:11.109220400Z"
    }
   },
   "cell_type": "code",
   "source": [
    "links = []\n",
    "\n",
    "with open('../link_data.csv', mode='r', newline='', encoding='utf-8') as file:\n",
    "    csv_reader = csv.reader(file)\n",
    "    for row in csv_reader:\n",
    "        links.append(row[0])"
   ],
   "id": "b45c1a630cbb50ca",
   "outputs": [],
   "execution_count": 21
  },
  {
   "cell_type": "markdown",
   "source": [
    "### Additional methods for storing data"
   ],
   "metadata": {
    "collapsed": false
   },
   "id": "ce5baaf9812c5c3a"
  },
  {
   "cell_type": "code",
   "execution_count": 22,
   "outputs": [],
   "source": [
    "def write_data_to_csv(data_to_write, csv_filename):\n",
    "    # Open the file in append mode 'a' and ensure newline is handled correctly\n",
    "    with open(csv_filename, \"a\", newline='') as csvfile:\n",
    "        csvwriter = csv.writer(csvfile)\n",
    "        # Iterate over the list of tuples and append each to the CSV\n",
    "        for row in data_to_write:\n",
    "            csvwriter.writerow(row)"
   ],
   "metadata": {
    "collapsed": false,
    "ExecuteTime": {
     "end_time": "2024-09-19T20:30:11.732246600Z",
     "start_time": "2024-09-19T20:30:11.718054600Z"
    }
   },
   "id": "9e2c507de6cfaec1"
  },
  {
   "metadata": {},
   "cell_type": "markdown",
   "source": [
    "### Methods that will be used for scraping\n"
   ],
   "id": "7e730773ae77fcc8"
  },
  {
   "metadata": {
    "is_executing": true,
    "ExecuteTime": {
     "start_time": "2024-09-19T20:30:11.732246600Z"
    }
   },
   "cell_type": "code",
   "outputs": [
    {
     "name": "stderr",
     "output_type": "stream",
     "text": [
      "Processing URLs:   0%|          | 15/30000 [00:02<45:49, 10.90it/s]  "
     ]
    },
    {
     "name": "stdout",
     "output_type": "stream",
     "text": [
      "Error fetching https://www.hopewells.co.uk/products/beds-bedroom-furniture/beds: HTTPSConnectionPool(host='www.hopewells.co.uk', port=443): Read timed out. (read timeout=3)\n",
      "Error processing https://www.hopewells.co.uk/products/beds-bedroom-furniture/beds: cannot unpack non-iterable NoneType object\n"
     ]
    },
    {
     "name": "stderr",
     "output_type": "stream",
     "text": [
      "Processing URLs:   0%|          | 22/30000 [00:03<30:21, 16.46it/s]"
     ]
    },
    {
     "name": "stdout",
     "output_type": "stream",
     "text": [
      "Error fetching https://www.hopewells.co.uk/products/beds-bedroom-furniture/beds/somnus-excelsior-40000-springs: HTTPSConnectionPool(host='www.hopewells.co.uk', port=443): Read timed out. (read timeout=3)\n",
      "Error processing https://www.hopewells.co.uk/products/beds-bedroom-furniture/beds/somnus-excelsior-40000-springs: cannot unpack non-iterable NoneType object\n",
      "Error fetching https://www.hopewells.co.uk/products/beds-bedroom-furniture/beds/somnus-regent-8000-springs: HTTPSConnectionPool(host='www.hopewells.co.uk', port=443): Read timed out. (read timeout=3)\n",
      "Error processing https://www.hopewells.co.uk/products/beds-bedroom-furniture/beds/somnus-regent-8000-springs: cannot unpack non-iterable NoneType object\n",
      "Error fetching https://www.hopewells.co.uk/products/brands/ercol-fine-furniture-for-your-home/ercol-bosco-bedroom/ercol-1360-bosco-double-bed: HTTPSConnectionPool(host='www.hopewells.co.uk', port=443): Read timed out. (read timeout=3)\n",
      "Error processing https://www.hopewells.co.uk/products/brands/ercol-fine-furniture-for-your-home/ercol-bosco-bedroom/ercol-1360-bosco-double-bed: cannot unpack non-iterable NoneType object\n",
      "Error fetching https://www.hopewells.co.uk/products/beds-bedroom-furniture/beds/hypnos-dunsmore-supreme-divan-set: HTTPSConnectionPool(host='www.hopewells.co.uk', port=443): Read timed out. (read timeout=3)\n",
      "Error processing https://www.hopewells.co.uk/products/beds-bedroom-furniture/beds/hypnos-dunsmore-supreme-divan-set: cannot unpack non-iterable NoneType object\n",
      "Error fetching https://www.hopewells.co.uk/products/brands/ercol-fine-furniture-for-your-home/ercol-bosco-bedroom/ercol-1323-bosco-compact-side-table: HTTPSConnectionPool(host='www.hopewells.co.uk', port=443): Read timed out. (read timeout=3)\n",
      "Error processing https://www.hopewells.co.uk/products/brands/ercol-fine-furniture-for-your-home/ercol-bosco-bedroom/ercol-1323-bosco-compact-side-table: cannot unpack non-iterable NoneType object\n",
      "Error fetching https://www.hopewells.co.uk/products/brands/ercol-fine-furniture-for-your-home/ercol-bosco-bedroom: HTTPSConnectionPool(host='www.hopewells.co.uk', port=443): Read timed out. (read timeout=3)\n",
      "Error processing https://www.hopewells.co.uk/products/brands/ercol-fine-furniture-for-your-home/ercol-bosco-bedroom: cannot unpack non-iterable NoneType object\n",
      "Error fetching https://www.hopewells.co.uk/products/brands/ercol-fine-furniture-for-your-home/ercol-bosco-bedroom/ercol-1363-bosco-6-drawer-tall-wide-chest: HTTPSConnectionPool(host='www.hopewells.co.uk', port=443): Read timed out. (read timeout=3)\n",
      "Error processing https://www.hopewells.co.uk/products/brands/ercol-fine-furniture-for-your-home/ercol-bosco-bedroom/ercol-1363-bosco-6-drawer-tall-wide-chest: cannot unpack non-iterable NoneType object\n",
      "Error fetching https://www.hopewells.co.uk/products/brands/ercol-fine-furniture-for-your-home/ercol-bosco-bedroom/ercol-1366-bosco-3-door-wardrobe: HTTPSConnectionPool(host='www.hopewells.co.uk', port=443): Read timed out. (read timeout=3)\n",
      "Error processing https://www.hopewells.co.uk/products/brands/ercol-fine-furniture-for-your-home/ercol-bosco-bedroom/ercol-1366-bosco-3-door-wardrobe: cannot unpack non-iterable NoneType object\n",
      "Error fetching https://www.hopewells.co.uk/products/brands/ercol-fine-furniture-for-your-home/ercol-teramo-bedroom: HTTPSConnectionPool(host='www.hopewells.co.uk', port=443): Read timed out. (read timeout=3)\n",
      "Error processing https://www.hopewells.co.uk/products/brands/ercol-fine-furniture-for-your-home/ercol-teramo-bedroom: cannot unpack non-iterable NoneType object\n"
     ]
    },
    {
     "name": "stderr",
     "output_type": "stream",
     "text": [
      "Processing URLs:   0%|          | 36/30000 [00:04<49:53, 10.01it/s]"
     ]
    },
    {
     "name": "stdout",
     "output_type": "stream",
     "text": [
      "Error fetching https://www.hopewells.co.uk/products/brands/ercol-fine-furniture-for-your-home/ercol-teramo-bedroom/ercol-2681-teramo-kingsize-bed: HTTPSConnectionPool(host='www.hopewells.co.uk', port=443): Read timed out. (read timeout=3)\n",
      "Error processing https://www.hopewells.co.uk/products/brands/ercol-fine-furniture-for-your-home/ercol-teramo-bedroom/ercol-2681-teramo-kingsize-bed: cannot unpack non-iterable NoneType object\n"
     ]
    },
    {
     "name": "stderr",
     "output_type": "stream",
     "text": [
      "Processing URLs:   0%|          | 40/30000 [00:05<1:05:19,  7.64it/s]"
     ]
    },
    {
     "name": "stdout",
     "output_type": "stream",
     "text": [
      "Error fetching https://www.hopewells.co.uk/products/brands/ercol-fine-furniture-for-your-home/ercol-teramo-bedroom/ercol-2684-teramo-7-drawer-tall-wide-chest: HTTPSConnectionPool(host='www.hopewells.co.uk', port=443): Read timed out. (read timeout=3)\n",
      "Error processing https://www.hopewells.co.uk/products/brands/ercol-fine-furniture-for-your-home/ercol-teramo-bedroom/ercol-2684-teramo-7-drawer-tall-wide-chest: cannot unpack non-iterable NoneType object\n"
     ]
    },
    {
     "name": "stderr",
     "output_type": "stream",
     "text": [
      "Processing URLs:   0%|          | 44/30000 [00:05<52:00,  9.60it/s]  "
     ]
    },
    {
     "name": "stdout",
     "output_type": "stream",
     "text": [
      "Error fetching https://www.hopewells.co.uk/products/brands/ercol-fine-furniture-for-your-home/ercol-salina-bedroom: HTTPSConnectionPool(host='www.hopewells.co.uk', port=443): Read timed out. (read timeout=3)\n",
      "Error processing https://www.hopewells.co.uk/products/brands/ercol-fine-furniture-for-your-home/ercol-salina-bedroom: cannot unpack non-iterable NoneType object\n",
      "Error fetching https://www.hopewells.co.uk/products/brands/ercol-fine-furniture-for-your-home/ercol-salina-bedroom/ercol-salina-dressing-table-stool: HTTPSConnectionPool(host='www.hopewells.co.uk', port=443): Read timed out. (read timeout=3)\n",
      "Error processing https://www.hopewells.co.uk/products/brands/ercol-fine-furniture-for-your-home/ercol-salina-bedroom/ercol-salina-dressing-table-stool: cannot unpack non-iterable NoneType object\n"
     ]
    },
    {
     "name": "stderr",
     "output_type": "stream",
     "text": [
      "Processing URLs:   0%|          | 48/30000 [00:06<50:10,  9.95it/s]"
     ]
    },
    {
     "name": "stdout",
     "output_type": "stream",
     "text": [
      "Error fetching https://www.hopewells.co.uk/products/brands/ercol-fine-furniture-for-your-home/ercol-salina-bedroom/ercol-salina-bedside-cabinet: HTTPSConnectionPool(host='www.hopewells.co.uk', port=443): Read timed out. (read timeout=3)\n",
      "Error processing https://www.hopewells.co.uk/products/brands/ercol-fine-furniture-for-your-home/ercol-salina-bedroom/ercol-salina-bedside-cabinet: cannot unpack non-iterable NoneType object\n",
      "Error fetching https://www.hopewells.co.uk/products/brands/ercol-fine-furniture-for-your-home/ercol-salina-bedroom/ercol-salina-8-drawer-tall-chest: HTTPSConnectionPool(host='www.hopewells.co.uk', port=443): Read timed out. (read timeout=3)\n",
      "Error processing https://www.hopewells.co.uk/products/brands/ercol-fine-furniture-for-your-home/ercol-salina-bedroom/ercol-salina-8-drawer-tall-chest: cannot unpack non-iterable NoneType object\n",
      "Error fetching https://www.hopewells.co.uk/products/brands/ercol-fine-furniture-for-your-home/ercol-salina-bedroom/ercol-salina-2-door-wardrobe: HTTPSConnectionPool(host='www.hopewells.co.uk', port=443): Read timed out. (read timeout=3)\n",
      "Error processing https://www.hopewells.co.uk/products/brands/ercol-fine-furniture-for-your-home/ercol-salina-bedroom/ercol-salina-2-door-wardrobe: cannot unpack non-iterable NoneType object\n"
     ]
    },
    {
     "name": "stderr",
     "output_type": "stream",
     "text": [
      "Processing URLs:   0%|          | 52/30000 [00:06<48:29, 10.29it/s]"
     ]
    },
    {
     "name": "stdout",
     "output_type": "stream",
     "text": [
      "Error fetching https://www.hopewells.co.uk/products/brands/ercol-fine-furniture-for-your-home/ercol-salina-bedroom/ercol-salina-dressing-table: HTTPSConnectionPool(host='www.hopewells.co.uk', port=443): Read timed out. (read timeout=3)\n",
      "Error processing https://www.hopewells.co.uk/products/brands/ercol-fine-furniture-for-your-home/ercol-salina-bedroom/ercol-salina-dressing-table: cannot unpack non-iterable NoneType object\n",
      "Error fetching https://www.hopewells.co.uk/products/brands/ercol-fine-furniture-for-your-home/ercol-monza-bedroom/ercol-4183-monza-1-drawer-bedside-cabinet: HTTPSConnectionPool(host='www.hopewells.co.uk', port=443): Read timed out. (read timeout=3)\n",
      "Error processing https://www.hopewells.co.uk/products/brands/ercol-fine-furniture-for-your-home/ercol-monza-bedroom/ercol-4183-monza-1-drawer-bedside-cabinet: cannot unpack non-iterable NoneType object\n",
      "Error fetching https://www.hopewells.co.uk/products/brands/ercol-fine-furniture-for-your-home/ercol-monza-bedroom: HTTPSConnectionPool(host='www.hopewells.co.uk', port=443): Read timed out. (read timeout=3)\n",
      "Error processing https://www.hopewells.co.uk/products/brands/ercol-fine-furniture-for-your-home/ercol-monza-bedroom: cannot unpack non-iterable NoneType object\n",
      "Error fetching https://www.hopewells.co.uk/products/brands/ercol-fine-furniture-for-your-home/ercol-monza-bedroom/ercol-4187-monza-6-drawer-tall-wide-chest: HTTPSConnectionPool(host='www.hopewells.co.uk', port=443): Read timed out. (read timeout=3)\n",
      "Error processing https://www.hopewells.co.uk/products/brands/ercol-fine-furniture-for-your-home/ercol-monza-bedroom/ercol-4187-monza-6-drawer-tall-wide-chest: cannot unpack non-iterable NoneType object\n",
      "Error fetching https://www.hopewells.co.uk/products/beds-bedroom-furniture/bedroom-furniture/wiemann-bedroom-furniture/wiemann-korfu-large-sliding-wardrobe: HTTPSConnectionPool(host='www.hopewells.co.uk', port=443): Read timed out. (read timeout=3)\n",
      "Error processing https://www.hopewells.co.uk/products/beds-bedroom-furniture/bedroom-furniture/wiemann-bedroom-furniture/wiemann-korfu-large-sliding-wardrobe: cannot unpack non-iterable NoneType object\n",
      "Error fetching https://www.hopewells.co.uk/products/beds-bedroom-furniture/bedroom-furniture/wiemann-bedroom-furniture/wiemann-glasgow-slatted-kingsize-bedframe: HTTPSConnectionPool(host='www.hopewells.co.uk', port=443): Read timed out. (read timeout=3)\n",
      "Error processing https://www.hopewells.co.uk/products/beds-bedroom-furniture/bedroom-furniture/wiemann-bedroom-furniture/wiemann-glasgow-slatted-kingsize-bedframe: cannot unpack non-iterable NoneType object\n",
      "Error fetching https://www.hopewells.co.uk/products/beds-bedroom-furniture/bedroom-furniture/wiemann-bedroom-furniture: HTTPSConnectionPool(host='www.hopewells.co.uk', port=443): Read timed out. (read timeout=3)\n",
      "Error processing https://www.hopewells.co.uk/products/beds-bedroom-furniture/bedroom-furniture/wiemann-bedroom-furniture: cannot unpack non-iterable NoneType object\n",
      "Error fetching https://www.hopewells.co.uk/products/beds-bedroom-furniture/bedroom-furniture/wiemann-bedroom-furniture/wiemann-tampa-4-door-wardrobe: HTTPSConnectionPool(host='www.hopewells.co.uk', port=443): Read timed out. (read timeout=3)\n",
      "Error processing https://www.hopewells.co.uk/products/beds-bedroom-furniture/bedroom-furniture/wiemann-bedroom-furniture/wiemann-tampa-4-door-wardrobe: cannot unpack non-iterable NoneType object\n",
      "Error fetching https://www.hopewells.co.uk/products/brands/ercol-fine-furniture-for-your-home/ercol-monza-bedroom/ercol-4189-monza-dressing-table: HTTPSConnectionPool(host='www.hopewells.co.uk', port=443): Read timed out. (read timeout=3)\n",
      "Error processing https://www.hopewells.co.uk/products/brands/ercol-fine-furniture-for-your-home/ercol-monza-bedroom/ercol-4189-monza-dressing-table: cannot unpack non-iterable NoneType object\n",
      "Error fetching https://www.hopewells.co.uk/products/beds-bedroom-furniture/bedroom-furniture/wiemann-bedroom-furniture/wiemann-glasgow-6-door-wardrobe-with-drawers: HTTPSConnectionPool(host='www.hopewells.co.uk', port=443): Read timed out. (read timeout=3)\n",
      "Error processing https://www.hopewells.co.uk/products/beds-bedroom-furniture/bedroom-furniture/wiemann-bedroom-furniture/wiemann-glasgow-6-door-wardrobe-with-drawers: cannot unpack non-iterable NoneType object\n",
      "Error fetching https://www.hopewells.co.uk/products/beds-bedroom-furniture/bedroom-furniture/wiemann-bedroom-furniture/wiemann-cambridge-6-door-wardrobe: HTTPSConnectionPool(host='www.hopewells.co.uk', port=443): Read timed out. (read timeout=3)\n",
      "Error processing https://www.hopewells.co.uk/products/beds-bedroom-furniture/bedroom-furniture/wiemann-bedroom-furniture/wiemann-cambridge-6-door-wardrobe: cannot unpack non-iterable NoneType object\n",
      "Error fetching https://www.hopewells.co.uk/products/brands/ercol-fine-furniture-for-your-home/ercol-monza-bedroom/ercol-4181-monza-kingsize-bed: HTTPSConnectionPool(host='www.hopewells.co.uk', port=443): Read timed out. (read timeout=3)\n",
      "Error processing https://www.hopewells.co.uk/products/brands/ercol-fine-furniture-for-your-home/ercol-monza-bedroom/ercol-4181-monza-kingsize-bed: cannot unpack non-iterable NoneType object\n"
     ]
    },
    {
     "name": "stderr",
     "output_type": "stream",
     "text": [
      "Processing URLs:   0%|          | 65/30000 [00:07<27:57, 17.84it/s]"
     ]
    },
    {
     "name": "stdout",
     "output_type": "stream",
     "text": [
      "Error fetching https://www.hopewells.co.uk/products/beds-bedroom-furniture/bedroom-furniture/wiemann-bedroom-furniture/wiemann-nizza-250cm-sliding-wardrobe: HTTPSConnectionPool(host='www.hopewells.co.uk', port=443): Read timed out. (read timeout=3)\n",
      "Error processing https://www.hopewells.co.uk/products/beds-bedroom-furniture/bedroom-furniture/wiemann-bedroom-furniture/wiemann-nizza-250cm-sliding-wardrobe: cannot unpack non-iterable NoneType object\n"
     ]
    },
    {
     "name": "stderr",
     "output_type": "stream",
     "text": [
      "Processing URLs:   0%|          | 67/30000 [00:07<53:25,  9.34it/s]"
     ]
    },
    {
     "name": "stdout",
     "output_type": "stream",
     "text": [
      "Error fetching https://www.hopewells.co.uk/products/beds-bedroom-furniture/bedroom-furniture/wiemann-bedroom-furniture/wiemann-monaco-3-drawer-bedside-chest: HTTPSConnectionPool(host='www.hopewells.co.uk', port=443): Read timed out. (read timeout=3)\n",
      "Error processing https://www.hopewells.co.uk/products/beds-bedroom-furniture/bedroom-furniture/wiemann-bedroom-furniture/wiemann-monaco-3-drawer-bedside-chest: cannot unpack non-iterable NoneType object\n",
      "Error fetching https://www.hopewells.co.uk/products/beds-bedroom-furniture/bedroom-furniture/wiemann-bedroom-furniture/wiemann-monaco-6-door-hinged-wardrobe-with-drawers: HTTPSConnectionPool(host='www.hopewells.co.uk', port=443): Read timed out. (read timeout=3)\n",
      "Error processing https://www.hopewells.co.uk/products/beds-bedroom-furniture/bedroom-furniture/wiemann-bedroom-furniture/wiemann-monaco-6-door-hinged-wardrobe-with-drawers: cannot unpack non-iterable NoneType object\n",
      "Error fetching https://www.hopewells.co.uk/products/beds-bedroom-furniture/somnus: HTTPSConnectionPool(host='www.hopewells.co.uk', port=443): Read timed out. (read timeout=3)\n",
      "Error processing https://www.hopewells.co.uk/products/beds-bedroom-furniture/somnus: cannot unpack non-iterable NoneType object\n"
     ]
    },
    {
     "name": "stderr",
     "output_type": "stream",
     "text": [
      "Processing URLs:   0%|          | 72/30000 [00:08<57:47,  8.63it/s]  "
     ]
    },
    {
     "name": "stdout",
     "output_type": "stream",
     "text": [
      "Error fetching https://www.hopewells.co.uk/products/beds-bedroom-furniture/bedframes: HTTPSConnectionPool(host='www.hopewells.co.uk', port=443): Read timed out. (read timeout=3)\n",
      "Error processing https://www.hopewells.co.uk/products/beds-bedroom-furniture/bedframes: cannot unpack non-iterable NoneType object\n",
      "Error fetching https://www.hopewells.co.uk/products/beds-bedroom-furniture/bedframes/tubton-king-size-bedframe: HTTPSConnectionPool(host='www.hopewells.co.uk', port=443): Read timed out. (read timeout=3)\n",
      "Error processing https://www.hopewells.co.uk/products/beds-bedroom-furniture/bedframes/tubton-king-size-bedframe: cannot unpack non-iterable NoneType object\n"
     ]
    },
    {
     "name": "stderr",
     "output_type": "stream",
     "text": [
      "Processing URLs:   0%|          | 78/30000 [00:08<37:09, 13.42it/s]"
     ]
    },
    {
     "name": "stdout",
     "output_type": "stream",
     "text": [
      "Error fetching https://www.hopewells.co.uk/products/beds-bedroom-furniture/hypnos-beds: HTTPSConnectionPool(host='www.hopewells.co.uk', port=443): Read timed out. (read timeout=3)\n",
      "Error processing https://www.hopewells.co.uk/products/beds-bedroom-furniture/hypnos-beds: cannot unpack non-iterable NoneType object\n",
      "Error fetching https://www.hopewells.co.uk/products/beds-bedroom-furniture/hypnos-beds/hypnos-saunderton-divan-set: HTTPSConnectionPool(host='www.hopewells.co.uk', port=443): Read timed out. (read timeout=3)\n",
      "Error processing https://www.hopewells.co.uk/products/beds-bedroom-furniture/hypnos-beds/hypnos-saunderton-divan-set: cannot unpack non-iterable NoneType object\n",
      "Error fetching https://www.hopewells.co.uk/products/beds-bedroom-furniture/hypnos-beds/hypnos-saunderton-mattress-only: HTTPSConnectionPool(host='www.hopewells.co.uk', port=443): Read timed out. (read timeout=3)\n",
      "Error processing https://www.hopewells.co.uk/products/beds-bedroom-furniture/hypnos-beds/hypnos-saunderton-mattress-only: cannot unpack non-iterable NoneType object\n",
      "Error fetching https://www.hopewells.co.uk/products/beds-bedroom-furniture/hypnos-beds/hypnos-wool-origins-8-divan-set: HTTPSConnectionPool(host='www.hopewells.co.uk', port=443): Read timed out. (read timeout=3)\n",
      "Error processing https://www.hopewells.co.uk/products/beds-bedroom-furniture/hypnos-beds/hypnos-wool-origins-8-divan-set: cannot unpack non-iterable NoneType object\n"
     ]
    },
    {
     "name": "stderr",
     "output_type": "stream",
     "text": [
      "Processing URLs:   0%|          | 82/30000 [00:09<48:55, 10.19it/s]"
     ]
    },
    {
     "name": "stdout",
     "output_type": "stream",
     "text": [
      "Error fetching https://www.hopewells.co.uk/products/beds-bedroom-furniture/hypnos-beds/hypnos-dunsmore-supreme-mattress-only: HTTPSConnectionPool(host='www.hopewells.co.uk', port=443): Read timed out. (read timeout=3)\n",
      "Error processing https://www.hopewells.co.uk/products/beds-bedroom-furniture/hypnos-beds/hypnos-dunsmore-supreme-mattress-only: cannot unpack non-iterable NoneType object\n"
     ]
    },
    {
     "name": "stderr",
     "output_type": "stream",
     "text": [
      "Processing URLs:   0%|          | 86/30000 [00:09<40:58, 12.17it/s]"
     ]
    },
    {
     "name": "stdout",
     "output_type": "stream",
     "text": [
      "Error fetching https://www.hopewells.co.uk/products/beds-bedroom-furniture/hypnos-beds/hypnos-orthocare-classic-kingsize-divan-mattress: HTTPSConnectionPool(host='www.hopewells.co.uk', port=443): Read timed out. (read timeout=3)\n",
      "Error processing https://www.hopewells.co.uk/products/beds-bedroom-furniture/hypnos-beds/hypnos-orthocare-classic-kingsize-divan-mattress: cannot unpack non-iterable NoneType object\n",
      "Error fetching https://www.hopewells.co.uk/products/beds-bedroom-furniture/hypnos-beds/hypnos-cotton-origins-7: HTTPSConnectionPool(host='www.hopewells.co.uk', port=443): Read timed out. (read timeout=3)\n",
      "Error processing https://www.hopewells.co.uk/products/beds-bedroom-furniture/hypnos-beds/hypnos-cotton-origins-7: cannot unpack non-iterable NoneType object\n",
      "Error fetching https://www.hopewells.co.uk/products/beds-bedroom-furniture/hypnos-beds/hypnos-pillow-top-luxe-divan-set: HTTPSConnectionPool(host='www.hopewells.co.uk', port=443): Read timed out. (read timeout=3)\n",
      "Error processing https://www.hopewells.co.uk/products/beds-bedroom-furniture/hypnos-beds/hypnos-pillow-top-luxe-divan-set: cannot unpack non-iterable NoneType object\n",
      "Error fetching https://www.hopewells.co.uk/products/beds-bedroom-furniture/dunlopillo/dunlopillo-firm-edge-premium-divan: HTTPSConnectionPool(host='www.hopewells.co.uk', port=443): Read timed out. (read timeout=3)\n",
      "Error processing https://www.hopewells.co.uk/products/beds-bedroom-furniture/dunlopillo/dunlopillo-firm-edge-premium-divan: cannot unpack non-iterable NoneType object\n",
      "Error fetching https://www.hopewells.co.uk/products/beds-bedroom-furniture/tempur: HTTPSConnectionPool(host='www.hopewells.co.uk', port=443): Read timed out. (read timeout=3)\n",
      "Error processing https://www.hopewells.co.uk/products/beds-bedroom-furniture/tempur: cannot unpack non-iterable NoneType object\n",
      "Error fetching https://www.hopewells.co.uk/products/beds-bedroom-furniture/dunlopillo/dunlopillo-elite-luxury-mattress: HTTPSConnectionPool(host='www.hopewells.co.uk', port=443): Read timed out. (read timeout=3)\n",
      "Error processing https://www.hopewells.co.uk/products/beds-bedroom-furniture/dunlopillo/dunlopillo-elite-luxury-mattress: cannot unpack non-iterable NoneType object\n",
      "Error fetching https://www.hopewells.co.uk/products/beds-bedroom-furniture/dunlopillo/dunlopillo-elite-relax-mattress: HTTPSConnectionPool(host='www.hopewells.co.uk', port=443): Read timed out. (read timeout=3)\n",
      "Error processing https://www.hopewells.co.uk/products/beds-bedroom-furniture/dunlopillo/dunlopillo-elite-relax-mattress: cannot unpack non-iterable NoneType object\n",
      "Error fetching https://www.hopewells.co.uk/products/beds-bedroom-furniture/dunlopillo/dunlopillo-elite-supreme-mattress: HTTPSConnectionPool(host='www.hopewells.co.uk', port=443): Read timed out. (read timeout=3)\n",
      "Error processing https://www.hopewells.co.uk/products/beds-bedroom-furniture/dunlopillo/dunlopillo-elite-supreme-mattress: cannot unpack non-iterable NoneType object\n",
      "Error fetching https://www.hopewells.co.uk/products/beds-bedroom-furniture/dunlopillo: HTTPSConnectionPool(host='www.hopewells.co.uk', port=443): Read timed out. (read timeout=3)\n",
      "Error processing https://www.hopewells.co.uk/products/beds-bedroom-furniture/dunlopillo: cannot unpack non-iterable NoneType object\n",
      "Error fetching https://www.hopewells.co.uk/products/beds-bedroom-furniture/hypnos-beds/hypnos-pillow-top-luxe-mattress-only: HTTPSConnectionPool(host='www.hopewells.co.uk', port=443): Read timed out. (read timeout=3)\n",
      "Error processing https://www.hopewells.co.uk/products/beds-bedroom-furniture/hypnos-beds/hypnos-pillow-top-luxe-mattress-only: cannot unpack non-iterable NoneType object\n",
      "Error fetching https://www.hopewells.co.uk/products/beds-bedroom-furniture/tempur/tempur-bed-bases/tempur-horton-ottoman-bedframe: HTTPSConnectionPool(host='www.hopewells.co.uk', port=443): Read timed out. (read timeout=3)\n",
      "Error processing https://www.hopewells.co.uk/products/beds-bedroom-furniture/tempur/tempur-bed-bases/tempur-horton-ottoman-bedframe: cannot unpack non-iterable NoneType object\n",
      "Error fetching https://www.hopewells.co.uk/products/beds-bedroom-furniture/tempur/tempur-bed-bases: HTTPSConnectionPool(host='www.hopewells.co.uk', port=443): Read timed out. (read timeout=3)\n",
      "Error processing https://www.hopewells.co.uk/products/beds-bedroom-furniture/tempur/tempur-bed-bases: cannot unpack non-iterable NoneType object\n"
     ]
    },
    {
     "name": "stderr",
     "output_type": "stream",
     "text": [
      "Processing URLs:   0%|          | 97/30000 [00:10<28:25, 17.53it/s]"
     ]
    },
    {
     "name": "stdout",
     "output_type": "stream",
     "text": [
      "Error fetching https://www.hopewells.co.uk/products/beds-bedroom-furniture/tempur/tempur-bed-bases/tempur-arc-adjustable-disc-bed-base: HTTPSConnectionPool(host='www.hopewells.co.uk', port=443): Read timed out. (read timeout=3)\n",
      "Error processing https://www.hopewells.co.uk/products/beds-bedroom-furniture/tempur/tempur-bed-bases/tempur-arc-adjustable-disc-bed-base: cannot unpack non-iterable NoneType object\n"
     ]
    },
    {
     "name": "stderr",
     "output_type": "stream",
     "text": [
      "Processing URLs:   0%|          | 99/30000 [00:11<59:00,  8.44it/s]"
     ]
    },
    {
     "name": "stdout",
     "output_type": "stream",
     "text": [
      "Error fetching https://www.hopewells.co.uk/products/beds-bedroom-furniture/tempur/tempur-bed-bases/tempur-ergo-smart-bed-base: HTTPSConnectionPool(host='www.hopewells.co.uk', port=443): Read timed out. (read timeout=3)\n",
      "Error processing https://www.hopewells.co.uk/products/beds-bedroom-furniture/tempur/tempur-bed-bases/tempur-ergo-smart-bed-base: cannot unpack non-iterable NoneType object\n",
      "Error fetching https://www.hopewells.co.uk/products/beds-bedroom-furniture/tempur/tempur-mattresses/tempur-pro-smartcool-soft-mattress: HTTPSConnectionPool(host='www.hopewells.co.uk', port=443): Read timed out. (read timeout=3)\n",
      "Error processing https://www.hopewells.co.uk/products/beds-bedroom-furniture/tempur/tempur-mattresses/tempur-pro-smartcool-soft-mattress: cannot unpack non-iterable NoneType object\n",
      "Error fetching https://www.hopewells.co.uk/products/beds-bedroom-furniture/tempur/tempur-mattresses: HTTPSConnectionPool(host='www.hopewells.co.uk', port=443): Read timed out. (read timeout=3)\n",
      "Error processing https://www.hopewells.co.uk/products/beds-bedroom-furniture/tempur/tempur-mattresses: cannot unpack non-iterable NoneType object\n"
     ]
    },
    {
     "name": "stderr",
     "output_type": "stream",
     "text": [
      "Processing URLs:   0%|          | 101/30000 [00:11<1:05:17,  7.63it/s]"
     ]
    },
    {
     "name": "stdout",
     "output_type": "stream",
     "text": [
      "Error fetching https://www.hopewells.co.uk/products/beds-bedroom-furniture/tempur/tempur-mattresses/tempur-pro-smartcool-medium-mattress: HTTPSConnectionPool(host='www.hopewells.co.uk', port=443): Read timed out. (read timeout=3)\n",
      "Error processing https://www.hopewells.co.uk/products/beds-bedroom-furniture/tempur/tempur-mattresses/tempur-pro-smartcool-medium-mattress: cannot unpack non-iterable NoneType object\n"
     ]
    },
    {
     "name": "stderr",
     "output_type": "stream",
     "text": [
      "Processing URLs:   0%|          | 106/30000 [00:11<51:59,  9.58it/s]  "
     ]
    },
    {
     "name": "stdout",
     "output_type": "stream",
     "text": [
      "Error fetching https://www.hopewells.co.uk/products/beds-bedroom-furniture/tempur/tempur-mattresses/tempur-pro-smartcool-medium-firm-mattress: HTTPSConnectionPool(host='www.hopewells.co.uk', port=443): Read timed out. (read timeout=3)\n",
      "Error processing https://www.hopewells.co.uk/products/beds-bedroom-furniture/tempur/tempur-mattresses/tempur-pro-smartcool-medium-firm-mattress: cannot unpack non-iterable NoneType object\n",
      "Error fetching https://www.hopewells.co.uk/products/beds-bedroom-furniture/tempur/tempur-mattresses/tempur-pro-plus-smartcool-soft-mattress: HTTPSConnectionPool(host='www.hopewells.co.uk', port=443): Read timed out. (read timeout=3)\n",
      "Error processing https://www.hopewells.co.uk/products/beds-bedroom-furniture/tempur/tempur-mattresses/tempur-pro-plus-smartcool-soft-mattress: cannot unpack non-iterable NoneType object\n",
      "Error fetching https://www.hopewells.co.uk/products/beds-bedroom-furniture/tempur/tempur-mattresses/tempur-pro-plus-smartcool-medium-mattress: HTTPSConnectionPool(host='www.hopewells.co.uk', port=443): Read timed out. (read timeout=3)\n",
      "Error processing https://www.hopewells.co.uk/products/beds-bedroom-furniture/tempur/tempur-mattresses/tempur-pro-plus-smartcool-medium-mattress: cannot unpack non-iterable NoneType object\n"
     ]
    },
    {
     "name": "stderr",
     "output_type": "stream",
     "text": [
      "Processing URLs:   0%|          | 111/30000 [00:12<39:15, 12.69it/s]"
     ]
    },
    {
     "name": "stdout",
     "output_type": "stream",
     "text": [
      "Error fetching https://www.hopewells.co.uk/products/beds-bedroom-furniture/tempur/tempur-mattresses/tempur-pro-luxe-smartcool-soft-mattress: HTTPSConnectionPool(host='www.hopewells.co.uk', port=443): Read timed out. (read timeout=3)\n",
      "Error processing https://www.hopewells.co.uk/products/beds-bedroom-furniture/tempur/tempur-mattresses/tempur-pro-luxe-smartcool-soft-mattress: cannot unpack non-iterable NoneType object\n",
      "Error fetching https://www.hopewells.co.uk/products/beds-bedroom-furniture/tempur/tempur-mattresses/tempur-pro-luxe-smartcool-firm-mattress: HTTPSConnectionPool(host='www.hopewells.co.uk', port=443): Read timed out. (read timeout=3)\n",
      "Error processing https://www.hopewells.co.uk/products/beds-bedroom-furniture/tempur/tempur-mattresses/tempur-pro-luxe-smartcool-firm-mattress: cannot unpack non-iterable NoneType object\n",
      "Error fetching https://www.hopewells.co.uk/products/beds-bedroom-furniture/tempur/tempur-mattresses/stock-offer-tempur-elite-king-size-mattress: HTTPSConnectionPool(host='www.hopewells.co.uk', port=443): Read timed out. (read timeout=3)\n",
      "Error processing https://www.hopewells.co.uk/products/beds-bedroom-furniture/tempur/tempur-mattresses/stock-offer-tempur-elite-king-size-mattress: cannot unpack non-iterable NoneType object\n"
     ]
    },
    {
     "name": "stderr",
     "output_type": "stream",
     "text": [
      "Processing URLs:   0%|          | 113/30000 [00:12<52:03,  9.57it/s]"
     ]
    },
    {
     "name": "stdout",
     "output_type": "stream",
     "text": [
      "Error fetching https://www.hopewells.co.uk/products/beds-bedroom-furniture/tempur/tempur-mattresses/tempur-pro-plus-smartcool-medium-firm-mattress: HTTPSConnectionPool(host='www.hopewells.co.uk', port=443): Read timed out. (read timeout=3)\n",
      "Error processing https://www.hopewells.co.uk/products/beds-bedroom-furniture/tempur/tempur-mattresses/tempur-pro-plus-smartcool-medium-firm-mattress: cannot unpack non-iterable NoneType object\n",
      "Error fetching https://www.hopewells.co.uk/products/living-dining: HTTPSConnectionPool(host='www.hopewells.co.uk', port=443): Read timed out. (read timeout=3)\n",
      "Error processing https://www.hopewells.co.uk/products/living-dining: cannot unpack non-iterable NoneType object\n",
      "Error fetching https://www.hopewells.co.uk/products/living-dining/sofas-chairs: HTTPSConnectionPool(host='www.hopewells.co.uk', port=443): Read timed out. (read timeout=3)\n",
      "Error processing https://www.hopewells.co.uk/products/living-dining/sofas-chairs: cannot unpack non-iterable NoneType object\n"
     ]
    },
    {
     "name": "stderr",
     "output_type": "stream",
     "text": [
      "Processing URLs:   0%|          | 120/30000 [00:13<37:10, 13.40it/s]"
     ]
    },
    {
     "name": "stdout",
     "output_type": "stream",
     "text": [
      "Error fetching https://www.hopewells.co.uk/products/living-dining/sofas-chairs/sofas: HTTPSConnectionPool(host='www.hopewells.co.uk', port=443): Read timed out. (read timeout=3)\n",
      "Error processing https://www.hopewells.co.uk/products/living-dining/sofas-chairs/sofas: cannot unpack non-iterable NoneType object\n",
      "Error fetching https://www.hopewells.co.uk/products/living-dining/sofas-chairs/sofas/octavian-sofa: HTTPSConnectionPool(host='www.hopewells.co.uk', port=443): Read timed out. (read timeout=3)\n",
      "Error processing https://www.hopewells.co.uk/products/living-dining/sofas-chairs/sofas/octavian-sofa: cannot unpack non-iterable NoneType object\n",
      "Failed to retrieve https://www.hopewells.co.uk/products/living-dining/sofas-chairs/sofas/lascoe-grand-corner-combination, Status Code: 404\n",
      "Error processing https://www.hopewells.co.uk/products/living-dining/sofas-chairs/sofas/lascoe-grand-corner-combination: cannot unpack non-iterable NoneType object\n",
      "Error fetching https://www.hopewells.co.uk/products/living-dining/sofas-chairs/sofas/faro-sofa: HTTPSConnectionPool(host='www.hopewells.co.uk', port=443): Read timed out. (read timeout=3)\n",
      "Error processing https://www.hopewells.co.uk/products/living-dining/sofas-chairs/sofas/faro-sofa: cannot unpack non-iterable NoneType object\n",
      "Error fetching https://www.hopewells.co.uk/products/living-dining/sofas-chairs/sofas/saison-corner-sofa-bed: HTTPSConnectionPool(host='www.hopewells.co.uk', port=443): Read timed out. (read timeout=3)\n",
      "Error processing https://www.hopewells.co.uk/products/living-dining/sofas-chairs/sofas/saison-corner-sofa-bed: cannot unpack non-iterable NoneType object\n",
      "Error fetching https://www.hopewells.co.uk/products/living-dining/sofas-chairs/sofas/tremo-corner-sofa-combination: HTTPSConnectionPool(host='www.hopewells.co.uk', port=443): Read timed out. (read timeout=3)\n",
      "Error processing https://www.hopewells.co.uk/products/living-dining/sofas-chairs/sofas/tremo-corner-sofa-combination: cannot unpack non-iterable NoneType object\n",
      "Error fetching https://www.hopewells.co.uk/products/living-dining/sofas-chairs/sofas/spink-edgar-lalique-sofa: HTTPSConnectionPool(host='www.hopewells.co.uk', port=443): Read timed out. (read timeout=3)\n",
      "Error processing https://www.hopewells.co.uk/products/living-dining/sofas-chairs/sofas/spink-edgar-lalique-sofa: cannot unpack non-iterable NoneType object\n",
      "Error fetching https://www.hopewells.co.uk/products/living-dining/sofas-chairs/sofas/chichester-corner-group: HTTPSConnectionPool(host='www.hopewells.co.uk', port=443): Read timed out. (read timeout=3)\n",
      "Error processing https://www.hopewells.co.uk/products/living-dining/sofas-chairs/sofas/chichester-corner-group: cannot unpack non-iterable NoneType object\n",
      "Error fetching https://www.hopewells.co.uk/products/living-dining/sofas-chairs/sofas/hambledon-corner-group: HTTPSConnectionPool(host='www.hopewells.co.uk', port=443): Read timed out. (read timeout=3)\n",
      "Error processing https://www.hopewells.co.uk/products/living-dining/sofas-chairs/sofas/hambledon-corner-group: cannot unpack non-iterable NoneType object\n",
      "Error fetching https://www.hopewells.co.uk/products/living-dining/sofas-chairs/sofas/vivaldi-sofa: HTTPSConnectionPool(host='www.hopewells.co.uk', port=443): Read timed out. (read timeout=3)\n",
      "Error processing https://www.hopewells.co.uk/products/living-dining/sofas-chairs/sofas/vivaldi-sofa: cannot unpack non-iterable NoneType object\n",
      "Error fetching https://www.hopewells.co.uk/products/living-dining/sofas-chairs/sofas/leolux-flint-corner-sofa-group: HTTPSConnectionPool(host='www.hopewells.co.uk', port=443): Read timed out. (read timeout=3)\n",
      "Error processing https://www.hopewells.co.uk/products/living-dining/sofas-chairs/sofas/leolux-flint-corner-sofa-group: cannot unpack non-iterable NoneType object\n",
      "Error fetching https://www.hopewells.co.uk/products/living-dining/sofas-chairs/sofas/spink-edgar-lamour-sofa: HTTPSConnectionPool(host='www.hopewells.co.uk', port=443): Read timed out. (read timeout=3)\n",
      "Error processing https://www.hopewells.co.uk/products/living-dining/sofas-chairs/sofas/spink-edgar-lamour-sofa: cannot unpack non-iterable NoneType object\n",
      "Error fetching https://www.hopewells.co.uk/products/living-dining/sofas-chairs/sofas/maughan-sofa: HTTPSConnectionPool(host='www.hopewells.co.uk', port=443): Read timed out. (read timeout=3)\n",
      "Error processing https://www.hopewells.co.uk/products/living-dining/sofas-chairs/sofas/maughan-sofa: cannot unpack non-iterable NoneType object\n"
     ]
    },
    {
     "name": "stderr",
     "output_type": "stream",
     "text": [
      "Processing URLs:   0%|          | 128/30000 [00:13<25:50, 19.27it/s]"
     ]
    },
    {
     "name": "stdout",
     "output_type": "stream",
     "text": [
      "Error fetching https://www.hopewells.co.uk/products/living-dining/sofas-chairs/sofas/denstone: HTTPSConnectionPool(host='www.hopewells.co.uk', port=443): Read timed out. (read timeout=3)\n",
      "Error processing https://www.hopewells.co.uk/products/living-dining/sofas-chairs/sofas/denstone: cannot unpack non-iterable NoneType object\n",
      "Error fetching https://www.hopewells.co.uk/products/living-dining/sofas-chairs/sofas/bravio: HTTPSConnectionPool(host='www.hopewells.co.uk', port=443): Read timed out. (read timeout=3)\n",
      "Error processing https://www.hopewells.co.uk/products/living-dining/sofas-chairs/sofas/bravio: cannot unpack non-iterable NoneType object\n"
     ]
    },
    {
     "name": "stderr",
     "output_type": "stream",
     "text": [
      "Processing URLs:   0%|          | 131/30000 [00:14<1:01:38,  8.07it/s]"
     ]
    },
    {
     "name": "stdout",
     "output_type": "stream",
     "text": [
      "Error fetching https://www.hopewells.co.uk/products/living-dining/sofas-chairs/sofas/3c-elite-sofa: HTTPSConnectionPool(host='www.hopewells.co.uk', port=443): Read timed out. (read timeout=3)\n",
      "Error processing https://www.hopewells.co.uk/products/living-dining/sofas-chairs/sofas/3c-elite-sofa: cannot unpack non-iterable NoneType object\n",
      "Error fetching https://www.hopewells.co.uk/products/living-dining/sofas-chairs/sofas/ranger-sofa: HTTPSConnectionPool(host='www.hopewells.co.uk', port=443): Read timed out. (read timeout=3)\n",
      "Error processing https://www.hopewells.co.uk/products/living-dining/sofas-chairs/sofas/ranger-sofa: cannot unpack non-iterable NoneType object\n",
      "Error fetching https://www.hopewells.co.uk/products/living-dining/sofas-chairs/sofas/duresta-hoyland-armchair: HTTPSConnectionPool(host='www.hopewells.co.uk', port=443): Read timed out. (read timeout=3)\n",
      "Error processing https://www.hopewells.co.uk/products/living-dining/sofas-chairs/sofas/duresta-hoyland-armchair: cannot unpack non-iterable NoneType object\n"
     ]
    },
    {
     "name": "stderr",
     "output_type": "stream",
     "text": [
      "Processing URLs:   0%|          | 133/30000 [00:14<1:03:58,  7.78it/s]"
     ]
    },
    {
     "name": "stdout",
     "output_type": "stream",
     "text": [
      "Failed to retrieve https://www.hopewells.co.uk/products/living-dining/sofas-chairs/sofas/michael-tyler-monet-chaise-sofa, Status Code: 404\n",
      "Error processing https://www.hopewells.co.uk/products/living-dining/sofas-chairs/sofas/michael-tyler-monet-chaise-sofa: cannot unpack non-iterable NoneType object\n",
      "Error fetching https://www.hopewells.co.uk/products/living-dining/sofas-chairs/sofas/ercol-avanti-grand-sofa: HTTPSConnectionPool(host='www.hopewells.co.uk', port=443): Read timed out. (read timeout=3)\n",
      "Error processing https://www.hopewells.co.uk/products/living-dining/sofas-chairs/sofas/ercol-avanti-grand-sofa: cannot unpack non-iterable NoneType object\n"
     ]
    },
    {
     "name": "stderr",
     "output_type": "stream",
     "text": [
      "Processing URLs:   0%|          | 137/30000 [00:15<59:51,  8.31it/s]  "
     ]
    },
    {
     "name": "stdout",
     "output_type": "stream",
     "text": [
      "Error fetching https://www.hopewells.co.uk/products/living-dining/sofas-chairs/sofas/ercol-avanti-snuggler-chair: HTTPSConnectionPool(host='www.hopewells.co.uk', port=443): Read timed out. (read timeout=3)\n",
      "Error processing https://www.hopewells.co.uk/products/living-dining/sofas-chairs/sofas/ercol-avanti-snuggler-chair: cannot unpack non-iterable NoneType object\n",
      "Error fetching https://www.hopewells.co.uk/products/living-dining/sofas-chairs/sofas/ercol-novara-snuggler-chair: HTTPSConnectionPool(host='www.hopewells.co.uk', port=443): Read timed out. (read timeout=3)\n",
      "Error processing https://www.hopewells.co.uk/products/living-dining/sofas-chairs/sofas/ercol-novara-snuggler-chair: cannot unpack non-iterable NoneType object\n",
      "Error fetching https://www.hopewells.co.uk/products/living-dining/sofas-chairs/sofas/edda-sofa: HTTPSConnectionPool(host='www.hopewells.co.uk', port=443): Read timed out. (read timeout=3)\n",
      "Error processing https://www.hopewells.co.uk/products/living-dining/sofas-chairs/sofas/edda-sofa: cannot unpack non-iterable NoneType object\n",
      "Error fetching https://www.hopewells.co.uk/products/living-dining/sofas-chairs/sofas/michael-tyler-zara: HTTPSConnectionPool(host='www.hopewells.co.uk', port=443): Read timed out. (read timeout=3)\n",
      "Error processing https://www.hopewells.co.uk/products/living-dining/sofas-chairs/sofas/michael-tyler-zara: cannot unpack non-iterable NoneType object\n",
      "Error fetching https://www.hopewells.co.uk/products/living-dining/sofas-chairs/sofas/michael-tyler-elise-corner-sofa-combination: HTTPSConnectionPool(host='www.hopewells.co.uk', port=443): Read timed out. (read timeout=3)\n",
      "Error processing https://www.hopewells.co.uk/products/living-dining/sofas-chairs/sofas/michael-tyler-elise-corner-sofa-combination: cannot unpack non-iterable NoneType object\n"
     ]
    },
    {
     "name": "stderr",
     "output_type": "stream",
     "text": [
      "Processing URLs:   0%|          | 142/30000 [00:15<42:35, 11.68it/s]"
     ]
    },
    {
     "name": "stdout",
     "output_type": "stream",
     "text": [
      "Error fetching https://www.hopewells.co.uk/products/living-dining/sofas-chairs/sofas/calia-italia-karst-sofa: HTTPSConnectionPool(host='www.hopewells.co.uk', port=443): Read timed out. (read timeout=3)\n",
      "Error processing https://www.hopewells.co.uk/products/living-dining/sofas-chairs/sofas/calia-italia-karst-sofa: cannot unpack non-iterable NoneType object\n",
      "Error fetching https://www.hopewells.co.uk/products/living-dining/sofas-chairs/sofas/calia-italia-barbois-sofa: HTTPSConnectionPool(host='www.hopewells.co.uk', port=443): Read timed out. (read timeout=3)\n",
      "Error processing https://www.hopewells.co.uk/products/living-dining/sofas-chairs/sofas/calia-italia-barbois-sofa: cannot unpack non-iterable NoneType object\n",
      "Error fetching https://www.hopewells.co.uk/products/living-dining/sofas-chairs/sofas/calia-italia-recimo-sofa: HTTPSConnectionPool(host='www.hopewells.co.uk', port=443): Read timed out. (read timeout=3)\n",
      "Error processing https://www.hopewells.co.uk/products/living-dining/sofas-chairs/sofas/calia-italia-recimo-sofa: cannot unpack non-iterable NoneType object\n",
      "Error fetching https://www.hopewells.co.uk/products/living-dining/sofas-chairs/sofas/calia-italia-filo-seating-system: HTTPSConnectionPool(host='www.hopewells.co.uk', port=443): Read timed out. (read timeout=3)\n",
      "Error processing https://www.hopewells.co.uk/products/living-dining/sofas-chairs/sofas/calia-italia-filo-seating-system: cannot unpack non-iterable NoneType object\n",
      "Error fetching https://www.hopewells.co.uk/products/living-dining/sofas-chairs/sofas/leolux-enna: HTTPSConnectionPool(host='www.hopewells.co.uk', port=443): Read timed out. (read timeout=3)\n",
      "Error processing https://www.hopewells.co.uk/products/living-dining/sofas-chairs/sofas/leolux-enna: cannot unpack non-iterable NoneType object\n",
      "Error fetching https://www.hopewells.co.uk/products/living-dining/sofas-chairs/sofas/leolux-pulla: HTTPSConnectionPool(host='www.hopewells.co.uk', port=443): Read timed out. (read timeout=3)\n",
      "Error processing https://www.hopewells.co.uk/products/living-dining/sofas-chairs/sofas/leolux-pulla: cannot unpack non-iterable NoneType object\n"
     ]
    },
    {
     "name": "stderr",
     "output_type": "stream",
     "text": [
      "Processing URLs:   0%|          | 148/30000 [00:16<47:21, 10.51it/s]"
     ]
    },
    {
     "name": "stdout",
     "output_type": "stream",
     "text": [
      "Error fetching https://www.hopewells.co.uk/products/living-dining/sofas-chairs/sofas/larsen-sofa: HTTPSConnectionPool(host='www.hopewells.co.uk', port=443): Read timed out. (read timeout=3)\n",
      "Error processing https://www.hopewells.co.uk/products/living-dining/sofas-chairs/sofas/larsen-sofa: cannot unpack non-iterable NoneType object\n",
      "Error fetching https://www.hopewells.co.uk/products/living-dining/sofas-chairs/sofas/hudson-sofa: HTTPSConnectionPool(host='www.hopewells.co.uk', port=443): Read timed out. (read timeout=3)\n",
      "Error processing https://www.hopewells.co.uk/products/living-dining/sofas-chairs/sofas/hudson-sofa: cannot unpack non-iterable NoneType object\n",
      "Error fetching https://www.hopewells.co.uk/products/living-dining/sofas-chairs/sofas/tetrad-dalmore-sofa: HTTPSConnectionPool(host='www.hopewells.co.uk', port=443): Read timed out. (read timeout=3)\n",
      "Error processing https://www.hopewells.co.uk/products/living-dining/sofas-chairs/sofas/tetrad-dalmore-sofa: cannot unpack non-iterable NoneType object\n",
      "Error fetching https://www.hopewells.co.uk/products/living-dining/sofas-chairs/sofas/incanto-tokyo-sofa: HTTPSConnectionPool(host='www.hopewells.co.uk', port=443): Read timed out. (read timeout=3)\n",
      "Error processing https://www.hopewells.co.uk/products/living-dining/sofas-chairs/sofas/incanto-tokyo-sofa: cannot unpack non-iterable NoneType object\n",
      "Error fetching https://www.hopewells.co.uk/products/living-dining/sofas-chairs/sofas/incanto-barcelona-sofa: HTTPSConnectionPool(host='www.hopewells.co.uk', port=443): Read timed out. (read timeout=3)\n",
      "Error processing https://www.hopewells.co.uk/products/living-dining/sofas-chairs/sofas/incanto-barcelona-sofa: cannot unpack non-iterable NoneType object\n"
     ]
    },
    {
     "name": "stderr",
     "output_type": "stream",
     "text": [
      "Processing URLs:   1%|          | 151/30000 [00:16<36:37, 13.59it/s]"
     ]
    },
    {
     "name": "stdout",
     "output_type": "stream",
     "text": [
      "Error fetching https://www.hopewells.co.uk/products/living-dining/sofas-chairs/sofas/jepson-sofa: HTTPSConnectionPool(host='www.hopewells.co.uk', port=443): Read timed out. (read timeout=3)\n",
      "Error processing https://www.hopewells.co.uk/products/living-dining/sofas-chairs/sofas/jepson-sofa: cannot unpack non-iterable NoneType object\n",
      "Error fetching https://www.hopewells.co.uk/products/living-dining/sofas-chairs/sofas/laycott-sofa: HTTPSConnectionPool(host='www.hopewells.co.uk', port=443): Read timed out. (read timeout=3)\n",
      "Error processing https://www.hopewells.co.uk/products/living-dining/sofas-chairs/sofas/laycott-sofa: cannot unpack non-iterable NoneType object\n",
      "Error fetching https://www.hopewells.co.uk/products/living-dining/sofas-chairs/sofas/calia-italia-sabrini: HTTPSConnectionPool(host='www.hopewells.co.uk', port=443): Read timed out. (read timeout=3)\n",
      "Error processing https://www.hopewells.co.uk/products/living-dining/sofas-chairs/sofas/calia-italia-sabrini: cannot unpack non-iterable NoneType object\n",
      "Error fetching https://www.hopewells.co.uk/products/living-dining/sofas-chairs/sofas/incanto-kassie-sofa: HTTPSConnectionPool(host='www.hopewells.co.uk', port=443): Read timed out. (read timeout=3)\n",
      "Error processing https://www.hopewells.co.uk/products/living-dining/sofas-chairs/sofas/incanto-kassie-sofa: cannot unpack non-iterable NoneType object\n",
      "Error fetching https://www.hopewells.co.uk/products/living-dining/sofas-chairs/accent-chairs: HTTPSConnectionPool(host='www.hopewells.co.uk', port=443): Read timed out. (read timeout=3)\n",
      "Error processing https://www.hopewells.co.uk/products/living-dining/sofas-chairs/accent-chairs: cannot unpack non-iterable NoneType object\n",
      "Error fetching https://www.hopewells.co.uk/products/living-dining/sofas-chairs/sofas/calia-italia-gradese-sofa: HTTPSConnectionPool(host='www.hopewells.co.uk', port=443): Read timed out. (read timeout=3)\n",
      "Error processing https://www.hopewells.co.uk/products/living-dining/sofas-chairs/sofas/calia-italia-gradese-sofa: cannot unpack non-iterable NoneType object\n",
      "Error fetching https://www.hopewells.co.uk/products/living-dining/sofas-chairs/sofas/tetrad-walton-sofa: HTTPSConnectionPool(host='www.hopewells.co.uk', port=443): Read timed out. (read timeout=3)\n",
      "Error processing https://www.hopewells.co.uk/products/living-dining/sofas-chairs/sofas/tetrad-walton-sofa: cannot unpack non-iterable NoneType object\n",
      "Error fetching https://www.hopewells.co.uk/products/living-dining/sofas-chairs/sofas/stock-offer-holborn-grand-sofa-footstool: HTTPSConnectionPool(host='www.hopewells.co.uk', port=443): Read timed out. (read timeout=3)\n",
      "Error processing https://www.hopewells.co.uk/products/living-dining/sofas-chairs/sofas/stock-offer-holborn-grand-sofa-footstool: cannot unpack non-iterable NoneType object\n"
     ]
    },
    {
     "name": "stderr",
     "output_type": "stream",
     "text": [
      "Processing URLs:   1%|          | 159/30000 [00:16<25:26, 19.55it/s]"
     ]
    },
    {
     "name": "stdout",
     "output_type": "stream",
     "text": [
      "Error fetching https://www.hopewells.co.uk/products/living-dining/sofas-chairs/accent-chairs/conran-armchair: HTTPSConnectionPool(host='www.hopewells.co.uk', port=443): Read timed out. (read timeout=3)\n",
      "Error processing https://www.hopewells.co.uk/products/living-dining/sofas-chairs/accent-chairs/conran-armchair: cannot unpack non-iterable NoneType object\n",
      "Error fetching https://www.hopewells.co.uk/products/living-dining/sofas-chairs/sofas/stripes-chaise-sofa: HTTPSConnectionPool(host='www.hopewells.co.uk', port=443): Read timed out. (read timeout=3)\n",
      "Error processing https://www.hopewells.co.uk/products/living-dining/sofas-chairs/sofas/stripes-chaise-sofa: cannot unpack non-iterable NoneType object\n",
      "Error fetching https://www.hopewells.co.uk/products/living-dining/sofas-chairs/accent-chairs/leolux-pallone-design-armchair: HTTPSConnectionPool(host='www.hopewells.co.uk', port=443): Read timed out. (read timeout=3)\n",
      "Error processing https://www.hopewells.co.uk/products/living-dining/sofas-chairs/accent-chairs/leolux-pallone-design-armchair: cannot unpack non-iterable NoneType object\n"
     ]
    },
    {
     "name": "stderr",
     "output_type": "stream",
     "text": [
      "Processing URLs:   1%|          | 162/30000 [00:17<1:03:20,  7.85it/s]"
     ]
    },
    {
     "name": "stdout",
     "output_type": "stream",
     "text": [
      "Error fetching https://www.hopewells.co.uk/products/living-dining/sofas-chairs/accent-chairs/gina-armchair: HTTPSConnectionPool(host='www.hopewells.co.uk', port=443): Read timed out. (read timeout=3)\n",
      "Error processing https://www.hopewells.co.uk/products/living-dining/sofas-chairs/accent-chairs/gina-armchair: cannot unpack non-iterable NoneType object\n",
      "Error fetching https://www.hopewells.co.uk/products/living-dining/sofas-chairs/accent-chairs/uma-armchair: HTTPSConnectionPool(host='www.hopewells.co.uk', port=443): Read timed out. (read timeout=3)\n",
      "Error processing https://www.hopewells.co.uk/products/living-dining/sofas-chairs/accent-chairs/uma-armchair: cannot unpack non-iterable NoneType object\n",
      "Error fetching https://www.hopewells.co.uk/products/living-dining/sofas-chairs/accent-chairs/woodstock-armchair: HTTPSConnectionPool(host='www.hopewells.co.uk', port=443): Read timed out. (read timeout=3)\n",
      "Error processing https://www.hopewells.co.uk/products/living-dining/sofas-chairs/accent-chairs/woodstock-armchair: cannot unpack non-iterable NoneType object\n"
     ]
    },
    {
     "name": "stderr",
     "output_type": "stream",
     "text": [
      "Processing URLs:   1%|          | 165/30000 [00:17<1:00:32,  8.21it/s]"
     ]
    },
    {
     "name": "stdout",
     "output_type": "stream",
     "text": [
      "Error fetching https://www.hopewells.co.uk/products/living-dining/sofas-chairs/accent-chairs/leolux-caruzzo-swivel-chair: HTTPSConnectionPool(host='www.hopewells.co.uk', port=443): Read timed out. (read timeout=3)\n",
      "Error processing https://www.hopewells.co.uk/products/living-dining/sofas-chairs/accent-chairs/leolux-caruzzo-swivel-chair: cannot unpack non-iterable NoneType object\n",
      "Error fetching https://www.hopewells.co.uk/products/living-dining/sofas-chairs/accent-chairs/leolux-parabolica-swivel-chair: HTTPSConnectionPool(host='www.hopewells.co.uk', port=443): Read timed out. (read timeout=3)\n",
      "Error processing https://www.hopewells.co.uk/products/living-dining/sofas-chairs/accent-chairs/leolux-parabolica-swivel-chair: cannot unpack non-iterable NoneType object\n"
     ]
    },
    {
     "name": "stderr",
     "output_type": "stream",
     "text": [
      "Processing URLs:   1%|          | 169/30000 [00:18<57:52,  8.59it/s]  "
     ]
    },
    {
     "name": "stdout",
     "output_type": "stream",
     "text": [
      "Error fetching https://www.hopewells.co.uk/products/living-dining/sofas-chairs/accent-chairs/natuzzi-editions-atlanta-accent-chair: HTTPSConnectionPool(host='www.hopewells.co.uk', port=443): Read timed out. (read timeout=3)\n",
      "Error processing https://www.hopewells.co.uk/products/living-dining/sofas-chairs/accent-chairs/natuzzi-editions-atlanta-accent-chair: cannot unpack non-iterable NoneType object\n",
      "Error fetching https://www.hopewells.co.uk/products/living-dining/sofas-chairs/accent-chairs/calia-italia-trig-accent-chair: HTTPSConnectionPool(host='www.hopewells.co.uk', port=443): Read timed out. (read timeout=3)\n",
      "Error processing https://www.hopewells.co.uk/products/living-dining/sofas-chairs/accent-chairs/calia-italia-trig-accent-chair: cannot unpack non-iterable NoneType object\n",
      "Error fetching https://www.hopewells.co.uk/products/living-dining/sofas-chairs/accent-chairs/calia-italia-spin-accent-chair: HTTPSConnectionPool(host='www.hopewells.co.uk', port=443): Read timed out. (read timeout=3)\n",
      "Error processing https://www.hopewells.co.uk/products/living-dining/sofas-chairs/accent-chairs/calia-italia-spin-accent-chair: cannot unpack non-iterable NoneType object\n",
      "Error fetching https://www.hopewells.co.uk/products/living-dining/sofas-chairs/accent-chairs/3c-ivy-wing-chair: HTTPSConnectionPool(host='www.hopewells.co.uk', port=443): Read timed out. (read timeout=3)\n",
      "Error processing https://www.hopewells.co.uk/products/living-dining/sofas-chairs/accent-chairs/3c-ivy-wing-chair: cannot unpack non-iterable NoneType object\n"
     ]
    },
    {
     "name": "stderr",
     "output_type": "stream",
     "text": [
      "Processing URLs:   1%|          | 173/30000 [00:18<43:28, 11.44it/s]"
     ]
    },
    {
     "name": "stdout",
     "output_type": "stream",
     "text": [
      "Error fetching https://www.hopewells.co.uk/products/living-dining/sofas-chairs/accent-chairs/tetrad-yale-armchair: HTTPSConnectionPool(host='www.hopewells.co.uk', port=443): Read timed out. (read timeout=3)\n",
      "Error processing https://www.hopewells.co.uk/products/living-dining/sofas-chairs/accent-chairs/tetrad-yale-armchair: cannot unpack non-iterable NoneType object\n",
      "Error fetching https://www.hopewells.co.uk/products/living-dining/sofas-chairs/accent-chairs/calia-italia-lyle-accent-chair: HTTPSConnectionPool(host='www.hopewells.co.uk', port=443): Read timed out. (read timeout=3)\n",
      "Error processing https://www.hopewells.co.uk/products/living-dining/sofas-chairs/accent-chairs/calia-italia-lyle-accent-chair: cannot unpack non-iterable NoneType object\n",
      "Error fetching https://www.hopewells.co.uk/products/living-dining/sofas-chairs/accent-chairs/calia-italia-joseph-chair: HTTPSConnectionPool(host='www.hopewells.co.uk', port=443): Read timed out. (read timeout=3)\n",
      "Error processing https://www.hopewells.co.uk/products/living-dining/sofas-chairs/accent-chairs/calia-italia-joseph-chair: cannot unpack non-iterable NoneType object\n",
      "Error fetching https://www.hopewells.co.uk/products/living-dining/sofas-chairs/tetrad-nevis-sofa: HTTPSConnectionPool(host='www.hopewells.co.uk', port=443): Read timed out. (read timeout=3)\n",
      "Error processing https://www.hopewells.co.uk/products/living-dining/sofas-chairs/tetrad-nevis-sofa: cannot unpack non-iterable NoneType object\n"
     ]
    },
    {
     "name": "stderr",
     "output_type": "stream",
     "text": [
      "Processing URLs:   1%|          | 177/30000 [00:19<49:53,  9.96it/s]"
     ]
    },
    {
     "name": "stdout",
     "output_type": "stream",
     "text": [
      "Error fetching https://www.hopewells.co.uk/products/living-dining/sofas-chairs/hugo-chaise-sofa: HTTPSConnectionPool(host='www.hopewells.co.uk', port=443): Read timed out. (read timeout=3)\n",
      "Error processing https://www.hopewells.co.uk/products/living-dining/sofas-chairs/hugo-chaise-sofa: cannot unpack non-iterable NoneType object\n",
      "Error fetching https://www.hopewells.co.uk/products/living-dining/sofas-chairs/calia-italia-samba: HTTPSConnectionPool(host='www.hopewells.co.uk', port=443): Read timed out. (read timeout=3)\n",
      "Error processing https://www.hopewells.co.uk/products/living-dining/sofas-chairs/calia-italia-samba: cannot unpack non-iterable NoneType object\n",
      "Error fetching https://www.hopewells.co.uk/products/living-dining/dining-furniture: HTTPSConnectionPool(host='www.hopewells.co.uk', port=443): Read timed out. (read timeout=3)\n",
      "Error processing https://www.hopewells.co.uk/products/living-dining/dining-furniture: cannot unpack non-iterable NoneType object\n"
     ]
    },
    {
     "name": "stderr",
     "output_type": "stream",
     "text": [
      "Processing URLs:   1%|          | 179/30000 [00:19<54:02,  9.20it/s]"
     ]
    },
    {
     "name": "stdout",
     "output_type": "stream",
     "text": [
      "Error fetching https://www.hopewells.co.uk/products/living-dining/dining-furniture/dining-tables: HTTPSConnectionPool(host='www.hopewells.co.uk', port=443): Read timed out. (read timeout=3)\n",
      "Error processing https://www.hopewells.co.uk/products/living-dining/dining-furniture/dining-tables: cannot unpack non-iterable NoneType object\n",
      "Error fetching https://www.hopewells.co.uk/products/living-dining/dining-furniture/dining-tables/skovby-sm106-plank-table: HTTPSConnectionPool(host='www.hopewells.co.uk', port=443): Read timed out. (read timeout=3)\n",
      "Error processing https://www.hopewells.co.uk/products/living-dining/dining-furniture/dining-tables/skovby-sm106-plank-table: cannot unpack non-iterable NoneType object\n",
      "Error fetching https://www.hopewells.co.uk/products/living-dining/dining-furniture/dining-tables/skovby-sm38-dining-table: HTTPSConnectionPool(host='www.hopewells.co.uk', port=443): Read timed out. (read timeout=3)\n",
      "Error processing https://www.hopewells.co.uk/products/living-dining/dining-furniture/dining-tables/skovby-sm38-dining-table: cannot unpack non-iterable NoneType object\n",
      "Error fetching https://www.hopewells.co.uk/products/living-dining/dining-furniture/dining-tables/tortion-extending-dining-table: HTTPSConnectionPool(host='www.hopewells.co.uk', port=443): Read timed out. (read timeout=3)\n",
      "Error processing https://www.hopewells.co.uk/products/living-dining/dining-furniture/dining-tables/tortion-extending-dining-table: cannot unpack non-iterable NoneType object\n",
      "Error fetching https://www.hopewells.co.uk/products/living-dining/dining-furniture/dining-tables/linate-high-bar-table: HTTPSConnectionPool(host='www.hopewells.co.uk', port=443): Read timed out. (read timeout=3)\n",
      "Error processing https://www.hopewells.co.uk/products/living-dining/dining-furniture/dining-tables/linate-high-bar-table: cannot unpack non-iterable NoneType object\n"
     ]
    },
    {
     "name": "stderr",
     "output_type": "stream",
     "text": [
      "Processing URLs:   1%|          | 186/30000 [00:19<32:14, 15.42it/s]"
     ]
    },
    {
     "name": "stdout",
     "output_type": "stream",
     "text": [
      "Error fetching https://www.hopewells.co.uk/products/living-dining/dining-furniture/dining-chairs: HTTPSConnectionPool(host='www.hopewells.co.uk', port=443): Read timed out. (read timeout=3)\n",
      "Error processing https://www.hopewells.co.uk/products/living-dining/dining-furniture/dining-chairs: cannot unpack non-iterable NoneType object\n",
      "Error fetching https://www.hopewells.co.uk/products/living-dining/dining-furniture/dining-chairs/chloe-dining-table-chairs: HTTPSConnectionPool(host='www.hopewells.co.uk', port=443): Read timed out. (read timeout=3)\n",
      "Error processing https://www.hopewells.co.uk/products/living-dining/dining-furniture/dining-chairs/chloe-dining-table-chairs: cannot unpack non-iterable NoneType object\n",
      "Error fetching https://www.hopewells.co.uk/products/living-dining/dining-furniture/dining-chairs/huran-dining-chair: HTTPSConnectionPool(host='www.hopewells.co.uk', port=443): Read timed out. (read timeout=3)\n",
      "Error processing https://www.hopewells.co.uk/products/living-dining/dining-furniture/dining-chairs/huran-dining-chair: cannot unpack non-iterable NoneType object\n",
      "Error fetching https://www.hopewells.co.uk/products/living-dining/dining-furniture/dining-tables/ercol-1380-bosco-medium-extending-dining-table: HTTPSConnectionPool(host='www.hopewells.co.uk', port=443): Read timed out. (read timeout=3)\n",
      "Error processing https://www.hopewells.co.uk/products/living-dining/dining-furniture/dining-tables/ercol-1380-bosco-medium-extending-dining-table: cannot unpack non-iterable NoneType object\n",
      "Error fetching https://www.hopewells.co.uk/products/brands/ercol-fine-furniture-for-your-home/ercol-bosco-dining/ercol-1385-bosco-large-sideboard: HTTPSConnectionPool(host='www.hopewells.co.uk', port=443): Read timed out. (read timeout=3)\n",
      "Error processing https://www.hopewells.co.uk/products/brands/ercol-fine-furniture-for-your-home/ercol-bosco-dining/ercol-1385-bosco-large-sideboard: cannot unpack non-iterable NoneType object\n",
      "Error fetching https://www.hopewells.co.uk/products/brands/ercol-fine-furniture-for-your-home/ercol-bosco-dining/ercol-1384-bosco-small-sideboard: HTTPSConnectionPool(host='www.hopewells.co.uk', port=443): Read timed out. (read timeout=3)\n",
      "Error processing https://www.hopewells.co.uk/products/brands/ercol-fine-furniture-for-your-home/ercol-bosco-dining/ercol-1384-bosco-small-sideboard: cannot unpack non-iterable NoneType object\n",
      "Error fetching https://www.hopewells.co.uk/products/brands/ercol-fine-furniture-for-your-home/ercol-bosco-dining: HTTPSConnectionPool(host='www.hopewells.co.uk', port=443): Read timed out. (read timeout=3)\n",
      "Error processing https://www.hopewells.co.uk/products/brands/ercol-fine-furniture-for-your-home/ercol-bosco-dining: cannot unpack non-iterable NoneType object\n",
      "Error fetching https://www.hopewells.co.uk/products/living-dining/dining-furniture/dining-chairs/ercol-1383c-bosco-dining-chair-cream-fabric: HTTPSConnectionPool(host='www.hopewells.co.uk', port=443): Read timed out. (read timeout=3)\n",
      "Error processing https://www.hopewells.co.uk/products/living-dining/dining-furniture/dining-chairs/ercol-1383c-bosco-dining-chair-cream-fabric: cannot unpack non-iterable NoneType object\n"
     ]
    },
    {
     "name": "stderr",
     "output_type": "stream",
     "text": [
      "Processing URLs:   1%|          | 191/30000 [00:19<27:06, 18.33it/s]"
     ]
    },
    {
     "name": "stdout",
     "output_type": "stream",
     "text": [
      "Error fetching https://www.hopewells.co.uk/products/brands/ercol-fine-furniture-for-your-home/ercol-bosco-dining/ercol-1393-bosco-display-cabinet: HTTPSConnectionPool(host='www.hopewells.co.uk', port=443): Read timed out. (read timeout=3)\n",
      "Error processing https://www.hopewells.co.uk/products/brands/ercol-fine-furniture-for-your-home/ercol-bosco-dining/ercol-1393-bosco-display-cabinet: cannot unpack non-iterable NoneType object\n",
      "Error fetching https://www.hopewells.co.uk/products/brands/ercol-fine-furniture-for-your-home/ercol-bosco-dining/ercol-1395-bosco-tv-unit: HTTPSConnectionPool(host='www.hopewells.co.uk', port=443): Read timed out. (read timeout=3)\n",
      "Error processing https://www.hopewells.co.uk/products/brands/ercol-fine-furniture-for-your-home/ercol-bosco-dining/ercol-1395-bosco-tv-unit: cannot unpack non-iterable NoneType object\n",
      "Error fetching https://www.hopewells.co.uk/products/brands/ercol-fine-furniture-for-your-home/ercol-bosco-dining/ercol-1398-bosco-small-extending-dining-table: HTTPSConnectionPool(host='www.hopewells.co.uk', port=443): Read timed out. (read timeout=3)\n",
      "Error processing https://www.hopewells.co.uk/products/brands/ercol-fine-furniture-for-your-home/ercol-bosco-dining/ercol-1398-bosco-small-extending-dining-table: cannot unpack non-iterable NoneType object\n"
     ]
    },
    {
     "name": "stderr",
     "output_type": "stream",
     "text": [
      "Processing URLs:   1%|          | 201/30000 [00:20<39:03, 12.72it/s]  "
     ]
    },
    {
     "name": "stdout",
     "output_type": "stream",
     "text": [
      "Failed to retrieve https://www.hopewells.co.uk/products/brands/ercol-fine-furniture-for-your-home/ercol-lugo/ercol-lugo-coffee-table, Status Code: 404\n",
      "Error processing https://www.hopewells.co.uk/products/brands/ercol-fine-furniture-for-your-home/ercol-lugo/ercol-lugo-coffee-table: cannot unpack non-iterable NoneType object\n",
      "Error processing https://www.hopewells.co.uk/products/brands/ercol-fine-furniture-for-your-home/ercol-romana-dining/ercol-2648-romana-large-sideboard: cannot unpack non-iterable NoneType object\n",
      "Error processing https://www.hopewells.co.uk/products/living-dining/dining-furniture/dining-tables/ercol-2642-romana-large-extending-dining-table: cannot unpack non-iterable NoneType object\n",
      "Error fetching https://www.hopewells.co.uk/products/brands/ercol-fine-furniture-for-your-home/ercol-bosco-dining/ercol-1399-bosco-nest-of-tables: HTTPSConnectionPool(host='www.hopewells.co.uk', port=443): Read timed out. (read timeout=3)\n",
      "Error processing https://www.hopewells.co.uk/products/brands/ercol-fine-furniture-for-your-home/ercol-bosco-dining/ercol-1399-bosco-nest-of-tables: cannot unpack non-iterable NoneType object\n",
      "Error fetching https://www.hopewells.co.uk/products/brands/ercol-fine-furniture-for-your-home/ercol-lugo: HTTPSConnectionPool(host='www.hopewells.co.uk', port=443): Read timed out. (read timeout=3)\n",
      "Error processing https://www.hopewells.co.uk/products/brands/ercol-fine-furniture-for-your-home/ercol-lugo: cannot unpack non-iterable NoneType object\n",
      "Error processing https://www.hopewells.co.uk/products/brands/ercol-fine-furniture-for-your-home/ercol-romana-dining/ercol-2646-romana-small-sideboard: cannot unpack non-iterable NoneType object\n",
      "Error processing https://www.hopewells.co.uk/products/brands/ercol-fine-furniture-for-your-home/ercol-teramo-dining: cannot unpack non-iterable NoneType object\n",
      "Error fetching https://www.hopewells.co.uk/products/brands/ercol-fine-furniture-for-your-home/ercol-bosco-dining/ercol-1379-bosco-low-bookcase: HTTPSConnectionPool(host='www.hopewells.co.uk', port=443): Read timed out. (read timeout=3)\n",
      "Error processing https://www.hopewells.co.uk/products/brands/ercol-fine-furniture-for-your-home/ercol-bosco-dining/ercol-1379-bosco-low-bookcase: cannot unpack non-iterable NoneType object\n",
      "Error processing https://www.hopewells.co.uk/products/brands/ercol-fine-furniture-for-your-home/ercol-romana-dining/ercol-2647-romana-2-door-sideboard: cannot unpack non-iterable NoneType object\n"
     ]
    },
    {
     "name": "stderr",
     "output_type": "stream",
     "text": [
      "Processing URLs:   1%|          | 210/30000 [00:21<25:42, 19.31it/s]"
     ]
    },
    {
     "name": "stdout",
     "output_type": "stream",
     "text": [
      "Error processing https://www.hopewells.co.uk/products/living-dining/dining-furniture/dining-tables/ercol-3660-teramo-small-extending-dining-table: cannot unpack non-iterable NoneType object\n",
      "Error processing https://www.hopewells.co.uk/products/living-dining/dining-furniture/dining-chairs/ercol-2643-romana-dining-chair: cannot unpack non-iterable NoneType object\n",
      "Error processing https://www.hopewells.co.uk/products/brands/ercol-fine-furniture-for-your-home/ercol-teramo-dining/ercol-3667-teramo-tv-unit: cannot unpack non-iterable NoneType object\n",
      "Error processing https://www.hopewells.co.uk/products/brands/ercol-fine-furniture-for-your-home/ercol-romana-dining/ercol-2649-romana-coffee-table: cannot unpack non-iterable NoneType object\n",
      "Error processing https://www.hopewells.co.uk/products/living-dining/dining-furniture/dining-tables/ercol-3661-teramo-medium-extending-dining-table: cannot unpack non-iterable NoneType object\n",
      "Error processing https://www.hopewells.co.uk/products/living-dining/dining-furniture/dining-chairs/ercol-3662-teramo-dining-chair: cannot unpack non-iterable NoneType object\n",
      "Error processing https://www.hopewells.co.uk/products/brands/ercol-fine-furniture-for-your-home/ercol-teramo-dining/ercol-2689-teramo-compact-side-table: cannot unpack non-iterable NoneType object\n",
      "Error processing https://www.hopewells.co.uk/products/brands/ercol-fine-furniture-for-your-home/ercol-teramo-dining/ercol-3665-teramo-large-sideboard: cannot unpack non-iterable NoneType object\n",
      "Error processing https://www.hopewells.co.uk/products/living-dining/dining-furniture/dining-chairs/ercol-2644-romana-padded-back-dining-chair: cannot unpack non-iterable NoneType object\n",
      "Error processing https://www.hopewells.co.uk/products/brands/ercol-fine-furniture-for-your-home/ercol-romana-dining/ercol-2655-romana-wide-ir-tv-unit: cannot unpack non-iterable NoneType object\n"
     ]
    },
    {
     "name": "stderr",
     "output_type": "stream",
     "text": [
      "Processing URLs:   1%|          | 215/30000 [00:21<22:10, 22.38it/s]"
     ]
    },
    {
     "name": "stdout",
     "output_type": "stream",
     "text": [
      "Error processing https://www.hopewells.co.uk/products/brands/ercol-fine-furniture-for-your-home/ercol-romana-dining/ercol-2651-romana-ir-tv-unit: cannot unpack non-iterable NoneType object\n",
      "Error processing https://www.hopewells.co.uk/products/brands/ercol-fine-furniture-for-your-home/ercol-romana-dining/ercol-2650-romana-lamp-table: cannot unpack non-iterable NoneType object\n",
      "Error fetching https://www.hopewells.co.uk/products/living-dining/dining-furniture/dining-chairs/ercol-lugo-dining-armchair: HTTPSConnectionPool(host='www.hopewells.co.uk', port=443): Read timed out. (read timeout=3)\n",
      "Error processing https://www.hopewells.co.uk/products/living-dining/dining-furniture/dining-chairs/ercol-lugo-dining-armchair: cannot unpack non-iterable NoneType object\n",
      "Error processing https://www.hopewells.co.uk/products/brands/ercol-fine-furniture-for-your-home/ercol-teramo-dining/ercol-3664-teramo-small-sideboard: cannot unpack non-iterable NoneType object\n"
     ]
    },
    {
     "name": "stderr",
     "output_type": "stream",
     "text": [
      "Processing URLs:   1%|          | 219/30000 [00:21<25:08, 19.75it/s]"
     ]
    },
    {
     "name": "stdout",
     "output_type": "stream",
     "text": [
      "Error processing https://www.hopewells.co.uk/products/brands/ercol-fine-furniture-for-your-home/ercol-romana-dining/ercol-2653-romana-highboard: cannot unpack non-iterable NoneType object\n",
      "Error fetching https://www.hopewells.co.uk/products/brands/ercol-fine-furniture-for-your-home/ercol-lugo/ercol-lugo-large-sideboard: HTTPSConnectionPool(host='www.hopewells.co.uk', port=443): Read timed out. (read timeout=3)\n",
      "Error processing https://www.hopewells.co.uk/products/brands/ercol-fine-furniture-for-your-home/ercol-lugo/ercol-lugo-large-sideboard: cannot unpack non-iterable NoneType object\n",
      "Error processing https://www.hopewells.co.uk/products/living-dining/dining-furniture/dining-tables/ercol-1194-windsor-large-extending-dining-table: cannot unpack non-iterable NoneType object\n",
      "Error fetching https://www.hopewells.co.uk/products/living-dining/dining-furniture/dining-tables/ercol-lugo-medium-extending-table: HTTPSConnectionPool(host='www.hopewells.co.uk', port=443): Read timed out. (read timeout=3)\n",
      "Error processing https://www.hopewells.co.uk/products/living-dining/dining-furniture/dining-tables/ercol-lugo-medium-extending-table: cannot unpack non-iterable NoneType object\n",
      "Error fetching https://www.hopewells.co.uk/products/living-dining/dining-furniture/dining-tables/ercol-lugo-small-dining-table: HTTPSConnectionPool(host='www.hopewells.co.uk', port=443): Read timed out. (read timeout=3)\n",
      "Error processing https://www.hopewells.co.uk/products/living-dining/dining-furniture/dining-tables/ercol-lugo-small-dining-table: cannot unpack non-iterable NoneType object\n",
      "Error fetching https://www.hopewells.co.uk/products/brands/ercol-fine-furniture-for-your-home/ercol-lugo/ercol-lugo-side-table: HTTPSConnectionPool(host='www.hopewells.co.uk', port=443): Read timed out. (read timeout=3)\n",
      "Error processing https://www.hopewells.co.uk/products/brands/ercol-fine-furniture-for-your-home/ercol-lugo/ercol-lugo-side-table: cannot unpack non-iterable NoneType object\n",
      "Error fetching https://www.hopewells.co.uk/products/brands/ercol-fine-furniture-for-your-home/ercol-lugo/ercol-lugo-shelving-unit: HTTPSConnectionPool(host='www.hopewells.co.uk', port=443): Read timed out. (read timeout=3)\n",
      "Error processing https://www.hopewells.co.uk/products/brands/ercol-fine-furniture-for-your-home/ercol-lugo/ercol-lugo-shelving-unit: cannot unpack non-iterable NoneType object\n"
     ]
    },
    {
     "name": "stderr",
     "output_type": "stream",
     "text": [
      "Processing URLs:   1%|          | 231/30000 [00:21<15:25, 32.15it/s]"
     ]
    },
    {
     "name": "stdout",
     "output_type": "stream",
     "text": [
      "Error processing https://www.hopewells.co.uk/products/brands/ercol-fine-furniture-for-your-home/ercol-windsor-dining/ercol-3831-windsor-wide-ir-tv-unit: cannot unpack non-iterable NoneType object\n",
      "Error processing https://www.hopewells.co.uk/products/brands/ercol-fine-furniture-for-your-home/ercol-windsor-dining/ercol-1159-windsor-nest-of-tables: cannot unpack non-iterable NoneType object\n",
      "Error processing https://www.hopewells.co.uk/products/brands/ercol-fine-furniture-for-your-home/ercol-windsor-dining/ercol-3822-windsor-3-door-high-sideboard: cannot unpack non-iterable NoneType object\n",
      "Error processing https://www.hopewells.co.uk/products/brands/ercol-fine-furniture-for-your-home/ercol-windsor-dining/ercol-1156-windsor-gate-leg-table: cannot unpack non-iterable NoneType object\n",
      "Error fetching https://www.hopewells.co.uk/products/brands/ercol-fine-furniture-for-your-home/ercol-romana-dining: HTTPSConnectionPool(host='www.hopewells.co.uk', port=443): Read timed out. (read timeout=3)\n",
      "Error processing https://www.hopewells.co.uk/products/brands/ercol-fine-furniture-for-your-home/ercol-romana-dining: cannot unpack non-iterable NoneType object\n",
      "Error processing https://www.hopewells.co.uk/products/brands/ercol-fine-furniture-for-your-home/ercol-windsor-dining/ercol-3821-windsor-2-door-high-sideboard: cannot unpack non-iterable NoneType object\n",
      "Error processing https://www.hopewells.co.uk/products/brands/ercol-fine-furniture-for-your-home/ercol-windsor-dining/ercol-3832-windsor-tv-unit: cannot unpack non-iterable NoneType object\n",
      "Error processing https://www.hopewells.co.uk/products/brands/ercol-fine-furniture-for-your-home/ercol-windsor-dining/ercol-3833-windsor-corner-tv-unit: cannot unpack non-iterable NoneType object\n",
      "Error processing https://www.hopewells.co.uk/products/brands/ercol-fine-furniture-for-your-home/ercol-windsor-dining/ercol-3840-windsor-small-bookcase: cannot unpack non-iterable NoneType object\n",
      "Error fetching https://www.hopewells.co.uk/products/living-dining/dining-furniture/dining-tables/ercol-2640-romana-small-extending-dining-table: HTTPSConnectionPool(host='www.hopewells.co.uk', port=443): Read timed out. (read timeout=3)\n",
      "Error processing https://www.hopewells.co.uk/products/living-dining/dining-furniture/dining-tables/ercol-2640-romana-small-extending-dining-table: cannot unpack non-iterable NoneType object\n"
     ]
    },
    {
     "name": "stderr",
     "output_type": "stream",
     "text": [
      "Processing URLs:   1%|          | 236/30000 [00:21<15:25, 32.16it/s]"
     ]
    },
    {
     "name": "stdout",
     "output_type": "stream",
     "text": [
      "Error fetching https://www.hopewells.co.uk/products/living-dining/dining-furniture/dining-tables/ercol-2641-romana-medium-extending-dining-table: HTTPSConnectionPool(host='www.hopewells.co.uk', port=443): Read timed out. (read timeout=3)\n",
      "Error processing https://www.hopewells.co.uk/products/living-dining/dining-furniture/dining-tables/ercol-2641-romana-medium-extending-dining-table: cannot unpack non-iterable NoneType object\n",
      "Error processing https://www.hopewells.co.uk/products/brands/ercol-fine-furniture-for-your-home/ercol-windsor-dining/ercol-3850-windsor-small-display-top-for-3815-3816: cannot unpack non-iterable NoneType object\n",
      "Error processing https://www.hopewells.co.uk/products/brands/ercol-fine-furniture-for-your-home/ercol-windsor-dining/ercol-3841-windsor-medium-bookcase: cannot unpack non-iterable NoneType object\n",
      "Error processing https://www.hopewells.co.uk/products/brands/ercol-fine-furniture-for-your-home/ercol-windsor-dining: cannot unpack non-iterable NoneType object\n",
      "Error processing https://www.hopewells.co.uk/products/brands/ercol-fine-furniture-for-your-home/ercol-windsor-dining/ercol-3845-windsor-small-display-cabinet: cannot unpack non-iterable NoneType object\n",
      "Error processing https://www.hopewells.co.uk/products/brands/ercol-fine-furniture-for-your-home/ercol-windsor-dining/ercol-3851-windsor-medium-display-top-for-3815-3816: cannot unpack non-iterable NoneType object\n"
     ]
    },
    {
     "name": "stderr",
     "output_type": "stream",
     "text": [
      "Processing URLs:   1%|          | 248/30000 [00:22<13:52, 35.75it/s]"
     ]
    },
    {
     "name": "stdout",
     "output_type": "stream",
     "text": [
      "Error processing https://www.hopewells.co.uk/products/brands/ercol-fine-furniture-for-your-home/ercol-teramo-dining/ercol-3668-teramo-coffee-table: cannot unpack non-iterable NoneType object\n",
      "Error processing https://www.hopewells.co.uk/products/living-dining/dining-furniture/dining-tables/ercol-1192-windsor-small-extending-pedestal-table: cannot unpack non-iterable NoneType object\n",
      "Error processing https://www.hopewells.co.uk/products/brands/ercol-fine-furniture-for-your-home/ercol-teramo-dining/ercol-3671-teramo-open-shelving-unit: cannot unpack non-iterable NoneType object\n",
      "Error processing https://www.hopewells.co.uk/products/brands/ercol-fine-furniture-for-your-home/ercol-windsor-dining/ercol-3852-windsor-display-top-for-3820-3822: cannot unpack non-iterable NoneType object\n",
      "Error processing https://www.hopewells.co.uk/products/brands/ercol-fine-furniture-for-your-home/ercol-windsor-dining/ercol-3865-windsor-console-table: cannot unpack non-iterable NoneType object\n",
      "Error processing https://www.hopewells.co.uk/products/brands/ercol-fine-furniture-for-your-home/ercol-windsor-dining/ercol-3830-windsor-ir-tv-unit: cannot unpack non-iterable NoneType object\n",
      "Error processing https://www.hopewells.co.uk/products/brands/ercol-fine-furniture-for-your-home/ercol-windsor-dining/ercol-3856-windsor-corner-cabinet: cannot unpack non-iterable NoneType object\n",
      "Error processing https://www.hopewells.co.uk/products/stressless/stressless-accessories/stressless-urban-table: cannot unpack non-iterable NoneType object\n",
      "Error processing https://www.hopewells.co.uk/products/living-dining/living-room-storage: cannot unpack non-iterable NoneType object\n",
      "Error processing https://www.hopewells.co.uk/products/living-dining/coffee-side-tables/prunus-coffee-table: cannot unpack non-iterable NoneType object\n",
      "Error processing https://www.hopewells.co.uk/products/stressless/stressless-accessories/stressless-enigma-table: cannot unpack non-iterable NoneType object\n",
      "Error processing https://www.hopewells.co.uk/products/living-dining/dining-furniture/dining-tables/ercol-1193-windsor-medium-extending-dining-table: cannot unpack non-iterable NoneType object\n",
      "Error processing https://www.hopewells.co.uk/products/brands/ercol-fine-furniture-for-your-home/ercol-windsor-dining/ercol-3820-windsor-sideboard: cannot unpack non-iterable NoneType object\n",
      "Error processing https://www.hopewells.co.uk/products/living-dining/coffee-side-tables/stock-offer-compression-coffee-table: cannot unpack non-iterable NoneType object\n"
     ]
    },
    {
     "name": "stderr",
     "output_type": "stream",
     "text": [
      "Processing URLs:   1%|          | 259/30000 [00:22<14:12, 34.90it/s]"
     ]
    },
    {
     "name": "stdout",
     "output_type": "stream",
     "text": [
      "Error processing https://www.hopewells.co.uk/products/brands/ercol-fine-furniture-for-your-home/ercol-windsor-dining/ercol-3816-windsor-cabinet-with-drawers: cannot unpack non-iterable NoneType object\n",
      "Error processing https://www.hopewells.co.uk/products/living-dining/coffee-side-tables/angle-circular-coffee-table: cannot unpack non-iterable NoneType object\n",
      "Error processing https://www.hopewells.co.uk/products/living-dining/coffee-side-tables/beaumont-rectangular-coffee-table: cannot unpack non-iterable NoneType object\n",
      "Error processing https://www.hopewells.co.uk/products/brands/ercol-fine-furniture-for-your-home/ercol-windsor-dining/ercol-3866-windsor-lamp-table: cannot unpack non-iterable NoneType object\n",
      "Error processing https://www.hopewells.co.uk/products/living-dining/coffee-side-tables: cannot unpack non-iterable NoneType object\n",
      "Error processing https://www.hopewells.co.uk/products/living-dining/coffee-side-tables/trition-console-table: cannot unpack non-iterable NoneType object\n"
     ]
    },
    {
     "name": "stderr",
     "output_type": "stream",
     "text": [
      "Processing URLs:   1%|          | 266/30000 [00:22<12:50, 38.58it/s]"
     ]
    },
    {
     "name": "stdout",
     "output_type": "stream",
     "text": [
      "Error processing https://www.hopewells.co.uk/products/brands/ercol-fine-furniture-for-your-home/ercol-windsor-dining/ercol-3846-windsor-medium-display-cabinet: cannot unpack non-iterable NoneType object\n",
      "Error processing https://www.hopewells.co.uk/products/living-dining/coffee-side-tables/trition-coffee-table: cannot unpack non-iterable NoneType object\n",
      "Error processing https://www.hopewells.co.uk/products/living-dining/coffee-side-tables/beaumont-square-lamp-table: cannot unpack non-iterable NoneType object\n",
      "Error processing https://www.hopewells.co.uk/products/living-dining/coffee-side-tables/trition-lamp-table: cannot unpack non-iterable NoneType object\n",
      "Error processing https://www.hopewells.co.uk/products/brands/ercol-fine-furniture-for-your-home/ercol-windsor-dining/ercol-3815-windsor-2-door-cabinet: cannot unpack non-iterable NoneType object\n",
      "Error processing https://www.hopewells.co.uk/products/living-dining/coffee-side-tables/stella-lamp-table: cannot unpack non-iterable NoneType object\n",
      "Error processing https://www.hopewells.co.uk/products/living-dining/coffee-side-tables/angle-circular-side-table: cannot unpack non-iterable NoneType object\n",
      "Error processing https://www.hopewells.co.uk/products/living-dining/desks-office-chairs/stock-offer-barcelona-desk-chair: cannot unpack non-iterable NoneType object\n",
      "Error processing https://www.hopewells.co.uk/products/stressless/stressless-office-chairs/stressless-london-high-back-office-chair: cannot unpack non-iterable NoneType object\n",
      "Error processing https://www.hopewells.co.uk/products/stressless/stressless-office-chairs/stressless-london-office-chair-adjustable-headrest: cannot unpack non-iterable NoneType object\n",
      "Error processing https://www.hopewells.co.uk/products/living-dining/desks-office-chairs: cannot unpack non-iterable NoneType object\n",
      "Error processing https://www.hopewells.co.uk/products/living-dining/living-room-storage/free-standing-shelf-units: cannot unpack non-iterable NoneType object\n",
      "Error processing https://www.hopewells.co.uk/products/living-dining/coffee-side-tables/stella-coffee-table: cannot unpack non-iterable NoneType object\n"
     ]
    },
    {
     "name": "stderr",
     "output_type": "stream",
     "text": [
      "Processing URLs:   1%|          | 278/30000 [00:22<11:29, 43.10it/s]"
     ]
    },
    {
     "name": "stdout",
     "output_type": "stream",
     "text": [
      "Error processing https://www.hopewells.co.uk/products/living-dining/coffee-side-tables/stock-offer-compression-lamp-table: cannot unpack non-iterable NoneType object\n",
      "Error processing https://www.hopewells.co.uk/products/stressless/stressless-office-chairs/stressless-view-office-chair: cannot unpack non-iterable NoneType object\n",
      "Error processing https://www.hopewells.co.uk/products/stressless/stressless-office-chairs/stressless-magic-office-chair: cannot unpack non-iterable NoneType object\n",
      "Error processing https://www.hopewells.co.uk/products/stressless/stressless-office-chairs/stressless-reno-office-chair: cannot unpack non-iterable NoneType object\n",
      "Error processing https://www.hopewells.co.uk/products/stressless/stressless-office-chairs/stressless-consul-office-chair: cannot unpack non-iterable NoneType object\n",
      "Error processing https://www.hopewells.co.uk/products/stressless/stressless-office-chairs/stressless-mayfair-office-chair: cannot unpack non-iterable NoneType object\n"
     ]
    },
    {
     "name": "stderr",
     "output_type": "stream",
     "text": [
      "Processing URLs:   1%|          | 287/30000 [00:23<14:24, 34.35it/s]"
     ]
    },
    {
     "name": "stdout",
     "output_type": "stream",
     "text": [
      "Error processing https://www.hopewells.co.uk/products/stressless/stressless-recliner-chairs/stressless-consul-power-recliner: cannot unpack non-iterable NoneType object\n",
      "Error processing https://www.hopewells.co.uk/products/stressless/stressless-recliner-chairs: cannot unpack non-iterable NoneType object\n",
      "Error processing https://www.hopewells.co.uk/products/stressless/stressless-recliner-chairs/stressless-mayfair-with-signature-base-chair-stool: cannot unpack non-iterable NoneType object\n",
      "Error processing https://www.hopewells.co.uk/products/stressless/stressless-recliner-chairs/stressless-magic-power-recliner: cannot unpack non-iterable NoneType object\n",
      "Error processing https://www.hopewells.co.uk/products/stressless/stressless-office-chairs/stressless-tokyo-high-back-office-chair: cannot unpack non-iterable NoneType object\n",
      "Error processing https://www.hopewells.co.uk/products/living-dining/desks-office-chairs/madison-desk: cannot unpack non-iterable NoneType object\n",
      "Error processing https://www.hopewells.co.uk/products/stressless/stressless-recliner-chairs/stressless-mayfair-with-classic-base-chair-stool: cannot unpack non-iterable NoneType object\n",
      "Error processing https://www.hopewells.co.uk/products/stressless/stressless-recliner-chairs/stressless-mayfair-power-recliner: cannot unpack non-iterable NoneType object\n",
      "Error processing https://www.hopewells.co.uk/products/stressless/stressless-recliner-chairs/stressless-view-with-classic-base-chair-stool: cannot unpack non-iterable NoneType object\n",
      "Error processing https://www.hopewells.co.uk/products/stressless/stressless-recliner-chairs/stressless-consul-with-classic-base-chair-stool: cannot unpack non-iterable NoneType object\n",
      "Error processing https://www.hopewells.co.uk/products/stressless/stressless-recliner-chairs/stressless-reno-power-recliner: cannot unpack non-iterable NoneType object\n",
      "Error processing https://www.hopewells.co.uk/products/stressless/stressless-recliner-chairs/stressless-reno-with-signature-base-chair-stool: cannot unpack non-iterable NoneType object\n"
     ]
    },
    {
     "name": "stderr",
     "output_type": "stream",
     "text": [
      "Processing URLs:   1%|          | 296/30000 [00:23<10:46, 45.92it/s]"
     ]
    },
    {
     "name": "stdout",
     "output_type": "stream",
     "text": [
      "Error processing https://www.hopewells.co.uk/products/stressless/stressless-recliner-chairs/stressless-consul-with-signature-base-chair-stool: cannot unpack non-iterable NoneType object\n",
      "Error processing https://www.hopewells.co.uk/products/stressless/stressless-recliner-chairs/stressless-tokyo-with-adjustable-headrest: cannot unpack non-iterable NoneType object\n",
      "Error processing https://www.hopewells.co.uk/products/stressless/stressless-recliner-chairs/stressless-reno-with-classic-base-chair-stool: cannot unpack non-iterable NoneType object\n",
      "Error processing https://www.hopewells.co.uk/products/stressless/stressless-recliner-chairs/stressless-london-high-back: cannot unpack non-iterable NoneType object\n",
      "Error processing https://www.hopewells.co.uk/products/stressless/stressless-recliner-chairs/stressless-view-power-recliner: cannot unpack non-iterable NoneType object\n",
      "Error processing https://www.hopewells.co.uk/products/stressless/stressless-recliner-chairs/stressless-london-star-base-chair-and-stool-with-adjustable-headrest: cannot unpack non-iterable NoneType object\n",
      "Error processing https://www.hopewells.co.uk/products/stressless/stressless-recliner-chairs/stressless-scott-power-chair: cannot unpack non-iterable NoneType object\n",
      "Error processing https://www.hopewells.co.uk/products/stressless/stressless-recliner-chairs/stressless-magic-with-signature-base-chair-stool: cannot unpack non-iterable NoneType object\n",
      "Error processing https://www.hopewells.co.uk/products/stressless/stressless-recliner-chairs/stressless-rome-cross-base-chair-and-stool-with-adjustable-headrest: cannot unpack non-iterable NoneType object\n",
      "Error processing https://www.hopewells.co.uk/products/stressless/stressless-recliner-chairs/stressless-magic-with-classic-base-chair-stool: cannot unpack non-iterable NoneType object\n"
     ]
    },
    {
     "name": "stderr",
     "output_type": "stream",
     "text": [
      "Processing URLs:   1%|          | 307/30000 [00:23<13:48, 35.83it/s]"
     ]
    },
    {
     "name": "stdout",
     "output_type": "stream",
     "text": [
      "Error processing https://www.hopewells.co.uk/products/stressless/stressless-recliner-chairs/stressless-view-with-signature-base-chair-stool: cannot unpack non-iterable NoneType object\n",
      "Error processing https://www.hopewells.co.uk/products/stressless/stressless-recliner-chairs/stressless-tokyo-high-back-cross-base-chair-and-stool: cannot unpack non-iterable NoneType object\n",
      "Error processing https://www.hopewells.co.uk/products/stressless/stressless-recliner-chairs/stressless-sam: cannot unpack non-iterable NoneType object\n",
      "Error processing https://www.hopewells.co.uk/products/stressless/stressless-recliner-chairs/stressless-david-with-classic-chair-stool: cannot unpack non-iterable NoneType object\n",
      "Error processing https://www.hopewells.co.uk/products/stressless/stressless-recliner-chairs/stressless-sam-power-chair-with-wood-arms: cannot unpack non-iterable NoneType object\n",
      "Error processing https://www.hopewells.co.uk/products/stressless/stressless-recliner-chairs/stressless-david-power-recliner: cannot unpack non-iterable NoneType object\n",
      "Error processing https://www.hopewells.co.uk/products/stressless/stressless-recliner-chairs/stressless-rome-star-base-chair-and-stool-with-adjustable-headrest: cannot unpack non-iterable NoneType object\n"
     ]
    },
    {
     "name": "stderr",
     "output_type": "stream",
     "text": [
      "Processing URLs:   1%|          | 317/30000 [00:23<10:24, 47.57it/s]"
     ]
    },
    {
     "name": "stdout",
     "output_type": "stream",
     "text": [
      "Error processing https://www.hopewells.co.uk/products/stressless/stressless-recliner-chairs/stressless-london-cross-base-chair-and-stool-with-adjustable-headrest: cannot unpack non-iterable NoneType object\n",
      "Error processing https://www.hopewells.co.uk/products/stressless/stressless-recliner-chairs/stressless-david-with-cross-base-chair-stool: cannot unpack non-iterable NoneType object\n",
      "Error processing https://www.hopewells.co.uk/products/living-dining/sofas-chairs/sofas/stressless-buckingham: cannot unpack non-iterable NoneType object\n",
      "Error processing https://www.hopewells.co.uk/products/stressless/stressless-reclining-sofas: cannot unpack non-iterable NoneType object\n",
      "Error processing https://www.hopewells.co.uk/products/stressless/stressless-reclining-sofas/stressless-stella-reclining-sofa: cannot unpack non-iterable NoneType object\n",
      "Error processing https://www.hopewells.co.uk/products/stressless/stressless-reclining-sofas/stressless-mary-wood: cannot unpack non-iterable NoneType object\n",
      "Error processing https://www.hopewells.co.uk/products/stressless/stressless-accessories: cannot unpack non-iterable NoneType object\n",
      "Error processing https://www.hopewells.co.uk/products/stressless/stressless-recliner-chairs/stressless-david-with-signature-chair-stool: cannot unpack non-iterable NoneType object\n",
      "Error processing https://www.hopewells.co.uk/products/stressless/stressless-reclining-sofas/stressless-wave-high-back-sofa: cannot unpack non-iterable NoneType object\n",
      "Error processing https://www.hopewells.co.uk/products/stressless/stressless-reclining-sofas/stressless-mary-upholstered: cannot unpack non-iterable NoneType object\n",
      "Error processing https://www.hopewells.co.uk/products/stressless/stressless-accessories/ekornes-windsor-table: cannot unpack non-iterable NoneType object\n",
      "Error processing https://www.hopewells.co.uk/products/stressless/stressless-reclining-sofas/stressless-stella-with-wood-arms: cannot unpack non-iterable NoneType object\n",
      "Error processing https://www.hopewells.co.uk/products/living-dining/sofas-chairs/sofas/stressless-windsor: cannot unpack non-iterable NoneType object\n",
      "Error processing https://www.hopewells.co.uk/products/stressless/stressless-office-chairs: cannot unpack non-iterable NoneType object\n",
      "Error processing https://www.hopewells.co.uk/products/stressless/stressless-accessories/stressless-easy-arm-table: cannot unpack non-iterable NoneType object\n",
      "Error processing https://www.hopewells.co.uk/products/stressless/stressless-reclining-sofas/stressless-emily-wood-arm: cannot unpack non-iterable NoneType object\n"
     ]
    },
    {
     "name": "stderr",
     "output_type": "stream",
     "text": [
      "Processing URLs:   1%|          | 324/30000 [00:24<09:49, 50.36it/s]"
     ]
    },
    {
     "name": "stdout",
     "output_type": "stream",
     "text": [
      "Error processing https://www.hopewells.co.uk/products/stressless/stressless-reclining-sofas/stressless-fiona: cannot unpack non-iterable NoneType object\n",
      "Error processing https://www.hopewells.co.uk/products/stressless/stressless-reclining-sofas/stressless-emily-steel-arm: cannot unpack non-iterable NoneType object\n",
      "Error processing https://www.hopewells.co.uk/products/stressless/stressless-accessories/stressless-ellipse-table: cannot unpack non-iterable NoneType object\n",
      "Error processing https://www.hopewells.co.uk/products/stressless/stressless-accessories/stressless-style-table: cannot unpack non-iterable NoneType object\n",
      "Error processing https://www.hopewells.co.uk/products/stressless/stressless-accessories/stressless-elevator-ring: cannot unpack non-iterable NoneType object\n",
      "Error processing https://www.hopewells.co.uk/products/stressless/stressless-accessories/ekornes-corner-table: cannot unpack non-iterable NoneType object\n"
     ]
    },
    {
     "name": "stderr",
     "output_type": "stream",
     "text": [
      "Processing URLs:   1%|          | 336/30000 [00:24<12:31, 39.48it/s]"
     ]
    },
    {
     "name": "stdout",
     "output_type": "stream",
     "text": [
      "Error processing https://www.hopewells.co.uk/products/stressless/stressless-dining: cannot unpack non-iterable NoneType object\n",
      "Error processing https://www.hopewells.co.uk/products/stressless/stressless-accessories/stressless-swing-table: cannot unpack non-iterable NoneType object\n",
      "Error processing https://www.hopewells.co.uk/products/stressless/stressless-accessories/stressless-computer-table: cannot unpack non-iterable NoneType object\n",
      "Error processing https://www.hopewells.co.uk/products/living-dining/dining-furniture/dining-tables/stressless-bordeaux-round-dining-table: cannot unpack non-iterable NoneType object\n",
      "Error processing https://www.hopewells.co.uk/products/brands: cannot unpack non-iterable NoneType object\n",
      "Error processing https://www.hopewells.co.uk/products/living-dining/dining-furniture/dining-chairs/stressless-mint-d200-low-back-dining-chair-without-arms: cannot unpack non-iterable NoneType object\n",
      "Error processing https://www.hopewells.co.uk/products/living-dining/dining-furniture/dining-chairs/stressless-mint-d100-high-back-dining-chair-without-arms: cannot unpack non-iterable NoneType object\n"
     ]
    },
    {
     "name": "stderr",
     "output_type": "stream",
     "text": [
      "Processing URLs:   1%|          | 346/30000 [00:24<12:01, 41.12it/s]"
     ]
    },
    {
     "name": "stdout",
     "output_type": "stream",
     "text": [
      "Error processing https://www.hopewells.co.uk/products/stressless/stressless-stock-offers-quickship/quickship-stressless-mary: cannot unpack non-iterable NoneType object\n",
      "Error processing https://www.hopewells.co.uk/products/living-dining/dining-furniture/dining-tables/stressless-bordeaux-l-rectangular-dining-table: cannot unpack non-iterable NoneType object\n",
      "Error processing https://www.hopewells.co.uk/products/living-dining/dining-furniture/dining-tables/stressless-bordeaux-m-rectangular-dining-table: cannot unpack non-iterable NoneType object\n",
      "Error processing https://www.hopewells.co.uk/products/stressless/stressless-stock-offers-quickship: cannot unpack non-iterable NoneType object\n",
      "Error processing https://www.hopewells.co.uk/products/living-dining/dining-furniture/dining-chairs/stressless-mint-d200-high-back-dining-chair-with-arms: cannot unpack non-iterable NoneType object\n",
      "Error processing https://www.hopewells.co.uk/products/stressless/stressless-stock-offers-quickship/quickship-stressless-mayfair-medium-signature-base-chair-stool: cannot unpack non-iterable NoneType object\n",
      "Error processing https://www.hopewells.co.uk/products/living-dining/dining-furniture/dining-chairs/stressless-mint-d100-low-back-dining-chair-without-arms: cannot unpack non-iterable NoneType object\n",
      "Error processing https://www.hopewells.co.uk/products/living-dining/dining-furniture/dining-chairs/stressless-mint-d100-high-back-dining-chair-with-arms: cannot unpack non-iterable NoneType object\n",
      "Error processing https://www.hopewells.co.uk/products/stressless/stressless-stock-offers-quickship/quickship-stressless-mayfair-medium-classic-base-chair-stool: cannot unpack non-iterable NoneType object\n",
      "Error processing https://www.hopewells.co.uk/products/living-dining/dining-furniture/dining-chairs/stressless-mint-d200-high-back-dining-chair-without-arms: cannot unpack non-iterable NoneType object\n",
      "Error processing https://www.hopewells.co.uk/products/stressless/stressless-stock-offers-quickship/quickship-stressless-tokyo-with-adjustable-headrest: cannot unpack non-iterable NoneType object\n",
      "Error processing https://www.hopewells.co.uk/products/stressless/stressless-stock-offers-quickship/quickship-stressless-windsor: cannot unpack non-iterable NoneType object\n"
     ]
    },
    {
     "name": "stderr",
     "output_type": "stream",
     "text": [
      "Processing URLs:   1%|          | 353/30000 [00:24<10:44, 46.01it/s]"
     ]
    },
    {
     "name": "stdout",
     "output_type": "stream",
     "text": [
      "Error processing https://www.hopewells.co.uk/products/stressless/stressless-stock-offers-quickship/quickship-stressless-buckingham: cannot unpack non-iterable NoneType object\n",
      "Error processing https://www.hopewells.co.uk/products/living-dining/dining-furniture/dining-chairs/stressless-mint-d100-low-back-dining-chair-with-arms: cannot unpack non-iterable NoneType object\n",
      "Error processing https://www.hopewells.co.uk/products/stressless/stressless-stock-offers-quickship/stock-offer-stressless-mayfair-signature-base-chair-stool: cannot unpack non-iterable NoneType object\n",
      "Error processing https://www.hopewells.co.uk/products/living-dining/dining-furniture/dining-chairs/stressless-mint-d200-low-back-dining-chair-with-arms: cannot unpack non-iterable NoneType object\n",
      "Error processing https://www.hopewells.co.uk/products/stressless/stressless-stock-offers-quickship/quickship-stressless-mint-d200-low-back-dining-chair-without-arms: cannot unpack non-iterable NoneType object\n",
      "Error processing https://www.hopewells.co.uk/products/stressless/stressless-stock-offers-quickship/stock-offer-stressless-consul-classic-base-chair-stool: cannot unpack non-iterable NoneType object\n",
      "Error processing https://www.hopewells.co.uk/products/stressless/stressless-stock-offers-quickship/stock-offer-stressless-stella: cannot unpack non-iterable NoneType object\n",
      "Error processing https://www.hopewells.co.uk/products/stressless/stressless-stock-offers-quickship/stock-offer-stressless-consul-signature-base-chair-stool: cannot unpack non-iterable NoneType object\n",
      "Error processing https://www.hopewells.co.uk/products/stressless/stressless-stock-offers-quickship/stock-offer-emily-2-seater-sofa-with-2-power: cannot unpack non-iterable NoneType object\n"
     ]
    },
    {
     "name": "stderr",
     "output_type": "stream",
     "text": [
      "Processing URLs:   1%|          | 363/30000 [00:25<14:17, 34.57it/s]"
     ]
    },
    {
     "name": "stdout",
     "output_type": "stream",
     "text": [
      "Error processing https://www.hopewells.co.uk/products/stressless/stressless-stock-offers-quickship/stock-offer-emily-3-seater-sofa-with-3-power: cannot unpack non-iterable NoneType object\n",
      "Error processing https://www.hopewells.co.uk/products/stressless/stressless-stock-offers-quickship/stock-offer-stressless-admiral-chair-stool-with-classic-base: cannot unpack non-iterable NoneType object\n",
      "Error processing https://www.hopewells.co.uk/products/stressless/stressless-stock-offers-quickship/stock-offer-stressless-mayfair-classic-base-chair-stool: cannot unpack non-iterable NoneType object\n",
      "Error processing https://www.hopewells.co.uk/products/stressless/stressless-stock-offers-quickship/stock-offer-stressless-admiral-chair-stool-with-signature-base: cannot unpack non-iterable NoneType object\n",
      "Error processing https://www.hopewells.co.uk/products/stressless/stressless-stock-offers-quickship/stock-offer-stressless-metro-with-adjustable-headrest: cannot unpack non-iterable NoneType object\n",
      "Error processing https://www.hopewells.co.uk/products/stressless/stressless-stock-offers-quickship/stock-offer-london-high-back-office-chair: cannot unpack non-iterable NoneType object\n"
     ]
    },
    {
     "name": "stderr",
     "output_type": "stream",
     "text": [
      "Processing URLs:   1%|          | 367/30000 [00:25<13:55, 35.47it/s]"
     ]
    },
    {
     "name": "stdout",
     "output_type": "stream",
     "text": [
      "Error processing https://www.hopewells.co.uk/products/brands/ercol-fine-furniture-for-your-home/ercol-rimini-bedroom: cannot unpack non-iterable NoneType object\n",
      "Error processing https://www.hopewells.co.uk/products/stressless/stressless-stock-offers-quickship/stock-offer-stressless-mayfair-office-chair-in-paloma-copper: cannot unpack non-iterable NoneType object\n",
      "Error processing https://www.hopewells.co.uk/products/brands/ercol-fine-furniture-for-your-home: cannot unpack non-iterable NoneType object\n",
      "Error processing https://www.hopewells.co.uk/products/stressless/stressless-stock-offers-quickship/stock-offer-stressless-mayfair-office-chair-in-paloma-cherry: cannot unpack non-iterable NoneType object\n",
      "Error processing https://www.hopewells.co.uk/products/brands/ercol-fine-furniture-for-your-home/ercol-rimini-bedroom/ercol-3281-rimini-kingsize-bed: cannot unpack non-iterable NoneType object\n",
      "Error processing https://www.hopewells.co.uk/products/stressless/stressless-stock-offers-quickship/stock-offer-stressless-mayfair-office-chair-in-paloma-black: cannot unpack non-iterable NoneType object\n",
      "Error processing https://www.hopewells.co.uk/products/brands/ercol-fine-furniture-for-your-home/ercol-rimini-bedroom/ercol-3280-rimini-double-bed: cannot unpack non-iterable NoneType object\n"
     ]
    },
    {
     "name": "stderr",
     "output_type": "stream",
     "text": [
      "Processing URLs:   1%|▏         | 378/30000 [00:25<12:47, 38.59it/s]"
     ]
    },
    {
     "name": "stdout",
     "output_type": "stream",
     "text": [
      "Error processing https://www.hopewells.co.uk/products/brands/ercol-fine-furniture-for-your-home/ercol-rimini-bedroom/ercol-3292-rimini-compact-bedside-cabinet: cannot unpack non-iterable NoneType object\n",
      "Error processing https://www.hopewells.co.uk/products/stressless/stressless-stock-offers-quickship/stock-offer-london-high-back-office-chair-with-adjustable-headrest: cannot unpack non-iterable NoneType object\n",
      "Error processing https://www.hopewells.co.uk/products/brands/ercol-fine-furniture-for-your-home/ercol-rimini-bedroom/ercol-3283-rimini-4-drawer-low-wide-chest: cannot unpack non-iterable NoneType object\n",
      "Error processing https://www.hopewells.co.uk/products/brands/ercol-fine-furniture-for-your-home/ercol-rimini-bedroom/ercol-3282-rimini-3-drawer-bedside-cabinet: cannot unpack non-iterable NoneType object\n",
      "Error processing https://www.hopewells.co.uk/products/stressless/stressless-stock-offers-quickship/stock-offer-stressless-mint-office-chair-with-arms: cannot unpack non-iterable NoneType object\n",
      "Error processing https://www.hopewells.co.uk/products/brands/ercol-fine-furniture-for-your-home/ercol-ballatta: cannot unpack non-iterable NoneType object\n",
      "Error processing https://www.hopewells.co.uk/products/brands/ercol-fine-furniture-for-your-home/ercol-rimini-bedroom/ercol-3286-rimini-2-door-wardrobe: cannot unpack non-iterable NoneType object\n",
      "Error processing https://www.hopewells.co.uk/products/brands/ercol-fine-furniture-for-your-home/ercol-cosenza: cannot unpack non-iterable NoneType object\n",
      "Error fetching https://www.hopewells.co.uk/products/living-dining/desks-office-chairs/bontempi-secret-desk: HTTPSConnectionPool(host='www.hopewells.co.uk', port=443): Read timed out. (read timeout=3)\n",
      "Error processing https://www.hopewells.co.uk/products/living-dining/desks-office-chairs/bontempi-secret-desk: cannot unpack non-iterable NoneType object\n",
      "Error fetching https://www.hopewells.co.uk/products/living-dining/desks-office-chairs/cattelan-italia-vega-desk: HTTPSConnectionPool(host='www.hopewells.co.uk', port=443): Read timed out. (read timeout=3)\n",
      "Error processing https://www.hopewells.co.uk/products/living-dining/desks-office-chairs/cattelan-italia-vega-desk: cannot unpack non-iterable NoneType object\n",
      "Error fetching https://www.hopewells.co.uk/products/stressless/stressless-office-chairs/stressless-mint-highback-office-chair-with-arms: HTTPSConnectionPool(host='www.hopewells.co.uk', port=443): Read timed out. (read timeout=3)\n",
      "Error processing https://www.hopewells.co.uk/products/stressless/stressless-office-chairs/stressless-mint-highback-office-chair-with-arms: cannot unpack non-iterable NoneType object\n",
      "Error processing https://www.hopewells.co.uk/products/brands/ercol-fine-furniture-for-your-home/ercol-ballatta/stock-offer-ercol-ballatta-desk: cannot unpack non-iterable NoneType object\n",
      "Error processing https://www.hopewells.co.uk/products/living-dining/sofas-chairs/sofas/ercol-cosenza-armchair: cannot unpack non-iterable NoneType object\n",
      "Error processing https://www.hopewells.co.uk/products/brands/ercol-fine-furniture-for-your-home/ercol-rimini-bedroom/ercol-3284-rimini-6-drawer-tall-wide-chest: cannot unpack non-iterable NoneType object\n",
      "Error processing https://www.hopewells.co.uk/products/brands/ercol-fine-furniture-for-your-home/ercol-ballatta/ercol-2205-ballatta-drinks-cabinet: cannot unpack non-iterable NoneType object\n",
      "Error fetching https://www.hopewells.co.uk/products/living-dining/desks-office-chairs/oxford-desk: HTTPSConnectionPool(host='www.hopewells.co.uk', port=443): Read timed out. (read timeout=3)\n",
      "Error processing https://www.hopewells.co.uk/products/living-dining/desks-office-chairs/oxford-desk: cannot unpack non-iterable NoneType object\n",
      "Error processing https://www.hopewells.co.uk/products/living-dining/sofas-chairs/sofas/ercol-cosenza-small-sofa: cannot unpack non-iterable NoneType object\n",
      "Error fetching https://www.hopewells.co.uk/products/living-dining/bar-stools: HTTPSConnectionPool(host='www.hopewells.co.uk', port=443): Read timed out. (read timeout=3)\n",
      "Error processing https://www.hopewells.co.uk/products/living-dining/bar-stools: cannot unpack non-iterable NoneType object\n",
      "Error processing https://www.hopewells.co.uk/products/brands/ercol-fine-furniture-for-your-home/ercol-ballatta/ercol-2203-ballatta-shelving-unit: cannot unpack non-iterable NoneType object\n",
      "Error processing https://www.hopewells.co.uk/products/brands/ercol-fine-furniture-for-your-home/ercol-rimini-bedroom/ercol-3285-rimini-6-drawer-tall-chest: cannot unpack non-iterable NoneType object\n",
      "Error processing https://www.hopewells.co.uk/products/brands/ercol-fine-furniture-for-your-home/ercol-cosenza/ercol-cosenza-medium-sofa: cannot unpack non-iterable NoneType object\n"
     ]
    },
    {
     "name": "stderr",
     "output_type": "stream",
     "text": [
      "Processing URLs:   1%|▏         | 393/30000 [00:25<08:43, 56.59it/s]"
     ]
    },
    {
     "name": "stdout",
     "output_type": "stream",
     "text": [
      "Error fetching https://www.hopewells.co.uk/products/stressless: HTTPSConnectionPool(host='www.hopewells.co.uk', port=443): Read timed out. (read timeout=3)\n",
      "Error processing https://www.hopewells.co.uk/products/stressless: cannot unpack non-iterable NoneType object\n",
      "Error processing https://www.hopewells.co.uk/products/brands/ercol-fine-furniture-for-your-home/ercol-winslow: cannot unpack non-iterable NoneType object\n",
      "Error processing https://www.hopewells.co.uk/products/brands/ercol-fine-furniture-for-your-home/ercol-cosenza/ercol-cosenza-large-sofa: cannot unpack non-iterable NoneType object\n",
      "Error processing https://www.hopewells.co.uk/products/brands/ercol-fine-furniture-for-your-home/ercol-winslow/ercol-winslow-side-table: cannot unpack non-iterable NoneType object\n"
     ]
    },
    {
     "name": "stderr",
     "output_type": "stream",
     "text": [
      "Processing URLs:   1%|▏         | 399/30000 [00:25<10:23, 47.46it/s]"
     ]
    },
    {
     "name": "stdout",
     "output_type": "stream",
     "text": [
      "Error processing https://www.hopewells.co.uk/products/brands/ercol-fine-furniture-for-your-home/ercol-cosenza/ercol-cosenza-footstool: cannot unpack non-iterable NoneType object\n",
      "Error processing https://www.hopewells.co.uk/products/brands/ercol-fine-furniture-for-your-home/ercol-monza-dining: cannot unpack non-iterable NoneType object\n",
      "Error processing https://www.hopewells.co.uk/products/brands/ercol-fine-furniture-for-your-home/ercol-winslow/ercol-winslow-kingsize-bedframe: cannot unpack non-iterable NoneType object\n",
      "Error processing https://www.hopewells.co.uk/products/brands/ercol-fine-furniture-for-your-home/ercol-monza-dining/ercol-monza-dining-chair: cannot unpack non-iterable NoneType object\n",
      "Error processing https://www.hopewells.co.uk/products/living-dining/dining-furniture/dining-chairs/ercol-monza-como-carver-chair: cannot unpack non-iterable NoneType object\n",
      "Error processing https://www.hopewells.co.uk/products/brands/ercol-fine-furniture-for-your-home/ercol-winslow/ercol-winslow-4-drawer-chest: cannot unpack non-iterable NoneType object\n"
     ]
    },
    {
     "name": "stderr",
     "output_type": "stream",
     "text": [
      "Processing URLs:   1%|▏         | 409/30000 [00:26<11:43, 42.08it/s]"
     ]
    },
    {
     "name": "stdout",
     "output_type": "stream",
     "text": [
      "Error processing https://www.hopewells.co.uk/products/brands/ercol-fine-furniture-for-your-home/ercol-forli-sofa: cannot unpack non-iterable NoneType object\n",
      "Error processing https://www.hopewells.co.uk/products/brands/ercol-fine-furniture-for-your-home/ercol-monza-dining/ercol-monza-desk: cannot unpack non-iterable NoneType object\n",
      "Error processing https://www.hopewells.co.uk/products/brands/ercol-fine-furniture-for-your-home/ercol-monza-dining/ercol-monza-dining-bench: cannot unpack non-iterable NoneType object\n",
      "Error processing https://www.hopewells.co.uk/products/brands/ercol-fine-furniture-for-your-home/ercol-monza-dining/ercol-monza-medium-extending-dining-table: cannot unpack non-iterable NoneType object\n",
      "Error processing https://www.hopewells.co.uk/products/living-dining/sofas-chairs/sofas/duresta-coco-grand-split-sofa: cannot unpack non-iterable NoneType object\n",
      "Error processing https://www.hopewells.co.uk/products/living-dining/sofas-chairs/sofas/collins-hayes-heath: cannot unpack non-iterable NoneType object\n",
      "Error processing https://www.hopewells.co.uk/products/living-dining/sofas-chairs/collins-hayes: cannot unpack non-iterable NoneType object\n",
      "Error processing https://www.hopewells.co.uk/products/brands/duresta: cannot unpack non-iterable NoneType object\n",
      "Error processing https://www.hopewells.co.uk/products/brands/ercol-fine-furniture-for-your-home/ercol-monza-dining/ercol-monza-universal-cabinet: cannot unpack non-iterable NoneType object\n",
      "Error processing https://www.hopewells.co.uk/products/brands/duresta/duresta-waldorf-astoria-chair: cannot unpack non-iterable NoneType object\n",
      "Error processing https://www.hopewells.co.uk/products/brands/duresta/duresta-waldorf-2-seater-sofa: cannot unpack non-iterable NoneType object\n",
      "Error processing https://www.hopewells.co.uk/products/brands/duresta/duresta-cirrus-swivel-chair: cannot unpack non-iterable NoneType object\n",
      "Error processing https://www.hopewells.co.uk/products/living-dining/sofas-chairs/sofas/collins-hayes-maple: cannot unpack non-iterable NoneType object\n",
      "Error processing https://www.hopewells.co.uk/products/living-dining/sofas-chairs/sofas/duresta-soho-chaise-sofa: cannot unpack non-iterable NoneType object\n"
     ]
    },
    {
     "name": "stderr",
     "output_type": "stream",
     "text": [
      "Processing URLs:   1%|▏         | 422/30000 [00:26<10:45, 45.80it/s]"
     ]
    },
    {
     "name": "stdout",
     "output_type": "stream",
     "text": [
      "Error processing https://www.hopewells.co.uk/products/living-dining/sofas-chairs/sofas/duresta-hornblower-3-seater-sofa: cannot unpack non-iterable NoneType object\n",
      "Error processing https://www.hopewells.co.uk/products/brands/duresta/duresta-waldorf-grand-sofa: cannot unpack non-iterable NoneType object\n",
      "Error processing https://www.hopewells.co.uk/products/brands/duresta/duresta-arco: cannot unpack non-iterable NoneType object\n",
      "Error processing https://www.hopewells.co.uk/products/living-dining/sofas-chairs/accent-chairs/collins-hayes-banks-swivel-chair: cannot unpack non-iterable NoneType object\n",
      "Error processing https://www.hopewells.co.uk/products/living-dining/sofas-chairs/sofas/collins-hayes-miller: cannot unpack non-iterable NoneType object\n",
      "Error processing https://www.hopewells.co.uk/products/brands/duresta/duresta-cumulo-stool: cannot unpack non-iterable NoneType object\n",
      "Error processing https://www.hopewells.co.uk/products/living-dining/dining-furniture/cattelan-italia/cattelan-italia-dining-chairs: cannot unpack non-iterable NoneType object\n",
      "Error processing https://www.hopewells.co.uk/products/living-dining/sofas-chairs/michael-tyler/oscar-sofa: cannot unpack non-iterable NoneType object\n",
      "Error processing https://www.hopewells.co.uk/products/living-dining/sofas-chairs/sofas/collins-hayes-lennon-collection: cannot unpack non-iterable NoneType object\n"
     ]
    },
    {
     "name": "stderr",
     "output_type": "stream",
     "text": [
      "Processing URLs:   1%|▏         | 429/30000 [00:26<10:31, 46.86it/s]"
     ]
    },
    {
     "name": "stdout",
     "output_type": "stream",
     "text": [
      "Error processing https://www.hopewells.co.uk/products/living-dining/dining-furniture/cattelan-italia: cannot unpack non-iterable NoneType object\n",
      "Error processing https://www.hopewells.co.uk/products/living-dining/dining-furniture/dining-tables/cattelan-italia-yoda-keramic-dining-table: cannot unpack non-iterable NoneType object\n",
      "Error processing https://www.hopewells.co.uk/products/living-dining/dining-furniture/cattelan-italia/cattelan-italia-dining-chairs/cattelan-italia-norma-couture-dining-chair: cannot unpack non-iterable NoneType object\n",
      "Error processing https://www.hopewells.co.uk/products/living-dining/dining-furniture/cattelan-italia/cattelan-italia-dining-chairs/cattelan-italia-magda-dining-chair: cannot unpack non-iterable NoneType object\n",
      "Error processing https://www.hopewells.co.uk/products/brands/duresta/duresta-waldorf-2.5-seater-sofa: cannot unpack non-iterable NoneType object\n",
      "Error processing https://www.hopewells.co.uk/products/brands/duresta/duresta-waldorf-3-seater-sofa: cannot unpack non-iterable NoneType object\n",
      "Error processing https://www.hopewells.co.uk/products/living-dining/dining-furniture/cattelan-italia/cattelan-italia-dining-tables: cannot unpack non-iterable NoneType object\n",
      "Error processing https://www.hopewells.co.uk/products/living-dining/dining-furniture/cattelan-italia/cattelan-italia-occasional-furniture: cannot unpack non-iterable NoneType object\n"
     ]
    },
    {
     "name": "stderr",
     "output_type": "stream",
     "text": [
      "Processing URLs:   1%|▏         | 434/30000 [00:26<14:05, 34.97it/s]"
     ]
    },
    {
     "name": "stdout",
     "output_type": "stream",
     "text": [
      "Error processing https://www.hopewells.co.uk/products/living-dining/dining-furniture/cattelan-italia/cattelan-italia-accessories/cattelan-italia-phoenix-hanging-light: cannot unpack non-iterable NoneType object\n",
      "Error processing https://www.hopewells.co.uk/products/living-dining/dining-furniture/cattelan-italia/cattelan-italia-arsenal-bookcase: cannot unpack non-iterable NoneType object\n",
      "Error processing https://www.hopewells.co.uk/products/living-dining/dining-furniture/cattelan-italia/cattelan-italia-sting-lamp-table: cannot unpack non-iterable NoneType object\n",
      "Error processing https://www.hopewells.co.uk/products/living-dining/dining-furniture/cattelan-italia/cattelan-italia-accessories: cannot unpack non-iterable NoneType object\n",
      "Error processing https://www.hopewells.co.uk/products/living-dining/dining-furniture/dining-tables/cattelan-italia-skorpio-ceramic-dining-table: cannot unpack non-iterable NoneType object\n",
      "Error processing https://www.hopewells.co.uk/products/living-dining/dining-furniture/cattelan-italia/cattelan-italia-absolut-sideboard: cannot unpack non-iterable NoneType object\n",
      "Error processing https://www.hopewells.co.uk/products/living-dining/dining-furniture/bontempi: cannot unpack non-iterable NoneType object\n",
      "Error processing https://www.hopewells.co.uk/products/living-dining/dining-furniture/dining-tables/bontempi-delta-fixed-top-dining-table: cannot unpack non-iterable NoneType object\n",
      "Error processing https://www.hopewells.co.uk/products/living-dining/sofas-chairs/sofas/tetrad-piccadilly-grand-sofa: cannot unpack non-iterable NoneType object\n",
      "Error processing https://www.hopewells.co.uk/products/living-dining/sofas-chairs/sofas/tetrad-constable-sofa: cannot unpack non-iterable NoneType object\n"
     ]
    },
    {
     "name": "stderr",
     "output_type": "stream",
     "text": [
      "Processing URLs:   1%|▏         | 448/30000 [00:27<11:15, 43.78it/s]"
     ]
    },
    {
     "name": "stdout",
     "output_type": "stream",
     "text": [
      "Error processing https://www.hopewells.co.uk/products/living-dining/dining-furniture/dining-tables/bontempi-artistico-dining-table: cannot unpack non-iterable NoneType object\n",
      "Error processing https://www.hopewells.co.uk/products/living-dining/sofas-chairs/tetrad: cannot unpack non-iterable NoneType object\n",
      "Error processing https://www.hopewells.co.uk/products/living-dining/sofas-chairs/sofas/spiro: cannot unpack non-iterable NoneType object\n",
      "Error processing https://www.hopewells.co.uk/products/living-dining/sofas-chairs/sofas/style-corner-unit: cannot unpack non-iterable NoneType object\n",
      "Error processing https://www.hopewells.co.uk/products/living-dining/sofas-chairs/sofas/obacca: cannot unpack non-iterable NoneType object\n",
      "Error processing https://www.hopewells.co.uk/products/living-dining/sofas-chairs/sofas/tetrad-warwick-sofa: cannot unpack non-iterable NoneType object\n",
      "Error processing https://www.hopewells.co.uk/products/living-dining/sofas-chairs/sofas/natuzzi-editions-angelina-sofa: cannot unpack non-iterable NoneType object\n",
      "Error processing https://www.hopewells.co.uk/products/living-dining/dining-furniture/dining-tables/bontempi-versus-dining-table-8-chairs: cannot unpack non-iterable NoneType object\n",
      "Error processing https://www.hopewells.co.uk/products/living-dining/sofas-chairs/natuzzi-editions: cannot unpack non-iterable NoneType object\n",
      "Error processing https://www.hopewells.co.uk/products/living-dining/sofas-chairs/sofas/madison-sofa: cannot unpack non-iterable NoneType object\n",
      "Error processing https://www.hopewells.co.uk/products/living-dining/sofas-chairs/sofas/natuzzi-editions-tropento-sofa: cannot unpack non-iterable NoneType object\n",
      "Error processing https://www.hopewells.co.uk/products/living-dining/sofas-chairs/sofas/natuzzi-editions-nicolaus-corner-sofa: cannot unpack non-iterable NoneType object\n",
      "Error processing https://www.hopewells.co.uk/products/living-dining/sofas-chairs/sofas/natuzzi-editions-obacca-corner-sofa: cannot unpack non-iterable NoneType object\n",
      "Error processing https://www.hopewells.co.uk/products/living-dining/sofas-chairs/accent-chairs/cube-swivel-armchair: cannot unpack non-iterable NoneType object\n"
     ]
    },
    {
     "name": "stderr",
     "output_type": "stream",
     "text": [
      "Processing URLs:   2%|▏         | 462/30000 [00:27<12:05, 40.71it/s]"
     ]
    },
    {
     "name": "stdout",
     "output_type": "stream",
     "text": [
      "Error processing https://www.hopewells.co.uk/products/living-dining/sofas-chairs/ligne-roset: cannot unpack non-iterable NoneType object\n",
      "Error processing https://www.hopewells.co.uk/products/living-dining/sofas-chairs/ligne-roset/multy-premier-by-ligne-roset: cannot unpack non-iterable NoneType object\n",
      "Error processing https://www.hopewells.co.uk/products/living-dining/sofas-chairs/ligne-roset/togo-by-ligne-roset: cannot unpack non-iterable NoneType object\n",
      "Error processing https://www.hopewells.co.uk/products/living-dining/sofas-chairs/ligne-roset/vilna-by-ligne-roset: cannot unpack non-iterable NoneType object\n",
      "Error processing https://www.hopewells.co.uk/products/living-dining/sofas-chairs/ligne-roset/pumpkin-by-ligne-roset: cannot unpack non-iterable NoneType object\n",
      "Error processing https://www.hopewells.co.uk/products/living-dining/sofas-chairs/ligne-roset/enna-by-ligne-roset: cannot unpack non-iterable NoneType object\n",
      "Error processing https://www.hopewells.co.uk/products/living-dining/sofas-chairs/ligne-roset/odessa-by-ligne-roset: cannot unpack non-iterable NoneType object\n",
      "Error processing https://www.hopewells.co.uk/products/living-dining/sofas-chairs/ligne-roset/prado-by-ligne-roset: cannot unpack non-iterable NoneType object\n",
      "Error processing https://www.hopewells.co.uk/products/living-dining/sofas-chairs/ligne-roset/ligne-roset-dita: cannot unpack non-iterable NoneType object\n"
     ]
    },
    {
     "name": "stderr",
     "output_type": "stream",
     "text": [
      "Processing URLs:   2%|▏         | 473/30000 [00:27<10:54, 45.11it/s]"
     ]
    },
    {
     "name": "stdout",
     "output_type": "stream",
     "text": [
      "Error processing https://www.hopewells.co.uk/products/living-dining/sofas-chairs/ligne-roset/ligne-roset-taru: cannot unpack non-iterable NoneType object\n",
      "Error processing https://www.hopewells.co.uk/products/living-dining/sofas-chairs/ligne-roset/ligne-roset-selvans: cannot unpack non-iterable NoneType object\n",
      "Error processing https://www.hopewells.co.uk/products/living-dining/sofas-chairs/ligne-roset/ava-by-ligne-roset: cannot unpack non-iterable NoneType object\n",
      "Error processing https://www.hopewells.co.uk/products/living-dining/sofas-chairs/ligne-roset/ligne-roset-cm131-chair: cannot unpack non-iterable NoneType object\n",
      "Error processing https://www.hopewells.co.uk/products/living-dining/sofas-chairs/ligne-roset/pukka-by-ligne-roset: cannot unpack non-iterable NoneType object\n",
      "Error processing https://www.hopewells.co.uk/products/living-dining/sofas-chairs/ligne-roset/ligne-roset-amadora-occasional-table: cannot unpack non-iterable NoneType object\n",
      "Error processing https://www.hopewells.co.uk/products/living-dining/sofas-chairs/ligne-roset/ligne-roset-piazza-adjustable-bar-table: cannot unpack non-iterable NoneType object\n",
      "Error processing https://www.hopewells.co.uk/products/living-dining/sofas-chairs/ligne-roset/ligne-roset-canaletto-2-door-display-cabinet: cannot unpack non-iterable NoneType object\n",
      "Error processing https://www.hopewells.co.uk/products/living-dining/sofas-chairs/ligne-roset/ligne-roset-pam: cannot unpack non-iterable NoneType object\n",
      "Error processing https://www.hopewells.co.uk/products/living-dining/sofas-chairs/ligne-roset/ligne-roset-intervalle: cannot unpack non-iterable NoneType object\n",
      "Error processing https://www.hopewells.co.uk/products/living-dining/dining-furniture/skovby: cannot unpack non-iterable NoneType object\n"
     ]
    },
    {
     "name": "stderr",
     "output_type": "stream",
     "text": [
      "Processing URLs:   2%|▏         | 484/30000 [00:27<10:25, 47.21it/s]"
     ]
    },
    {
     "name": "stdout",
     "output_type": "stream",
     "text": [
      "Error processing https://www.hopewells.co.uk/products/living-dining/dining-furniture/skovby/skovby-sm23-dining-table: cannot unpack non-iterable NoneType object\n",
      "Error processing https://www.hopewells.co.uk/products/living-dining/dining-furniture/skovby/skovby-sm26-dining-table: cannot unpack non-iterable NoneType object\n",
      "Error processing https://www.hopewells.co.uk/products/living-dining/dining-furniture/skovby/skovby-sm11-dining-table: cannot unpack non-iterable NoneType object\n",
      "Error processing https://www.hopewells.co.uk/products/living-dining/dining-furniture/skovby/skovby-sm30-high-rise-table: cannot unpack non-iterable NoneType object\n",
      "Error processing https://www.hopewells.co.uk/products/living-dining/dining-furniture/skovby/skovby-sm27-dining-table: cannot unpack non-iterable NoneType object\n",
      "Error processing https://www.hopewells.co.uk/products/living-dining/dining-furniture/skovby/skovby-sm24-dining-table: cannot unpack non-iterable NoneType object\n",
      "Error processing https://www.hopewells.co.uk/products/living-dining/dining-furniture/skovby/skovby-sm37-dining-table: cannot unpack non-iterable NoneType object\n",
      "Error processing https://www.hopewells.co.uk/products/living-dining/dining-furniture/skovby/skovby-sm33-dining-table: cannot unpack non-iterable NoneType object\n"
     ]
    },
    {
     "name": "stderr",
     "output_type": "stream",
     "text": [
      "Processing URLs:   2%|▏         | 489/30000 [00:28<13:52, 35.43it/s]"
     ]
    },
    {
     "name": "stdout",
     "output_type": "stream",
     "text": [
      "Error processing https://www.hopewells.co.uk/products/living-dining/dining-furniture/skovby/skovby-sm74-ellipse-table: cannot unpack non-iterable NoneType object\n",
      "Error processing https://www.hopewells.co.uk/products/living-dining/dining-furniture/skovby/skovby-sm39-dining-table: cannot unpack non-iterable NoneType object\n",
      "Error processing https://www.hopewells.co.uk/products/living-dining/sofas-chairs/sofas/style: cannot unpack non-iterable NoneType object\n",
      "Error processing https://www.hopewells.co.uk/products/living-dining/sofas-chairs/himolla: cannot unpack non-iterable NoneType object\n",
      "Error processing https://www.hopewells.co.uk/products/living-dining/dining-furniture/skovby/skovby-sm105-plank-table: cannot unpack non-iterable NoneType object\n",
      "Error processing https://www.hopewells.co.uk/products/living-dining/sofas-chairs/himolla/himolla-rhine-recliner-chair: cannot unpack non-iterable NoneType object\n",
      "Error processing https://www.hopewells.co.uk/products/living-dining/sofas-chairs/sofas/himolla-rhine-reclining-wide-2-seat-sofa-2.5: cannot unpack non-iterable NoneType object\n",
      "Error processing https://www.hopewells.co.uk/products/brands/venjakob: cannot unpack non-iterable NoneType object\n",
      "Error processing https://www.hopewells.co.uk/products/living-dining/dining-furniture/skovby/skovby-sm112-round-table: cannot unpack non-iterable NoneType object\n",
      "Error processing https://www.hopewells.co.uk/products/living-dining/dining-furniture/skovby/skovby-sm101-multifunction-table: cannot unpack non-iterable NoneType object\n",
      "Error processing https://www.hopewells.co.uk/products/living-dining/dining-furniture/skovby/skovby-sm111-round-table: cannot unpack non-iterable NoneType object\n"
     ]
    },
    {
     "name": "stderr",
     "output_type": "stream",
     "text": [
      "Processing URLs:   2%|▏         | 503/30000 [00:28<11:23, 43.15it/s]"
     ]
    },
    {
     "name": "stdout",
     "output_type": "stream",
     "text": [
      "Error processing https://www.hopewells.co.uk/products/living-dining/sofas-chairs/sofas/himolla-rhine-reclining-3-seat-sofa: cannot unpack non-iterable NoneType object\n",
      "Error processing https://www.hopewells.co.uk/products/living-dining/sofas-chairs/himolla/himolla-cygnet-2-seat-sofa: cannot unpack non-iterable NoneType object\n",
      "Error processing https://www.hopewells.co.uk/products/living-dining/sofas-chairs/himolla/himolla-cygnet-wide-2-seat-reclining-sofa: cannot unpack non-iterable NoneType object\n",
      "Error processing https://www.hopewells.co.uk/products/living-dining/sofas-chairs/himolla/himolla-azure: cannot unpack non-iterable NoneType object\n",
      "Error processing https://www.hopewells.co.uk/products/living-dining/dining-furniture/skovby/skovby-sm78-ellipse-table: cannot unpack non-iterable NoneType object\n",
      "Error processing https://www.hopewells.co.uk/products/living-dining/dining-furniture/dining-chairs/venjakob-marta-swivel-dining-chair: cannot unpack non-iterable NoneType object\n",
      "Error processing https://www.hopewells.co.uk/products/brands/venjakob/venjakob-et204-circular-dining-table: cannot unpack non-iterable NoneType object\n",
      "Error processing https://www.hopewells.co.uk/products/living-dining/sofas-chairs/himolla/himolla-cygnet-3-seat-reclining-sofa: cannot unpack non-iterable NoneType object\n"
     ]
    },
    {
     "name": "stderr",
     "output_type": "stream",
     "text": [
      "Processing URLs:   2%|▏         | 509/30000 [00:28<10:45, 45.69it/s]"
     ]
    },
    {
     "name": "stdout",
     "output_type": "stream",
     "text": [
      "Error processing https://www.hopewells.co.uk/products/brands/centrepiece-living-dining-furniture: cannot unpack non-iterable NoneType object\n",
      "Error processing https://www.hopewells.co.uk/products/brands/venjakob/venjakob-plan-x3-x313-wall-unit: cannot unpack non-iterable NoneType object\n",
      "Error processing https://www.hopewells.co.uk/products/brands/centrepiece-living-dining-furniture/cage-circular-side-table: cannot unpack non-iterable NoneType object\n",
      "Error processing https://www.hopewells.co.uk/products/living-dining/dining-furniture/dining-tables/venjakob-et634-dining-table: cannot unpack non-iterable NoneType object\n",
      "Error processing https://www.hopewells.co.uk/products/brands/venjakob/venjakob-plan-x1-x141-display-cabinet: cannot unpack non-iterable NoneType object\n",
      "Error processing https://www.hopewells.co.uk/products/brands/centrepiece-living-dining-furniture/cluster-rectangular-dining-table: cannot unpack non-iterable NoneType object\n",
      "Error processing https://www.hopewells.co.uk/products/living-dining/dining-furniture/dining-tables/venjakob-et276-rectangular-oak-dining-table: cannot unpack non-iterable NoneType object\n",
      "Error processing https://www.hopewells.co.uk/products/brands/centrepiece-living-dining-furniture/cluster-console-table: cannot unpack non-iterable NoneType object\n",
      "Error processing https://www.hopewells.co.uk/products/living-dining/dining-furniture/dining-chairs/venjakob-emilie-armchair: cannot unpack non-iterable NoneType object\n",
      "Error processing https://www.hopewells.co.uk/products/brands/centrepiece-living-dining-furniture/cage-circular-coffee-table: cannot unpack non-iterable NoneType object\n"
     ]
    },
    {
     "name": "stderr",
     "output_type": "stream",
     "text": [
      "Processing URLs:   2%|▏         | 519/30000 [00:28<13:15, 37.06it/s]"
     ]
    },
    {
     "name": "stdout",
     "output_type": "stream",
     "text": [
      "Error processing https://www.hopewells.co.uk/products/living-dining/sofas-chairs/michael-tyler: cannot unpack non-iterable NoneType object\n",
      "Error processing https://www.hopewells.co.uk/products/brands/centrepiece-living-dining-furniture/constellation-black-lamp-table: cannot unpack non-iterable NoneType object\n",
      "Error processing https://www.hopewells.co.uk/products/brands/centrepiece-living-dining-furniture/cluster-square-lamp-table: cannot unpack non-iterable NoneType object\n",
      "Error processing https://www.hopewells.co.uk/products/brands/centrepiece-living-dining-furniture/genoa-coffee-table: cannot unpack non-iterable NoneType object\n",
      "Error fetching https://www.hopewells.co.uk/products/living-dining/sofas-chairs/sofas/collins-hayes-beau-collection: HTTPSConnectionPool(host='www.hopewells.co.uk', port=443): Read timed out. (read timeout=3)\n",
      "Error processing https://www.hopewells.co.uk/products/living-dining/sofas-chairs/sofas/collins-hayes-beau-collection: cannot unpack non-iterable NoneType object\n",
      "Error processing https://www.hopewells.co.uk/products/brands/centrepiece-living-dining-furniture/constellation-black-coffee-table: cannot unpack non-iterable NoneType object\n"
     ]
    },
    {
     "name": "stderr",
     "output_type": "stream",
     "text": [
      "Processing URLs:   2%|▏         | 526/30000 [00:28<11:20, 43.34it/s]"
     ]
    },
    {
     "name": "stdout",
     "output_type": "stream",
     "text": [
      "Error processing https://www.hopewells.co.uk/products/brands/centrepiece-living-dining-furniture/genoa-side-table: cannot unpack non-iterable NoneType object\n",
      "Error processing https://www.hopewells.co.uk/products/brands/centrepiece-living-dining-furniture/cluster-rectangular-coffee-table: cannot unpack non-iterable NoneType object\n",
      "Error processing https://www.hopewells.co.uk/products/brands/centrepiece-living-dining-furniture/inverno-coffee-table: cannot unpack non-iterable NoneType object\n",
      "Error processing https://www.hopewells.co.uk/products/brands/centrepiece-living-dining-furniture/inverno-side-table: cannot unpack non-iterable NoneType object\n",
      "Error processing https://www.hopewells.co.uk/products/brands/centrepiece-living-dining-furniture/constellation-stainless-steel-console-table: cannot unpack non-iterable NoneType object\n",
      "Error processing https://www.hopewells.co.uk/products/brands/centrepiece-living-dining-furniture/jeeves-drinks-trolley: cannot unpack non-iterable NoneType object\n",
      "Error processing https://www.hopewells.co.uk/products/brands/centrepiece-living-dining-furniture/lexington-rectangular-coffee-table: cannot unpack non-iterable NoneType object\n",
      "Error processing https://www.hopewells.co.uk/products/brands/centrepiece-living-dining-furniture/cluster-circular-dining-table: cannot unpack non-iterable NoneType object\n",
      "Error processing https://www.hopewells.co.uk/products/brands/centrepiece-living-dining-furniture/constellation-black-console-table: cannot unpack non-iterable NoneType object\n",
      "Error processing https://www.hopewells.co.uk/products/brands/centrepiece-living-dining-furniture/lexington-square-lamp-table: cannot unpack non-iterable NoneType object\n",
      "Error processing https://www.hopewells.co.uk/products/brands/centrepiece-living-dining-furniture/liguria-coffee-table: cannot unpack non-iterable NoneType object\n",
      "Error processing https://www.hopewells.co.uk/products/brands/centrepiece-living-dining-furniture/liguria-side-table: cannot unpack non-iterable NoneType object\n"
     ]
    },
    {
     "name": "stderr",
     "output_type": "stream",
     "text": [
      "Processing URLs:   2%|▏         | 538/30000 [00:29<10:35, 46.35it/s]"
     ]
    },
    {
     "name": "stdout",
     "output_type": "stream",
     "text": [
      "Error processing https://www.hopewells.co.uk/products/brands/centrepiece-living-dining-furniture/metropolitan-square-coffee-table: cannot unpack non-iterable NoneType object\n",
      "Error processing https://www.hopewells.co.uk/products/brands/centrepiece-living-dining-furniture/nico-rectangular-coffee-table: cannot unpack non-iterable NoneType object\n",
      "Error processing https://www.hopewells.co.uk/products/brands/centrepiece-living-dining-furniture/nico-square-lamp-table: cannot unpack non-iterable NoneType object\n",
      "Error processing https://www.hopewells.co.uk/products/brands/centrepiece-living-dining-furniture/constellation-stainless-steel-lamp-table: cannot unpack non-iterable NoneType object\n",
      "Error processing https://www.hopewells.co.uk/products/brands/centrepiece-living-dining-furniture/nebbia-side-table: cannot unpack non-iterable NoneType object\n",
      "Error processing https://www.hopewells.co.uk/products/brands/centrepiece-living-dining-furniture/linea-rectangular-coffee-table: cannot unpack non-iterable NoneType object\n",
      "Error processing https://www.hopewells.co.uk/products/brands/centrepiece-living-dining-furniture/orpheus-circular-coffee-table: cannot unpack non-iterable NoneType object\n",
      "Error processing https://www.hopewells.co.uk/products/brands/centrepiece-living-dining-furniture/metropolitan-square-lamp-table: cannot unpack non-iterable NoneType object\n",
      "Error processing https://www.hopewells.co.uk/products/brands/centrepiece-living-dining-furniture/linea-square-lamp-table: cannot unpack non-iterable NoneType object\n",
      "Error processing https://www.hopewells.co.uk/products/brands/centrepiece-living-dining-furniture/nico-console-table: cannot unpack non-iterable NoneType object\n"
     ]
    },
    {
     "name": "stderr",
     "output_type": "stream",
     "text": [
      "Processing URLs:   2%|▏         | 554/30000 [00:29<09:48, 50.02it/s]"
     ]
    },
    {
     "name": "stdout",
     "output_type": "stream",
     "text": [
      "Error processing https://www.hopewells.co.uk/products/brands/centrepiece-living-dining-furniture/parker-rectangular-coffee-table: cannot unpack non-iterable NoneType object\n",
      "Error processing https://www.hopewells.co.uk/products/brands/centrepiece-living-dining-furniture/cluster-small-circular-dining-table: cannot unpack non-iterable NoneType object\n",
      "Error processing https://www.hopewells.co.uk/products/brands/centrepiece-living-dining-furniture/parker-square-lamp-table: cannot unpack non-iterable NoneType object\n",
      "Error processing https://www.hopewells.co.uk/products/brands/centrepiece-living-dining-furniture/penthouse-square-lamp-table: cannot unpack non-iterable NoneType object\n",
      "Error processing https://www.hopewells.co.uk/products/brands/centrepiece-living-dining-furniture/orpheus-circular-lamp-table: cannot unpack non-iterable NoneType object\n",
      "Error processing https://www.hopewells.co.uk/products/brands/centrepiece-living-dining-furniture/storm-square-lamp-table: cannot unpack non-iterable NoneType object\n",
      "Error processing https://www.hopewells.co.uk/products/brands/centrepiece-living-dining-furniture/nebbia-coffee-table: cannot unpack non-iterable NoneType object\n",
      "Error processing https://www.hopewells.co.uk/products/brands/centrepiece-living-dining-furniture/san-remo-coffee-table: cannot unpack non-iterable NoneType object\n",
      "Error processing https://www.hopewells.co.uk/products/brands/centrepiece-living-dining-furniture/portofino-side-table: cannot unpack non-iterable NoneType object\n",
      "Error processing https://www.hopewells.co.uk/products/brands/centrepiece-living-dining-furniture/sentinel-circular-side-table: cannot unpack non-iterable NoneType object\n",
      "Error processing https://www.hopewells.co.uk/products/living-dining/sofas-chairs/sofas/natuzzi-editions-spiro-corner-sofa: cannot unpack non-iterable NoneType object\n",
      "Error processing https://www.hopewells.co.uk/products/brands/centrepiece-living-dining-furniture/san-remo-side-table: cannot unpack non-iterable NoneType object\n",
      "Error processing https://www.hopewells.co.uk/products/brands/centrepiece-living-dining-furniture/storm-rectangular-coffee-table: cannot unpack non-iterable NoneType object\n",
      "Error processing https://www.hopewells.co.uk/products/brands/centrepiece-living-dining-furniture/sentinel-circular-coffee-table: cannot unpack non-iterable NoneType object\n",
      "Error processing https://www.hopewells.co.uk/products/brands/centrepiece-living-dining-furniture/talisman-square-coffee-table: cannot unpack non-iterable NoneType object\n",
      "Error processing https://www.hopewells.co.uk/products/brands/centrepiece-living-dining-furniture/talisman-square-lamp-table-with-2-drawers: cannot unpack non-iterable NoneType object\n",
      "Error processing https://www.hopewells.co.uk/products/brands/centrepiece-living-dining-furniture/portofino-coffee-table: cannot unpack non-iterable NoneType object\n"
     ]
    },
    {
     "name": "stderr",
     "output_type": "stream",
     "text": [
      "Processing URLs:   2%|▏         | 560/30000 [00:29<09:49, 49.98it/s]"
     ]
    },
    {
     "name": "stdout",
     "output_type": "stream",
     "text": [
      "Error processing https://www.hopewells.co.uk/products/brands/centrepiece-living-dining-furniture/tela-circular-lamp-table: cannot unpack non-iterable NoneType object\n",
      "Error processing https://www.hopewells.co.uk/products/brands/centrepiece-living-dining-furniture/tempest-coffee-table: cannot unpack non-iterable NoneType object\n",
      "Error processing https://www.hopewells.co.uk/products/brands/centrepiece-living-dining-furniture/tempest-side-table: cannot unpack non-iterable NoneType object\n",
      "Error processing https://www.hopewells.co.uk/products/brands/centrepiece-living-dining-furniture/tribeca-coffee-table-with-shelf: cannot unpack non-iterable NoneType object\n",
      "Error processing https://www.hopewells.co.uk/products/brands/centrepiece-living-dining-furniture/tribeca-console-table-with-2-drawers: cannot unpack non-iterable NoneType object\n",
      "Error processing https://www.hopewells.co.uk/products/brands/centrepiece-living-dining-furniture/carnegie-side-table: cannot unpack non-iterable NoneType object\n",
      "Error processing https://www.hopewells.co.uk/products/brands/centrepiece-living-dining-furniture/tela-circular-coffee-table: cannot unpack non-iterable NoneType object\n",
      "Error processing https://www.hopewells.co.uk/products/brands/centrepiece-living-dining-furniture/tusk-square-lamp-table: cannot unpack non-iterable NoneType object\n",
      "Error processing https://www.hopewells.co.uk/products/brands/centrepiece-living-dining-furniture/tribeca-lamp-table-with-drawer: cannot unpack non-iterable NoneType object\n"
     ]
    },
    {
     "name": "stderr",
     "output_type": "stream",
     "text": [
      "Processing URLs:   2%|▏         | 575/30000 [00:30<11:32, 42.47it/s]"
     ]
    },
    {
     "name": "stdout",
     "output_type": "stream",
     "text": [
      "Error processing https://www.hopewells.co.uk/products/brands/centrepiece-living-dining-furniture/apollo-nest-of-two-tables-stainless-steel: cannot unpack non-iterable NoneType object\n",
      "Error processing https://www.hopewells.co.uk/products/brands/centrepiece-living-dining-furniture/cruz-side-table-brushed-brass: cannot unpack non-iterable NoneType object\n",
      "Error processing https://www.hopewells.co.uk/products/brands/centrepiece-living-dining-furniture/cruz-side-table-stainless-steel: cannot unpack non-iterable NoneType object\n",
      "Error processing https://www.hopewells.co.uk/products/brands/centrepiece-living-dining-furniture/empire-side-table: cannot unpack non-iterable NoneType object\n",
      "Error processing https://www.hopewells.co.uk/products/brands/pbj-design-house: cannot unpack non-iterable NoneType object\n",
      "Error processing https://www.hopewells.co.uk/products/brands/centrepiece-living-dining-furniture/leonard-cocktail-table: cannot unpack non-iterable NoneType object\n",
      "Error processing https://www.hopewells.co.uk/products/brands/centrepiece-living-dining-furniture/dakota-side-table: cannot unpack non-iterable NoneType object\n",
      "Error processing https://www.hopewells.co.uk/products/brands/centrepiece-living-dining-furniture/waldorf-side-table: cannot unpack non-iterable NoneType object\n",
      "Error processing https://www.hopewells.co.uk/products/living-dining/dining-furniture/dining-tables/pbj-design-house-aeris-dining-table: cannot unpack non-iterable NoneType object\n",
      "Error processing https://www.hopewells.co.uk/products/brands/centrepiece-living-dining-furniture/lincoln-cocktail-table: cannot unpack non-iterable NoneType object\n"
     ]
    },
    {
     "name": "stderr",
     "output_type": "stream",
     "text": [
      "Processing URLs:   2%|▏         | 591/30000 [00:30<09:04, 54.01it/s]"
     ]
    },
    {
     "name": "stdout",
     "output_type": "stream",
     "text": [
      "Error processing https://www.hopewells.co.uk/products/living-dining/dining-furniture/dining-chairs/pbj-designhouse-tradition-dining-chair: cannot unpack non-iterable NoneType object\n",
      "Error processing https://www.hopewells.co.uk/products/living-dining/dining-furniture/dining-chairs/pbj-designhouse-titan-dining-chair: cannot unpack non-iterable NoneType object\n",
      "Error processing https://www.hopewells.co.uk/products/brands/pbj-design-house/pbj-designhouse-navis-sideboard: cannot unpack non-iterable NoneType object\n",
      "Error processing https://www.hopewells.co.uk/products/home-accessories/mirrors: cannot unpack non-iterable NoneType object\n",
      "Error processing https://www.hopewells.co.uk/products/living-dining/bar-stools/peressini: cannot unpack non-iterable NoneType object\n",
      "Error processing https://www.hopewells.co.uk/products/home-accessories: cannot unpack non-iterable NoneType object\n",
      "Error processing https://www.hopewells.co.uk/products/brands/novibelo/novibelo-trully-sideboard: cannot unpack non-iterable NoneType object\n",
      "Error processing https://www.hopewells.co.uk/products/brands/novibelo/novibelo-blaze-dining-table: cannot unpack non-iterable NoneType object\n",
      "Error processing https://www.hopewells.co.uk/products/brands/novibelo/novibelo-lake-drinks-cabinet: cannot unpack non-iterable NoneType object\n",
      "Error processing https://www.hopewells.co.uk/products/brands/novibelo/novibelo-lake-sideboard: cannot unpack non-iterable NoneType object\n",
      "Error fetching https://www.hopewells.co.uk/products/living-dining/sofas-chairs/ligne-roset/ligne-roset-ploum: HTTPSConnectionPool(host='www.hopewells.co.uk', port=443): Read timed out. (read timeout=3)\n",
      "Error processing https://www.hopewells.co.uk/products/living-dining/sofas-chairs/ligne-roset/ligne-roset-ploum: cannot unpack non-iterable NoneType object\n",
      "Error processing https://www.hopewells.co.uk/products/home-accessories/consoles: cannot unpack non-iterable NoneType object\n",
      "Error processing https://www.hopewells.co.uk/products/brands/novibelo/novibelo-naipe-drinks-cabinet: cannot unpack non-iterable NoneType object\n",
      "Error processing https://www.hopewells.co.uk/products/home-accessories/mirrors/stock-offer-deknudt-decora-side-by-side-mirror: cannot unpack non-iterable NoneType object\n",
      "Error processing https://www.hopewells.co.uk/products/home-accessories/drinkware: cannot unpack non-iterable NoneType object\n"
     ]
    },
    {
     "name": "stderr",
     "output_type": "stream",
     "text": [
      "Processing URLs:   2%|▏         | 597/30000 [00:30<10:16, 47.71it/s]"
     ]
    },
    {
     "name": "stdout",
     "output_type": "stream",
     "text": [
      "Error processing https://www.hopewells.co.uk/products/home-accessories/drinks-trolleys: cannot unpack non-iterable NoneType object\n",
      "Error processing https://www.hopewells.co.uk/products/home-accessories/mirrors/stock-offer-deknudt-decora-criss-cross-mirror: cannot unpack non-iterable NoneType object\n",
      "Error fetching https://www.hopewells.co.uk/products/living-dining/sofas-chairs/ligne-roset/ligne-roset-jolie-stool: HTTPSConnectionPool(host='www.hopewells.co.uk', port=443): Read timed out. (read timeout=3)\n",
      "Error processing https://www.hopewells.co.uk/products/living-dining/sofas-chairs/ligne-roset/ligne-roset-jolie-stool: cannot unpack non-iterable NoneType object\n",
      "Error fetching https://www.hopewells.co.uk/products/living-dining/sofas-chairs/ligne-roset/ligne-roset-ottoman: HTTPSConnectionPool(host='www.hopewells.co.uk', port=443): Read timed out. (read timeout=3)\n",
      "Error processing https://www.hopewells.co.uk/products/living-dining/sofas-chairs/ligne-roset/ligne-roset-ottoman: cannot unpack non-iterable NoneType object\n",
      "Error processing https://www.hopewells.co.uk/products/living-dining/sofas-chairs/ligne-roset/ligne-roset-dedicato-bookcase: cannot unpack non-iterable NoneType object\n",
      "Error processing https://www.hopewells.co.uk/products/living-dining/sofas-chairs/ligne-roset/ligne-roset-telen-sofa: cannot unpack non-iterable NoneType object\n",
      "Error processing https://www.hopewells.co.uk/products/living-dining/sofas-chairs/ligne-roset/ligne-roset-clyde-display-unit: cannot unpack non-iterable NoneType object\n",
      "Error processing https://www.hopewells.co.uk/products/home-accessories/drinks-trolleys/may-drinks-trolley: cannot unpack non-iterable NoneType object\n",
      "Error processing https://www.hopewells.co.uk/products/living-dining/sofas-chairs/ligne-roset/ligne-roset-ploum-sofa: cannot unpack non-iterable NoneType object\n",
      "Error processing https://www.hopewells.co.uk/products/living-dining/sofas-chairs/ligne-roset/ligne-roset-ava-dining-table: cannot unpack non-iterable NoneType object\n",
      "Error processing https://www.hopewells.co.uk/products/brands/novibelo: cannot unpack non-iterable NoneType object\n"
     ]
    },
    {
     "name": "stderr",
     "output_type": "stream",
     "text": [
      "Processing URLs:   2%|▏         | 604/30000 [00:30<10:09, 48.21it/s]"
     ]
    },
    {
     "name": "stdout",
     "output_type": "stream",
     "text": [
      "Error processing https://www.hopewells.co.uk/products/living-dining/sofas-chairs/ligne-roset/ligne-roset-everywhere-3-drawer-chest: cannot unpack non-iterable NoneType object\n"
     ]
    },
    {
     "name": "stderr",
     "output_type": "stream",
     "text": [
      "Processing URLs:   2%|▏         | 614/30000 [00:31<25:14, 19.41it/s]"
     ]
    },
    {
     "name": "stdout",
     "output_type": "stream",
     "text": [
      "Error processing https://www.hopewells.co.uk/products/living-dining/dining-furniture/dining-tables/pbj-designhouse-fusion-dining-table: cannot unpack non-iterable NoneType object\n"
     ]
    },
    {
     "name": "stderr",
     "output_type": "stream",
     "text": [
      "Processing URLs:   2%|▏         | 618/30000 [00:31<25:32, 19.17it/s]"
     ]
    },
    {
     "name": "stdout",
     "output_type": "stream",
     "text": [
      "Error processing https://www.hopewells.co.uk/products/brands/pbj-design-house/pbj-designhouse-fusion-sideboard: cannot unpack non-iterable NoneType object\n"
     ]
    },
    {
     "name": "stderr",
     "output_type": "stream",
     "text": [
      "Processing URLs:   2%|▏         | 624/30000 [00:32<26:55, 18.18it/s]"
     ]
    },
    {
     "name": "stdout",
     "output_type": "stream",
     "text": [
      "Error fetching https://www.hopewells.co.uk/products/brands/centrepiece-living-dining-furniture/penthouse-rectangular-coffee-table: HTTPSConnectionPool(host='www.hopewells.co.uk', port=443): Read timed out. (read timeout=3)\n",
      "Error processing https://www.hopewells.co.uk/products/brands/centrepiece-living-dining-furniture/penthouse-rectangular-coffee-table: cannot unpack non-iterable NoneType object\n"
     ]
    },
    {
     "name": "stderr",
     "output_type": "stream",
     "text": [
      "Processing URLs:   2%|▏         | 633/30000 [00:32<25:37, 19.10it/s]"
     ]
    },
    {
     "name": "stdout",
     "output_type": "stream",
     "text": [
      "Error fetching https://www.hopewells.co.uk/products/brands/centrepiece-living-dining-furniture/tusk-rectangular-coffee-table: HTTPSConnectionPool(host='www.hopewells.co.uk', port=443): Read timed out. (read timeout=3)\n",
      "Error processing https://www.hopewells.co.uk/products/brands/centrepiece-living-dining-furniture/tusk-rectangular-coffee-table: cannot unpack non-iterable NoneType object\n"
     ]
    },
    {
     "name": "stderr",
     "output_type": "stream",
     "text": [
      "Processing URLs:   3%|▎         | 771/30000 [00:39<22:03, 22.09it/s]"
     ]
    },
    {
     "name": "stdout",
     "output_type": "stream",
     "text": [
      "Failed to retrieve https://www.knoll.com/design-plan/products/by-brand/filzfelt-design, Status Code: 404\n",
      "Error processing https://www.knoll.com/design-plan/products/by-brand/filzfelt-design: cannot unpack non-iterable NoneType object\n"
     ]
    },
    {
     "name": "stderr",
     "output_type": "stream",
     "text": [
      "Processing URLs:   3%|▎         | 776/30000 [00:40<45:32, 10.70it/s]"
     ]
    },
    {
     "name": "stdout",
     "output_type": "stream",
     "text": [
      "Failed to retrieve https://www.knoll.com/design-plan/products/by-brand/datesweiser, Status Code: 404\n",
      "Error processing https://www.knoll.com/design-plan/products/by-brand/datesweiser: cannot unpack non-iterable NoneType object\n"
     ]
    },
    {
     "name": "stderr",
     "output_type": "stream",
     "text": [
      "Processing URLs:   3%|▎         | 785/30000 [00:41<46:44, 10.42it/s]"
     ]
    },
    {
     "name": "stdout",
     "output_type": "stream",
     "text": [
      "Failed to retrieve https://www.knoll.com/design-plan/products/by-brand/spinneybeck-design, Status Code: 404\n",
      "Error processing https://www.knoll.com/design-plan/products/by-brand/spinneybeck-design: cannot unpack non-iterable NoneType object\n"
     ]
    },
    {
     "name": "stderr",
     "output_type": "stream",
     "text": [
      "Processing URLs:   3%|▎         | 798/30000 [00:43<1:08:20,  7.12it/s]"
     ]
    },
    {
     "name": "stdout",
     "output_type": "stream",
     "text": [
      "Error processing https://www.knoll.com/design-plan/products/by-designer/platner/: 'in <string>' requires string as left operand, not NoneType"
     ]
    },
    {
     "name": "stderr",
     "output_type": "stream",
     "text": [
      "Processing URLs:   3%|▎         | 800/30000 [00:44<2:12:45,  3.67it/s]"
     ]
    },
    {
     "name": "stdout",
     "output_type": "stream",
     "text": [
      "Error processing https://www.knoll.com/design-plan/products/by-designer/d-stromborg: 'in <string>' requires string as left operand, not NoneType\n",
      "\n",
      "Error processing https://www.knoll.com/design-plan/products/by-designer/ricchio: 'in <string>' requires string as left operand, not NoneType\n",
      "Error processing https://www.knoll.com/design-plan/products/by-designer/architecture-associes: 'in <string>' requires string as left operand, not NoneType\n"
     ]
    },
    {
     "name": "stderr",
     "output_type": "stream",
     "text": [
      "Processing URLs:   3%|▎         | 802/30000 [00:44<2:08:03,  3.80it/s]"
     ]
    },
    {
     "name": "stdout",
     "output_type": "stream",
     "text": [
      "Error processing https://www.knoll.com/design-plan/products/by-designer/rozier-reuter: 'in <string>' requires string as left operand, not NoneType\n",
      "Error processing https://www.knoll.com/design-plan/products/by-designer/harry-bert: 'in <string>' requires string as left operand, not NoneType\n",
      "Error processing https://www.knoll.com/design-plan/products/by-designer/graham: 'in <string>' requires string as left operand, not NoneType\n"
     ]
    },
    {
     "name": "stderr",
     "output_type": "stream",
     "text": [
      "Processing URLs:   3%|▎         | 828/30000 [00:46<22:06, 22.00it/s]  "
     ]
    },
    {
     "name": "stdout",
     "output_type": "stream",
     "text": [
      "Error processing https://www.knoll.com/design-plan/products/by-designer/copeland: 'in <string>' requires string as left operand, not NoneType\n"
     ]
    },
    {
     "name": "stderr",
     "output_type": "stream",
     "text": [
      "Processing URLs:   3%|▎         | 832/30000 [00:47<31:32, 15.41it/s]"
     ]
    },
    {
     "name": "stdout",
     "output_type": "stream",
     "text": [
      "Error processing https://www.knoll.com/design-plan/products/by-category/storage/video-storage-instructions: 'in <string>' requires string as left operand, not NoneType\n",
      "Error processing https://www.knoll.com/design-plan/products/by-designer/adjaye/: 'in <string>' requires string as left operand, not NoneType\n",
      "Error processing https://www.knoll.com/design-plan/products/by-designer/chadwick: 'in <string>' requires string as left operand, not NoneType\n",
      "Error processing https://www.knoll.com/design-plan/products/by-designer/raul-dearmas: 'in <string>' requires string as left operand, not NoneType\n",
      "Error processing https://www.knoll.com/design-plan/products/by-designer/pensi: 'in <string>' requires string as left operand, not NoneType\n",
      "Error processing https://www.knoll.com/design-plan/products/by-designer/franco-albini: 'in <string>' requires string as left operand, not NoneTypeError processing https://www.knoll.com/design-plan/products/by-designer/frattini-magnusson: 'in <string>' requires string as left operand, not NoneType\n",
      "\n",
      "Error processing https://www.knoll.com/design-plan/products/by-designer/rodarte-desinger: 'in <string>' requires string as left operand, not NoneType\n",
      "Error processing https://www.knoll.com/design-plan/products/by-designer/shelton-mindel: 'in <string>' requires string as left operand, not NoneType\n"
     ]
    },
    {
     "name": "stderr",
     "output_type": "stream",
     "text": [
      "Processing URLs:   3%|▎         | 838/30000 [00:48<55:55,  8.69it/s]"
     ]
    },
    {
     "name": "stdout",
     "output_type": "stream",
     "text": [
      "Error processing https://www.knoll.com/design-plan/products/by-designer/durso: 'in <string>' requires string as left operand, not NoneType\n",
      "Error processing https://www.knoll.com/design-plan/products/by-designer/vignelli: 'in <string>' requires string as left operand, not NoneType\n"
     ]
    },
    {
     "name": "stderr",
     "output_type": "stream",
     "text": [
      "Processing URLs:   3%|▎         | 850/30000 [00:49<39:17, 12.36it/s]"
     ]
    },
    {
     "name": "stdout",
     "output_type": "stream",
     "text": [
      "Error processing https://www.knoll.com/design-plan/products/by-designer/maran: 'in <string>' requires string as left operand, not NoneType\n",
      "Error processing https://www.knoll.com/design-plan/products/by-designer/lewis-butler: 'in <string>' requires string as left operand, not NoneType\n",
      "Error processing https://www.knoll.com/design-plan/products/by-designer/bernett-dodziuk: 'in <string>' requires string as left operand, not NoneType\n"
     ]
    },
    {
     "name": "stderr",
     "output_type": "stream",
     "text": [
      "Processing URLs:   3%|▎         | 865/30000 [00:50<33:22, 14.55it/s]"
     ]
    },
    {
     "name": "stdout",
     "output_type": "stream",
     "text": [
      "Error processing https://www.knoll.com/design-plan/products/by-designer/mourge: 'in <string>' requires string as left operand, not NoneType\n"
     ]
    },
    {
     "name": "stderr",
     "output_type": "stream",
     "text": [
      "Processing URLs:   3%|▎         | 870/30000 [00:50<39:19, 12.35it/s]"
     ]
    },
    {
     "name": "stdout",
     "output_type": "stream",
     "text": [
      "Error processing https://www.knoll.com/design-plan/products/by-designer/joseph-ricchio: 'in <string>' requires string as left operand, not NoneType\n",
      "Error processing https://www.knoll.com/design-plan/products/by-designer/crinion/: 'in <string>' requires string as left operand, not NoneType\n"
     ]
    },
    {
     "name": "stderr",
     "output_type": "stream",
     "text": [
      "Processing URLs:   4%|▍         | 1142/30000 [01:03<23:50, 20.18it/s]"
     ]
    },
    {
     "name": "stdout",
     "output_type": "stream",
     "text": [
      "Error processing https://www.morningstartrading.ca/pages/products/entertainment: 'in <string>' requires string as left operand, not NoneType\n",
      "Error processing https://www.morningstartrading.ca/pages/products/dressers: 'in <string>' requires string as left operand, not NoneType\n"
     ]
    },
    {
     "name": "stderr",
     "output_type": "stream",
     "text": [
      "Processing URLs:   4%|▍         | 1148/30000 [01:03<26:31, 18.13it/s]"
     ]
    },
    {
     "name": "stdout",
     "output_type": "stream",
     "text": [
      "Error processing https://www.morningstartrading.ca/pages/products/architectural: 'in <string>' requires string as left operand, not NoneType\n"
     ]
    },
    {
     "name": "stderr",
     "output_type": "stream",
     "text": [
      "Processing URLs:   4%|▍         | 1155/30000 [01:04<21:31, 22.34it/s]"
     ]
    },
    {
     "name": "stdout",
     "output_type": "stream",
     "text": [
      "Error processing http://camerich-bd.com/products/: 'in <string>' requires string as left operand, not NoneType\n"
     ]
    },
    {
     "name": "stderr",
     "output_type": "stream",
     "text": [
      "Processing URLs:   4%|▍         | 1179/30000 [01:05<16:07, 29.80it/s]"
     ]
    },
    {
     "name": "stdout",
     "output_type": "stream",
     "text": [
      "Error fetching http://camerich-bd.com/products/max/: HTTPConnectionPool(host='camerich-bd.com', port=80): Read timed out. (read timeout=3)\n",
      "Error processing http://camerich-bd.com/products/max/: cannot unpack non-iterable NoneType object\n",
      "Error fetching http://camerich-bd.com/products/olo/: HTTPConnectionPool(host='camerich-bd.com', port=80): Read timed out. (read timeout=3)\n",
      "Error processing http://camerich-bd.com/products/olo/: cannot unpack non-iterable NoneType object\n"
     ]
    },
    {
     "name": "stderr",
     "output_type": "stream",
     "text": [
      "Processing URLs:   4%|▍         | 1183/30000 [01:05<29:39, 16.19it/s]"
     ]
    },
    {
     "name": "stdout",
     "output_type": "stream",
     "text": [
      "Error fetching http://camerich-bd.com/products/betty/: HTTPConnectionPool(host='camerich-bd.com', port=80): Read timed out. (read timeout=3)\n",
      "Error processing http://camerich-bd.com/products/betty/: cannot unpack non-iterable NoneType object\n"
     ]
    },
    {
     "name": "stderr",
     "output_type": "stream",
     "text": [
      "Processing URLs:   4%|▍         | 1186/30000 [01:06<35:24, 13.56it/s]"
     ]
    },
    {
     "name": "stdout",
     "output_type": "stream",
     "text": [
      "Error fetching http://camerich-bd.com/products/bend/: HTTPConnectionPool(host='camerich-bd.com', port=80): Read timed out. (read timeout=3)\n",
      "Error processing http://camerich-bd.com/products/bend/: cannot unpack non-iterable NoneType object\n",
      "Error fetching http://camerich-bd.com/products/artina/: HTTPConnectionPool(host='camerich-bd.com', port=80): Read timed out. (read timeout=3)\n",
      "Error processing http://camerich-bd.com/products/artina/: cannot unpack non-iterable NoneType object\n",
      "Error fetching http://camerich-bd.com/products/brooks/: HTTPConnectionPool(host='camerich-bd.com', port=80): Read timed out. (read timeout=3)\n",
      "Error processing http://camerich-bd.com/products/brooks/: cannot unpack non-iterable NoneType object\n",
      "Error fetching http://camerich-bd.com/products/clouds/: HTTPConnectionPool(host='camerich-bd.com', port=80): Read timed out. (read timeout=3)\n",
      "Error processing http://camerich-bd.com/products/clouds/: cannot unpack non-iterable NoneType object\n",
      "Error fetching http://camerich-bd.com/products/casa/: HTTPConnectionPool(host='camerich-bd.com', port=80): Read timed out. (read timeout=3)\n",
      "Error processing http://camerich-bd.com/products/casa/: cannot unpack non-iterable NoneType object\n"
     ]
    },
    {
     "name": "stderr",
     "output_type": "stream",
     "text": [
      "Processing URLs:   4%|▍         | 1193/30000 [01:06<27:08, 17.69it/s]"
     ]
    },
    {
     "name": "stdout",
     "output_type": "stream",
     "text": [
      "Error fetching http://camerich-bd.com/products/balance-plus/: HTTPConnectionPool(host='camerich-bd.com', port=80): Read timed out. (read timeout=3)\n",
      "Error processing http://camerich-bd.com/products/balance-plus/: cannot unpack non-iterable NoneType object\n",
      "Error fetching http://camerich-bd.com/products/avalon/: HTTPConnectionPool(host='camerich-bd.com', port=80): Read timed out. (read timeout=3)\n",
      "Error processing http://camerich-bd.com/products/avalon/: cannot unpack non-iterable NoneType object\n",
      "Error fetching http://camerich-bd.com/products/alison-plus/: HTTPConnectionPool(host='camerich-bd.com', port=80): Read timed out. (read timeout=3)\n",
      "Error processing http://camerich-bd.com/products/alison-plus/: cannot unpack non-iterable NoneType object\n",
      "Error fetching http://camerich-bd.com/products/eddy/: HTTPConnectionPool(host='camerich-bd.com', port=80): Read timed out. (read timeout=3)\n",
      "Error processing http://camerich-bd.com/products/eddy/: cannot unpack non-iterable NoneType object\n"
     ]
    },
    {
     "name": "stderr",
     "output_type": "stream",
     "text": [
      "Processing URLs:   4%|▍         | 1199/30000 [01:06<27:13, 17.64it/s]"
     ]
    },
    {
     "name": "stdout",
     "output_type": "stream",
     "text": [
      "Error fetching http://camerich-bd.com/products/baroque/: HTTPConnectionPool(host='camerich-bd.com', port=80): Read timed out. (read timeout=3)Error fetching http://camerich-bd.com/products/arc/: HTTPConnectionPool(host='camerich-bd.com', port=80): Read timed out. (read timeout=3)\n",
      "Error processing http://camerich-bd.com/products/arc/: cannot unpack non-iterable NoneType object\n",
      "\n",
      "Error processing http://camerich-bd.com/products/baroque/: cannot unpack non-iterable NoneType object\n",
      "Error fetching http://camerich-bd.com/products/crescent-bed/: HTTPConnectionPool(host='camerich-bd.com', port=80): Read timed out. (read timeout=3)\n",
      "Error processing http://camerich-bd.com/products/crescent-bed/: cannot unpack non-iterable NoneType object\n",
      "Error fetching http://camerich-bd.com/products/brooks-bed/: HTTPConnectionPool(host='camerich-bd.com', port=80): Read timed out. (read timeout=3)\n",
      "Error processing http://camerich-bd.com/products/brooks-bed/: cannot unpack non-iterable NoneType object\n"
     ]
    },
    {
     "name": "stderr",
     "output_type": "stream",
     "text": [
      "Processing URLs:   4%|▍         | 1204/30000 [01:07<35:21, 13.57it/s]"
     ]
    },
    {
     "name": "stdout",
     "output_type": "stream",
     "text": [
      "Error fetching http://camerich-bd.com/products/alison-bed-plus/: HTTPConnectionPool(host='camerich-bd.com', port=80): Read timed out. (read timeout=3)\n",
      "Error processing http://camerich-bd.com/products/alison-bed-plus/: cannot unpack non-iterable NoneType object\n"
     ]
    },
    {
     "name": "stderr",
     "output_type": "stream",
     "text": [
      "Processing URLs:   4%|▍         | 1292/30000 [01:15<26:48, 17.85it/s]  "
     ]
    },
    {
     "name": "stdout",
     "output_type": "stream",
     "text": [
      "Error processing https://www.therejectshop.sg/products/heleus-queen-storage-bed-in-mix-grey: 'in <string>' requires string as left operand, not NoneType\n"
     ]
    },
    {
     "name": "stderr",
     "output_type": "stream",
     "text": [
      "Processing URLs:   4%|▍         | 1299/30000 [01:16<39:19, 12.16it/s]"
     ]
    },
    {
     "name": "stdout",
     "output_type": "stream",
     "text": [
      "Error processing https://www.therejectshop.sg/products/jaesong-kid-s-wardrobe: 'in <string>' requires string as left operand, not NoneType\n",
      "Error processing https://www.therejectshop.sg/products/sterling-multi-storage-platform-bedframe-super-single: 'in <string>' requires string as left operand, not NoneType\n",
      "Error processing https://www.therejectshop.sg/products/vanz-armchair-in-black-pu: 'in <string>' requires string as left operand, not NoneType\n",
      "Error processing https://www.therejectshop.sg/products/siswo-sintered-stone-top-dining-table: 'in <string>' requires string as left operand, not NoneType\n",
      "Error processing https://www.therejectshop.sg/products/lefall-ii-2-door-wardrobe-in-dark-walnut-with-drawers: 'in <string>' requires string as left operand, not NoneType\n"
     ]
    },
    {
     "name": "stderr",
     "output_type": "stream",
     "text": [
      "Processing URLs:   4%|▍         | 1302/30000 [01:16<40:14, 11.88it/s]"
     ]
    },
    {
     "name": "stdout",
     "output_type": "stream",
     "text": [
      "Error processing https://www.therejectshop.sg/products/powlet-solid-wood-side-table: 'in <string>' requires string as left operand, not NoneType\n",
      "Error processing https://www.therejectshop.sg/products/vanz-3-seater-sofa-in-black-pu: 'in <string>' requires string as left operand, not NoneType\n",
      "Error processing https://www.therejectshop.sg/products/delsery-3-door-shoe-cabinet-in-oak: 'in <string>' requires string as left operand, not NoneType\n"
     ]
    },
    {
     "name": "stderr",
     "output_type": "stream",
     "text": [
      "Processing URLs:   4%|▍         | 1305/30000 [01:16<43:23, 11.02it/s]"
     ]
    },
    {
     "name": "stdout",
     "output_type": "stream",
     "text": [
      "Error processing https://www.therejectshop.sg/products/swart-side-table: 'in <string>' requires string as left operand, not NoneType\n",
      "Error processing https://www.therejectshop.sg/products/naples-outdoor-coffee-table: 'in <string>' requires string as left operand, not NoneType\n",
      "Error processing https://www.therejectshop.sg/products/zelezniak-ottoman: 'in <string>' requires string as left operand, not NoneType\n",
      "Error processing https://www.therejectshop.sg/products/denver-retro-metal-bar-stool-in-red-m-set-of-4: 'in <string>' requires string as left operand, not NoneType\n",
      "Error processing https://www.therejectshop.sg/products/trax-extendable-dining-table-in-walnut: 'in <string>' requires string as left operand, not NoneType\n"
     ]
    },
    {
     "name": "stderr",
     "output_type": "stream",
     "text": [
      "Processing URLs:   4%|▍         | 1310/30000 [01:17<44:08, 10.83it/s]"
     ]
    },
    {
     "name": "stdout",
     "output_type": "stream",
     "text": [
      "Error processing https://www.therejectshop.sg/products/gazelle-modern-hallway-console-table: 'in <string>' requires string as left operand, not NoneType\n",
      "Error processing https://www.therejectshop.sg/products/evelyn-ii-bedside-table-in-white-with-brown-top-set-of-2: 'in <string>' requires string as left operand, not NoneType\n",
      "Error processing https://www.therejectshop.sg/products/cistern-l-shaped-sofa: 'in <string>' requires string as left operand, not NoneType\n",
      "Error processing https://www.therejectshop.sg/products/valdez-flip-up-coffee-table-in-walnut-black: 'in <string>' requires string as left operand, not NoneType\n"
     ]
    },
    {
     "name": "stderr",
     "output_type": "stream",
     "text": [
      "Processing URLs:   4%|▍         | 1314/30000 [01:17<35:06, 13.62it/s]"
     ]
    },
    {
     "name": "stdout",
     "output_type": "stream",
     "text": [
      "Error processing https://www.therejectshop.sg/products/yuzawa-tv-console-in-walnut: 'in <string>' requires string as left operand, not NoneType\n",
      "Error processing https://www.therejectshop.sg/products/schofield-rustic-solid-wood-round-dining-table: 'in <string>' requires string as left operand, not NoneType\n",
      "Error processing https://www.therejectshop.sg/products/giardina-side-table: 'in <string>' requires string as left operand, not NoneType\n",
      "Error processing https://www.therejectshop.sg/products/christa-side-table: 'in <string>' requires string as left operand, not NoneType\n",
      "Error processing https://www.therejectshop.sg/products/grier-japandi-contemporary-console-table: 'in <string>' requires string as left operand, not NoneType\n",
      "Error processing https://www.therejectshop.sg/products/kriger-3-seater-contemporary-chesterfield-sofa-in-cat-friendly-anchor-grey-velvet-50709-p10-826: 'in <string>' requires string as left operand, not NoneType\n"
     ]
    },
    {
     "name": "stderr",
     "output_type": "stream",
     "text": [
      "Processing URLs:   4%|▍         | 1320/30000 [01:17<29:18, 16.31it/s]"
     ]
    },
    {
     "name": "stdout",
     "output_type": "stream",
     "text": [
      "Error processing https://www.therejectshop.sg/products/concerto-tv-console: 'in <string>' requires string as left operand, not NoneType\n",
      "Error processing https://www.therejectshop.sg/products/denver-retro-metal-bar-stool-in-yellow-m-set-of-4: 'in <string>' requires string as left operand, not NoneType\n",
      "Error processing https://www.therejectshop.sg/products/moynihan-chest-of-drawers: 'in <string>' requires string as left operand, not NoneType\n",
      "Error processing https://www.therejectshop.sg/products/maximus-solid-wood-hallway-console-table-in-white: 'in <string>' requires string as left operand, not NoneType\n",
      "Error processing https://www.therejectshop.sg/products/havanna-wicker-basket-side-cabinet: 'in <string>' requires string as left operand, not NoneType\n"
     ]
    },
    {
     "name": "stderr",
     "output_type": "stream",
     "text": [
      "Processing URLs:   4%|▍         | 1327/30000 [01:18<32:43, 14.60it/s]"
     ]
    },
    {
     "name": "stdout",
     "output_type": "stream",
     "text": [
      "Error processing https://www.therejectshop.sg/products/riley-electric-adjustable-height-writing-table: 'in <string>' requires string as left operand, not NoneType\n",
      "Error processing https://www.therejectshop.sg/products/zhukov-rattan-tv-console: 'in <string>' requires string as left operand, not NoneType\n",
      "Error processing https://www.therejectshop.sg/products/moynihan-1-8m-tv-console: 'in <string>' requires string as left operand, not NoneType\n",
      "Error processing https://www.therejectshop.sg/products/agassi-3-seater-sofa: 'in <string>' requires string as left operand, not NoneType\n",
      "Error processing https://www.therejectshop.sg/products/bethlehem-storage-bench: 'in <string>' requires string as left operand, not NoneType\n",
      "Error processing https://www.therejectshop.sg/products/vanz-2-seater-sofa-in-gold-pu: 'in <string>' requires string as left operand, not NoneType\n"
     ]
    },
    {
     "name": "stderr",
     "output_type": "stream",
     "text": [
      "Processing URLs:   4%|▍         | 1329/30000 [01:18<32:49, 14.56it/s]"
     ]
    },
    {
     "name": "stdout",
     "output_type": "stream",
     "text": [
      "Error processing https://www.therejectshop.sg/products/reinhold-shelf-and-clothes-rack: 'in <string>' requires string as left operand, not NoneTypeError processing https://www.therejectshop.sg/products/heydrich-bench: 'in <string>' requires string as left operand, not NoneType\n",
      "\n",
      "Error processing https://www.therejectshop.sg/products/beauvoir-performance-boucle-dining-chairs-in-white-quartz-boucle-set-of-6: 'in <string>' requires string as left operand, not NoneType\n"
     ]
    },
    {
     "name": "stderr",
     "output_type": "stream",
     "text": [
      "Processing URLs:   4%|▍         | 1332/30000 [01:18<36:18, 13.16it/s]"
     ]
    },
    {
     "name": "stdout",
     "output_type": "stream",
     "text": [
      "Error processing https://www.therejectshop.sg/products/alabama-3xl-black-boucle-sofa: 'in <string>' requires string as left operand, not NoneType\n",
      "Error processing https://www.therejectshop.sg/products/lauren-gold-frame-mirror: 'in <string>' requires string as left operand, not NoneType\n",
      "Error processing https://www.therejectshop.sg/products/trax-ii-extendable-dining-table-in-oak: 'in <string>' requires string as left operand, not NoneType\n"
     ]
    },
    {
     "name": "stderr",
     "output_type": "stream",
     "text": [
      "Processing URLs:   4%|▍         | 1338/30000 [01:19<35:05, 13.61it/s]"
     ]
    },
    {
     "name": "stdout",
     "output_type": "stream",
     "text": [
      "Error processing https://www.therejectshop.sg/products/sleepmed-comfort-single-size-support-spring-mattress-rejuvenate: 'in <string>' requires string as left operand, not NoneType\n",
      "Error processing https://www.therejectshop.sg/products/cohen-performance-boucle-armchair-set-of-2: 'in <string>' requires string as left operand, not NoneType\n",
      "Error processing https://www.therejectshop.sg/products/klaasen-recliner: 'in <string>' requires string as left operand, not NoneType\n",
      "Error processing https://www.therejectshop.sg/products/naples-outdoor-lounge-chair-set-of-2: 'in <string>' requires string as left operand, not NoneType\n",
      "Error processing https://www.therejectshop.sg/products/rohini-smart-top-dining-table: 'in <string>' requires string as left operand, not NoneType\n",
      "Error processing https://www.therejectshop.sg/products/orlando-office-chair-in-black: 'in <string>' requires string as left operand, not NoneType\n"
     ]
    },
    {
     "name": "stderr",
     "output_type": "stream",
     "text": [
      "Processing URLs:   4%|▍         | 1340/30000 [01:19<41:50, 11.42it/s]"
     ]
    },
    {
     "name": "stdout",
     "output_type": "stream",
     "text": [
      "Error processing https://www.therejectshop.sg/products/fire-sale-promo-rays-hb-office-chair-in-black: 'in <string>' requires string as left operand, not NoneType\n"
     ]
    },
    {
     "name": "stderr",
     "output_type": "stream",
     "text": [
      "Processing URLs:   4%|▍         | 1344/30000 [01:19<45:42, 10.45it/s]"
     ]
    },
    {
     "name": "stdout",
     "output_type": "stream",
     "text": [
      "Error processing https://www.therejectshop.sg/products/2-x-venzae-walnut-wood-dining-chairs-set-of-2: 'in <string>' requires string as left operand, not NoneType\n",
      "Error processing https://www.therejectshop.sg/products/avel-bench-in-tawny-orange: 'in <string>' requires string as left operand, not NoneType\n",
      "Error processing https://www.therejectshop.sg/products/freeman-bookshelf: 'in <string>' requires string as left operand, not NoneType\n"
     ]
    },
    {
     "name": "stderr",
     "output_type": "stream",
     "text": [
      "Processing URLs:   4%|▍         | 1349/30000 [01:20<36:41, 13.02it/s]"
     ]
    },
    {
     "name": "stdout",
     "output_type": "stream",
     "text": [
      "Error processing https://www.therejectshop.sg/products/meleagris-dining-chairs-set-of-2: 'in <string>' requires string as left operand, not NoneTypeError processing https://www.therejectshop.sg/products/rensey-outdoor-patio-set-in-grey-mix: 'in <string>' requires string as left operand, not NoneType\n",
      "\n",
      "Error processing https://www.therejectshop.sg/products/jihwan-l-shaped-sectional-chaise-sofa-in-aquamarine-distressed-velvet: 'in <string>' requires string as left operand, not NoneType\n",
      "Error processing https://www.therejectshop.sg/products/nelle-chesterfield-ottoman-in-caramel-brown-pu: 'in <string>' requires string as left operand, not NoneType\n",
      "Error processing https://www.therejectshop.sg/products/eyalim-extendable-tv-console-walnut-white: 'in <string>' requires string as left operand, not NoneType\n",
      "Error processing https://www.therejectshop.sg/products/gardermoen-armchair-set-of-2: 'in <string>' requires string as left operand, not NoneType\n",
      "Error processing https://www.therejectshop.sg/products/gunning-single-size-high-headboard-multi-storage-bedframe: 'in <string>' requires string as left operand, not NoneType\n",
      "Error processing https://www.therejectshop.sg/products/selita-dressing-table-with-mirror: 'in <string>' requires string as left operand, not NoneType\n"
     ]
    },
    {
     "name": "stderr",
     "output_type": "stream",
     "text": [
      "Processing URLs:   5%|▍         | 1356/30000 [01:20<25:32, 18.68it/s]"
     ]
    },
    {
     "name": "stdout",
     "output_type": "stream",
     "text": [
      "Error processing https://www.therejectshop.sg/products/fernandez-bar-table: 'in <string>' requires string as left operand, not NoneType\n",
      "Error processing https://www.therejectshop.sg/products/cove-scandi-3-seater-sofa-in-beige-fabric: 'in <string>' requires string as left operand, not NoneType\n",
      "Error processing https://www.therejectshop.sg/products/kilmer-study-desk-with-storage-in-walnut: 'in <string>' requires string as left operand, not NoneType\n",
      "Error processing https://www.therejectshop.sg/products/hawke-designer-armchair: 'in <string>' requires string as left operand, not NoneType\n",
      "Error processing https://www.therejectshop.sg/products/norton-sideboard: 'in <string>' requires string as left operand, not NoneType\n",
      "Error processing https://www.therejectshop.sg/products/ferrell-display-shelf-large: 'in <string>' requires string as left operand, not NoneType\n"
     ]
    },
    {
     "name": "stderr",
     "output_type": "stream",
     "text": [
      "Processing URLs:   5%|▍         | 1362/30000 [01:20<26:17, 18.15it/s]"
     ]
    },
    {
     "name": "stdout",
     "output_type": "stream",
     "text": [
      "Error processing https://www.therejectshop.sg/products/pair-of-kaffer-bar-stool-in-dark-tint: 'in <string>' requires string as left operand, not NoneType\n",
      "Error processing https://www.therejectshop.sg/products/valien-bedside-table-in-green: 'in <string>' requires string as left operand, not NoneType\n",
      "Error processing https://www.therejectshop.sg/products/trs-clearance-rats-hb-mesh-office-chair: 'in <string>' requires string as left operand, not NoneType\n",
      "Error processing https://www.therejectshop.sg/products/amidela-kids-storage-ladder: 'in <string>' requires string as left operand, not NoneType\n"
     ]
    },
    {
     "name": "stderr",
     "output_type": "stream",
     "text": [
      "Processing URLs:   5%|▍         | 1365/30000 [01:21<26:22, 18.10it/s]"
     ]
    },
    {
     "name": "stdout",
     "output_type": "stream",
     "text": [
      "Error processing https://www.therejectshop.sg/products/reinhart-display-book-cabinet: 'in <string>' requires string as left operand, not NoneType\n",
      "Error processing https://www.therejectshop.sg/products/clearance-winterson-dressing-table: 'in <string>' requires string as left operand, not NoneType\n",
      "Error processing https://www.therejectshop.sg/products/pet-friendly-caviller-recliner: 'in <string>' requires string as left operand, not NoneType\n"
     ]
    },
    {
     "name": "stderr",
     "output_type": "stream",
     "text": [
      "Processing URLs:   5%|▍         | 1367/30000 [01:21<35:39, 13.38it/s]"
     ]
    },
    {
     "name": "stdout",
     "output_type": "stream",
     "text": [
      "Error processing https://www.therejectshop.sg/products/kanolli-ii-sofa-bed-in-beige-velvet: 'in <string>' requires string as left operand, not NoneType\n",
      "Error processing https://www.therejectshop.sg/products/kimetsu-side-table: 'in <string>' requires string as left operand, not NoneType\n"
     ]
    },
    {
     "name": "stderr",
     "output_type": "stream",
     "text": [
      "Processing URLs:   5%|▍         | 1369/30000 [01:21<41:07, 11.60it/s]"
     ]
    },
    {
     "name": "stdout",
     "output_type": "stream",
     "text": [
      "Error processing https://www.therejectshop.sg/products/baena-bedside-table-in-cream-pvc-set-of-2: 'in <string>' requires string as left operand, not NoneType\n",
      "Error processing https://www.therejectshop.sg/products/jaramillo-dining-table-with-sintered-stone-top: 'in <string>' requires string as left operand, not NoneType\n"
     ]
    },
    {
     "name": "stderr",
     "output_type": "stream",
     "text": [
      "Processing URLs:   5%|▍         | 1371/30000 [01:21<41:53, 11.39it/s]"
     ]
    },
    {
     "name": "stdout",
     "output_type": "stream",
     "text": [
      "Error processing https://www.therejectshop.sg/products/karbon-racing-gaming-chair-in-white-green-mesh: 'in <string>' requires string as left operand, not NoneType\n",
      "Error processing https://www.therejectshop.sg/products/hydor-solid-wood-tv-console: 'in <string>' requires string as left operand, not NoneType\n",
      "Error processing https://www.therejectshop.sg/products/volonia-rattan-lounge-chair-in-walnut: 'in <string>' requires string as left operand, not NoneType\n"
     ]
    },
    {
     "name": "stderr",
     "output_type": "stream",
     "text": [
      "Processing URLs:   5%|▍         | 1375/30000 [01:22<46:01, 10.37it/s]"
     ]
    },
    {
     "name": "stdout",
     "output_type": "stream",
     "text": [
      "Error processing https://www.therejectshop.sg/products/fire-sale-promo-edwardo-chesterfield-armchair-in-mustard-yellow-pu: 'in <string>' requires string as left operand, not NoneType\n",
      "Error processing https://www.therejectshop.sg/products/konkrete-industri-series-dining-table: 'in <string>' requires string as left operand, not NoneType\n",
      "Error processing https://www.therejectshop.sg/products/delpini-round-glass-coffee-table: 'in <string>' requires string as left operand, not NoneType\n"
     ]
    },
    {
     "name": "stderr",
     "output_type": "stream",
     "text": [
      "Processing URLs:   5%|▍         | 1377/30000 [01:22<47:28, 10.05it/s]"
     ]
    },
    {
     "name": "stdout",
     "output_type": "stream",
     "text": [
      "Error processing https://www.therejectshop.sg/products/skargard-floor-mirror-mirror: 'in <string>' requires string as left operand, not NoneType\n",
      "Error processing https://www.therejectshop.sg/products/bextor-coffee-table-0-6m: 'in <string>' requires string as left operand, not NoneType\n",
      "Error processing https://www.therejectshop.sg/products/gottfried-genuine-leather-3-seater-sofa-in-green: 'in <string>' requires string as left operand, not NoneType\n",
      "Error processing https://www.therejectshop.sg/products/bellah-corner-dressing-table-in-walnut: 'in <string>' requires string as left operand, not NoneType\n"
     ]
    },
    {
     "name": "stderr",
     "output_type": "stream",
     "text": [
      "Processing URLs:   5%|▍         | 1382/30000 [01:22<41:06, 11.60it/s]"
     ]
    },
    {
     "name": "stdout",
     "output_type": "stream",
     "text": [
      "Error processing https://www.therejectshop.sg/products/starr-minimalist-wireframe-pinewood-top-coffee-table: 'in <string>' requires string as left operand, not NoneType\n",
      "Error processing https://www.therejectshop.sg/products/veilside-storage-bed-frame-white-uk-super-king: 'in <string>' requires string as left operand, not NoneType\n",
      "Error processing https://www.therejectshop.sg/products/molina-round-marble-side-table: 'in <string>' requires string as left operand, not NoneType\n",
      "Error processing https://www.therejectshop.sg/products/raikkonen-wooden-bedside-table-set-of-2: 'in <string>' requires string as left operand, not NoneType\n"
     ]
    },
    {
     "name": "stderr",
     "output_type": "stream",
     "text": [
      "Processing URLs:   5%|▍         | 1387/30000 [01:23<32:53, 14.50it/s]"
     ]
    },
    {
     "name": "stdout",
     "output_type": "stream",
     "text": [
      "Error processing https://www.therejectshop.sg/products/locke-single-size-wooden-bunk-bed-in-white: 'in <string>' requires string as left operand, not NoneType\n",
      "Error processing https://www.therejectshop.sg/products/sleepmed-queen-comfort-support-spring-mattress-verde: 'in <string>' requires string as left operand, not NoneType\n",
      "Error processing https://www.therejectshop.sg/products/permian-industri-series-solid-wood-coffee-table: 'in <string>' requires string as left operand, not NoneType\n",
      "Error processing https://www.therejectshop.sg/products/comfort-dreams-single-size-back-care-spring-mattress-deisy: 'in <string>' requires string as left operand, not NoneType\n",
      "Error processing https://www.therejectshop.sg/products/reid-swivel-armchair-in-teddy-white-fabric: 'in <string>' requires string as left operand, not NoneType\n"
     ]
    },
    {
     "name": "stderr",
     "output_type": "stream",
     "text": [
      "Processing URLs:   5%|▍         | 1391/30000 [01:23<29:50, 15.98it/s]"
     ]
    },
    {
     "name": "stdout",
     "output_type": "stream",
     "text": [
      "Error processing https://www.therejectshop.sg/products/cavadzade-shoe-cabinet: 'in <string>' requires string as left operand, not NoneType\n",
      "Error processing https://www.therejectshop.sg/products/keddie-kids-bedframe-with-underbed-drawers: 'in <string>' requires string as left operand, not NoneType\n",
      "Error processing https://www.therejectshop.sg/products/munchen-extendable-study-table: 'in <string>' requires string as left operand, not NoneType\n",
      "Error processing https://www.therejectshop.sg/products/laissez-standing-mirror-with-clothes-rack: 'in <string>' requires string as left operand, not NoneType\n",
      "Error processing https://www.therejectshop.sg/products/aurelie-study-table: 'in <string>' requires string as left operand, not NoneType\n",
      "Error processing https://www.therejectshop.sg/products/batllo-wooden-bench-1-8m: 'in <string>' requires string as left operand, not NoneType\n",
      "Error processing https://www.therejectshop.sg/products/pedrosa-executive-office-chair-in-black-pu: 'in <string>' requires string as left operand, not NoneType\n"
     ]
    },
    {
     "name": "stderr",
     "output_type": "stream",
     "text": [
      "Processing URLs:   5%|▍         | 1398/30000 [01:23<23:33, 20.24it/s]"
     ]
    },
    {
     "name": "stdout",
     "output_type": "stream",
     "text": [
      "Error processing https://www.therejectshop.sg/products/annabelle-patchwork-sofa-bed-in-brownmix: 'in <string>' requires string as left operand, not NoneType\n",
      "Error processing https://www.therejectshop.sg/products/amaris-3-seater-l-shaped-sofa-in-beige-fabric-chaise-left-when-seated: 'in <string>' requires string as left operand, not NoneType\n",
      "Error processing https://www.therejectshop.sg/products/vernale-chest-of-drawers-in-walnut: 'in <string>' requires string as left operand, not NoneType\n",
      "Error processing https://www.therejectshop.sg/products/peony-dining-table-in-carrara-black-marble: 'in <string>' requires string as left operand, not NoneType\n",
      "Error processing https://www.therejectshop.sg/products/mcfadden-performance-chalk-boucle-storage-bench: 'in <string>' requires string as left operand, not NoneType\n"
     ]
    },
    {
     "name": "stderr",
     "output_type": "stream",
     "text": [
      "Processing URLs:   5%|▍         | 1403/30000 [01:24<31:32, 15.11it/s]"
     ]
    },
    {
     "name": "stdout",
     "output_type": "stream",
     "text": [
      "Error processing https://www.therejectshop.sg/products/roussille-wool-rug-153-x-244cm: 'in <string>' requires string as left operand, not NoneType\n",
      "Error processing https://www.therejectshop.sg/products/barkley-performance-boucle-3-seater-sofa: 'in <string>' requires string as left operand, not NoneType\n",
      "Error processing https://www.therejectshop.sg/products/cavenagh-extendable-dining-table-with-sintered-stone-top: 'in <string>' requires string as left operand, not NoneType\n",
      "Error processing https://www.therejectshop.sg/products/arai-storage-sofa-bed-in-brown-fabric: 'in <string>' requires string as left operand, not NoneType\n"
     ]
    },
    {
     "name": "stderr",
     "output_type": "stream",
     "text": [
      "Processing URLs:   5%|▍         | 1405/30000 [01:24<35:10, 13.55it/s]"
     ]
    },
    {
     "name": "stdout",
     "output_type": "stream",
     "text": [
      "Error processing https://www.therejectshop.sg/products/karl-round-chaise-sectional-sofa-in-ivory-genuine-leather: 'in <string>' requires string as left operand, not NoneType\n"
     ]
    },
    {
     "name": "stderr",
     "output_type": "stream",
     "text": [
      "Processing URLs:   5%|▍         | 1407/30000 [01:24<51:52,  9.19it/s]"
     ]
    },
    {
     "name": "stdout",
     "output_type": "stream",
     "text": [
      "Error processing https://www.therejectshop.sg/products/guler-0-6m-chest-of-drawers: 'in <string>' requires string as left operand, not NoneType\n",
      "Error processing https://www.therejectshop.sg/products/haejana-bedside-table-in-white-wash: 'in <string>' requires string as left operand, not NoneType\n",
      "Error processing https://www.therejectshop.sg/products/spielberg-solid-wood-tv-console: 'in <string>' requires string as left operand, not NoneType\n",
      "Error processing https://www.therejectshop.sg/products/rainey-office-chair-in-orange: 'in <string>' requires string as left operand, not NoneType\n"
     ]
    },
    {
     "name": "stderr",
     "output_type": "stream",
     "text": [
      "Processing URLs:   5%|▍         | 1413/30000 [01:25<45:06, 10.56it/s]"
     ]
    },
    {
     "name": "stdout",
     "output_type": "stream",
     "text": [
      "Error processing https://www.therejectshop.sg/products/logan-2-door-shoe-cabinet-in-oak-white: 'in <string>' requires string as left operand, not NoneType\n",
      "Error processing https://www.therejectshop.sg/products/hackle-dining-table-with-sintered-stone-top-in-black-white: 'in <string>' requires string as left operand, not NoneType\n",
      "Error processing https://www.therejectshop.sg/products/luther-tufted-king-size-bedframe-in-light-blush: 'in <string>' requires string as left operand, not NoneType\n",
      "Error processing https://www.therejectshop.sg/products/xemitec-shoe-cabinet-in-white: 'in <string>' requires string as left operand, not NoneType\n",
      "Error processing https://www.therejectshop.sg/products/moynihan-3-door-shoe-cabinet: 'in <string>' requires string as left operand, not NoneType\n"
     ]
    },
    {
     "name": "stderr",
     "output_type": "stream",
     "text": [
      "Processing URLs:   5%|▍         | 1416/30000 [01:25<37:06, 12.84it/s]"
     ]
    },
    {
     "name": "stdout",
     "output_type": "stream",
     "text": [
      "Error processing https://www.therejectshop.sg/products/santi-valpo-study-desk-with-pedestal: 'in <string>' requires string as left operand, not NoneType\n",
      "Error processing https://www.therejectshop.sg/products/saiki-sideboard: 'in <string>' requires string as left operand, not NoneType\n",
      "Error processing https://www.therejectshop.sg/products/seidel-l-shaped-4-seater-sofa-light-grey-leathaire: 'in <string>' requires string as left operand, not NoneType\n",
      "Error processing https://www.therejectshop.sg/products/vimo-5-tier-bookshelf-in-beech-oak: 'in <string>' requires string as left operand, not NoneType\n",
      "Error processing https://www.therejectshop.sg/products/holt-shelving-unit: 'in <string>' requires string as left operand, not NoneType\n"
     ]
    },
    {
     "name": "stderr",
     "output_type": "stream",
     "text": [
      "Processing URLs:   5%|▍         | 1422/30000 [01:25<31:38, 15.06it/s]"
     ]
    },
    {
     "name": "stdout",
     "output_type": "stream",
     "text": [
      "Error processing https://www.therejectshop.sg/products/kamikazi-ottoman-small: 'in <string>' requires string as left operand, not NoneType\n",
      "Error processing https://www.therejectshop.sg/products/dixson-1-2m-coffee-table: 'in <string>' requires string as left operand, not NoneType\n",
      "Error processing https://www.therejectshop.sg/products/5-pcs-vemia-dining-chair-in-grey: 'in <string>' requires string as left operand, not NoneType\n",
      "Error processing https://www.therejectshop.sg/products/devillard-wooden-dining-chairs-set-of-4: 'in <string>' requires string as left operand, not NoneType\n",
      "Error processing https://www.therejectshop.sg/products/kiberlain-moveable-side-table-with-storage: 'in <string>' requires string as left operand, not NoneType\n",
      "Error processing https://www.therejectshop.sg/products/ara-office-chair-in-red-mesh: 'in <string>' requires string as left operand, not NoneType\n"
     ]
    },
    {
     "name": "stderr",
     "output_type": "stream",
     "text": [
      "Processing URLs:   5%|▍         | 1429/30000 [01:25<23:18, 20.42it/s]"
     ]
    },
    {
     "name": "stdout",
     "output_type": "stream",
     "text": [
      "Error processing https://www.therejectshop.sg/products/dahinten-wall-mirror: 'in <string>' requires string as left operand, not NoneType\n",
      "Error processing https://www.therejectshop.sg/products/klarke-queen-size-upholstered-floating-bedframe: 'in <string>' requires string as left operand, not NoneType\n",
      "Error processing https://www.therejectshop.sg/products/graff-armchair-in-emerald-green-velvet-set-of-4: 'in <string>' requires string as left operand, not NoneType\n",
      "Error processing https://www.therejectshop.sg/products/zambrero-4-seater-sofa-with-ottoman-in-beige-fabric: 'in <string>' requires string as left operand, not NoneType\n",
      "Error processing https://www.therejectshop.sg/products/keller-3-seater-sofa-in-navy-blue: 'in <string>' requires string as left operand, not NoneType\n"
     ]
    },
    {
     "name": "stderr",
     "output_type": "stream",
     "text": [
      "Processing URLs:   5%|▍         | 1432/30000 [01:26<32:37, 14.59it/s]"
     ]
    },
    {
     "name": "stdout",
     "output_type": "stream",
     "text": [
      "Error processing https://www.therejectshop.sg/products/rays-bedside-table: 'in <string>' requires string as left operand, not NoneType\n",
      "Error processing https://www.therejectshop.sg/products/knox-executive-office-chair-in-black: 'in <string>' requires string as left operand, not NoneType\n",
      "Error processing https://www.therejectshop.sg/products/pedrosa-executive-office-chair-in-off-white-pu: 'in <string>' requires string as left operand, not NoneType\n",
      "Error processing https://www.therejectshop.sg/products/graff-armchair-in-emerald-green-velvet-set-of-2: 'in <string>' requires string as left operand, not NoneType\n"
     ]
    },
    {
     "name": "stderr",
     "output_type": "stream",
     "text": [
      "Processing URLs:   5%|▍         | 1438/30000 [01:26<30:10, 15.77it/s]"
     ]
    },
    {
     "name": "stdout",
     "output_type": "stream",
     "text": [
      "Error processing https://www.therejectshop.sg/products/saron-ii-bar-stools-in-green-set-of-2: 'in <string>' requires string as left operand, not NoneType\n",
      "Error processing https://www.therejectshop.sg/products/grossman-2-full-leather-sofa: 'in <string>' requires string as left operand, not NoneType\n",
      "Error processing https://www.therejectshop.sg/products/freeman-height-adjustable-kids-study-table-with-tall-bookshelf-120cm: 'in <string>' requires string as left operand, not NoneType\n",
      "Error processing https://www.therejectshop.sg/products/jailon-extendable-dining-table-with-sintered-stone-top: 'in <string>' requires string as left operand, not NoneType\n"
     ]
    },
    {
     "name": "stderr",
     "output_type": "stream",
     "text": [
      "Processing URLs:   5%|▍         | 1440/30000 [01:26<45:49, 10.39it/s]"
     ]
    },
    {
     "name": "stdout",
     "output_type": "stream",
     "text": [
      "Error processing https://www.therejectshop.sg/products/aumada-queen-size-bedframe-with-storage-drawers: 'in <string>' requires string as left operand, not NoneType\n",
      "Error processing https://www.therejectshop.sg/products/altexa-storage-divan-king-size: 'in <string>' requires string as left operand, not NoneType\n"
     ]
    },
    {
     "name": "stderr",
     "output_type": "stream",
     "text": [
      "Processing URLs:   5%|▍         | 1442/30000 [01:27<54:08,  8.79it/s]"
     ]
    },
    {
     "name": "stdout",
     "output_type": "stream",
     "text": [
      "Error processing https://www.therejectshop.sg/products/borges-sintered-stone-top-extendable-dining-table: 'in <string>' requires string as left operand, not NoneType\n",
      "Error processing https://www.therejectshop.sg/products/m-suite-ii-lb-designer-pu-office-chair: 'in <string>' requires string as left operand, not NoneType\n",
      "Error processing https://www.therejectshop.sg/products/pre-order-salvadore-single-seater-sofa-in-dark-coco-brown-pu-estimated-delivery-end-june-2023-for-next-shipment: 'in <string>' requires string as left operand, not NoneType\n"
     ]
    },
    {
     "name": "stderr",
     "output_type": "stream",
     "text": [
      "Processing URLs:   5%|▍         | 1448/30000 [01:27<37:39, 12.64it/s]"
     ]
    },
    {
     "name": "stdout",
     "output_type": "stream",
     "text": [
      "Error processing https://www.therejectshop.sg/products/monae-3-seater-sofa-in-light-grey-fabric: 'in <string>' requires string as left operand, not NoneType\n",
      "Error processing https://www.therejectshop.sg/products/zikka-industri-series-sideboard-with-iron-wheels: 'in <string>' requires string as left operand, not NoneType\n",
      "Error processing https://www.therejectshop.sg/products/gonell-queen-size-upholstery-bedframe: 'in <string>' requires string as left operand, not NoneType\n",
      "Error processing https://www.therejectshop.sg/products/pet-friendly-elysium-4-seater-l-shaped-chesterfield-sofa-innude-brown-tech-velvet-50704-p7: 'in <string>' requires string as left operand, not NoneType\n",
      "Error processing https://www.therejectshop.sg/products/pet-friendly-salvadore-x-3-seater-chesterfield-sofa-in-ivory-white-tech-fabric-50717-p2: 'in <string>' requires string as left operand, not NoneType\n",
      "Error processing https://www.therejectshop.sg/products/pre-order-pet-friendly-elysium-4-seater-l-shaped-chesterfield-sofa-in-mist-grey-tech-fabric-50710-p3: 'in <string>' requires string as left operand, not NoneType\n"
     ]
    },
    {
     "name": "stderr",
     "output_type": "stream",
     "text": [
      "Processing URLs:   5%|▍         | 1452/30000 [01:27<28:54, 16.46it/s]"
     ]
    },
    {
     "name": "stdout",
     "output_type": "stream",
     "text": [
      "Error processing https://www.therejectshop.sg/products/star-buy-pet-friendly-salvado-ii-3-seater-chesterfield-sofa-in-olive-grey-tech-pu: 'in <string>' requires string as left operand, not NoneType\n",
      "Error processing https://www.therejectshop.sg/products/cat-friendly-romano-grandeur-3-seater-chesterfield-sofa-in-anchor-grey-tech-velvet: 'in <string>' requires string as left operand, not NoneType\n",
      "Error processing https://www.therejectshop.sg/products/cat-friendly-salvadore-x-2-seater-chesterfield-sofa-in-moss-green-tech-velvet: 'in <string>' requires string as left operand, not NoneType\n",
      "Error processing https://www.therejectshop.sg/products/kriger-3-seater-contemporary-chesterfield-sofa-in-cat-friendly-ivory-white-fabric-50717-p2-826: 'in <string>' requires string as left operand, not NoneType\n",
      "Error processing https://www.therejectshop.sg/products/kamdakis-contemporary-3-seater-chesterfield-sofa-in-pet-friendly-pine-green-tech-velvet-52210-p8-836: 'in <string>' requires string as left operand, not NoneType\n"
     ]
    },
    {
     "name": "stderr",
     "output_type": "stream",
     "text": [
      "Processing URLs:   5%|▍         | 1455/30000 [01:27<30:17, 15.70it/s]"
     ]
    },
    {
     "name": "stdout",
     "output_type": "stream",
     "text": [
      "Error processing https://www.therejectshop.sg/products/star-buy-pet-friendly-valente-designs-3-seater-sofa-in-matt-black-leathaire: 'in <string>' requires string as left operand, not NoneType\n",
      "Error processing https://www.therejectshop.sg/products/pre-order-salvadore-x-3-seater-chesterfield-sofa-in-dark-coco-brown-pu: 'in <string>' requires string as left operand, not NoneType\n",
      "Error processing https://www.therejectshop.sg/products/cat-friendly-romano-grandeur-3-seater-sofa-in-ivory-white-tech-fabric-50717-02: 'in <string>' requires string as left operand, not NoneType\n",
      "Error processing https://www.therejectshop.sg/products/cat-friendly-romano-grandeur-3-seater-chesterfield-sofa-in-anchor-grey-tech-velvet-50709-p10: 'in <string>' requires string as left operand, not NoneType\n",
      "Error processing https://www.therejectshop.sg/products/pet-friendly-valentora-3-seater-chesterfield-sofa-in-storm-grey-tech-leathaire: 'in <string>' requires string as left operand, not NoneType\n",
      "Error processing https://www.therejectshop.sg/products/cat-friendly-romano-grandeur-3-seater-chesterfield-sofa-in-stone-grey-tech-leathaire: 'in <string>' requires string as left operand, not NoneType\n"
     ]
    },
    {
     "name": "stderr",
     "output_type": "stream",
     "text": [
      "Processing URLs:   5%|▍         | 1463/30000 [01:28<23:20, 20.37it/s]"
     ]
    },
    {
     "name": "stdout",
     "output_type": "stream",
     "text": [
      "Error processing https://www.therejectshop.sg/products/pre-order-botteva-3-seater-chesterfield-sofa-in-dark-coco-pu-estimated-delivery-by-july-2023: 'in <string>' requires string as left operand, not NoneType\n",
      "Error processing https://www.therejectshop.sg/products/freya-nesting-coffee-table-set-in-matt-gold-frame: 'in <string>' requires string as left operand, not NoneType\n",
      "Error processing https://www.therejectshop.sg/products/lafaya-single-day-bed-with-pull-out-drawers-in-grey-fabric: 'in <string>' requires string as left operand, not NoneType\n",
      "Error processing https://www.therejectshop.sg/products/aytes-queen-size-performance-boucle-bedframe: 'in <string>' requires string as left operand, not NoneType\n"
     ]
    },
    {
     "name": "stderr",
     "output_type": "stream",
     "text": [
      "Processing URLs:   5%|▍         | 1466/30000 [01:28<29:04, 16.36it/s]"
     ]
    },
    {
     "name": "stdout",
     "output_type": "stream",
     "text": [
      "Error processing https://www.therejectshop.sg/products/westfield-ottoman: 'in <string>' requires string as left operand, not NoneType\n",
      "Error processing https://www.therejectshop.sg/products/pre-order-botteva-3-seater-chesterfield-sofa-in-gloss-black-pu-estimated-delivery-by-july-2023: 'in <string>' requires string as left operand, not NoneType\n",
      "Error processing https://www.therejectshop.sg/products/pre-order-salvadore-x-3-seater-chesterfield-sofa-in-emerald-green-pu-estimated-delivery-by-end-of-may-2023: 'in <string>' requires string as left operand, not NoneType\n"
     ]
    },
    {
     "name": "stderr",
     "output_type": "stream",
     "text": [
      "Processing URLs:   5%|▍         | 1468/30000 [01:28<30:12, 15.74it/s]"
     ]
    },
    {
     "name": "stdout",
     "output_type": "stream",
     "text": [
      "Error processing https://www.therejectshop.sg/products/sleepmed-queen-comfort-support-spring-mattress-rejuvenate: 'in <string>' requires string as left operand, not NoneType\n",
      "Error processing https://www.therejectshop.sg/products/shekain-wooden-bunk-bedframe: 'in <string>' requires string as left operand, not NoneType\n"
     ]
    },
    {
     "name": "stderr",
     "output_type": "stream",
     "text": [
      "Processing URLs:   5%|▍         | 1472/30000 [01:29<39:14, 12.12it/s]"
     ]
    },
    {
     "name": "stdout",
     "output_type": "stream",
     "text": [
      "Error processing https://www.therejectshop.sg/products/denerry-4-seater-sofa-in-velvet-light-brown: 'in <string>' requires string as left operand, not NoneType\n",
      "Error processing https://www.therejectshop.sg/products/revaer-triangular-side-table-in-walnut: 'in <string>' requires string as left operand, not NoneType\n",
      "Error processing https://www.therejectshop.sg/products/volten-chest-of-drawers: 'in <string>' requires string as left operand, not NoneType\n"
     ]
    },
    {
     "name": "stderr",
     "output_type": "stream",
     "text": [
      "Processing URLs:   5%|▍         | 1474/30000 [01:29<43:08, 11.02it/s]"
     ]
    },
    {
     "name": "stdout",
     "output_type": "stream",
     "text": [
      "Error processing https://www.therejectshop.sg/products/ashton-queen-size-bedframe-with-drawers: 'in <string>' requires string as left operand, not NoneType\n",
      "Error processing https://www.therejectshop.sg/products/boudica-tv-console: 'in <string>' requires string as left operand, not NoneType\n",
      "Error processing https://www.therejectshop.sg/products/trs-elemento-cool-gel-memory-foam-king-size-mattress: 'in <string>' requires string as left operand, not NoneType\n"
     ]
    },
    {
     "name": "stderr",
     "output_type": "stream",
     "text": [
      "Processing URLs:   5%|▍         | 1478/30000 [01:29<46:00, 10.33it/s]"
     ]
    },
    {
     "name": "stdout",
     "output_type": "stream",
     "text": [
      "Error processing https://www.therejectshop.sg/products/zickle-king-size-bed: 'in <string>' requires string as left operand, not NoneType\n",
      "Error processing https://www.therejectshop.sg/products/cruz-armchair: 'in <string>' requires string as left operand, not NoneType\n",
      "Error processing https://www.therejectshop.sg/products/valorant-dining-chairs-set-of-2: 'in <string>' requires string as left operand, not NoneType\n"
     ]
    },
    {
     "name": "stderr",
     "output_type": "stream",
     "text": [
      "Processing URLs:   5%|▍         | 1483/30000 [01:30<35:53, 13.24it/s]"
     ]
    },
    {
     "name": "stdout",
     "output_type": "stream",
     "text": [
      "Error processing https://www.therejectshop.sg/products/khorva-tv-console-with-sintered-stone-top: 'in <string>' requires string as left operand, not NoneType\n",
      "Error processing https://www.therejectshop.sg/products/cletus-shelving-unit-on-wheels: 'in <string>' requires string as left operand, not NoneType\n",
      "Error processing https://www.therejectshop.sg/products/pastelle-5-drawers-hand-crafted-cabinet: 'in <string>' requires string as left operand, not NoneType\n",
      "Error processing https://www.therejectshop.sg/products/neeson-mini-display-shelf-in-light-grey: 'in <string>' requires string as left operand, not NoneType\n",
      "Error processing https://www.therejectshop.sg/products/owenns-bar-stool-in-black-2pcs: 'in <string>' requires string as left operand, not NoneType\n"
     ]
    },
    {
     "name": "stderr",
     "output_type": "stream",
     "text": [
      "Processing URLs:   5%|▍         | 1487/30000 [01:30<36:12, 13.13it/s]"
     ]
    },
    {
     "name": "stdout",
     "output_type": "stream",
     "text": [
      "Error processing https://www.therejectshop.sg/products/kiberlain-dining-chair-set-of-2: 'in <string>' requires string as left operand, not NoneType\n",
      "Error processing https://www.therejectshop.sg/products/miklos-0-6m-display-cabinet-with-drawers: 'in <string>' requires string as left operand, not NoneType\n",
      "Error processing https://www.therejectshop.sg/products/kasady-office-chair: 'in <string>' requires string as left operand, not NoneType\n",
      "Error processing https://www.therejectshop.sg/products/panton-0-65cm-bookshelf: 'in <string>' requires string as left operand, not NoneType\n",
      "Error processing https://www.therejectshop.sg/products/morganna-acacia-wooden-coffee-table: 'in <string>' requires string as left operand, not NoneType\n",
      "Error processing https://www.therejectshop.sg/products/bazzi-dining-chairs-in-khaki-set-of-4: 'in <string>' requires string as left operand, not NoneType\n",
      "Error processing https://www.therejectshop.sg/products/trs-clearance-sale-darius-nesting-coffee-table-set-in-natural-66cm: 'in <string>' requires string as left operand, not NoneType\n",
      "Error processing https://www.therejectshop.sg/products/heracles-ii-nesting-coffee-table-in-natural-66cm: 'in <string>' requires string as left operand, not NoneType\n",
      "Error processing https://www.therejectshop.sg/products/frasso-dining-chairs-off-white-pu-set-of-4: 'in <string>' requires string as left operand, not NoneType\n",
      "Error processing https://www.therejectshop.sg/products/milhous-high-back-mesh-office-chair: 'in <string>' requires string as left operand, not NoneType\n"
     ]
    },
    {
     "name": "stderr",
     "output_type": "stream",
     "text": [
      "Processing URLs:   5%|▍         | 1496/30000 [01:30<27:04, 17.55it/s]"
     ]
    },
    {
     "name": "stdout",
     "output_type": "stream",
     "text": [
      "Error processing https://www.therejectshop.sg/products/zieger-pink-aluminum-armchair-set-of-2: 'in <string>' requires string as left operand, not NoneType\n",
      "Error processing https://www.therejectshop.sg/products/steatford-boucle-chair: 'in <string>' requires string as left operand, not NoneType\n",
      "Error processing https://www.therejectshop.sg/products/troian-3-seater-sofa-in-leatheaire: 'in <string>' requires string as left operand, not NoneType\n",
      "Error processing https://www.therejectshop.sg/products/nemorum-bedside-table-set-of-2: 'in <string>' requires string as left operand, not NoneType\n",
      "Error processing https://www.therejectshop.sg/products/williamson-bar-chairs-set-of-2: 'in <string>' requires string as left operand, not NoneType\n",
      "Error processing https://www.therejectshop.sg/products/sourin-5-tier-chest-of-drawers-in-grey: 'in <string>' requires string as left operand, not NoneType\n"
     ]
    },
    {
     "name": "stderr",
     "output_type": "stream",
     "text": [
      "Processing URLs:   5%|▌         | 1502/30000 [01:31<27:45, 17.11it/s]"
     ]
    },
    {
     "name": "stdout",
     "output_type": "stream",
     "text": [
      "Error processing https://www.therejectshop.sg/products/bastien-4pax-work-station-in-white-teal-green: 'in <string>' requires string as left operand, not NoneType\n",
      "Error processing https://www.therejectshop.sg/products/banerjee-dining-table: 'in <string>' requires string as left operand, not NoneType\n",
      "Error processing https://www.therejectshop.sg/products/ragwort-solid-pine-wood-study-desk: 'in <string>' requires string as left operand, not NoneType\n",
      "Error processing https://www.therejectshop.sg/products/frasso-dining-chairs-fabric-set-of-2: 'in <string>' requires string as left operand, not NoneType\n"
     ]
    },
    {
     "name": "stderr",
     "output_type": "stream",
     "text": [
      "Processing URLs:   5%|▌         | 1504/30000 [01:31<34:46, 13.66it/s]"
     ]
    },
    {
     "name": "stdout",
     "output_type": "stream",
     "text": [
      "Error processing https://www.therejectshop.sg/products/nago-round-dining-table-in-natural-1: 'in <string>' requires string as left operand, not NoneType\n",
      "Error processing https://www.therejectshop.sg/products/bedding-day-single-performance-spring-mattress-selene-ii: 'in <string>' requires string as left operand, not NoneType\n"
     ]
    },
    {
     "name": "stderr",
     "output_type": "stream",
     "text": [
      "Processing URLs:   5%|▌         | 1508/30000 [01:31<41:08, 11.54it/s]"
     ]
    },
    {
     "name": "stdout",
     "output_type": "stream",
     "text": [
      "Error processing https://www.therejectshop.sg/products/bedding-day-single-size-hotel-performance-pocketed-spring-mattress-with-pillow-top-hypnos: 'in <string>' requires string as left operand, not NoneType\n",
      "Error processing https://www.therejectshop.sg/products/wagner-single-size-wooden-bedframe: 'in <string>' requires string as left operand, not NoneType\n",
      "Error processing https://www.therejectshop.sg/products/pinter-tv-console: 'in <string>' requires string as left operand, not NoneType\n"
     ]
    },
    {
     "name": "stderr",
     "output_type": "stream",
     "text": [
      "Processing URLs:   5%|▌         | 1510/30000 [01:32<47:20, 10.03it/s]"
     ]
    },
    {
     "name": "stdout",
     "output_type": "stream",
     "text": [
      "Error processing https://www.therejectshop.sg/products/gravenhorst-bedside-table: 'in <string>' requires string as left operand, not NoneType\n",
      "Error processing https://www.therejectshop.sg/products/saxony-industri-series-chest-of-drawers: 'in <string>' requires string as left operand, not NoneType\n",
      "Error processing https://www.therejectshop.sg/products/suvarna-outdoor-5-piece-rattan-dining-set: 'in <string>' requires string as left operand, not NoneType\n",
      "Error processing https://www.therejectshop.sg/products/grassel-uk-small-double-storage-bedframe-with-side-shelves: 'in <string>' requires string as left operand, not NoneType\n",
      "Error processing https://www.therejectshop.sg/products/gaesung-ottoman-in-shadow-grey: 'in <string>' requires string as left operand, not NoneType\n"
     ]
    },
    {
     "name": "stderr",
     "output_type": "stream",
     "text": [
      "Processing URLs:   5%|▌         | 1515/30000 [01:32<39:16, 12.09it/s]"
     ]
    },
    {
     "name": "stdout",
     "output_type": "stream",
     "text": [
      "Error processing https://www.therejectshop.sg/products/jovic-1-2m-study-desk: 'in <string>' requires string as left operand, not NoneType\n",
      "Error processing https://www.therejectshop.sg/products/kellogg-lounge-chair-in-twany: 'in <string>' requires string as left operand, not NoneType\n",
      "Error processing https://www.therejectshop.sg/products/star-buy-cat-friendly-salvado-ii-3-seater-chesterfield-sofa-in-dover-white-tech-fabric: 'in <string>' requires string as left operand, not NoneType\n"
     ]
    },
    {
     "name": "stderr",
     "output_type": "stream",
     "text": [
      "Processing URLs:   5%|▌         | 1519/30000 [01:32<39:54, 11.89it/s]"
     ]
    },
    {
     "name": "stdout",
     "output_type": "stream",
     "text": [
      "Error processing https://www.therejectshop.sg/products/cat-friendly-salvado-ii-3-seater-chesterfield-sofa-in-charcoal-grey-tech-velvet-50709-p10: 'in <string>' requires string as left operand, not NoneType\n",
      "Error processing https://www.therejectshop.sg/products/concerto-c-side-table-set-of-2: 'in <string>' requires string as left operand, not NoneType\n",
      "Error processing https://www.therejectshop.sg/products/vettel-acacia-wooden-bedside-table: 'in <string>' requires string as left operand, not NoneType\n"
     ]
    },
    {
     "name": "stderr",
     "output_type": "stream",
     "text": [
      "Processing URLs:   5%|▌         | 1521/30000 [01:33<42:18, 11.22it/s]"
     ]
    },
    {
     "name": "stdout",
     "output_type": "stream",
     "text": [
      "Error processing https://www.therejectshop.sg/products/amari-round-coffee-table: 'in <string>' requires string as left operand, not NoneType\n",
      "Error processing https://www.therejectshop.sg/products/russkoe-shoe-cabinet: 'in <string>' requires string as left operand, not NoneType\n",
      "Error processing https://www.therejectshop.sg/products/leone-wooden-dressing-table-with-mirror: 'in <string>' requires string as left operand, not NoneType\n",
      "Error processing https://www.therejectshop.sg/products/rhodge-chest-of-drawers: 'in <string>' requires string as left operand, not NoneType\n",
      "Error processing https://www.therejectshop.sg/products/subgur-sintered-stone-top-coffee-table: 'in <string>' requires string as left operand, not NoneType\n"
     ]
    },
    {
     "name": "stderr",
     "output_type": "stream",
     "text": [
      "Processing URLs:   5%|▌         | 1526/30000 [01:33<31:04, 15.27it/s]"
     ]
    },
    {
     "name": "stdout",
     "output_type": "stream",
     "text": [
      "Error processing https://www.therejectshop.sg/products/brogdon-solid-wood-hallway-console-table: 'in <string>' requires string as left operand, not NoneType\n",
      "Error processing https://www.therejectshop.sg/products/vandom-study-desk-in-white: 'in <string>' requires string as left operand, not NoneType\n",
      "Error processing https://www.therejectshop.sg/products/4-x-volkz-chair-in-grey-fabric: 'in <string>' requires string as left operand, not NoneType\n"
     ]
    },
    {
     "name": "stderr",
     "output_type": "stream",
     "text": [
      "Processing URLs:   5%|▌         | 1531/30000 [01:33<28:52, 16.43it/s]"
     ]
    },
    {
     "name": "stdout",
     "output_type": "stream",
     "text": [
      "Error processing https://www.therejectshop.sg/products/sourin-5-tier-chest-of-drawers-in-birch: 'in <string>' requires string as left operand, not NoneType\n",
      "Error processing https://www.therejectshop.sg/products/brincker-study-desk: 'in <string>' requires string as left operand, not NoneType\n",
      "Error processing https://www.therejectshop.sg/products/atoga-dining-table-on-walnut: 'in <string>' requires string as left operand, not NoneType\n",
      "Error processing https://www.therejectshop.sg/products/renfield-round-coffee-table: 'in <string>' requires string as left operand, not NoneType\n",
      "Error processing https://www.therejectshop.sg/products/fulani-wool-area-rug-large: 'in <string>' requires string as left operand, not NoneType\n"
     ]
    },
    {
     "name": "stderr",
     "output_type": "stream",
     "text": [
      "Processing URLs:   5%|▌         | 1533/30000 [01:33<31:42, 14.96it/s]"
     ]
    },
    {
     "name": "stdout",
     "output_type": "stream",
     "text": [
      "Error processing https://www.therejectshop.sg/products/makkonen-leather-counter-stool-set-of-2: 'in <string>' requires string as left operand, not NoneTypeError processing https://www.therejectshop.sg/products/yoruba-wool-area-rug: 'in <string>' requires string as left operand, not NoneType\n"
     ]
    },
    {
     "name": "stderr",
     "output_type": "stream",
     "text": [
      "Processing URLs:   5%|▌         | 1535/30000 [01:34<40:37, 11.68it/s]"
     ]
    },
    {
     "name": "stdout",
     "output_type": "stream",
     "text": [
      "Error processing https://www.therejectshop.sg/products/marshal-1-2m-storage-cabinet: 'in <string>' requires string as left operand, not NoneType\n",
      "Error processing https://www.therejectshop.sg/products/hauszmann-queen-size-wooden-bedframe: 'in <string>' requires string as left operand, not NoneType\n",
      "Error processing https://www.therejectshop.sg/products/ridings-single-size-bedframe: 'in <string>' requires string as left operand, not NoneType\n"
     ]
    },
    {
     "name": "stderr",
     "output_type": "stream",
     "text": [
      "Processing URLs:   5%|▌         | 1540/30000 [01:34<41:18, 11.48it/s]"
     ]
    },
    {
     "name": "stdout",
     "output_type": "stream",
     "text": [
      "Error processing https://www.therejectshop.sg/products/cove-scandi-armchair-in-grey-fabric: 'in <string>' requires string as left operand, not NoneType\n",
      "Error processing https://www.therejectshop.sg/products/tomori-foldable-table: 'in <string>' requires string as left operand, not NoneType\n",
      "Error processing https://www.therejectshop.sg/products/ragha-recliner-in-blue-fabric: 'in <string>' requires string as left operand, not NoneType\n",
      "Error processing https://www.therejectshop.sg/products/emak-5-tier-chest-of-drawers-in-white: 'in <string>' requires string as left operand, not NoneType\n"
     ]
    },
    {
     "name": "stderr",
     "output_type": "stream",
     "text": [
      "Processing URLs:   5%|▌         | 1546/30000 [01:34<30:57, 15.32it/s]"
     ]
    },
    {
     "name": "stdout",
     "output_type": "stream",
     "text": [
      "Error processing https://www.therejectshop.sg/products/chalopin-super-single-storage-bedframe: 'in <string>' requires string as left operand, not NoneType\n",
      "Error processing https://www.therejectshop.sg/products/marken-uk-single-size-kids-bedframe: 'in <string>' requires string as left operand, not NoneType\n",
      "Error processing https://www.therejectshop.sg/products/salvado-ii-3-seater-chesterfield-sofa-in-matte-black: 'in <string>' requires string as left operand, not NoneType\n",
      "Error processing https://www.therejectshop.sg/products/marfiega-queen-size-minimalist-wireframe-canopy-bedframe: 'in <string>' requires string as left operand, not NoneType\n",
      "Error processing https://www.therejectshop.sg/products/yivan-chest-of-drawers-in-white: 'in <string>' requires string as left operand, not NoneType\n"
     ]
    },
    {
     "name": "stderr",
     "output_type": "stream",
     "text": [
      "Processing URLs:   5%|▌         | 1548/30000 [01:34<29:52, 15.88it/s]"
     ]
    },
    {
     "name": "stdout",
     "output_type": "stream",
     "text": [
      "Error processing https://www.therejectshop.sg/products/volonia-rattan-cane-dining-chairs-in-black-with-boucle-cushion-set-of-4: 'in <string>' requires string as left operand, not NoneType\n",
      "Error processing https://www.therejectshop.sg/products/delish-study-table: 'in <string>' requires string as left operand, not NoneType\n",
      "Error processing https://www.therejectshop.sg/products/wade-tv-console: 'in <string>' requires string as left operand, not NoneType\n"
     ]
    },
    {
     "name": "stderr",
     "output_type": "stream",
     "text": [
      "Processing URLs:   5%|▌         | 1550/30000 [01:35<33:08, 14.30it/s]"
     ]
    },
    {
     "name": "stdout",
     "output_type": "stream",
     "text": [
      "Error processing https://www.therejectshop.sg/products/koma-rustic-solid-wood-tv-console: 'in <string>' requires string as left operand, not NoneType\n",
      "Error processing https://www.therejectshop.sg/products/ferguson-coffee-table-set-with-sintered-stone-top: 'in <string>' requires string as left operand, not NoneType\n"
     ]
    },
    {
     "name": "stderr",
     "output_type": "stream",
     "text": [
      "Processing URLs:   5%|▌         | 1552/30000 [01:35<37:14, 12.73it/s]"
     ]
    },
    {
     "name": "stdout",
     "output_type": "stream",
     "text": [
      "Error processing https://www.therejectshop.sg/products/balina-clothes-ladder-hanger: 'in <string>' requires string as left operand, not NoneType\n",
      "Error processing https://www.therejectshop.sg/products/mazlein-study-table: 'in <string>' requires string as left operand, not NoneType\n"
     ]
    },
    {
     "name": "stderr",
     "output_type": "stream",
     "text": [
      "Processing URLs:   5%|▌         | 1554/30000 [01:35<51:06,  9.28it/s]"
     ]
    },
    {
     "name": "stdout",
     "output_type": "stream",
     "text": [
      "Error processing https://www.therejectshop.sg/products/castro-chest-of-drawers: 'in <string>' requires string as left operand, not NoneType\n",
      "Error processing https://www.therejectshop.sg/products/van-dien-1-6m-tv-console: 'in <string>' requires string as left operand, not NoneType\n",
      "Error processing https://www.therejectshop.sg/products/torres-slipcovered-dining-chair-set-of-2: 'in <string>' requires string as left operand, not NoneType\n",
      "Error processing https://www.therejectshop.sg/products/peltoniemi-4-tier-chest-of-drawers: 'in <string>' requires string as left operand, not NoneType\n"
     ]
    },
    {
     "name": "stderr",
     "output_type": "stream",
     "text": [
      "Processing URLs:   5%|▌         | 1560/30000 [01:36<37:32, 12.63it/s]"
     ]
    },
    {
     "name": "stdout",
     "output_type": "stream",
     "text": [
      "Error processing https://www.therejectshop.sg/products/peony-ii-rectangular-coffee-table-in-nero-marquina-marble: 'in <string>' requires string as left operand, not NoneType\n",
      "Error processing https://www.therejectshop.sg/products/levitt-bedside-table-in-walnut-set-of-2: 'in <string>' requires string as left operand, not NoneType\n",
      "Error processing https://www.therejectshop.sg/products/valhalla-kids-bedside-table: 'in <string>' requires string as left operand, not NoneType\n",
      "Error processing https://www.therejectshop.sg/products/cat-friendly-valentora-3-seater-chesterfield-sofa-in-anchor-grey-tech-velvet: 'in <string>' requires string as left operand, not NoneType\n",
      "Error processing https://www.therejectshop.sg/products/lambert-king-bedframe: 'in <string>' requires string as left operand, not NoneType\n",
      "Error processing https://www.therejectshop.sg/products/evie-dining-chair-in-brown-velvet: 'in <string>' requires string as left operand, not NoneType\n",
      "Error processing https://www.therejectshop.sg/products/palmeri-adjustable-writing-desk: 'in <string>' requires string as left operand, not NoneType\n",
      "Error processing https://www.therejectshop.sg/products/twarock-dining-chairs-in-grey-set-of-4: 'in <string>' requires string as left operand, not NoneType\n"
     ]
    },
    {
     "name": "stderr",
     "output_type": "stream",
     "text": [
      "Processing URLs:   5%|▌         | 1566/30000 [01:36<24:41, 19.20it/s]"
     ]
    },
    {
     "name": "stdout",
     "output_type": "stream",
     "text": [
      "Error processing https://www.therejectshop.sg/products/burwood-bar-stools-in-black-set-of-2: 'in <string>' requires string as left operand, not NoneType\n",
      "Error processing https://www.therejectshop.sg/products/devotion-kids-wardrobe: 'in <string>' requires string as left operand, not NoneType\n",
      "Error processing https://www.therejectshop.sg/products/karbon-racing-gaming-chair-in-white-black: 'in <string>' requires string as left operand, not NoneType\n",
      "Error processing https://www.therejectshop.sg/products/ruzenda-single-size-wooden-loft-bedframe-in-white: 'in <string>' requires string as left operand, not NoneType\n"
     ]
    },
    {
     "name": "stderr",
     "output_type": "stream",
     "text": [
      "Processing URLs:   5%|▌         | 1569/30000 [01:36<27:05, 17.49it/s]"
     ]
    },
    {
     "name": "stdout",
     "output_type": "stream",
     "text": [
      "Error processing https://www.therejectshop.sg/products/janeiro-outdoor-teak-dining-chair-set: 'in <string>' requires string as left operand, not NoneType\n"
     ]
    },
    {
     "name": "stderr",
     "output_type": "stream",
     "text": [
      "Processing URLs:   5%|▌         | 1571/30000 [01:36<36:20, 13.04it/s]"
     ]
    },
    {
     "name": "stdout",
     "output_type": "stream",
     "text": [
      "Error processing https://www.therejectshop.sg/products/4-x-santi-valpo-rattan-cane-dining-chairs-in-dark-walnut: 'in <string>' requires string as left operand, not NoneType\n",
      "Error processing https://www.therejectshop.sg/products/riesling-slim-shoe-cabinet: 'in <string>' requires string as left operand, not NoneType\n"
     ]
    },
    {
     "name": "stderr",
     "output_type": "stream",
     "text": [
      "Processing URLs:   5%|▌         | 1576/30000 [01:37<34:51, 13.59it/s]"
     ]
    },
    {
     "name": "stdout",
     "output_type": "stream",
     "text": [
      "Error processing https://www.therejectshop.sg/products/kazic-dining-table-with-sintered-stone-top: 'in <string>' requires string as left operand, not NoneType\n",
      "Error processing https://www.therejectshop.sg/products/ursula-lounge-chair-in-brown-pvc: 'in <string>' requires string as left operand, not NoneType\n",
      "Error processing https://www.therejectshop.sg/products/sarino-shoe-cabinet-in-white: 'in <string>' requires string as left operand, not NoneType\n",
      "Error processing https://www.therejectshop.sg/products/alexander-dining-rattan-chair-in-white-wash: 'in <string>' requires string as left operand, not NoneType\n",
      "Error processing https://www.therejectshop.sg/products/malonda-chest-of-drawers: 'in <string>' requires string as left operand, not NoneType\n",
      "Error processing https://www.therejectshop.sg/products/janeiro-outdoor-teak-sofa: 'in <string>' requires string as left operand, not NoneType\n"
     ]
    },
    {
     "name": "stderr",
     "output_type": "stream",
     "text": [
      "Processing URLs:   5%|▌         | 1582/30000 [01:37<35:43, 13.26it/s]"
     ]
    },
    {
     "name": "stdout",
     "output_type": "stream",
     "text": [
      "Error processing https://www.therejectshop.sg/products/hendrix-4-seater-contemporary-modular-sofa-in-russet-brown-pu-leather: 'in <string>' requires string as left operand, not NoneType\n",
      "Error processing https://www.therejectshop.sg/products/shambhala-outdoor-dining-chairs-set-of-4: 'in <string>' requires string as left operand, not NoneType\n",
      "Error processing https://www.therejectshop.sg/products/pre-order-valente-designs-3-seater-sofa-in-emerald-green-pu-estimated-delivery-by-end-of-may-2023: 'in <string>' requires string as left operand, not NoneType\n",
      "Error processing https://www.therejectshop.sg/products/pre-order-pet-friendly-lanzoni-l-shaped-3-seater-sofa-in-iron-grey-tech-fabric-50509-p13-1703: 'in <string>' requires string as left operand, not NoneType\n",
      "Error processing https://www.therejectshop.sg/products/salvado-ii-2-seater-chesterfield-sofa-in-camel-brown-pu: 'in <string>' requires string as left operand, not NoneType\n",
      "Error processing https://www.therejectshop.sg/products/janeiro-outdoor-teak-rectangular-coffee-table: 'in <string>' requires string as left operand, not NoneType\n"
     ]
    },
    {
     "name": "stderr",
     "output_type": "stream",
     "text": [
      "Processing URLs:   5%|▌         | 1585/30000 [01:37<33:45, 14.03it/s]"
     ]
    },
    {
     "name": "stdout",
     "output_type": "stream",
     "text": [
      "Error processing https://www.therejectshop.sg/products/cat-friendly-botteva-3-seater-chesterfield-sofa-in-anchor-grey-tech-velvet: 'in <string>' requires string as left operand, not NoneType\n",
      "Error processing https://www.therejectshop.sg/products/bellingham-kids-mid-sleeper-bed-with-slide-in-white: 'in <string>' requires string as left operand, not NoneType\n"
     ]
    },
    {
     "name": "stderr",
     "output_type": "stream",
     "text": [
      "Processing URLs:   5%|▌         | 1589/30000 [01:38<40:12, 11.78it/s]"
     ]
    },
    {
     "name": "stdout",
     "output_type": "stream",
     "text": [
      "Error processing https://www.therejectshop.sg/products/pre-order-salvadore-x-2-seater-chesterfield-sofa-in-gloss-black-pu-estimated-delivery-by-mid-may: 'in <string>' requires string as left operand, not NoneType\n",
      "Error processing https://www.therejectshop.sg/products/grande-rounded-rectangular-floor-mirror: 'in <string>' requires string as left operand, not NoneType\n",
      "Error processing https://www.therejectshop.sg/products/migdal-standing-floor-lamp: 'in <string>' requires string as left operand, not NoneType\n",
      "Error processing https://www.therejectshop.sg/products/cat-friendly-salvadore-x-2-seater-chesterfield-sofa-in-matt-olive-green-tech-leathaire: 'in <string>' requires string as left operand, not NoneType\n"
     ]
    },
    {
     "name": "stderr",
     "output_type": "stream",
     "text": [
      "Processing URLs:   5%|▌         | 1594/30000 [01:38<32:42, 14.47it/s]"
     ]
    },
    {
     "name": "stdout",
     "output_type": "stream",
     "text": [
      "Error processing https://www.therejectshop.sg/products/venzae-dining-chairs-in-oak-set-of-2: 'in <string>' requires string as left operand, not NoneType\n",
      "Error processing https://www.therejectshop.sg/products/pre-order-salvadore-x-2-seater-chesterfield-sofa-in-velvet-black-estimated-delivery-by-july-2023: 'in <string>' requires string as left operand, not NoneType\n",
      "Error processing https://www.therejectshop.sg/products/salvadore-x-3-seater-chesterfield-sofa-in-sky-blue-velvet: 'in <string>' requires string as left operand, not NoneType\n",
      "Error processing https://www.therejectshop.sg/products/salvadore-x-2-seater-chesterfield-sofa-in-dark-coco-brown-pu: 'in <string>' requires string as left operand, not NoneType\n",
      "Error processing https://www.therejectshop.sg/products/elizza-performance-fabric-swivel-armchair-in-performance-alpine: 'in <string>' requires string as left operand, not NoneType\n",
      "Error processing https://www.therejectshop.sg/products/pre-order-cat-friendly-delores-4-seater-l-shaped-sofa-in-coffee-tech-fabric-estimated-delivery-by-end-of-july-2023: 'in <string>' requires string as left operand, not NoneType\n"
     ]
    },
    {
     "name": "stderr",
     "output_type": "stream",
     "text": [
      "Processing URLs:   5%|▌         | 1602/30000 [01:38<24:43, 19.14it/s]"
     ]
    },
    {
     "name": "stdout",
     "output_type": "stream",
     "text": [
      "Error processing https://www.therejectshop.sg/products/cat-friendly-valentora-3-seater-chesterfield-sofa-in-quarry-grey-tech-leathaire: 'in <string>' requires string as left operand, not NoneType\n",
      "Error processing https://www.therejectshop.sg/products/cat-friendly-salvadore-x-3-seater-chesterfield-sofa-in-iron-grey-tech-velvet-50509-p13: 'in <string>' requires string as left operand, not NoneType\n",
      "Error processing https://www.therejectshop.sg/products/moynihan-side-cabinet: 'in <string>' requires string as left operand, not NoneType\n",
      "Error processing https://www.therejectshop.sg/products/cat-friendly-romano-grandeur-3-seater-sofa-in-cream-white-tech-fabric-50707-p1: 'in <string>' requires string as left operand, not NoneType\n",
      "Error processing https://www.therejectshop.sg/products/pet-friendly-valente-designs-3-sofa-in-iron-grey-tech-fabric-50509-p13: 'in <string>' requires string as left operand, not NoneType\n",
      "Error processing https://www.therejectshop.sg/products/pre-order-cat-friendly-salvado-ii-3-seater-chesterfield-sofa-in-matt-olive-green-tech-pu-leather-estimated-delivery-by-end-may-2023: 'in <string>' requires string as left operand, not NoneType\n",
      "Error processing https://www.therejectshop.sg/products/cat-friendly-elysium-4-seater-l-shaped-chesterfield-sofa-in-matt-olive-green-tech-leathaire: 'in <string>' requires string as left operand, not NoneType\n"
     ]
    },
    {
     "name": "stderr",
     "output_type": "stream",
     "text": [
      "Processing URLs:   5%|▌         | 1608/30000 [01:39<30:48, 15.36it/s]"
     ]
    },
    {
     "name": "stdout",
     "output_type": "stream",
     "text": [
      "Error processing https://www.therejectshop.sg/products/pre-order-botteva-2-seater-chesterfield-sofa-in-gloss-black-pu-estimated-delivery-by-july-2023: 'in <string>' requires string as left operand, not NoneType\n",
      "Error processing https://www.therejectshop.sg/products/cat-friendly-romano-grandeur-3-seater-chesterfield-sofa-in-dark-ash-grey-tech-leathaire: 'in <string>' requires string as left operand, not NoneType\n",
      "Error processing https://www.therejectshop.sg/products/salvadore-x-single-seater-chesterfield-sofa-in-emerald-green-pu: 'in <string>' requires string as left operand, not NoneType\n",
      "Error processing https://www.therejectshop.sg/products/pre-order-cat-friendly-salvadore-x-3-seater-chesterfield-sofa-in-matt-olive-green-tech-pu-leather-estimated-delivery-by-end-of-may-2023: 'in <string>' requires string as left operand, not NoneType\n",
      "Error processing https://www.therejectshop.sg/products/cat-friendly-valentora-2-seater-chesterfield-sofa-in-grey-tech-velvet-gc-52219-p12: 'in <string>' requires string as left operand, not NoneType\n"
     ]
    },
    {
     "name": "stderr",
     "output_type": "stream",
     "text": [
      "Processing URLs:   5%|▌         | 1611/30000 [01:39<33:07, 14.29it/s]"
     ]
    },
    {
     "name": "stdout",
     "output_type": "stream",
     "text": [
      "Error processing https://www.therejectshop.sg/products/cat-friendly-botteva-3-seater-chesterfield-sofa-in-quarry-grey-tech-leathaire: 'in <string>' requires string as left operand, not NoneType\n",
      "Error processing https://www.therejectshop.sg/products/salvadore-x-single-seater-sofa-in-gloss-black-pu: 'in <string>' requires string as left operand, not NoneType\n",
      "Error processing https://www.therejectshop.sg/products/salvadore-x-2-seater-chesterfield-sofa-in-emerald-green: 'in <string>' requires string as left operand, not NoneType\n"
     ]
    },
    {
     "name": "stderr",
     "output_type": "stream",
     "text": [
      "Processing URLs:   5%|▌         | 1616/30000 [01:39<30:28, 15.52it/s]"
     ]
    },
    {
     "name": "stdout",
     "output_type": "stream",
     "text": [
      "Error processing https://www.therejectshop.sg/products/cat-friendly-salvado-ii-3-seater-chesterfield-sofa-in-fog-grey-tech-velvet-50729-p8: 'in <string>' requires string as left operand, not NoneType\n",
      "Error processing https://www.therejectshop.sg/products/salvado-ii-single-armchair-in-matte-black-pu-1: 'in <string>' requires string as left operand, not NoneType\n",
      "Error processing https://www.therejectshop.sg/products/botteva-2-seater-chesterfield-sofa-in-dark-coco-pu: 'in <string>' requires string as left operand, not NoneType\n",
      "Error processing https://www.therejectshop.sg/products/pre-order-salvadore-x-3-seater-chesterfield-sofa-in-nardo-grey-pu-estimated-delivery-by-july-2023: 'in <string>' requires string as left operand, not NoneType\n",
      "Error processing https://www.therejectshop.sg/products/pre-order-cat-friendly-salvado-ii-3-seater-chesterfield-sofa-in-sand-brown-velvet-tech-fabric-estimated-delivery-by-end-of-may-2023: 'in <string>' requires string as left operand, not NoneType\n",
      "Error processing https://www.therejectshop.sg/products/cat-friendly-salvadore-x-4-seater-chesterfield-sofa-in-nude-pink-tech-velvet: 'in <string>' requires string as left operand, not NoneType\n",
      "Error processing https://www.therejectshop.sg/products/cat-friendly-valentora-3-seater-chesterfield-sofa-in-lead-grey-tech-velvet-gc-52219-p12: 'in <string>' requires string as left operand, not NoneType\n"
     ]
    },
    {
     "name": "stderr",
     "output_type": "stream",
     "text": [
      "Processing URLs:   5%|▌         | 1622/30000 [01:40<35:51, 13.19it/s]"
     ]
    },
    {
     "name": "stdout",
     "output_type": "stream",
     "text": [
      "Error processing https://www.therejectshop.sg/products/pre-order-elysium-4-seater-l-shaped-chesterfield-sofa-in-burgundy-full-genuine-leather: 'in <string>' requires string as left operand, not NoneType\n",
      "Error processing https://www.therejectshop.sg/products/cat-friendly-salvadore-x-2-seater-chesterfield-sofa-in-macaroon-cream-white-tech-leathaire: 'in <string>' requires string as left operand, not NoneType\n",
      "Error processing https://www.therejectshop.sg/products/salvado-ii-3-seater-chesterfield-sofa-in-camel-brown-pu-3: 'in <string>' requires string as left operand, not NoneType\n",
      "Error processing https://www.therejectshop.sg/products/pre-order-salvado-ii-single-armchair-chesterfield-in-camel-brown-pu-estimated-delivery-before-end-dec-2023: 'in <string>' requires string as left operand, not NoneType\n",
      "Error processing https://www.therejectshop.sg/products/ruzenda-wooden-single-day-bed-with-drawers-in-grey: 'in <string>' requires string as left operand, not NoneType\n"
     ]
    },
    {
     "name": "stderr",
     "output_type": "stream",
     "text": [
      "Processing URLs:   5%|▌         | 1627/30000 [01:40<31:35, 14.97it/s]"
     ]
    },
    {
     "name": "stdout",
     "output_type": "stream",
     "text": [
      "Error processing https://www.therejectshop.sg/products/star-buy-cat-friendly-salvado-ii-3-seater-chesterfield-sofa-in-cappuccino-brown-tech-leather: 'in <string>' requires string as left operand, not NoneType\n",
      "Error processing https://www.therejectshop.sg/products/lucerne-dressing-table: 'in <string>' requires string as left operand, not NoneType\n",
      "Error processing https://www.therejectshop.sg/products/brandine-display-cabinet-in-white: 'in <string>' requires string as left operand, not NoneType\n",
      "Error processing https://www.therejectshop.sg/products/ohara-bedside-table: 'in <string>' requires string as left operand, not NoneType\n"
     ]
    },
    {
     "name": "stderr",
     "output_type": "stream",
     "text": [
      "Processing URLs:   5%|▌         | 1629/30000 [01:40<32:39, 14.48it/s]"
     ]
    },
    {
     "name": "stdout",
     "output_type": "stream",
     "text": [
      "Error processing https://www.therejectshop.sg/products/milanovic-rustic-leather-chair: 'in <string>' requires string as left operand, not NoneType\n",
      "Error processing https://www.therejectshop.sg/products/twarock-dining-chairs-in-brown-set-of-4: 'in <string>' requires string as left operand, not NoneType\n",
      "Error processing https://www.therejectshop.sg/products/ayia-bedside-table: 'in <string>' requires string as left operand, not NoneType\n",
      "Error processing https://www.therejectshop.sg/products/star-buy-pet-friendly-salvado-ii-3-seater-chesterfield-sofa-in-black-tech-pu-qf-bf-18: 'in <string>' requires string as left operand, not NoneType\n"
     ]
    },
    {
     "name": "stderr",
     "output_type": "stream",
     "text": [
      "Processing URLs:   5%|▌         | 1632/30000 [01:41<28:06, 16.82it/s]"
     ]
    },
    {
     "name": "stdout",
     "output_type": "stream",
     "text": [
      "Error processing https://www.therejectshop.sg/products/trs-stackable-conference-chair-set-of-2: 'in <string>' requires string as left operand, not NoneType\n",
      "Error processing https://www.therejectshop.sg/products/kreischer-solid-wood-study-desk: 'in <string>' requires string as left operand, not NoneType\n",
      "Error processing https://www.therejectshop.sg/products/alabama-5-seater-boucle-chaise-sofa: 'in <string>' requires string as left operand, not NoneType\n"
     ]
    },
    {
     "name": "stderr",
     "output_type": "stream",
     "text": [
      "Processing URLs:   5%|▌         | 1638/30000 [01:41<35:03, 13.48it/s]"
     ]
    },
    {
     "name": "stdout",
     "output_type": "stream",
     "text": [
      "Error processing https://www.therejectshop.sg/products/garter-0-8m-coffee-table: 'in <string>' requires string as left operand, not NoneType\n",
      "Error processing https://www.therejectshop.sg/products/trachtenberg-metal-double-deck-bed-super-single: 'in <string>' requires string as left operand, not NoneType\n",
      "Error processing https://www.therejectshop.sg/products/gardermoen-armchair: 'in <string>' requires string as left operand, not NoneType\n",
      "Error processing https://www.therejectshop.sg/products/saron-ii-bar-stools-in-white-set-of-2: 'in <string>' requires string as left operand, not NoneType\n",
      "Error processing https://www.therejectshop.sg/products/gresini-office-working-table-l150: 'in <string>' requires string as left operand, not NoneType\n"
     ]
    },
    {
     "name": "stderr",
     "output_type": "stream",
     "text": [
      "Processing URLs:   5%|▌         | 1643/30000 [01:41<30:43, 15.38it/s]"
     ]
    },
    {
     "name": "stdout",
     "output_type": "stream",
     "text": [
      "Error processing https://www.therejectshop.sg/products/coppi-bedside-table: 'in <string>' requires string as left operand, not NoneType\n",
      "Error processing https://www.therejectshop.sg/products/franzese-1-2m-study-desk: 'in <string>' requires string as left operand, not NoneType\n",
      "Error processing https://www.therejectshop.sg/products/focalor-study-table: 'in <string>' requires string as left operand, not NoneType\n",
      "Error processing https://www.therejectshop.sg/products/kamilia-0-8m-kitchen-cabinet: 'in <string>' requires string as left operand, not NoneType\n"
     ]
    },
    {
     "name": "stderr",
     "output_type": "stream",
     "text": [
      "Processing URLs:   5%|▌         | 1645/30000 [01:42<32:16, 14.64it/s]"
     ]
    },
    {
     "name": "stdout",
     "output_type": "stream",
     "text": [
      "Error processing https://www.therejectshop.sg/products/calloway-2-seater-sectional-armless-sofa-in-chalk-boucle: 'in <string>' requires string as left operand, not NoneType\n",
      "Error processing https://www.therejectshop.sg/products/lagasse-coffee-table: 'in <string>' requires string as left operand, not NoneType\n",
      "Error processing https://www.therejectshop.sg/products/strauss-mid-back-office-chair: 'in <string>' requires string as left operand, not NoneType\n"
     ]
    },
    {
     "name": "stderr",
     "output_type": "stream",
     "text": [
      "Processing URLs:   5%|▌         | 1647/30000 [01:42<30:58, 15.25it/s]"
     ]
    },
    {
     "name": "stdout",
     "output_type": "stream",
     "text": [
      "Error processing https://www.therejectshop.sg/products/rezon-side-table: 'in <string>' requires string as left operand, not NoneTypeError processing https://www.therejectshop.sg/products/denver-metal-bar-stool-with-wooden-top-in-silver-l: 'in <string>' requires string as left operand, not NoneType\n",
      "\n",
      "Error processing https://www.therejectshop.sg/products/sirenz-3-seater-sofa-in-cream-velvet: 'in <string>' requires string as left operand, not NoneType\n",
      "Error processing https://www.therejectshop.sg/products/ashton-dressing-table: 'in <string>' requires string as left operand, not NoneType\n"
     ]
    },
    {
     "name": "stderr",
     "output_type": "stream",
     "text": [
      "Processing URLs:   6%|▌         | 1652/30000 [01:42<31:07, 15.18it/s]"
     ]
    },
    {
     "name": "stdout",
     "output_type": "stream",
     "text": [
      "Error processing https://www.therejectshop.sg/products/xaine-2-0-tv-console: 'in <string>' requires string as left operand, not NoneType\n",
      "Error processing https://www.therejectshop.sg/products/maxwell-rattan-chair-in-ash-black-set-of-2: 'in <string>' requires string as left operand, not NoneType\n",
      "Error processing https://www.therejectshop.sg/products/cohen-armchair-limited-edition-set-of-2: 'in <string>' requires string as left operand, not NoneType\n"
     ]
    },
    {
     "name": "stderr",
     "output_type": "stream",
     "text": [
      "Processing URLs:   6%|▌         | 1657/30000 [01:43<38:23, 12.30it/s]"
     ]
    },
    {
     "name": "stdout",
     "output_type": "stream",
     "text": [
      "Error processing https://www.therejectshop.sg/products/vertex-rustic-solid-wood-cabinet: 'in <string>' requires string as left operand, not NoneType\n",
      "Error processing https://www.therejectshop.sg/products/ambrosio-bar-stools-with-velvet-grey-cushion-set-of-2: 'in <string>' requires string as left operand, not NoneType\n",
      "Error processing https://www.therejectshop.sg/products/wraith-bar-chairs-in-black-set-of-4: 'in <string>' requires string as left operand, not NoneType\n",
      "Error processing https://www.therejectshop.sg/products/seidel-4-seater-sofa-in-leathaire: 'in <string>' requires string as left operand, not NoneType\n",
      "Error processing https://www.therejectshop.sg/products/skyvale-king-size-bedframe-in-light-beach-linen: 'in <string>' requires string as left operand, not NoneType\n"
     ]
    },
    {
     "name": "stderr",
     "output_type": "stream",
     "text": [
      "Processing URLs:   6%|▌         | 1660/30000 [01:43<33:24, 14.14it/s]"
     ]
    },
    {
     "name": "stdout",
     "output_type": "stream",
     "text": [
      "Error processing https://www.therejectshop.sg/products/kreek-3-tier-storage-cabinet: 'in <string>' requires string as left operand, not NoneType\n",
      "Error processing https://www.therejectshop.sg/products/salban-dressing-table: 'in <string>' requires string as left operand, not NoneType\n",
      "Error processing https://www.therejectshop.sg/products/gleison-dining-chairs-in-grey-set-of-2: 'in <string>' requires string as left operand, not NoneType\n"
     ]
    },
    {
     "name": "stderr",
     "output_type": "stream",
     "text": [
      "Processing URLs:   6%|▌         | 1662/30000 [01:43<37:46, 12.50it/s]"
     ]
    },
    {
     "name": "stdout",
     "output_type": "stream",
     "text": [
      "Error processing https://www.therejectshop.sg/products/trs-elemento-cool-gel-memory-foam-super-single-size-mattress: 'in <string>' requires string as left operand, not NoneType\n",
      "Error processing https://www.therejectshop.sg/products/rhodes-kitchen-island-top-cabinet: 'in <string>' requires string as left operand, not NoneType\n",
      "Error processing https://www.therejectshop.sg/products/varson-square-dining-table-with-tempered-glass-top: 'in <string>' requires string as left operand, not NoneType\n"
     ]
    },
    {
     "name": "stderr",
     "output_type": "stream",
     "text": [
      "Processing URLs:   6%|▌         | 1665/30000 [01:43<38:16, 12.34it/s]"
     ]
    },
    {
     "name": "stdout",
     "output_type": "stream",
     "text": [
      "Error processing https://www.therejectshop.sg/products/spawn-ii-dynaspine-office-chair-in-y: 'in <string>' requires string as left operand, not NoneType\n",
      "Error processing https://www.therejectshop.sg/products/eldraine-extend-bar-cabinet-with-sintered-stone-top: 'in <string>' requires string as left operand, not NoneType\n"
     ]
    },
    {
     "name": "stderr",
     "output_type": "stream",
     "text": [
      "Processing URLs:   6%|▌         | 1669/30000 [01:44<45:02, 10.48it/s]"
     ]
    },
    {
     "name": "stdout",
     "output_type": "stream",
     "text": [
      "Error processing https://www.therejectshop.sg/products/tomori-coffee-table: 'in <string>' requires string as left operand, not NoneTypeError processing https://www.therejectshop.sg/products/trs-elemento-cool-gel-memory-foam-single-size-mattress: 'in <string>' requires string as left operand, not NoneType\n",
      "\n",
      "Error processing https://www.therejectshop.sg/products/miko-storage-sofa-bed-in-red-pvc: 'in <string>' requires string as left operand, not NoneType\n",
      "Error processing https://www.therejectshop.sg/products/welker-hallway-entry-cabinet: 'in <string>' requires string as left operand, not NoneType\n",
      "Error processing https://www.therejectshop.sg/products/kyochi-dining-chairs-in-pink-set-of-4: 'in <string>' requires string as left operand, not NoneType\n",
      "Error processing https://www.therejectshop.sg/products/veckman-dining-chairs-set-of-4: 'in <string>' requires string as left operand, not NoneType\n",
      "Error processing https://www.therejectshop.sg/products/kover-coffee-table-set: 'in <string>' requires string as left operand, not NoneType\n",
      "Error processing https://www.therejectshop.sg/products/seongsu-dining-chairs-set-of-4: 'in <string>' requires string as left operand, not NoneType\n",
      "Error processing https://www.therejectshop.sg/products/neda-metal-side-table: 'in <string>' requires string as left operand, not NoneType\n"
     ]
    },
    {
     "name": "stderr",
     "output_type": "stream",
     "text": [
      "Processing URLs:   6%|▌         | 1679/30000 [01:44<27:44, 17.02it/s]"
     ]
    },
    {
     "name": "stdout",
     "output_type": "stream",
     "text": [
      "Error processing https://www.therejectshop.sg/products/dunst-solid-teak-wood-coffee-table: 'in <string>' requires string as left operand, not NoneType\n",
      "Error processing https://www.therejectshop.sg/products/keisuke-chair: 'in <string>' requires string as left operand, not NoneType\n",
      "Error processing https://www.therejectshop.sg/products/leonberg-sofa-in-light-grey-fabric: 'in <string>' requires string as left operand, not NoneType\n",
      "Error processing https://www.therejectshop.sg/products/emmex-velvet-dining-chair-in-blue: 'in <string>' requires string as left operand, not NoneType\n",
      "Error processing https://www.therejectshop.sg/products/krodgers-chair: 'in <string>' requires string as left operand, not NoneType\n",
      "Error processing https://www.therejectshop.sg/products/coherent-bedside-table-set-of-2: 'in <string>' requires string as left operand, not NoneType\n"
     ]
    },
    {
     "name": "stderr",
     "output_type": "stream",
     "text": [
      "Processing URLs:   6%|▌         | 1684/30000 [01:45<35:35, 13.26it/s]"
     ]
    },
    {
     "name": "stdout",
     "output_type": "stream",
     "text": [
      "Error processing https://www.therejectshop.sg/products/skyv-queen-size-storage-bedframe-in-beach-linen: 'in <string>' requires string as left operand, not NoneType\n",
      "Error processing https://www.therejectshop.sg/products/matheson-outdoor-dining-chair: 'in <string>' requires string as left operand, not NoneType\n",
      "Error processing https://www.therejectshop.sg/products/volonia-rattan-cane-dining-chairs-in-black-with-boucle-cushion-set-of-2: 'in <string>' requires string as left operand, not NoneType\n",
      "Error processing https://www.therejectshop.sg/products/norwood-side-cabinet: 'in <string>' requires string as left operand, not NoneType\n"
     ]
    },
    {
     "name": "stderr",
     "output_type": "stream",
     "text": [
      "Processing URLs:   6%|▌         | 1688/30000 [01:45<34:29, 13.68it/s]"
     ]
    },
    {
     "name": "stdout",
     "output_type": "stream",
     "text": [
      "Error processing https://www.therejectshop.sg/products/twarock-dining-chairs-in-navy-blue-set-of-4: 'in <string>' requires string as left operand, not NoneType\n",
      "Error processing https://www.therejectshop.sg/products/trs-elemento-cool-gel-memory-foam-queen-size-mattress: 'in <string>' requires string as left operand, not NoneType\n",
      "Error processing https://www.therejectshop.sg/products/chungha-dining-chairs-in-natural-with-ivory-beige-fabric-set-of-4: 'in <string>' requires string as left operand, not NoneType\n",
      "Error processing https://www.therejectshop.sg/products/wraith-bar-chairs-in-black-set-of-2: 'in <string>' requires string as left operand, not NoneType\n",
      "Error processing https://www.therejectshop.sg/products/henel-single-drawer-bedside-table-in-white: 'in <string>' requires string as left operand, not NoneType\n",
      "Error processing https://www.therejectshop.sg/products/gaesung-3-seater-sofa-in-green-fabric: 'in <string>' requires string as left operand, not NoneType\n"
     ]
    },
    {
     "name": "stderr",
     "output_type": "stream",
     "text": [
      "Processing URLs:   6%|▌         | 1695/30000 [01:45<31:48, 14.83it/s]"
     ]
    },
    {
     "name": "stdout",
     "output_type": "stream",
     "text": [
      "Error processing https://www.therejectshop.sg/products/evelyn-ii-bedside-table-in-white-with-brown-top: 'in <string>' requires string as left operand, not NoneType\n",
      "Error processing https://www.therejectshop.sg/products/busch-iv-ergonomics-children-s-work-chair-in-baby-blue: 'in <string>' requires string as left operand, not NoneType\n",
      "Error processing https://www.therejectshop.sg/products/duomo-round-rug: 'in <string>' requires string as left operand, not NoneType\n",
      "Error processing https://www.therejectshop.sg/products/delamore-side-table: 'in <string>' requires string as left operand, not NoneType\n",
      "Error processing https://www.therejectshop.sg/products/evelyn-paulownia-wood-bedside-table-in-white: 'in <string>' requires string as left operand, not NoneType\n"
     ]
    },
    {
     "name": "stderr",
     "output_type": "stream",
     "text": [
      "Processing URLs:   6%|▌         | 1699/30000 [01:46<39:19, 11.99it/s]"
     ]
    },
    {
     "name": "stdout",
     "output_type": "stream",
     "text": [
      "Error processing https://www.therejectshop.sg/products/skyvale-queen-size-storage-bedframe: 'in <string>' requires string as left operand, not NoneType\n",
      "Error processing https://www.therejectshop.sg/products/hiranan-ottoman: 'in <string>' requires string as left operand, not NoneType\n",
      "Error processing https://www.therejectshop.sg/products/concerto-dining-table-220cm: 'in <string>' requires string as left operand, not NoneType\n",
      "Error processing https://www.therejectshop.sg/products/dermot-bar-table: 'in <string>' requires string as left operand, not NoneType\n",
      "Error processing https://www.therejectshop.sg/products/barkley-performance-boucle-wedge-sofa-in-white-quartz-boucle: 'in <string>' requires string as left operand, not NoneType\n"
     ]
    },
    {
     "name": "stderr",
     "output_type": "stream",
     "text": [
      "Processing URLs:   6%|▌         | 1704/30000 [01:46<31:22, 15.03it/s]"
     ]
    },
    {
     "name": "stdout",
     "output_type": "stream",
     "text": [
      "Error processing https://www.therejectshop.sg/products/jova-dining-chair-in-brown-pu-set-of-3: 'in <string>' requires string as left operand, not NoneType\n",
      "Error processing https://www.therejectshop.sg/products/terenzi-solid-wood-coffee-table: 'in <string>' requires string as left operand, not NoneType\n",
      "Error processing https://www.therejectshop.sg/products/osmond-ii-mini-display-cabinet-walnut: 'in <string>' requires string as left operand, not NoneType\n",
      "Error processing https://www.therejectshop.sg/products/cohen-armchair-limited-edition: 'in <string>' requires string as left operand, not NoneType\n",
      "Error processing https://www.therejectshop.sg/products/calzavara-coffee-table-set: 'in <string>' requires string as left operand, not NoneType\n",
      "Error processing https://www.therejectshop.sg/products/bazzi-dining-chairs-in-twany-set-of-2: 'in <string>' requires string as left operand, not NoneType\n"
     ]
    },
    {
     "name": "stderr",
     "output_type": "stream",
     "text": [
      "Processing URLs:   6%|▌         | 1711/30000 [01:46<26:10, 18.01it/s]"
     ]
    },
    {
     "name": "stdout",
     "output_type": "stream",
     "text": [
      "Error processing https://www.therejectshop.sg/products/wagnner-0-4m-side-table: 'in <string>' requires string as left operand, not NoneType\n",
      "Error processing https://www.therejectshop.sg/products/amor-round-tempered-glass-coffee-table: 'in <string>' requires string as left operand, not NoneType\n",
      "Error processing https://www.therejectshop.sg/products/m-suite-designer-executive-pu-office-chair-in-black-1: 'in <string>' requires string as left operand, not NoneType\n",
      "Error processing https://www.therejectshop.sg/products/zabeth-single-size-wooden-bedframe: 'in <string>' requires string as left operand, not NoneType\n",
      "Error processing https://www.therejectshop.sg/products/m-suite-designer-executive-pu-office-chair-in-pink: 'in <string>' requires string as left operand, not NoneType\n"
     ]
    },
    {
     "name": "stderr",
     "output_type": "stream",
     "text": [
      "Processing URLs:   6%|▌         | 1715/30000 [01:47<29:51, 15.79it/s]"
     ]
    },
    {
     "name": "stdout",
     "output_type": "stream",
     "text": [
      "Error processing https://www.therejectshop.sg/products/scan-x-wingback-3-seater-sofa-in-yellow: 'in <string>' requires string as left operand, not NoneType\n",
      "Error processing https://www.therejectshop.sg/products/luqa-outdoor-swivel-patio-set-2-1: 'in <string>' requires string as left operand, not NoneType\n",
      "Error processing https://www.therejectshop.sg/products/santi-valpo-tv-console-in-honey-oak-limited-edition: 'in <string>' requires string as left operand, not NoneType\n"
     ]
    },
    {
     "name": "stderr",
     "output_type": "stream",
     "text": [
      "Processing URLs:   6%|▌         | 1717/30000 [01:47<29:23, 16.04it/s]"
     ]
    },
    {
     "name": "stdout",
     "output_type": "stream",
     "text": [
      "Error processing https://www.therejectshop.sg/products/vettel-acacia-wood-round-coffee-table: 'in <string>' requires string as left operand, not NoneType\n",
      "Error processing https://www.therejectshop.sg/products/star-buy-cat-friendly-salvado-ii-3-seater-chesterfield-sofa-in-olive-grey-ii-tech-pu: 'in <string>' requires string as left operand, not NoneType\n",
      "Error processing https://www.therejectshop.sg/products/cat-friendly-salvado-ii-3-seater-chesterfield-sofa-in-nude-brown-tech-velvet-50704-p7: 'in <string>' requires string as left operand, not NoneType\n"
     ]
    },
    {
     "name": "stderr",
     "output_type": "stream",
     "text": [
      "Processing URLs:   6%|▌         | 1722/30000 [01:47<30:08, 15.64it/s]"
     ]
    },
    {
     "name": "stdout",
     "output_type": "stream",
     "text": [
      "Error processing https://www.therejectshop.sg/products/pre-order-salvadore-x-3-seater-chesterfield-sofa-in-gloss-black-pu-estimated-delivery-by-end-june-2022: 'in <string>' requires string as left operand, not NoneType\n",
      "Error processing https://www.therejectshop.sg/products/pre-order-salvadore-x-3-seater-chesterfield-sofa-in-storm-grey-velvet-estimated-delivery-before-april-2023-hari-raya: 'in <string>' requires string as left operand, not NoneType\n",
      "Error processing https://www.therejectshop.sg/products/primo-elemento-ii-single-size-memory-foam-mattress-by-sepora: 'in <string>' requires string as left operand, not NoneType\n",
      "Error processing https://www.therejectshop.sg/products/vieira-bedside-table: 'in <string>' requires string as left operand, not NoneType\n",
      "Error processing https://www.therejectshop.sg/products/pre-order-salvadore-x-3-seater-chesterfield-sofa-in-velvet-black-estimated-delivery-by-july-2023: 'in <string>' requires string as left operand, not NoneType\n"
     ]
    },
    {
     "name": "stderr",
     "output_type": "stream",
     "text": [
      "Processing URLs:   6%|▌         | 1724/30000 [01:47<35:22, 13.32it/s]"
     ]
    },
    {
     "name": "stdout",
     "output_type": "stream",
     "text": [
      "Error processing https://www.therejectshop.sg/products/primo-elemento-ii-queen-size-memory-foam-mattress-by-sepora: 'in <string>' requires string as left operand, not NoneType\n",
      "Error processing https://www.therejectshop.sg/products/pet-friendly-botteva-3-seater-chesterfield-sofa-in-latte-brown-tech-velvet-50504-p5: 'in <string>' requires string as left operand, not NoneType\n",
      "Error processing https://www.therejectshop.sg/products/pet-friendly-lanzoni-l-shaped-3-seater-sofa-in-cream-white-tech-fabric-50707-p1: 'in <string>' requires string as left operand, not NoneType\n",
      "Error processing https://www.therejectshop.sg/products/primo-elemento-ii-king-size-memory-foam-mattress-by-sepora: 'in <string>' requires string as left operand, not NoneType\n"
     ]
    },
    {
     "name": "stderr",
     "output_type": "stream",
     "text": [
      "Processing URLs:   6%|▌         | 1730/30000 [01:48<42:35, 11.06it/s]"
     ]
    },
    {
     "name": "stdout",
     "output_type": "stream",
     "text": [
      "Error processing https://www.therejectshop.sg/products/pet-friendly-valente-designs-3-seater-sofa-in-steel-grey-tech-fabric-50719-p9: 'in <string>' requires string as left operand, not NoneType\n",
      "Error processing https://www.therejectshop.sg/products/jang-dining-chairs-light-grey-walnut-set-of-2: 'in <string>' requires string as left operand, not NoneType\n",
      "Error processing https://www.therejectshop.sg/products/satterley-kids-lift-bed-with-open-wardrobe: 'in <string>' requires string as left operand, not NoneType\n"
     ]
    },
    {
     "name": "stderr",
     "output_type": "stream",
     "text": [
      "Processing URLs:   6%|▌         | 1732/30000 [01:48<41:33, 11.34it/s]"
     ]
    },
    {
     "name": "stdout",
     "output_type": "stream",
     "text": [
      "Error processing https://www.therejectshop.sg/products/jeremier-foldable-metal-bedframe-190-x-90cm: 'in <string>' requires string as left operand, not NoneType\n",
      "Error processing https://www.therejectshop.sg/products/hunglay-tv-console: 'in <string>' requires string as left operand, not NoneType\n",
      "Error processing https://www.therejectshop.sg/products/spade-gold-chair: 'in <string>' requires string as left operand, not NoneType\n",
      "Error processing https://www.therejectshop.sg/products/regency-utility-cabinet-xl-made-in-italy: 'in <string>' requires string as left operand, not NoneType\n"
     ]
    },
    {
     "name": "stderr",
     "output_type": "stream",
     "text": [
      "Processing URLs:   6%|▌         | 1737/30000 [01:48<34:26, 13.67it/s]"
     ]
    },
    {
     "name": "stdout",
     "output_type": "stream",
     "text": [
      "Error processing https://www.therejectshop.sg/products/kenosha-2-seater-recliner-floor-sofa-bed: 'in <string>' requires string as left operand, not NoneType\n",
      "Error processing https://www.therejectshop.sg/products/gyro-armchairs-in-black-set-of-4: 'in <string>' requires string as left operand, not NoneType\n",
      "Error processing https://www.therejectshop.sg/products/evelyn-paulownia-wood-bedside-table: 'in <string>' requires string as left operand, not NoneType\n",
      "Error processing https://www.therejectshop.sg/products/pattis-bar-chair-in-tawny-set-of-4: 'in <string>' requires string as left operand, not NoneType\n",
      "Error processing https://www.therejectshop.sg/products/idaho-minimalist-coffee-table: 'in <string>' requires string as left operand, not NoneType\n"
     ]
    },
    {
     "name": "stderr",
     "output_type": "stream",
     "text": [
      "Processing URLs:   6%|▌         | 1745/30000 [01:49<23:33, 19.99it/s]"
     ]
    },
    {
     "name": "stdout",
     "output_type": "stream",
     "text": [
      "Error processing https://www.therejectshop.sg/products/anilla-bar-chairs-in-white-set-of-2: 'in <string>' requires string as left operand, not NoneType\n",
      "Error processing https://www.therejectshop.sg/products/hart-armchair-in-pearl-beige-fabric-set-of-2: 'in <string>' requires string as left operand, not NoneType\n",
      "Error processing https://www.therejectshop.sg/products/rendall-victorian-tufted-storage-ottoman-in-velvet-blue: 'in <string>' requires string as left operand, not NoneType\n",
      "Error processing https://www.therejectshop.sg/products/kariza-bar-stools-in-white-set-of-2: 'in <string>' requires string as left operand, not NoneType\n",
      "Error processing https://www.therejectshop.sg/products/nandamuri-foldable-chair-with-stool: 'in <string>' requires string as left operand, not NoneType\n",
      "Error processing https://www.therejectshop.sg/products/genshin-bar-stools-in-natural-grey-set-of-4: 'in <string>' requires string as left operand, not NoneType\n",
      "Error processing https://www.therejectshop.sg/products/azera-shoe-cabinet: 'in <string>' requires string as left operand, not NoneType\n",
      "Error processing https://www.therejectshop.sg/products/4-x-varis-designer-scandi-dining-chairs-in-grey-set-of-4: 'in <string>' requires string as left operand, not NoneType\n",
      "Error processing https://www.therejectshop.sg/products/yoruba-wool-area-rug-small: 'in <string>' requires string as left operand, not NoneType\n"
     ]
    },
    {
     "name": "stderr",
     "output_type": "stream",
     "text": [
      "Processing URLs:   6%|▌         | 1751/30000 [01:49<22:26, 20.98it/s]"
     ]
    },
    {
     "name": "stdout",
     "output_type": "stream",
     "text": [
      "Error processing https://www.therejectshop.sg/products/star-buy-pet-friendly-salvado-ii-3-seater-chesterfield-sofa-in-black-tech-pu: 'in <string>' requires string as left operand, not NoneType\n",
      "Error processing https://www.therejectshop.sg/products/zickle-1-drawer-bedside-table: 'in <string>' requires string as left operand, not NoneType\n",
      "Error processing https://www.therejectshop.sg/products/clonard-mini-side-cabinet: 'in <string>' requires string as left operand, not NoneType\n"
     ]
    },
    {
     "name": "stderr",
     "output_type": "stream",
     "text": [
      "Processing URLs:   6%|▌         | 1754/30000 [01:49<33:07, 14.21it/s]"
     ]
    },
    {
     "name": "stdout",
     "output_type": "stream",
     "text": [
      "Error processing https://www.therejectshop.sg/products/mansory-rustic-solid-wood-bar-stools-antique-walnut-set-of-2: 'in <string>' requires string as left operand, not NoneType\n",
      "Error processing https://www.therejectshop.sg/products/fulani-area-rug-large: 'in <string>' requires string as left operand, not NoneType\n",
      "Error processing https://www.therejectshop.sg/products/voxx-chrome-honeycomb-ceiling-pendant-lamp: 'in <string>' requires string as left operand, not NoneType\n"
     ]
    },
    {
     "name": "stderr",
     "output_type": "stream",
     "text": [
      "Processing URLs:   6%|▌         | 1758/30000 [01:50<37:55, 12.41it/s]"
     ]
    },
    {
     "name": "stdout",
     "output_type": "stream",
     "text": [
      "Error processing https://www.therejectshop.sg/products/moana-outdoor-lounge-chair: 'in <string>' requires string as left operand, not NoneType\n",
      "Error processing https://www.therejectshop.sg/products/netinc-office-chair: 'in <string>' requires string as left operand, not NoneType\n",
      "Error processing https://www.therejectshop.sg/products/mansore-bpack-m3-chandelier-lamp-md20091-3: 'in <string>' requires string as left operand, not NoneType\n",
      "Error processing https://www.therejectshop.sg/products/santi-valpo-display-shelf: 'in <string>' requires string as left operand, not NoneType\n",
      "Error processing https://www.therejectshop.sg/products/meteora-chrome-ceiling-hanging-lamp-md10097-1-270: 'in <string>' requires string as left operand, not NoneType\n"
     ]
    },
    {
     "name": "stderr",
     "output_type": "stream",
     "text": [
      "Processing URLs:   6%|▌         | 1762/30000 [01:50<33:36, 14.00it/s]"
     ]
    },
    {
     "name": "stdout",
     "output_type": "stream",
     "text": [
      "Error processing https://www.therejectshop.sg/products/skyvale-queen-size-platform-bedframe-in-beach-linen: 'in <string>' requires string as left operand, not NoneType\n",
      "Error processing https://www.therejectshop.sg/products/jelias-side-cabinet: 'in <string>' requires string as left operand, not NoneType\n",
      "Error processing https://www.therejectshop.sg/products/volonia-hallway-console-table: 'in <string>' requires string as left operand, not NoneType\n"
     ]
    },
    {
     "name": "stderr",
     "output_type": "stream",
     "text": [
      "Processing URLs:   6%|▌         | 1764/30000 [01:50<34:33, 13.62it/s]"
     ]
    },
    {
     "name": "stdout",
     "output_type": "stream",
     "text": [
      "Error processing https://www.therejectshop.sg/products/henley-chest-of-drawers: 'in <string>' requires string as left operand, not NoneType\n",
      "Error processing https://www.therejectshop.sg/products/hetium-storage-cabinet: 'in <string>' requires string as left operand, not NoneType\n",
      "Error processing https://www.therejectshop.sg/products/dalliance-gold-wall-art-a: 'in <string>' requires string as left operand, not NoneType\n"
     ]
    },
    {
     "name": "stderr",
     "output_type": "stream",
     "text": [
      "Processing URLs:   6%|▌         | 1768/30000 [01:51<41:41, 11.28it/s]"
     ]
    },
    {
     "name": "stdout",
     "output_type": "stream",
     "text": [
      "Error processing https://www.therejectshop.sg/products/darius-nesting-coffee-table-in-natural-80cm: 'in <string>' requires string as left operand, not NoneType\n",
      "Error processing https://www.therejectshop.sg/products/noble-nariv-wall-decor-art-a: 'in <string>' requires string as left operand, not NoneType\n",
      "Error processing https://www.therejectshop.sg/products/majestik-king-wall-art-decor-b: 'in <string>' requires string as left operand, not NoneType\n",
      "Error processing https://www.therejectshop.sg/products/majestik-queen-wall-art-decor-a: 'in <string>' requires string as left operand, not NoneType\n",
      "Error processing https://www.therejectshop.sg/products/kenoza-designer-scandi-armchair-in-dove-grey-fabric: 'in <string>' requires string as left operand, not NoneType\n"
     ]
    },
    {
     "name": "stderr",
     "output_type": "stream",
     "text": [
      "Processing URLs:   6%|▌         | 1774/30000 [01:51<33:26, 14.07it/s]"
     ]
    },
    {
     "name": "stdout",
     "output_type": "stream",
     "text": [
      "Error processing https://www.therejectshop.sg/products/lavish-amore-wall-art-a: 'in <string>' requires string as left operand, not NoneType\n",
      "Error processing https://www.therejectshop.sg/products/serenade-amore-wall-art-b: 'in <string>' requires string as left operand, not NoneType\n",
      "Error processing https://www.therejectshop.sg/products/serenade-amore-wall-art-a: 'in <string>' requires string as left operand, not NoneType\n",
      "Error processing https://www.therejectshop.sg/products/osmond-ii-mini-display-cabinet: 'in <string>' requires string as left operand, not NoneType\n"
     ]
    },
    {
     "name": "stderr",
     "output_type": "stream",
     "text": [
      "Processing URLs:   6%|▌         | 1776/30000 [01:51<34:28, 13.65it/s]"
     ]
    },
    {
     "name": "stdout",
     "output_type": "stream",
     "text": [
      "Error processing https://www.therejectshop.sg/products/exquisita-wall-decor-art-a: 'in <string>' requires string as left operand, not NoneType\n",
      "Error processing https://www.therejectshop.sg/products/meschke-armchair: 'in <string>' requires string as left operand, not NoneType\n",
      "Error processing https://www.therejectshop.sg/products/rendall-victorian-tufted-storage-ottoman: 'in <string>' requires string as left operand, not NoneType\n",
      "Error processing https://www.therejectshop.sg/products/zickle-2-drawer-bedside-table: 'in <string>' requires string as left operand, not NoneType\n",
      "Error processing https://www.therejectshop.sg/products/marshal-0-6m-display-cabinet: 'in <string>' requires string as left operand, not NoneType\n",
      "Error processing https://www.therejectshop.sg/products/magallan-dining-chair-in-aqua-blue-fabric-set-of-2: 'in <string>' requires string as left operand, not NoneType\n"
     ]
    },
    {
     "name": "stderr",
     "output_type": "stream",
     "text": [
      "Processing URLs:   6%|▌         | 1784/30000 [01:52<25:57, 18.12it/s]"
     ]
    },
    {
     "name": "stdout",
     "output_type": "stream",
     "text": [
      "Error processing https://www.therejectshop.sg/products/tyler-rattan-side-table: 'in <string>' requires string as left operand, not NoneType\n",
      "Error processing https://www.therejectshop.sg/products/sommers-0-85m-kids-chest-of-drawers: 'in <string>' requires string as left operand, not NoneType\n",
      "Error processing https://www.therejectshop.sg/products/banjalo-armchair: 'in <string>' requires string as left operand, not NoneType\n",
      "Error processing https://www.therejectshop.sg/products/riflesso-wooden-dining-chair-set-of-4: 'in <string>' requires string as left operand, not NoneType\n"
     ]
    },
    {
     "name": "stderr",
     "output_type": "stream",
     "text": [
      "Processing URLs:   6%|▌         | 1788/30000 [01:52<31:14, 15.05it/s]"
     ]
    },
    {
     "name": "stdout",
     "output_type": "stream",
     "text": [
      "Error processing https://www.therejectshop.sg/products/lorraine-outdoor-dining-armchair-in-dark-grey-set-of-2: 'in <string>' requires string as left operand, not NoneType\n",
      "Error processing https://www.therejectshop.sg/products/manitoba-flip-top-dining-table: 'in <string>' requires string as left operand, not NoneType\n",
      "Error processing https://www.therejectshop.sg/products/lorraine-outdoor-dining-armchair-in-white-set-of-4: 'in <string>' requires string as left operand, not NoneType\n",
      "Error processing https://www.therejectshop.sg/products/sequoia-bedside-table: 'in <string>' requires string as left operand, not NoneType\n"
     ]
    },
    {
     "name": "stderr",
     "output_type": "stream",
     "text": [
      "Processing URLs:   6%|▌         | 1790/30000 [01:52<29:20, 16.03it/s]"
     ]
    },
    {
     "name": "stdout",
     "output_type": "stream",
     "text": [
      "Error processing https://www.therejectshop.sg/products/barbour-side-table: 'in <string>' requires string as left operand, not NoneType\n",
      "Error processing https://www.therejectshop.sg/products/osmium-glass-display-cabinet: 'in <string>' requires string as left operand, not NoneType\n",
      "Error processing https://www.therejectshop.sg/products/pair-of-kronical-scandi-bedside-tables: 'in <string>' requires string as left operand, not NoneType\n",
      "Error processing https://www.therejectshop.sg/products/demsons-tissue-box-smoked: 'in <string>' requires string as left operand, not NoneType\n",
      "Error processing https://www.therejectshop.sg/products/volonia-cane-bar-stool-in-black-with-white-quartz-boucle: 'in <string>' requires string as left operand, not NoneType\n"
     ]
    },
    {
     "name": "stderr",
     "output_type": "stream",
     "text": [
      "Processing URLs:   6%|▌         | 1793/30000 [01:52<31:19, 15.01it/s]"
     ]
    },
    {
     "name": "stdout",
     "output_type": "stream",
     "text": [
      "Error processing https://www.therejectshop.sg/products/evans-bar-stools-set-of-2: 'in <string>' requires string as left operand, not NoneType\n",
      "Error processing https://www.therejectshop.sg/products/trelawney-pine-wood-coffee-table: 'in <string>' requires string as left operand, not NoneType\n"
     ]
    },
    {
     "name": "stderr",
     "output_type": "stream",
     "text": [
      "Processing URLs:   6%|▌         | 1798/30000 [01:53<35:24, 13.27it/s]"
     ]
    },
    {
     "name": "stdout",
     "output_type": "stream",
     "text": [
      "Error processing https://www.therejectshop.sg/products/drea-rustic-wooden-side-table: 'in <string>' requires string as left operand, not NoneType\n",
      "Error processing https://www.therejectshop.sg/products/tatort-bookshelf-low-in-beech-oak: 'in <string>' requires string as left operand, not NoneType\n",
      "Error processing https://www.therejectshop.sg/products/tate-wireframe-tv-console-with-sintered-stone-top: 'in <string>' requires string as left operand, not NoneType\n"
     ]
    },
    {
     "name": "stderr",
     "output_type": "stream",
     "text": [
      "Processing URLs:   6%|▌         | 1800/30000 [01:53<40:59, 11.47it/s]"
     ]
    },
    {
     "name": "stdout",
     "output_type": "stream",
     "text": [
      "Error processing https://www.therejectshop.sg/products/fire-sale-promo-apache-shelter-single-tent-bedframe: 'in <string>' requires string as left operand, not NoneType\n",
      "Error processing https://www.therejectshop.sg/products/wraith-bar-stool-in-walnut-only-piece: 'in <string>' requires string as left operand, not NoneType\n"
     ]
    },
    {
     "name": "stderr",
     "output_type": "stream",
     "text": [
      "Processing URLs:   6%|▌         | 1802/30000 [01:53<39:44, 11.83it/s]"
     ]
    },
    {
     "name": "stdout",
     "output_type": "stream",
     "text": [
      "Error processing https://www.therejectshop.sg/products/koane-wooden-foldable-dining-chairs-set-of-4: 'in <string>' requires string as left operand, not NoneType\n",
      "Error processing https://www.therejectshop.sg/products/deaton-outdoor-coffee-table: 'in <string>' requires string as left operand, not NoneType\n",
      "Error processing https://www.therejectshop.sg/products/cat-friendly-salvadore-x-3-seater-chesterfield-sofa-in-storm-grey-tech-velvet: 'in <string>' requires string as left operand, not NoneType\n",
      "Error processing https://www.therejectshop.sg/products/4-x-varis-designer-dining-chairs-in-flaming-red: 'in <string>' requires string as left operand, not NoneType\n"
     ]
    },
    {
     "name": "stderr",
     "output_type": "stream",
     "text": [
      "Processing URLs:   6%|▌         | 1808/30000 [01:53<32:23, 14.50it/s]"
     ]
    },
    {
     "name": "stdout",
     "output_type": "stream",
     "text": [
      "Error processing https://www.therejectshop.sg/products/genza-wool-area-rug-244-x-305cm: 'in <string>' requires string as left operand, not NoneType\n",
      "Error processing https://www.therejectshop.sg/products/roussillon-coffee-table: 'in <string>' requires string as left operand, not NoneType\n",
      "Error processing https://www.therejectshop.sg/products/wraith-bar-stool-in-natural-one-only: 'in <string>' requires string as left operand, not NoneType\n",
      "Error processing https://www.therejectshop.sg/products/tomassetti-kids-ergonomic-chair: 'in <string>' requires string as left operand, not NoneType\n",
      "Error processing https://www.therejectshop.sg/products/gizsa-4-synthetic-rattan-mini-side-cabinet: 'in <string>' requires string as left operand, not NoneType\n"
     ]
    },
    {
     "name": "stderr",
     "output_type": "stream",
     "text": [
      "Processing URLs:   6%|▌         | 1813/30000 [01:54<29:58, 15.67it/s]"
     ]
    },
    {
     "name": "stdout",
     "output_type": "stream",
     "text": [
      "Error processing https://www.therejectshop.sg/products/saron-ii-bar-stools-in-red-set-of-2: 'in <string>' requires string as left operand, not NoneType\n",
      "Error processing https://www.therejectshop.sg/products/tzuyu-kitchen-cabinet: 'in <string>' requires string as left operand, not NoneType\n",
      "Error processing https://www.therejectshop.sg/products/zerbi-wicker-rattan-coffee-table: 'in <string>' requires string as left operand, not NoneType\n",
      "Error processing https://www.therejectshop.sg/products/hakurei-bedside-table-in-walnut: 'in <string>' requires string as left operand, not NoneType\n",
      "Error processing https://www.therejectshop.sg/products/walker-kids-storage-cabinet: 'in <string>' requires string as left operand, not NoneType\n"
     ]
    },
    {
     "name": "stderr",
     "output_type": "stream",
     "text": [
      "Processing URLs:   6%|▌         | 1817/30000 [01:54<28:57, 16.22it/s]"
     ]
    },
    {
     "name": "stdout",
     "output_type": "stream",
     "text": [
      "Error processing https://www.therejectshop.sg/products/megangale-round-carpet: 'in <string>' requires string as left operand, not NoneType\n",
      "Error processing https://www.therejectshop.sg/products/lorraine-square-outdoor-dining-table-in-dark-grey: 'in <string>' requires string as left operand, not NoneType\n",
      "Error processing https://www.therejectshop.sg/products/glitz-ii-uk-small-round-ottoman-in-light-grey-velvet: 'in <string>' requires string as left operand, not NoneType\n",
      "Error processing https://www.therejectshop.sg/products/rosanne-white-floor-standing-lamp-with-shade-md30054-3-600: 'in <string>' requires string as left operand, not NoneType\n"
     ]
    },
    {
     "name": "stderr",
     "output_type": "stream",
     "text": [
      "Processing URLs:   6%|▌         | 1822/30000 [01:54<29:08, 16.11it/s]"
     ]
    },
    {
     "name": "stdout",
     "output_type": "stream",
     "text": [
      "Error processing https://www.therejectshop.sg/products/glitz-ii-uk-medium-round-ottoman-in-light-grey-velvet: 'in <string>' requires string as left operand, not NoneType\n",
      "Error processing https://www.therejectshop.sg/products/4-x-raz-v2-dining-chairs-in-black-1: 'in <string>' requires string as left operand, not NoneType\n",
      "Error processing https://www.therejectshop.sg/products/sparkles-3-tone-crystal-ceiling-light-60cm: 'in <string>' requires string as left operand, not NoneType\n",
      "Error processing https://www.therejectshop.sg/products/2-x-volkz-chairs-in-velvet-black-with-gold-frame: 'in <string>' requires string as left operand, not NoneType\n",
      "Error processing https://www.therejectshop.sg/products/jaesong-display-cabinet-in-white: 'in <string>' requires string as left operand, not NoneType\n"
     ]
    },
    {
     "name": "stderr",
     "output_type": "stream",
     "text": [
      "Processing URLs:   6%|▌         | 1825/30000 [01:54<26:31, 17.70it/s]"
     ]
    },
    {
     "name": "stdout",
     "output_type": "stream",
     "text": [
      "Error processing https://www.therejectshop.sg/products/twarock-dining-chairs-in-black-set-of-6: 'in <string>' requires string as left operand, not NoneType\n",
      "Error processing https://www.therejectshop.sg/products/suprezza-ii-single-size-pocketed-spring-mattress-with-pillow-top-by-sepora: 'in <string>' requires string as left operand, not NoneType\n",
      "Error processing https://www.therejectshop.sg/products/demsons-tissue-box-klea: 'in <string>' requires string as left operand, not NoneType\n"
     ]
    },
    {
     "name": "stderr",
     "output_type": "stream",
     "text": [
      "Processing URLs:   6%|▌         | 1827/30000 [01:55<29:55, 15.69it/s]"
     ]
    },
    {
     "name": "stdout",
     "output_type": "stream",
     "text": [
      "Error processing https://www.therejectshop.sg/products/chungha-carrara-marble-dining-table-with-walnut-frame: 'in <string>' requires string as left operand, not NoneType\n",
      "Error processing https://www.therejectshop.sg/products/merlin-tv-console-large: 'in <string>' requires string as left operand, not NoneType\n",
      "Error processing https://www.therejectshop.sg/products/purnell-klea-chairs-set-of-2: 'in <string>' requires string as left operand, not NoneType\n"
     ]
    },
    {
     "name": "stderr",
     "output_type": "stream",
     "text": [
      "Processing URLs:   6%|▌         | 1831/30000 [01:55<35:47, 13.12it/s]"
     ]
    },
    {
     "name": "stdout",
     "output_type": "stream",
     "text": [
      "Error processing https://www.therejectshop.sg/products/asus-rt-ac1200gt-dual-band-wifi-router: 'in <string>' requires string as left operand, not NoneType\n",
      "Error processing https://www.therejectshop.sg/products/crusia-carpet-2m-x-3m: 'in <string>' requires string as left operand, not NoneType\n",
      "Error processing https://www.therejectshop.sg/products/linksys-ac2600-mu-mimo-gigabit-router: 'in <string>' requires string as left operand, not NoneType\n"
     ]
    },
    {
     "name": "stderr",
     "output_type": "stream",
     "text": [
      "Processing URLs:   6%|▌         | 1835/30000 [01:55<40:48, 11.50it/s]"
     ]
    },
    {
     "name": "stdout",
     "output_type": "stream",
     "text": [
      "Error processing https://www.therejectshop.sg/products/konner: 'in <string>' requires string as left operand, not NoneType\n",
      "Error processing https://www.therejectshop.sg/products/cat-friendly-salvadore-x-3-seater-chesterfield-sofa-in-steel-grey-tech-leathaire: 'in <string>' requires string as left operand, not NoneType\n",
      "Error processing https://www.therejectshop.sg/products/binna-dining-table-in-oak: 'in <string>' requires string as left operand, not NoneType\n",
      "Error processing https://www.therejectshop.sg/products/lorraine-ii-outdoor-dining-chairs-in-brown-set-of-2: 'in <string>' requires string as left operand, not NoneType\n"
     ]
    },
    {
     "name": "stderr",
     "output_type": "stream",
     "text": [
      "Processing URLs:   6%|▌         | 1841/30000 [01:56<28:06, 16.69it/s]"
     ]
    },
    {
     "name": "stdout",
     "output_type": "stream",
     "text": [
      "Error processing https://www.therejectshop.sg/products/vessba-sideboard: 'in <string>' requires string as left operand, not NoneType\n",
      "Error processing https://www.therejectshop.sg/products/kersten-mirror-shelf-in-black: 'in <string>' requires string as left operand, not NoneType\n",
      "Error processing https://www.therejectshop.sg/products/nardi-outdoor-armchair-in-brown: 'in <string>' requires string as left operand, not NoneType\n",
      "Error processing https://www.therejectshop.sg/products/jecker-wooden-stools-set-of-2: 'in <string>' requires string as left operand, not NoneType\n",
      "Error processing https://www.therejectshop.sg/products/platoopat-beanbag-cola-jet-by-doob: 'in <string>' requires string as left operand, not NoneType\n"
     ]
    },
    {
     "name": "stderr",
     "output_type": "stream",
     "text": [
      "Processing URLs:   6%|▌         | 1844/30000 [01:56<30:20, 15.47it/s]"
     ]
    },
    {
     "name": "stdout",
     "output_type": "stream",
     "text": [
      "Error processing https://www.therejectshop.sg/products/plop-beanbag-in-chilli-red-by-doob-large: 'in <string>' requires string as left operand, not NoneType\n",
      "Error processing https://www.therejectshop.sg/products/3-x-haltech-conference-chairs-in-red: 'in <string>' requires string as left operand, not NoneType\n",
      "Error processing https://www.therejectshop.sg/products/mashe-square-ottoman-in-executive-grey-fabric: 'in <string>' requires string as left operand, not NoneType\n"
     ]
    },
    {
     "name": "stderr",
     "output_type": "stream",
     "text": [
      "Processing URLs:   6%|▌         | 1849/30000 [01:56<27:00, 17.37it/s]"
     ]
    },
    {
     "name": "stdout",
     "output_type": "stream",
     "text": [
      "Error processing https://www.therejectshop.sg/products/2-x-tarken-bedside-table-in-white: 'in <string>' requires string as left operand, not NoneType\n",
      "Error processing https://www.therejectshop.sg/products/garora-ii-single-size-bedframe-in-white: 'in <string>' requires string as left operand, not NoneType\n",
      "Error processing https://www.therejectshop.sg/products/spacek-dining-chair-in-zenith-blue-fabric: 'in <string>' requires string as left operand, not NoneType\n",
      "Error processing https://www.therejectshop.sg/products/holiva-blue-armchair: 'in <string>' requires string as left operand, not NoneType\n",
      "Error processing https://www.therejectshop.sg/products/shenton-bedside-table: 'in <string>' requires string as left operand, not NoneType\n"
     ]
    },
    {
     "name": "stderr",
     "output_type": "stream",
     "text": [
      "Processing URLs:   6%|▌         | 1851/30000 [01:56<36:50, 12.73it/s]"
     ]
    },
    {
     "name": "stdout",
     "output_type": "stream",
     "text": [
      "Error processing https://www.therejectshop.sg/products/gear-low-steel-display-cabinet-in-ivory: 'in <string>' requires string as left operand, not NoneType\n",
      "Error processing https://www.therejectshop.sg/products/2-x-valorant-dining-chairs-in-dark-grey: 'in <string>' requires string as left operand, not NoneType\n",
      "Error processing https://www.therejectshop.sg/products/abergel-pendant-lamp-in-black-gold: 'in <string>' requires string as left operand, not NoneType\n",
      "Error processing https://www.therejectshop.sg/products/morganna-acacia-wood-dining-chair-one-piece-only: 'in <string>' requires string as left operand, not NoneType\n",
      "Error processing https://www.therejectshop.sg/products/2-x-carvien-table-lamps: 'in <string>' requires string as left operand, not NoneType\n"
     ]
    },
    {
     "name": "stderr",
     "output_type": "stream",
     "text": [
      "Processing URLs:   6%|▌         | 1858/30000 [01:57<32:50, 14.28it/s]"
     ]
    },
    {
     "name": "stdout",
     "output_type": "stream",
     "text": [
      "Error processing https://www.therejectshop.sg/products/hacher-counter-stool-in-grey-fabric: 'in <string>' requires string as left operand, not NoneType\n",
      "Error processing https://www.therejectshop.sg/products/brownies-carpet-1-2m-x-0-4m-1: 'in <string>' requires string as left operand, not NoneType\n",
      "Error processing https://www.therejectshop.sg/products/attila-beside-table-in-walnut: 'in <string>' requires string as left operand, not NoneType\n",
      "Error processing https://www.therejectshop.sg/products/zeffer-office-chair-in-grey-fabric-1: 'in <string>' requires string as left operand, not NoneType\n",
      "Error processing https://www.therejectshop.sg/products/arena-living-outdoor-dining-table-with-4-chairs-orange-cushion: 'in <string>' requires string as left operand, not NoneType\n",
      "Error processing https://www.therejectshop.sg/products/nemorum-bedside-table: 'in <string>' requires string as left operand, not NoneType\n"
     ]
    },
    {
     "name": "stderr",
     "output_type": "stream",
     "text": [
      "Processing URLs:   6%|▌         | 1863/30000 [01:57<30:57, 15.15it/s]"
     ]
    },
    {
     "name": "stdout",
     "output_type": "stream",
     "text": [
      "Error processing https://www.therejectshop.sg/products/viro-classic-non-quilted-super-single-foam-mattress-4-inch: 'in <string>' requires string as left operand, not NoneType\n",
      "Error processing https://www.therejectshop.sg/products/2-x-essence-bar-stools-in-beige: 'in <string>' requires string as left operand, not NoneType\n",
      "Error processing https://www.therejectshop.sg/products/baena-bedside-table-in-cream-pvc-1: 'in <string>' requires string as left operand, not NoneType\n"
     ]
    },
    {
     "name": "stderr",
     "output_type": "stream",
     "text": [
      "Processing URLs:   6%|▌         | 1865/30000 [01:57<33:38, 13.94it/s]"
     ]
    },
    {
     "name": "stdout",
     "output_type": "stream",
     "text": [
      "Error processing https://www.therejectshop.sg/products/strada-industri-series-decor-stand-1: 'in <string>' requires string as left operand, not NoneType\n",
      "Error processing https://www.therejectshop.sg/products/2-x-venz-chairs-in-black-pu-with-wooden-leg-frame-a: 'in <string>' requires string as left operand, not NoneType\n"
     ]
    },
    {
     "name": "stderr",
     "output_type": "stream",
     "text": [
      "Processing URLs:   6%|▌         | 1870/30000 [01:58<36:24, 12.88it/s]"
     ]
    },
    {
     "name": "stdout",
     "output_type": "stream",
     "text": [
      "Error processing https://www.therejectshop.sg/products/disposal-of-old-furniture-per-item: 'in <string>' requires string as left operand, not NoneType\n",
      "Error processing https://www.therejectshop.sg/products/hyekyo-left-chaise-sofa-in-pastel-green-fabric: 'in <string>' requires string as left operand, not NoneType\n",
      "Error processing https://www.therejectshop.sg/products/garora-single-size-bedframe-with-pull-out-bed: 'in <string>' requires string as left operand, not NoneType\n",
      "Error processing https://www.therejectshop.sg/products/cat-friendly-salvadore-x-3-seater-sofa-in-cerulean-blue-tech-leathaire: 'in <string>' requires string as left operand, not NoneType\n",
      "Error processing https://www.therejectshop.sg/products/cat-friendly-salvadore-x-3-seater-chesterfield-sofa-in-moss-green-tech-velvet: 'in <string>' requires string as left operand, not NoneType\n",
      "Error processing https://www.therejectshop.sg/products/cat-friendly-salvadore-x-2-seater-chesterfield-sofa-in-cerulean-blue-tech-leathaire: 'in <string>' requires string as left operand, not NoneType\n"
     ]
    },
    {
     "name": "stderr",
     "output_type": "stream",
     "text": [
      "Processing URLs:   6%|▌         | 1873/30000 [01:58<32:29, 14.42it/s]"
     ]
    },
    {
     "name": "stdout",
     "output_type": "stream",
     "text": [
      "Error processing https://www.therejectshop.sg/products/serenita-single-size-mattress-with-pillow-top-by-sepora: 'in <string>' requires string as left operand, not NoneType\n",
      "Error processing https://www.therejectshop.sg/products/francois-bedside-table-in-grey: 'in <string>' requires string as left operand, not NoneType\n",
      "Error processing https://www.therejectshop.sg/products/delivery-fee-saturday: 'in <string>' requires string as left operand, not NoneType\n",
      "Error processing https://www.therejectshop.sg/products/richie-bamboo-wood-coffee-table-in-white: 'in <string>' requires string as left operand, not NoneType\n",
      "Error processing https://www.therejectshop.sg/products/cosaire-armchair-in-smoke-klea-one-piece-only: 'in <string>' requires string as left operand, not NoneType\n",
      "Error processing https://www.therejectshop.sg/products/wraith-bar-stool-in-green-one-only: 'in <string>' requires string as left operand, not NoneType\n"
     ]
    },
    {
     "name": "stderr",
     "output_type": "stream",
     "text": [
      "Processing URLs:   6%|▋         | 1879/30000 [01:58<24:53, 18.83it/s]"
     ]
    },
    {
     "name": "stdout",
     "output_type": "stream",
     "text": [
      "Error processing https://www.therejectshop.sg/products/maurice-2-drawers-1-filing-pedestal-in-white-b: 'in <string>' requires string as left operand, not NoneType\n",
      "Error processing https://www.therejectshop.sg/products/camuto-pendant-lamp: 'in <string>' requires string as left operand, not NoneType\n",
      "Error processing https://www.therejectshop.sg/products/toroga-coffee-table-in-india-green-marble: 'in <string>' requires string as left operand, not NoneType\n",
      "Error processing https://www.therejectshop.sg/products/pawsy-cat-litter-box-in-white-grey-large: 'in <string>' requires string as left operand, not NoneType\n"
     ]
    },
    {
     "name": "stderr",
     "output_type": "stream",
     "text": [
      "Processing URLs:   6%|▋         | 1882/30000 [01:59<34:55, 13.42it/s]"
     ]
    },
    {
     "name": "stdout",
     "output_type": "stream",
     "text": [
      "Error processing https://www.therejectshop.sg/products/sunset-palm-canvas-wall-art-frame: 'in <string>' requires string as left operand, not NoneType\n",
      "Error processing https://www.therejectshop.sg/products/rayz-armchair-in-black: 'in <string>' requires string as left operand, not NoneType\n",
      "Error processing https://www.therejectshop.sg/products/mashe-square-ottoman-in-white-velvet: 'in <string>' requires string as left operand, not NoneType\n"
     ]
    },
    {
     "name": "stderr",
     "output_type": "stream",
     "text": [
      "Processing URLs:   6%|▋         | 1887/30000 [01:59<40:54, 11.45it/s]"
     ]
    },
    {
     "name": "stdout",
     "output_type": "stream",
     "text": [
      "Error processing https://www.therejectshop.sg/products/rofa-solid-wood-chair-in-oak: 'in <string>' requires string as left operand, not NoneType\n",
      "Error processing https://www.therejectshop.sg/products/atago-counter-height-bar-chair: 'in <string>' requires string as left operand, not NoneType\n",
      "Error processing https://www.therejectshop.sg/products/denver-metal-bar-stool-with-wooden-top-in-black: 'in <string>' requires string as left operand, not NoneType\n"
     ]
    },
    {
     "name": "stderr",
     "output_type": "stream",
     "text": [
      "Processing URLs:   6%|▋         | 1890/30000 [01:59<34:09, 13.72it/s]"
     ]
    },
    {
     "name": "stdout",
     "output_type": "stream",
     "text": [
      "Error processing https://www.therejectshop.sg/products/salvadore-z-chesterfield-armchair-in-pastel-grey-fabric: 'in <string>' requires string as left operand, not NoneType\n",
      "Error processing https://www.therejectshop.sg/products/denver-retro-metal-bar-stool-in-silver-l: 'in <string>' requires string as left operand, not NoneType\n",
      "Error processing https://www.therejectshop.sg/products/bamboo-artificial-plant: 'in <string>' requires string as left operand, not NoneType\n",
      "Error processing https://www.therejectshop.sg/products/denver-retro-metal-bar-stool-in-pink-l: 'in <string>' requires string as left operand, not NoneType\n",
      "Error processing https://www.therejectshop.sg/products/herry-chair-one-piece-only: 'in <string>' requires string as left operand, not NoneType\n"
     ]
    },
    {
     "name": "stderr",
     "output_type": "stream",
     "text": [
      "Processing URLs:   6%|▋         | 1896/30000 [02:00<32:06, 14.59it/s]"
     ]
    },
    {
     "name": "stdout",
     "output_type": "stream",
     "text": [
      "Error processing https://www.therejectshop.sg/products/denver-retro-metal-bar-stool-in-white-l: 'in <string>' requires string as left operand, not NoneType\n",
      "Error processing https://www.therejectshop.sg/products/gia-bar-chair-in-grey-one-piece-only: 'in <string>' requires string as left operand, not NoneType\n",
      "Error processing https://www.therejectshop.sg/products/norvelle-chair-in-orange-pink: 'in <string>' requires string as left operand, not NoneType\n",
      "Error processing https://www.therejectshop.sg/products/kovjic-office-chair-in-grey-white-1: 'in <string>' requires string as left operand, not NoneType\n"
     ]
    },
    {
     "name": "stderr",
     "output_type": "stream",
     "text": [
      "Processing URLs:   6%|▋         | 1898/30000 [02:00<30:56, 15.14it/s]"
     ]
    },
    {
     "name": "stdout",
     "output_type": "stream",
     "text": [
      "Error processing https://www.therejectshop.sg/products/maurice-3-drawers-pedestal-in-ash-white: 'in <string>' requires string as left operand, not NoneType\n",
      "Error processing https://www.therejectshop.sg/products/hender-kids-bedside-table: 'in <string>' requires string as left operand, not NoneType\n",
      "Error processing https://www.therejectshop.sg/products/nessa-ii-bedside-table-in-light-pink: 'in <string>' requires string as left operand, not NoneType\n",
      "Error processing https://www.therejectshop.sg/products/6pcs-black-krypton-dining-chairs-non-stackable: 'in <string>' requires string as left operand, not NoneType\n",
      "Error processing https://www.therejectshop.sg/products/gasten-ii-faux-leather-queen-divan-in-beige: 'in <string>' requires string as left operand, not NoneType\n"
     ]
    },
    {
     "name": "stderr",
     "output_type": "stream",
     "text": [
      "Processing URLs:   6%|▋         | 1903/30000 [02:00<33:54, 13.81it/s]"
     ]
    },
    {
     "name": "stdout",
     "output_type": "stream",
     "text": [
      "Error processing https://www.therejectshop.sg/products/kronical-scandi-minimalist-hallway-console-table: 'in <string>' requires string as left operand, not NoneType\n",
      "Error processing https://www.therejectshop.sg/products/serenita-super-single-size-mattress-with-pillow-top-by-sepora: 'in <string>' requires string as left operand, not NoneType\n",
      "Error processing https://www.therejectshop.sg/products/pelsa-bedside-table: 'in <string>' requires string as left operand, not NoneType\n"
     ]
    },
    {
     "name": "stderr",
     "output_type": "stream",
     "text": [
      "Processing URLs:   6%|▋         | 1908/30000 [02:00<30:54, 15.15it/s]"
     ]
    },
    {
     "name": "stdout",
     "output_type": "stream",
     "text": [
      "Error processing https://www.therejectshop.sg/products/bargner-sml-wireframe-hanging-pendant-lamp-in-brown: 'in <string>' requires string as left operand, not NoneType\n",
      "Error processing https://www.therejectshop.sg/products/honna-hanging-pendant-lamp-in-brown: 'in <string>' requires string as left operand, not NoneType\n",
      "Error processing https://www.therejectshop.sg/products/rauva-hanging-pendant-lamp-in-white: 'in <string>' requires string as left operand, not NoneType\n",
      "Error processing https://www.therejectshop.sg/products/fluff-hanging-pendant-lamp: 'in <string>' requires string as left operand, not NoneType\n",
      "Error processing https://www.therejectshop.sg/products/bargner-wireframe-hanging-pendant-lamp-in-white: 'in <string>' requires string as left operand, not NoneType\n"
     ]
    },
    {
     "name": "stderr",
     "output_type": "stream",
     "text": [
      "Processing URLs:   6%|▋         | 1912/30000 [02:00<23:10, 20.20it/s]"
     ]
    },
    {
     "name": "stdout",
     "output_type": "stream",
     "text": [
      "Error processing https://www.therejectshop.sg/products/klaps-hanging-pendant-lamp-in-brown: 'in <string>' requires string as left operand, not NoneType\n",
      "Error processing https://www.therejectshop.sg/products/yova-hanging-pendant-lamp-in-rose-gold: 'in <string>' requires string as left operand, not NoneType\n",
      "Error processing https://www.therejectshop.sg/products/zalo-hanging-pendant-lamp-in-gold: 'in <string>' requires string as left operand, not NoneType\n",
      "Error processing https://www.therejectshop.sg/products/yova-ii-hanging-pendant-lamp-in-white: 'in <string>' requires string as left operand, not NoneType\n"
     ]
    },
    {
     "name": "stderr",
     "output_type": "stream",
     "text": [
      "Processing URLs:   6%|▋         | 1917/30000 [02:01<29:09, 16.05it/s]"
     ]
    },
    {
     "name": "stdout",
     "output_type": "stream",
     "text": [
      "Error processing https://www.therejectshop.sg/products/rosberg-hanging-pendant-lamp: 'in <string>' requires string as left operand, not NoneType\n",
      "Error processing https://www.therejectshop.sg/products/3-x-grozen-glass-hanging-pendant-lamps: 'in <string>' requires string as left operand, not NoneType\n",
      "Error processing https://www.therejectshop.sg/products/legners-pendant-lamp-240mm-in-black-gold: 'in <string>' requires string as left operand, not NoneType\n",
      "Error processing https://www.therejectshop.sg/products/primo-elemento-memory-foam-mattress-by-sepora-super-single: 'in <string>' requires string as left operand, not NoneType\n",
      "Error processing https://www.therejectshop.sg/products/prometheus-rep-egg-chair-in-light-beige-cashmere: 'in <string>' requires string as left operand, not NoneType\n",
      "Error processing https://www.therejectshop.sg/products/serenita-king-size-mattress-with-pillow-top-by-sepora: 'in <string>' requires string as left operand, not NoneType\n"
     ]
    },
    {
     "name": "stderr",
     "output_type": "stream",
     "text": [
      "Processing URLs:   6%|▋         | 1921/30000 [02:01<36:27, 12.84it/s]"
     ]
    },
    {
     "name": "stdout",
     "output_type": "stream",
     "text": [
      "Error processing https://www.therejectshop.sg/products/suprezza-king-size-mattress-with-pillow-top-by-sepora: 'in <string>' requires string as left operand, not NoneType\n",
      "Error processing https://www.therejectshop.sg/products/suprezza-super-single-size-mattress-with-pillow-top-by-sepora: 'in <string>' requires string as left operand, not NoneType\n",
      "Error processing https://www.therejectshop.sg/products/yonna-bar-chair-in-walnut-light-beige-cushion: 'in <string>' requires string as left operand, not NoneType\n"
     ]
    },
    {
     "name": "stderr",
     "output_type": "stream",
     "text": [
      "Processing URLs:   6%|▋         | 1923/30000 [02:01<35:25, 13.21it/s]"
     ]
    },
    {
     "name": "stdout",
     "output_type": "stream",
     "text": [
      "Error processing https://www.therejectshop.sg/products/steele-black-counter-bar-chair: 'in <string>' requires string as left operand, not NoneType\n",
      "Error processing https://www.therejectshop.sg/products/maurice-2-drawer-1-filing-pedestal-in-ash-white-1: 'in <string>' requires string as left operand, not NoneType\n",
      "Error processing https://www.therejectshop.sg/products/delivery-fee-thursday: 'in <string>' requires string as left operand, not NoneType\n",
      "Error processing https://www.therejectshop.sg/products/netta-detachable-bar-chair-in-white: 'in <string>' requires string as left operand, not NoneType\n"
     ]
    },
    {
     "name": "stderr",
     "output_type": "stream",
     "text": [
      "Processing URLs:   6%|▋         | 1930/30000 [02:02<33:39, 13.90it/s]"
     ]
    },
    {
     "name": "stdout",
     "output_type": "stream",
     "text": [
      "Error processing https://www.therejectshop.sg/products/netta-detachable-bar-chair-in-grey: 'in <string>' requires string as left operand, not NoneType\n",
      "Error processing https://www.therejectshop.sg/products/robie-gold-pendant-hanging-lamp: 'in <string>' requires string as left operand, not NoneType\n",
      "Error processing https://www.therejectshop.sg/products/tomei-modern-solid-wood-coffee-table: 'in <string>' requires string as left operand, not NoneType\n",
      "Error processing https://www.therejectshop.sg/products/mashe-square-ottoman-in-lime-green-fabric-1: 'in <string>' requires string as left operand, not NoneType\n"
     ]
    },
    {
     "name": "stderr",
     "output_type": "stream",
     "text": [
      "Processing URLs:   6%|▋         | 1932/30000 [02:02<31:50, 14.69it/s]"
     ]
    },
    {
     "name": "stdout",
     "output_type": "stream",
     "text": [
      "Error processing https://www.therejectshop.sg/products/volkz-bar-chair-in-teal: 'in <string>' requires string as left operand, not NoneType\n",
      "Error processing https://www.therejectshop.sg/products/yenn-ceramic-long-serving-plate: 'in <string>' requires string as left operand, not NoneType\n",
      "Error processing https://www.therejectshop.sg/products/glitz-ii-uk-large-round-ottoman-in-emerald-green-velvet: 'in <string>' requires string as left operand, not NoneType\n"
     ]
    },
    {
     "name": "stderr",
     "output_type": "stream",
     "text": [
      "Processing URLs:   6%|▋         | 1936/30000 [02:02<35:49, 13.06it/s]"
     ]
    },
    {
     "name": "stdout",
     "output_type": "stream",
     "text": [
      "Error processing https://www.therejectshop.sg/products/peva-white-pendant-lamp: 'in <string>' requires string as left operand, not NoneType\n",
      "Error processing https://www.therejectshop.sg/products/flamin-pink-velvet-storage-bench-with-crystal-studs: 'in <string>' requires string as left operand, not NoneType\n",
      "Error processing https://www.therejectshop.sg/products/nashville-ii-end-table: 'in <string>' requires string as left operand, not NoneType\n"
     ]
    },
    {
     "name": "stderr",
     "output_type": "stream",
     "text": [
      "Processing URLs:   6%|▋         | 1938/30000 [02:03<35:50, 13.05it/s]"
     ]
    },
    {
     "name": "stdout",
     "output_type": "stream",
     "text": [
      "Error processing https://www.therejectshop.sg/products/posa-ceramic-dinner-plate-in-blue: 'in <string>' requires string as left operand, not NoneType\n",
      "Error processing https://www.therejectshop.sg/products/flamin-ii-pink-velvet-ottoman-bench-1: 'in <string>' requires string as left operand, not NoneType\n",
      "Error processing https://www.therejectshop.sg/products/glitz-ii-uk-large-round-ottoman-in-light-grey-velvet: 'in <string>' requires string as left operand, not NoneType\n",
      "Error processing https://www.therejectshop.sg/products/henju-ii-large-storage-ottoman-in-dark-grey-fabric: 'in <string>' requires string as left operand, not NoneType\n",
      "Error processing https://www.therejectshop.sg/products/flamin-ii-pearl-grey-velvet-ottoman-bench: 'in <string>' requires string as left operand, not NoneType\n"
     ]
    },
    {
     "name": "stderr",
     "output_type": "stream",
     "text": [
      "Processing URLs:   6%|▋         | 1942/30000 [02:03<29:46, 15.71it/s]"
     ]
    },
    {
     "name": "stdout",
     "output_type": "stream",
     "text": [
      "Error processing https://www.therejectshop.sg/products/henju-storage-ottoman-in-dark-grey-fabric: 'in <string>' requires string as left operand, not NoneType\n",
      "Error processing https://www.therejectshop.sg/products/buffy-baby-wooden-crib-mattress-not-included: 'in <string>' requires string as left operand, not NoneType\n",
      "Error processing https://www.therejectshop.sg/products/delivery-fee-thursdays: 'in <string>' requires string as left operand, not NoneType\n",
      "Error processing https://www.therejectshop.sg/products/delivery-fee: 'in <string>' requires string as left operand, not NoneType\n"
     ]
    },
    {
     "name": "stderr",
     "output_type": "stream",
     "text": [
      "Processing URLs:   7%|▋         | 1952/30000 [02:03<25:04, 18.65it/s]"
     ]
    },
    {
     "name": "stdout",
     "output_type": "stream",
     "text": [
      "Error processing https://www.therejectshop.sg/products/delivery-blackwolf-gaming-chair-only: 'in <string>' requires string as left operand, not NoneType\n",
      "Error processing https://www.therejectshop.sg/products/mansore-gold-m3-chandelier-lamp-md20091-3: 'in <string>' requires string as left operand, not NoneType\n",
      "Error processing https://www.therejectshop.sg/products/xanfer-white-hanging-ceiling-lamp-md70073-1-600: 'in <string>' requires string as left operand, not NoneType\n",
      "Error processing https://www.therejectshop.sg/products/vanzanda-black-m6-chandelier-lamp-md30052-6-700: 'in <string>' requires string as left operand, not NoneType\n",
      "Error processing https://www.therejectshop.sg/products/sauer-black-ceiling-hanging-lamp-md20101-1-360: 'in <string>' requires string as left operand, not NoneType\n"
     ]
    },
    {
     "name": "stderr",
     "output_type": "stream",
     "text": [
      "Processing URLs:   7%|▋         | 1958/30000 [02:04<24:21, 19.18it/s]"
     ]
    },
    {
     "name": "stdout",
     "output_type": "stream",
     "text": [
      "Error processing https://www.therejectshop.sg/products/dunes-black-ceiling-hanging-lamp-md20091-1-180: 'in <string>' requires string as left operand, not NoneType\n",
      "Error processing https://www.therejectshop.sg/products/mansore-black-l6-chandelier-lamp-md20098-6: 'in <string>' requires string as left operand, not NoneType\n",
      "Error processing https://www.therejectshop.sg/products/renzo-black-ceiling-hanging-lamp-md20091-1-180: 'in <string>' requires string as left operand, not NoneType\n",
      "Error processing https://www.therejectshop.sg/products/manchura-black-m-hanging-ceiling-lamp-md50062-1-800: 'in <string>' requires string as left operand, not NoneType\n",
      "Error processing https://www.therejectshop.sg/products/transblak-ceiling-hanging-lamp-md50062-1-400: 'in <string>' requires string as left operand, not NoneType\n"
     ]
    },
    {
     "name": "stderr",
     "output_type": "stream",
     "text": [
      "Processing URLs:   7%|▋         | 1965/30000 [02:04<21:34, 21.66it/s]"
     ]
    },
    {
     "name": "stdout",
     "output_type": "stream",
     "text": [
      "Error processing https://www.therejectshop.sg/products/dowager-black-gold-ceiling-hanging-lamp-md20101-1-240: 'in <string>' requires string as left operand, not NoneType\n",
      "Error processing https://www.therejectshop.sg/products/tinzen-ceiling-hanging-lamp-md20101-1-190: 'in <string>' requires string as left operand, not NoneType\n",
      "Error processing https://www.therejectshop.sg/products/nespresso-discovery-box-without-capsules: 'in <string>' requires string as left operand, not NoneType\n",
      "Error processing https://www.therejectshop.sg/products/longines-le-grant-classique-mother-of-pearl-diamond-watch: 'in <string>' requires string as left operand, not NoneType\n"
     ]
    },
    {
     "name": "stderr",
     "output_type": "stream",
     "text": [
      "Processing URLs:   7%|▋         | 1972/30000 [02:04<19:38, 23.78it/s]"
     ]
    },
    {
     "name": "stdout",
     "output_type": "stream",
     "text": [
      "Error processing https://www.therejectshop.sg/products/vodafone-huawei-pocket-wifi-pro-850mhz: 'in <string>' requires string as left operand, not NoneType\n",
      "Error processing https://www.therejectshop.sg/products/pedora-side-cabinet: 'in <string>' requires string as left operand, not NoneType\n"
     ]
    },
    {
     "name": "stderr",
     "output_type": "stream",
     "text": [
      "Processing URLs:   7%|▋         | 1978/30000 [02:04<20:49, 22.43it/s]"
     ]
    },
    {
     "name": "stdout",
     "output_type": "stream",
     "text": [
      "Error processing https://www.therejectshop.sg/products/goldlev-handmade-lacquerware-wine-holder: 'in <string>' requires string as left operand, not NoneType\n",
      "Error processing https://www.therejectshop.sg/products/shels-handmade-lacquerware-in-set-of-3: 'in <string>' requires string as left operand, not NoneType\n",
      "Error processing https://www.therejectshop.sg/products/furu-handmade-lacquerware-wine-holder: 'in <string>' requires string as left operand, not NoneType\n",
      "Error processing https://www.therejectshop.sg/products/tods-handbag-preloved: 'in <string>' requires string as left operand, not NoneType\n"
     ]
    },
    {
     "name": "stderr",
     "output_type": "stream",
     "text": [
      "Processing URLs:   7%|▋         | 1988/30000 [02:05<19:06, 24.44it/s]"
     ]
    },
    {
     "name": "stdout",
     "output_type": "stream",
     "text": [
      "Error processing https://www.therejectshop.sg/products/rains-handmade-lacquerware-in-set-of-3: 'in <string>' requires string as left operand, not NoneType\n",
      "Error processing https://www.therejectshop.sg/products/louis-vuitton-handbag-preloved: 'in <string>' requires string as left operand, not NoneType\n"
     ]
    },
    {
     "name": "stderr",
     "output_type": "stream",
     "text": [
      "Processing URLs:   8%|▊         | 2452/30000 [02:24<18:12, 25.22it/s]"
     ]
    },
    {
     "name": "stdout",
     "output_type": "stream",
     "text": [
      "Failed to retrieve https://designkollective.com/stores/chic-home/products/14510, Status Code: 404\n",
      "Error processing https://designkollective.com/stores/chic-home/products/14510: cannot unpack non-iterable NoneType object\n"
     ]
    },
    {
     "name": "stderr",
     "output_type": "stream",
     "text": [
      "Processing URLs:   9%|▊         | 2597/30000 [02:30<16:20, 27.94it/s]"
     ]
    },
    {
     "name": "stdout",
     "output_type": "stream",
     "text": [
      "Failed to retrieve https://designkollective.com/stores/chic-home/products/40101, Status Code: 404\n",
      "Error processing https://designkollective.com/stores/chic-home/products/40101: cannot unpack non-iterable NoneType object\n"
     ]
    },
    {
     "name": "stderr",
     "output_type": "stream",
     "text": [
      "Processing URLs:   9%|▉         | 2662/30000 [02:32<19:36, 23.23it/s]"
     ]
    },
    {
     "name": "stdout",
     "output_type": "stream",
     "text": [
      "Failed to retrieve https://designkollective.com/stores/chic-home/products/15056, Status Code: 404\n",
      "Error processing https://designkollective.com/stores/chic-home/products/15056: cannot unpack non-iterable NoneType object\n"
     ]
    },
    {
     "name": "stderr",
     "output_type": "stream",
     "text": [
      "Processing URLs:   9%|▉         | 2750/30000 [02:36<17:42, 25.65it/s]"
     ]
    },
    {
     "name": "stdout",
     "output_type": "stream",
     "text": [
      "Failed to retrieve https://designkollective.com/stores/chic-home/products/137661, Status Code: 404\n",
      "Error processing https://designkollective.com/stores/chic-home/products/137661: cannot unpack non-iterable NoneType object\n"
     ]
    },
    {
     "name": "stderr",
     "output_type": "stream",
     "text": [
      "Processing URLs:   9%|▉         | 2757/30000 [02:36<16:10, 28.06it/s]"
     ]
    },
    {
     "name": "stdout",
     "output_type": "stream",
     "text": [
      "Failed to retrieve https://designkollective.com/stores/chic-home/products/170752, Status Code: 404\n",
      "Error processing https://designkollective.com/stores/chic-home/products/170752: cannot unpack non-iterable NoneType object\n"
     ]
    },
    {
     "name": "stderr",
     "output_type": "stream",
     "text": [
      "Processing URLs:   9%|▉         | 2799/30000 [02:38<15:15, 29.70it/s]"
     ]
    },
    {
     "name": "stdout",
     "output_type": "stream",
     "text": [
      "Failed to retrieve https://designkollective.com/stores/chic-home/products/88535, Status Code: 404\n",
      "Error processing https://designkollective.com/stores/chic-home/products/88535: cannot unpack non-iterable NoneType object\n",
      "Failed to retrieve https://designkollective.com/stores/chic-home/products/88556, Status Code: 404\n",
      "Error processing https://designkollective.com/stores/chic-home/products/88556: cannot unpack non-iterable NoneType object\n",
      "Failed to retrieve https://designkollective.com/stores/chic-home/products/88541, Status Code: 404\n",
      "Error processing https://designkollective.com/stores/chic-home/products/88541: cannot unpack non-iterable NoneType object\n",
      "Failed to retrieve https://designkollective.com/stores/chic-home/products/88538, Status Code: 404\n",
      "Error processing https://designkollective.com/stores/chic-home/products/88538: cannot unpack non-iterable NoneType object\n"
     ]
    },
    {
     "name": "stderr",
     "output_type": "stream",
     "text": [
      "Processing URLs:   9%|▉         | 2807/30000 [02:38<14:03, 32.24it/s]"
     ]
    },
    {
     "name": "stdout",
     "output_type": "stream",
     "text": [
      "Failed to retrieve https://designkollective.com/stores/chic-home/products/87141, Status Code: 404\n",
      "Error processing https://designkollective.com/stores/chic-home/products/87141: cannot unpack non-iterable NoneType object\n",
      "Failed to retrieve https://designkollective.com/stores/chic-home/products/87076, Status Code: 404\n",
      "Error processing https://designkollective.com/stores/chic-home/products/87076: cannot unpack non-iterable NoneType object\n"
     ]
    },
    {
     "name": "stderr",
     "output_type": "stream",
     "text": [
      "Processing URLs:   9%|▉         | 2815/30000 [02:39<15:49, 28.63it/s]"
     ]
    },
    {
     "name": "stdout",
     "output_type": "stream",
     "text": [
      "Failed to retrieve https://designkollective.com/stores/chic-home/products/87114, Status Code: 404\n",
      "Error processing https://designkollective.com/stores/chic-home/products/87114: cannot unpack non-iterable NoneType object\n"
     ]
    },
    {
     "name": "stderr",
     "output_type": "stream",
     "text": [
      "Processing URLs:   9%|▉         | 2824/30000 [02:39<14:43, 30.77it/s]"
     ]
    },
    {
     "name": "stdout",
     "output_type": "stream",
     "text": [
      "Failed to retrieve https://designkollective.com/stores/chic-home/products/87080, Status Code: 404\n",
      "Failed to retrieve https://designkollective.com/stores/chic-home/products/87073, Status Code: 404\n",
      "Error processing https://designkollective.com/stores/chic-home/products/87073: cannot unpack non-iterable NoneType object\n",
      "Error processing https://designkollective.com/stores/chic-home/products/87080: cannot unpack non-iterable NoneType object\n",
      "Failed to retrieve https://designkollective.com/stores/chic-home/products/88490, Status Code: 404\n",
      "Error processing https://designkollective.com/stores/chic-home/products/88490: cannot unpack non-iterable NoneType object\n"
     ]
    },
    {
     "name": "stderr",
     "output_type": "stream",
     "text": [
      "Processing URLs:   9%|▉         | 2848/30000 [02:40<15:21, 29.45it/s]"
     ]
    },
    {
     "name": "stdout",
     "output_type": "stream",
     "text": [
      "Failed to retrieve https://designkollective.com/stores/chic-home/products/97431, Status Code: 404\n",
      "Error processing https://designkollective.com/stores/chic-home/products/97431: cannot unpack non-iterable NoneType object\n",
      "Failed to retrieve https://designkollective.com/stores/chic-home/products/97426, Status Code: 404\n",
      "Error processing https://designkollective.com/stores/chic-home/products/97426: cannot unpack non-iterable NoneType object\n",
      "Failed to retrieve https://designkollective.com/stores/chic-home/products/88312, Status Code: 404\n",
      "Error processing https://designkollective.com/stores/chic-home/products/88312: cannot unpack non-iterable NoneType object\n"
     ]
    },
    {
     "name": "stderr",
     "output_type": "stream",
     "text": [
      "Processing URLs:  10%|▉         | 2855/30000 [02:40<17:23, 26.00it/s]"
     ]
    },
    {
     "name": "stdout",
     "output_type": "stream",
     "text": [
      "Failed to retrieve https://designkollective.com/stores/chic-home/products/86779, Status Code: 404\n",
      "Error processing https://designkollective.com/stores/chic-home/products/86779: cannot unpack non-iterable NoneType object\n"
     ]
    },
    {
     "name": "stderr",
     "output_type": "stream",
     "text": [
      "Processing URLs:  10%|▉         | 2860/30000 [02:40<16:05, 28.11it/s]"
     ]
    },
    {
     "name": "stdout",
     "output_type": "stream",
     "text": [
      "Failed to retrieve https://designkollective.com/stores/chic-home/products/86936, Status Code: 404\n",
      "Error processing https://designkollective.com/stores/chic-home/products/86936: cannot unpack non-iterable NoneType object\n"
     ]
    },
    {
     "name": "stderr",
     "output_type": "stream",
     "text": [
      "Processing URLs:  10%|▉         | 2871/30000 [02:41<14:58, 30.20it/s]"
     ]
    },
    {
     "name": "stdout",
     "output_type": "stream",
     "text": [
      "Failed to retrieve https://designkollective.com/stores/chic-home/products/86709, Status Code: 404\n",
      "Error processing https://designkollective.com/stores/chic-home/products/86709: cannot unpack non-iterable NoneType object\n"
     ]
    },
    {
     "name": "stderr",
     "output_type": "stream",
     "text": [
      "Processing URLs:  10%|▉         | 2875/30000 [02:41<14:48, 30.54it/s]"
     ]
    },
    {
     "name": "stdout",
     "output_type": "stream",
     "text": [
      "Failed to retrieve https://designkollective.com/stores/chic-home/products/86727, Status Code: 404\n",
      "Error processing https://designkollective.com/stores/chic-home/products/86727: cannot unpack non-iterable NoneType object\n",
      "Failed to retrieve https://designkollective.com/stores/de-cor-globally-inspired/products/174655, Status Code: 404\n",
      "Error processing https://designkollective.com/stores/de-cor-globally-inspired/products/174655: cannot unpack non-iterable NoneType object\n"
     ]
    },
    {
     "name": "stderr",
     "output_type": "stream",
     "text": [
      "Processing URLs:  10%|▉         | 2903/30000 [02:42<18:36, 24.28it/s]"
     ]
    },
    {
     "name": "stdout",
     "output_type": "stream",
     "text": [
      "Failed to retrieve https://designkollective.com/stores/chic-home/products/86716, Status Code: 404\n",
      "Error processing https://designkollective.com/stores/chic-home/products/86716: cannot unpack non-iterable NoneType object\n",
      "Failed to retrieve https://designkollective.com/stores/chic-home/products/86680, Status Code: 404\n",
      "Error processing https://designkollective.com/stores/chic-home/products/86680: cannot unpack non-iterable NoneType object\n"
     ]
    },
    {
     "name": "stderr",
     "output_type": "stream",
     "text": [
      "Processing URLs:  10%|▉         | 2915/30000 [02:42<16:45, 26.94it/s]"
     ]
    },
    {
     "name": "stdout",
     "output_type": "stream",
     "text": [
      "Failed to retrieve https://designkollective.com/stores/chic-home/products/97463, Status Code: 404\n",
      "Error processing https://designkollective.com/stores/chic-home/products/97463: cannot unpack non-iterable NoneType object\n"
     ]
    },
    {
     "name": "stderr",
     "output_type": "stream",
     "text": [
      "Processing URLs:  10%|▉         | 2923/30000 [02:43<15:02, 30.02it/s]"
     ]
    },
    {
     "name": "stdout",
     "output_type": "stream",
     "text": [
      "Failed to retrieve https://designkollective.com/stores/chic-home/products/86682, Status Code: 404\n",
      "Error processing https://designkollective.com/stores/chic-home/products/86682: cannot unpack non-iterable NoneType object\n",
      "Failed to retrieve https://designkollective.com/stores/chic-home/products/86689, Status Code: 404\n",
      "Error processing https://designkollective.com/stores/chic-home/products/86689: cannot unpack non-iterable NoneType object\n"
     ]
    },
    {
     "name": "stderr",
     "output_type": "stream",
     "text": [
      "Processing URLs:  10%|▉         | 2930/30000 [02:43<17:25, 25.88it/s]"
     ]
    },
    {
     "name": "stdout",
     "output_type": "stream",
     "text": [
      "Failed to retrieve https://designkollective.com/stores/chic-home/products/86687, Status Code: 404\n",
      "Error processing https://designkollective.com/stores/chic-home/products/86687: cannot unpack non-iterable NoneType object\n"
     ]
    },
    {
     "name": "stderr",
     "output_type": "stream",
     "text": [
      "Processing URLs:  10%|▉         | 2961/30000 [02:44<15:47, 28.53it/s]"
     ]
    },
    {
     "name": "stdout",
     "output_type": "stream",
     "text": [
      "Failed to retrieve https://designkollective.com/stores/chic-home/products/99620, Status Code: 404\n",
      "Error processing https://designkollective.com/stores/chic-home/products/99620: cannot unpack non-iterable NoneType object\n",
      "Failed to retrieve https://designkollective.com/stores/de-cor-globally-inspired/products/19477, Status Code: 404\n",
      "Error processing https://designkollective.com/stores/de-cor-globally-inspired/products/19477: cannot unpack non-iterable NoneType object\n"
     ]
    },
    {
     "name": "stderr",
     "output_type": "stream",
     "text": [
      "Processing URLs:  10%|▉         | 2965/30000 [02:44<15:40, 28.76it/s]"
     ]
    },
    {
     "name": "stdout",
     "output_type": "stream",
     "text": [
      "Failed to retrieve https://designkollective.com/stores/de-cor-globally-inspired/products/161142, Status Code: 404\n",
      "Error processing https://designkollective.com/stores/de-cor-globally-inspired/products/161142: cannot unpack non-iterable NoneType object\n"
     ]
    },
    {
     "name": "stderr",
     "output_type": "stream",
     "text": [
      "Processing URLs:  10%|▉         | 2972/30000 [02:44<17:38, 25.52it/s]"
     ]
    },
    {
     "name": "stdout",
     "output_type": "stream",
     "text": [
      "Failed to retrieve https://designkollective.com/stores/de-cor-globally-inspired/products/161143, Status Code: 404\n",
      "Error processing https://designkollective.com/stores/de-cor-globally-inspired/products/161143: cannot unpack non-iterable NoneType object\n"
     ]
    },
    {
     "name": "stderr",
     "output_type": "stream",
     "text": [
      "Processing URLs:  10%|█         | 3017/30000 [02:46<16:38, 27.01it/s]"
     ]
    },
    {
     "name": "stdout",
     "output_type": "stream",
     "text": [
      "Failed to retrieve https://designkollective.com/stores/chic-home/products/137592, Status Code: 404\n",
      "Error processing https://designkollective.com/stores/chic-home/products/137592: cannot unpack non-iterable NoneType object\n"
     ]
    },
    {
     "name": "stderr",
     "output_type": "stream",
     "text": [
      "Processing URLs:  10%|█         | 3037/30000 [02:47<16:20, 27.51it/s]"
     ]
    },
    {
     "name": "stdout",
     "output_type": "stream",
     "text": [
      "Failed to retrieve https://designkollective.com/stores/chic-home/products/86667, Status Code: 404\n",
      "Error processing https://designkollective.com/stores/chic-home/products/86667: cannot unpack non-iterable NoneType object\n",
      "Failed to retrieve https://designkollective.com/stores/chic-home/products/86671, Status Code: 404\n",
      "Error processing https://designkollective.com/stores/chic-home/products/86671: cannot unpack non-iterable NoneType object\n"
     ]
    },
    {
     "name": "stderr",
     "output_type": "stream",
     "text": [
      "Processing URLs:  10%|█         | 3051/30000 [02:48<15:16, 29.41it/s]"
     ]
    },
    {
     "name": "stdout",
     "output_type": "stream",
     "text": [
      "Failed to retrieve https://designkollective.com/stores/chic-home/products/86620, Status Code: 404\n",
      "Error processing https://designkollective.com/stores/chic-home/products/86620: cannot unpack non-iterable NoneType object\n",
      "Failed to retrieve https://designkollective.com/stores/chic-home/products/86672, Status Code: 404\n",
      "Error processing https://designkollective.com/stores/chic-home/products/86672: cannot unpack non-iterable NoneType object\n"
     ]
    },
    {
     "name": "stderr",
     "output_type": "stream",
     "text": [
      "Processing URLs:  10%|█         | 3055/30000 [02:48<14:08, 31.77it/s]"
     ]
    },
    {
     "name": "stdout",
     "output_type": "stream",
     "text": [
      "Failed to retrieve https://designkollective.com/stores/chic-home/products/98905, Status Code: 404\n",
      "Error processing https://designkollective.com/stores/chic-home/products/98905: cannot unpack non-iterable NoneType object\n",
      "Failed to retrieve https://designkollective.com/stores/chic-home/products/14514, Status Code: 404\n",
      "Error processing https://designkollective.com/stores/chic-home/products/14514: cannot unpack non-iterable NoneType object\n"
     ]
    },
    {
     "name": "stderr",
     "output_type": "stream",
     "text": [
      "Processing URLs:  10%|█         | 3063/30000 [02:48<16:07, 27.84it/s]"
     ]
    },
    {
     "name": "stdout",
     "output_type": "stream",
     "text": [
      "Failed to retrieve https://designkollective.com/stores/chic-home/products/86719, Status Code: 404\n",
      "Error processing https://designkollective.com/stores/chic-home/products/86719: cannot unpack non-iterable NoneType object\n",
      "Failed to retrieve https://designkollective.com/stores/chic-home/products/137599, Status Code: 404\n",
      "Error processing https://designkollective.com/stores/chic-home/products/137599: cannot unpack non-iterable NoneType object\n",
      "Failed to retrieve https://designkollective.com/stores/chic-home/products/86676, Status Code: 404\n",
      "Error processing https://designkollective.com/stores/chic-home/products/86676: cannot unpack non-iterable NoneType object\n"
     ]
    },
    {
     "name": "stderr",
     "output_type": "stream",
     "text": [
      "Processing URLs:  10%|█         | 3069/30000 [02:48<13:31, 33.19it/s]"
     ]
    },
    {
     "name": "stdout",
     "output_type": "stream",
     "text": [
      "Failed to retrieve https://designkollective.com/stores/chic-home/products/86662, Status Code: 404\n",
      "Error processing https://designkollective.com/stores/chic-home/products/86662: cannot unpack non-iterable NoneType object\n"
     ]
    },
    {
     "name": "stderr",
     "output_type": "stream",
     "text": [
      "Processing URLs:  10%|█         | 3081/30000 [02:49<14:44, 30.45it/s]"
     ]
    },
    {
     "name": "stdout",
     "output_type": "stream",
     "text": [
      "Failed to retrieve https://designkollective.com/stores/chic-home/products/86660, Status Code: 404\n",
      "Error processing https://designkollective.com/stores/chic-home/products/86660: cannot unpack non-iterable NoneType object\n"
     ]
    },
    {
     "name": "stderr",
     "output_type": "stream",
     "text": [
      "Processing URLs:  10%|█         | 3091/30000 [02:49<14:33, 30.79it/s]"
     ]
    },
    {
     "name": "stdout",
     "output_type": "stream",
     "text": [
      "Failed to retrieve https://designkollective.com/stores/chic-home/products/88430, Status Code: 404\n",
      "Error processing https://designkollective.com/stores/chic-home/products/88430: cannot unpack non-iterable NoneType object\n",
      "Failed to retrieve https://designkollective.com/stores/de-cor-globally-inspired/products/161164, Status Code: 404\n",
      "Error processing https://designkollective.com/stores/de-cor-globally-inspired/products/161164: cannot unpack non-iterable NoneType object\n"
     ]
    },
    {
     "name": "stderr",
     "output_type": "stream",
     "text": [
      "Processing URLs:  10%|█         | 3105/30000 [02:49<15:02, 29.82it/s]"
     ]
    },
    {
     "name": "stdout",
     "output_type": "stream",
     "text": [
      "Failed to retrieve https://designkollective.com/stores/chic-home/products/101267, Status Code: 404\n",
      "Error processing https://designkollective.com/stores/chic-home/products/101267: cannot unpack non-iterable NoneType object\n",
      "Failed to retrieve https://designkollective.com/stores/chic-home/products/86633, Status Code: 404\n",
      "Error processing https://designkollective.com/stores/chic-home/products/86633: cannot unpack non-iterable NoneType object\n",
      "Failed to retrieve https://designkollective.com/stores/chic-home/products/101261, Status Code: 404\n",
      "Error processing https://designkollective.com/stores/chic-home/products/101261: cannot unpack non-iterable NoneType object\n"
     ]
    },
    {
     "name": "stderr",
     "output_type": "stream",
     "text": [
      "Processing URLs:  10%|█         | 3117/30000 [02:50<17:05, 26.22it/s]"
     ]
    },
    {
     "name": "stdout",
     "output_type": "stream",
     "text": [
      "Failed to retrieve https://designkollective.com/stores/chic-home/products/86650, Status Code: 404\n",
      "Error processing https://designkollective.com/stores/chic-home/products/86650: cannot unpack non-iterable NoneType object\n",
      "Failed to retrieve https://designkollective.com/stores/chic-home/products/86632, Status Code: 404\n",
      "Error processing https://designkollective.com/stores/chic-home/products/86632: cannot unpack non-iterable NoneType object\n",
      "Failed to retrieve https://designkollective.com/stores/chic-home/products/86614, Status Code: 404\n",
      "Error processing https://designkollective.com/stores/chic-home/products/86614: cannot unpack non-iterable NoneType object\n"
     ]
    },
    {
     "name": "stderr",
     "output_type": "stream",
     "text": [
      "Processing URLs:  10%|█         | 3128/30000 [02:50<13:54, 32.21it/s]"
     ]
    },
    {
     "name": "stdout",
     "output_type": "stream",
     "text": [
      "Failed to retrieve https://designkollective.com/stores/chic-home/products/86618, Status Code: 404\n",
      "Error processing https://designkollective.com/stores/chic-home/products/86618: cannot unpack non-iterable NoneType object\n",
      "Failed to retrieve https://designkollective.com/stores/chic-home/products/52566, Status Code: 404\n",
      "Error processing https://designkollective.com/stores/chic-home/products/52566: cannot unpack non-iterable NoneType object\n",
      "Failed to retrieve https://designkollective.com/stores/chic-home/products/101258, Status Code: 404\n",
      "Error processing https://designkollective.com/stores/chic-home/products/101258: cannot unpack non-iterable NoneType object\n",
      "Failed to retrieve https://designkollective.com/stores/chic-home/products/98895, Status Code: 404\n",
      "Error processing https://designkollective.com/stores/chic-home/products/98895: cannot unpack non-iterable NoneType object\n",
      "Failed to retrieve https://designkollective.com/stores/chic-home/products/88561, Status Code: 404\n",
      "Error processing https://designkollective.com/stores/chic-home/products/88561: cannot unpack non-iterable NoneType object\n"
     ]
    },
    {
     "name": "stderr",
     "output_type": "stream",
     "text": [
      "Processing URLs:  10%|█         | 3144/30000 [02:51<14:18, 31.30it/s]"
     ]
    },
    {
     "name": "stdout",
     "output_type": "stream",
     "text": [
      "Failed to retrieve https://designkollective.com/stores/de-cor-globally-inspired/products/161185, Status Code: 404\n",
      "Error processing https://designkollective.com/stores/de-cor-globally-inspired/products/161185: cannot unpack non-iterable NoneType object\n",
      "Failed to retrieve https://designkollective.com/stores/chic-home/products/101160, Status Code: 404\n",
      "Error processing https://designkollective.com/stores/chic-home/products/101160: cannot unpack non-iterable NoneType object\n"
     ]
    },
    {
     "name": "stderr",
     "output_type": "stream",
     "text": [
      "Processing URLs:  11%|█         | 3152/30000 [02:51<16:02, 27.91it/s]"
     ]
    },
    {
     "name": "stdout",
     "output_type": "stream",
     "text": [
      "Failed to retrieve https://designkollective.com/stores/chic-home/products/88501, Status Code: 404\n",
      "Error processing https://designkollective.com/stores/chic-home/products/88501: cannot unpack non-iterable NoneType object\n"
     ]
    },
    {
     "name": "stderr",
     "output_type": "stream",
     "text": [
      "Processing URLs:  11%|█         | 3158/30000 [02:51<16:42, 26.77it/s]"
     ]
    },
    {
     "name": "stdout",
     "output_type": "stream",
     "text": [
      "Failed to retrieve https://designkollective.com/stores/chic-home/products/88503, Status Code: 404\n",
      "Error processing https://designkollective.com/stores/chic-home/products/88503: cannot unpack non-iterable NoneType object\n",
      "Failed to retrieve https://designkollective.com/stores/chic-home/products/52638, Status Code: 404\n",
      "Error processing https://designkollective.com/stores/chic-home/products/52638: cannot unpack non-iterable NoneType object\n",
      "Failed to retrieve https://designkollective.com/stores/chic-home/products/52623, Status Code: 404\n",
      "Error processing https://designkollective.com/stores/chic-home/products/52623: cannot unpack non-iterable NoneType object\n"
     ]
    },
    {
     "name": "stderr",
     "output_type": "stream",
     "text": [
      "Processing URLs:  11%|█         | 3168/30000 [02:52<15:32, 28.79it/s]"
     ]
    },
    {
     "name": "stdout",
     "output_type": "stream",
     "text": [
      "Failed to retrieve https://designkollective.com/stores/chic-home/products/52568, Status Code: 404\n",
      "Error processing https://designkollective.com/stores/chic-home/products/52568: cannot unpack non-iterable NoneType object\n"
     ]
    },
    {
     "name": "stderr",
     "output_type": "stream",
     "text": [
      "Processing URLs:  11%|█         | 3182/30000 [02:52<13:14, 33.75it/s]"
     ]
    },
    {
     "name": "stdout",
     "output_type": "stream",
     "text": [
      "Failed to retrieve https://designkollective.com/stores/chic-home/products/52612, Status Code: 404\n",
      "Error processing https://designkollective.com/stores/chic-home/products/52612: cannot unpack non-iterable NoneType object\n",
      "Failed to retrieve https://designkollective.com/stores/chic-home/products/52634, Status Code: 404\n",
      "Failed to retrieve https://designkollective.com/stores/chic-home/products/52592, Status Code: 404\n",
      "Error processing https://designkollective.com/stores/chic-home/products/52634: cannot unpack non-iterable NoneType object\n",
      "Error processing https://designkollective.com/stores/chic-home/products/52592: cannot unpack non-iterable NoneType object\n",
      "Failed to retrieve https://designkollective.com/stores/chic-home/products/52605, Status Code: 404\n",
      "Error processing https://designkollective.com/stores/chic-home/products/52605: cannot unpack non-iterable NoneType object\n",
      "Failed to retrieve https://designkollective.com/stores/chic-home/products/52580, Status Code: 404\n",
      "Error processing https://designkollective.com/stores/chic-home/products/52580: cannot unpack non-iterable NoneType object\n"
     ]
    },
    {
     "name": "stderr",
     "output_type": "stream",
     "text": [
      "Processing URLs:  11%|█         | 3191/30000 [02:52<11:52, 37.65it/s]"
     ]
    },
    {
     "name": "stdout",
     "output_type": "stream",
     "text": [
      "Failed to retrieve https://designkollective.com/stores/chic-home/products/52611, Status Code: 404\n",
      "Error processing https://designkollective.com/stores/chic-home/products/52611: cannot unpack non-iterable NoneType object\n",
      "Failed to retrieve https://designkollective.com/stores/chic-home/products/52662, Status Code: 404\n",
      "Error processing https://designkollective.com/stores/chic-home/products/52662: cannot unpack non-iterable NoneType object\n",
      "Failed to retrieve https://designkollective.com/stores/chic-home/products/52567, Status Code: 404\n",
      "Error processing https://designkollective.com/stores/chic-home/products/52567: cannot unpack non-iterable NoneType object\n",
      "Failed to retrieve https://designkollective.com/stores/chic-home/products/52604, Status Code: 404\n",
      "Error processing https://designkollective.com/stores/chic-home/products/52604: cannot unpack non-iterable NoneType object\n",
      "Failed to retrieve https://designkollective.com/stores/chic-home/products/52602, Status Code: 404\n",
      "Error processing https://designkollective.com/stores/chic-home/products/52602: cannot unpack non-iterable NoneType object\n",
      "Failed to retrieve https://designkollective.com/stores/chic-home/products/52621, Status Code: 404\n",
      "Error processing https://designkollective.com/stores/chic-home/products/52621: cannot unpack non-iterable NoneType object\n",
      "Failed to retrieve https://designkollective.com/stores/chic-home/products/52591, Status Code: 404\n",
      "Error processing https://designkollective.com/stores/chic-home/products/52591: cannot unpack non-iterable NoneType object\n",
      "Failed to retrieve https://designkollective.com/stores/chic-home/products/52596, Status Code: 404\n",
      "Error processing https://designkollective.com/stores/chic-home/products/52596: cannot unpack non-iterable NoneType object\n",
      "Failed to retrieve https://designkollective.com/stores/chic-home/products/52718, Status Code: 404\n",
      "Error processing https://designkollective.com/stores/chic-home/products/52718: cannot unpack non-iterable NoneType object\n"
     ]
    },
    {
     "name": "stderr",
     "output_type": "stream",
     "text": [
      "Processing URLs:  11%|█         | 3206/30000 [02:53<12:18, 36.30it/s]"
     ]
    },
    {
     "name": "stdout",
     "output_type": "stream",
     "text": [
      "Failed to retrieve https://designkollective.com/stores/chic-home/products/52715, Status Code: 404\n",
      "Error processing https://designkollective.com/stores/chic-home/products/52715: cannot unpack non-iterable NoneType object\n",
      "Failed to retrieve https://designkollective.com/stores/chic-home/products/52669, Status Code: 404\n",
      "Error processing https://designkollective.com/stores/chic-home/products/52669: cannot unpack non-iterable NoneType object\n",
      "Failed to retrieve https://designkollective.com/stores/chic-home/products/52650, Status Code: 404\n",
      "Error processing https://designkollective.com/stores/chic-home/products/52650: cannot unpack non-iterable NoneType object\n"
     ]
    },
    {
     "name": "stderr",
     "output_type": "stream",
     "text": [
      "Processing URLs:  11%|█         | 3210/30000 [02:53<13:01, 34.27it/s]"
     ]
    },
    {
     "name": "stdout",
     "output_type": "stream",
     "text": [
      "Failed to retrieve https://designkollective.com/stores/chic-home/products/52674, Status Code: 404\n",
      "Error processing https://designkollective.com/stores/chic-home/products/52674: cannot unpack non-iterable NoneType object\n",
      "Failed to retrieve https://designkollective.com/stores/chic-home/products/52593, Status Code: 404\n",
      "Error processing https://designkollective.com/stores/chic-home/products/52593: cannot unpack non-iterable NoneType object\n"
     ]
    },
    {
     "name": "stderr",
     "output_type": "stream",
     "text": [
      "Processing URLs:  11%|█         | 3214/30000 [02:53<15:19, 29.13it/s]"
     ]
    },
    {
     "name": "stdout",
     "output_type": "stream",
     "text": [
      "Failed to retrieve https://designkollective.com/stores/chic-home/products/52637, Status Code: 404\n",
      "Error processing https://designkollective.com/stores/chic-home/products/52637: cannot unpack non-iterable NoneType object\n",
      "Failed to retrieve https://designkollective.com/stores/chic-home/products/52645, Status Code: 404\n",
      "Error processing https://designkollective.com/stores/chic-home/products/52645: cannot unpack non-iterable NoneType object\n"
     ]
    },
    {
     "name": "stderr",
     "output_type": "stream",
     "text": [
      "Processing URLs:  11%|█         | 3222/30000 [02:53<15:14, 29.28it/s]"
     ]
    },
    {
     "name": "stdout",
     "output_type": "stream",
     "text": [
      "Failed to retrieve https://designkollective.com/stores/chic-home/products/52639, Status Code: 404\n",
      "Error processing https://designkollective.com/stores/chic-home/products/52639: cannot unpack non-iterable NoneType object\n",
      "Failed to retrieve https://designkollective.com/stores/chic-home/products/52695, Status Code: 404\n",
      "Error processing https://designkollective.com/stores/chic-home/products/52695: cannot unpack non-iterable NoneType object\n",
      "Failed to retrieve https://designkollective.com/stores/chic-home/products/52694, Status Code: 404\n",
      "Error processing https://designkollective.com/stores/chic-home/products/52694: cannot unpack non-iterable NoneType object\n"
     ]
    },
    {
     "name": "stderr",
     "output_type": "stream",
     "text": [
      "Processing URLs:  11%|█         | 3238/30000 [02:54<16:56, 26.32it/s]"
     ]
    },
    {
     "name": "stdout",
     "output_type": "stream",
     "text": [
      "Failed to retrieve https://designkollective.com/stores/chic-home/products/56226, Status Code: 404\n",
      "Error processing https://designkollective.com/stores/chic-home/products/56226: cannot unpack non-iterable NoneType object\n",
      "Failed to retrieve https://designkollective.com/stores/chic-home/products/56219, Status Code: 404\n",
      "Error processing https://designkollective.com/stores/chic-home/products/56219: cannot unpack non-iterable NoneType object\n"
     ]
    },
    {
     "name": "stderr",
     "output_type": "stream",
     "text": [
      "Processing URLs:  11%|█         | 3245/30000 [02:54<15:07, 29.48it/s]"
     ]
    },
    {
     "name": "stdout",
     "output_type": "stream",
     "text": [
      "Failed to retrieve https://designkollective.com/stores/chic-home/products/56275, Status Code: 404\n",
      "Error processing https://designkollective.com/stores/chic-home/products/56275: cannot unpack non-iterable NoneType object\n",
      "Failed to retrieve https://designkollective.com/stores/chic-home/products/56276, Status Code: 404\n",
      "Error processing https://designkollective.com/stores/chic-home/products/56276: cannot unpack non-iterable NoneType object\n",
      "Failed to retrieve https://designkollective.com/stores/chic-home/products/56241, Status Code: 404\n",
      "Error processing https://designkollective.com/stores/chic-home/products/56241: cannot unpack non-iterable NoneType object\n"
     ]
    },
    {
     "name": "stderr",
     "output_type": "stream",
     "text": [
      "Processing URLs:  11%|█         | 3258/30000 [02:55<12:35, 35.39it/s]"
     ]
    },
    {
     "name": "stdout",
     "output_type": "stream",
     "text": [
      "Failed to retrieve https://designkollective.com/stores/chic-home/products/56253, Status Code: 404\n",
      "Error processing https://designkollective.com/stores/chic-home/products/56253: cannot unpack non-iterable NoneType object\n",
      "Failed to retrieve https://designkollective.com/stores/chic-home/products/56593, Status Code: 404\n",
      "Error processing https://designkollective.com/stores/chic-home/products/56593: cannot unpack non-iterable NoneType object\n",
      "Failed to retrieve https://designkollective.com/stores/chic-home/products/56233, Status Code: 404\n",
      "Error processing https://designkollective.com/stores/chic-home/products/56233: cannot unpack non-iterable NoneType object\n",
      "Failed to retrieve https://designkollective.com/stores/chic-home/products/56232, Status Code: 404\n",
      "Error processing https://designkollective.com/stores/chic-home/products/56232: cannot unpack non-iterable NoneType object\n",
      "Failed to retrieve https://designkollective.com/stores/chic-home/products/56301, Status Code: 404\n",
      "Error processing https://designkollective.com/stores/chic-home/products/56301: cannot unpack non-iterable NoneType object\n",
      "Failed to retrieve https://designkollective.com/stores/chic-home/products/56304, Status Code: 404\n",
      "Error processing https://designkollective.com/stores/chic-home/products/56304: cannot unpack non-iterable NoneType object\n",
      "Failed to retrieve https://designkollective.com/stores/chic-home/products/56252, Status Code: 404\n",
      "Error processing https://designkollective.com/stores/chic-home/products/56252: cannot unpack non-iterable NoneType object\n",
      "Failed to retrieve https://designkollective.com/stores/chic-home/products/56271, Status Code: 404\n",
      "Error processing https://designkollective.com/stores/chic-home/products/56271: cannot unpack non-iterable NoneType object\n"
     ]
    },
    {
     "name": "stderr",
     "output_type": "stream",
     "text": [
      "Processing URLs:  11%|█         | 3269/30000 [02:55<11:57, 37.24it/s]"
     ]
    },
    {
     "name": "stdout",
     "output_type": "stream",
     "text": [
      "Failed to retrieve https://designkollective.com/stores/chic-home/products/56314, Status Code: 404\n",
      "Error processing https://designkollective.com/stores/chic-home/products/56314: cannot unpack non-iterable NoneType object\n",
      "Failed to retrieve https://designkollective.com/stores/chic-home/products/56249, Status Code: 404\n",
      "Error processing https://designkollective.com/stores/chic-home/products/56249: cannot unpack non-iterable NoneType object\n",
      "Failed to retrieve https://designkollective.com/stores/chic-home/products/56251, Status Code: 404\n",
      "Error processing https://designkollective.com/stores/chic-home/products/56251: cannot unpack non-iterable NoneType object\n"
     ]
    },
    {
     "name": "stderr",
     "output_type": "stream",
     "text": [
      "Processing URLs:  11%|█         | 3285/30000 [02:55<14:50, 30.00it/s]"
     ]
    },
    {
     "name": "stdout",
     "output_type": "stream",
     "text": [
      "Failed to retrieve https://designkollective.com/stores/chic-home/products/56254, Status Code: 404\n",
      "Error processing https://designkollective.com/stores/chic-home/products/56254: cannot unpack non-iterable NoneType object\n"
     ]
    },
    {
     "name": "stderr",
     "output_type": "stream",
     "text": [
      "Processing URLs:  11%|█         | 3297/30000 [02:56<14:44, 30.20it/s]"
     ]
    },
    {
     "name": "stdout",
     "output_type": "stream",
     "text": [
      "Failed to retrieve https://designkollective.com/stores/chic-home/products/56217, Status Code: 404\n",
      "Error processing https://designkollective.com/stores/chic-home/products/56217: cannot unpack non-iterable NoneType object\n",
      "Failed to retrieve https://designkollective.com/stores/chic-home/products/56288, Status Code: 404\n",
      "Error processing https://designkollective.com/stores/chic-home/products/56288: cannot unpack non-iterable NoneType object\n"
     ]
    },
    {
     "name": "stderr",
     "output_type": "stream",
     "text": [
      "Processing URLs:  11%|█         | 3321/30000 [02:57<14:51, 29.93it/s]"
     ]
    },
    {
     "name": "stdout",
     "output_type": "stream",
     "text": [
      "Failed to retrieve https://designkollective.com/stores/chic-home/products/56246, Status Code: 404\n",
      "Error processing https://designkollective.com/stores/chic-home/products/56246: cannot unpack non-iterable NoneType object\n",
      "Failed to retrieve https://designkollective.com/stores/chic-home/products/56257, Status Code: 404\n",
      "Error processing https://designkollective.com/stores/chic-home/products/56257: cannot unpack non-iterable NoneType object\n",
      "Failed to retrieve https://designkollective.com/stores/chic-home/products/56303, Status Code: 404\n",
      "Error processing https://designkollective.com/stores/chic-home/products/56303: cannot unpack non-iterable NoneType object\n"
     ]
    },
    {
     "name": "stderr",
     "output_type": "stream",
     "text": [
      "Processing URLs:  11%|█         | 3332/30000 [02:57<17:32, 25.34it/s]"
     ]
    },
    {
     "name": "stdout",
     "output_type": "stream",
     "text": [
      "Failed to retrieve https://designkollective.com/stores/chic-home/products/56293, Status Code: 404\n",
      "Error processing https://designkollective.com/stores/chic-home/products/56293: cannot unpack non-iterable NoneType object\n",
      "Failed to retrieve https://designkollective.com/stores/chic-home/products/56250, Status Code: 404\n",
      "Error processing https://designkollective.com/stores/chic-home/products/56250: cannot unpack non-iterable NoneType object\n"
     ]
    },
    {
     "name": "stderr",
     "output_type": "stream",
     "text": [
      "Processing URLs:  11%|█         | 3340/30000 [02:57<14:47, 30.04it/s]"
     ]
    },
    {
     "name": "stdout",
     "output_type": "stream",
     "text": [
      "Failed to retrieve https://designkollective.com/stores/chic-home/products/56255, Status Code: 404\n",
      "Error processing https://designkollective.com/stores/chic-home/products/56255: cannot unpack non-iterable NoneType object\n",
      "Failed to retrieve https://designkollective.com/stores/chic-home/products/137728, Status Code: 404\n",
      "Error processing https://designkollective.com/stores/chic-home/products/137728: cannot unpack non-iterable NoneType object\n"
     ]
    },
    {
     "name": "stderr",
     "output_type": "stream",
     "text": [
      "Processing URLs:  11%|█         | 3348/30000 [02:58<15:17, 29.03it/s]"
     ]
    },
    {
     "name": "stdout",
     "output_type": "stream",
     "text": [
      "Failed to retrieve https://designkollective.com/stores/chic-home/products/56317, Status Code: 404\n",
      "Error processing https://designkollective.com/stores/chic-home/products/56317: cannot unpack non-iterable NoneType object\n",
      "Failed to retrieve https://designkollective.com/stores/chic-home/products/56259, Status Code: 404\n",
      "Error processing https://designkollective.com/stores/chic-home/products/56259: cannot unpack non-iterable NoneType object\n"
     ]
    },
    {
     "name": "stderr",
     "output_type": "stream",
     "text": [
      "Processing URLs:  11%|█         | 3358/30000 [02:58<14:35, 30.42it/s]"
     ]
    },
    {
     "name": "stdout",
     "output_type": "stream",
     "text": [
      "Failed to retrieve https://designkollective.com/stores/chic-home/products/56256, Status Code: 404\n",
      "Error processing https://designkollective.com/stores/chic-home/products/56256: cannot unpack non-iterable NoneType object\n",
      "Failed to retrieve https://designkollective.com/stores/chic-home/products/56261, Status Code: 404\n",
      "Error processing https://designkollective.com/stores/chic-home/products/56261: cannot unpack non-iterable NoneType object\n"
     ]
    },
    {
     "name": "stderr",
     "output_type": "stream",
     "text": [
      "Processing URLs:  11%|█         | 3362/30000 [02:58<13:55, 31.88it/s]"
     ]
    },
    {
     "name": "stdout",
     "output_type": "stream",
     "text": [
      "Failed to retrieve https://designkollective.com/stores/chic-home/products/56282, Status Code: 404\n",
      "Error processing https://designkollective.com/stores/chic-home/products/56282: cannot unpack non-iterable NoneType object\n"
     ]
    },
    {
     "name": "stderr",
     "output_type": "stream",
     "text": [
      "Processing URLs:  11%|█▏        | 3375/30000 [02:59<18:43, 23.70it/s]"
     ]
    },
    {
     "name": "stdout",
     "output_type": "stream",
     "text": [
      "Failed to retrieve https://designkollective.com/stores/chic-home/products/56263, Status Code: 404\n",
      "Error processing https://designkollective.com/stores/chic-home/products/56263: cannot unpack non-iterable NoneType object\n",
      "Failed to retrieve https://designkollective.com/stores/chic-home/products/56279, Status Code: 404\n",
      "Error processing https://designkollective.com/stores/chic-home/products/56279: cannot unpack non-iterable NoneType object\n"
     ]
    },
    {
     "name": "stderr",
     "output_type": "stream",
     "text": [
      "Processing URLs:  11%|█▏        | 3383/30000 [02:59<16:30, 26.87it/s]"
     ]
    },
    {
     "name": "stdout",
     "output_type": "stream",
     "text": [
      "Failed to retrieve https://designkollective.com/stores/chic-home/products/56273, Status Code: 404\n",
      "Error processing https://designkollective.com/stores/chic-home/products/56273: cannot unpack non-iterable NoneType object\n",
      "Failed to retrieve https://designkollective.com/stores/chic-home/products/56274, Status Code: 404\n",
      "Error processing https://designkollective.com/stores/chic-home/products/56274: cannot unpack non-iterable NoneType object\n"
     ]
    },
    {
     "name": "stderr",
     "output_type": "stream",
     "text": [
      "Processing URLs:  11%|█▏        | 3389/30000 [02:59<19:50, 22.36it/s]"
     ]
    },
    {
     "name": "stdout",
     "output_type": "stream",
     "text": [
      "Failed to retrieve https://designkollective.com/stores/chic-home/products/56345, Status Code: 404\n",
      "Error processing https://designkollective.com/stores/chic-home/products/56345: cannot unpack non-iterable NoneType object\n"
     ]
    },
    {
     "name": "stderr",
     "output_type": "stream",
     "text": [
      "Processing URLs:  11%|█▏        | 3400/30000 [03:00<15:18, 28.95it/s]"
     ]
    },
    {
     "name": "stdout",
     "output_type": "stream",
     "text": [
      "Failed to retrieve https://designkollective.com/stores/chic-home/products/56290, Status Code: 404\n",
      "Error processing https://designkollective.com/stores/chic-home/products/56290: cannot unpack non-iterable NoneType object\n",
      "Failed to retrieve https://designkollective.com/stores/chic-home/products/56292, Status Code: 404\n",
      "Error processing https://designkollective.com/stores/chic-home/products/56292: cannot unpack non-iterable NoneType object\n",
      "Failed to retrieve https://designkollective.com/stores/chic-home/products/56336, Status Code: 404\n",
      "Error processing https://designkollective.com/stores/chic-home/products/56336: cannot unpack non-iterable NoneType object\n"
     ]
    },
    {
     "name": "stderr",
     "output_type": "stream",
     "text": [
      "Processing URLs:  11%|█▏        | 3407/30000 [03:00<15:36, 28.38it/s]"
     ]
    },
    {
     "name": "stdout",
     "output_type": "stream",
     "text": [
      "Failed to retrieve https://designkollective.com/stores/chic-home/products/56323, Status Code: 404\n",
      "Error processing https://designkollective.com/stores/chic-home/products/56323: cannot unpack non-iterable NoneType object\n"
     ]
    },
    {
     "name": "stderr",
     "output_type": "stream",
     "text": [
      "Processing URLs:  11%|█▏        | 3414/30000 [03:00<20:05, 22.05it/s]"
     ]
    },
    {
     "name": "stdout",
     "output_type": "stream",
     "text": [
      "Failed to retrieve https://designkollective.com/stores/chic-home/products/56322, Status Code: 404\n",
      "Error processing https://designkollective.com/stores/chic-home/products/56322: cannot unpack non-iterable NoneType object\n"
     ]
    },
    {
     "name": "stderr",
     "output_type": "stream",
     "text": [
      "Processing URLs:  11%|█▏        | 3421/30000 [03:01<17:00, 26.05it/s]"
     ]
    },
    {
     "name": "stdout",
     "output_type": "stream",
     "text": [
      "Failed to retrieve https://designkollective.com/stores/chic-home/products/56339, Status Code: 404\n",
      "Error processing https://designkollective.com/stores/chic-home/products/56339: cannot unpack non-iterable NoneType object\n",
      "Failed to retrieve https://designkollective.com/stores/chic-home/products/56284, Status Code: 404\n",
      "Error processing https://designkollective.com/stores/chic-home/products/56284: cannot unpack non-iterable NoneType object\n",
      "Failed to retrieve https://designkollective.com/stores/chic-home/products/56401, Status Code: 404\n",
      "Error processing https://designkollective.com/stores/chic-home/products/56401: cannot unpack non-iterable NoneType object\n"
     ]
    },
    {
     "name": "stderr",
     "output_type": "stream",
     "text": [
      "Processing URLs:  11%|█▏        | 3439/30000 [03:01<15:56, 27.77it/s]"
     ]
    },
    {
     "name": "stdout",
     "output_type": "stream",
     "text": [
      "Failed to retrieve https://designkollective.com/stores/chic-home/products/56300, Status Code: 404\n",
      "Error processing https://designkollective.com/stores/chic-home/products/56300: cannot unpack non-iterable NoneType object\n",
      "Failed to retrieve https://designkollective.com/stores/chic-home/products/56305, Status Code: 404\n",
      "Error processing https://designkollective.com/stores/chic-home/products/56305: cannot unpack non-iterable NoneType object\n"
     ]
    },
    {
     "name": "stderr",
     "output_type": "stream",
     "text": [
      "Processing URLs:  11%|█▏        | 3446/30000 [03:02<14:43, 30.05it/s]"
     ]
    },
    {
     "name": "stdout",
     "output_type": "stream",
     "text": [
      "Failed to retrieve https://designkollective.com/stores/chic-home/products/56318, Status Code: 404\n",
      "Error processing https://designkollective.com/stores/chic-home/products/56318: cannot unpack non-iterable NoneType object\n",
      "Failed to retrieve https://designkollective.com/stores/chic-home/products/56297, Status Code: 404\n",
      "Error processing https://designkollective.com/stores/chic-home/products/56297: cannot unpack non-iterable NoneType object\n"
     ]
    },
    {
     "name": "stderr",
     "output_type": "stream",
     "text": [
      "Processing URLs:  12%|█▏        | 3457/30000 [03:02<15:29, 28.57it/s]"
     ]
    },
    {
     "name": "stdout",
     "output_type": "stream",
     "text": [
      "Failed to retrieve https://designkollective.com/stores/chic-home/products/56296, Status Code: 404\n",
      "Error processing https://designkollective.com/stores/chic-home/products/56296: cannot unpack non-iterable NoneType object\n"
     ]
    },
    {
     "name": "stderr",
     "output_type": "stream",
     "text": [
      "Processing URLs:  12%|█▏        | 3473/30000 [03:03<18:20, 24.10it/s]"
     ]
    },
    {
     "name": "stdout",
     "output_type": "stream",
     "text": [
      "Failed to retrieve https://designkollective.com/stores/chic-home/products/56387, Status Code: 404\n",
      "Error processing https://designkollective.com/stores/chic-home/products/56387: cannot unpack non-iterable NoneType object\n",
      "Failed to retrieve https://designkollective.com/stores/chic-home/products/56308, Status Code: 404\n",
      "Error processing https://designkollective.com/stores/chic-home/products/56308: cannot unpack non-iterable NoneType object\n"
     ]
    },
    {
     "name": "stderr",
     "output_type": "stream",
     "text": [
      "Processing URLs:  12%|█▏        | 3482/30000 [03:03<15:01, 29.40it/s]"
     ]
    },
    {
     "name": "stdout",
     "output_type": "stream",
     "text": [
      "Failed to retrieve https://designkollective.com/stores/chic-home/products/56312, Status Code: 404\n",
      "Error processing https://designkollective.com/stores/chic-home/products/56312: cannot unpack non-iterable NoneType object\n",
      "Failed to retrieve https://designkollective.com/stores/chic-home/products/56320, Status Code: 404\n",
      "Error processing https://designkollective.com/stores/chic-home/products/56320: cannot unpack non-iterable NoneType object\n"
     ]
    },
    {
     "name": "stderr",
     "output_type": "stream",
     "text": [
      "Processing URLs:  12%|█▏        | 3498/30000 [03:03<15:01, 29.39it/s]"
     ]
    },
    {
     "name": "stdout",
     "output_type": "stream",
     "text": [
      "Failed to retrieve https://designkollective.com/stores/chic-home/products/56337, Status Code: 404\n",
      "Error processing https://designkollective.com/stores/chic-home/products/56337: cannot unpack non-iterable NoneType object\n"
     ]
    },
    {
     "name": "stderr",
     "output_type": "stream",
     "text": [
      "Processing URLs:  12%|█▏        | 3505/30000 [03:04<14:15, 30.96it/s]"
     ]
    },
    {
     "name": "stdout",
     "output_type": "stream",
     "text": [
      "Failed to retrieve https://designkollective.com/stores/chic-home/products/56326, Status Code: 404\n",
      "Error processing https://designkollective.com/stores/chic-home/products/56326: cannot unpack non-iterable NoneType object\n",
      "Failed to retrieve https://designkollective.com/stores/chic-home/products/56324, Status Code: 404\n",
      "Error processing https://designkollective.com/stores/chic-home/products/56324: cannot unpack non-iterable NoneType object\n",
      "Failed to retrieve https://designkollective.com/stores/chic-home/products/56327, Status Code: 404\n",
      "Error processing https://designkollective.com/stores/chic-home/products/56327: cannot unpack non-iterable NoneType object\n"
     ]
    },
    {
     "name": "stderr",
     "output_type": "stream",
     "text": [
      "Processing URLs:  12%|█▏        | 3513/30000 [03:04<14:17, 30.90it/s]"
     ]
    },
    {
     "name": "stdout",
     "output_type": "stream",
     "text": [
      "Failed to retrieve https://designkollective.com/stores/chic-home/products/56396, Status Code: 404\n",
      "Error processing https://designkollective.com/stores/chic-home/products/56396: cannot unpack non-iterable NoneType object\n",
      "Failed to retrieve https://designkollective.com/stores/chic-home/products/56342, Status Code: 404\n",
      "Error processing https://designkollective.com/stores/chic-home/products/56342: cannot unpack non-iterable NoneType object\n",
      "Failed to retrieve https://designkollective.com/stores/chic-home/products/56405, Status Code: 404\n",
      "Error processing https://designkollective.com/stores/chic-home/products/56405: cannot unpack non-iterable NoneType object\n"
     ]
    },
    {
     "name": "stderr",
     "output_type": "stream",
     "text": [
      "Processing URLs:  12%|█▏        | 3525/30000 [03:04<14:28, 30.49it/s]"
     ]
    },
    {
     "name": "stdout",
     "output_type": "stream",
     "text": [
      "Failed to retrieve https://designkollective.com/stores/chic-home/products/56356, Status Code: 404\n",
      "Error processing https://designkollective.com/stores/chic-home/products/56356: cannot unpack non-iterable NoneType object\n",
      "Failed to retrieve https://designkollective.com/stores/chic-home/products/56371, Status Code: 404\n",
      "Error processing https://designkollective.com/stores/chic-home/products/56371: cannot unpack non-iterable NoneType object\n"
     ]
    },
    {
     "name": "stderr",
     "output_type": "stream",
     "text": [
      "Processing URLs:  12%|█▏        | 3535/30000 [03:05<16:27, 26.79it/s]"
     ]
    },
    {
     "name": "stdout",
     "output_type": "stream",
     "text": [
      "Failed to retrieve https://designkollective.com/stores/chic-home/products/56395, Status Code: 404\n",
      "Error processing https://designkollective.com/stores/chic-home/products/56395: cannot unpack non-iterable NoneType object\n",
      "Failed to retrieve https://designkollective.com/stores/chic-home/products/56343, Status Code: 404\n",
      "Error processing https://designkollective.com/stores/chic-home/products/56343: cannot unpack non-iterable NoneType object\n"
     ]
    },
    {
     "name": "stderr",
     "output_type": "stream",
     "text": [
      "Processing URLs:  12%|█▏        | 3549/30000 [03:05<19:25, 22.69it/s]"
     ]
    },
    {
     "name": "stdout",
     "output_type": "stream",
     "text": [
      "Failed to retrieve https://designkollective.com/stores/chic-home/products/56362, Status Code: 404\n",
      "Error processing https://designkollective.com/stores/chic-home/products/56362: cannot unpack non-iterable NoneType object\n"
     ]
    },
    {
     "name": "stderr",
     "output_type": "stream",
     "text": [
      "Processing URLs:  12%|█▏        | 3558/30000 [03:06<15:45, 27.97it/s]"
     ]
    },
    {
     "name": "stdout",
     "output_type": "stream",
     "text": [
      "Failed to retrieve https://designkollective.com/stores/chic-home/products/56378, Status Code: 404\n",
      "Error processing https://designkollective.com/stores/chic-home/products/56378: cannot unpack non-iterable NoneType object\n",
      "Failed to retrieve https://designkollective.com/stores/chic-home/products/56363, Status Code: 404\n",
      "Error processing https://designkollective.com/stores/chic-home/products/56363: cannot unpack non-iterable NoneType object\n",
      "Failed to retrieve https://designkollective.com/stores/chic-home/products/56374, Status Code: 404\n",
      "Error processing https://designkollective.com/stores/chic-home/products/56374: cannot unpack non-iterable NoneType object\n"
     ]
    },
    {
     "name": "stderr",
     "output_type": "stream",
     "text": [
      "Processing URLs:  12%|█▏        | 3564/30000 [03:06<20:56, 21.04it/s]"
     ]
    },
    {
     "name": "stdout",
     "output_type": "stream",
     "text": [
      "Failed to retrieve https://designkollective.com/stores/chic-home/products/56354, Status Code: 404\n",
      "Error processing https://designkollective.com/stores/chic-home/products/56354: cannot unpack non-iterable NoneType object\n",
      "Failed to retrieve https://designkollective.com/stores/chic-home/products/56341, Status Code: 404\n",
      "Error processing https://designkollective.com/stores/chic-home/products/56341: cannot unpack non-iterable NoneType object\n"
     ]
    },
    {
     "name": "stderr",
     "output_type": "stream",
     "text": [
      "Processing URLs:  12%|█▏        | 3571/30000 [03:06<17:15, 25.53it/s]"
     ]
    },
    {
     "name": "stdout",
     "output_type": "stream",
     "text": [
      "Failed to retrieve https://designkollective.com/stores/chic-home/products/56348, Status Code: 404\n",
      "Error processing https://designkollective.com/stores/chic-home/products/56348: cannot unpack non-iterable NoneType object\n"
     ]
    },
    {
     "name": "stderr",
     "output_type": "stream",
     "text": [
      "Processing URLs:  12%|█▏        | 3584/30000 [03:07<21:21, 20.61it/s]"
     ]
    },
    {
     "name": "stdout",
     "output_type": "stream",
     "text": [
      "Failed to retrieve https://designkollective.com/stores/chic-home/products/56398, Status Code: 404\n",
      "Error processing https://designkollective.com/stores/chic-home/products/56398: cannot unpack non-iterable NoneType object\n",
      "Failed to retrieve https://designkollective.com/stores/chic-home/products/56346, Status Code: 404\n",
      "Error processing https://designkollective.com/stores/chic-home/products/56346: cannot unpack non-iterable NoneType object\n",
      "Failed to retrieve https://designkollective.com/stores/chic-home/products/56424, Status Code: 404\n",
      "Error processing https://designkollective.com/stores/chic-home/products/56424: cannot unpack non-iterable NoneType object\n"
     ]
    },
    {
     "name": "stderr",
     "output_type": "stream",
     "text": [
      "Processing URLs:  12%|█▏        | 3595/30000 [03:07<16:06, 27.32it/s]"
     ]
    },
    {
     "name": "stdout",
     "output_type": "stream",
     "text": [
      "Failed to retrieve https://designkollective.com/stores/chic-home/products/56434, Status Code: 404\n",
      "Error processing https://designkollective.com/stores/chic-home/products/56434: cannot unpack non-iterable NoneType object\n",
      "Failed to retrieve https://designkollective.com/stores/chic-home/products/56400, Status Code: 404\n",
      "Error processing https://designkollective.com/stores/chic-home/products/56400: cannot unpack non-iterable NoneType object\n"
     ]
    },
    {
     "name": "stderr",
     "output_type": "stream",
     "text": [
      "Processing URLs:  12%|█▏        | 3599/30000 [03:07<16:19, 26.95it/s]"
     ]
    },
    {
     "name": "stdout",
     "output_type": "stream",
     "text": [
      "Failed to retrieve https://designkollective.com/stores/chic-home/products/56359, Status Code: 404\n",
      "Error processing https://designkollective.com/stores/chic-home/products/56359: cannot unpack non-iterable NoneType object\n"
     ]
    },
    {
     "name": "stderr",
     "output_type": "stream",
     "text": [
      "Processing URLs:  12%|█▏        | 3616/30000 [03:08<16:16, 27.03it/s]"
     ]
    },
    {
     "name": "stdout",
     "output_type": "stream",
     "text": [
      "Failed to retrieve https://designkollective.com/stores/chic-home/products/56361, Status Code: 404\n",
      "Error processing https://designkollective.com/stores/chic-home/products/56361: cannot unpack non-iterable NoneType object\n",
      "Failed to retrieve https://designkollective.com/stores/chic-home/products/56377, Status Code: 404\n",
      "Error processing https://designkollective.com/stores/chic-home/products/56377: cannot unpack non-iterable NoneType object\n",
      "Failed to retrieve https://designkollective.com/stores/chic-home/products/56392, Status Code: 404\n",
      "Error processing https://designkollective.com/stores/chic-home/products/56392: cannot unpack non-iterable NoneType object\n"
     ]
    },
    {
     "name": "stderr",
     "output_type": "stream",
     "text": [
      "Processing URLs:  12%|█▏        | 3627/30000 [03:09<15:45, 27.89it/s]"
     ]
    },
    {
     "name": "stdout",
     "output_type": "stream",
     "text": [
      "Failed to retrieve https://designkollective.com/stores/chic-home/products/56402, Status Code: 404\n",
      "Error processing https://designkollective.com/stores/chic-home/products/56402: cannot unpack non-iterable NoneType object\n"
     ]
    },
    {
     "name": "stderr",
     "output_type": "stream",
     "text": [
      "Processing URLs:  12%|█▏        | 3641/30000 [03:09<15:50, 27.72it/s]"
     ]
    },
    {
     "name": "stdout",
     "output_type": "stream",
     "text": [
      "Failed to retrieve https://designkollective.com/stores/chic-home/products/56441, Status Code: 404\n",
      "Error processing https://designkollective.com/stores/chic-home/products/56441: cannot unpack non-iterable NoneType object\n"
     ]
    },
    {
     "name": "stderr",
     "output_type": "stream",
     "text": [
      "Processing URLs:  12%|█▏        | 3652/30000 [03:09<14:26, 30.40it/s]"
     ]
    },
    {
     "name": "stdout",
     "output_type": "stream",
     "text": [
      "Failed to retrieve https://designkollective.com/stores/chic-home/products/56373, Status Code: 404\n",
      "Error processing https://designkollective.com/stores/chic-home/products/56373: cannot unpack non-iterable NoneType object\n",
      "Failed to retrieve https://designkollective.com/stores/chic-home/products/56380, Status Code: 404\n",
      "Error processing https://designkollective.com/stores/chic-home/products/56380: cannot unpack non-iterable NoneType object\n"
     ]
    },
    {
     "name": "stderr",
     "output_type": "stream",
     "text": [
      "Processing URLs:  12%|█▏        | 3667/30000 [03:10<12:12, 35.95it/s]"
     ]
    },
    {
     "name": "stdout",
     "output_type": "stream",
     "text": [
      "Failed to retrieve https://designkollective.com/stores/chic-home/products/56408, Status Code: 404\n",
      "Error processing https://designkollective.com/stores/chic-home/products/56408: cannot unpack non-iterable NoneType object\n",
      "Failed to retrieve https://designkollective.com/stores/chic-home/products/56385, Status Code: 404\n",
      "Error processing https://designkollective.com/stores/chic-home/products/56385: cannot unpack non-iterable NoneType object\n",
      "Failed to retrieve https://designkollective.com/stores/chic-home/products/56430, Status Code: 404\n",
      "Failed to retrieve https://designkollective.com/stores/chic-home/products/56404, Status Code: 404\n",
      "Error processing https://designkollective.com/stores/chic-home/products/56404: cannot unpack non-iterable NoneType object\n",
      "Error processing https://designkollective.com/stores/chic-home/products/56430: cannot unpack non-iterable NoneType object\n",
      "Failed to retrieve https://designkollective.com/stores/chic-home/products/56393, Status Code: 404\n",
      "Error processing https://designkollective.com/stores/chic-home/products/56393: cannot unpack non-iterable NoneType object\n",
      "Failed to retrieve https://designkollective.com/stores/chic-home/products/56420, Status Code: 404\n",
      "Error processing https://designkollective.com/stores/chic-home/products/56420: cannot unpack non-iterable NoneType object\n",
      "Failed to retrieve https://designkollective.com/stores/chic-home/products/56443, Status Code: 404\n",
      "Error processing https://designkollective.com/stores/chic-home/products/56443: cannot unpack non-iterable NoneType object\n",
      "Failed to retrieve https://designkollective.com/stores/chic-home/products/56411, Status Code: 404\n",
      "Error processing https://designkollective.com/stores/chic-home/products/56411: cannot unpack non-iterable NoneType object\n"
     ]
    },
    {
     "name": "stderr",
     "output_type": "stream",
     "text": [
      "Processing URLs:  12%|█▏        | 3677/30000 [03:10<11:42, 37.47it/s]"
     ]
    },
    {
     "name": "stdout",
     "output_type": "stream",
     "text": [
      "Failed to retrieve https://designkollective.com/stores/chic-home/products/56432, Status Code: 404\n",
      "Error processing https://designkollective.com/stores/chic-home/products/56432: cannot unpack non-iterable NoneType object\n",
      "Failed to retrieve https://designkollective.com/stores/chic-home/products/56403, Status Code: 404\n",
      "Error processing https://designkollective.com/stores/chic-home/products/56403: cannot unpack non-iterable NoneType object\n",
      "Failed to retrieve https://designkollective.com/stores/chic-home/products/56399, Status Code: 404\n",
      "Error processing https://designkollective.com/stores/chic-home/products/56399: cannot unpack non-iterable NoneType object\n",
      "Failed to retrieve https://designkollective.com/stores/chic-home/products/56272, Status Code: 404\n",
      "Error processing https://designkollective.com/stores/chic-home/products/56272: cannot unpack non-iterable NoneType object\n",
      "Failed to retrieve https://designkollective.com/stores/chic-home/products/56407, Status Code: 404\n",
      "Error processing https://designkollective.com/stores/chic-home/products/56407: cannot unpack non-iterable NoneType object\n"
     ]
    },
    {
     "name": "stderr",
     "output_type": "stream",
     "text": [
      "Processing URLs:  12%|█▏        | 3681/30000 [03:10<11:47, 37.21it/s]"
     ]
    },
    {
     "name": "stdout",
     "output_type": "stream",
     "text": [
      "Failed to retrieve https://designkollective.com/stores/chic-home/products/56429, Status Code: 404\n",
      "Failed to retrieve https://designkollective.com/stores/chic-home/products/56425, Status Code: 404\n",
      "Error processing https://designkollective.com/stores/chic-home/products/56429: cannot unpack non-iterable NoneType object\n",
      "Error processing https://designkollective.com/stores/chic-home/products/56425: cannot unpack non-iterable NoneType object\n",
      "Failed to retrieve https://designkollective.com/stores/chic-home/products/56452, Status Code: 404\n",
      "Error processing https://designkollective.com/stores/chic-home/products/56452: cannot unpack non-iterable NoneType object\n",
      "Failed to retrieve https://designkollective.com/stores/chic-home/products/56446, Status Code: 404\n",
      "Error processing https://designkollective.com/stores/chic-home/products/56446: cannot unpack non-iterable NoneType object\n"
     ]
    },
    {
     "name": "stderr",
     "output_type": "stream",
     "text": [
      "Processing URLs:  12%|█▏        | 3691/30000 [03:11<12:04, 36.33it/s]"
     ]
    },
    {
     "name": "stdout",
     "output_type": "stream",
     "text": [
      "Failed to retrieve https://designkollective.com/stores/chic-home/products/56410, Status Code: 404\n",
      "Error processing https://designkollective.com/stores/chic-home/products/56410: cannot unpack non-iterable NoneType object\n",
      "Failed to retrieve https://designkollective.com/stores/chic-home/products/56406, Status Code: 404\n",
      "Error processing https://designkollective.com/stores/chic-home/products/56406: cannot unpack non-iterable NoneType object\n",
      "Failed to retrieve https://designkollective.com/stores/chic-home/products/56245, Status Code: 404\n",
      "Error processing https://designkollective.com/stores/chic-home/products/56245: cannot unpack non-iterable NoneType object\n",
      "Failed to retrieve https://designkollective.com/stores/chic-home/products/56428, Status Code: 404\n",
      "Error processing https://designkollective.com/stores/chic-home/products/56428: cannot unpack non-iterable NoneType object\n",
      "Failed to retrieve https://designkollective.com/stores/chic-home/products/56457, Status Code: 404\n",
      "Error processing https://designkollective.com/stores/chic-home/products/56457: cannot unpack non-iterable NoneType object\n",
      "Failed to retrieve https://designkollective.com/stores/chic-home/products/56431, Status Code: 404\n",
      "Error processing https://designkollective.com/stores/chic-home/products/56431: cannot unpack non-iterable NoneType object\n",
      "Failed to retrieve https://designkollective.com/stores/chic-home/products/56426, Status Code: 404\n",
      "Error processing https://designkollective.com/stores/chic-home/products/56426: cannot unpack non-iterable NoneType object\n",
      "Failed to retrieve https://designkollective.com/stores/chic-home/products/56427, Status Code: 404\n",
      "Error processing https://designkollective.com/stores/chic-home/products/56427: cannot unpack non-iterable NoneType object\n",
      "Failed to retrieve https://designkollective.com/stores/chic-home/products/97628, Status Code: 404\n",
      "Error processing https://designkollective.com/stores/chic-home/products/97628: cannot unpack non-iterable NoneType object\n",
      "Failed to retrieve https://designkollective.com/stores/chic-home/products/56421, Status Code: 404\n",
      "Error processing https://designkollective.com/stores/chic-home/products/56421: cannot unpack non-iterable NoneType object\n",
      "Failed to retrieve https://designkollective.com/stores/chic-home/products/56433, Status Code: 404\n",
      "Error processing https://designkollective.com/stores/chic-home/products/56433: cannot unpack non-iterable NoneType object\n"
     ]
    },
    {
     "name": "stderr",
     "output_type": "stream",
     "text": [
      "Processing URLs:  12%|█▏        | 3701/30000 [03:11<13:43, 31.93it/s]"
     ]
    },
    {
     "name": "stdout",
     "output_type": "stream",
     "text": [
      "Failed to retrieve https://designkollective.com/stores/chic-home/products/56436, Status Code: 404\n",
      "Error processing https://designkollective.com/stores/chic-home/products/56436: cannot unpack non-iterable NoneType object\n",
      "Failed to retrieve https://designkollective.com/stores/chic-home/products/56418, Status Code: 404\n",
      "Error processing https://designkollective.com/stores/chic-home/products/56418: cannot unpack non-iterable NoneType object\n",
      "Failed to retrieve https://designkollective.com/stores/chic-home/products/56445, Status Code: 404\n",
      "Error processing https://designkollective.com/stores/chic-home/products/56445: cannot unpack non-iterable NoneType object\n",
      "Failed to retrieve https://designkollective.com/stores/chic-home/products/56442, Status Code: 404\n",
      "Error processing https://designkollective.com/stores/chic-home/products/56442: cannot unpack non-iterable NoneType object\n"
     ]
    },
    {
     "name": "stderr",
     "output_type": "stream",
     "text": [
      "Processing URLs:  12%|█▏        | 3709/30000 [03:11<14:38, 29.93it/s]"
     ]
    },
    {
     "name": "stdout",
     "output_type": "stream",
     "text": [
      "Failed to retrieve https://designkollective.com/stores/chic-home/products/56458, Status Code: 404\n",
      "Error processing https://designkollective.com/stores/chic-home/products/56458: cannot unpack non-iterable NoneType object\n",
      "Failed to retrieve https://designkollective.com/stores/chic-home/products/56448, Status Code: 404\n",
      "Error processing https://designkollective.com/stores/chic-home/products/56448: cannot unpack non-iterable NoneType object\n",
      "Failed to retrieve https://designkollective.com/stores/chic-home/products/56439, Status Code: 404\n",
      "Error processing https://designkollective.com/stores/chic-home/products/56439: cannot unpack non-iterable NoneType object\n"
     ]
    },
    {
     "name": "stderr",
     "output_type": "stream",
     "text": [
      "Processing URLs:  12%|█▏        | 3715/30000 [03:11<11:57, 36.62it/s]"
     ]
    },
    {
     "name": "stdout",
     "output_type": "stream",
     "text": [
      "Failed to retrieve https://designkollective.com/stores/chic-home/products/56455, Status Code: 404\n",
      "Error processing https://designkollective.com/stores/chic-home/products/56455: cannot unpack non-iterable NoneType object\n",
      "Failed to retrieve https://designkollective.com/stores/chic-home/products/97630, Status Code: 404\n",
      "Error processing https://designkollective.com/stores/chic-home/products/97630: cannot unpack non-iterable NoneType object\n",
      "Failed to retrieve https://designkollective.com/stores/chic-home/products/56437, Status Code: 404\n",
      "Failed to retrieve https://designkollective.com/stores/chic-home/products/56451, Status Code: 404\n",
      "Error processing https://designkollective.com/stores/chic-home/products/56437: cannot unpack non-iterable NoneType object\n",
      "Error processing https://designkollective.com/stores/chic-home/products/56451: cannot unpack non-iterable NoneType object\n",
      "Failed to retrieve https://designkollective.com/stores/chic-home/products/56456, Status Code: 404\n",
      "Error processing https://designkollective.com/stores/chic-home/products/56456: cannot unpack non-iterable NoneType object\n",
      "Failed to retrieve https://designkollective.com/stores/chic-home/products/56409, Status Code: 404\n",
      "Error processing https://designkollective.com/stores/chic-home/products/56409: cannot unpack non-iterable NoneType object\n"
     ]
    },
    {
     "name": "stderr",
     "output_type": "stream",
     "text": [
      "Processing URLs:  12%|█▏        | 3723/30000 [03:12<17:51, 24.51it/s]"
     ]
    },
    {
     "name": "stdout",
     "output_type": "stream",
     "text": [
      "Failed to retrieve https://designkollective.com/stores/chic-home/products/97633, Status Code: 404\n",
      "Error processing https://designkollective.com/stores/chic-home/products/97633: cannot unpack non-iterable NoneType object\n",
      "Failed to retrieve https://designkollective.com/stores/chic-home/products/56248, Status Code: 404\n",
      "Error processing https://designkollective.com/stores/chic-home/products/56248: cannot unpack non-iterable NoneType object\n",
      "Failed to retrieve https://designkollective.com/stores/chic-home/products/97631, Status Code: 404\n",
      "Error processing https://designkollective.com/stores/chic-home/products/97631: cannot unpack non-iterable NoneType object\n"
     ]
    },
    {
     "name": "stderr",
     "output_type": "stream",
     "text": [
      "Processing URLs:  13%|█▎        | 3756/30000 [03:13<17:19, 25.25it/s]"
     ]
    },
    {
     "name": "stdout",
     "output_type": "stream",
     "text": [
      "Failed to retrieve https://designkollective.com/stores/chic-home/products/56539, Status Code: 404\n",
      "Error processing https://designkollective.com/stores/chic-home/products/56539: cannot unpack non-iterable NoneType object\n",
      "Failed to retrieve https://designkollective.com/stores/chic-home/products/56510, Status Code: 404\n",
      "Error processing https://designkollective.com/stores/chic-home/products/56510: cannot unpack non-iterable NoneType object\n",
      "Failed to retrieve https://designkollective.com/stores/chic-home/products/56538, Status Code: 404\n",
      "Error processing https://designkollective.com/stores/chic-home/products/56538: cannot unpack non-iterable NoneType object\n",
      "Failed to retrieve https://designkollective.com/stores/chic-home/products/56512, Status Code: 404\n",
      "Error processing https://designkollective.com/stores/chic-home/products/56512: cannot unpack non-iterable NoneType object\n",
      "Failed to retrieve https://designkollective.com/stores/chic-home/products/56545, Status Code: 404\n",
      "Error processing https://designkollective.com/stores/chic-home/products/56545: cannot unpack non-iterable NoneType object\n"
     ]
    },
    {
     "name": "stderr",
     "output_type": "stream",
     "text": [
      "Processing URLs:  13%|█▎        | 3767/30000 [03:13<13:51, 31.54it/s]"
     ]
    },
    {
     "name": "stdout",
     "output_type": "stream",
     "text": [
      "Failed to retrieve https://designkollective.com/stores/chic-home/products/97648, Status Code: 404\n",
      "Error processing https://designkollective.com/stores/chic-home/products/97648: cannot unpack non-iterable NoneType object\n",
      "Failed to retrieve https://designkollective.com/stores/chic-home/products/56544, Status Code: 404\n",
      "Error processing https://designkollective.com/stores/chic-home/products/56544: cannot unpack non-iterable NoneType object\n",
      "Failed to retrieve https://designkollective.com/stores/chic-home/products/137563, Status Code: 404\n",
      "Error processing https://designkollective.com/stores/chic-home/products/137563: cannot unpack non-iterable NoneType object\n",
      "Failed to retrieve https://designkollective.com/stores/chic-home/products/97711, Status Code: 404\n",
      "Error processing https://designkollective.com/stores/chic-home/products/97711: cannot unpack non-iterable NoneType object\n"
     ]
    },
    {
     "name": "stderr",
     "output_type": "stream",
     "text": [
      "Processing URLs:  13%|█▎        | 3775/30000 [03:14<14:24, 30.34it/s]"
     ]
    },
    {
     "name": "stdout",
     "output_type": "stream",
     "text": [
      "Failed to retrieve https://designkollective.com/stores/chic-home/products/97660, Status Code: 404\n",
      "Error processing https://designkollective.com/stores/chic-home/products/97660: cannot unpack non-iterable NoneType object\n",
      "Failed to retrieve https://designkollective.com/stores/chic-home/products/137618, Status Code: 404\n",
      "Error processing https://designkollective.com/stores/chic-home/products/137618: cannot unpack non-iterable NoneType object\n"
     ]
    },
    {
     "name": "stderr",
     "output_type": "stream",
     "text": [
      "Processing URLs:  13%|█▎        | 3783/30000 [03:14<14:28, 30.20it/s]"
     ]
    },
    {
     "name": "stdout",
     "output_type": "stream",
     "text": [
      "Failed to retrieve https://designkollective.com/stores/chic-home/products/56592, Status Code: 404\n",
      "Error processing https://designkollective.com/stores/chic-home/products/56592: cannot unpack non-iterable NoneType object\n"
     ]
    },
    {
     "name": "stderr",
     "output_type": "stream",
     "text": [
      "Processing URLs:  13%|█▎        | 3802/30000 [03:15<15:00, 29.08it/s]"
     ]
    },
    {
     "name": "stdout",
     "output_type": "stream",
     "text": [
      "Failed to retrieve https://designkollective.com/stores/chic-home/products/56724, Status Code: 404\n",
      "Error processing https://designkollective.com/stores/chic-home/products/56724: cannot unpack non-iterable NoneType object\n",
      "Failed to retrieve https://designkollective.com/stores/chic-home/products/56739, Status Code: 404\n",
      "Error processing https://designkollective.com/stores/chic-home/products/56739: cannot unpack non-iterable NoneType object\n",
      "Failed to retrieve https://designkollective.com/stores/chic-home/products/56694, Status Code: 404\n",
      "Error processing https://designkollective.com/stores/chic-home/products/56694: cannot unpack non-iterable NoneType object\n"
     ]
    },
    {
     "name": "stderr",
     "output_type": "stream",
     "text": [
      "Processing URLs:  13%|█▎        | 3818/30000 [03:15<13:10, 33.12it/s]"
     ]
    },
    {
     "name": "stdout",
     "output_type": "stream",
     "text": [
      "Failed to retrieve https://designkollective.com/stores/chic-home/products/97709, Status Code: 404Failed to retrieve https://designkollective.com/stores/chic-home/products/56741, Status Code: 404\n",
      "\n",
      "Error processing https://designkollective.com/stores/chic-home/products/97709: cannot unpack non-iterable NoneType object\n",
      "Error processing https://designkollective.com/stores/chic-home/products/56741: cannot unpack non-iterable NoneType object\n",
      "Failed to retrieve https://designkollective.com/stores/chic-home/products/56693, Status Code: 404\n",
      "Error processing https://designkollective.com/stores/chic-home/products/56693: cannot unpack non-iterable NoneType object\n",
      "Failed to retrieve https://designkollective.com/stores/chic-home/products/56813, Status Code: 404\n",
      "Error processing https://designkollective.com/stores/chic-home/products/56813: cannot unpack non-iterable NoneType object\n",
      "Failed to retrieve https://designkollective.com/stores/chic-home/products/56728, Status Code: 404\n",
      "Error processing https://designkollective.com/stores/chic-home/products/56728: cannot unpack non-iterable NoneType object\n"
     ]
    },
    {
     "name": "stderr",
     "output_type": "stream",
     "text": [
      "Processing URLs:  13%|█▎        | 3826/30000 [03:15<12:59, 33.60it/s]"
     ]
    },
    {
     "name": "stdout",
     "output_type": "stream",
     "text": [
      "Failed to retrieve https://designkollective.com/stores/chic-home/products/56726, Status Code: 404\n",
      "Error processing https://designkollective.com/stores/chic-home/products/56726: cannot unpack non-iterable NoneType object\n",
      "Failed to retrieve https://designkollective.com/stores/chic-home/products/56814, Status Code: 404\n",
      "Error processing https://designkollective.com/stores/chic-home/products/56814: cannot unpack non-iterable NoneType object\n",
      "Failed to retrieve https://designkollective.com/stores/chic-home/products/56789, Status Code: 404\n",
      "Error processing https://designkollective.com/stores/chic-home/products/56789: cannot unpack non-iterable NoneType object\n"
     ]
    },
    {
     "name": "stderr",
     "output_type": "stream",
     "text": [
      "Processing URLs:  13%|█▎        | 3838/30000 [03:16<09:23, 46.39it/s]"
     ]
    },
    {
     "name": "stdout",
     "output_type": "stream",
     "text": [
      "Failed to retrieve https://designkollective.com/stores/chic-home/products/56817, Status Code: 404\n",
      "Error processing https://designkollective.com/stores/chic-home/products/56817: cannot unpack non-iterable NoneType object\n",
      "Failed to retrieve https://designkollective.com/stores/chic-home/products/56723, Status Code: 404\n",
      "Error processing https://designkollective.com/stores/chic-home/products/56723: cannot unpack non-iterable NoneType object\n",
      "Failed to retrieve https://designkollective.com/stores/chic-home/products/56820, Status Code: 404\n",
      "Error processing https://designkollective.com/stores/chic-home/products/56820: cannot unpack non-iterable NoneType object\n",
      "Failed to retrieve https://designkollective.com/stores/chic-home/products/56810, Status Code: 404\n",
      "Error processing https://designkollective.com/stores/chic-home/products/56810: cannot unpack non-iterable NoneType object\n",
      "Failed to retrieve https://designkollective.com/stores/chic-home/products/56740, Status Code: 404\n",
      "Failed to retrieve https://designkollective.com/stores/chic-home/products/56798, Status Code: 404\n",
      "Error processing https://designkollective.com/stores/chic-home/products/56740: cannot unpack non-iterable NoneType object\n",
      "Error processing https://designkollective.com/stores/chic-home/products/56798: cannot unpack non-iterable NoneType object\n",
      "Failed to retrieve https://designkollective.com/stores/chic-home/products/56812, Status Code: 404\n",
      "Error processing https://designkollective.com/stores/chic-home/products/56812: cannot unpack non-iterable NoneType object\n",
      "Failed to retrieve https://designkollective.com/stores/chic-home/products/56787, Status Code: 404\n",
      "Error processing https://designkollective.com/stores/chic-home/products/56787: cannot unpack non-iterable NoneType object\n",
      "Failed to retrieve https://designkollective.com/stores/chic-home/products/56790, Status Code: 404\n",
      "Error processing https://designkollective.com/stores/chic-home/products/56790: cannot unpack non-iterable NoneType object\n"
     ]
    },
    {
     "name": "stderr",
     "output_type": "stream",
     "text": [
      "Processing URLs:  13%|█▎        | 3847/30000 [03:16<14:20, 30.38it/s]"
     ]
    },
    {
     "name": "stdout",
     "output_type": "stream",
     "text": [
      "Failed to retrieve https://designkollective.com/stores/chic-home/products/56835, Status Code: 404\n",
      "Error processing https://designkollective.com/stores/chic-home/products/56835: cannot unpack non-iterable NoneType object\n",
      "Failed to retrieve https://designkollective.com/stores/chic-home/products/56797, Status Code: 404\n",
      "Error processing https://designkollective.com/stores/chic-home/products/56797: cannot unpack non-iterable NoneType object\n",
      "Failed to retrieve https://designkollective.com/stores/chic-home/products/56788, Status Code: 404\n",
      "Error processing https://designkollective.com/stores/chic-home/products/56788: cannot unpack non-iterable NoneType object\n"
     ]
    },
    {
     "name": "stderr",
     "output_type": "stream",
     "text": [
      "Processing URLs:  13%|█▎        | 3856/30000 [03:16<13:42, 31.78it/s]"
     ]
    },
    {
     "name": "stdout",
     "output_type": "stream",
     "text": [
      "Failed to retrieve https://designkollective.com/stores/chic-home/products/56829, Status Code: 404\n",
      "Error processing https://designkollective.com/stores/chic-home/products/56829: cannot unpack non-iterable NoneType object\n",
      "Failed to retrieve https://designkollective.com/stores/chic-home/products/56808, Status Code: 404\n",
      "Error processing https://designkollective.com/stores/chic-home/products/56808: cannot unpack non-iterable NoneType object\n",
      "Failed to retrieve https://designkollective.com/stores/chic-home/products/56816, Status Code: 404\n",
      "Error processing https://designkollective.com/stores/chic-home/products/56816: cannot unpack non-iterable NoneType object\n",
      "Failed to retrieve https://designkollective.com/stores/chic-home/products/56834, Status Code: 404\n",
      "Error processing https://designkollective.com/stores/chic-home/products/56834: cannot unpack non-iterable NoneType object\n"
     ]
    },
    {
     "name": "stderr",
     "output_type": "stream",
     "text": [
      "Processing URLs:  13%|█▎        | 3860/30000 [03:16<14:44, 29.55it/s]"
     ]
    },
    {
     "name": "stdout",
     "output_type": "stream",
     "text": [
      "Failed to retrieve https://designkollective.com/stores/chic-home/products/56831, Status Code: 404\n",
      "Error processing https://designkollective.com/stores/chic-home/products/56831: cannot unpack non-iterable NoneType object\n"
     ]
    },
    {
     "name": "stderr",
     "output_type": "stream",
     "text": [
      "Processing URLs:  13%|█▎        | 3870/30000 [03:17<17:36, 24.74it/s]"
     ]
    },
    {
     "name": "stdout",
     "output_type": "stream",
     "text": [
      "Failed to retrieve https://designkollective.com/stores/chic-home/products/56795, Status Code: 404\n",
      "Error processing https://designkollective.com/stores/chic-home/products/56795: cannot unpack non-iterable NoneType object\n",
      "Failed to retrieve https://designkollective.com/stores/chic-home/products/56832, Status Code: 404\n",
      "Error processing https://designkollective.com/stores/chic-home/products/56832: cannot unpack non-iterable NoneType object\n",
      "Failed to retrieve https://designkollective.com/stores/chic-home/products/56849, Status Code: 404\n",
      "Error processing https://designkollective.com/stores/chic-home/products/56849: cannot unpack non-iterable NoneType object\n",
      "Failed to retrieve https://designkollective.com/stores/chic-home/products/56827, Status Code: 404\n",
      "Error processing https://designkollective.com/stores/chic-home/products/56827: cannot unpack non-iterable NoneType object\n",
      "Failed to retrieve https://designkollective.com/stores/chic-home/products/56794, Status Code: 404\n",
      "Error processing https://designkollective.com/stores/chic-home/products/56794: cannot unpack non-iterable NoneType object\n",
      "Failed to retrieve https://designkollective.com/stores/chic-home/products/97739, Status Code: 404\n",
      "Error processing https://designkollective.com/stores/chic-home/products/97739: cannot unpack non-iterable NoneType object\n",
      "Failed to retrieve https://designkollective.com/stores/chic-home/products/56826, Status Code: 404\n",
      "Error processing https://designkollective.com/stores/chic-home/products/56826: cannot unpack non-iterable NoneType object\n",
      "Failed to retrieve https://designkollective.com/stores/chic-home/products/56807, Status Code: 404\n",
      "Error processing https://designkollective.com/stores/chic-home/products/56807: cannot unpack non-iterable NoneType object\n"
     ]
    },
    {
     "name": "stderr",
     "output_type": "stream",
     "text": [
      "Processing URLs:  13%|█▎        | 3882/30000 [03:17<13:56, 31.21it/s]"
     ]
    },
    {
     "name": "stdout",
     "output_type": "stream",
     "text": [
      "Failed to retrieve https://designkollective.com/stores/chic-home/products/56815, Status Code: 404\n",
      "Error processing https://designkollective.com/stores/chic-home/products/56815: cannot unpack non-iterable NoneType object\n",
      "Failed to retrieve https://designkollective.com/stores/chic-home/products/56847, Status Code: 404\n",
      "Failed to retrieve https://designkollective.com/stores/chic-home/products/56818, Status Code: 404\n",
      "Error processing https://designkollective.com/stores/chic-home/products/56847: cannot unpack non-iterable NoneType object\n",
      "Error processing https://designkollective.com/stores/chic-home/products/56818: cannot unpack non-iterable NoneType object\n",
      "Failed to retrieve https://designkollective.com/stores/chic-home/products/56824, Status Code: 404\n",
      "Error processing https://designkollective.com/stores/chic-home/products/56824: cannot unpack non-iterable NoneType object\n",
      "Failed to retrieve https://designkollective.com/stores/chic-home/products/56845, Status Code: 404\n",
      "Error processing https://designkollective.com/stores/chic-home/products/56845: cannot unpack non-iterable NoneType object\n"
     ]
    },
    {
     "name": "stderr",
     "output_type": "stream",
     "text": [
      "Processing URLs:  13%|█▎        | 3891/30000 [03:18<12:56, 33.61it/s]"
     ]
    },
    {
     "name": "stdout",
     "output_type": "stream",
     "text": [
      "Failed to retrieve https://designkollective.com/stores/chic-home/products/56851, Status Code: 404\n",
      "Error processing https://designkollective.com/stores/chic-home/products/56851: cannot unpack non-iterable NoneType object\n",
      "Failed to retrieve https://designkollective.com/stores/chic-home/products/56850, Status Code: 404\n",
      "Error processing https://designkollective.com/stores/chic-home/products/56850: cannot unpack non-iterable NoneType object\n",
      "Failed to retrieve https://designkollective.com/stores/chic-home/products/56848, Status Code: 404\n",
      "Error processing https://designkollective.com/stores/chic-home/products/56848: cannot unpack non-iterable NoneType object\n",
      "Failed to retrieve https://designkollective.com/stores/chic-home/products/56869, Status Code: 404\n",
      "Error processing https://designkollective.com/stores/chic-home/products/56869: cannot unpack non-iterable NoneType object\n",
      "Failed to retrieve https://designkollective.com/stores/chic-home/products/56852, Status Code: 404\n",
      "Error processing https://designkollective.com/stores/chic-home/products/56852: cannot unpack non-iterable NoneType object\n"
     ]
    },
    {
     "name": "stderr",
     "output_type": "stream",
     "text": [
      "Processing URLs:  13%|█▎        | 3895/30000 [03:18<13:40, 31.83it/s]"
     ]
    },
    {
     "name": "stdout",
     "output_type": "stream",
     "text": [
      "Failed to retrieve https://designkollective.com/stores/chic-home/products/56857, Status Code: 404\n",
      "Error processing https://designkollective.com/stores/chic-home/products/56857: cannot unpack non-iterable NoneType object\n",
      "Failed to retrieve https://designkollective.com/stores/chic-home/products/56854, Status Code: 404\n",
      "Error processing https://designkollective.com/stores/chic-home/products/56854: cannot unpack non-iterable NoneType object\n",
      "Failed to retrieve https://designkollective.com/stores/chic-home/products/56860, Status Code: 404\n",
      "Error processing https://designkollective.com/stores/chic-home/products/56860: cannot unpack non-iterable NoneType object\n",
      "Failed to retrieve https://designkollective.com/stores/chic-home/products/56916, Status Code: 404\n",
      "Error processing https://designkollective.com/stores/chic-home/products/56916: cannot unpack non-iterable NoneType object\n",
      "Failed to retrieve https://designkollective.com/stores/chic-home/products/56899, Status Code: 404\n",
      "Error processing https://designkollective.com/stores/chic-home/products/56899: cannot unpack non-iterable NoneType object\n",
      "Failed to retrieve https://designkollective.com/stores/chic-home/products/56865, Status Code: 404\n",
      "Error processing https://designkollective.com/stores/chic-home/products/56865: cannot unpack non-iterable NoneType object\n",
      "Failed to retrieve https://designkollective.com/stores/chic-home/products/56856, Status Code: 404\n",
      "Error processing https://designkollective.com/stores/chic-home/products/56856: cannot unpack non-iterable NoneType object\n",
      "Failed to retrieve https://designkollective.com/stores/chic-home/products/56868, Status Code: 404\n",
      "Error processing https://designkollective.com/stores/chic-home/products/56868: cannot unpack non-iterable NoneType object\n"
     ]
    },
    {
     "name": "stderr",
     "output_type": "stream",
     "text": [
      "Processing URLs:  13%|█▎        | 3904/30000 [03:18<10:44, 40.50it/s]"
     ]
    },
    {
     "name": "stdout",
     "output_type": "stream",
     "text": [
      "Failed to retrieve https://designkollective.com/stores/chic-home/products/56859, Status Code: 404\n",
      "Error processing https://designkollective.com/stores/chic-home/products/56859: cannot unpack non-iterable NoneType object\n",
      "Failed to retrieve https://designkollective.com/stores/chic-home/products/56863, Status Code: 404\n",
      "Error processing https://designkollective.com/stores/chic-home/products/56863: cannot unpack non-iterable NoneType object\n"
     ]
    },
    {
     "name": "stderr",
     "output_type": "stream",
     "text": [
      "Processing URLs:  13%|█▎        | 3913/30000 [03:18<13:32, 32.11it/s]"
     ]
    },
    {
     "name": "stdout",
     "output_type": "stream",
     "text": [
      "Failed to retrieve https://designkollective.com/stores/chic-home/products/56919, Status Code: 404\n",
      "Error processing https://designkollective.com/stores/chic-home/products/56919: cannot unpack non-iterable NoneType object\n",
      "Failed to retrieve https://designkollective.com/stores/chic-home/products/56905, Status Code: 404\n",
      "Error processing https://designkollective.com/stores/chic-home/products/56905: cannot unpack non-iterable NoneType object\n"
     ]
    },
    {
     "name": "stderr",
     "output_type": "stream",
     "text": [
      "Processing URLs:  13%|█▎        | 3925/30000 [03:19<15:18, 28.40it/s]"
     ]
    },
    {
     "name": "stdout",
     "output_type": "stream",
     "text": [
      "Failed to retrieve https://designkollective.com/stores/chic-home/products/56907, Status Code: 404\n",
      "Error processing https://designkollective.com/stores/chic-home/products/56907: cannot unpack non-iterable NoneType object\n"
     ]
    },
    {
     "name": "stderr",
     "output_type": "stream",
     "text": [
      "Processing URLs:  13%|█▎        | 3940/30000 [03:19<15:17, 28.40it/s]"
     ]
    },
    {
     "name": "stdout",
     "output_type": "stream",
     "text": [
      "Failed to retrieve https://designkollective.com/stores/chic-home/products/137570, Status Code: 404\n",
      "Error processing https://designkollective.com/stores/chic-home/products/137570: cannot unpack non-iterable NoneType object\n",
      "Failed to retrieve https://designkollective.com/stores/chic-home/products/56932, Status Code: 404\n",
      "Error processing https://designkollective.com/stores/chic-home/products/56932: cannot unpack non-iterable NoneType object\n"
     ]
    },
    {
     "name": "stderr",
     "output_type": "stream",
     "text": [
      "Processing URLs:  13%|█▎        | 3947/30000 [03:19<15:02, 28.87it/s]"
     ]
    },
    {
     "name": "stdout",
     "output_type": "stream",
     "text": [
      "Failed to retrieve https://designkollective.com/stores/chic-home/products/56936, Status Code: 404\n",
      "Error processing https://designkollective.com/stores/chic-home/products/56936: cannot unpack non-iterable NoneType object\n"
     ]
    },
    {
     "name": "stderr",
     "output_type": "stream",
     "text": [
      "Processing URLs:  13%|█▎        | 3953/30000 [03:20<16:35, 26.16it/s]"
     ]
    },
    {
     "name": "stdout",
     "output_type": "stream",
     "text": [
      "Failed to retrieve https://designkollective.com/stores/chic-home/products/97849, Status Code: 404\n",
      "Error processing https://designkollective.com/stores/chic-home/products/97849: cannot unpack non-iterable NoneType object\n"
     ]
    },
    {
     "name": "stderr",
     "output_type": "stream",
     "text": [
      "Processing URLs:  13%|█▎        | 3960/30000 [03:20<17:29, 24.81it/s]"
     ]
    },
    {
     "name": "stdout",
     "output_type": "stream",
     "text": [
      "Failed to retrieve https://designkollective.com/stores/chic-home/products/56938, Status Code: 404\n",
      "Error processing https://designkollective.com/stores/chic-home/products/56938: cannot unpack non-iterable NoneType object\n"
     ]
    },
    {
     "name": "stderr",
     "output_type": "stream",
     "text": [
      "Processing URLs:  13%|█▎        | 3992/30000 [03:21<17:49, 24.31it/s]"
     ]
    },
    {
     "name": "stdout",
     "output_type": "stream",
     "text": [
      "Failed to retrieve https://designkollective.com/stores/chic-home/products/97881, Status Code: 404\n",
      "Error processing https://designkollective.com/stores/chic-home/products/97881: cannot unpack non-iterable NoneType object\n"
     ]
    },
    {
     "name": "stderr",
     "output_type": "stream",
     "text": [
      "Processing URLs:  13%|█▎        | 4004/30000 [03:22<15:09, 28.58it/s]"
     ]
    },
    {
     "name": "stdout",
     "output_type": "stream",
     "text": [
      "Failed to retrieve https://designkollective.com/stores/chic-home/products/97907, Status Code: 404\n",
      "Error processing https://designkollective.com/stores/chic-home/products/97907: cannot unpack non-iterable NoneType object\n"
     ]
    },
    {
     "name": "stderr",
     "output_type": "stream",
     "text": [
      "Processing URLs:  13%|█▎        | 4026/30000 [03:23<16:52, 25.65it/s]"
     ]
    },
    {
     "name": "stdout",
     "output_type": "stream",
     "text": [
      "Failed to retrieve https://designkollective.com/stores/chic-home/products/97864, Status Code: 404\n",
      "Error processing https://designkollective.com/stores/chic-home/products/97864: cannot unpack non-iterable NoneType object\n"
     ]
    },
    {
     "name": "stderr",
     "output_type": "stream",
     "text": [
      "Processing URLs:  14%|█▎        | 4088/30000 [03:25<17:26, 24.77it/s]"
     ]
    },
    {
     "name": "stdout",
     "output_type": "stream",
     "text": [
      "Failed to retrieve https://designkollective.com/stores/chic-home/products/97870, Status Code: 404\n",
      "Error processing https://designkollective.com/stores/chic-home/products/97870: cannot unpack non-iterable NoneType object\n"
     ]
    },
    {
     "name": "stderr",
     "output_type": "stream",
     "text": [
      "Processing URLs:  14%|█▎        | 4112/30000 [03:26<16:41, 25.84it/s]"
     ]
    },
    {
     "name": "stdout",
     "output_type": "stream",
     "text": [
      "Failed to retrieve https://designkollective.com/stores/chic-home/products/57144, Status Code: 404\n",
      "Error processing https://designkollective.com/stores/chic-home/products/57144: cannot unpack non-iterable NoneType object\n"
     ]
    },
    {
     "name": "stderr",
     "output_type": "stream",
     "text": [
      "Processing URLs:  14%|█▎        | 4116/30000 [03:26<16:11, 26.64it/s]"
     ]
    },
    {
     "name": "stdout",
     "output_type": "stream",
     "text": [
      "Failed to retrieve https://designkollective.com/stores/chic-home/products/57145, Status Code: 404\n",
      "Error processing https://designkollective.com/stores/chic-home/products/57145: cannot unpack non-iterable NoneType object\n"
     ]
    },
    {
     "name": "stderr",
     "output_type": "stream",
     "text": [
      "Processing URLs:  14%|█▍        | 4128/30000 [03:27<13:34, 31.78it/s]"
     ]
    },
    {
     "name": "stdout",
     "output_type": "stream",
     "text": [
      "Failed to retrieve https://designkollective.com/stores/chic-home/products/57141, Status Code: 404\n",
      "Failed to retrieve https://designkollective.com/stores/chic-home/products/57151, Status Code: 404\n",
      "Error processing https://designkollective.com/stores/chic-home/products/57141: cannot unpack non-iterable NoneType object\n",
      "Error processing https://designkollective.com/stores/chic-home/products/57151: cannot unpack non-iterable NoneType object\n",
      "Failed to retrieve https://designkollective.com/stores/chic-home/products/57180, Status Code: 404\n",
      "Error processing https://designkollective.com/stores/chic-home/products/57180: cannot unpack non-iterable NoneType object\n",
      "Failed to retrieve https://designkollective.com/stores/chic-home/products/137564, Status Code: 404\n",
      "Error processing https://designkollective.com/stores/chic-home/products/137564: cannot unpack non-iterable NoneType object\n"
     ]
    },
    {
     "name": "stderr",
     "output_type": "stream",
     "text": [
      "Processing URLs:  14%|█▍        | 4137/30000 [03:27<12:10, 35.40it/s]"
     ]
    },
    {
     "name": "stdout",
     "output_type": "stream",
     "text": [
      "Failed to retrieve https://designkollective.com/stores/chic-home/products/57147, Status Code: 404\n",
      "Error processing https://designkollective.com/stores/chic-home/products/57147: cannot unpack non-iterable NoneType object\n",
      "Failed to retrieve https://designkollective.com/stores/chic-home/products/137561, Status Code: 404\n",
      "Error processing https://designkollective.com/stores/chic-home/products/137561: cannot unpack non-iterable NoneType object\n",
      "Failed to retrieve https://designkollective.com/stores/chic-home/products/57148, Status Code: 404\n",
      "Error processing https://designkollective.com/stores/chic-home/products/57148: cannot unpack non-iterable NoneType object\n",
      "Failed to retrieve https://designkollective.com/stores/chic-home/products/57142, Status Code: 404\n",
      "Error processing https://designkollective.com/stores/chic-home/products/57142: cannot unpack non-iterable NoneType object\n"
     ]
    },
    {
     "name": "stderr",
     "output_type": "stream",
     "text": [
      "Processing URLs:  14%|█▍        | 4145/30000 [03:27<12:30, 34.44it/s]"
     ]
    },
    {
     "name": "stdout",
     "output_type": "stream",
     "text": [
      "Failed to retrieve https://designkollective.com/stores/chic-home/products/57181, Status Code: 404\n",
      "Error processing https://designkollective.com/stores/chic-home/products/57181: cannot unpack non-iterable NoneType object\n",
      "Failed to retrieve https://designkollective.com/stores/chic-home/products/57179, Status Code: 404\n",
      "Error processing https://designkollective.com/stores/chic-home/products/57179: cannot unpack non-iterable NoneType object\n",
      "Failed to retrieve https://designkollective.com/stores/chic-home/products/57178, Status Code: 404\n",
      "Error processing https://designkollective.com/stores/chic-home/products/57178: cannot unpack non-iterable NoneType object\n"
     ]
    },
    {
     "name": "stderr",
     "output_type": "stream",
     "text": [
      "Processing URLs:  14%|█▍        | 4153/30000 [03:28<13:43, 31.38it/s]"
     ]
    },
    {
     "name": "stdout",
     "output_type": "stream",
     "text": [
      "Failed to retrieve https://designkollective.com/stores/chic-home/products/57150, Status Code: 404\n",
      "Error processing https://designkollective.com/stores/chic-home/products/57150: cannot unpack non-iterable NoneType object\n",
      "Failed to retrieve https://designkollective.com/stores/chic-home/products/57197, Status Code: 404\n",
      "Error processing https://designkollective.com/stores/chic-home/products/57197: cannot unpack non-iterable NoneType object\n",
      "Failed to retrieve https://designkollective.com/stores/chic-home/products/57342, Status Code: 404\n",
      "Error processing https://designkollective.com/stores/chic-home/products/57342: cannot unpack non-iterable NoneType object\n",
      "Failed to retrieve https://designkollective.com/stores/chic-home/products/57198, Status Code: 404\n",
      "Error processing https://designkollective.com/stores/chic-home/products/57198: cannot unpack non-iterable NoneType object\n",
      "Failed to retrieve https://designkollective.com/stores/chic-home/products/57183, Status Code: 404\n",
      "Error processing https://designkollective.com/stores/chic-home/products/57183: cannot unpack non-iterable NoneType object\n"
     ]
    },
    {
     "name": "stderr",
     "output_type": "stream",
     "text": [
      "Processing URLs:  14%|█▍        | 4166/30000 [03:28<17:00, 25.32it/s]"
     ]
    },
    {
     "name": "stdout",
     "output_type": "stream",
     "text": [
      "Failed to retrieve https://designkollective.com/stores/chic-home/products/57290, Status Code: 404\n",
      "Error processing https://designkollective.com/stores/chic-home/products/57290: cannot unpack non-iterable NoneType object\n"
     ]
    },
    {
     "name": "stderr",
     "output_type": "stream",
     "text": [
      "Processing URLs:  14%|█▍        | 4190/30000 [03:29<16:07, 26.67it/s]"
     ]
    },
    {
     "name": "stdout",
     "output_type": "stream",
     "text": [
      "Failed to retrieve https://designkollective.com/stores/chic-home/products/57239, Status Code: 404\n",
      "Error processing https://designkollective.com/stores/chic-home/products/57239: cannot unpack non-iterable NoneType object\n",
      "Failed to retrieve https://designkollective.com/stores/chic-home/products/57433, Status Code: 404\n",
      "Error processing https://designkollective.com/stores/chic-home/products/57433: cannot unpack non-iterable NoneType object\n",
      "Failed to retrieve https://designkollective.com/stores/chic-home/products/57340, Status Code: 404\n",
      "Error processing https://designkollective.com/stores/chic-home/products/57340: cannot unpack non-iterable NoneType object\n",
      "Failed to retrieve https://designkollective.com/stores/chic-home/products/57425, Status Code: 404\n",
      "Error processing https://designkollective.com/stores/chic-home/products/57425: cannot unpack non-iterable NoneType object\n"
     ]
    },
    {
     "name": "stderr",
     "output_type": "stream",
     "text": [
      "Processing URLs:  14%|█▍        | 4206/30000 [03:29<09:11, 46.78it/s]"
     ]
    },
    {
     "name": "stdout",
     "output_type": "stream",
     "text": [
      "Failed to retrieve https://designkollective.com/stores/chic-home/products/57332, Status Code: 404Failed to retrieve https://designkollective.com/stores/chic-home/products/57359, Status Code: 404\n",
      "\n",
      "Error processing https://designkollective.com/stores/chic-home/products/57359: cannot unpack non-iterable NoneType object\n",
      "Error processing https://designkollective.com/stores/chic-home/products/57332: cannot unpack non-iterable NoneType object\n",
      "Failed to retrieve https://designkollective.com/stores/chic-home/products/57349, Status Code: 404\n",
      "Error processing https://designkollective.com/stores/chic-home/products/57349: cannot unpack non-iterable NoneType object\n",
      "Failed to retrieve https://designkollective.com/stores/chic-home/products/57316, Status Code: 404\n",
      "Error processing https://designkollective.com/stores/chic-home/products/57316: cannot unpack non-iterable NoneType object\n",
      "Failed to retrieve https://designkollective.com/stores/chic-home/products/57370, Status Code: 404\n",
      "Error processing https://designkollective.com/stores/chic-home/products/57370: cannot unpack non-iterable NoneType object\n",
      "Failed to retrieve https://designkollective.com/stores/chic-home/products/57372, Status Code: 404\n",
      "Error processing https://designkollective.com/stores/chic-home/products/57372: cannot unpack non-iterable NoneType object\n",
      "Failed to retrieve https://designkollective.com/stores/chic-home/products/57387, Status Code: 404\n",
      "Error processing https://designkollective.com/stores/chic-home/products/57387: cannot unpack non-iterable NoneType object\n",
      "Failed to retrieve https://designkollective.com/stores/chic-home/products/57423, Status Code: 404\n",
      "Error processing https://designkollective.com/stores/chic-home/products/57423: cannot unpack non-iterable NoneType object\n",
      "Failed to retrieve https://designkollective.com/stores/chic-home/products/57327, Status Code: 404\n",
      "Error processing https://designkollective.com/stores/chic-home/products/57327: cannot unpack non-iterable NoneType object\n",
      "Failed to retrieve https://designkollective.com/stores/chic-home/products/57293, Status Code: 404\n",
      "Error processing https://designkollective.com/stores/chic-home/products/57293: cannot unpack non-iterable NoneType object\n",
      "Failed to retrieve https://designkollective.com/stores/chic-home/products/57301, Status Code: 404\n",
      "Failed to retrieve https://designkollective.com/stores/chic-home/products/57311, Status Code: 404\n",
      "Error processing https://designkollective.com/stores/chic-home/products/57311: cannot unpack non-iterable NoneType object\n",
      "Error processing https://designkollective.com/stores/chic-home/products/57301: cannot unpack non-iterable NoneType object\n",
      "Failed to retrieve https://designkollective.com/stores/chic-home/products/57402, Status Code: 404\n",
      "Failed to retrieve https://designkollective.com/stores/chic-home/products/57374, Status Code: 404\n",
      "Error processing https://designkollective.com/stores/chic-home/products/57402: cannot unpack non-iterable NoneType object\n",
      "Error processing https://designkollective.com/stores/chic-home/products/57374: cannot unpack non-iterable NoneType object\n",
      "Failed to retrieve https://designkollective.com/stores/chic-home/products/57388, Status Code: 404\n",
      "Error processing https://designkollective.com/stores/chic-home/products/57388: cannot unpack non-iterable NoneType object\n",
      "Failed to retrieve https://designkollective.com/stores/chic-home/products/57379, Status Code: 404\n",
      "Failed to retrieve https://designkollective.com/stores/chic-home/products/57314, Status Code: 404\n",
      "Error processing https://designkollective.com/stores/chic-home/products/57379: cannot unpack non-iterable NoneType object\n",
      "Error processing https://designkollective.com/stores/chic-home/products/57314: cannot unpack non-iterable NoneType object\n"
     ]
    },
    {
     "name": "stderr",
     "output_type": "stream",
     "text": [
      "Processing URLs:  14%|█▍        | 4219/30000 [03:30<09:19, 46.06it/s]"
     ]
    },
    {
     "name": "stdout",
     "output_type": "stream",
     "text": [
      "Failed to retrieve https://designkollective.com/stores/chic-home/products/57449, Status Code: 404\n",
      "Error processing https://designkollective.com/stores/chic-home/products/57449: cannot unpack non-iterable NoneType object\n",
      "Failed to retrieve https://designkollective.com/stores/chic-home/products/57381, Status Code: 404\n",
      "Error processing https://designkollective.com/stores/chic-home/products/57381: cannot unpack non-iterable NoneType object\n",
      "Failed to retrieve https://designkollective.com/stores/chic-home/products/57436, Status Code: 404\n",
      "Error processing https://designkollective.com/stores/chic-home/products/57436: cannot unpack non-iterable NoneType object\n",
      "Failed to retrieve https://designkollective.com/stores/chic-home/products/57330, Status Code: 404\n",
      "Error processing https://designkollective.com/stores/chic-home/products/57330: cannot unpack non-iterable NoneType object\n",
      "Failed to retrieve https://designkollective.com/stores/chic-home/products/57450, Status Code: 404\n",
      "Error processing https://designkollective.com/stores/chic-home/products/57450: cannot unpack non-iterable NoneType object\n",
      "Failed to retrieve https://designkollective.com/stores/chic-home/products/57460, Status Code: 404\n",
      "Error processing https://designkollective.com/stores/chic-home/products/57460: cannot unpack non-iterable NoneType object\n",
      "Failed to retrieve https://designkollective.com/stores/chic-home/products/57447, Status Code: 404\n",
      "Error processing https://designkollective.com/stores/chic-home/products/57447: cannot unpack non-iterable NoneType object\n",
      "Failed to retrieve https://designkollective.com/stores/chic-home/products/57445, Status Code: 404\n",
      "Error processing https://designkollective.com/stores/chic-home/products/57445: cannot unpack non-iterable NoneType object\n",
      "Failed to retrieve https://designkollective.com/stores/chic-home/products/57348, Status Code: 404\n",
      "Error processing https://designkollective.com/stores/chic-home/products/57348: cannot unpack non-iterable NoneType object\n"
     ]
    },
    {
     "name": "stderr",
     "output_type": "stream",
     "text": [
      "Processing URLs:  14%|█▍        | 4229/30000 [03:30<19:02, 22.55it/s]"
     ]
    },
    {
     "name": "stdout",
     "output_type": "stream",
     "text": [
      "Failed to retrieve https://designkollective.com/stores/chic-home/products/57371, Status Code: 404\n",
      "Error processing https://designkollective.com/stores/chic-home/products/57371: cannot unpack non-iterable NoneType object\n",
      "Failed to retrieve https://designkollective.com/stores/chic-home/products/57324, Status Code: 404\n",
      "Error processing https://designkollective.com/stores/chic-home/products/57324: cannot unpack non-iterable NoneType object\n",
      "Failed to retrieve https://designkollective.com/stores/chic-home/products/57430, Status Code: 404\n",
      "Error processing https://designkollective.com/stores/chic-home/products/57430: cannot unpack non-iterable NoneType object\n",
      "Failed to retrieve https://designkollective.com/stores/chic-home/products/57329, Status Code: 404\n",
      "Error processing https://designkollective.com/stores/chic-home/products/57329: cannot unpack non-iterable NoneType object\n",
      "Failed to retrieve https://designkollective.com/stores/chic-home/products/57357, Status Code: 404\n",
      "Error processing https://designkollective.com/stores/chic-home/products/57357: cannot unpack non-iterable NoneType object\n",
      "Failed to retrieve https://designkollective.com/stores/chic-home/products/57338, Status Code: 404\n",
      "Failed to retrieve https://designkollective.com/stores/chic-home/products/57462, Status Code: 404\n",
      "Error processing https://designkollective.com/stores/chic-home/products/57462: cannot unpack non-iterable NoneType object\n",
      "Error processing https://designkollective.com/stores/chic-home/products/57338: cannot unpack non-iterable NoneType object\n",
      "Failed to retrieve https://designkollective.com/stores/chic-home/products/57395, Status Code: 404\n",
      "Failed to retrieve https://designkollective.com/stores/chic-home/products/57474, Status Code: 404\n",
      "Error processing https://designkollective.com/stores/chic-home/products/57474: cannot unpack non-iterable NoneType object\n",
      "Error processing https://designkollective.com/stores/chic-home/products/57395: cannot unpack non-iterable NoneType object\n",
      "Failed to retrieve https://designkollective.com/stores/chic-home/products/57369, Status Code: 404\n",
      "Error processing https://designkollective.com/stores/chic-home/products/57369: cannot unpack non-iterable NoneType object\n",
      "Failed to retrieve https://designkollective.com/stores/chic-home/products/57373, Status Code: 404\n",
      "Error processing https://designkollective.com/stores/chic-home/products/57373: cannot unpack non-iterable NoneType object\n",
      "Failed to retrieve https://designkollective.com/stores/chic-home/products/57382, Status Code: 404\n",
      "Error processing https://designkollective.com/stores/chic-home/products/57382: cannot unpack non-iterable NoneType object\n"
     ]
    },
    {
     "name": "stderr",
     "output_type": "stream",
     "text": [
      "Processing URLs:  14%|█▍        | 4245/30000 [03:31<11:46, 36.46it/s]"
     ]
    },
    {
     "name": "stdout",
     "output_type": "stream",
     "text": [
      "Failed to retrieve https://designkollective.com/stores/chic-home/products/57456, Status Code: 404\n",
      "Error processing https://designkollective.com/stores/chic-home/products/57456: cannot unpack non-iterable NoneType object\n",
      "Failed to retrieve https://designkollective.com/stores/chic-home/products/57441, Status Code: 404\n",
      "Error processing https://designkollective.com/stores/chic-home/products/57441: cannot unpack non-iterable NoneType object\n",
      "Failed to retrieve https://designkollective.com/stores/chic-home/products/57385, Status Code: 404\n",
      "Failed to retrieve https://designkollective.com/stores/chic-home/products/57467, Status Code: 404\n",
      "Error processing https://designkollective.com/stores/chic-home/products/57467: cannot unpack non-iterable NoneType object\n",
      "Error processing https://designkollective.com/stores/chic-home/products/57385: cannot unpack non-iterable NoneType object\n",
      "Failed to retrieve https://designkollective.com/stores/chic-home/products/57427, Status Code: 404\n",
      "Error processing https://designkollective.com/stores/chic-home/products/57427: cannot unpack non-iterable NoneType object\n",
      "Failed to retrieve https://designkollective.com/stores/chic-home/products/57466, Status Code: 404\n",
      "Error processing https://designkollective.com/stores/chic-home/products/57466: cannot unpack non-iterable NoneType object\n"
     ]
    },
    {
     "name": "stderr",
     "output_type": "stream",
     "text": [
      "Processing URLs:  14%|█▍        | 4256/30000 [03:31<11:43, 36.58it/s]"
     ]
    },
    {
     "name": "stdout",
     "output_type": "stream",
     "text": [
      "Failed to retrieve https://designkollective.com/stores/chic-home/products/57473, Status Code: 404Failed to retrieve https://designkollective.com/stores/chic-home/products/57469, Status Code: 404\n",
      "\n",
      "Error processing https://designkollective.com/stores/chic-home/products/57473: cannot unpack non-iterable NoneType object\n",
      "Error processing https://designkollective.com/stores/chic-home/products/57469: cannot unpack non-iterable NoneType object\n",
      "Failed to retrieve https://designkollective.com/stores/chic-home/products/57506, Status Code: 404\n",
      "Error processing https://designkollective.com/stores/chic-home/products/57506: cannot unpack non-iterable NoneType object\n"
     ]
    },
    {
     "name": "stderr",
     "output_type": "stream",
     "text": [
      "Processing URLs:  14%|█▍        | 4261/30000 [03:31<19:13, 22.31it/s]"
     ]
    },
    {
     "name": "stdout",
     "output_type": "stream",
     "text": [
      "Failed to retrieve https://designkollective.com/stores/chic-home/products/57345, Status Code: 404\n",
      "Error processing https://designkollective.com/stores/chic-home/products/57345: cannot unpack non-iterable NoneType object\n",
      "Failed to retrieve https://designkollective.com/stores/chic-home/products/57355, Status Code: 404\n",
      "Error processing https://designkollective.com/stores/chic-home/products/57355: cannot unpack non-iterable NoneType object\n"
     ]
    },
    {
     "name": "stderr",
     "output_type": "stream",
     "text": [
      "Processing URLs:  14%|█▍        | 4270/30000 [03:32<19:24, 22.10it/s]"
     ]
    },
    {
     "name": "stdout",
     "output_type": "stream",
     "text": [
      "Failed to retrieve https://designkollective.com/stores/chic-home/products/137606, Status Code: 404\n",
      "Error processing https://designkollective.com/stores/chic-home/products/137606: cannot unpack non-iterable NoneType object\n",
      "Failed to retrieve https://designkollective.com/stores/chic-home/products/137665, Status Code: 404\n",
      "Error processing https://designkollective.com/stores/chic-home/products/137665: cannot unpack non-iterable NoneType object\n",
      "Failed to retrieve https://designkollective.com/stores/chic-home/products/137600, Status Code: 404\n",
      "Error processing https://designkollective.com/stores/chic-home/products/137600: cannot unpack non-iterable NoneType object\n"
     ]
    },
    {
     "name": "stderr",
     "output_type": "stream",
     "text": [
      "Processing URLs:  14%|█▍        | 4278/30000 [03:32<16:16, 26.34it/s]"
     ]
    },
    {
     "name": "stdout",
     "output_type": "stream",
     "text": [
      "Failed to retrieve https://designkollective.com/stores/chic-home/products/56931, Status Code: 404\n",
      "Error processing https://designkollective.com/stores/chic-home/products/56931: cannot unpack non-iterable NoneType object\n",
      "Failed to retrieve https://designkollective.com/stores/chic-home/products/56935, Status Code: 404\n",
      "Error processing https://designkollective.com/stores/chic-home/products/56935: cannot unpack non-iterable NoneType object\n"
     ]
    },
    {
     "name": "stderr",
     "output_type": "stream",
     "text": [
      "Processing URLs:  14%|█▍        | 4291/30000 [03:32<14:03, 30.49it/s]"
     ]
    },
    {
     "name": "stdout",
     "output_type": "stream",
     "text": [
      "Failed to retrieve https://designkollective.com/stores/chic-home/products/137578, Status Code: 404\n",
      "Error processing https://designkollective.com/stores/chic-home/products/137578: cannot unpack non-iterable NoneType object\n",
      "Failed to retrieve https://designkollective.com/stores/chic-home/products/137573, Status Code: 404\n",
      "Error processing https://designkollective.com/stores/chic-home/products/137573: cannot unpack non-iterable NoneType object\n",
      "Failed to retrieve https://designkollective.com/stores/chic-home/products/137614, Status Code: 404\n",
      "Error processing https://designkollective.com/stores/chic-home/products/137614: cannot unpack non-iterable NoneType object\n"
     ]
    },
    {
     "name": "stderr",
     "output_type": "stream",
     "text": [
      "Processing URLs:  14%|█▍        | 4301/30000 [03:33<12:11, 35.12it/s]"
     ]
    },
    {
     "name": "stdout",
     "output_type": "stream",
     "text": [
      "Failed to retrieve https://designkollective.com/stores/chic-home/products/137612, Status Code: 404\n",
      "Error processing https://designkollective.com/stores/chic-home/products/137612: cannot unpack non-iterable NoneType object\n",
      "Failed to retrieve https://designkollective.com/stores/chic-home/products/137601, Status Code: 404\n",
      "Failed to retrieve https://designkollective.com/stores/chic-home/products/137574, Status Code: 404\n",
      "Error processing https://designkollective.com/stores/chic-home/products/137601: cannot unpack non-iterable NoneType object\n",
      "Error processing https://designkollective.com/stores/chic-home/products/137574: cannot unpack non-iterable NoneType object\n",
      "Failed to retrieve https://designkollective.com/stores/chic-home/products/56937, Status Code: 404\n",
      "Error processing https://designkollective.com/stores/chic-home/products/56937: cannot unpack non-iterable NoneType object\n",
      "Failed to retrieve https://designkollective.com/stores/chic-home/products/137566, Status Code: 404\n",
      "Error processing https://designkollective.com/stores/chic-home/products/137566: cannot unpack non-iterable NoneType object\n"
     ]
    },
    {
     "name": "stderr",
     "output_type": "stream",
     "text": [
      "Processing URLs:  14%|█▍        | 4311/30000 [03:33<11:13, 38.14it/s]"
     ]
    },
    {
     "name": "stdout",
     "output_type": "stream",
     "text": [
      "Failed to retrieve https://designkollective.com/stores/chic-home/products/137658, Status Code: 404\n",
      "Error processing https://designkollective.com/stores/chic-home/products/137658: cannot unpack non-iterable NoneType object\n",
      "Failed to retrieve https://designkollective.com/stores/chic-home/products/137567, Status Code: 404\n",
      "Failed to retrieve https://designkollective.com/stores/chic-home/products/57813, Status Code: 404\n",
      "Error processing https://designkollective.com/stores/chic-home/products/137567: cannot unpack non-iterable NoneType object\n",
      "Error processing https://designkollective.com/stores/chic-home/products/57813: cannot unpack non-iterable NoneType object\n",
      "Failed to retrieve https://designkollective.com/stores/chic-home/products/57810, Status Code: 404\n",
      "Error processing https://designkollective.com/stores/chic-home/products/57810: cannot unpack non-iterable NoneType object\n",
      "Failed to retrieve https://designkollective.com/stores/chic-home/products/137583, Status Code: 404\n",
      "Error processing https://designkollective.com/stores/chic-home/products/137583: cannot unpack non-iterable NoneType object\n",
      "Failed to retrieve https://designkollective.com/stores/chic-home/products/57952, Status Code: 404\n",
      "Error processing https://designkollective.com/stores/chic-home/products/57952: cannot unpack non-iterable NoneType object\n",
      "Failed to retrieve https://designkollective.com/stores/chic-home/products/57831, Status Code: 404\n",
      "Error processing https://designkollective.com/stores/chic-home/products/57831: cannot unpack non-iterable NoneType object\n"
     ]
    },
    {
     "name": "stderr",
     "output_type": "stream",
     "text": [
      "Processing URLs:  14%|█▍        | 4315/30000 [03:33<13:24, 31.91it/s]"
     ]
    },
    {
     "name": "stdout",
     "output_type": "stream",
     "text": [
      "Failed to retrieve https://designkollective.com/stores/chic-home/products/57865, Status Code: 404\n",
      "Error processing https://designkollective.com/stores/chic-home/products/57865: cannot unpack non-iterable NoneType object\n",
      "Failed to retrieve https://designkollective.com/stores/chic-home/products/57917, Status Code: 404\n",
      "Error processing https://designkollective.com/stores/chic-home/products/57917: cannot unpack non-iterable NoneType object\n"
     ]
    },
    {
     "name": "stderr",
     "output_type": "stream",
     "text": [
      "Processing URLs:  14%|█▍        | 4323/30000 [03:33<13:32, 31.62it/s]"
     ]
    },
    {
     "name": "stdout",
     "output_type": "stream",
     "text": [
      "Failed to retrieve https://designkollective.com/stores/chic-home/products/57816, Status Code: 404\n",
      "Error processing https://designkollective.com/stores/chic-home/products/57816: cannot unpack non-iterable NoneType object\n",
      "Failed to retrieve https://designkollective.com/stores/chic-home/products/57867, Status Code: 404\n",
      "Error processing https://designkollective.com/stores/chic-home/products/57867: cannot unpack non-iterable NoneType object\n",
      "Failed to retrieve https://designkollective.com/stores/chic-home/products/57811, Status Code: 404\n",
      "Failed to retrieve https://designkollective.com/stores/chic-home/products/57906, Status Code: 404\n",
      "Error processing https://designkollective.com/stores/chic-home/products/57811: cannot unpack non-iterable NoneType object\n",
      "Error processing https://designkollective.com/stores/chic-home/products/57906: cannot unpack non-iterable NoneType object\n",
      "Failed to retrieve https://designkollective.com/stores/chic-home/products/137610, Status Code: 404\n",
      "Error processing https://designkollective.com/stores/chic-home/products/137610: cannot unpack non-iterable NoneType object\n",
      "Failed to retrieve https://designkollective.com/stores/chic-home/products/57908, Status Code: 404\n",
      "Error processing https://designkollective.com/stores/chic-home/products/57908: cannot unpack non-iterable NoneType object\n"
     ]
    },
    {
     "name": "stderr",
     "output_type": "stream",
     "text": [
      "Processing URLs:  14%|█▍        | 4327/30000 [03:34<14:28, 29.57it/s]"
     ]
    },
    {
     "name": "stdout",
     "output_type": "stream",
     "text": [
      "Failed to retrieve https://designkollective.com/stores/chic-home/products/57913, Status Code: 404\n",
      "Error processing https://designkollective.com/stores/chic-home/products/57913: cannot unpack non-iterable NoneType object\n",
      "Failed to retrieve https://designkollective.com/stores/chic-home/products/57911, Status Code: 404\n",
      "Error processing https://designkollective.com/stores/chic-home/products/57911: cannot unpack non-iterable NoneType object\n",
      "Failed to retrieve https://designkollective.com/stores/chic-home/products/57817, Status Code: 404\n",
      "Error processing https://designkollective.com/stores/chic-home/products/57817: cannot unpack non-iterable NoneType object\n",
      "Failed to retrieve https://designkollective.com/stores/chic-home/products/57920, Status Code: 404\n",
      "Error processing https://designkollective.com/stores/chic-home/products/57920: cannot unpack non-iterable NoneType object\n",
      "Failed to retrieve https://designkollective.com/stores/chic-home/products/57918, Status Code: 404\n",
      "Error processing https://designkollective.com/stores/chic-home/products/57918: cannot unpack non-iterable NoneType object\n",
      "Failed to retrieve https://designkollective.com/stores/chic-home/products/57903, Status Code: 404\n",
      "Error processing https://designkollective.com/stores/chic-home/products/57903: cannot unpack non-iterable NoneType object\n"
     ]
    },
    {
     "name": "stderr",
     "output_type": "stream",
     "text": [
      "Processing URLs:  14%|█▍        | 4336/30000 [03:34<13:14, 32.31it/s]"
     ]
    },
    {
     "name": "stdout",
     "output_type": "stream",
     "text": [
      "Failed to retrieve https://designkollective.com/stores/chic-home/products/57916, Status Code: 404\n",
      "Error processing https://designkollective.com/stores/chic-home/products/57916: cannot unpack non-iterable NoneType object\n",
      "Failed to retrieve https://designkollective.com/stores/chic-home/products/57914, Status Code: 404\n",
      "Error processing https://designkollective.com/stores/chic-home/products/57914: cannot unpack non-iterable NoneType object\n",
      "Failed to retrieve https://designkollective.com/stores/chic-home/products/57864, Status Code: 404\n",
      "Error processing https://designkollective.com/stores/chic-home/products/57864: cannot unpack non-iterable NoneType object\n",
      "Failed to retrieve https://designkollective.com/stores/chic-home/products/57866, Status Code: 404\n",
      "Error processing https://designkollective.com/stores/chic-home/products/57866: cannot unpack non-iterable NoneType object\n",
      "Failed to retrieve https://designkollective.com/stores/chic-home/products/57832, Status Code: 404\n",
      "Error processing https://designkollective.com/stores/chic-home/products/57832: cannot unpack non-iterable NoneType object\n",
      "Failed to retrieve https://designkollective.com/stores/chic-home/products/57863, Status Code: 404\n",
      "Error processing https://designkollective.com/stores/chic-home/products/57863: cannot unpack non-iterable NoneType object\n"
     ]
    },
    {
     "name": "stderr",
     "output_type": "stream",
     "text": [
      "Processing URLs:  14%|█▍        | 4340/30000 [03:34<16:20, 26.18it/s]"
     ]
    },
    {
     "name": "stdout",
     "output_type": "stream",
     "text": [
      "Failed to retrieve https://designkollective.com/stores/chic-home/products/57982, Status Code: 404\n",
      "Error processing https://designkollective.com/stores/chic-home/products/57982: cannot unpack non-iterable NoneType object\n",
      "Failed to retrieve https://designkollective.com/stores/chic-home/products/57904, Status Code: 404\n",
      "Error processing https://designkollective.com/stores/chic-home/products/57904: cannot unpack non-iterable NoneType object\n",
      "Failed to retrieve https://designkollective.com/stores/chic-home/products/137630, Status Code: 404\n",
      "Error processing https://designkollective.com/stores/chic-home/products/137630: cannot unpack non-iterable NoneType object\n",
      "Failed to retrieve https://designkollective.com/stores/chic-home/products/57915, Status Code: 404\n",
      "Error processing https://designkollective.com/stores/chic-home/products/57915: cannot unpack non-iterable NoneType object\n",
      "Failed to retrieve https://designkollective.com/stores/chic-home/products/57970, Status Code: 404\n",
      "Error processing https://designkollective.com/stores/chic-home/products/57970: cannot unpack non-iterable NoneType object\n",
      "Failed to retrieve https://designkollective.com/stores/chic-home/products/57886, Status Code: 404\n",
      "Failed to retrieve https://designkollective.com/stores/chic-home/products/57969, Status Code: 404\n",
      "Error processing https://designkollective.com/stores/chic-home/products/57969: cannot unpack non-iterable NoneType object\n",
      "Error processing https://designkollective.com/stores/chic-home/products/57886: cannot unpack non-iterable NoneType object\n",
      "Failed to retrieve https://designkollective.com/stores/chic-home/products/57975, Status Code: 404\n",
      "Error processing https://designkollective.com/stores/chic-home/products/57975: cannot unpack non-iterable NoneType object\n",
      "Failed to retrieve https://designkollective.com/stores/chic-home/products/57921, Status Code: 404\n",
      "Error processing https://designkollective.com/stores/chic-home/products/57921: cannot unpack non-iterable NoneType object\n",
      "Failed to retrieve https://designkollective.com/stores/chic-home/products/57951, Status Code: 404\n",
      "Error processing https://designkollective.com/stores/chic-home/products/57951: cannot unpack non-iterable NoneType object\n"
     ]
    },
    {
     "name": "stderr",
     "output_type": "stream",
     "text": [
      "Processing URLs:  15%|█▍        | 4357/30000 [03:34<10:49, 39.49it/s]"
     ]
    },
    {
     "name": "stdout",
     "output_type": "stream",
     "text": [
      "Failed to retrieve https://designkollective.com/stores/chic-home/products/58035, Status Code: 404\n",
      "Error processing https://designkollective.com/stores/chic-home/products/58035: cannot unpack non-iterable NoneType object\n",
      "Failed to retrieve https://designkollective.com/stores/chic-home/products/57919, Status Code: 404\n",
      "Error processing https://designkollective.com/stores/chic-home/products/57919: cannot unpack non-iterable NoneType object\n",
      "Failed to retrieve https://designkollective.com/stores/chic-home/products/57884, Status Code: 404\n",
      "Error processing https://designkollective.com/stores/chic-home/products/57884: cannot unpack non-iterable NoneType object\n",
      "Failed to retrieve https://designkollective.com/stores/chic-home/products/57888, Status Code: 404\n",
      "Error processing https://designkollective.com/stores/chic-home/products/57888: cannot unpack non-iterable NoneType object\n",
      "Failed to retrieve https://designkollective.com/stores/chic-home/products/57912, Status Code: 404\n",
      "Error processing https://designkollective.com/stores/chic-home/products/57912: cannot unpack non-iterable NoneType object\n",
      "Failed to retrieve https://designkollective.com/stores/chic-home/products/57882, Status Code: 404\n",
      "Error processing https://designkollective.com/stores/chic-home/products/57882: cannot unpack non-iterable NoneType object\n",
      "Failed to retrieve https://designkollective.com/stores/chic-home/products/57889, Status Code: 404\n",
      "Error processing https://designkollective.com/stores/chic-home/products/57889: cannot unpack non-iterable NoneType object\n",
      "Failed to retrieve https://designkollective.com/stores/chic-home/products/58028, Status Code: 404\n",
      "Error processing https://designkollective.com/stores/chic-home/products/58028: cannot unpack non-iterable NoneType object\n",
      "Failed to retrieve https://designkollective.com/stores/chic-home/products/58034, Status Code: 404\n",
      "Error processing https://designkollective.com/stores/chic-home/products/58034: cannot unpack non-iterable NoneType object\n",
      "Failed to retrieve https://designkollective.com/stores/chic-home/products/57880, Status Code: 404\n",
      "Error processing https://designkollective.com/stores/chic-home/products/57880: cannot unpack non-iterable NoneType object\n"
     ]
    },
    {
     "name": "stderr",
     "output_type": "stream",
     "text": [
      "Processing URLs:  15%|█▍        | 4367/30000 [03:35<16:00, 26.69it/s]"
     ]
    },
    {
     "name": "stdout",
     "output_type": "stream",
     "text": [
      "Failed to retrieve https://designkollective.com/stores/chic-home/products/58037, Status Code: 404\n",
      "Error processing https://designkollective.com/stores/chic-home/products/58037: cannot unpack non-iterable NoneType object\n",
      "Failed to retrieve https://designkollective.com/stores/chic-home/products/58021, Status Code: 404\n",
      "Error processing https://designkollective.com/stores/chic-home/products/58021: cannot unpack non-iterable NoneType object\n",
      "Failed to retrieve https://designkollective.com/stores/chic-home/products/57885, Status Code: 404\n",
      "Error processing https://designkollective.com/stores/chic-home/products/57885: cannot unpack non-iterable NoneType object\n",
      "Failed to retrieve https://designkollective.com/stores/chic-home/products/57910, Status Code: 404\n",
      "Error processing https://designkollective.com/stores/chic-home/products/57910: cannot unpack non-iterable NoneType object\n",
      "Failed to retrieve https://designkollective.com/stores/chic-home/products/57974, Status Code: 404\n",
      "Error processing https://designkollective.com/stores/chic-home/products/57974: cannot unpack non-iterable NoneType object\n"
     ]
    },
    {
     "name": "stderr",
     "output_type": "stream",
     "text": [
      "Processing URLs:  15%|█▍        | 4378/30000 [03:35<12:54, 33.08it/s]"
     ]
    },
    {
     "name": "stdout",
     "output_type": "stream",
     "text": [
      "Failed to retrieve https://designkollective.com/stores/chic-home/products/58223, Status Code: 404\n",
      "Error processing https://designkollective.com/stores/chic-home/products/58223: cannot unpack non-iterable NoneType object\n",
      "Failed to retrieve https://designkollective.com/stores/chic-home/products/58171, Status Code: 404\n",
      "Error processing https://designkollective.com/stores/chic-home/products/58171: cannot unpack non-iterable NoneType object\n",
      "Failed to retrieve https://designkollective.com/stores/chic-home/products/58036, Status Code: 404\n",
      "Error processing https://designkollective.com/stores/chic-home/products/58036: cannot unpack non-iterable NoneType object\n",
      "Failed to retrieve https://designkollective.com/stores/chic-home/products/57981, Status Code: 404\n",
      "Error processing https://designkollective.com/stores/chic-home/products/57981: cannot unpack non-iterable NoneType object\n",
      "Failed to retrieve https://designkollective.com/stores/chic-home/products/57965, Status Code: 404\n",
      "Error processing https://designkollective.com/stores/chic-home/products/57965: cannot unpack non-iterable NoneType object\n",
      "Failed to retrieve https://designkollective.com/stores/chic-home/products/58220, Status Code: 404\n",
      "Error processing https://designkollective.com/stores/chic-home/products/58220: cannot unpack non-iterable NoneType object\n",
      "Failed to retrieve https://designkollective.com/stores/chic-home/products/58116, Status Code: 404\n",
      "Error processing https://designkollective.com/stores/chic-home/products/58116: cannot unpack non-iterable NoneType object\n",
      "Failed to retrieve https://designkollective.com/stores/chic-home/products/58169, Status Code: 404\n",
      "Error processing https://designkollective.com/stores/chic-home/products/58169: cannot unpack non-iterable NoneType object\n",
      "Failed to retrieve https://designkollective.com/stores/chic-home/products/58115, Status Code: 404\n",
      "Error processing https://designkollective.com/stores/chic-home/products/58115: cannot unpack non-iterable NoneType object\n"
     ]
    },
    {
     "name": "stderr",
     "output_type": "stream",
     "text": [
      "Processing URLs:  15%|█▍        | 4389/30000 [03:35<10:38, 40.10it/s]"
     ]
    },
    {
     "name": "stdout",
     "output_type": "stream",
     "text": [
      "Failed to retrieve https://designkollective.com/stores/chic-home/products/58023, Status Code: 404\n",
      "Error processing https://designkollective.com/stores/chic-home/products/58023: cannot unpack non-iterable NoneType object\n",
      "Failed to retrieve https://designkollective.com/stores/chic-home/products/97872, Status Code: 404\n",
      "Error processing https://designkollective.com/stores/chic-home/products/97872: cannot unpack non-iterable NoneType object\n",
      "Failed to retrieve https://designkollective.com/stores/chic-home/products/58164, Status Code: 404\n",
      "Error processing https://designkollective.com/stores/chic-home/products/58164: cannot unpack non-iterable NoneType object\n",
      "Failed to retrieve https://designkollective.com/stores/chic-home/products/137575, Status Code: 404\n",
      "Error processing https://designkollective.com/stores/chic-home/products/137575: cannot unpack non-iterable NoneType object\n",
      "Failed to retrieve https://designkollective.com/stores/chic-home/products/58031, Status Code: 404\n",
      "Failed to retrieve https://designkollective.com/stores/chic-home/products/58124, Status Code: 404\n",
      "Error processing https://designkollective.com/stores/chic-home/products/58031: cannot unpack non-iterable NoneType object\n",
      "Error processing https://designkollective.com/stores/chic-home/products/58124: cannot unpack non-iterable NoneType object\n",
      "Failed to retrieve https://designkollective.com/stores/chic-home/products/58182, Status Code: 404\n",
      "Error processing https://designkollective.com/stores/chic-home/products/58182: cannot unpack non-iterable NoneType object\n",
      "Failed to retrieve https://designkollective.com/stores/chic-home/products/58186, Status Code: 404\n",
      "Error processing https://designkollective.com/stores/chic-home/products/58186: cannot unpack non-iterable NoneType object\n",
      "Failed to retrieve https://designkollective.com/stores/chic-home/products/58180, Status Code: 404\n",
      "Error processing https://designkollective.com/stores/chic-home/products/58180: cannot unpack non-iterable NoneType object\n",
      "Failed to retrieve https://designkollective.com/stores/chic-home/products/58197, Status Code: 404\n",
      "Error processing https://designkollective.com/stores/chic-home/products/58197: cannot unpack non-iterable NoneType object\n"
     ]
    },
    {
     "name": "stderr",
     "output_type": "stream",
     "text": [
      "Processing URLs:  15%|█▍        | 4403/30000 [03:36<11:28, 37.16it/s]"
     ]
    },
    {
     "name": "stdout",
     "output_type": "stream",
     "text": [
      "Failed to retrieve https://designkollective.com/stores/chic-home/products/58176, Status Code: 404\n",
      "Error processing https://designkollective.com/stores/chic-home/products/58176: cannot unpack non-iterable NoneType object\n",
      "Failed to retrieve https://designkollective.com/stores/chic-home/products/58198, Status Code: 404\n",
      "Error processing https://designkollective.com/stores/chic-home/products/58198: cannot unpack non-iterable NoneType object\n",
      "Failed to retrieve https://designkollective.com/stores/chic-home/products/58173, Status Code: 404\n",
      "Error processing https://designkollective.com/stores/chic-home/products/58173: cannot unpack non-iterable NoneType object\n",
      "Failed to retrieve https://designkollective.com/stores/chic-home/products/58239, Status Code: 404\n",
      "Error processing https://designkollective.com/stores/chic-home/products/58239: cannot unpack non-iterable NoneType object\n",
      "Failed to retrieve https://designkollective.com/stores/chic-home/products/58112, Status Code: 404\n",
      "Error processing https://designkollective.com/stores/chic-home/products/58112: cannot unpack non-iterable NoneType object\n",
      "Failed to retrieve https://designkollective.com/stores/chic-home/products/58170, Status Code: 404\n",
      "Error processing https://designkollective.com/stores/chic-home/products/58170: cannot unpack non-iterable NoneType object\n",
      "Failed to retrieve https://designkollective.com/stores/chic-home/products/58172, Status Code: 404\n",
      "Error processing https://designkollective.com/stores/chic-home/products/58172: cannot unpack non-iterable NoneType object\n",
      "Failed to retrieve https://designkollective.com/stores/chic-home/products/58181, Status Code: 404\n",
      "Error processing https://designkollective.com/stores/chic-home/products/58181: cannot unpack non-iterable NoneType object\n",
      "Failed to retrieve https://designkollective.com/stores/chic-home/products/58179, Status Code: 404\n",
      "Error processing https://designkollective.com/stores/chic-home/products/58179: cannot unpack non-iterable NoneType object\n",
      "Failed to retrieve https://designkollective.com/stores/chic-home/products/58166, Status Code: 404\n",
      "Failed to retrieve https://designkollective.com/stores/chic-home/products/58162, Status Code: 404\n",
      "Error processing https://designkollective.com/stores/chic-home/products/58166: cannot unpack non-iterable NoneType object\n",
      "Error processing https://designkollective.com/stores/chic-home/products/58162: cannot unpack non-iterable NoneType object\n",
      "Failed to retrieve https://designkollective.com/stores/chic-home/products/58117, Status Code: 404\n",
      "Error processing https://designkollective.com/stores/chic-home/products/58117: cannot unpack non-iterable NoneType object\n",
      "Failed to retrieve https://designkollective.com/stores/chic-home/products/58177, Status Code: 404\n",
      "Error processing https://designkollective.com/stores/chic-home/products/58177: cannot unpack non-iterable NoneType object\n"
     ]
    },
    {
     "name": "stderr",
     "output_type": "stream",
     "text": [
      "Processing URLs:  15%|█▍        | 4408/30000 [03:36<16:02, 26.59it/s]"
     ]
    },
    {
     "name": "stdout",
     "output_type": "stream",
     "text": [
      "Failed to retrieve https://designkollective.com/stores/chic-home/products/58123, Status Code: 404\n",
      "Error processing https://designkollective.com/stores/chic-home/products/58123: cannot unpack non-iterable NoneType object\n",
      "Failed to retrieve https://designkollective.com/stores/chic-home/products/58183, Status Code: 404\n",
      "Error processing https://designkollective.com/stores/chic-home/products/58183: cannot unpack non-iterable NoneType object\n",
      "Failed to retrieve https://designkollective.com/stores/chic-home/products/58178, Status Code: 404\n",
      "Error processing https://designkollective.com/stores/chic-home/products/58178: cannot unpack non-iterable NoneType object\n",
      "Failed to retrieve https://designkollective.com/stores/chic-home/products/58161, Status Code: 404\n",
      "Failed to retrieve https://designkollective.com/stores/chic-home/products/58157, Status Code: 404\n",
      "Error processing https://designkollective.com/stores/chic-home/products/58161: cannot unpack non-iterable NoneType object\n",
      "Error processing https://designkollective.com/stores/chic-home/products/58157: cannot unpack non-iterable NoneType object\n",
      "Failed to retrieve https://designkollective.com/stores/chic-home/products/58151, Status Code: 404\n",
      "Error processing https://designkollective.com/stores/chic-home/products/58151: cannot unpack non-iterable NoneType object\n",
      "Failed to retrieve https://designkollective.com/stores/chic-home/products/137558, Status Code: 404\n",
      "Error processing https://designkollective.com/stores/chic-home/products/137558: cannot unpack non-iterable NoneType object\n",
      "Failed to retrieve https://designkollective.com/stores/chic-home/products/58128, Status Code: 404\n",
      "Error processing https://designkollective.com/stores/chic-home/products/58128: cannot unpack non-iterable NoneType object\n"
     ]
    },
    {
     "name": "stderr",
     "output_type": "stream",
     "text": [
      "Processing URLs:  15%|█▍        | 4420/30000 [03:37<12:38, 33.73it/s]"
     ]
    },
    {
     "name": "stdout",
     "output_type": "stream",
     "text": [
      "Failed to retrieve https://designkollective.com/stores/chic-home/products/58185, Status Code: 404\n",
      "Error processing https://designkollective.com/stores/chic-home/products/58185: cannot unpack non-iterable NoneType object\n",
      "Failed to retrieve https://designkollective.com/stores/chic-home/products/58174, Status Code: 404\n",
      "Error processing https://designkollective.com/stores/chic-home/products/58174: cannot unpack non-iterable NoneType object\n",
      "Failed to retrieve https://designkollective.com/stores/chic-home/products/58160, Status Code: 404\n",
      "Failed to retrieve https://designkollective.com/stores/chic-home/products/58187, Status Code: 404\n",
      "Error processing https://designkollective.com/stores/chic-home/products/58160: cannot unpack non-iterable NoneType object\n",
      "Error processing https://designkollective.com/stores/chic-home/products/58187: cannot unpack non-iterable NoneType object\n",
      "Failed to retrieve https://designkollective.com/stores/chic-home/products/58199, Status Code: 404\n",
      "Failed to retrieve https://designkollective.com/stores/chic-home/products/58195, Status Code: 404\n",
      "Error processing https://designkollective.com/stores/chic-home/products/58195: cannot unpack non-iterable NoneType object\n",
      "Error processing https://designkollective.com/stores/chic-home/products/58199: cannot unpack non-iterable NoneType object\n",
      "Failed to retrieve https://designkollective.com/stores/chic-home/products/58175, Status Code: 404\n",
      "Error processing https://designkollective.com/stores/chic-home/products/58175: cannot unpack non-iterable NoneType object\n",
      "Failed to retrieve https://designkollective.com/stores/chic-home/products/58163, Status Code: 404\n",
      "Error processing https://designkollective.com/stores/chic-home/products/58163: cannot unpack non-iterable NoneType object\n"
     ]
    },
    {
     "name": "stderr",
     "output_type": "stream",
     "text": [
      "Processing URLs:  15%|█▍        | 4433/30000 [03:37<10:55, 39.01it/s]"
     ]
    },
    {
     "name": "stdout",
     "output_type": "stream",
     "text": [
      "Failed to retrieve https://designkollective.com/stores/chic-home/products/137579, Status Code: 404\n",
      "Error processing https://designkollective.com/stores/chic-home/products/137579: cannot unpack non-iterable NoneType object\n",
      "Failed to retrieve https://designkollective.com/stores/chic-home/products/58228, Status Code: 404\n",
      "Error processing https://designkollective.com/stores/chic-home/products/58228: cannot unpack non-iterable NoneType object\n",
      "Failed to retrieve https://designkollective.com/stores/chic-home/products/58229, Status Code: 404\n",
      "Error processing https://designkollective.com/stores/chic-home/products/58229: cannot unpack non-iterable NoneType object\n",
      "Failed to retrieve https://designkollective.com/stores/chic-home/products/58159, Status Code: 404\n",
      "Error processing https://designkollective.com/stores/chic-home/products/58159: cannot unpack non-iterable NoneType object\n",
      "Failed to retrieve https://designkollective.com/stores/chic-home/products/58231, Status Code: 404\n",
      "Error processing https://designkollective.com/stores/chic-home/products/58231: cannot unpack non-iterable NoneType object\n",
      "Failed to retrieve https://designkollective.com/stores/chic-home/products/58188, Status Code: 404\n",
      "Error processing https://designkollective.com/stores/chic-home/products/58188: cannot unpack non-iterable NoneType object\n",
      "Failed to retrieve https://designkollective.com/stores/chic-home/products/58158, Status Code: 404\n",
      "Error processing https://designkollective.com/stores/chic-home/products/58158: cannot unpack non-iterable NoneType object\n",
      "Failed to retrieve https://designkollective.com/stores/chic-home/products/58189, Status Code: 404\n",
      "Error processing https://designkollective.com/stores/chic-home/products/58189: cannot unpack non-iterable NoneType object\n",
      "Failed to retrieve https://designkollective.com/stores/chic-home/products/58114, Status Code: 404\n",
      "Error processing https://designkollective.com/stores/chic-home/products/58114: cannot unpack non-iterable NoneType object\n",
      "Failed to retrieve https://designkollective.com/stores/chic-home/products/58196, Status Code: 404\n",
      "Error processing https://designkollective.com/stores/chic-home/products/58196: cannot unpack non-iterable NoneType object\n",
      "Failed to retrieve https://designkollective.com/stores/chic-home/products/58238, Status Code: 404\n",
      "Error processing https://designkollective.com/stores/chic-home/products/58238: cannot unpack non-iterable NoneType object\n",
      "Failed to retrieve https://designkollective.com/stores/chic-home/products/58230, Status Code: 404\n",
      "Error processing https://designkollective.com/stores/chic-home/products/58230: cannot unpack non-iterable NoneType object\n",
      "Failed to retrieve https://designkollective.com/stores/chic-home/products/58218, Status Code: 404\n",
      "Error processing https://designkollective.com/stores/chic-home/products/58218: cannot unpack non-iterable NoneType object\n",
      "Failed to retrieve https://designkollective.com/stores/chic-home/products/58232, Status Code: 404\n",
      "Failed to retrieve https://designkollective.com/stores/chic-home/products/58168, Status Code: 404\n",
      "Error processing https://designkollective.com/stores/chic-home/products/58232: cannot unpack non-iterable NoneType object\n",
      "Error processing https://designkollective.com/stores/chic-home/products/58168: cannot unpack non-iterable NoneType object\n"
     ]
    },
    {
     "name": "stderr",
     "output_type": "stream",
     "text": [
      "Processing URLs:  15%|█▍        | 4444/30000 [03:37<13:10, 32.32it/s]"
     ]
    },
    {
     "name": "stdout",
     "output_type": "stream",
     "text": [
      "Failed to retrieve https://designkollective.com/stores/chic-home/products/58201, Status Code: 404\n",
      "Error processing https://designkollective.com/stores/chic-home/products/58201: cannot unpack non-iterable NoneType object\n",
      "Failed to retrieve https://designkollective.com/stores/chic-home/products/58184, Status Code: 404\n",
      "Error processing https://designkollective.com/stores/chic-home/products/58184: cannot unpack non-iterable NoneType object\n",
      "Failed to retrieve https://designkollective.com/stores/chic-home/products/58222, Status Code: 404\n",
      "Error processing https://designkollective.com/stores/chic-home/products/58222: cannot unpack non-iterable NoneType object\n",
      "Failed to retrieve https://designkollective.com/stores/chic-home/products/58192, Status Code: 404\n",
      "Error processing https://designkollective.com/stores/chic-home/products/58192: cannot unpack non-iterable NoneType object\n",
      "Failed to retrieve https://designkollective.com/stores/chic-home/products/58190, Status Code: 404\n",
      "Error processing https://designkollective.com/stores/chic-home/products/58190: cannot unpack non-iterable NoneType object\n",
      "Failed to retrieve https://designkollective.com/stores/chic-home/products/58221, Status Code: 404\n",
      "Error processing https://designkollective.com/stores/chic-home/products/58221: cannot unpack non-iterable NoneType object\n",
      "Failed to retrieve https://designkollective.com/stores/chic-home/products/137562, Status Code: 404\n",
      "Error processing https://designkollective.com/stores/chic-home/products/137562: cannot unpack non-iterable NoneType object\n",
      "Failed to retrieve https://designkollective.com/stores/chic-home/products/58225, Status Code: 404\n",
      "Error processing https://designkollective.com/stores/chic-home/products/58225: cannot unpack non-iterable NoneType object\n",
      "Failed to retrieve https://designkollective.com/stores/chic-home/products/58191, Status Code: 404\n",
      "Error processing https://designkollective.com/stores/chic-home/products/58191: cannot unpack non-iterable NoneType object\n",
      "Failed to retrieve https://designkollective.com/stores/chic-home/products/58237, Status Code: 404\n",
      "Error processing https://designkollective.com/stores/chic-home/products/58237: cannot unpack non-iterable NoneType object\n",
      "Failed to retrieve https://designkollective.com/stores/chic-home/products/58202, Status Code: 404\n",
      "Error processing https://designkollective.com/stores/chic-home/products/58202: cannot unpack non-iterable NoneType object\n"
     ]
    },
    {
     "name": "stderr",
     "output_type": "stream",
     "text": [
      "Processing URLs:  15%|█▍        | 4451/30000 [03:37<10:56, 38.92it/s]"
     ]
    },
    {
     "name": "stdout",
     "output_type": "stream",
     "text": [
      "Failed to retrieve https://designkollective.com/stores/chic-home/products/97859, Status Code: 404\n",
      "Error processing https://designkollective.com/stores/chic-home/products/97859: cannot unpack non-iterable NoneType object\n",
      "Failed to retrieve https://designkollective.com/stores/chic-home/products/58224, Status Code: 404\n",
      "Error processing https://designkollective.com/stores/chic-home/products/58224: cannot unpack non-iterable NoneType object\n",
      "Failed to retrieve https://designkollective.com/stores/chic-home/products/58200, Status Code: 404\n",
      "Error processing https://designkollective.com/stores/chic-home/products/58200: cannot unpack non-iterable NoneType object\n",
      "Failed to retrieve https://designkollective.com/stores/chic-home/products/58203, Status Code: 404\n",
      "Error processing https://designkollective.com/stores/chic-home/products/58203: cannot unpack non-iterable NoneType object\n",
      "Failed to retrieve https://designkollective.com/stores/chic-home/products/58204, Status Code: 404\n",
      "Error processing https://designkollective.com/stores/chic-home/products/58204: cannot unpack non-iterable NoneType object\n"
     ]
    },
    {
     "name": "stderr",
     "output_type": "stream",
     "text": [
      "Processing URLs:  15%|█▍        | 4465/30000 [03:38<12:25, 34.27it/s]"
     ]
    },
    {
     "name": "stdout",
     "output_type": "stream",
     "text": [
      "Failed to retrieve https://designkollective.com/stores/chic-home/products/137643, Status Code: 404\n",
      "Error processing https://designkollective.com/stores/chic-home/products/137643: cannot unpack non-iterable NoneType object\n",
      "Failed to retrieve https://designkollective.com/stores/chic-home/products/137593, Status Code: 404\n",
      "Error processing https://designkollective.com/stores/chic-home/products/137593: cannot unpack non-iterable NoneType object\n",
      "Failed to retrieve https://designkollective.com/stores/chic-home/products/58233, Status Code: 404\n",
      "Error processing https://designkollective.com/stores/chic-home/products/58233: cannot unpack non-iterable NoneType object\n",
      "Failed to retrieve https://designkollective.com/stores/chic-home/products/137571, Status Code: 404\n",
      "Error processing https://designkollective.com/stores/chic-home/products/137571: cannot unpack non-iterable NoneType object\n",
      "Failed to retrieve https://designkollective.com/stores/chic-home/products/58227, Status Code: 404\n",
      "Error processing https://designkollective.com/stores/chic-home/products/58227: cannot unpack non-iterable NoneType object\n",
      "Failed to retrieve https://designkollective.com/stores/chic-home/products/58219, Status Code: 404\n",
      "Error processing https://designkollective.com/stores/chic-home/products/58219: cannot unpack non-iterable NoneType object\n",
      "Failed to retrieve https://designkollective.com/stores/chic-home/products/137622, Status Code: 404\n",
      "Error processing https://designkollective.com/stores/chic-home/products/137622: cannot unpack non-iterable NoneType object\n",
      "Failed to retrieve https://designkollective.com/stores/chic-home/products/58226, Status Code: 404\n",
      "Error processing https://designkollective.com/stores/chic-home/products/58226: cannot unpack non-iterable NoneType object\n",
      "Failed to retrieve https://designkollective.com/stores/chic-home/products/97915, Status Code: 404\n",
      "Error processing https://designkollective.com/stores/chic-home/products/97915: cannot unpack non-iterable NoneType object\n",
      "Failed to retrieve https://designkollective.com/stores/chic-home/products/137584, Status Code: 404\n",
      "Error processing https://designkollective.com/stores/chic-home/products/137584: cannot unpack non-iterable NoneType object\n",
      "Failed to retrieve https://designkollective.com/stores/chic-home/products/137597, Status Code: 404\n",
      "Error processing https://designkollective.com/stores/chic-home/products/137597: cannot unpack non-iterable NoneType object\n"
     ]
    },
    {
     "name": "stderr",
     "output_type": "stream",
     "text": [
      "Processing URLs:  15%|█▍        | 4471/30000 [03:38<12:19, 34.51it/s]"
     ]
    },
    {
     "name": "stdout",
     "output_type": "stream",
     "text": [
      "Failed to retrieve https://designkollective.com/stores/chic-home/products/58125, Status Code: 404\n",
      "Error processing https://designkollective.com/stores/chic-home/products/58125: cannot unpack non-iterable NoneType object\n",
      "Failed to retrieve https://designkollective.com/stores/chic-home/products/137607, Status Code: 404\n",
      "Error processing https://designkollective.com/stores/chic-home/products/137607: cannot unpack non-iterable NoneType object\n",
      "Failed to retrieve https://designkollective.com/stores/chic-home/products/137580, Status Code: 404\n",
      "Error processing https://designkollective.com/stores/chic-home/products/137580: cannot unpack non-iterable NoneType object\n",
      "Failed to retrieve https://designkollective.com/stores/chic-home/products/97906, Status Code: 404\n",
      "Error processing https://designkollective.com/stores/chic-home/products/97906: cannot unpack non-iterable NoneType object\n"
     ]
    },
    {
     "name": "stderr",
     "output_type": "stream",
     "text": [
      "Processing URLs:  15%|█▍        | 4476/30000 [03:39<18:17, 23.26it/s]"
     ]
    },
    {
     "name": "stdout",
     "output_type": "stream",
     "text": [
      "Failed to retrieve https://designkollective.com/stores/chic-home/products/137621, Status Code: 404\n",
      "Error processing https://designkollective.com/stores/chic-home/products/137621: cannot unpack non-iterable NoneType object\n",
      "Failed to retrieve https://designkollective.com/stores/chic-home/products/137596, Status Code: 404\n",
      "Error processing https://designkollective.com/stores/chic-home/products/137596: cannot unpack non-iterable NoneType object\n",
      "Failed to retrieve https://designkollective.com/stores/chic-home/products/137577, Status Code: 404\n",
      "Error processing https://designkollective.com/stores/chic-home/products/137577: cannot unpack non-iterable NoneType object\n",
      "Failed to retrieve https://designkollective.com/stores/chic-home/products/58146, Status Code: 404\n",
      "Error processing https://designkollective.com/stores/chic-home/products/58146: cannot unpack non-iterable NoneType object\n",
      "Failed to retrieve https://designkollective.com/stores/chic-home/products/137587, Status Code: 404\n",
      "Error processing https://designkollective.com/stores/chic-home/products/137587: cannot unpack non-iterable NoneType object\n",
      "Failed to retrieve https://designkollective.com/stores/chic-home/products/58152, Status Code: 404\n",
      "Error processing https://designkollective.com/stores/chic-home/products/58152: cannot unpack non-iterable NoneType object\n"
     ]
    },
    {
     "name": "stderr",
     "output_type": "stream",
     "text": [
      "Processing URLs:  15%|█▍        | 4490/30000 [03:39<12:12, 34.84it/s]"
     ]
    },
    {
     "name": "stdout",
     "output_type": "stream",
     "text": [
      "Failed to retrieve https://designkollective.com/stores/chic-home/products/137617, Status Code: 404\n",
      "Failed to retrieve https://designkollective.com/stores/chic-home/products/137633, Status Code: 404\n",
      "Error processing https://designkollective.com/stores/chic-home/products/137617: cannot unpack non-iterable NoneType object\n",
      "Error processing https://designkollective.com/stores/chic-home/products/137633: cannot unpack non-iterable NoneType object\n",
      "Failed to retrieve https://designkollective.com/stores/chic-home/products/137595, Status Code: 404\n",
      "Error processing https://designkollective.com/stores/chic-home/products/137595: cannot unpack non-iterable NoneType object\n",
      "Failed to retrieve https://designkollective.com/stores/chic-home/products/137626, Status Code: 404\n",
      "Error processing https://designkollective.com/stores/chic-home/products/137626: cannot unpack non-iterable NoneType object\n",
      "Failed to retrieve https://designkollective.com/stores/chic-home/products/97893, Status Code: 404\n",
      "Error processing https://designkollective.com/stores/chic-home/products/97893: cannot unpack non-iterable NoneType object\n",
      "Failed to retrieve https://designkollective.com/stores/chic-home/products/58111, Status Code: 404\n",
      "Error processing https://designkollective.com/stores/chic-home/products/58111: cannot unpack non-iterable NoneType object\n",
      "Failed to retrieve https://designkollective.com/stores/chic-home/products/137602, Status Code: 404\n",
      "Error processing https://designkollective.com/stores/chic-home/products/137602: cannot unpack non-iterable NoneType object\n"
     ]
    },
    {
     "name": "stderr",
     "output_type": "stream",
     "text": [
      "Processing URLs:  15%|█▌        | 4500/30000 [03:39<17:56, 23.68it/s]"
     ]
    },
    {
     "name": "stdout",
     "output_type": "stream",
     "text": [
      "Failed to retrieve https://designkollective.com/stores/chic-home/products/137605, Status Code: 404\n",
      "Error processing https://designkollective.com/stores/chic-home/products/137605: cannot unpack non-iterable NoneType object\n",
      "Failed to retrieve https://designkollective.com/stores/chic-home/products/137608, Status Code: 404\n",
      "Error processing https://designkollective.com/stores/chic-home/products/137608: cannot unpack non-iterable NoneType object\n",
      "Failed to retrieve https://designkollective.com/stores/chic-home/products/137589, Status Code: 404\n",
      "Error processing https://designkollective.com/stores/chic-home/products/137589: cannot unpack non-iterable NoneType object\n",
      "Failed to retrieve https://designkollective.com/stores/chic-home/products/137628, Status Code: 404\n",
      "Error processing https://designkollective.com/stores/chic-home/products/137628: cannot unpack non-iterable NoneType object\n"
     ]
    },
    {
     "name": "stderr",
     "output_type": "stream",
     "text": [
      "Processing URLs:  15%|█▌        | 4510/30000 [03:40<14:58, 28.38it/s]"
     ]
    },
    {
     "name": "stdout",
     "output_type": "stream",
     "text": [
      "Failed to retrieve https://designkollective.com/stores/chic-home/products/137598, Status Code: 404\n",
      "Error processing https://designkollective.com/stores/chic-home/products/137598: cannot unpack non-iterable NoneType object\n",
      "Failed to retrieve https://designkollective.com/stores/chic-home/products/137640, Status Code: 404\n",
      "Error processing https://designkollective.com/stores/chic-home/products/137640: cannot unpack non-iterable NoneType object\n",
      "Failed to retrieve https://designkollective.com/stores/chic-home/products/137603, Status Code: 404\n",
      "Error processing https://designkollective.com/stores/chic-home/products/137603: cannot unpack non-iterable NoneType object\n",
      "Failed to retrieve https://designkollective.com/stores/chic-home/products/137611, Status Code: 404\n",
      "Error processing https://designkollective.com/stores/chic-home/products/137611: cannot unpack non-iterable NoneType object\n"
     ]
    },
    {
     "name": "stderr",
     "output_type": "stream",
     "text": [
      "Processing URLs:  15%|█▌        | 4514/30000 [03:40<14:35, 29.10it/s]"
     ]
    },
    {
     "name": "stdout",
     "output_type": "stream",
     "text": [
      "Failed to retrieve https://designkollective.com/stores/chic-home/products/137594, Status Code: 404\n",
      "Error processing https://designkollective.com/stores/chic-home/products/137594: cannot unpack non-iterable NoneType object\n"
     ]
    },
    {
     "name": "stderr",
     "output_type": "stream",
     "text": [
      "Processing URLs:  15%|█▌        | 4518/30000 [03:40<19:27, 21.82it/s]"
     ]
    },
    {
     "name": "stdout",
     "output_type": "stream",
     "text": [
      "Failed to retrieve https://designkollective.com/stores/chic-home/products/137613, Status Code: 404\n",
      "Error processing https://designkollective.com/stores/chic-home/products/137613: cannot unpack non-iterable NoneType object\n",
      "Failed to retrieve https://designkollective.com/stores/chic-home/products/137604, Status Code: 404\n",
      "Error processing https://designkollective.com/stores/chic-home/products/137604: cannot unpack non-iterable NoneType object\n",
      "Failed to retrieve https://designkollective.com/stores/chic-home/products/137634, Status Code: 404\n",
      "Error processing https://designkollective.com/stores/chic-home/products/137634: cannot unpack non-iterable NoneType object\n"
     ]
    },
    {
     "name": "stderr",
     "output_type": "stream",
     "text": [
      "Processing URLs:  15%|█▌        | 4534/30000 [03:41<14:07, 30.05it/s]"
     ]
    },
    {
     "name": "stdout",
     "output_type": "stream",
     "text": [
      "Failed to retrieve https://designkollective.com/stores/chic-home/products/137636, Status Code: 404\n",
      "Error processing https://designkollective.com/stores/chic-home/products/137636: cannot unpack non-iterable NoneType object\n",
      "Failed to retrieve https://designkollective.com/stores/chic-home/products/137627, Status Code: 404\n",
      "Error processing https://designkollective.com/stores/chic-home/products/137627: cannot unpack non-iterable NoneType object\n",
      "Failed to retrieve https://designkollective.com/stores/chic-home/products/137623, Status Code: 404\n",
      "Error processing https://designkollective.com/stores/chic-home/products/137623: cannot unpack non-iterable NoneType object\n",
      "Failed to retrieve https://designkollective.com/stores/chic-home/products/137637, Status Code: 404\n",
      "Error processing https://designkollective.com/stores/chic-home/products/137637: cannot unpack non-iterable NoneType object\n",
      "Failed to retrieve https://designkollective.com/stores/chic-home/products/137663, Status Code: 404\n",
      "Error processing https://designkollective.com/stores/chic-home/products/137663: cannot unpack non-iterable NoneType object\n"
     ]
    },
    {
     "name": "stderr",
     "output_type": "stream",
     "text": [
      "Processing URLs:  15%|█▌        | 4549/30000 [03:41<18:09, 23.36it/s]"
     ]
    },
    {
     "name": "stdout",
     "output_type": "stream",
     "text": [
      "Failed to retrieve https://designkollective.com/stores/chic-home/products/137670, Status Code: 404\n",
      "Error processing https://designkollective.com/stores/chic-home/products/137670: cannot unpack non-iterable NoneType object\n",
      "Failed to retrieve https://designkollective.com/stores/chic-home/products/137688, Status Code: 404\n",
      "Error processing https://designkollective.com/stores/chic-home/products/137688: cannot unpack non-iterable NoneType object\n",
      "Failed to retrieve https://designkollective.com/stores/chic-home/products/137619, Status Code: 404\n",
      "Error processing https://designkollective.com/stores/chic-home/products/137619: cannot unpack non-iterable NoneType object\n"
     ]
    },
    {
     "name": "stderr",
     "output_type": "stream",
     "text": [
      "Processing URLs:  15%|█▌        | 4553/30000 [03:42<16:19, 25.98it/s]"
     ]
    },
    {
     "name": "stdout",
     "output_type": "stream",
     "text": [
      "Failed to retrieve https://designkollective.com/stores/chic-home/products/137629, Status Code: 404\n",
      "Error processing https://designkollective.com/stores/chic-home/products/137629: cannot unpack non-iterable NoneType object\n",
      "Failed to retrieve https://designkollective.com/stores/chic-home/products/137638, Status Code: 404\n",
      "Error processing https://designkollective.com/stores/chic-home/products/137638: cannot unpack non-iterable NoneType object\n",
      "Failed to retrieve https://designkollective.com/stores/chic-home/products/137644, Status Code: 404\n",
      "Error processing https://designkollective.com/stores/chic-home/products/137644: cannot unpack non-iterable NoneType object\n",
      "Failed to retrieve https://designkollective.com/stores/chic-home/products/137678, Status Code: 404\n",
      "Failed to retrieve https://designkollective.com/stores/chic-home/products/137666, Status Code: 404\n",
      "Failed to retrieve https://designkollective.com/stores/chic-home/products/137671, Status Code: 404\n",
      "Error processing https://designkollective.com/stores/chic-home/products/137671: cannot unpack non-iterable NoneType object\n",
      "Error processing https://designkollective.com/stores/chic-home/products/137678: cannot unpack non-iterable NoneType object\n",
      "Error processing https://designkollective.com/stores/chic-home/products/137666: cannot unpack non-iterable NoneType object\n",
      "Failed to retrieve https://designkollective.com/stores/chic-home/products/137681, Status Code: 404\n",
      "Error processing https://designkollective.com/stores/chic-home/products/137681: cannot unpack non-iterable NoneType object\n",
      "Failed to retrieve https://designkollective.com/stores/chic-home/products/137679, Status Code: 404\n",
      "Error processing https://designkollective.com/stores/chic-home/products/137679: cannot unpack non-iterable NoneType object\n",
      "Failed to retrieve https://designkollective.com/stores/chic-home/products/137635, Status Code: 404\n",
      "Error processing https://designkollective.com/stores/chic-home/products/137635: cannot unpack non-iterable NoneType object\n",
      "Failed to retrieve https://designkollective.com/stores/chic-home/products/137641, Status Code: 404\n",
      "Error processing https://designkollective.com/stores/chic-home/products/137641: cannot unpack non-iterable NoneType object\n",
      "Failed to retrieve https://designkollective.com/stores/chic-home/products/137642, Status Code: 404\n",
      "Failed to retrieve https://designkollective.com/stores/chic-home/products/137648, Status Code: 404\n",
      "Error processing https://designkollective.com/stores/chic-home/products/137642: cannot unpack non-iterable NoneType object\n",
      "Failed to retrieve https://designkollective.com/stores/chic-home/products/137647, Status Code: 404\n",
      "Error processing https://designkollective.com/stores/chic-home/products/137648: cannot unpack non-iterable NoneType object\n",
      "Error processing https://designkollective.com/stores/chic-home/products/137647: cannot unpack non-iterable NoneType object\n",
      "Failed to retrieve https://designkollective.com/stores/chic-home/products/137646, Status Code: 404\n",
      "Error processing https://designkollective.com/stores/chic-home/products/137646: cannot unpack non-iterable NoneType object\n"
     ]
    },
    {
     "name": "stderr",
     "output_type": "stream",
     "text": [
      "Processing URLs:  15%|█▌        | 4572/30000 [03:42<09:43, 43.59it/s]"
     ]
    },
    {
     "name": "stdout",
     "output_type": "stream",
     "text": [
      "Failed to retrieve https://designkollective.com/stores/chic-home/products/137625, Status Code: 404\n",
      "Error processing https://designkollective.com/stores/chic-home/products/137625: cannot unpack non-iterable NoneType object\n",
      "Failed to retrieve https://designkollective.com/stores/chic-home/products/137669, Status Code: 404\n",
      "Error processing https://designkollective.com/stores/chic-home/products/137669: cannot unpack non-iterable NoneType object\n",
      "Failed to retrieve https://designkollective.com/stores/chic-home/products/137651, Status Code: 404\n",
      "Error processing https://designkollective.com/stores/chic-home/products/137651: cannot unpack non-iterable NoneType object\n"
     ]
    },
    {
     "name": "stderr",
     "output_type": "stream",
     "text": [
      "Processing URLs:  15%|█▌        | 4577/30000 [03:42<10:02, 42.22it/s]"
     ]
    },
    {
     "name": "stdout",
     "output_type": "stream",
     "text": [
      "Failed to retrieve https://designkollective.com/stores/chic-home/products/137653, Status Code: 404\n",
      "Error processing https://designkollective.com/stores/chic-home/products/137653: cannot unpack non-iterable NoneType object\n",
      "Failed to retrieve https://designkollective.com/stores/chic-home/products/137667, Status Code: 404\n",
      "Error processing https://designkollective.com/stores/chic-home/products/137667: cannot unpack non-iterable NoneType object\n",
      "Failed to retrieve https://designkollective.com/stores/chic-home/products/137657, Status Code: 404\n",
      "Error processing https://designkollective.com/stores/chic-home/products/137657: cannot unpack non-iterable NoneType object\n"
     ]
    },
    {
     "name": "stderr",
     "output_type": "stream",
     "text": [
      "Processing URLs:  15%|█▌        | 4582/30000 [03:42<13:37, 31.10it/s]"
     ]
    },
    {
     "name": "stdout",
     "output_type": "stream",
     "text": [
      "Failed to retrieve https://designkollective.com/stores/chic-home/products/137672, Status Code: 404\n",
      "Error processing https://designkollective.com/stores/chic-home/products/137672: cannot unpack non-iterable NoneType object\n",
      "Failed to retrieve https://designkollective.com/stores/chic-home/products/137668, Status Code: 404\n",
      "Error processing https://designkollective.com/stores/chic-home/products/137668: cannot unpack non-iterable NoneType object\n"
     ]
    },
    {
     "name": "stderr",
     "output_type": "stream",
     "text": [
      "Processing URLs:  15%|█▌        | 4590/30000 [03:43<15:47, 26.82it/s]"
     ]
    },
    {
     "name": "stdout",
     "output_type": "stream",
     "text": [
      "Failed to retrieve https://designkollective.com/stores/chic-home/products/137655, Status Code: 404\n",
      "Error processing https://designkollective.com/stores/chic-home/products/137655: cannot unpack non-iterable NoneType object\n",
      "Failed to retrieve https://designkollective.com/stores/chic-home/products/137685, Status Code: 404\n",
      "Error processing https://designkollective.com/stores/chic-home/products/137685: cannot unpack non-iterable NoneType object\n"
     ]
    },
    {
     "name": "stderr",
     "output_type": "stream",
     "text": [
      "Processing URLs:  15%|█▌        | 4597/30000 [03:43<17:10, 24.65it/s]"
     ]
    },
    {
     "name": "stdout",
     "output_type": "stream",
     "text": [
      "Failed to retrieve https://designkollective.com/stores/chic-home/products/137659, Status Code: 404\n",
      "Error processing https://designkollective.com/stores/chic-home/products/137659: cannot unpack non-iterable NoneType object\n"
     ]
    },
    {
     "name": "stderr",
     "output_type": "stream",
     "text": [
      "Processing URLs:  15%|█▌        | 4612/30000 [03:43<14:55, 28.36it/s]"
     ]
    },
    {
     "name": "stdout",
     "output_type": "stream",
     "text": [
      "Failed to retrieve https://designkollective.com/stores/chic-home/products/137660, Status Code: 404\n",
      "Error processing https://designkollective.com/stores/chic-home/products/137660: cannot unpack non-iterable NoneType object\n",
      "Failed to retrieve https://designkollective.com/stores/chic-home/products/137675, Status Code: 404\n",
      "Error processing https://designkollective.com/stores/chic-home/products/137675: cannot unpack non-iterable NoneType object\n",
      "Failed to retrieve https://designkollective.com/stores/chic-home/products/137662, Status Code: 404\n",
      "Error processing https://designkollective.com/stores/chic-home/products/137662: cannot unpack non-iterable NoneType object\n"
     ]
    },
    {
     "name": "stderr",
     "output_type": "stream",
     "text": [
      "Processing URLs:  15%|█▌        | 4618/30000 [03:44<16:30, 25.63it/s]"
     ]
    },
    {
     "name": "stdout",
     "output_type": "stream",
     "text": [
      "Failed to retrieve https://designkollective.com/stores/chic-home/products/137664, Status Code: 404\n",
      "Error processing https://designkollective.com/stores/chic-home/products/137664: cannot unpack non-iterable NoneType object\n"
     ]
    },
    {
     "name": "stderr",
     "output_type": "stream",
     "text": [
      "Processing URLs:  15%|█▌        | 4626/30000 [03:44<14:10, 29.85it/s]"
     ]
    },
    {
     "name": "stdout",
     "output_type": "stream",
     "text": [
      "Failed to retrieve https://designkollective.com/stores/chic-home/products/137673, Status Code: 404\n",
      "Error processing https://designkollective.com/stores/chic-home/products/137673: cannot unpack non-iterable NoneType object\n",
      "Failed to retrieve https://designkollective.com/stores/chic-home/products/137689, Status Code: 404\n",
      "Error processing https://designkollective.com/stores/chic-home/products/137689: cannot unpack non-iterable NoneType object\n",
      "Failed to retrieve https://designkollective.com/stores/chic-home/products/137686, Status Code: 404\n",
      "Error processing https://designkollective.com/stores/chic-home/products/137686: cannot unpack non-iterable NoneType object\n",
      "Failed to retrieve https://designkollective.com/stores/chic-home/products/137683, Status Code: 404\n",
      "Error processing https://designkollective.com/stores/chic-home/products/137683: cannot unpack non-iterable NoneType object\n",
      "Failed to retrieve https://designkollective.com/stores/chic-home/products/137674, Status Code: 404\n",
      "Error processing https://designkollective.com/stores/chic-home/products/137674: cannot unpack non-iterable NoneType object\n"
     ]
    },
    {
     "name": "stderr",
     "output_type": "stream",
     "text": [
      "Processing URLs:  15%|█▌        | 4635/30000 [03:44<18:55, 22.34it/s]"
     ]
    },
    {
     "name": "stdout",
     "output_type": "stream",
     "text": [
      "Failed to retrieve https://designkollective.com/stores/chic-home/products/137690, Status Code: 404\n",
      "Error processing https://designkollective.com/stores/chic-home/products/137690: cannot unpack non-iterable NoneType object\n"
     ]
    },
    {
     "name": "stderr",
     "output_type": "stream",
     "text": [
      "Processing URLs:  15%|█▌        | 4641/30000 [03:44<14:16, 29.61it/s]"
     ]
    },
    {
     "name": "stdout",
     "output_type": "stream",
     "text": [
      "Failed to retrieve https://designkollective.com/stores/chic-home/products/137695, Status Code: 404\n",
      "Error processing https://designkollective.com/stores/chic-home/products/137695: cannot unpack non-iterable NoneType object\n",
      "Failed to retrieve https://designkollective.com/stores/chic-home/products/137677, Status Code: 404\n",
      "Error processing https://designkollective.com/stores/chic-home/products/137677: cannot unpack non-iterable NoneType object\n",
      "Failed to retrieve https://designkollective.com/stores/chic-home/products/137676, Status Code: 404\n",
      "Error processing https://designkollective.com/stores/chic-home/products/137676: cannot unpack non-iterable NoneType object\n",
      "Failed to retrieve https://designkollective.com/stores/chic-home/products/137680, Status Code: 404\n",
      "Error processing https://designkollective.com/stores/chic-home/products/137680: cannot unpack non-iterable NoneType object\n",
      "Failed to retrieve https://designkollective.com/stores/chic-home/products/137682, Status Code: 404\n",
      "Error processing https://designkollective.com/stores/chic-home/products/137682: cannot unpack non-iterable NoneType object\n"
     ]
    },
    {
     "name": "stderr",
     "output_type": "stream",
     "text": [
      "Processing URLs:  16%|█▌        | 4653/30000 [03:45<15:13, 27.75it/s]"
     ]
    },
    {
     "name": "stdout",
     "output_type": "stream",
     "text": [
      "Failed to retrieve https://designkollective.com/stores/chic-home/products/137694, Status Code: 404\n",
      "Error processing https://designkollective.com/stores/chic-home/products/137694: cannot unpack non-iterable NoneType object\n"
     ]
    },
    {
     "name": "stderr",
     "output_type": "stream",
     "text": [
      "Processing URLs:  16%|█▌        | 4661/30000 [03:45<16:55, 24.95it/s]"
     ]
    },
    {
     "name": "stdout",
     "output_type": "stream",
     "text": [
      "Failed to retrieve https://designkollective.com/stores/chic-home/products/137691, Status Code: 404\n",
      "Error processing https://designkollective.com/stores/chic-home/products/137691: cannot unpack non-iterable NoneType object\n",
      "Failed to retrieve https://designkollective.com/stores/chic-home/products/137693, Status Code: 404\n",
      "Error processing https://designkollective.com/stores/chic-home/products/137693: cannot unpack non-iterable NoneType object\n",
      "Failed to retrieve https://designkollective.com/stores/chic-home/products/137705, Status Code: 404\n",
      "Error processing https://designkollective.com/stores/chic-home/products/137705: cannot unpack non-iterable NoneType object\n"
     ]
    },
    {
     "name": "stderr",
     "output_type": "stream",
     "text": [
      "Processing URLs:  16%|█▌        | 4672/30000 [03:46<12:27, 33.87it/s]"
     ]
    },
    {
     "name": "stdout",
     "output_type": "stream",
     "text": [
      "Failed to retrieve https://designkollective.com/stores/chic-home/products/137706, Status Code: 404\n",
      "Error processing https://designkollective.com/stores/chic-home/products/137706: cannot unpack non-iterable NoneType object\n",
      "Failed to retrieve https://designkollective.com/stores/chic-home/products/137711, Status Code: 404\n",
      "Failed to retrieve https://designkollective.com/stores/chic-home/products/137729, Status Code: 404\n",
      "Error processing https://designkollective.com/stores/chic-home/products/137711: cannot unpack non-iterable NoneType object\n",
      "Error processing https://designkollective.com/stores/chic-home/products/137729: cannot unpack non-iterable NoneType object\n",
      "Failed to retrieve https://designkollective.com/stores/chic-home/products/137707, Status Code: 404\n",
      "Error processing https://designkollective.com/stores/chic-home/products/137707: cannot unpack non-iterable NoneType object\n",
      "Failed to retrieve https://designkollective.com/stores/chic-home/products/137748, Status Code: 404\n",
      "Error processing https://designkollective.com/stores/chic-home/products/137748: cannot unpack non-iterable NoneType object\n"
     ]
    },
    {
     "name": "stderr",
     "output_type": "stream",
     "text": [
      "Processing URLs:  16%|█▌        | 4682/30000 [03:46<10:28, 40.30it/s]"
     ]
    },
    {
     "name": "stdout",
     "output_type": "stream",
     "text": [
      "Failed to retrieve https://designkollective.com/stores/chic-home/products/137717, Status Code: 404\n",
      "Error processing https://designkollective.com/stores/chic-home/products/137717: cannot unpack non-iterable NoneType object\n",
      "Failed to retrieve https://designkollective.com/stores/chic-home/products/99142, Status Code: 404\n",
      "Error processing https://designkollective.com/stores/chic-home/products/99142: cannot unpack non-iterable NoneType object\n",
      "Failed to retrieve https://designkollective.com/stores/chic-home/products/8013, Status Code: 404\n",
      "Error processing https://designkollective.com/stores/chic-home/products/8013: cannot unpack non-iterable NoneType object\n",
      "Failed to retrieve https://designkollective.com/stores/chic-home/products/137712, Status Code: 404\n",
      "Error processing https://designkollective.com/stores/chic-home/products/137712: cannot unpack non-iterable NoneType object\n",
      "Failed to retrieve https://designkollective.com/stores/chic-home/products/137720, Status Code: 404\n",
      "Error processing https://designkollective.com/stores/chic-home/products/137720: cannot unpack non-iterable NoneType object\n",
      "Failed to retrieve https://designkollective.com/stores/chic-home/products/137713, Status Code: 404\n",
      "Error processing https://designkollective.com/stores/chic-home/products/137713: cannot unpack non-iterable NoneType object\n",
      "Failed to retrieve https://designkollective.com/stores/chic-home/products/137696, Status Code: 404\n",
      "Error processing https://designkollective.com/stores/chic-home/products/137696: cannot unpack non-iterable NoneType object\n",
      "Failed to retrieve https://designkollective.com/stores/chic-home/products/137794, Status Code: 404\n",
      "Error processing https://designkollective.com/stores/chic-home/products/137794: cannot unpack non-iterable NoneType object\n",
      "Failed to retrieve https://designkollective.com/stores/chic-home/products/137708, Status Code: 404\n",
      "Error processing https://designkollective.com/stores/chic-home/products/137708: cannot unpack non-iterable NoneType object\n"
     ]
    },
    {
     "name": "stderr",
     "output_type": "stream",
     "text": [
      "Processing URLs:  16%|█▌        | 4687/30000 [03:46<11:41, 36.07it/s]"
     ]
    },
    {
     "name": "stdout",
     "output_type": "stream",
     "text": [
      "Failed to retrieve https://designkollective.com/stores/chic-home/products/137715, Status Code: 404\n",
      "Error processing https://designkollective.com/stores/chic-home/products/137715: cannot unpack non-iterable NoneType object\n",
      "Failed to retrieve https://designkollective.com/stores/chic-home/products/137710, Status Code: 404\n",
      "Error processing https://designkollective.com/stores/chic-home/products/137710: cannot unpack non-iterable NoneType object\n",
      "Failed to retrieve https://designkollective.com/stores/chic-home/products/137718, Status Code: 404\n",
      "Error processing https://designkollective.com/stores/chic-home/products/137718: cannot unpack non-iterable NoneType object\n",
      "Failed to retrieve https://designkollective.com/stores/chic-home/products/137716, Status Code: 404\n",
      "Error processing https://designkollective.com/stores/chic-home/products/137716: cannot unpack non-iterable NoneType object\n"
     ]
    },
    {
     "name": "stderr",
     "output_type": "stream",
     "text": [
      "Processing URLs:  16%|█▌        | 4695/30000 [03:46<14:45, 28.59it/s]"
     ]
    },
    {
     "name": "stdout",
     "output_type": "stream",
     "text": [
      "Failed to retrieve https://designkollective.com/stores/chic-home/products/137719, Status Code: 404\n",
      "Error processing https://designkollective.com/stores/chic-home/products/137719: cannot unpack non-iterable NoneType object\n",
      "Failed to retrieve https://designkollective.com/stores/chic-home/products/99167, Status Code: 404\n",
      "Error processing https://designkollective.com/stores/chic-home/products/99167: cannot unpack non-iterable NoneType object\n",
      "Failed to retrieve https://designkollective.com/stores/chic-home/products/137756, Status Code: 404\n",
      "Error processing https://designkollective.com/stores/chic-home/products/137756: cannot unpack non-iterable NoneType object\n",
      "Failed to retrieve https://designkollective.com/stores/chic-home/products/137736, Status Code: 404\n",
      "Error processing https://designkollective.com/stores/chic-home/products/137736: cannot unpack non-iterable NoneType object\n",
      "Failed to retrieve https://designkollective.com/stores/chic-home/products/137757, Status Code: 404\n",
      "Error processing https://designkollective.com/stores/chic-home/products/137757: cannot unpack non-iterable NoneType object\n",
      "Failed to retrieve https://designkollective.com/stores/chic-home/products/137714, Status Code: 404\n",
      "Error processing https://designkollective.com/stores/chic-home/products/137714: cannot unpack non-iterable NoneType object\n"
     ]
    },
    {
     "name": "stderr",
     "output_type": "stream",
     "text": [
      "Processing URLs:  16%|█▌        | 4707/30000 [03:47<16:56, 24.87it/s]"
     ]
    },
    {
     "name": "stdout",
     "output_type": "stream",
     "text": [
      "Failed to retrieve https://designkollective.com/stores/chic-home/products/137725, Status Code: 404\n",
      "Error processing https://designkollective.com/stores/chic-home/products/137725: cannot unpack non-iterable NoneType object\n",
      "Failed to retrieve https://designkollective.com/stores/chic-home/products/137743, Status Code: 404\n",
      "Error processing https://designkollective.com/stores/chic-home/products/137743: cannot unpack non-iterable NoneType object\n",
      "Failed to retrieve https://designkollective.com/stores/chic-home/products/137740, Status Code: 404\n",
      "Error processing https://designkollective.com/stores/chic-home/products/137740: cannot unpack non-iterable NoneType object\n",
      "Failed to retrieve https://designkollective.com/stores/chic-home/products/137730, Status Code: 404\n",
      "Error processing https://designkollective.com/stores/chic-home/products/137730: cannot unpack non-iterable NoneType object\n"
     ]
    },
    {
     "name": "stderr",
     "output_type": "stream",
     "text": [
      "Processing URLs:  16%|█▌        | 4719/30000 [03:47<16:20, 25.78it/s]"
     ]
    },
    {
     "name": "stdout",
     "output_type": "stream",
     "text": [
      "Failed to retrieve https://designkollective.com/stores/chic-home/products/137731, Status Code: 404\n",
      "Error processing https://designkollective.com/stores/chic-home/products/137731: cannot unpack non-iterable NoneType object\n"
     ]
    },
    {
     "name": "stderr",
     "output_type": "stream",
     "text": [
      "Processing URLs:  16%|█▌        | 4732/30000 [03:48<15:18, 27.50it/s]"
     ]
    },
    {
     "name": "stdout",
     "output_type": "stream",
     "text": [
      "Failed to retrieve https://designkollective.com/stores/chic-home/products/137727, Status Code: 404\n",
      "Error processing https://designkollective.com/stores/chic-home/products/137727: cannot unpack non-iterable NoneType object\n",
      "Failed to retrieve https://designkollective.com/stores/chic-home/products/137732, Status Code: 404\n",
      "Error processing https://designkollective.com/stores/chic-home/products/137732: cannot unpack non-iterable NoneType object\n"
     ]
    },
    {
     "name": "stderr",
     "output_type": "stream",
     "text": [
      "Processing URLs:  16%|█▌        | 4735/30000 [03:48<15:01, 28.02it/s]"
     ]
    },
    {
     "name": "stdout",
     "output_type": "stream",
     "text": [
      "Failed to retrieve https://designkollective.com/stores/chic-home/products/59555, Status Code: 404\n",
      "Error processing https://designkollective.com/stores/chic-home/products/59555: cannot unpack non-iterable NoneType object\n"
     ]
    },
    {
     "name": "stderr",
     "output_type": "stream",
     "text": [
      "Processing URLs:  16%|█▌        | 4744/30000 [03:48<14:24, 29.23it/s]"
     ]
    },
    {
     "name": "stdout",
     "output_type": "stream",
     "text": [
      "Failed to retrieve https://designkollective.com/stores/chic-home/products/59515, Status Code: 404\n",
      "Error processing https://designkollective.com/stores/chic-home/products/59515: cannot unpack non-iterable NoneType object\n",
      "Failed to retrieve https://designkollective.com/stores/chic-home/products/59519, Status Code: 404\n",
      "Error processing https://designkollective.com/stores/chic-home/products/59519: cannot unpack non-iterable NoneType object\n"
     ]
    },
    {
     "name": "stderr",
     "output_type": "stream",
     "text": [
      "Processing URLs:  16%|█▌        | 4755/30000 [03:49<14:18, 29.39it/s]"
     ]
    },
    {
     "name": "stdout",
     "output_type": "stream",
     "text": [
      "Failed to retrieve https://designkollective.com/stores/chic-home/products/59482, Status Code: 404\n",
      "Error processing https://designkollective.com/stores/chic-home/products/59482: cannot unpack non-iterable NoneType object\n",
      "Failed to retrieve https://designkollective.com/stores/chic-home/products/59535, Status Code: 404\n",
      "Error processing https://designkollective.com/stores/chic-home/products/59535: cannot unpack non-iterable NoneType object\n",
      "Failed to retrieve https://designkollective.com/stores/chic-home/products/137763, Status Code: 404\n",
      "Error processing https://designkollective.com/stores/chic-home/products/137763: cannot unpack non-iterable NoneType object\n",
      "Failed to retrieve https://designkollective.com/stores/chic-home/products/59547, Status Code: 404\n",
      "Error processing https://designkollective.com/stores/chic-home/products/59547: cannot unpack non-iterable NoneType object\n",
      "Failed to retrieve https://designkollective.com/stores/chic-home/products/59579, Status Code: 404\n"
     ]
    },
    {
     "name": "stderr",
     "output_type": "stream",
     "text": [
      "Processing URLs:  16%|█▌        | 4764/30000 [03:49<12:55, 32.55it/s]"
     ]
    },
    {
     "name": "stdout",
     "output_type": "stream",
     "text": [
      "Error processing https://designkollective.com/stores/chic-home/products/59579: cannot unpack non-iterable NoneType object\n",
      "Failed to retrieve https://designkollective.com/stores/chic-home/products/137796, Status Code: 404\n",
      "Error processing https://designkollective.com/stores/chic-home/products/137796: cannot unpack non-iterable NoneType object\n",
      "Failed to retrieve https://designkollective.com/stores/chic-home/products/59476, Status Code: 404\n",
      "Error processing https://designkollective.com/stores/chic-home/products/59476: cannot unpack non-iterable NoneType object\n",
      "Failed to retrieve https://designkollective.com/stores/chic-home/products/59514, Status Code: 404\n",
      "Error processing https://designkollective.com/stores/chic-home/products/59514: cannot unpack non-iterable NoneType object\n",
      "Failed to retrieve https://designkollective.com/stores/chic-home/products/59536, Status Code: 404\n",
      "Error processing https://designkollective.com/stores/chic-home/products/59536: cannot unpack non-iterable NoneType object\n"
     ]
    },
    {
     "name": "stderr",
     "output_type": "stream",
     "text": [
      "Processing URLs:  16%|█▌        | 4772/30000 [03:49<14:41, 28.63it/s]"
     ]
    },
    {
     "name": "stdout",
     "output_type": "stream",
     "text": [
      "Failed to retrieve https://designkollective.com/stores/chic-home/products/137739, Status Code: 404\n",
      "Error processing https://designkollective.com/stores/chic-home/products/137739: cannot unpack non-iterable NoneType object\n",
      "Failed to retrieve https://designkollective.com/stores/chic-home/products/59517, Status Code: 404\n",
      "Error processing https://designkollective.com/stores/chic-home/products/59517: cannot unpack non-iterable NoneType object\n",
      "Failed to retrieve https://designkollective.com/stores/chic-home/products/59484, Status Code: 404\n",
      "Error processing https://designkollective.com/stores/chic-home/products/59484: cannot unpack non-iterable NoneType object\n",
      "Failed to retrieve https://designkollective.com/stores/chic-home/products/59618, Status Code: 404\n",
      "Failed to retrieve https://designkollective.com/stores/chic-home/products/59642, Status Code: 404\n",
      "Error processing https://designkollective.com/stores/chic-home/products/59618: cannot unpack non-iterable NoneType object\n",
      "Error processing https://designkollective.com/stores/chic-home/products/59642: cannot unpack non-iterable NoneType object\n",
      "Failed to retrieve https://designkollective.com/stores/chic-home/products/59520, Status Code: 404\n",
      "Error processing https://designkollective.com/stores/chic-home/products/59520: cannot unpack non-iterable NoneType object\n"
     ]
    },
    {
     "name": "stderr",
     "output_type": "stream",
     "text": [
      "Processing URLs:  16%|█▌        | 4784/30000 [03:50<14:14, 29.52it/s]"
     ]
    },
    {
     "name": "stdout",
     "output_type": "stream",
     "text": [
      "Failed to retrieve https://designkollective.com/stores/chic-home/products/59537, Status Code: 404\n",
      "Error processing https://designkollective.com/stores/chic-home/products/59537: cannot unpack non-iterable NoneType object\n",
      "Failed to retrieve https://designkollective.com/stores/chic-home/products/59477, Status Code: 404\n",
      "Error processing https://designkollective.com/stores/chic-home/products/59477: cannot unpack non-iterable NoneType object\n",
      "Failed to retrieve https://designkollective.com/stores/chic-home/products/59502, Status Code: 404\n",
      "Error processing https://designkollective.com/stores/chic-home/products/59502: cannot unpack non-iterable NoneType object\n"
     ]
    },
    {
     "name": "stderr",
     "output_type": "stream",
     "text": [
      "Processing URLs:  16%|█▌        | 4788/30000 [03:50<15:54, 26.41it/s]"
     ]
    },
    {
     "name": "stdout",
     "output_type": "stream",
     "text": [
      "Failed to retrieve https://designkollective.com/stores/chic-home/products/59661, Status Code: 404\n",
      "Error processing https://designkollective.com/stores/chic-home/products/59661: cannot unpack non-iterable NoneType object\n",
      "Failed to retrieve https://designkollective.com/stores/chic-home/products/59479, Status Code: 404\n",
      "Failed to retrieve https://designkollective.com/stores/chic-home/products/59588, Status Code: 404\n",
      "Error processing https://designkollective.com/stores/chic-home/products/59479: cannot unpack non-iterable NoneType object\n",
      "Error processing https://designkollective.com/stores/chic-home/products/59588: cannot unpack non-iterable NoneType object\n",
      "Failed to retrieve https://designkollective.com/stores/chic-home/products/59516, Status Code: 404\n",
      "Error processing https://designkollective.com/stores/chic-home/products/59516: cannot unpack non-iterable NoneType object\n"
     ]
    },
    {
     "name": "stderr",
     "output_type": "stream",
     "text": [
      "Processing URLs:  16%|█▌        | 4798/30000 [03:50<12:50, 32.69it/s]"
     ]
    },
    {
     "name": "stdout",
     "output_type": "stream",
     "text": [
      "Failed to retrieve https://designkollective.com/stores/chic-home/products/59490, Status Code: 404\n",
      "Error processing https://designkollective.com/stores/chic-home/products/59490: cannot unpack non-iterable NoneType object\n",
      "Failed to retrieve https://designkollective.com/stores/chic-home/products/59590, Status Code: 404\n",
      "Error processing https://designkollective.com/stores/chic-home/products/59590: cannot unpack non-iterable NoneType object\n",
      "Failed to retrieve https://designkollective.com/stores/chic-home/products/59622, Status Code: 404\n",
      "Error processing https://designkollective.com/stores/chic-home/products/59622: cannot unpack non-iterable NoneType object\n",
      "Failed to retrieve https://designkollective.com/stores/chic-home/products/59575, Status Code: 404\n",
      "Error processing https://designkollective.com/stores/chic-home/products/59575: cannot unpack non-iterable NoneType object\n"
     ]
    },
    {
     "name": "stderr",
     "output_type": "stream",
     "text": [
      "Processing URLs:  16%|█▌        | 4806/30000 [03:50<12:40, 33.12it/s]"
     ]
    },
    {
     "name": "stdout",
     "output_type": "stream",
     "text": [
      "Failed to retrieve https://designkollective.com/stores/chic-home/products/59582, Status Code: 404\n",
      "Error processing https://designkollective.com/stores/chic-home/products/59582: cannot unpack non-iterable NoneType object\n",
      "Failed to retrieve https://designkollective.com/stores/chic-home/products/59657, Status Code: 404\n",
      "Error processing https://designkollective.com/stores/chic-home/products/59657: cannot unpack non-iterable NoneType object\n"
     ]
    },
    {
     "name": "stderr",
     "output_type": "stream",
     "text": [
      "Processing URLs:  16%|█▌        | 4816/30000 [03:51<14:03, 29.86it/s]"
     ]
    },
    {
     "name": "stdout",
     "output_type": "stream",
     "text": [
      "Failed to retrieve https://designkollective.com/stores/chic-home/products/59614, Status Code: 404\n",
      "Error processing https://designkollective.com/stores/chic-home/products/59614: cannot unpack non-iterable NoneType object\n",
      "Failed to retrieve https://designkollective.com/stores/chic-home/products/59574, Status Code: 404\n",
      "Failed to retrieve https://designkollective.com/stores/chic-home/products/59644, Status Code: 404\n",
      "Error processing https://designkollective.com/stores/chic-home/products/59574: cannot unpack non-iterable NoneType object\n",
      "Failed to retrieve https://designkollective.com/stores/chic-home/products/59603, Status Code: 404\n",
      "Error processing https://designkollective.com/stores/chic-home/products/59644: cannot unpack non-iterable NoneType object\n",
      "Error processing https://designkollective.com/stores/chic-home/products/59603: cannot unpack non-iterable NoneType object\n",
      "Failed to retrieve https://designkollective.com/stores/chic-home/products/59628, Status Code: 404\n",
      "Error processing https://designkollective.com/stores/chic-home/products/59628: cannot unpack non-iterable NoneType object\n"
     ]
    },
    {
     "name": "stderr",
     "output_type": "stream",
     "text": [
      "Processing URLs:  16%|█▌        | 4820/30000 [03:51<14:07, 29.70it/s]"
     ]
    },
    {
     "name": "stdout",
     "output_type": "stream",
     "text": [
      "Failed to retrieve https://designkollective.com/stores/chic-home/products/59605, Status Code: 404\n",
      "Error processing https://designkollective.com/stores/chic-home/products/59605: cannot unpack non-iterable NoneType object\n",
      "Failed to retrieve https://designkollective.com/stores/chic-home/products/59664, Status Code: 404\n",
      "Error processing https://designkollective.com/stores/chic-home/products/59664: cannot unpack non-iterable NoneType object\n",
      "Failed to retrieve https://designkollective.com/stores/chic-home/products/59613, Status Code: 404\n",
      "Error processing https://designkollective.com/stores/chic-home/products/59613: cannot unpack non-iterable NoneType object\n",
      "Failed to retrieve https://designkollective.com/stores/chic-home/products/59611, Status Code: 404\n",
      "Error processing https://designkollective.com/stores/chic-home/products/59611: cannot unpack non-iterable NoneType object\n",
      "Failed to retrieve https://designkollective.com/stores/chic-home/products/59615, Status Code: 404\n",
      "Error processing https://designkollective.com/stores/chic-home/products/59615: cannot unpack non-iterable NoneType object\n"
     ]
    },
    {
     "name": "stderr",
     "output_type": "stream",
     "text": [
      "Processing URLs:  16%|█▌        | 4826/30000 [03:51<13:45, 30.48it/s]"
     ]
    },
    {
     "name": "stdout",
     "output_type": "stream",
     "text": [
      "Failed to retrieve https://designkollective.com/stores/chic-home/products/59665, Status Code: 404\n",
      "Error processing https://designkollective.com/stores/chic-home/products/59665: cannot unpack non-iterable NoneType object\n"
     ]
    },
    {
     "name": "stderr",
     "output_type": "stream",
     "text": [
      "Processing URLs:  16%|█▌        | 4838/30000 [03:51<12:30, 33.52it/s]"
     ]
    },
    {
     "name": "stdout",
     "output_type": "stream",
     "text": [
      "Failed to retrieve https://designkollective.com/stores/chic-home/products/59580, Status Code: 404\n",
      "Error processing https://designkollective.com/stores/chic-home/products/59580: cannot unpack non-iterable NoneType object\n",
      "Failed to retrieve https://designkollective.com/stores/chic-home/products/59658, Status Code: 404\n",
      "Error processing https://designkollective.com/stores/chic-home/products/59658: cannot unpack non-iterable NoneType object\n",
      "Failed to retrieve https://designkollective.com/stores/chic-home/products/59670, Status Code: 404\n",
      "Error processing https://designkollective.com/stores/chic-home/products/59670: cannot unpack non-iterable NoneType object\n",
      "Failed to retrieve https://designkollective.com/stores/chic-home/products/59578, Status Code: 404\n",
      "Error processing https://designkollective.com/stores/chic-home/products/59578: cannot unpack non-iterable NoneType object\n",
      "Failed to retrieve https://designkollective.com/stores/chic-home/products/59639, Status Code: 404\n",
      "Failed to retrieve https://designkollective.com/stores/chic-home/products/59577, Status Code: 404\n",
      "Error processing https://designkollective.com/stores/chic-home/products/59639: cannot unpack non-iterable NoneType object\n",
      "Error processing https://designkollective.com/stores/chic-home/products/59577: cannot unpack non-iterable NoneType object\n",
      "Failed to retrieve https://designkollective.com/stores/chic-home/products/59572, Status Code: 404\n",
      "Error processing https://designkollective.com/stores/chic-home/products/59572: cannot unpack non-iterable NoneType object\n",
      "Failed to retrieve https://designkollective.com/stores/chic-home/products/59559, Status Code: 404\n",
      "Error processing https://designkollective.com/stores/chic-home/products/59559: cannot unpack non-iterable NoneType object\n",
      "Failed to retrieve https://designkollective.com/stores/chic-home/products/59617, Status Code: 404\n",
      "Error processing https://designkollective.com/stores/chic-home/products/59617: cannot unpack non-iterable NoneType object\n",
      "Failed to retrieve https://designkollective.com/stores/chic-home/products/59558, Status Code: 404\n",
      "Error processing https://designkollective.com/stores/chic-home/products/59558: cannot unpack non-iterable NoneType object\n"
     ]
    },
    {
     "name": "stderr",
     "output_type": "stream",
     "text": [
      "Processing URLs:  16%|█▌        | 4843/30000 [03:51<11:28, 36.57it/s]"
     ]
    },
    {
     "name": "stdout",
     "output_type": "stream",
     "text": [
      "Failed to retrieve https://designkollective.com/stores/chic-home/products/59621, Status Code: 404\n",
      "Error processing https://designkollective.com/stores/chic-home/products/59621: cannot unpack non-iterable NoneType object\n",
      "Failed to retrieve https://designkollective.com/stores/chic-home/products/59625, Status Code: 404\n",
      "Error processing https://designkollective.com/stores/chic-home/products/59625: cannot unpack non-iterable NoneType object\n",
      "Failed to retrieve https://designkollective.com/stores/chic-home/products/59587, Status Code: 404\n",
      "Error processing https://designkollective.com/stores/chic-home/products/59587: cannot unpack non-iterable NoneType object\n",
      "Failed to retrieve https://designkollective.com/stores/chic-home/products/59624, Status Code: 404\n",
      "Error processing https://designkollective.com/stores/chic-home/products/59624: cannot unpack non-iterable NoneType object\n",
      "Failed to retrieve https://designkollective.com/stores/chic-home/products/59594, Status Code: 404\n",
      "Error processing https://designkollective.com/stores/chic-home/products/59594: cannot unpack non-iterable NoneType object\n"
     ]
    },
    {
     "name": "stderr",
     "output_type": "stream",
     "text": [
      "Processing URLs:  16%|█▌        | 4858/30000 [03:52<14:50, 28.22it/s]"
     ]
    },
    {
     "name": "stdout",
     "output_type": "stream",
     "text": [
      "Failed to retrieve https://designkollective.com/stores/chic-home/products/59646, Status Code: 404\n",
      "Error processing https://designkollective.com/stores/chic-home/products/59646: cannot unpack non-iterable NoneType object\n",
      "Failed to retrieve https://designkollective.com/stores/chic-home/products/59593, Status Code: 404\n",
      "Error processing https://designkollective.com/stores/chic-home/products/59593: cannot unpack non-iterable NoneType object\n",
      "Failed to retrieve https://designkollective.com/stores/chic-home/products/59637, Status Code: 404\n",
      "Error processing https://designkollective.com/stores/chic-home/products/59637: cannot unpack non-iterable NoneType object\n",
      "Failed to retrieve https://designkollective.com/stores/chic-home/products/59600, Status Code: 404\n",
      "Error processing https://designkollective.com/stores/chic-home/products/59600: cannot unpack non-iterable NoneType object\n",
      "Failed to retrieve https://designkollective.com/stores/chic-home/products/59627, Status Code: 404\n",
      "Error processing https://designkollective.com/stores/chic-home/products/59627: cannot unpack non-iterable NoneType object\n",
      "Failed to retrieve https://designkollective.com/stores/chic-home/products/59583, Status Code: 404\n",
      "Error processing https://designkollective.com/stores/chic-home/products/59583: cannot unpack non-iterable NoneType object\n"
     ]
    },
    {
     "name": "stderr",
     "output_type": "stream",
     "text": [
      "Processing URLs:  16%|█▌        | 4866/30000 [03:52<13:04, 32.03it/s]"
     ]
    },
    {
     "name": "stdout",
     "output_type": "stream",
     "text": [
      "Failed to retrieve https://designkollective.com/stores/chic-home/products/59586, Status Code: 404\n",
      "Error processing https://designkollective.com/stores/chic-home/products/59586: cannot unpack non-iterable NoneType object\n",
      "Failed to retrieve https://designkollective.com/stores/chic-home/products/59660, Status Code: 404\n",
      "Error processing https://designkollective.com/stores/chic-home/products/59660: cannot unpack non-iterable NoneType object\n",
      "Failed to retrieve https://designkollective.com/stores/chic-home/products/59640, Status Code: 404\n",
      "Error processing https://designkollective.com/stores/chic-home/products/59640: cannot unpack non-iterable NoneType object\n"
     ]
    },
    {
     "name": "stderr",
     "output_type": "stream",
     "text": [
      "Processing URLs:  16%|█▌        | 4870/30000 [03:52<13:11, 31.77it/s]"
     ]
    },
    {
     "name": "stdout",
     "output_type": "stream",
     "text": [
      "Failed to retrieve https://designkollective.com/stores/chic-home/products/137746, Status Code: 404\n",
      "Error processing https://designkollective.com/stores/chic-home/products/137746: cannot unpack non-iterable NoneType object\n"
     ]
    },
    {
     "name": "stderr",
     "output_type": "stream",
     "text": [
      "Processing URLs:  16%|█▋        | 4880/30000 [03:53<14:08, 29.59it/s]"
     ]
    },
    {
     "name": "stdout",
     "output_type": "stream",
     "text": [
      "Failed to retrieve https://designkollective.com/stores/chic-home/products/59620, Status Code: 404\n",
      "Error processing https://designkollective.com/stores/chic-home/products/59620: cannot unpack non-iterable NoneType object\n",
      "Failed to retrieve https://designkollective.com/stores/chic-home/products/137744, Status Code: 404\n",
      "Error processing https://designkollective.com/stores/chic-home/products/137744: cannot unpack non-iterable NoneType object\n",
      "Failed to retrieve https://designkollective.com/stores/chic-home/products/59653, Status Code: 404\n",
      "Error processing https://designkollective.com/stores/chic-home/products/59653: cannot unpack non-iterable NoneType object\n",
      "Failed to retrieve https://designkollective.com/stores/chic-home/products/59623, Status Code: 404\n",
      "Error processing https://designkollective.com/stores/chic-home/products/59623: cannot unpack non-iterable NoneType object\n",
      "Failed to retrieve https://designkollective.com/stores/chic-home/products/59656, Status Code: 404\n",
      "Error processing https://designkollective.com/stores/chic-home/products/59656: cannot unpack non-iterable NoneType object\n",
      "Failed to retrieve https://designkollective.com/stores/chic-home/products/59641, Status Code: 404\n",
      "Error processing https://designkollective.com/stores/chic-home/products/59641: cannot unpack non-iterable NoneType object\n",
      "Failed to retrieve https://designkollective.com/stores/chic-home/products/59599, Status Code: 404\n",
      "Error processing https://designkollective.com/stores/chic-home/products/59599: cannot unpack non-iterable NoneType object\n"
     ]
    },
    {
     "name": "stderr",
     "output_type": "stream",
     "text": [
      "Processing URLs:  16%|█▋        | 4892/30000 [03:53<15:21, 27.25it/s]"
     ]
    },
    {
     "name": "stdout",
     "output_type": "stream",
     "text": [
      "Failed to retrieve https://designkollective.com/stores/chic-home/products/60442, Status Code: 404\n",
      "Error processing https://designkollective.com/stores/chic-home/products/60442: cannot unpack non-iterable NoneType object\n",
      "Failed to retrieve https://designkollective.com/stores/chic-home/products/59650, Status Code: 404\n",
      "Error processing https://designkollective.com/stores/chic-home/products/59650: cannot unpack non-iterable NoneType object\n"
     ]
    },
    {
     "name": "stderr",
     "output_type": "stream",
     "text": [
      "Processing URLs:  16%|█▋        | 4904/30000 [03:54<15:10, 27.55it/s]"
     ]
    },
    {
     "name": "stdout",
     "output_type": "stream",
     "text": [
      "Failed to retrieve https://designkollective.com/stores/chic-home/products/137770, Status Code: 404\n",
      "Error processing https://designkollective.com/stores/chic-home/products/137770: cannot unpack non-iterable NoneType object\n"
     ]
    },
    {
     "name": "stderr",
     "output_type": "stream",
     "text": [
      "Processing URLs:  16%|█▋        | 4910/30000 [03:54<16:10, 25.85it/s]"
     ]
    },
    {
     "name": "stdout",
     "output_type": "stream",
     "text": [
      "Failed to retrieve https://designkollective.com/stores/chic-home/products/137751, Status Code: 404\n",
      "Error processing https://designkollective.com/stores/chic-home/products/137751: cannot unpack non-iterable NoneType object\n",
      "Failed to retrieve https://designkollective.com/stores/chic-home/products/137753, Status Code: 404\n",
      "Error processing https://designkollective.com/stores/chic-home/products/137753: cannot unpack non-iterable NoneType object\n",
      "Failed to retrieve https://designkollective.com/stores/chic-home/products/137771, Status Code: 404\n",
      "Error processing https://designkollective.com/stores/chic-home/products/137771: cannot unpack non-iterable NoneType object\n",
      "Failed to retrieve https://designkollective.com/stores/chic-home/products/137749, Status Code: 404\n"
     ]
    },
    {
     "name": "stderr",
     "output_type": "stream",
     "text": [
      "Processing URLs:  16%|█▋        | 4919/30000 [03:54<12:42, 32.89it/s]"
     ]
    },
    {
     "name": "stdout",
     "output_type": "stream",
     "text": [
      "Error processing https://designkollective.com/stores/chic-home/products/137749: cannot unpack non-iterable NoneType object\n",
      "Failed to retrieve https://designkollective.com/stores/chic-home/products/137755, Status Code: 404\n",
      "Error processing https://designkollective.com/stores/chic-home/products/137755: cannot unpack non-iterable NoneType object\n",
      "Failed to retrieve https://designkollective.com/stores/chic-home/products/137761, Status Code: 404\n",
      "Error processing https://designkollective.com/stores/chic-home/products/137761: cannot unpack non-iterable NoneType object\n",
      "Failed to retrieve https://designkollective.com/stores/chic-home/products/137762, Status Code: 404\n",
      "Error processing https://designkollective.com/stores/chic-home/products/137762: cannot unpack non-iterable NoneType object\n",
      "Failed to retrieve https://designkollective.com/stores/chic-home/products/137797, Status Code: 404\n",
      "Error processing https://designkollective.com/stores/chic-home/products/137797: cannot unpack non-iterable NoneType object\n",
      "Failed to retrieve https://designkollective.com/stores/chic-home/products/137764, Status Code: 404\n",
      "Error processing https://designkollective.com/stores/chic-home/products/137764: cannot unpack non-iterable NoneType object\n"
     ]
    },
    {
     "name": "stderr",
     "output_type": "stream",
     "text": [
      "Processing URLs:  16%|█▋        | 4930/30000 [03:55<14:06, 29.63it/s]"
     ]
    },
    {
     "name": "stdout",
     "output_type": "stream",
     "text": [
      "Failed to retrieve https://designkollective.com/stores/chic-home/products/137766, Status Code: 404\n",
      "Error processing https://designkollective.com/stores/chic-home/products/137766: cannot unpack non-iterable NoneType object\n",
      "Failed to retrieve https://designkollective.com/stores/chic-home/products/137759, Status Code: 404\n",
      "Error processing https://designkollective.com/stores/chic-home/products/137759: cannot unpack non-iterable NoneType object\n",
      "Failed to retrieve https://designkollective.com/stores/chic-home/products/137758, Status Code: 404\n",
      "Error processing https://designkollective.com/stores/chic-home/products/137758: cannot unpack non-iterable NoneType object\n"
     ]
    },
    {
     "name": "stderr",
     "output_type": "stream",
     "text": [
      "Processing URLs:  16%|█▋        | 4935/30000 [03:55<12:33, 33.25it/s]"
     ]
    },
    {
     "name": "stdout",
     "output_type": "stream",
     "text": [
      "Failed to retrieve https://designkollective.com/stores/chic-home/products/60446, Status Code: 404\n",
      "Error processing https://designkollective.com/stores/chic-home/products/60446: cannot unpack non-iterable NoneType object\n",
      "Failed to retrieve https://designkollective.com/stores/chic-home/products/137774, Status Code: 404\n",
      "Error processing https://designkollective.com/stores/chic-home/products/137774: cannot unpack non-iterable NoneType object\n",
      "Failed to retrieve https://designkollective.com/stores/chic-home/products/137773, Status Code: 404\n",
      "Error processing https://designkollective.com/stores/chic-home/products/137773: cannot unpack non-iterable NoneType object\n",
      "Failed to retrieve https://designkollective.com/stores/chic-home/products/137801, Status Code: 404\n",
      "Error processing https://designkollective.com/stores/chic-home/products/137801: cannot unpack non-iterable NoneType object\n",
      "Failed to retrieve https://designkollective.com/stores/chic-home/products/137772, Status Code: 404\n",
      "Failed to retrieve https://designkollective.com/stores/chic-home/products/137760, Status Code: 404\n",
      "Error processing https://designkollective.com/stores/chic-home/products/137772: cannot unpack non-iterable NoneType object\n",
      "Error processing https://designkollective.com/stores/chic-home/products/137760: cannot unpack non-iterable NoneType object\n",
      "Failed to retrieve https://designkollective.com/stores/chic-home/products/137777, Status Code: 404\n",
      "Failed to retrieve https://designkollective.com/stores/chic-home/products/60181, Status Code: 404\n",
      "Error processing https://designkollective.com/stores/chic-home/products/137777: cannot unpack non-iterable NoneType object\n",
      "Error processing https://designkollective.com/stores/chic-home/products/60181: cannot unpack non-iterable NoneType object\n"
     ]
    },
    {
     "name": "stderr",
     "output_type": "stream",
     "text": [
      "Processing URLs:  17%|█▋        | 4951/30000 [03:55<12:11, 34.23it/s]"
     ]
    },
    {
     "name": "stdout",
     "output_type": "stream",
     "text": [
      "Failed to retrieve https://designkollective.com/stores/chic-home/products/137795, Status Code: 404\n",
      "Error processing https://designkollective.com/stores/chic-home/products/137795: cannot unpack non-iterable NoneType object\n",
      "Failed to retrieve https://designkollective.com/stores/chic-home/products/137769, Status Code: 404\n",
      "Error processing https://designkollective.com/stores/chic-home/products/137769: cannot unpack non-iterable NoneType object\n",
      "Failed to retrieve https://designkollective.com/stores/chic-home/products/137790, Status Code: 404\n",
      "Error processing https://designkollective.com/stores/chic-home/products/137790: cannot unpack non-iterable NoneType object\n",
      "Failed to retrieve https://designkollective.com/stores/chic-home/products/137765, Status Code: 404\n",
      "Error processing https://designkollective.com/stores/chic-home/products/137765: cannot unpack non-iterable NoneType object\n",
      "Failed to retrieve https://designkollective.com/stores/chic-home/products/137780, Status Code: 404\n",
      "Failed to retrieve https://designkollective.com/stores/chic-home/products/137776, Status Code: 404\n",
      "Error processing https://designkollective.com/stores/chic-home/products/137776: cannot unpack non-iterable NoneType object\n",
      "Error processing https://designkollective.com/stores/chic-home/products/137780: cannot unpack non-iterable NoneType object\n",
      "Failed to retrieve https://designkollective.com/stores/chic-home/products/60178, Status Code: 404\n",
      "Error processing https://designkollective.com/stores/chic-home/products/60178: cannot unpack non-iterable NoneType object\n",
      "Failed to retrieve https://designkollective.com/stores/chic-home/products/60166, Status Code: 404\n",
      "Error processing https://designkollective.com/stores/chic-home/products/60166: cannot unpack non-iterable NoneType object\n",
      "Failed to retrieve https://designkollective.com/stores/chic-home/products/137778, Status Code: 404\n",
      "Error processing https://designkollective.com/stores/chic-home/products/137778: cannot unpack non-iterable NoneType object\n"
     ]
    },
    {
     "name": "stderr",
     "output_type": "stream",
     "text": [
      "Processing URLs:  17%|█▋        | 4961/30000 [03:56<12:59, 32.13it/s]"
     ]
    },
    {
     "name": "stdout",
     "output_type": "stream",
     "text": [
      "Failed to retrieve https://designkollective.com/stores/chic-home/products/60197, Status Code: 404\n",
      "Error processing https://designkollective.com/stores/chic-home/products/60197: cannot unpack non-iterable NoneType object\n",
      "Failed to retrieve https://designkollective.com/stores/chic-home/products/60195, Status Code: 404\n",
      "Error processing https://designkollective.com/stores/chic-home/products/60195: cannot unpack non-iterable NoneType object\n",
      "Failed to retrieve https://designkollective.com/stores/chic-home/products/137781, Status Code: 404\n",
      "Error processing https://designkollective.com/stores/chic-home/products/137781: cannot unpack non-iterable NoneType object\n",
      "Failed to retrieve https://designkollective.com/stores/chic-home/products/60169, Status Code: 404\n",
      "Error processing https://designkollective.com/stores/chic-home/products/60169: cannot unpack non-iterable NoneType object\n",
      "Failed to retrieve https://designkollective.com/stores/chic-home/products/60179, Status Code: 404\n",
      "Error processing https://designkollective.com/stores/chic-home/products/60179: cannot unpack non-iterable NoneType object\n",
      "Failed to retrieve https://designkollective.com/stores/chic-home/products/60198, Status Code: 404\n",
      "Error processing https://designkollective.com/stores/chic-home/products/60198: cannot unpack non-iterable NoneType object\n"
     ]
    },
    {
     "name": "stderr",
     "output_type": "stream",
     "text": [
      "Processing URLs:  17%|█▋        | 4968/30000 [03:56<11:06, 37.56it/s]"
     ]
    },
    {
     "name": "stdout",
     "output_type": "stream",
     "text": [
      "Failed to retrieve https://designkollective.com/stores/chic-home/products/137793, Status Code: 404\n",
      "Error processing https://designkollective.com/stores/chic-home/products/137793: cannot unpack non-iterable NoneType object\n",
      "Failed to retrieve https://designkollective.com/stores/chic-home/products/60154, Status Code: 404\n",
      "Error processing https://designkollective.com/stores/chic-home/products/60154: cannot unpack non-iterable NoneType object\n",
      "Failed to retrieve https://designkollective.com/stores/chic-home/products/60176, Status Code: 404\n",
      "Error processing https://designkollective.com/stores/chic-home/products/60176: cannot unpack non-iterable NoneType object\n",
      "Failed to retrieve https://designkollective.com/stores/chic-home/products/60151, Status Code: 404\n",
      "Error processing https://designkollective.com/stores/chic-home/products/60151: cannot unpack non-iterable NoneType object\n",
      "Failed to retrieve https://designkollective.com/stores/chic-home/products/60164, Status Code: 404\n",
      "Error processing https://designkollective.com/stores/chic-home/products/60164: cannot unpack non-iterable NoneType object\n",
      "Failed to retrieve https://designkollective.com/stores/chic-home/products/60171, Status Code: 404\n",
      "Error processing https://designkollective.com/stores/chic-home/products/60171: cannot unpack non-iterable NoneType object\n",
      "Failed to retrieve https://designkollective.com/stores/chic-home/products/137787, Status Code: 404\n",
      "Error processing https://designkollective.com/stores/chic-home/products/137787: cannot unpack non-iterable NoneType object\n",
      "Failed to retrieve https://designkollective.com/stores/chic-home/products/137785, Status Code: 404\n",
      "Failed to retrieve https://designkollective.com/stores/chic-home/products/137802, Status Code: 404\n",
      "Error processing https://designkollective.com/stores/chic-home/products/137785: cannot unpack non-iterable NoneType object\n",
      "Error processing https://designkollective.com/stores/chic-home/products/137802: cannot unpack non-iterable NoneType object\n",
      "Failed to retrieve https://designkollective.com/stores/chic-home/products/60445, Status Code: 404\n",
      "Error processing https://designkollective.com/stores/chic-home/products/60445: cannot unpack non-iterable NoneType object\n",
      "Failed to retrieve https://designkollective.com/stores/chic-home/products/137804, Status Code: 404\n",
      "Error processing https://designkollective.com/stores/chic-home/products/137804: cannot unpack non-iterable NoneType object\n",
      "Failed to retrieve https://designkollective.com/stores/chic-home/products/137779, Status Code: 404\n",
      "Error processing https://designkollective.com/stores/chic-home/products/137779: cannot unpack non-iterable NoneType object\n",
      "Failed to retrieve https://designkollective.com/stores/chic-home/products/60150, Status Code: 404\n",
      "Error processing https://designkollective.com/stores/chic-home/products/60150: cannot unpack non-iterable NoneType object\n"
     ]
    },
    {
     "name": "stderr",
     "output_type": "stream",
     "text": [
      "Processing URLs:  17%|█▋        | 4976/30000 [03:56<09:21, 44.60it/s]"
     ]
    },
    {
     "name": "stdout",
     "output_type": "stream",
     "text": [
      "Failed to retrieve https://designkollective.com/stores/chic-home/products/137798, Status Code: 404\n",
      "Error processing https://designkollective.com/stores/chic-home/products/137798: cannot unpack non-iterable NoneType object\n"
     ]
    },
    {
     "name": "stderr",
     "output_type": "stream",
     "text": [
      "Processing URLs:  17%|█▋        | 4982/30000 [03:56<12:41, 32.84it/s]"
     ]
    },
    {
     "name": "stdout",
     "output_type": "stream",
     "text": [
      "Failed to retrieve https://designkollective.com/stores/chic-home/products/137800, Status Code: 404\n",
      "Error processing https://designkollective.com/stores/chic-home/products/137800: cannot unpack non-iterable NoneType object\n",
      "Failed to retrieve https://designkollective.com/stores/chic-home/products/60453, Status Code: 404\n",
      "Error processing https://designkollective.com/stores/chic-home/products/60453: cannot unpack non-iterable NoneType object\n",
      "Failed to retrieve https://designkollective.com/stores/chic-home/products/137789, Status Code: 404\n",
      "Failed to retrieve https://designkollective.com/stores/chic-home/products/137803, Status Code: 404\n",
      "Error processing https://designkollective.com/stores/chic-home/products/137789: cannot unpack non-iterable NoneType object\n",
      "Error processing https://designkollective.com/stores/chic-home/products/137803: cannot unpack non-iterable NoneType object\n",
      "Failed to retrieve https://designkollective.com/stores/chic-home/products/60449, Status Code: 404\n",
      "Error processing https://designkollective.com/stores/chic-home/products/60449: cannot unpack non-iterable NoneType object\n",
      "Failed to retrieve https://designkollective.com/stores/chic-home/products/60200, Status Code: 404\n",
      "Error processing https://designkollective.com/stores/chic-home/products/60200: cannot unpack non-iterable NoneType object\n",
      "Failed to retrieve https://designkollective.com/stores/chic-home/products/137806, Status Code: 404\n",
      "Error processing https://designkollective.com/stores/chic-home/products/137806: cannot unpack non-iterable NoneType object\n",
      "Failed to retrieve https://designkollective.com/stores/chic-home/products/137810, Status Code: 404\n",
      "Error processing https://designkollective.com/stores/chic-home/products/137810: cannot unpack non-iterable NoneType object\n",
      "Failed to retrieve https://designkollective.com/stores/chic-home/products/137809, Status Code: 404\n",
      "Error processing https://designkollective.com/stores/chic-home/products/137809: cannot unpack non-iterable NoneType object\n",
      "Failed to retrieve https://designkollective.com/stores/chic-home/products/137799, Status Code: 404\n",
      "Error processing https://designkollective.com/stores/chic-home/products/137799: cannot unpack non-iterable NoneType object\n"
     ]
    },
    {
     "name": "stderr",
     "output_type": "stream",
     "text": [
      "Processing URLs:  17%|█▋        | 4987/30000 [03:56<14:48, 28.14it/s]"
     ]
    },
    {
     "name": "stdout",
     "output_type": "stream",
     "text": [
      "Failed to retrieve https://designkollective.com/stores/chic-home/products/137807, Status Code: 404\n",
      "Error processing https://designkollective.com/stores/chic-home/products/137807: cannot unpack non-iterable NoneType object\n",
      "Failed to retrieve https://designkollective.com/stores/chic-home/products/60586, Status Code: 404\n",
      "Error processing https://designkollective.com/stores/chic-home/products/60586: cannot unpack non-iterable NoneType object\n",
      "Failed to retrieve https://designkollective.com/stores/chic-home/products/60451, Status Code: 404\n",
      "Error processing https://designkollective.com/stores/chic-home/products/60451: cannot unpack non-iterable NoneType object\n"
     ]
    },
    {
     "name": "stderr",
     "output_type": "stream",
     "text": [
      "Processing URLs:  17%|█▋        | 4994/30000 [03:57<20:07, 20.70it/s]"
     ]
    },
    {
     "name": "stdout",
     "output_type": "stream",
     "text": [
      "Failed to retrieve https://designkollective.com/stores/chic-home/products/60443, Status Code: 404\n",
      "Error processing https://designkollective.com/stores/chic-home/products/60443: cannot unpack non-iterable NoneType object\n"
     ]
    },
    {
     "name": "stderr",
     "output_type": "stream",
     "text": [
      "Processing URLs:  17%|█▋        | 5002/30000 [03:57<17:06, 24.34it/s]"
     ]
    },
    {
     "name": "stdout",
     "output_type": "stream",
     "text": [
      "Failed to retrieve https://designkollective.com/stores/chic-home/products/60444, Status Code: 404\n",
      "Error processing https://designkollective.com/stores/chic-home/products/60444: cannot unpack non-iterable NoneType object\n",
      "Failed to retrieve https://designkollective.com/stores/chic-home/products/60452, Status Code: 404\n",
      "Error processing https://designkollective.com/stores/chic-home/products/60452: cannot unpack non-iterable NoneType object\n"
     ]
    },
    {
     "name": "stderr",
     "output_type": "stream",
     "text": [
      "Processing URLs:  17%|█▋        | 5010/30000 [03:57<13:51, 30.07it/s]"
     ]
    },
    {
     "name": "stdout",
     "output_type": "stream",
     "text": [
      "Failed to retrieve https://designkollective.com/stores/chic-home/products/60461, Status Code: 404\n",
      "Error processing https://designkollective.com/stores/chic-home/products/60461: cannot unpack non-iterable NoneType object\n",
      "Failed to retrieve https://designkollective.com/stores/chic-home/products/60460, Status Code: 404\n",
      "Error processing https://designkollective.com/stores/chic-home/products/60460: cannot unpack non-iterable NoneType object\n",
      "Failed to retrieve https://designkollective.com/stores/chic-home/products/60450, Status Code: 404\n",
      "Failed to retrieve https://designkollective.com/stores/chic-home/products/60458, Status Code: 404\n",
      "Error processing https://designkollective.com/stores/chic-home/products/60450: cannot unpack non-iterable NoneType object\n",
      "Error processing https://designkollective.com/stores/chic-home/products/60458: cannot unpack non-iterable NoneType object\n",
      "Failed to retrieve https://designkollective.com/stores/chic-home/products/60572, Status Code: 404\n",
      "Error processing https://designkollective.com/stores/chic-home/products/60572: cannot unpack non-iterable NoneType object\n"
     ]
    },
    {
     "name": "stderr",
     "output_type": "stream",
     "text": [
      "Processing URLs:  17%|█▋        | 5018/30000 [03:58<13:49, 30.10it/s]"
     ]
    },
    {
     "name": "stdout",
     "output_type": "stream",
     "text": [
      "Failed to retrieve https://designkollective.com/stores/chic-home/products/57237, Status Code: 404\n",
      "Error processing https://designkollective.com/stores/chic-home/products/57237: cannot unpack non-iterable NoneType object\n",
      "Failed to retrieve https://designkollective.com/stores/chic-home/products/60569, Status Code: 404\n",
      "Error processing https://designkollective.com/stores/chic-home/products/60569: cannot unpack non-iterable NoneType object\n",
      "Failed to retrieve https://designkollective.com/stores/chic-home/products/60459, Status Code: 404\n",
      "Error processing https://designkollective.com/stores/chic-home/products/60459: cannot unpack non-iterable NoneType object\n",
      "Failed to retrieve https://designkollective.com/stores/chic-home/products/60582, Status Code: 404\n"
     ]
    },
    {
     "name": "stderr",
     "output_type": "stream",
     "text": [
      "Processing URLs:  17%|█▋        | 5032/30000 [03:58<11:22, 36.60it/s]"
     ]
    },
    {
     "name": "stdout",
     "output_type": "stream",
     "text": [
      "Error processing https://designkollective.com/stores/chic-home/products/60582: cannot unpack non-iterable NoneType object\n",
      "Failed to retrieve https://designkollective.com/stores/chic-home/products/60577, Status Code: 404\n",
      "Error processing https://designkollective.com/stores/chic-home/products/60577: cannot unpack non-iterable NoneType object\n",
      "Failed to retrieve https://designkollective.com/stores/chic-home/products/60612, Status Code: 404\n",
      "Error processing https://designkollective.com/stores/chic-home/products/60612: cannot unpack non-iterable NoneType object\n",
      "Failed to retrieve https://designkollective.com/stores/chic-home/products/60583, Status Code: 404\n",
      "Error processing https://designkollective.com/stores/chic-home/products/60583: cannot unpack non-iterable NoneType object\n",
      "Failed to retrieve https://designkollective.com/stores/chic-home/products/60570, Status Code: 404\n",
      "Error processing https://designkollective.com/stores/chic-home/products/60570: cannot unpack non-iterable NoneType object\n"
     ]
    },
    {
     "name": "stderr",
     "output_type": "stream",
     "text": [
      "Processing URLs:  17%|█▋        | 5037/30000 [03:58<11:50, 35.11it/s]"
     ]
    },
    {
     "name": "stdout",
     "output_type": "stream",
     "text": [
      "Failed to retrieve https://designkollective.com/stores/chic-home/products/60576, Status Code: 404\n",
      "Error processing https://designkollective.com/stores/chic-home/products/60576: cannot unpack non-iterable NoneType object\n",
      "Failed to retrieve https://designkollective.com/stores/chic-home/products/60588, Status Code: 404\n",
      "Error processing https://designkollective.com/stores/chic-home/products/60588: cannot unpack non-iterable NoneType object\n",
      "Failed to retrieve https://designkollective.com/stores/chic-home/products/60603, Status Code: 404\n",
      "Failed to retrieve https://designkollective.com/stores/chic-home/products/60575, Status Code: 404\n",
      "Error processing https://designkollective.com/stores/chic-home/products/60603: cannot unpack non-iterable NoneType object\n",
      "Error processing https://designkollective.com/stores/chic-home/products/60575: cannot unpack non-iterable NoneType object\n"
     ]
    },
    {
     "name": "stderr",
     "output_type": "stream",
     "text": [
      "Processing URLs:  17%|█▋        | 5045/30000 [03:58<11:55, 34.89it/s]"
     ]
    },
    {
     "name": "stdout",
     "output_type": "stream",
     "text": [
      "Failed to retrieve https://designkollective.com/stores/chic-home/products/60581, Status Code: 404\n",
      "Error processing https://designkollective.com/stores/chic-home/products/60581: cannot unpack non-iterable NoneType object\n",
      "Failed to retrieve https://designkollective.com/stores/chic-home/products/60609, Status Code: 404\n",
      "Error processing https://designkollective.com/stores/chic-home/products/60609: cannot unpack non-iterable NoneType object\n",
      "Failed to retrieve https://designkollective.com/stores/chic-home/products/60605, Status Code: 404\n",
      "Error processing https://designkollective.com/stores/chic-home/products/60605: cannot unpack non-iterable NoneType object\n"
     ]
    },
    {
     "name": "stderr",
     "output_type": "stream",
     "text": [
      "Processing URLs:  17%|█▋        | 5050/30000 [03:58<12:07, 34.31it/s]"
     ]
    },
    {
     "name": "stdout",
     "output_type": "stream",
     "text": [
      "Failed to retrieve https://designkollective.com/stores/chic-home/products/60608, Status Code: 404\n",
      "Error processing https://designkollective.com/stores/chic-home/products/60608: cannot unpack non-iterable NoneType object\n",
      "Failed to retrieve https://designkollective.com/stores/chic-home/products/60619, Status Code: 404\n",
      "Error processing https://designkollective.com/stores/chic-home/products/60619: cannot unpack non-iterable NoneType object\n",
      "Failed to retrieve https://designkollective.com/stores/chic-home/products/60627, Status Code: 404\n",
      "Error processing https://designkollective.com/stores/chic-home/products/60627: cannot unpack non-iterable NoneType object\n"
     ]
    },
    {
     "name": "stderr",
     "output_type": "stream",
     "text": [
      "Processing URLs:  17%|█▋        | 5060/30000 [03:59<12:59, 32.01it/s]"
     ]
    },
    {
     "name": "stdout",
     "output_type": "stream",
     "text": [
      "Failed to retrieve https://designkollective.com/stores/chic-home/products/60568, Status Code: 404\n",
      "Error processing https://designkollective.com/stores/chic-home/products/60568: cannot unpack non-iterable NoneType object\n",
      "Failed to retrieve https://designkollective.com/stores/chic-home/products/60618, Status Code: 404\n",
      "Failed to retrieve https://designkollective.com/stores/chic-home/products/60621, Status Code: 404\n",
      "Error processing https://designkollective.com/stores/chic-home/products/60618: cannot unpack non-iterable NoneType object\n",
      "Error processing https://designkollective.com/stores/chic-home/products/60621: cannot unpack non-iterable NoneType object\n",
      "Failed to retrieve https://designkollective.com/stores/chic-home/products/60613, Status Code: 404\n",
      "Error processing https://designkollective.com/stores/chic-home/products/60613: cannot unpack non-iterable NoneType object\n",
      "Failed to retrieve https://designkollective.com/stores/chic-home/products/60585, Status Code: 404\n",
      "Error processing https://designkollective.com/stores/chic-home/products/60585: cannot unpack non-iterable NoneType object\n"
     ]
    },
    {
     "name": "stderr",
     "output_type": "stream",
     "text": [
      "Processing URLs:  17%|█▋        | 5076/30000 [04:00<17:31, 23.71it/s]"
     ]
    },
    {
     "name": "stdout",
     "output_type": "stream",
     "text": [
      "Failed to retrieve https://designkollective.com/stores/chic-home/products/60624, Status Code: 404\n",
      "Error processing https://designkollective.com/stores/chic-home/products/60624: cannot unpack non-iterable NoneType object\n"
     ]
    },
    {
     "name": "stderr",
     "output_type": "stream",
     "text": [
      "Processing URLs:  17%|█▋        | 5090/30000 [04:00<15:17, 27.14it/s]"
     ]
    },
    {
     "name": "stdout",
     "output_type": "stream",
     "text": [
      "Failed to retrieve https://designkollective.com/stores/chic-home/products/60625, Status Code: 404\n",
      "Error processing https://designkollective.com/stores/chic-home/products/60625: cannot unpack non-iterable NoneType object\n",
      "Failed to retrieve https://designkollective.com/stores/chic-home/products/57309, Status Code: 404\n",
      "Error processing https://designkollective.com/stores/chic-home/products/57309: cannot unpack non-iterable NoneType object\n"
     ]
    },
    {
     "name": "stderr",
     "output_type": "stream",
     "text": [
      "Processing URLs:  17%|█▋        | 5189/30000 [04:04<15:29, 26.69it/s]"
     ]
    },
    {
     "name": "stdout",
     "output_type": "stream",
     "text": [
      "Failed to retrieve https://designkollective.com/stores/chic-home/products/61216, Status Code: 404\n",
      "Error processing https://designkollective.com/stores/chic-home/products/61216: cannot unpack non-iterable NoneType object\n"
     ]
    },
    {
     "name": "stderr",
     "output_type": "stream",
     "text": [
      "Processing URLs:  17%|█▋        | 5202/30000 [04:05<16:25, 25.18it/s]"
     ]
    },
    {
     "name": "stdout",
     "output_type": "stream",
     "text": [
      "Failed to retrieve https://designkollective.com/stores/chic-home/products/61220, Status Code: 404\n",
      "Error processing https://designkollective.com/stores/chic-home/products/61220: cannot unpack non-iterable NoneType object\n"
     ]
    },
    {
     "name": "stderr",
     "output_type": "stream",
     "text": [
      "Processing URLs:  17%|█▋        | 5242/30000 [04:06<14:43, 28.02it/s]"
     ]
    },
    {
     "name": "stdout",
     "output_type": "stream",
     "text": [
      "Failed to retrieve https://designkollective.com/stores/chic-home/products/61222, Status Code: 404\n",
      "Error processing https://designkollective.com/stores/chic-home/products/61222: cannot unpack non-iterable NoneType object\n"
     ]
    },
    {
     "name": "stderr",
     "output_type": "stream",
     "text": [
      "Processing URLs:  17%|█▋        | 5248/30000 [04:06<16:13, 25.42it/s]"
     ]
    },
    {
     "name": "stdout",
     "output_type": "stream",
     "text": [
      "Failed to retrieve https://designkollective.com/stores/chic-home/products/61223, Status Code: 404\n",
      "Error processing https://designkollective.com/stores/chic-home/products/61223: cannot unpack non-iterable NoneType object\n"
     ]
    },
    {
     "name": "stderr",
     "output_type": "stream",
     "text": [
      "Processing URLs:  18%|█▊        | 5258/30000 [04:07<13:22, 30.84it/s]"
     ]
    },
    {
     "name": "stdout",
     "output_type": "stream",
     "text": [
      "Failed to retrieve https://designkollective.com/stores/chic-home/products/61215, Status Code: 404\n",
      "Error processing https://designkollective.com/stores/chic-home/products/61215: cannot unpack non-iterable NoneType object\n",
      "Failed to retrieve https://designkollective.com/stores/chic-home/products/61213, Status Code: 404\n",
      "Error processing https://designkollective.com/stores/chic-home/products/61213: cannot unpack non-iterable NoneType object\n",
      "Failed to retrieve https://designkollective.com/stores/chic-home/products/61219, Status Code: 404\n",
      "Error processing https://designkollective.com/stores/chic-home/products/61219: cannot unpack non-iterable NoneType object\n",
      "Failed to retrieve https://designkollective.com/stores/chic-home/products/61217, Status Code: 404\n",
      "Error processing https://designkollective.com/stores/chic-home/products/61217: cannot unpack non-iterable NoneType object\n",
      "Failed to retrieve https://designkollective.com/stores/chic-home/products/61267, Status Code: 404\n",
      "Error processing https://designkollective.com/stores/chic-home/products/61267: cannot unpack non-iterable NoneType object\n"
     ]
    },
    {
     "name": "stderr",
     "output_type": "stream",
     "text": [
      "Processing URLs:  18%|█▊        | 5284/30000 [04:08<17:35, 23.41it/s]"
     ]
    },
    {
     "name": "stdout",
     "output_type": "stream",
     "text": [
      "Failed to retrieve https://designkollective.com/stores/chic-home/products/61265, Status Code: 404\n",
      "Error processing https://designkollective.com/stores/chic-home/products/61265: cannot unpack non-iterable NoneType object\n"
     ]
    },
    {
     "name": "stderr",
     "output_type": "stream",
     "text": [
      "Processing URLs:  18%|█▊        | 5320/30000 [04:09<16:29, 24.95it/s]"
     ]
    },
    {
     "name": "stdout",
     "output_type": "stream",
     "text": [
      "Failed to retrieve https://designkollective.com/stores/chic-home/products/61484, Status Code: 404\n",
      "Error processing https://designkollective.com/stores/chic-home/products/61484: cannot unpack non-iterable NoneType object\n",
      "Failed to retrieve https://designkollective.com/stores/chic-home/products/61467, Status Code: 404\n",
      "Error processing https://designkollective.com/stores/chic-home/products/61467: cannot unpack non-iterable NoneType object\n"
     ]
    },
    {
     "name": "stderr",
     "output_type": "stream",
     "text": [
      "Processing URLs:  18%|█▊        | 5333/30000 [04:09<10:35, 38.80it/s]"
     ]
    },
    {
     "name": "stdout",
     "output_type": "stream",
     "text": [
      "Failed to retrieve https://designkollective.com/stores/chic-home/products/61511, Status Code: 404\n",
      "Error processing https://designkollective.com/stores/chic-home/products/61511: cannot unpack non-iterable NoneType object\n",
      "Failed to retrieve https://designkollective.com/stores/chic-home/products/61491, Status Code: 404\n",
      "Error processing https://designkollective.com/stores/chic-home/products/61491: cannot unpack non-iterable NoneType object\n",
      "Failed to retrieve https://designkollective.com/stores/chic-home/products/61492, Status Code: 404\n",
      "Error processing https://designkollective.com/stores/chic-home/products/61492: cannot unpack non-iterable NoneType object\n",
      "Failed to retrieve https://designkollective.com/stores/chic-home/products/61469, Status Code: 404\n",
      "Failed to retrieve https://designkollective.com/stores/chic-home/products/61475, Status Code: 404\n",
      "Error processing https://designkollective.com/stores/chic-home/products/61469: cannot unpack non-iterable NoneType object\n",
      "Error processing https://designkollective.com/stores/chic-home/products/61475: cannot unpack non-iterable NoneType object\n",
      "Failed to retrieve https://designkollective.com/stores/chic-home/products/61490, Status Code: 404\n",
      "Error processing https://designkollective.com/stores/chic-home/products/61490: cannot unpack non-iterable NoneType object\n",
      "Failed to retrieve https://designkollective.com/stores/chic-home/products/61510, Status Code: 404\n",
      "Error processing https://designkollective.com/stores/chic-home/products/61510: cannot unpack non-iterable NoneType object\n",
      "Failed to retrieve https://designkollective.com/stores/chic-home/products/61483, Status Code: 404\n",
      "Error processing https://designkollective.com/stores/chic-home/products/61483: cannot unpack non-iterable NoneType object\n",
      "Failed to retrieve https://designkollective.com/stores/chic-home/products/61487, Status Code: 404\n",
      "Error processing https://designkollective.com/stores/chic-home/products/61487: cannot unpack non-iterable NoneType object\n",
      "Failed to retrieve https://designkollective.com/stores/chic-home/products/61476, Status Code: 404\n",
      "Error processing https://designkollective.com/stores/chic-home/products/61476: cannot unpack non-iterable NoneType object\n",
      "Failed to retrieve https://designkollective.com/stores/chic-home/products/61474, Status Code: 404\n",
      "Error processing https://designkollective.com/stores/chic-home/products/61474: cannot unpack non-iterable NoneType object\n"
     ]
    },
    {
     "name": "stderr",
     "output_type": "stream",
     "text": [
      "Processing URLs:  18%|█▊        | 5346/30000 [04:10<08:52, 46.28it/s]"
     ]
    },
    {
     "name": "stdout",
     "output_type": "stream",
     "text": [
      "Failed to retrieve https://designkollective.com/stores/chic-home/products/61489, Status Code: 404\n",
      "Error processing https://designkollective.com/stores/chic-home/products/61489: cannot unpack non-iterable NoneType object\n",
      "Failed to retrieve https://designkollective.com/stores/chic-home/products/61493, Status Code: 404\n",
      "Error processing https://designkollective.com/stores/chic-home/products/61493: cannot unpack non-iterable NoneType object\n",
      "Failed to retrieve https://designkollective.com/stores/chic-home/products/61513, Status Code: 404\n",
      "Error processing https://designkollective.com/stores/chic-home/products/61513: cannot unpack non-iterable NoneType object\n",
      "Failed to retrieve https://designkollective.com/stores/chic-home/products/61512, Status Code: 404\n",
      "Error processing https://designkollective.com/stores/chic-home/products/61512: cannot unpack non-iterable NoneType object\n",
      "Failed to retrieve https://designkollective.com/stores/chic-home/products/61488, Status Code: 404\n",
      "Failed to retrieve https://designkollective.com/stores/chic-home/products/61494, Status Code: 404\n",
      "Error processing https://designkollective.com/stores/chic-home/products/61488: cannot unpack non-iterable NoneType object\n",
      "Error processing https://designkollective.com/stores/chic-home/products/61494: cannot unpack non-iterable NoneType object\n"
     ]
    },
    {
     "name": "stderr",
     "output_type": "stream",
     "text": [
      "Processing URLs:  18%|█▊        | 5351/30000 [04:10<10:44, 38.23it/s]"
     ]
    },
    {
     "name": "stdout",
     "output_type": "stream",
     "text": [
      "Failed to retrieve https://designkollective.com/stores/chic-home/products/61507, Status Code: 404\n",
      "Error processing https://designkollective.com/stores/chic-home/products/61507: cannot unpack non-iterable NoneType object\n",
      "Failed to retrieve https://designkollective.com/stores/chic-home/products/61485, Status Code: 404\n",
      "Error processing https://designkollective.com/stores/chic-home/products/61485: cannot unpack non-iterable NoneType object\n"
     ]
    },
    {
     "name": "stderr",
     "output_type": "stream",
     "text": [
      "Processing URLs:  18%|█▊        | 5466/30000 [04:15<16:42, 24.48it/s]"
     ]
    },
    {
     "name": "stdout",
     "output_type": "stream",
     "text": [
      "Failed to retrieve https://designkollective.com/stores/chic-home/products/62143, Status Code: 404\n",
      "Error processing https://designkollective.com/stores/chic-home/products/62143: cannot unpack non-iterable NoneType object\n",
      "Failed to retrieve https://designkollective.com/stores/chic-home/products/62142, Status Code: 404\n",
      "Error processing https://designkollective.com/stores/chic-home/products/62142: cannot unpack non-iterable NoneType object\n"
     ]
    },
    {
     "name": "stderr",
     "output_type": "stream",
     "text": [
      "Processing URLs:  18%|█▊        | 5530/30000 [04:18<13:38, 29.89it/s]"
     ]
    },
    {
     "name": "stdout",
     "output_type": "stream",
     "text": [
      "Failed to retrieve https://designkollective.com/stores/chic-home/products/62712, Status Code: 404\n",
      "Error processing https://designkollective.com/stores/chic-home/products/62712: cannot unpack non-iterable NoneType object\n",
      "Failed to retrieve https://designkollective.com/stores/chic-home/products/62673, Status Code: 404\n",
      "Error processing https://designkollective.com/stores/chic-home/products/62673: cannot unpack non-iterable NoneType object\n",
      "Failed to retrieve https://designkollective.com/stores/chic-home/products/62677, Status Code: 404\n",
      "Error processing https://designkollective.com/stores/chic-home/products/62677: cannot unpack non-iterable NoneType object\n",
      "Failed to retrieve https://designkollective.com/stores/chic-home/products/62722, Status Code: 404\n",
      "Error processing https://designkollective.com/stores/chic-home/products/62722: cannot unpack non-iterable NoneType object\n"
     ]
    },
    {
     "name": "stderr",
     "output_type": "stream",
     "text": [
      "Processing URLs:  18%|█▊        | 5539/30000 [04:18<12:14, 33.30it/s]"
     ]
    },
    {
     "name": "stdout",
     "output_type": "stream",
     "text": [
      "Failed to retrieve https://designkollective.com/stores/chic-home/products/62683, Status Code: 404\n",
      "Error processing https://designkollective.com/stores/chic-home/products/62683: cannot unpack non-iterable NoneType object\n",
      "Failed to retrieve https://designkollective.com/stores/chic-home/products/62667, Status Code: 404\n",
      "Error processing https://designkollective.com/stores/chic-home/products/62667: cannot unpack non-iterable NoneType object\n"
     ]
    },
    {
     "name": "stderr",
     "output_type": "stream",
     "text": [
      "Processing URLs:  18%|█▊        | 5547/30000 [04:18<12:45, 31.94it/s]"
     ]
    },
    {
     "name": "stdout",
     "output_type": "stream",
     "text": [
      "Failed to retrieve https://designkollective.com/stores/chic-home/products/62726, Status Code: 404\n",
      "Error processing https://designkollective.com/stores/chic-home/products/62726: cannot unpack non-iterable NoneType object\n",
      "Failed to retrieve https://designkollective.com/stores/chic-home/products/62741, Status Code: 404\n",
      "Error processing https://designkollective.com/stores/chic-home/products/62741: cannot unpack non-iterable NoneType object\n",
      "Failed to retrieve https://designkollective.com/stores/chic-home/products/62731, Status Code: 404\n",
      "Error processing https://designkollective.com/stores/chic-home/products/62731: cannot unpack non-iterable NoneType object\n",
      "Failed to retrieve https://designkollective.com/stores/chic-home/products/62676, Status Code: 404\n",
      "Error processing https://designkollective.com/stores/chic-home/products/62676: cannot unpack non-iterable NoneType object\n",
      "Failed to retrieve https://designkollective.com/stores/chic-home/products/62740, Status Code: 404\n",
      "Failed to retrieve https://designkollective.com/stores/chic-home/products/62733, Status Code: 404\n",
      "Error processing https://designkollective.com/stores/chic-home/products/62733: cannot unpack non-iterable NoneType object\n",
      "Error processing https://designkollective.com/stores/chic-home/products/62740: cannot unpack non-iterable NoneType object\n",
      "Failed to retrieve https://designkollective.com/stores/chic-home/products/62669, Status Code: 404\n",
      "Error processing https://designkollective.com/stores/chic-home/products/62669: cannot unpack non-iterable NoneType object\n"
     ]
    },
    {
     "name": "stderr",
     "output_type": "stream",
     "text": [
      "Processing URLs:  19%|█▊        | 5560/30000 [04:18<09:17, 43.83it/s]"
     ]
    },
    {
     "name": "stdout",
     "output_type": "stream",
     "text": [
      "Failed to retrieve https://designkollective.com/stores/chic-home/products/62742, Status Code: 404\n",
      "Failed to retrieve https://designkollective.com/stores/chic-home/products/62734, Status Code: 404\n",
      "Error processing https://designkollective.com/stores/chic-home/products/62742: cannot unpack non-iterable NoneType object\n",
      "Error processing https://designkollective.com/stores/chic-home/products/62734: cannot unpack non-iterable NoneType object\n",
      "Failed to retrieve https://designkollective.com/stores/chic-home/products/62723, Status Code: 404\n",
      "Error processing https://designkollective.com/stores/chic-home/products/62723: cannot unpack non-iterable NoneType object\n",
      "Failed to retrieve https://designkollective.com/stores/chic-home/products/62666, Status Code: 404\n",
      "Error processing https://designkollective.com/stores/chic-home/products/62666: cannot unpack non-iterable NoneType object\n",
      "Failed to retrieve https://designkollective.com/stores/chic-home/products/62686, Status Code: 404\n",
      "Error processing https://designkollective.com/stores/chic-home/products/62686: cannot unpack non-iterable NoneType object\n",
      "Failed to retrieve https://designkollective.com/stores/chic-home/products/62670, Status Code: 404\n",
      "Error processing https://designkollective.com/stores/chic-home/products/62670: cannot unpack non-iterable NoneType object\n",
      "Failed to retrieve https://designkollective.com/stores/chic-home/products/62736, Status Code: 404\n",
      "Error processing https://designkollective.com/stores/chic-home/products/62736: cannot unpack non-iterable NoneType object\n",
      "Failed to retrieve https://designkollective.com/stores/chic-home/products/62708, Status Code: 404\n",
      "Error processing https://designkollective.com/stores/chic-home/products/62708: cannot unpack non-iterable NoneType object\n",
      "Failed to retrieve https://designkollective.com/stores/chic-home/products/62711, Status Code: 404\n",
      "Error processing https://designkollective.com/stores/chic-home/products/62711: cannot unpack non-iterable NoneType object\n",
      "Failed to retrieve https://designkollective.com/stores/chic-home/products/62682, Status Code: 404\n",
      "Error processing https://designkollective.com/stores/chic-home/products/62682: cannot unpack non-iterable NoneType object\n"
     ]
    },
    {
     "name": "stderr",
     "output_type": "stream",
     "text": [
      "Processing URLs:  19%|█▊        | 5572/30000 [04:19<11:21, 35.83it/s]"
     ]
    },
    {
     "name": "stdout",
     "output_type": "stream",
     "text": [
      "Failed to retrieve https://designkollective.com/stores/chic-home/products/62732, Status Code: 404\n",
      "Error processing https://designkollective.com/stores/chic-home/products/62732: cannot unpack non-iterable NoneType object\n",
      "Failed to retrieve https://designkollective.com/stores/chic-home/products/62674, Status Code: 404\n",
      "Error processing https://designkollective.com/stores/chic-home/products/62674: cannot unpack non-iterable NoneType object\n"
     ]
    },
    {
     "name": "stderr",
     "output_type": "stream",
     "text": [
      "Processing URLs:  19%|█▊        | 5579/30000 [04:19<11:12, 36.34it/s]"
     ]
    },
    {
     "name": "stdout",
     "output_type": "stream",
     "text": [
      "Failed to retrieve https://designkollective.com/stores/chic-home/products/62728, Status Code: 404\n",
      "Error processing https://designkollective.com/stores/chic-home/products/62728: cannot unpack non-iterable NoneType object\n",
      "Failed to retrieve https://designkollective.com/stores/chic-home/products/62707, Status Code: 404\n",
      "Error processing https://designkollective.com/stores/chic-home/products/62707: cannot unpack non-iterable NoneType object\n",
      "Failed to retrieve https://designkollective.com/stores/chic-home/products/62714, Status Code: 404\n",
      "Error processing https://designkollective.com/stores/chic-home/products/62714: cannot unpack non-iterable NoneType object\n",
      "Failed to retrieve https://designkollective.com/stores/chic-home/products/62719, Status Code: 404\n",
      "Error processing https://designkollective.com/stores/chic-home/products/62719: cannot unpack non-iterable NoneType object\n",
      "Failed to retrieve https://designkollective.com/stores/chic-home/products/62717, Status Code: 404\n",
      "Error processing https://designkollective.com/stores/chic-home/products/62717: cannot unpack non-iterable NoneType object\n",
      "Failed to retrieve https://designkollective.com/stores/chic-home/products/62725, Status Code: 404\n",
      "Error processing https://designkollective.com/stores/chic-home/products/62725: cannot unpack non-iterable NoneType object\n"
     ]
    },
    {
     "name": "stderr",
     "output_type": "stream",
     "text": [
      "Processing URLs:  19%|█▊        | 5584/30000 [04:19<11:04, 36.76it/s]"
     ]
    },
    {
     "name": "stdout",
     "output_type": "stream",
     "text": [
      "Failed to retrieve https://designkollective.com/stores/chic-home/products/62715, Status Code: 404\n",
      "Error processing https://designkollective.com/stores/chic-home/products/62715: cannot unpack non-iterable NoneType object\n",
      "Failed to retrieve https://designkollective.com/stores/chic-home/products/62727, Status Code: 404\n",
      "Failed to retrieve https://designkollective.com/stores/chic-home/products/62738, Status Code: 404\n",
      "Error processing https://designkollective.com/stores/chic-home/products/62727: cannot unpack non-iterable NoneType object\n",
      "Error processing https://designkollective.com/stores/chic-home/products/62738: cannot unpack non-iterable NoneType object\n"
     ]
    },
    {
     "name": "stderr",
     "output_type": "stream",
     "text": [
      "Processing URLs:  19%|█▊        | 5588/30000 [04:19<16:43, 24.34it/s]"
     ]
    },
    {
     "name": "stdout",
     "output_type": "stream",
     "text": [
      "Failed to retrieve https://designkollective.com/stores/chic-home/products/62735, Status Code: 404\n",
      "Error processing https://designkollective.com/stores/chic-home/products/62735: cannot unpack non-iterable NoneType object\n",
      "Failed to retrieve https://designkollective.com/stores/chic-home/products/62737, Status Code: 404\n",
      "Error processing https://designkollective.com/stores/chic-home/products/62737: cannot unpack non-iterable NoneType object\n",
      "Failed to retrieve https://designkollective.com/stores/chic-home/products/62729, Status Code: 404\n",
      "Error processing https://designkollective.com/stores/chic-home/products/62729: cannot unpack non-iterable NoneType object\n"
     ]
    },
    {
     "name": "stderr",
     "output_type": "stream",
     "text": [
      "Processing URLs:  19%|█▊        | 5596/30000 [04:20<14:29, 28.07it/s]"
     ]
    },
    {
     "name": "stdout",
     "output_type": "stream",
     "text": [
      "Failed to retrieve https://designkollective.com/stores/chic-home/products/62730, Status Code: 404\n",
      "Error processing https://designkollective.com/stores/chic-home/products/62730: cannot unpack non-iterable NoneType object\n",
      "Failed to retrieve https://designkollective.com/stores/chic-home/products/62739, Status Code: 404\n",
      "Error processing https://designkollective.com/stores/chic-home/products/62739: cannot unpack non-iterable NoneType object\n"
     ]
    },
    {
     "name": "stderr",
     "output_type": "stream",
     "text": [
      "Processing URLs:  19%|█▊        | 5624/30000 [04:21<17:09, 23.67it/s]"
     ]
    },
    {
     "name": "stdout",
     "output_type": "stream",
     "text": [
      "Failed to retrieve https://designkollective.com/stores/chic-home/products/63215, Status Code: 404\n",
      "Error processing https://designkollective.com/stores/chic-home/products/63215: cannot unpack non-iterable NoneType object\n",
      "Failed to retrieve https://designkollective.com/stores/chic-home/products/63247, Status Code: 404\n",
      "Error processing https://designkollective.com/stores/chic-home/products/63247: cannot unpack non-iterable NoneType object\n",
      "Failed to retrieve https://designkollective.com/stores/chic-home/products/63222, Status Code: 404\n",
      "Error processing https://designkollective.com/stores/chic-home/products/63222: cannot unpack non-iterable NoneType object\n",
      "Failed to retrieve https://designkollective.com/stores/chic-home/products/63223, Status Code: 404\n",
      "Error processing https://designkollective.com/stores/chic-home/products/63223: cannot unpack non-iterable NoneType object\n"
     ]
    },
    {
     "name": "stderr",
     "output_type": "stream",
     "text": [
      "Processing URLs:  19%|█▉        | 5639/30000 [04:21<12:46, 31.79it/s]"
     ]
    },
    {
     "name": "stdout",
     "output_type": "stream",
     "text": [
      "Failed to retrieve https://designkollective.com/stores/chic-home/products/63232, Status Code: 404\n",
      "Error processing https://designkollective.com/stores/chic-home/products/63232: cannot unpack non-iterable NoneType object\n",
      "Failed to retrieve https://designkollective.com/stores/chic-home/products/63221, Status Code: 404\n",
      "Error processing https://designkollective.com/stores/chic-home/products/63221: cannot unpack non-iterable NoneType object\n",
      "Failed to retrieve https://designkollective.com/stores/chic-home/products/63233, Status Code: 404\n",
      "Error processing https://designkollective.com/stores/chic-home/products/63233: cannot unpack non-iterable NoneType object\n",
      "Failed to retrieve https://designkollective.com/stores/chic-home/products/63214, Status Code: 404\n",
      "Error processing https://designkollective.com/stores/chic-home/products/63214: cannot unpack non-iterable NoneType object\n"
     ]
    },
    {
     "name": "stderr",
     "output_type": "stream",
     "text": [
      "Processing URLs:  19%|█▉        | 5649/30000 [04:21<11:24, 35.57it/s]"
     ]
    },
    {
     "name": "stdout",
     "output_type": "stream",
     "text": [
      "Failed to retrieve https://designkollective.com/stores/chic-home/products/63242, Status Code: 404\n",
      "Error processing https://designkollective.com/stores/chic-home/products/63242: cannot unpack non-iterable NoneType object\n",
      "Failed to retrieve https://designkollective.com/stores/chic-home/products/63246, Status Code: 404\n",
      "Error processing https://designkollective.com/stores/chic-home/products/63246: cannot unpack non-iterable NoneType object\n",
      "Failed to retrieve https://designkollective.com/stores/chic-home/products/63231, Status Code: 404\n",
      "Error processing https://designkollective.com/stores/chic-home/products/63231: cannot unpack non-iterable NoneType object\n",
      "Failed to retrieve https://designkollective.com/stores/chic-home/products/63248, Status Code: 404\n",
      "Error processing https://designkollective.com/stores/chic-home/products/63248: cannot unpack non-iterable NoneType object\n",
      "Failed to retrieve https://designkollective.com/stores/chic-home/products/63228, Status Code: 404\n",
      "Error processing https://designkollective.com/stores/chic-home/products/63228: cannot unpack non-iterable NoneType object\n"
     ]
    },
    {
     "name": "stderr",
     "output_type": "stream",
     "text": [
      "Processing URLs:  19%|█▉        | 5654/30000 [04:22<11:11, 36.28it/s]"
     ]
    },
    {
     "name": "stdout",
     "output_type": "stream",
     "text": [
      "Failed to retrieve https://designkollective.com/stores/chic-home/products/63217, Status Code: 404\n",
      "Error processing https://designkollective.com/stores/chic-home/products/63217: cannot unpack non-iterable NoneType object\n"
     ]
    },
    {
     "name": "stderr",
     "output_type": "stream",
     "text": [
      "Processing URLs:  20%|█▉        | 5977/30000 [04:35<16:01, 24.98it/s]"
     ]
    },
    {
     "name": "stdout",
     "output_type": "stream",
     "text": [
      "Failed to retrieve https://designkollective.com/stores/chic-home/products/2618, Status Code: 404\n",
      "Error processing https://designkollective.com/stores/chic-home/products/2618: cannot unpack non-iterable NoneType object\n"
     ]
    },
    {
     "name": "stderr",
     "output_type": "stream",
     "text": [
      "Processing URLs:  20%|██        | 6037/30000 [04:38<16:26, 24.29it/s]"
     ]
    },
    {
     "name": "stdout",
     "output_type": "stream",
     "text": [
      "Failed to retrieve https://designkollective.com/stores/chic-home/products/98213, Status Code: 404\n",
      "Error processing https://designkollective.com/stores/chic-home/products/98213: cannot unpack non-iterable NoneType object\n"
     ]
    },
    {
     "name": "stderr",
     "output_type": "stream",
     "text": [
      "Processing URLs:  20%|██        | 6048/30000 [04:38<14:57, 26.69it/s]"
     ]
    },
    {
     "name": "stdout",
     "output_type": "stream",
     "text": [
      "Failed to retrieve https://designkollective.com/stores/chic-home/products/98205, Status Code: 404\n",
      "Error processing https://designkollective.com/stores/chic-home/products/98205: cannot unpack non-iterable NoneType object\n",
      "Failed to retrieve https://designkollective.com/stores/chic-home/products/98181, Status Code: 404\n",
      "Error processing https://designkollective.com/stores/chic-home/products/98181: cannot unpack non-iterable NoneType object\n"
     ]
    },
    {
     "name": "stderr",
     "output_type": "stream",
     "text": [
      "Processing URLs:  20%|██        | 6059/30000 [04:38<15:12, 26.23it/s]"
     ]
    },
    {
     "name": "stdout",
     "output_type": "stream",
     "text": [
      "Failed to retrieve https://designkollective.com/stores/chic-home/products/98197, Status Code: 404\n",
      "Error processing https://designkollective.com/stores/chic-home/products/98197: cannot unpack non-iterable NoneType object\n"
     ]
    },
    {
     "name": "stderr",
     "output_type": "stream",
     "text": [
      "Processing URLs:  20%|██        | 6066/30000 [04:39<14:02, 28.42it/s]"
     ]
    },
    {
     "name": "stdout",
     "output_type": "stream",
     "text": [
      "Failed to retrieve https://designkollective.com/stores/chic-home/products/98187, Status Code: 404\n",
      "Error processing https://designkollective.com/stores/chic-home/products/98187: cannot unpack non-iterable NoneType object\n",
      "Failed to retrieve https://designkollective.com/stores/chic-home/products/98189, Status Code: 404\n",
      "Error processing https://designkollective.com/stores/chic-home/products/98189: cannot unpack non-iterable NoneType object\n"
     ]
    },
    {
     "name": "stderr",
     "output_type": "stream",
     "text": [
      "Processing URLs:  20%|██        | 6077/30000 [04:39<13:54, 28.68it/s]"
     ]
    },
    {
     "name": "stdout",
     "output_type": "stream",
     "text": [
      "Failed to retrieve https://designkollective.com/stores/chic-home/products/98195, Status Code: 404\n",
      "Error processing https://designkollective.com/stores/chic-home/products/98195: cannot unpack non-iterable NoneType object\n",
      "Failed to retrieve https://designkollective.com/stores/chic-home/products/98201, Status Code: 404\n",
      "Error processing https://designkollective.com/stores/chic-home/products/98201: cannot unpack non-iterable NoneType object\n"
     ]
    },
    {
     "name": "stderr",
     "output_type": "stream",
     "text": [
      "Processing URLs:  20%|██        | 6085/30000 [04:39<13:05, 30.46it/s]"
     ]
    },
    {
     "name": "stdout",
     "output_type": "stream",
     "text": [
      "Failed to retrieve https://designkollective.com/stores/chic-home/products/98214, Status Code: 404\n",
      "Error processing https://designkollective.com/stores/chic-home/products/98214: cannot unpack non-iterable NoneType object\n"
     ]
    },
    {
     "name": "stderr",
     "output_type": "stream",
     "text": [
      "Processing URLs:  20%|██        | 6089/30000 [04:39<13:05, 30.44it/s]"
     ]
    },
    {
     "name": "stdout",
     "output_type": "stream",
     "text": [
      "Failed to retrieve https://designkollective.com/stores/chic-home/products/98262, Status Code: 404\n",
      "Error processing https://designkollective.com/stores/chic-home/products/98262: cannot unpack non-iterable NoneType object\n"
     ]
    },
    {
     "name": "stderr",
     "output_type": "stream",
     "text": [
      "Processing URLs:  20%|██        | 6101/30000 [04:40<15:34, 25.57it/s]"
     ]
    },
    {
     "name": "stdout",
     "output_type": "stream",
     "text": [
      "Failed to retrieve https://designkollective.com/stores/chic-home/products/98209, Status Code: 404\n",
      "Error processing https://designkollective.com/stores/chic-home/products/98209: cannot unpack non-iterable NoneType object\n",
      "Failed to retrieve https://designkollective.com/stores/chic-home/products/98220, Status Code: 404\n",
      "Error processing https://designkollective.com/stores/chic-home/products/98220: cannot unpack non-iterable NoneType object\n",
      "Failed to retrieve https://designkollective.com/stores/chic-home/products/99149, Status Code: 404\n",
      "Error processing https://designkollective.com/stores/chic-home/products/99149: cannot unpack non-iterable NoneType object\n"
     ]
    },
    {
     "name": "stderr",
     "output_type": "stream",
     "text": [
      "Processing URLs:  20%|██        | 6113/30000 [04:40<13:43, 29.00it/s]"
     ]
    },
    {
     "name": "stdout",
     "output_type": "stream",
     "text": [
      "Failed to retrieve https://designkollective.com/stores/chic-home/products/99205, Status Code: 404\n",
      "Error processing https://designkollective.com/stores/chic-home/products/99205: cannot unpack non-iterable NoneType object\n",
      "Failed to retrieve https://designkollective.com/stores/chic-home/products/99150, Status Code: 404\n",
      "Error processing https://designkollective.com/stores/chic-home/products/99150: cannot unpack non-iterable NoneType object\n"
     ]
    },
    {
     "name": "stderr",
     "output_type": "stream",
     "text": [
      "Processing URLs:  20%|██        | 6138/30000 [04:41<13:38, 29.14it/s]"
     ]
    },
    {
     "name": "stdout",
     "output_type": "stream",
     "text": [
      "Failed to retrieve https://designkollective.com/stores/chic-home/products/99141, Status Code: 404\n",
      "Error processing https://designkollective.com/stores/chic-home/products/99141: cannot unpack non-iterable NoneType object\n",
      "Failed to retrieve https://designkollective.com/stores/chic-home/products/99169, Status Code: 404\n",
      "Error processing https://designkollective.com/stores/chic-home/products/99169: cannot unpack non-iterable NoneType object\n"
     ]
    },
    {
     "name": "stderr",
     "output_type": "stream",
     "text": [
      "Processing URLs:  20%|██        | 6148/30000 [04:42<14:51, 26.77it/s]"
     ]
    },
    {
     "name": "stdout",
     "output_type": "stream",
     "text": [
      "Failed to retrieve https://designkollective.com/stores/chic-home/products/99172, Status Code: 404\n",
      "Error processing https://designkollective.com/stores/chic-home/products/99172: cannot unpack non-iterable NoneType object\n"
     ]
    },
    {
     "name": "stderr",
     "output_type": "stream",
     "text": [
      "Processing URLs:  21%|██        | 6157/30000 [04:42<18:45, 21.19it/s]"
     ]
    },
    {
     "name": "stdout",
     "output_type": "stream",
     "text": [
      "Failed to retrieve https://designkollective.com/stores/chic-home/products/99170, Status Code: 404\n",
      "Error processing https://designkollective.com/stores/chic-home/products/99170: cannot unpack non-iterable NoneType object\n"
     ]
    },
    {
     "name": "stderr",
     "output_type": "stream",
     "text": [
      "Processing URLs:  21%|██        | 6314/30000 [04:49<15:35, 25.31it/s]"
     ]
    },
    {
     "name": "stdout",
     "output_type": "stream",
     "text": [
      "Failed to retrieve https://designkollective.com/stores/chic-home/products/99200, Status Code: 404\n",
      "Error processing https://designkollective.com/stores/chic-home/products/99200: cannot unpack non-iterable NoneType object\n"
     ]
    },
    {
     "name": "stderr",
     "output_type": "stream",
     "text": [
      "Processing URLs:  21%|██        | 6339/30000 [04:50<16:09, 24.40it/s]"
     ]
    },
    {
     "name": "stdout",
     "output_type": "stream",
     "text": [
      "Failed to retrieve https://designkollective.com/stores/chic-home/products/99235, Status Code: 404\n",
      "Error processing https://designkollective.com/stores/chic-home/products/99235: cannot unpack non-iterable NoneType object\n"
     ]
    },
    {
     "name": "stderr",
     "output_type": "stream",
     "text": [
      "Processing URLs:  21%|██▏       | 6401/30000 [04:52<15:41, 25.07it/s]"
     ]
    },
    {
     "name": "stdout",
     "output_type": "stream",
     "text": [
      "Failed to retrieve https://designkollective.com/stores/chic-home/products/98416, Status Code: 404\n",
      "Error processing https://designkollective.com/stores/chic-home/products/98416: cannot unpack non-iterable NoneType object\n"
     ]
    },
    {
     "name": "stderr",
     "output_type": "stream",
     "text": [
      "Processing URLs:  21%|██▏       | 6440/30000 [04:54<11:12, 35.01it/s]"
     ]
    },
    {
     "name": "stdout",
     "output_type": "stream",
     "text": [
      "Failed to retrieve https://designkollective.com/stores/chic-home/products/98462, Status Code: 404\n",
      "Error processing https://designkollective.com/stores/chic-home/products/98462: cannot unpack non-iterable NoneType object\n",
      "Failed to retrieve https://designkollective.com/stores/chic-home/products/98451, Status Code: 404\n",
      "Error processing https://designkollective.com/stores/chic-home/products/98451: cannot unpack non-iterable NoneType object\n",
      "Failed to retrieve https://designkollective.com/stores/chic-home/products/87424, Status Code: 404\n",
      "Error processing https://designkollective.com/stores/chic-home/products/87424: cannot unpack non-iterable NoneType object\n",
      "Failed to retrieve https://designkollective.com/stores/chic-home/products/98448, Status Code: 404\n",
      "Error processing https://designkollective.com/stores/chic-home/products/98448: cannot unpack non-iterable NoneType object\n",
      "Failed to retrieve https://designkollective.com/stores/chic-home/products/98443, Status Code: 404\n",
      "Error processing https://designkollective.com/stores/chic-home/products/98443: cannot unpack non-iterable NoneType object\n",
      "Failed to retrieve https://designkollective.com/stores/chic-home/products/98476, Status Code: 404\n",
      "Error processing https://designkollective.com/stores/chic-home/products/98476: cannot unpack non-iterable NoneType object\n"
     ]
    },
    {
     "name": "stderr",
     "output_type": "stream",
     "text": [
      "Processing URLs:  21%|██▏       | 6448/30000 [04:54<12:47, 30.69it/s]"
     ]
    },
    {
     "name": "stdout",
     "output_type": "stream",
     "text": [
      "Failed to retrieve https://designkollective.com/stores/chic-home/products/87425, Status Code: 404\n",
      "Error processing https://designkollective.com/stores/chic-home/products/87425: cannot unpack non-iterable NoneType object\n"
     ]
    },
    {
     "name": "stderr",
     "output_type": "stream",
     "text": [
      "Processing URLs:  22%|██▏       | 6459/30000 [04:54<14:25, 27.21it/s]"
     ]
    },
    {
     "name": "stdout",
     "output_type": "stream",
     "text": [
      "Failed to retrieve https://designkollective.com/stores/chic-home/products/98426, Status Code: 404\n",
      "Error processing https://designkollective.com/stores/chic-home/products/98426: cannot unpack non-iterable NoneType object\n"
     ]
    },
    {
     "name": "stderr",
     "output_type": "stream",
     "text": [
      "Processing URLs:  22%|██▏       | 6467/30000 [04:54<13:00, 30.17it/s]"
     ]
    },
    {
     "name": "stdout",
     "output_type": "stream",
     "text": [
      "Failed to retrieve https://designkollective.com/stores/chic-home/products/98452, Status Code: 404\n",
      "Error processing https://designkollective.com/stores/chic-home/products/98452: cannot unpack non-iterable NoneType object\n",
      "Failed to retrieve https://designkollective.com/stores/chic-home/products/98428, Status Code: 404\n",
      "Error processing https://designkollective.com/stores/chic-home/products/98428: cannot unpack non-iterable NoneType object\n",
      "Failed to retrieve https://designkollective.com/stores/chic-home/products/98450, Status Code: 404\n",
      "Error processing https://designkollective.com/stores/chic-home/products/98450: cannot unpack non-iterable NoneType object\n"
     ]
    },
    {
     "name": "stderr",
     "output_type": "stream",
     "text": [
      "Processing URLs:  22%|██▏       | 6474/30000 [04:55<13:19, 29.44it/s]"
     ]
    },
    {
     "name": "stdout",
     "output_type": "stream",
     "text": [
      "Failed to retrieve https://designkollective.com/stores/chic-home/products/98439, Status Code: 404\n",
      "Error processing https://designkollective.com/stores/chic-home/products/98439: cannot unpack non-iterable NoneType object\n"
     ]
    },
    {
     "name": "stderr",
     "output_type": "stream",
     "text": [
      "Processing URLs:  22%|██▏       | 6481/30000 [04:55<13:35, 28.86it/s]"
     ]
    },
    {
     "name": "stdout",
     "output_type": "stream",
     "text": [
      "Failed to retrieve https://designkollective.com/stores/chic-home/products/98446, Status Code: 404\n",
      "Error processing https://designkollective.com/stores/chic-home/products/98446: cannot unpack non-iterable NoneType object\n"
     ]
    },
    {
     "name": "stderr",
     "output_type": "stream",
     "text": [
      "Processing URLs:  22%|██▏       | 6495/30000 [04:55<13:06, 29.87it/s]"
     ]
    },
    {
     "name": "stdout",
     "output_type": "stream",
     "text": [
      "Failed to retrieve https://designkollective.com/stores/chic-home/products/86797, Status Code: 404\n",
      "Error processing https://designkollective.com/stores/chic-home/products/86797: cannot unpack non-iterable NoneType object\n",
      "Failed to retrieve https://designkollective.com/stores/chic-home/products/87079, Status Code: 404\n",
      "Error processing https://designkollective.com/stores/chic-home/products/87079: cannot unpack non-iterable NoneType object\n",
      "Failed to retrieve https://designkollective.com/stores/chic-home/products/87427, Status Code: 404\n",
      "Error processing https://designkollective.com/stores/chic-home/products/87427: cannot unpack non-iterable NoneType object\n",
      "Failed to retrieve https://designkollective.com/stores/chic-home/products/86792, Status Code: 404\n",
      "Error processing https://designkollective.com/stores/chic-home/products/86792: cannot unpack non-iterable NoneType object\n"
     ]
    },
    {
     "name": "stderr",
     "output_type": "stream",
     "text": [
      "Processing URLs:  22%|██▏       | 6503/30000 [04:56<13:24, 29.20it/s]"
     ]
    },
    {
     "name": "stdout",
     "output_type": "stream",
     "text": [
      "Failed to retrieve https://designkollective.com/stores/chic-home/products/86785, Status Code: 404\n",
      "Error processing https://designkollective.com/stores/chic-home/products/86785: cannot unpack non-iterable NoneType object\n",
      "Failed to retrieve https://designkollective.com/stores/chic-home/products/87081, Status Code: 404\n",
      "Error processing https://designkollective.com/stores/chic-home/products/87081: cannot unpack non-iterable NoneType object\n"
     ]
    },
    {
     "name": "stderr",
     "output_type": "stream",
     "text": [
      "Processing URLs:  22%|██▏       | 6528/30000 [04:57<15:28, 25.27it/s]"
     ]
    },
    {
     "name": "stdout",
     "output_type": "stream",
     "text": [
      "Failed to retrieve https://designkollective.com/stores/chic-home/products/86781, Status Code: 404\n",
      "Error processing https://designkollective.com/stores/chic-home/products/86781: cannot unpack non-iterable NoneType object\n",
      "Failed to retrieve https://designkollective.com/stores/chic-home/products/86783, Status Code: 404\n",
      "Error processing https://designkollective.com/stores/chic-home/products/86783: cannot unpack non-iterable NoneType object\n"
     ]
    },
    {
     "name": "stderr",
     "output_type": "stream",
     "text": [
      "Processing URLs:  22%|██▏       | 6539/30000 [04:57<14:40, 26.64it/s]"
     ]
    },
    {
     "name": "stdout",
     "output_type": "stream",
     "text": [
      "Failed to retrieve https://designkollective.com/stores/chic-home/products/99275, Status Code: 404\n",
      "Error processing https://designkollective.com/stores/chic-home/products/99275: cannot unpack non-iterable NoneType object\n"
     ]
    },
    {
     "name": "stderr",
     "output_type": "stream",
     "text": [
      "Processing URLs:  22%|██▏       | 6561/30000 [04:58<16:54, 23.10it/s]"
     ]
    },
    {
     "name": "stdout",
     "output_type": "stream",
     "text": [
      "Failed to retrieve https://designkollective.com/stores/chic-home/products/86795, Status Code: 404\n",
      "Error processing https://designkollective.com/stores/chic-home/products/86795: cannot unpack non-iterable NoneType object\n"
     ]
    },
    {
     "name": "stderr",
     "output_type": "stream",
     "text": [
      "Processing URLs:  22%|██▏       | 6572/30000 [04:59<15:04, 25.91it/s]"
     ]
    },
    {
     "name": "stdout",
     "output_type": "stream",
     "text": [
      "Failed to retrieve https://designkollective.com/stores/chic-home/products/98826, Status Code: 404\n",
      "Error processing https://designkollective.com/stores/chic-home/products/98826: cannot unpack non-iterable NoneType object\n",
      "Failed to retrieve https://designkollective.com/stores/chic-home/products/98817, Status Code: 404\n",
      "Error processing https://designkollective.com/stores/chic-home/products/98817: cannot unpack non-iterable NoneType object\n"
     ]
    },
    {
     "name": "stderr",
     "output_type": "stream",
     "text": [
      "Processing URLs:  22%|██▏       | 6586/30000 [04:59<15:24, 25.34it/s]"
     ]
    },
    {
     "name": "stdout",
     "output_type": "stream",
     "text": [
      "Failed to retrieve https://designkollective.com/stores/chic-home/products/99402, Status Code: 404\n",
      "Error processing https://designkollective.com/stores/chic-home/products/99402: cannot unpack non-iterable NoneType object\n"
     ]
    },
    {
     "name": "stderr",
     "output_type": "stream",
     "text": [
      "Processing URLs:  22%|██▏       | 6605/30000 [05:00<14:06, 27.64it/s]"
     ]
    },
    {
     "name": "stdout",
     "output_type": "stream",
     "text": [
      "Failed to retrieve https://designkollective.com/stores/chic-home/products/87097, Status Code: 404\n",
      "Error processing https://designkollective.com/stores/chic-home/products/87097: cannot unpack non-iterable NoneType object\n"
     ]
    },
    {
     "name": "stderr",
     "output_type": "stream",
     "text": [
      "Processing URLs:  22%|██▏       | 6622/30000 [05:00<14:31, 26.84it/s]"
     ]
    },
    {
     "name": "stdout",
     "output_type": "stream",
     "text": [
      "Failed to retrieve https://designkollective.com/stores/chic-home/products/86829, Status Code: 404\n",
      "Error processing https://designkollective.com/stores/chic-home/products/86829: cannot unpack non-iterable NoneType object\n"
     ]
    },
    {
     "name": "stderr",
     "output_type": "stream",
     "text": [
      "Processing URLs:  22%|██▏       | 6649/30000 [05:02<14:51, 26.19it/s]"
     ]
    },
    {
     "name": "stdout",
     "output_type": "stream",
     "text": [
      "Failed to retrieve https://designkollective.com/stores/chic-home/products/86821, Status Code: 404\n",
      "Error processing https://designkollective.com/stores/chic-home/products/86821: cannot unpack non-iterable NoneType object\n"
     ]
    },
    {
     "name": "stderr",
     "output_type": "stream",
     "text": [
      "Processing URLs:  22%|██▏       | 6657/30000 [05:02<13:12, 29.47it/s]"
     ]
    },
    {
     "name": "stdout",
     "output_type": "stream",
     "text": [
      "Failed to retrieve https://designkollective.com/stores/chic-home/products/86832, Status Code: 404\n",
      "Error processing https://designkollective.com/stores/chic-home/products/86832: cannot unpack non-iterable NoneType object\n"
     ]
    },
    {
     "name": "stderr",
     "output_type": "stream",
     "text": [
      "Processing URLs:  22%|██▏       | 6670/30000 [05:02<11:12, 34.69it/s]"
     ]
    },
    {
     "name": "stdout",
     "output_type": "stream",
     "text": [
      "Failed to retrieve https://designkollective.com/stores/chic-home/products/86842, Status Code: 404\n",
      "Error processing https://designkollective.com/stores/chic-home/products/86842: cannot unpack non-iterable NoneType object\n",
      "Failed to retrieve https://designkollective.com/stores/chic-home/products/86839, Status Code: 404\n",
      "Error processing https://designkollective.com/stores/chic-home/products/86839: cannot unpack non-iterable NoneType object\n",
      "Failed to retrieve https://designkollective.com/stores/chic-home/products/86837, Status Code: 404\n",
      "Error processing https://designkollective.com/stores/chic-home/products/86837: cannot unpack non-iterable NoneType object\n",
      "Failed to retrieve https://designkollective.com/stores/chic-home/products/86836, Status Code: 404\n",
      "Error processing https://designkollective.com/stores/chic-home/products/86836: cannot unpack non-iterable NoneType object\n",
      "Failed to retrieve https://designkollective.com/stores/chic-home/products/87112, Status Code: 404\n",
      "Error processing https://designkollective.com/stores/chic-home/products/87112: cannot unpack non-iterable NoneType object\n"
     ]
    },
    {
     "name": "stderr",
     "output_type": "stream",
     "text": [
      "Processing URLs:  22%|██▏       | 6683/30000 [05:03<12:58, 29.95it/s]"
     ]
    },
    {
     "name": "stdout",
     "output_type": "stream",
     "text": [
      "Failed to retrieve https://designkollective.com/stores/chic-home/products/99622, Status Code: 404\n",
      "Error processing https://designkollective.com/stores/chic-home/products/99622: cannot unpack non-iterable NoneType object\n"
     ]
    },
    {
     "name": "stderr",
     "output_type": "stream",
     "text": [
      "Processing URLs:  22%|██▏       | 6704/30000 [05:04<14:48, 26.23it/s]"
     ]
    },
    {
     "name": "stdout",
     "output_type": "stream",
     "text": [
      "Failed to retrieve https://designkollective.com/stores/chic-home/products/87139, Status Code: 404\n",
      "Error processing https://designkollective.com/stores/chic-home/products/87139: cannot unpack non-iterable NoneType object\n"
     ]
    },
    {
     "name": "stderr",
     "output_type": "stream",
     "text": [
      "Processing URLs:  22%|██▏       | 6736/30000 [05:05<15:29, 25.03it/s]"
     ]
    },
    {
     "name": "stdout",
     "output_type": "stream",
     "text": [
      "Failed to retrieve https://designkollective.com/stores/chic-home/products/99606, Status Code: 404\n",
      "Error processing https://designkollective.com/stores/chic-home/products/99606: cannot unpack non-iterable NoneType object\n"
     ]
    },
    {
     "name": "stderr",
     "output_type": "stream",
     "text": [
      "Processing URLs:  22%|██▎       | 6750/30000 [05:05<12:52, 30.09it/s]"
     ]
    },
    {
     "name": "stdout",
     "output_type": "stream",
     "text": [
      "Failed to retrieve https://designkollective.com/stores/chic-home/products/99613, Status Code: 404\n",
      "Error processing https://designkollective.com/stores/chic-home/products/99613: cannot unpack non-iterable NoneType object\n",
      "Failed to retrieve https://designkollective.com/stores/chic-home/products/99618, Status Code: 404\n",
      "Error processing https://designkollective.com/stores/chic-home/products/99618: cannot unpack non-iterable NoneType object\n",
      "Failed to retrieve https://designkollective.com/stores/chic-home/products/8016, Status Code: 404\n",
      "Error processing https://designkollective.com/stores/chic-home/products/8016: cannot unpack non-iterable NoneType object\n",
      "Failed to retrieve https://designkollective.com/stores/chic-home/products/99623, Status Code: 404\n",
      "Error processing https://designkollective.com/stores/chic-home/products/99623: cannot unpack non-iterable NoneType object\n"
     ]
    },
    {
     "name": "stderr",
     "output_type": "stream",
     "text": [
      "Processing URLs:  23%|██▎       | 6758/30000 [05:06<12:40, 30.57it/s]"
     ]
    },
    {
     "name": "stdout",
     "output_type": "stream",
     "text": [
      "Failed to retrieve https://designkollective.com/stores/chic-home/products/99619, Status Code: 404\n",
      "Error processing https://designkollective.com/stores/chic-home/products/99619: cannot unpack non-iterable NoneType object\n",
      "Failed to retrieve https://designkollective.com/stores/chic-home/products/99621, Status Code: 404\n",
      "Error processing https://designkollective.com/stores/chic-home/products/99621: cannot unpack non-iterable NoneType object\n",
      "Failed to retrieve https://designkollective.com/stores/chic-home/products/99625, Status Code: 404\n",
      "Error processing https://designkollective.com/stores/chic-home/products/99625: cannot unpack non-iterable NoneType object\n"
     ]
    },
    {
     "name": "stderr",
     "output_type": "stream",
     "text": [
      "Processing URLs:  23%|██▎       | 6771/30000 [05:06<13:07, 29.49it/s]"
     ]
    },
    {
     "name": "stdout",
     "output_type": "stream",
     "text": [
      "Failed to retrieve https://designkollective.com/stores/chic-home/products/99624, Status Code: 404\n",
      "Error processing https://designkollective.com/stores/chic-home/products/99624: cannot unpack non-iterable NoneType object\n"
     ]
    },
    {
     "name": "stderr",
     "output_type": "stream",
     "text": [
      "Processing URLs:  23%|██▎       | 6775/30000 [05:06<12:19, 31.40it/s]"
     ]
    },
    {
     "name": "stdout",
     "output_type": "stream",
     "text": [
      "Failed to retrieve https://designkollective.com/stores/chic-home/products/99626, Status Code: 404\n",
      "Error processing https://designkollective.com/stores/chic-home/products/99626: cannot unpack non-iterable NoneType object\n"
     ]
    },
    {
     "name": "stderr",
     "output_type": "stream",
     "text": [
      "Processing URLs:  23%|██▎       | 6964/30000 [05:14<14:38, 26.23it/s]"
     ]
    },
    {
     "name": "stdout",
     "output_type": "stream",
     "text": [
      "Failed to retrieve https://designkollective.com/stores/chic-home/products/2797, Status Code: 404\n",
      "Error processing https://designkollective.com/stores/chic-home/products/2797: cannot unpack non-iterable NoneType object\n"
     ]
    },
    {
     "name": "stderr",
     "output_type": "stream",
     "text": [
      "Processing URLs:  24%|██▎       | 7072/30000 [05:19<15:38, 24.42it/s]"
     ]
    },
    {
     "name": "stdout",
     "output_type": "stream",
     "text": [
      "Failed to retrieve https://designkollective.com/stores/chic-home/products/86915, Status Code: 404\n",
      "Error processing https://designkollective.com/stores/chic-home/products/86915: cannot unpack non-iterable NoneType object\n"
     ]
    },
    {
     "name": "stderr",
     "output_type": "stream",
     "text": [
      "Processing URLs:  24%|██▍       | 7137/30000 [05:22<15:48, 24.10it/s]"
     ]
    },
    {
     "name": "stdout",
     "output_type": "stream",
     "text": [
      "Failed to retrieve https://designkollective.com/stores/chic-home/products/86918, Status Code: 404\n",
      "Error processing https://designkollective.com/stores/chic-home/products/86918: cannot unpack non-iterable NoneType object\n"
     ]
    },
    {
     "name": "stderr",
     "output_type": "stream",
     "text": [
      "Processing URLs:  24%|██▍       | 7148/30000 [05:22<15:10, 25.10it/s]"
     ]
    },
    {
     "name": "stdout",
     "output_type": "stream",
     "text": [
      "Failed to retrieve https://designkollective.com/stores/chic-home/products/86921, Status Code: 404\n",
      "Error processing https://designkollective.com/stores/chic-home/products/86921: cannot unpack non-iterable NoneType object\n"
     ]
    },
    {
     "name": "stderr",
     "output_type": "stream",
     "text": [
      "Processing URLs:  24%|██▍       | 7159/30000 [05:22<13:46, 27.64it/s]"
     ]
    },
    {
     "name": "stdout",
     "output_type": "stream",
     "text": [
      "Failed to retrieve https://designkollective.com/stores/chic-home/products/86924, Status Code: 404\n",
      "Error processing https://designkollective.com/stores/chic-home/products/86924: cannot unpack non-iterable NoneType object\n"
     ]
    },
    {
     "name": "stderr",
     "output_type": "stream",
     "text": [
      "Processing URLs:  24%|██▍       | 7193/30000 [05:24<14:28, 26.26it/s]"
     ]
    },
    {
     "name": "stdout",
     "output_type": "stream",
     "text": [
      "Failed to retrieve https://designkollective.com/stores/de-cor-globally-inspired/products/175276, Status Code: 404\n",
      "Error processing https://designkollective.com/stores/de-cor-globally-inspired/products/175276: cannot unpack non-iterable NoneType object\n"
     ]
    },
    {
     "name": "stderr",
     "output_type": "stream",
     "text": [
      "Processing URLs:  25%|██▍       | 7421/30000 [05:33<15:38, 24.07it/s]"
     ]
    },
    {
     "name": "stdout",
     "output_type": "stream",
     "text": [
      "Failed to retrieve https://designkollective.com/stores/chic-home/products/100068, Status Code: 404\n",
      "Error processing https://designkollective.com/stores/chic-home/products/100068: cannot unpack non-iterable NoneType object\n"
     ]
    },
    {
     "name": "stderr",
     "output_type": "stream",
     "text": [
      "Processing URLs:  25%|██▍       | 7429/30000 [05:33<12:41, 29.65it/s]"
     ]
    },
    {
     "name": "stdout",
     "output_type": "stream",
     "text": [
      "Failed to retrieve https://designkollective.com/stores/chic-home/products/99969, Status Code: 404Failed to retrieve https://designkollective.com/stores/chic-home/products/99987, Status Code: 404\n",
      "Error processing https://designkollective.com/stores/chic-home/products/99987: cannot unpack non-iterable NoneType object\n",
      "\n",
      "Error processing https://designkollective.com/stores/chic-home/products/99969: cannot unpack non-iterable NoneType object\n",
      "Failed to retrieve https://designkollective.com/stores/chic-home/products/100015, Status Code: 404\n",
      "Error processing https://designkollective.com/stores/chic-home/products/100015: cannot unpack non-iterable NoneType object\n",
      "Failed to retrieve https://designkollective.com/stores/chic-home/products/86939, Status Code: 404\n",
      "Error processing https://designkollective.com/stores/chic-home/products/86939: cannot unpack non-iterable NoneType object\n",
      "Failed to retrieve https://designkollective.com/stores/chic-home/products/99617, Status Code: 404\n",
      "Error processing https://designkollective.com/stores/chic-home/products/99617: cannot unpack non-iterable NoneType object\n",
      "Failed to retrieve https://designkollective.com/stores/chic-home/products/99968, Status Code: 404\n",
      "Error processing https://designkollective.com/stores/chic-home/products/99968: cannot unpack non-iterable NoneType object\n",
      "Failed to retrieve https://designkollective.com/stores/chic-home/products/86398, Status Code: 404\n",
      "Error processing https://designkollective.com/stores/chic-home/products/86398: cannot unpack non-iterable NoneType object\n"
     ]
    },
    {
     "name": "stderr",
     "output_type": "stream",
     "text": [
      "Processing URLs:  25%|██▍       | 7449/30000 [05:34<05:55, 63.37it/s]"
     ]
    },
    {
     "name": "stdout",
     "output_type": "stream",
     "text": [
      "Failed to retrieve https://designkollective.com/stores/chic-home/products/99973, Status Code: 404\n",
      "Error processing https://designkollective.com/stores/chic-home/products/99973: cannot unpack non-iterable NoneType object\n",
      "Failed to retrieve https://designkollective.com/stores/de-cor-globally-inspired/products/161619, Status Code: 404\n",
      "Error processing https://designkollective.com/stores/de-cor-globally-inspired/products/161619: cannot unpack non-iterable NoneType object\n",
      "Failed to retrieve https://designkollective.com/stores/chic-home/products/99974, Status Code: 404\n",
      "Error processing https://designkollective.com/stores/chic-home/products/99974: cannot unpack non-iterable NoneType object\n",
      "Failed to retrieve https://designkollective.com/stores/chic-home/products/86401, Status Code: 404\n",
      "Error processing https://designkollective.com/stores/chic-home/products/86401: cannot unpack non-iterable NoneType object\n",
      "Failed to retrieve https://designkollective.com/stores/chic-home/products/99970, Status Code: 404\n",
      "Error processing https://designkollective.com/stores/chic-home/products/99970: cannot unpack non-iterable NoneType object\n",
      "Failed to retrieve https://designkollective.com/stores/chic-home/products/100093, Status Code: 404\n",
      "Error processing https://designkollective.com/stores/chic-home/products/100093: cannot unpack non-iterable NoneType object\n",
      "Failed to retrieve https://designkollective.com/stores/chic-home/products/99992, Status Code: 404\n",
      "Error processing https://designkollective.com/stores/chic-home/products/99992: cannot unpack non-iterable NoneType object\n",
      "Failed to retrieve https://designkollective.com/stores/chic-home/products/99972, Status Code: 404\n",
      "Error processing https://designkollective.com/stores/chic-home/products/99972: cannot unpack non-iterable NoneType object\n",
      "Failed to retrieve https://designkollective.com/stores/chic-home/products/99975, Status Code: 404\n",
      "Error processing https://designkollective.com/stores/chic-home/products/99975: cannot unpack non-iterable NoneType object\n",
      "Failed to retrieve https://designkollective.com/stores/chic-home/products/99977, Status Code: 404\n",
      "Error processing https://designkollective.com/stores/chic-home/products/99977: cannot unpack non-iterable NoneType object\n",
      "Failed to retrieve https://designkollective.com/stores/chic-home/products/99976, Status Code: 404\n",
      "Error processing https://designkollective.com/stores/chic-home/products/99976: cannot unpack non-iterable NoneType object\n",
      "Failed to retrieve https://designkollective.com/stores/chic-home/products/99982, Status Code: 404\n",
      "Error processing https://designkollective.com/stores/chic-home/products/99982: cannot unpack non-iterable NoneType object\n",
      "Failed to retrieve https://designkollective.com/stores/chic-home/products/86421, Status Code: 404\n",
      "Failed to retrieve https://designkollective.com/stores/chic-home/products/86407, Status Code: 404\n",
      "Error processing https://designkollective.com/stores/chic-home/products/86421: cannot unpack non-iterable NoneType object\n",
      "Error processing https://designkollective.com/stores/chic-home/products/86407: cannot unpack non-iterable NoneType object\n",
      "Failed to retrieve https://designkollective.com/stores/chic-home/products/99978, Status Code: 404\n",
      "Error processing https://designkollective.com/stores/chic-home/products/99978: cannot unpack non-iterable NoneType object\n",
      "Failed to retrieve https://designkollective.com/stores/chic-home/products/99981, Status Code: 404\n",
      "Error processing https://designkollective.com/stores/chic-home/products/99981: cannot unpack non-iterable NoneType object\n",
      "Failed to retrieve https://designkollective.com/stores/chic-home/products/86405, Status Code: 404\n",
      "Error processing https://designkollective.com/stores/chic-home/products/86405: cannot unpack non-iterable NoneType object\n",
      "Failed to retrieve https://designkollective.com/stores/chic-home/products/86395, Status Code: 404\n",
      "Error processing https://designkollective.com/stores/chic-home/products/86395: cannot unpack non-iterable NoneType object\n",
      "Failed to retrieve https://designkollective.com/stores/chic-home/products/99983, Status Code: 404\n",
      "Error processing https://designkollective.com/stores/chic-home/products/99983: cannot unpack non-iterable NoneType object\n",
      "Failed to retrieve https://designkollective.com/stores/chic-home/products/86956, Status Code: 404\n",
      "Error processing https://designkollective.com/stores/chic-home/products/86956: cannot unpack non-iterable NoneType object\n",
      "Failed to retrieve https://designkollective.com/stores/chic-home/products/100020, Status Code: 404\n",
      "Error processing https://designkollective.com/stores/chic-home/products/100020: cannot unpack non-iterable NoneType object\n",
      "Failed to retrieve https://designkollective.com/stores/chic-home/products/99984, Status Code: 404\n",
      "Error processing https://designkollective.com/stores/chic-home/products/99984: cannot unpack non-iterable NoneType object\n"
     ]
    },
    {
     "name": "stderr",
     "output_type": "stream",
     "text": [
      "Processing URLs:  25%|██▍       | 7456/30000 [05:34<10:35, 35.49it/s]"
     ]
    },
    {
     "name": "stdout",
     "output_type": "stream",
     "text": [
      "Failed to retrieve https://designkollective.com/stores/chic-home/products/100012, Status Code: 404\n",
      "Error processing https://designkollective.com/stores/chic-home/products/100012: cannot unpack non-iterable NoneType object\n",
      "Failed to retrieve https://designkollective.com/stores/chic-home/products/86422, Status Code: 404\n",
      "Error processing https://designkollective.com/stores/chic-home/products/86422: cannot unpack non-iterable NoneType object\n",
      "Failed to retrieve https://designkollective.com/stores/chic-home/products/100063, Status Code: 404\n",
      "Error processing https://designkollective.com/stores/chic-home/products/100063: cannot unpack non-iterable NoneType object\n",
      "Failed to retrieve https://designkollective.com/stores/chic-home/products/100004, Status Code: 404\n",
      "Error processing https://designkollective.com/stores/chic-home/products/100004: cannot unpack non-iterable NoneType object\n",
      "Failed to retrieve https://designkollective.com/stores/chic-home/products/100053, Status Code: 404\n",
      "Error processing https://designkollective.com/stores/chic-home/products/100053: cannot unpack non-iterable NoneType object\n"
     ]
    },
    {
     "name": "stderr",
     "output_type": "stream",
     "text": [
      "Processing URLs:  25%|██▍       | 7467/30000 [05:34<10:28, 35.88it/s]"
     ]
    },
    {
     "name": "stdout",
     "output_type": "stream",
     "text": [
      "Failed to retrieve https://designkollective.com/stores/chic-home/products/86403, Status Code: 404\n",
      "Error processing https://designkollective.com/stores/chic-home/products/86403: cannot unpack non-iterable NoneType object\n",
      "Failed to retrieve https://designkollective.com/stores/chic-home/products/86999, Status Code: 404\n",
      "Error processing https://designkollective.com/stores/chic-home/products/86999: cannot unpack non-iterable NoneType object\n",
      "Failed to retrieve https://designkollective.com/stores/chic-home/products/86394, Status Code: 404\n",
      "Failed to retrieve https://designkollective.com/stores/chic-home/products/99986, Status Code: 404\n",
      "Error processing https://designkollective.com/stores/chic-home/products/86394: cannot unpack non-iterable NoneType object\n",
      "Error processing https://designkollective.com/stores/chic-home/products/99986: cannot unpack non-iterable NoneType object\n",
      "Failed to retrieve https://designkollective.com/stores/chic-home/products/86409, Status Code: 404\n",
      "Error processing https://designkollective.com/stores/chic-home/products/86409: cannot unpack non-iterable NoneType object\n",
      "Failed to retrieve https://designkollective.com/stores/chic-home/products/87037, Status Code: 404\n",
      "Error processing https://designkollective.com/stores/chic-home/products/87037: cannot unpack non-iterable NoneType object\n",
      "Failed to retrieve https://designkollective.com/stores/chic-home/products/100095, Status Code: 404\n",
      "Error processing https://designkollective.com/stores/chic-home/products/100095: cannot unpack non-iterable NoneType object\n",
      "Failed to retrieve https://designkollective.com/stores/chic-home/products/100092, Status Code: 404\n",
      "Error processing https://designkollective.com/stores/chic-home/products/100092: cannot unpack non-iterable NoneType object\n",
      "Failed to retrieve https://designkollective.com/stores/chic-home/products/87087, Status Code: 404\n",
      "Error processing https://designkollective.com/stores/chic-home/products/87087: cannot unpack non-iterable NoneType object\n"
     ]
    },
    {
     "name": "stderr",
     "output_type": "stream",
     "text": [
      "Processing URLs:  25%|██▍       | 7476/30000 [05:35<17:05, 21.96it/s]"
     ]
    },
    {
     "name": "stdout",
     "output_type": "stream",
     "text": [
      "Failed to retrieve https://designkollective.com/stores/chic-home/products/86424, Status Code: 404\n",
      "Failed to retrieve https://designkollective.com/stores/chic-home/products/86425, Status Code: 404\n",
      "Error processing https://designkollective.com/stores/chic-home/products/86424: cannot unpack non-iterable NoneType object\n",
      "Error processing https://designkollective.com/stores/chic-home/products/86425: cannot unpack non-iterable NoneType object\n",
      "Failed to retrieve https://designkollective.com/stores/chic-home/products/86419, Status Code: 404\n",
      "Error processing https://designkollective.com/stores/chic-home/products/86419: cannot unpack non-iterable NoneType object\n",
      "Failed to retrieve https://designkollective.com/stores/chic-home/products/100017, Status Code: 404\n",
      "Error processing https://designkollective.com/stores/chic-home/products/100017: cannot unpack non-iterable NoneType object\n"
     ]
    },
    {
     "name": "stderr",
     "output_type": "stream",
     "text": [
      "Processing URLs:  25%|██▍       | 7488/30000 [05:35<12:01, 31.20it/s]"
     ]
    },
    {
     "name": "stdout",
     "output_type": "stream",
     "text": [
      "Failed to retrieve https://designkollective.com/stores/chic-home/products/86423, Status Code: 404\n",
      "Error processing https://designkollective.com/stores/chic-home/products/86423: cannot unpack non-iterable NoneType object\n",
      "Failed to retrieve https://designkollective.com/stores/chic-home/products/99998, Status Code: 404\n",
      "Error processing https://designkollective.com/stores/chic-home/products/99998: cannot unpack non-iterable NoneType object\n",
      "Failed to retrieve https://designkollective.com/stores/chic-home/products/100006, Status Code: 404\n",
      "Error processing https://designkollective.com/stores/chic-home/products/100006: cannot unpack non-iterable NoneType object\n",
      "Failed to retrieve https://designkollective.com/stores/chic-home/products/100000, Status Code: 404\n",
      "Error processing https://designkollective.com/stores/chic-home/products/100000: cannot unpack non-iterable NoneType object\n",
      "Failed to retrieve https://designkollective.com/stores/chic-home/products/100014, Status Code: 404\n",
      "Error processing https://designkollective.com/stores/chic-home/products/100014: cannot unpack non-iterable NoneType object\n",
      "Failed to retrieve https://designkollective.com/stores/chic-home/products/99994, Status Code: 404\n",
      "Error processing https://designkollective.com/stores/chic-home/products/99994: cannot unpack non-iterable NoneType object\n",
      "Failed to retrieve https://designkollective.com/stores/chic-home/products/100009, Status Code: 404\n",
      "Error processing https://designkollective.com/stores/chic-home/products/100009: cannot unpack non-iterable NoneType object\n",
      "Failed to retrieve https://designkollective.com/stores/chic-home/products/100003, Status Code: 404\n",
      "Error processing https://designkollective.com/stores/chic-home/products/100003: cannot unpack non-iterable NoneType object\n",
      "Failed to retrieve https://designkollective.com/stores/chic-home/products/100046, Status Code: 404\n",
      "Error processing https://designkollective.com/stores/chic-home/products/100046: cannot unpack non-iterable NoneType object\n",
      "Failed to retrieve https://designkollective.com/stores/chic-home/products/87024, Status Code: 404\n",
      "Failed to retrieve https://designkollective.com/stores/chic-home/products/100007, Status Code: 404\n",
      "Failed to retrieve https://designkollective.com/stores/chic-home/products/100019, Status Code: 404\n",
      "Error processing https://designkollective.com/stores/chic-home/products/87024: cannot unpack non-iterable NoneType object\n",
      "Error processing https://designkollective.com/stores/chic-home/products/100007: cannot unpack non-iterable NoneType object\n",
      "Error processing https://designkollective.com/stores/chic-home/products/100019: cannot unpack non-iterable NoneType object\n",
      "Failed to retrieve https://designkollective.com/stores/chic-home/products/87008, Status Code: 404\n",
      "Error processing https://designkollective.com/stores/chic-home/products/87008: cannot unpack non-iterable NoneType object\n"
     ]
    },
    {
     "name": "stderr",
     "output_type": "stream",
     "text": [
      "Processing URLs:  25%|██▍       | 7496/30000 [05:35<09:24, 39.88it/s]"
     ]
    },
    {
     "name": "stdout",
     "output_type": "stream",
     "text": [
      "Failed to retrieve https://designkollective.com/stores/chic-home/products/100045, Status Code: 404\n",
      "Error processing https://designkollective.com/stores/chic-home/products/100045: cannot unpack non-iterable NoneType object\n",
      "Failed to retrieve https://designkollective.com/stores/chic-home/products/100090, Status Code: 404\n",
      "Error processing https://designkollective.com/stores/chic-home/products/100090: cannot unpack non-iterable NoneType object\n"
     ]
    },
    {
     "name": "stderr",
     "output_type": "stream",
     "text": [
      "Processing URLs:  25%|██▌       | 7506/30000 [05:36<15:07, 24.77it/s]"
     ]
    },
    {
     "name": "stdout",
     "output_type": "stream",
     "text": [
      "Failed to retrieve https://designkollective.com/stores/chic-home/products/87082, Status Code: 404\n",
      "Error processing https://designkollective.com/stores/chic-home/products/87082: cannot unpack non-iterable NoneType object\n"
     ]
    },
    {
     "name": "stderr",
     "output_type": "stream",
     "text": [
      "Processing URLs:  25%|██▌       | 7561/30000 [05:38<13:31, 27.66it/s]"
     ]
    },
    {
     "name": "stdout",
     "output_type": "stream",
     "text": [
      "Failed to retrieve https://designkollective.com/stores/chic-home/products/86522, Status Code: 404\n",
      "Error processing https://designkollective.com/stores/chic-home/products/86522: cannot unpack non-iterable NoneType object\n",
      "Failed to retrieve https://designkollective.com/stores/chic-home/products/86519, Status Code: 404\n",
      "Error processing https://designkollective.com/stores/chic-home/products/86519: cannot unpack non-iterable NoneType object\n"
     ]
    },
    {
     "name": "stderr",
     "output_type": "stream",
     "text": [
      "Processing URLs:  26%|██▌       | 7657/30000 [05:43<15:57, 23.33it/s]"
     ]
    },
    {
     "name": "stdout",
     "output_type": "stream",
     "text": [
      "Failed to retrieve https://designkollective.com/stores/de-cor-globally-inspired/products/161664, Status Code: 404\n",
      "Error processing https://designkollective.com/stores/de-cor-globally-inspired/products/161664: cannot unpack non-iterable NoneType object\n"
     ]
    },
    {
     "name": "stderr",
     "output_type": "stream",
     "text": [
      "Processing URLs:  26%|██▌       | 7664/30000 [05:43<13:48, 26.96it/s]"
     ]
    },
    {
     "name": "stdout",
     "output_type": "stream",
     "text": [
      "Failed to retrieve https://designkollective.com/stores/chic-home/products/86629, Status Code: 404\n",
      "Error processing https://designkollective.com/stores/chic-home/products/86629: cannot unpack non-iterable NoneType object\n"
     ]
    },
    {
     "name": "stderr",
     "output_type": "stream",
     "text": [
      "Processing URLs:  26%|██▌       | 7684/30000 [05:44<14:16, 26.05it/s]"
     ]
    },
    {
     "name": "stdout",
     "output_type": "stream",
     "text": [
      "Failed to retrieve https://designkollective.com/stores/chic-home/products/86621, Status Code: 404\n",
      "Error processing https://designkollective.com/stores/chic-home/products/86621: cannot unpack non-iterable NoneType object\n",
      "Failed to retrieve https://designkollective.com/stores/chic-home/products/86604, Status Code: 404\n",
      "Error processing https://designkollective.com/stores/chic-home/products/86604: cannot unpack non-iterable NoneType object\n"
     ]
    },
    {
     "name": "stderr",
     "output_type": "stream",
     "text": [
      "Processing URLs:  26%|██▌       | 7693/30000 [05:44<13:31, 27.50it/s]"
     ]
    },
    {
     "name": "stdout",
     "output_type": "stream",
     "text": [
      "Failed to retrieve https://designkollective.com/stores/chic-home/products/86637, Status Code: 404\n",
      "Error processing https://designkollective.com/stores/chic-home/products/86637: cannot unpack non-iterable NoneType object\n",
      "Failed to retrieve https://designkollective.com/stores/chic-home/products/86609, Status Code: 404\n",
      "Error processing https://designkollective.com/stores/chic-home/products/86609: cannot unpack non-iterable NoneType object\n"
     ]
    },
    {
     "name": "stderr",
     "output_type": "stream",
     "text": [
      "Processing URLs:  26%|██▌       | 7697/30000 [05:44<12:21, 30.08it/s]"
     ]
    },
    {
     "name": "stdout",
     "output_type": "stream",
     "text": [
      "Failed to retrieve https://designkollective.com/stores/chic-home/products/86613, Status Code: 404\n",
      "Error processing https://designkollective.com/stores/chic-home/products/86613: cannot unpack non-iterable NoneType object\n"
     ]
    },
    {
     "name": "stderr",
     "output_type": "stream",
     "text": [
      "Processing URLs:  26%|██▌       | 7708/30000 [05:45<14:36, 25.45it/s]"
     ]
    },
    {
     "name": "stdout",
     "output_type": "stream",
     "text": [
      "Failed to retrieve https://designkollective.com/stores/chic-home/products/86628, Status Code: 404\n",
      "Error processing https://designkollective.com/stores/chic-home/products/86628: cannot unpack non-iterable NoneType object\n",
      "Failed to retrieve https://designkollective.com/stores/chic-home/products/86610, Status Code: 404\n",
      "Failed to retrieve https://designkollective.com/stores/chic-home/products/86615, Status Code: 404\n",
      "Error processing https://designkollective.com/stores/chic-home/products/86610: cannot unpack non-iterable NoneType object\n",
      "Error processing https://designkollective.com/stores/chic-home/products/86615: cannot unpack non-iterable NoneType object\n"
     ]
    },
    {
     "name": "stderr",
     "output_type": "stream",
     "text": [
      "Processing URLs:  26%|██▌       | 7720/30000 [05:45<13:09, 28.20it/s]"
     ]
    },
    {
     "name": "stdout",
     "output_type": "stream",
     "text": [
      "Failed to retrieve https://designkollective.com/stores/chic-home/products/86636, Status Code: 404\n",
      "Error processing https://designkollective.com/stores/chic-home/products/86636: cannot unpack non-iterable NoneType object\n"
     ]
    },
    {
     "name": "stderr",
     "output_type": "stream",
     "text": [
      "Processing URLs:  26%|██▌       | 7726/30000 [05:45<15:10, 24.45it/s]"
     ]
    },
    {
     "name": "stdout",
     "output_type": "stream",
     "text": [
      "Failed to retrieve https://designkollective.com/stores/chic-home/products/86617, Status Code: 404\n",
      "Error processing https://designkollective.com/stores/chic-home/products/86617: cannot unpack non-iterable NoneType object\n"
     ]
    },
    {
     "name": "stderr",
     "output_type": "stream",
     "text": [
      "Processing URLs:  26%|██▌       | 7810/30000 [05:49<15:03, 24.57it/s]"
     ]
    },
    {
     "name": "stdout",
     "output_type": "stream",
     "text": [
      "Failed to retrieve https://designkollective.com/stores/de-cor-globally-inspired/products/161716, Status Code: 404\n",
      "Error processing https://designkollective.com/stores/de-cor-globally-inspired/products/161716: cannot unpack non-iterable NoneType object\n"
     ]
    },
    {
     "name": "stderr",
     "output_type": "stream",
     "text": [
      "Processing URLs:  27%|██▋       | 8204/30000 [06:05<13:46, 26.38it/s]"
     ]
    },
    {
     "name": "stdout",
     "output_type": "stream",
     "text": [
      "Failed to retrieve https://designkollective.com/stores/chic-home/products/86623, Status Code: 404\n",
      "Error processing https://designkollective.com/stores/chic-home/products/86623: cannot unpack non-iterable NoneType object\n"
     ]
    },
    {
     "name": "stderr",
     "output_type": "stream",
     "text": [
      "Processing URLs:  27%|██▋       | 8219/30000 [06:06<13:36, 26.68it/s]"
     ]
    },
    {
     "name": "stdout",
     "output_type": "stream",
     "text": [
      "Failed to retrieve https://designkollective.com/stores/chic-home/products/86625, Status Code: 404\n",
      "Error processing https://designkollective.com/stores/chic-home/products/86625: cannot unpack non-iterable NoneType object\n"
     ]
    },
    {
     "name": "stderr",
     "output_type": "stream",
     "text": [
      "Processing URLs:  28%|██▊       | 8255/30000 [06:07<13:56, 25.99it/s]"
     ]
    },
    {
     "name": "stdout",
     "output_type": "stream",
     "text": [
      "Failed to retrieve https://designkollective.com/stores/chic-home/products/86644, Status Code: 404\n",
      "Error processing https://designkollective.com/stores/chic-home/products/86644: cannot unpack non-iterable NoneType object\n",
      "Failed to retrieve https://designkollective.com/stores/chic-home/products/86665, Status Code: 404\n",
      "Error processing https://designkollective.com/stores/chic-home/products/86665: cannot unpack non-iterable NoneType object\n",
      "Failed to retrieve https://designkollective.com/stores/chic-home/products/86627, Status Code: 404\n",
      "Error processing https://designkollective.com/stores/chic-home/products/86627: cannot unpack non-iterable NoneType object\n",
      "Failed to retrieve https://designkollective.com/stores/chic-home/products/86646, Status Code: 404\n",
      "Error processing https://designkollective.com/stores/chic-home/products/86646: cannot unpack non-iterable NoneType object\n"
     ]
    },
    {
     "name": "stderr",
     "output_type": "stream",
     "text": [
      "Processing URLs:  28%|██▊       | 8294/30000 [06:09<15:13, 23.76it/s]"
     ]
    },
    {
     "name": "stdout",
     "output_type": "stream",
     "text": [
      "Failed to retrieve https://designkollective.com/stores/chic-home/products/86638, Status Code: 404\n",
      "Error processing https://designkollective.com/stores/chic-home/products/86638: cannot unpack non-iterable NoneType object\n",
      "Failed to retrieve https://designkollective.com/stores/chic-home/products/86642, Status Code: 404\n",
      "Error processing https://designkollective.com/stores/chic-home/products/86642: cannot unpack non-iterable NoneType object\n",
      "Failed to retrieve https://designkollective.com/stores/chic-home/products/86639, Status Code: 404\n",
      "Error processing https://designkollective.com/stores/chic-home/products/86639: cannot unpack non-iterable NoneType object\n",
      "Failed to retrieve https://designkollective.com/stores/chic-home/products/87074, Status Code: 404\n",
      "Error processing https://designkollective.com/stores/chic-home/products/87074: cannot unpack non-iterable NoneType object\n",
      "Failed to retrieve https://designkollective.com/stores/chic-home/products/86630, Status Code: 404\n",
      "Error processing https://designkollective.com/stores/chic-home/products/86630: cannot unpack non-iterable NoneType object\n"
     ]
    },
    {
     "name": "stderr",
     "output_type": "stream",
     "text": [
      "Processing URLs:  28%|██▊       | 8305/30000 [06:09<11:20, 31.89it/s]"
     ]
    },
    {
     "name": "stdout",
     "output_type": "stream",
     "text": [
      "Failed to retrieve https://designkollective.com/stores/chic-home/products/86675, Status Code: 404\n",
      "Error processing https://designkollective.com/stores/chic-home/products/86675: cannot unpack non-iterable NoneType object\n"
     ]
    },
    {
     "name": "stderr",
     "output_type": "stream",
     "text": [
      "Processing URLs:  29%|██▉       | 8730/30000 [06:28<13:39, 25.96it/s]"
     ]
    },
    {
     "name": "stdout",
     "output_type": "stream",
     "text": [
      "Failed to retrieve https://designkollective.com/stores/chic-home/products/86651, Status Code: 404\n",
      "Error processing https://designkollective.com/stores/chic-home/products/86651: cannot unpack non-iterable NoneType object\n",
      "Failed to retrieve https://designkollective.com/stores/chic-home/products/86658, Status Code: 404\n",
      "Error processing https://designkollective.com/stores/chic-home/products/86658: cannot unpack non-iterable NoneType object\n",
      "Failed to retrieve https://designkollective.com/stores/chic-home/products/86655, Status Code: 404\n",
      "Error processing https://designkollective.com/stores/chic-home/products/86655: cannot unpack non-iterable NoneType object\n"
     ]
    },
    {
     "name": "stderr",
     "output_type": "stream",
     "text": [
      "Processing URLs:  29%|██▉       | 8739/30000 [06:28<12:35, 28.16it/s]"
     ]
    },
    {
     "name": "stdout",
     "output_type": "stream",
     "text": [
      "Failed to retrieve https://designkollective.com/stores/chic-home/products/86659, Status Code: 404\n",
      "Error processing https://designkollective.com/stores/chic-home/products/86659: cannot unpack non-iterable NoneType object\n",
      "Failed to retrieve https://designkollective.com/stores/chic-home/products/86654, Status Code: 404\n",
      "Error processing https://designkollective.com/stores/chic-home/products/86654: cannot unpack non-iterable NoneType object\n",
      "Failed to retrieve https://designkollective.com/stores/chic-home/products/86647, Status Code: 404\n",
      "Error processing https://designkollective.com/stores/chic-home/products/86647: cannot unpack non-iterable NoneType object\n"
     ]
    },
    {
     "name": "stderr",
     "output_type": "stream",
     "text": [
      "Processing URLs:  29%|██▉       | 8747/30000 [06:28<11:48, 29.99it/s]"
     ]
    },
    {
     "name": "stdout",
     "output_type": "stream",
     "text": [
      "Failed to retrieve https://designkollective.com/stores/de-cor-globally-inspired/products/19475, Status Code: 404\n",
      "Error processing https://designkollective.com/stores/de-cor-globally-inspired/products/19475: cannot unpack non-iterable NoneType object\n"
     ]
    },
    {
     "name": "stderr",
     "output_type": "stream",
     "text": [
      "Processing URLs:  29%|██▉       | 8801/30000 [06:31<14:38, 24.13it/s]"
     ]
    },
    {
     "name": "stdout",
     "output_type": "stream",
     "text": [
      "Failed to retrieve https://designkollective.com/stores/chic-home/products/86664, Status Code: 404\n",
      "Error processing https://designkollective.com/stores/chic-home/products/86664: cannot unpack non-iterable NoneType object\n"
     ]
    },
    {
     "name": "stderr",
     "output_type": "stream",
     "text": [
      "Processing URLs:  29%|██▉       | 8813/30000 [06:31<12:20, 28.62it/s]"
     ]
    },
    {
     "name": "stdout",
     "output_type": "stream",
     "text": [
      "Failed to retrieve https://designkollective.com/stores/chic-home/products/86668, Status Code: 404\n",
      "Error processing https://designkollective.com/stores/chic-home/products/86668: cannot unpack non-iterable NoneType object\n",
      "Failed to retrieve https://designkollective.com/stores/chic-home/products/86670, Status Code: 404\n",
      "Error processing https://designkollective.com/stores/chic-home/products/86670: cannot unpack non-iterable NoneType object\n",
      "Failed to retrieve https://designkollective.com/stores/chic-home/products/86674, Status Code: 404\n",
      "Error processing https://designkollective.com/stores/chic-home/products/86674: cannot unpack non-iterable NoneType object\n"
     ]
    },
    {
     "name": "stderr",
     "output_type": "stream",
     "text": [
      "Processing URLs:  29%|██▉       | 8829/30000 [06:32<14:29, 24.35it/s]"
     ]
    },
    {
     "name": "stdout",
     "output_type": "stream",
     "text": [
      "Failed to retrieve https://designkollective.com/stores/chic-home/products/86679, Status Code: 404\n",
      "Error processing https://designkollective.com/stores/chic-home/products/86679: cannot unpack non-iterable NoneType object\n"
     ]
    },
    {
     "name": "stderr",
     "output_type": "stream",
     "text": [
      "Processing URLs:  30%|██▉       | 8925/30000 [06:36<14:58, 23.47it/s]"
     ]
    },
    {
     "name": "stdout",
     "output_type": "stream",
     "text": [
      "Failed to retrieve https://designkollective.com/stores/chic-home/products/86681, Status Code: 404\n",
      "Error processing https://designkollective.com/stores/chic-home/products/86681: cannot unpack non-iterable NoneType object\n"
     ]
    },
    {
     "name": "stderr",
     "output_type": "stream",
     "text": [
      "Processing URLs:  30%|███       | 9074/30000 [06:42<12:18, 28.35it/s]"
     ]
    },
    {
     "name": "stdout",
     "output_type": "stream",
     "text": [
      "Failed to retrieve https://designkollective.com/stores/chic-home/products/86678, Status Code: 404\n",
      "Error processing https://designkollective.com/stores/chic-home/products/86678: cannot unpack non-iterable NoneType object\n"
     ]
    },
    {
     "name": "stderr",
     "output_type": "stream",
     "text": [
      "Processing URLs:  30%|███       | 9090/30000 [06:43<12:38, 27.58it/s]"
     ]
    },
    {
     "name": "stdout",
     "output_type": "stream",
     "text": [
      "Failed to retrieve https://designkollective.com/stores/chic-home/products/86688, Status Code: 404\n",
      "Error processing https://designkollective.com/stores/chic-home/products/86688: cannot unpack non-iterable NoneType object\n"
     ]
    },
    {
     "name": "stderr",
     "output_type": "stream",
     "text": [
      "Processing URLs:  30%|███       | 9132/30000 [06:45<13:35, 25.58it/s]"
     ]
    },
    {
     "name": "stdout",
     "output_type": "stream",
     "text": [
      "Failed to retrieve https://designkollective.com/stores/chic-home/products/86728, Status Code: 404\n",
      "Error processing https://designkollective.com/stores/chic-home/products/86728: cannot unpack non-iterable NoneType object\n"
     ]
    },
    {
     "name": "stderr",
     "output_type": "stream",
     "text": [
      "Processing URLs:  31%|███       | 9191/30000 [06:47<12:27, 27.84it/s]"
     ]
    },
    {
     "name": "stdout",
     "output_type": "stream",
     "text": [
      "Failed to retrieve https://designkollective.com/stores/chic-home/products/86691, Status Code: 404\n",
      "Error processing https://designkollective.com/stores/chic-home/products/86691: cannot unpack non-iterable NoneType object\n"
     ]
    },
    {
     "name": "stderr",
     "output_type": "stream",
     "text": [
      "Processing URLs:  31%|███       | 9215/30000 [06:48<13:24, 25.85it/s]"
     ]
    },
    {
     "name": "stdout",
     "output_type": "stream",
     "text": [
      "Failed to retrieve https://designkollective.com/stores/chic-home/products/86684, Status Code: 404\n",
      "Error processing https://designkollective.com/stores/chic-home/products/86684: cannot unpack non-iterable NoneType object\n"
     ]
    },
    {
     "name": "stderr",
     "output_type": "stream",
     "text": [
      "Processing URLs:  31%|███       | 9307/30000 [06:52<13:14, 26.04it/s]"
     ]
    },
    {
     "name": "stdout",
     "output_type": "stream",
     "text": [
      "Failed to retrieve https://designkollective.com/stores/chic-home/products/86692, Status Code: 404\n",
      "Error processing https://designkollective.com/stores/chic-home/products/86692: cannot unpack non-iterable NoneType object\n"
     ]
    },
    {
     "name": "stderr",
     "output_type": "stream",
     "text": [
      "Processing URLs:  31%|███▏      | 9382/30000 [06:55<13:15, 25.91it/s]"
     ]
    },
    {
     "name": "stdout",
     "output_type": "stream",
     "text": [
      "Failed to retrieve https://designkollective.com/stores/chic-home/products/86694, Status Code: 404\n",
      "Error processing https://designkollective.com/stores/chic-home/products/86694: cannot unpack non-iterable NoneType object\n"
     ]
    },
    {
     "name": "stderr",
     "output_type": "stream",
     "text": [
      "Processing URLs:  31%|███▏      | 9407/30000 [06:56<16:07, 21.29it/s]"
     ]
    },
    {
     "name": "stdout",
     "output_type": "stream",
     "text": [
      "Failed to retrieve https://designkollective.com/stores/chic-home/products/86695, Status Code: 404\n",
      "Error processing https://designkollective.com/stores/chic-home/products/86695: cannot unpack non-iterable NoneType object\n"
     ]
    },
    {
     "name": "stderr",
     "output_type": "stream",
     "text": [
      "Processing URLs:  31%|███▏      | 9425/30000 [06:56<11:31, 29.73it/s]"
     ]
    },
    {
     "name": "stdout",
     "output_type": "stream",
     "text": [
      "Failed to retrieve https://designkollective.com/stores/chic-home/products/86698, Status Code: 404\n",
      "Error processing https://designkollective.com/stores/chic-home/products/86698: cannot unpack non-iterable NoneType object\n",
      "Failed to retrieve https://designkollective.com/stores/chic-home/products/86699, Status Code: 404\n",
      "Error processing https://designkollective.com/stores/chic-home/products/86699: cannot unpack non-iterable NoneType object\n"
     ]
    },
    {
     "name": "stderr",
     "output_type": "stream",
     "text": [
      "Processing URLs:  31%|███▏      | 9440/30000 [06:57<10:38, 32.19it/s]"
     ]
    },
    {
     "name": "stdout",
     "output_type": "stream",
     "text": [
      "Failed to retrieve https://designkollective.com/stores/chic-home/products/86706, Status Code: 404\n",
      "Error processing https://designkollective.com/stores/chic-home/products/86706: cannot unpack non-iterable NoneType object\n",
      "Failed to retrieve https://designkollective.com/stores/chic-home/products/86703, Status Code: 404\n",
      "Error processing https://designkollective.com/stores/chic-home/products/86703: cannot unpack non-iterable NoneType object\n",
      "Failed to retrieve https://designkollective.com/stores/chic-home/products/86707, Status Code: 404\n",
      "Error processing https://designkollective.com/stores/chic-home/products/86707: cannot unpack non-iterable NoneType object\n",
      "Failed to retrieve https://designkollective.com/stores/chic-home/products/86710, Status Code: 404\n"
     ]
    },
    {
     "name": "stderr",
     "output_type": "stream",
     "text": [
      "Processing URLs:  31%|███▏      | 9448/30000 [06:57<10:57, 31.25it/s]"
     ]
    },
    {
     "name": "stdout",
     "output_type": "stream",
     "text": [
      "Error processing https://designkollective.com/stores/chic-home/products/86710: cannot unpack non-iterable NoneType object\n",
      "Failed to retrieve https://designkollective.com/stores/chic-home/products/86708, Status Code: 404\n",
      "Error processing https://designkollective.com/stores/chic-home/products/86708: cannot unpack non-iterable NoneType object\n"
     ]
    },
    {
     "name": "stderr",
     "output_type": "stream",
     "text": [
      "Processing URLs:  32%|███▏      | 9452/30000 [06:57<11:20, 30.21it/s]"
     ]
    },
    {
     "name": "stdout",
     "output_type": "stream",
     "text": [
      "Failed to retrieve https://designkollective.com/stores/chic-home/products/86712, Status Code: 404\n",
      "Error processing https://designkollective.com/stores/chic-home/products/86712: cannot unpack non-iterable NoneType object\n",
      "Failed to retrieve https://designkollective.com/stores/chic-home/products/86666, Status Code: 404\n",
      "Error processing https://designkollective.com/stores/chic-home/products/86666: cannot unpack non-iterable NoneType object\n"
     ]
    },
    {
     "name": "stderr",
     "output_type": "stream",
     "text": [
      "Processing URLs:  32%|███▏      | 9464/30000 [06:58<11:34, 29.56it/s]"
     ]
    },
    {
     "name": "stdout",
     "output_type": "stream",
     "text": [
      "Failed to retrieve https://designkollective.com/stores/chic-home/products/86717, Status Code: 404\n",
      "Error processing https://designkollective.com/stores/chic-home/products/86717: cannot unpack non-iterable NoneType object\n"
     ]
    },
    {
     "name": "stderr",
     "output_type": "stream",
     "text": [
      "Processing URLs:  32%|███▏      | 9479/30000 [06:58<12:54, 26.50it/s]"
     ]
    },
    {
     "name": "stdout",
     "output_type": "stream",
     "text": [
      "Failed to retrieve https://designkollective.com/stores/chic-home/products/86721, Status Code: 404\n",
      "Error processing https://designkollective.com/stores/chic-home/products/86721: cannot unpack non-iterable NoneType object\n",
      "Failed to retrieve https://designkollective.com/stores/chic-home/products/86722, Status Code: 404\n",
      "Error processing https://designkollective.com/stores/chic-home/products/86722: cannot unpack non-iterable NoneType object\n"
     ]
    },
    {
     "name": "stderr",
     "output_type": "stream",
     "text": [
      "Processing URLs:  32%|███▏      | 9487/30000 [06:59<12:00, 28.45it/s]"
     ]
    },
    {
     "name": "stdout",
     "output_type": "stream",
     "text": [
      "Failed to retrieve https://designkollective.com/stores/chic-home/products/86726, Status Code: 404\n",
      "Error processing https://designkollective.com/stores/chic-home/products/86726: cannot unpack non-iterable NoneType object\n"
     ]
    },
    {
     "name": "stderr",
     "output_type": "stream",
     "text": [
      "Processing URLs:  32%|███▏      | 9495/30000 [06:59<11:43, 29.13it/s]"
     ]
    },
    {
     "name": "stdout",
     "output_type": "stream",
     "text": [
      "Failed to retrieve https://designkollective.com/stores/chic-home/products/86738, Status Code: 404\n",
      "Error processing https://designkollective.com/stores/chic-home/products/86738: cannot unpack non-iterable NoneType object\n"
     ]
    },
    {
     "name": "stderr",
     "output_type": "stream",
     "text": [
      "Processing URLs:  32%|███▏      | 9502/30000 [06:59<11:35, 29.46it/s]"
     ]
    },
    {
     "name": "stdout",
     "output_type": "stream",
     "text": [
      "Failed to retrieve https://designkollective.com/stores/chic-home/products/87072, Status Code: 404\n",
      "Error processing https://designkollective.com/stores/chic-home/products/87072: cannot unpack non-iterable NoneType object\n"
     ]
    },
    {
     "name": "stderr",
     "output_type": "stream",
     "text": [
      "Processing URLs:  32%|███▏      | 9527/30000 [07:00<13:25, 25.41it/s]"
     ]
    },
    {
     "name": "stdout",
     "output_type": "stream",
     "text": [
      "Failed to retrieve https://designkollective.com/stores/chic-home/products/86734, Status Code: 404\n",
      "Error processing https://designkollective.com/stores/chic-home/products/86734: cannot unpack non-iterable NoneType object\n"
     ]
    },
    {
     "name": "stderr",
     "output_type": "stream",
     "text": [
      "Processing URLs:  32%|███▏      | 9538/30000 [07:00<12:36, 27.05it/s]"
     ]
    },
    {
     "name": "stdout",
     "output_type": "stream",
     "text": [
      "Failed to retrieve https://designkollective.com/stores/chic-home/products/86733, Status Code: 404\n",
      "Error processing https://designkollective.com/stores/chic-home/products/86733: cannot unpack non-iterable NoneType object\n"
     ]
    },
    {
     "name": "stderr",
     "output_type": "stream",
     "text": [
      "Processing URLs:  32%|███▏      | 9560/30000 [07:01<12:16, 27.77it/s]"
     ]
    },
    {
     "name": "stdout",
     "output_type": "stream",
     "text": [
      "Failed to retrieve https://designkollective.com/stores/chic-home/products/86739, Status Code: 404\n",
      "Error processing https://designkollective.com/stores/chic-home/products/86739: cannot unpack non-iterable NoneType object\n",
      "Failed to retrieve https://designkollective.com/stores/chic-home/products/86740, Status Code: 404\n",
      "Error processing https://designkollective.com/stores/chic-home/products/86740: cannot unpack non-iterable NoneType object\n",
      "Failed to retrieve https://designkollective.com/stores/chic-home/products/86742, Status Code: 404\n",
      "Error processing https://designkollective.com/stores/chic-home/products/86742: cannot unpack non-iterable NoneType object\n"
     ]
    },
    {
     "name": "stderr",
     "output_type": "stream",
     "text": [
      "Processing URLs:  32%|███▏      | 9576/30000 [07:02<13:07, 25.94it/s]"
     ]
    },
    {
     "name": "stdout",
     "output_type": "stream",
     "text": [
      "Failed to retrieve https://designkollective.com/stores/chic-home/products/86736, Status Code: 404\n",
      "Error processing https://designkollective.com/stores/chic-home/products/86736: cannot unpack non-iterable NoneType object\n",
      "Failed to retrieve https://designkollective.com/stores/chic-home/products/86746, Status Code: 404\n",
      "Error processing https://designkollective.com/stores/chic-home/products/86746: cannot unpack non-iterable NoneType object\n"
     ]
    },
    {
     "name": "stderr",
     "output_type": "stream",
     "text": [
      "Processing URLs:  32%|███▏      | 9597/30000 [07:03<12:36, 26.97it/s]"
     ]
    },
    {
     "name": "stdout",
     "output_type": "stream",
     "text": [
      "Failed to retrieve https://designkollective.com/stores/chic-home/products/86748, Status Code: 404\n",
      "Error processing https://designkollective.com/stores/chic-home/products/86748: cannot unpack non-iterable NoneType object\n"
     ]
    },
    {
     "name": "stderr",
     "output_type": "stream",
     "text": [
      "Processing URLs:  32%|███▏      | 9635/30000 [07:04<12:57, 26.18it/s]"
     ]
    },
    {
     "name": "stdout",
     "output_type": "stream",
     "text": [
      "Failed to retrieve https://designkollective.com/stores/chic-home/products/86761, Status Code: 404\n",
      "Error processing https://designkollective.com/stores/chic-home/products/86761: cannot unpack non-iterable NoneType object\n"
     ]
    },
    {
     "name": "stderr",
     "output_type": "stream",
     "text": [
      "Processing URLs:  32%|███▏      | 9642/30000 [07:04<13:18, 25.51it/s]"
     ]
    },
    {
     "name": "stdout",
     "output_type": "stream",
     "text": [
      "Failed to retrieve https://designkollective.com/stores/chic-home/products/87416, Status Code: 404\n",
      "Error processing https://designkollective.com/stores/chic-home/products/87416: cannot unpack non-iterable NoneType object\n"
     ]
    },
    {
     "name": "stderr",
     "output_type": "stream",
     "text": [
      "Processing URLs:  32%|███▏      | 9655/30000 [07:05<13:43, 24.71it/s]"
     ]
    },
    {
     "name": "stdout",
     "output_type": "stream",
     "text": [
      "Failed to retrieve https://designkollective.com/stores/chic-home/products/87417, Status Code: 404\n",
      "Error processing https://designkollective.com/stores/chic-home/products/87417: cannot unpack non-iterable NoneType object\n"
     ]
    },
    {
     "name": "stderr",
     "output_type": "stream",
     "text": [
      "Processing URLs:  32%|███▏      | 9697/30000 [07:07<14:09, 23.89it/s]"
     ]
    },
    {
     "name": "stdout",
     "output_type": "stream",
     "text": [
      "Failed to retrieve https://designkollective.com/stores/chic-home/products/86777, Status Code: 404\n",
      "Error processing https://designkollective.com/stores/chic-home/products/86777: cannot unpack non-iterable NoneType object\n",
      "Failed to retrieve https://designkollective.com/stores/chic-home/products/86776, Status Code: 404\n",
      "Error processing https://designkollective.com/stores/chic-home/products/86776: cannot unpack non-iterable NoneType object\n"
     ]
    },
    {
     "name": "stderr",
     "output_type": "stream",
     "text": [
      "Processing URLs:  32%|███▎      | 9750/30000 [07:09<12:55, 26.10it/s]"
     ]
    },
    {
     "name": "stdout",
     "output_type": "stream",
     "text": [
      "Failed to retrieve https://designkollective.com/stores/chic-home/products/87418, Status Code: 404\n",
      "Error processing https://designkollective.com/stores/chic-home/products/87418: cannot unpack non-iterable NoneType object\n"
     ]
    },
    {
     "name": "stderr",
     "output_type": "stream",
     "text": [
      "Processing URLs:  33%|███▎      | 9949/30000 [07:17<12:41, 26.34it/s]"
     ]
    },
    {
     "name": "stdout",
     "output_type": "stream",
     "text": [
      "Failed to retrieve https://designkollective.com/stores/chic-home/products/100819, Status Code: 404\n",
      "Error processing https://designkollective.com/stores/chic-home/products/100819: cannot unpack non-iterable NoneType object\n"
     ]
    },
    {
     "name": "stderr",
     "output_type": "stream",
     "text": [
      "Processing URLs:  33%|███▎      | 9991/30000 [07:19<12:29, 26.68it/s]"
     ]
    },
    {
     "name": "stdout",
     "output_type": "stream",
     "text": [
      "Failed to retrieve https://designkollective.com/stores/de-cor-globally-inspired/products/173513, Status Code: 404\n",
      "Error processing https://designkollective.com/stores/de-cor-globally-inspired/products/173513: cannot unpack non-iterable NoneType object\n"
     ]
    },
    {
     "name": "stderr",
     "output_type": "stream",
     "text": [
      "Processing URLs:  34%|███▍      | 10145/30000 [07:25<13:12, 25.07it/s]"
     ]
    },
    {
     "name": "stdout",
     "output_type": "stream",
     "text": [
      "Failed to retrieve https://designkollective.com/stores/chic-home/products/87459, Status Code: 404\n",
      "Error processing https://designkollective.com/stores/chic-home/products/87459: cannot unpack non-iterable NoneType object\n",
      "Failed to retrieve https://designkollective.com/stores/chic-home/products/87466, Status Code: 404\n",
      "Error processing https://designkollective.com/stores/chic-home/products/87466: cannot unpack non-iterable NoneType object\n",
      "Failed to retrieve https://designkollective.com/stores/chic-home/products/87455, Status Code: 404\n",
      "Error processing https://designkollective.com/stores/chic-home/products/87455: cannot unpack non-iterable NoneType object\n"
     ]
    },
    {
     "name": "stderr",
     "output_type": "stream",
     "text": [
      "Processing URLs:  34%|███▍      | 10156/30000 [07:26<11:36, 28.50it/s]"
     ]
    },
    {
     "name": "stdout",
     "output_type": "stream",
     "text": [
      "Failed to retrieve https://designkollective.com/stores/chic-home/products/87451, Status Code: 404\n",
      "Error processing https://designkollective.com/stores/chic-home/products/87451: cannot unpack non-iterable NoneType object\n",
      "Failed to retrieve https://designkollective.com/stores/chic-home/products/87457, Status Code: 404\n",
      "Error processing https://designkollective.com/stores/chic-home/products/87457: cannot unpack non-iterable NoneType object\n",
      "Failed to retrieve https://designkollective.com/stores/chic-home/products/87496, Status Code: 404\n",
      "Error processing https://designkollective.com/stores/chic-home/products/87496: cannot unpack non-iterable NoneType object\n",
      "Failed to retrieve https://designkollective.com/stores/chic-home/products/87542, Status Code: 404\n",
      "Error processing https://designkollective.com/stores/chic-home/products/87542: cannot unpack non-iterable NoneType object\n",
      "Failed to retrieve https://designkollective.com/stores/chic-home/products/87579, Status Code: 404\n",
      "Error processing https://designkollective.com/stores/chic-home/products/87579: cannot unpack non-iterable NoneType object\n",
      "Failed to retrieve https://designkollective.com/stores/chic-home/products/87564, Status Code: 404\n",
      "Error processing https://designkollective.com/stores/chic-home/products/87564: cannot unpack non-iterable NoneType object\n",
      "Failed to retrieve https://designkollective.com/stores/chic-home/products/87478, Status Code: 404\n",
      "Failed to retrieve https://designkollective.com/stores/chic-home/products/87557, Status Code: 404\n",
      "Error processing https://designkollective.com/stores/chic-home/products/87478: cannot unpack non-iterable NoneType object\n",
      "Error processing https://designkollective.com/stores/chic-home/products/87557: cannot unpack non-iterable NoneType object\n",
      "Failed to retrieve https://designkollective.com/stores/chic-home/products/87555, Status Code: 404\n",
      "Error processing https://designkollective.com/stores/chic-home/products/87555: cannot unpack non-iterable NoneType object\n",
      "Failed to retrieve https://designkollective.com/stores/chic-home/products/87565, Status Code: 404\n",
      "Failed to retrieve https://designkollective.com/stores/chic-home/products/87584, Status Code: 404\n",
      "Error processing https://designkollective.com/stores/chic-home/products/87584: cannot unpack non-iterable NoneType object\n",
      "Error processing https://designkollective.com/stores/chic-home/products/87565: cannot unpack non-iterable NoneType object\n",
      "Failed to retrieve https://designkollective.com/stores/chic-home/products/87454, Status Code: 404\n",
      "Error processing https://designkollective.com/stores/chic-home/products/87454: cannot unpack non-iterable NoneType object\n"
     ]
    },
    {
     "name": "stderr",
     "output_type": "stream",
     "text": [
      "Processing URLs:  34%|███▍      | 10166/30000 [07:26<07:14, 45.70it/s]"
     ]
    },
    {
     "name": "stdout",
     "output_type": "stream",
     "text": [
      "Failed to retrieve https://designkollective.com/stores/chic-home/products/87551, Status Code: 404\n",
      "Error processing https://designkollective.com/stores/chic-home/products/87551: cannot unpack non-iterable NoneType object\n",
      "Failed to retrieve https://designkollective.com/stores/chic-home/products/87563, Status Code: 404\n",
      "Error processing https://designkollective.com/stores/chic-home/products/87563: cannot unpack non-iterable NoneType object\n",
      "Failed to retrieve https://designkollective.com/stores/chic-home/products/87589, Status Code: 404\n",
      "Error processing https://designkollective.com/stores/chic-home/products/87589: cannot unpack non-iterable NoneType object\n"
     ]
    },
    {
     "name": "stderr",
     "output_type": "stream",
     "text": [
      "Processing URLs:  34%|███▍      | 10171/30000 [07:26<11:32, 28.63it/s]"
     ]
    },
    {
     "name": "stdout",
     "output_type": "stream",
     "text": [
      "Failed to retrieve https://designkollective.com/stores/chic-home/products/87731, Status Code: 404\n",
      "Error processing https://designkollective.com/stores/chic-home/products/87731: cannot unpack non-iterable NoneType object\n",
      "Failed to retrieve https://designkollective.com/stores/chic-home/products/87559, Status Code: 404\n",
      "Error processing https://designkollective.com/stores/chic-home/products/87559: cannot unpack non-iterable NoneType object\n",
      "Failed to retrieve https://designkollective.com/stores/chic-home/products/87498, Status Code: 404\n",
      "Failed to retrieve https://designkollective.com/stores/chic-home/products/87587, Status Code: 404\n",
      "Error processing https://designkollective.com/stores/chic-home/products/87587: cannot unpack non-iterable NoneType object\n",
      "Error processing https://designkollective.com/stores/chic-home/products/87498: cannot unpack non-iterable NoneType object\n",
      "Failed to retrieve https://designkollective.com/stores/chic-home/products/87561, Status Code: 404\n",
      "Error processing https://designkollective.com/stores/chic-home/products/87561: cannot unpack non-iterable NoneType object\n",
      "Failed to retrieve https://designkollective.com/stores/chic-home/products/87530, Status Code: 404\n",
      "Failed to retrieve https://designkollective.com/stores/chic-home/products/87543, Status Code: 404\n",
      "Failed to retrieve https://designkollective.com/stores/chic-home/products/87592, Status Code: 404\n",
      "Error processing https://designkollective.com/stores/chic-home/products/87530: cannot unpack non-iterable NoneType object\n",
      "Error processing https://designkollective.com/stores/chic-home/products/87543: cannot unpack non-iterable NoneType object\n",
      "Error processing https://designkollective.com/stores/chic-home/products/87592: cannot unpack non-iterable NoneType object\n",
      "Failed to retrieve https://designkollective.com/stores/chic-home/products/87576, Status Code: 404\n",
      "Error processing https://designkollective.com/stores/chic-home/products/87576: cannot unpack non-iterable NoneType object\n",
      "Failed to retrieve https://designkollective.com/stores/chic-home/products/87572, Status Code: 404\n",
      "Error processing https://designkollective.com/stores/chic-home/products/87572: cannot unpack non-iterable NoneType object\n"
     ]
    },
    {
     "name": "stderr",
     "output_type": "stream",
     "text": [
      "Processing URLs:  34%|███▍      | 10185/30000 [07:26<10:15, 32.17it/s]"
     ]
    },
    {
     "name": "stdout",
     "output_type": "stream",
     "text": [
      "Failed to retrieve https://designkollective.com/stores/chic-home/products/87670, Status Code: 404\n",
      "Error processing https://designkollective.com/stores/chic-home/products/87670: cannot unpack non-iterable NoneType object\n",
      "Failed to retrieve https://designkollective.com/stores/chic-home/products/87631, Status Code: 404\n",
      "Error processing https://designkollective.com/stores/chic-home/products/87631: cannot unpack non-iterable NoneType object\n",
      "Failed to retrieve https://designkollective.com/stores/chic-home/products/87704, Status Code: 404\n",
      "Error processing https://designkollective.com/stores/chic-home/products/87704: cannot unpack non-iterable NoneType object\n",
      "Failed to retrieve https://designkollective.com/stores/chic-home/products/87687, Status Code: 404\n",
      "Error processing https://designkollective.com/stores/chic-home/products/87687: cannot unpack non-iterable NoneType object\n",
      "Failed to retrieve https://designkollective.com/stores/chic-home/products/87560, Status Code: 404\n",
      "Error processing https://designkollective.com/stores/chic-home/products/87560: cannot unpack non-iterable NoneType object\n",
      "Failed to retrieve https://designkollective.com/stores/chic-home/products/87562, Status Code: 404\n",
      "Error processing https://designkollective.com/stores/chic-home/products/87562: cannot unpack non-iterable NoneType object\n"
     ]
    },
    {
     "name": "stderr",
     "output_type": "stream",
     "text": [
      "Processing URLs:  34%|███▍      | 10189/30000 [07:27<11:22, 29.02it/s]"
     ]
    },
    {
     "name": "stdout",
     "output_type": "stream",
     "text": [
      "Failed to retrieve https://designkollective.com/stores/chic-home/products/87421, Status Code: 404\n",
      "Error processing https://designkollective.com/stores/chic-home/products/87421: cannot unpack non-iterable NoneType object\n",
      "Failed to retrieve https://designkollective.com/stores/chic-home/products/87582, Status Code: 404\n",
      "Error processing https://designkollective.com/stores/chic-home/products/87582: cannot unpack non-iterable NoneType object\n",
      "Failed to retrieve https://designkollective.com/stores/chic-home/products/87647, Status Code: 404\n",
      "Error processing https://designkollective.com/stores/chic-home/products/87647: cannot unpack non-iterable NoneType object\n",
      "Failed to retrieve https://designkollective.com/stores/chic-home/products/87674, Status Code: 404\n",
      "Error processing https://designkollective.com/stores/chic-home/products/87674: cannot unpack non-iterable NoneType object\n"
     ]
    },
    {
     "name": "stderr",
     "output_type": "stream",
     "text": [
      "Processing URLs:  34%|███▍      | 10199/30000 [07:27<09:36, 34.33it/s]"
     ]
    },
    {
     "name": "stdout",
     "output_type": "stream",
     "text": [
      "Failed to retrieve https://designkollective.com/stores/chic-home/products/87649, Status Code: 404\n",
      "Error processing https://designkollective.com/stores/chic-home/products/87649: cannot unpack non-iterable NoneType object\n",
      "Failed to retrieve https://designkollective.com/stores/chic-home/products/87984, Status Code: 404\n",
      "Error processing https://designkollective.com/stores/chic-home/products/87984: cannot unpack non-iterable NoneType object\n",
      "Failed to retrieve https://designkollective.com/stores/chic-home/products/87595, Status Code: 404\n",
      "Error processing https://designkollective.com/stores/chic-home/products/87595: cannot unpack non-iterable NoneType object\n",
      "Failed to retrieve https://designkollective.com/stores/chic-home/products/87673, Status Code: 404\n",
      "Error processing https://designkollective.com/stores/chic-home/products/87673: cannot unpack non-iterable NoneType object\n",
      "Failed to retrieve https://designkollective.com/stores/chic-home/products/87419, Status Code: 404\n",
      "Error processing https://designkollective.com/stores/chic-home/products/87419: cannot unpack non-iterable NoneType object\n"
     ]
    },
    {
     "name": "stderr",
     "output_type": "stream",
     "text": [
      "Processing URLs:  34%|███▍      | 10203/30000 [07:27<11:11, 29.48it/s]"
     ]
    },
    {
     "name": "stdout",
     "output_type": "stream",
     "text": [
      "Failed to retrieve https://designkollective.com/stores/chic-home/products/87696, Status Code: 404\n",
      "Error processing https://designkollective.com/stores/chic-home/products/87696: cannot unpack non-iterable NoneType object\n",
      "Failed to retrieve https://designkollective.com/stores/chic-home/products/87711, Status Code: 404\n",
      "Error processing https://designkollective.com/stores/chic-home/products/87711: cannot unpack non-iterable NoneType object\n",
      "Failed to retrieve https://designkollective.com/stores/chic-home/products/87714, Status Code: 404\n",
      "Error processing https://designkollective.com/stores/chic-home/products/87714: cannot unpack non-iterable NoneType object\n",
      "Failed to retrieve https://designkollective.com/stores/chic-home/products/87464, Status Code: 404\n",
      "Failed to retrieve https://designkollective.com/stores/chic-home/products/87693, Status Code: 404\n",
      "Error processing https://designkollective.com/stores/chic-home/products/87464: cannot unpack non-iterable NoneType object\n",
      "Error processing https://designkollective.com/stores/chic-home/products/87693: cannot unpack non-iterable NoneType object\n",
      "Failed to retrieve https://designkollective.com/stores/chic-home/products/87657, Status Code: 404\n",
      "Error processing https://designkollective.com/stores/chic-home/products/87657: cannot unpack non-iterable NoneType object\n",
      "Failed to retrieve https://designkollective.com/stores/chic-home/products/87697, Status Code: 404\n",
      "Error processing https://designkollective.com/stores/chic-home/products/87697: cannot unpack non-iterable NoneType object\n",
      "Failed to retrieve https://designkollective.com/stores/chic-home/products/87702, Status Code: 404\n",
      "Error processing https://designkollective.com/stores/chic-home/products/87702: cannot unpack non-iterable NoneType object\n",
      "Failed to retrieve https://designkollective.com/stores/chic-home/products/87672, Status Code: 404\n",
      "Failed to retrieve https://designkollective.com/stores/chic-home/products/87732, Status Code: 404\n",
      "Error processing https://designkollective.com/stores/chic-home/products/87672: cannot unpack non-iterable NoneType object\n",
      "Error processing https://designkollective.com/stores/chic-home/products/87732: cannot unpack non-iterable NoneType object\n",
      "Failed to retrieve https://designkollective.com/stores/chic-home/products/87735, Status Code: 404\n",
      "Error processing https://designkollective.com/stores/chic-home/products/87735: cannot unpack non-iterable NoneType object\n",
      "Failed to retrieve https://designkollective.com/stores/chic-home/products/87668, Status Code: 404\n",
      "Error processing https://designkollective.com/stores/chic-home/products/87668: cannot unpack non-iterable NoneType object\n",
      "Failed to retrieve https://designkollective.com/stores/chic-home/products/87655, Status Code: 404\n",
      "Error processing https://designkollective.com/stores/chic-home/products/87655: cannot unpack non-iterable NoneType object\n"
     ]
    },
    {
     "name": "stderr",
     "output_type": "stream",
     "text": [
      "Processing URLs:  34%|███▍      | 10213/30000 [07:27<07:33, 43.64it/s]"
     ]
    },
    {
     "name": "stdout",
     "output_type": "stream",
     "text": [
      "Failed to retrieve https://designkollective.com/stores/chic-home/products/87733, Status Code: 404\n",
      "Error processing https://designkollective.com/stores/chic-home/products/87733: cannot unpack non-iterable NoneType object\n",
      "Failed to retrieve https://designkollective.com/stores/chic-home/products/87748, Status Code: 404\n",
      "Error processing https://designkollective.com/stores/chic-home/products/87748: cannot unpack non-iterable NoneType object\n"
     ]
    },
    {
     "name": "stderr",
     "output_type": "stream",
     "text": [
      "Processing URLs:  34%|███▍      | 10219/30000 [07:27<11:10, 29.49it/s]"
     ]
    },
    {
     "name": "stdout",
     "output_type": "stream",
     "text": [
      "Failed to retrieve https://designkollective.com/stores/chic-home/products/87708, Status Code: 404\n",
      "Error processing https://designkollective.com/stores/chic-home/products/87708: cannot unpack non-iterable NoneType object\n",
      "Failed to retrieve https://designkollective.com/stores/chic-home/products/87995, Status Code: 404\n",
      "Error processing https://designkollective.com/stores/chic-home/products/87995: cannot unpack non-iterable NoneType object\n",
      "Failed to retrieve https://designkollective.com/stores/chic-home/products/87987, Status Code: 404\n",
      "Error processing https://designkollective.com/stores/chic-home/products/87987: cannot unpack non-iterable NoneType object\n",
      "Failed to retrieve https://designkollective.com/stores/chic-home/products/87976, Status Code: 404\n",
      "Error processing https://designkollective.com/stores/chic-home/products/87976: cannot unpack non-iterable NoneType object\n"
     ]
    },
    {
     "name": "stderr",
     "output_type": "stream",
     "text": [
      "Processing URLs:  34%|███▍      | 10232/30000 [07:28<08:27, 38.93it/s]"
     ]
    },
    {
     "name": "stdout",
     "output_type": "stream",
     "text": [
      "Failed to retrieve https://designkollective.com/stores/chic-home/products/87709, Status Code: 404\n",
      "Error processing https://designkollective.com/stores/chic-home/products/87709: cannot unpack non-iterable NoneType object\n",
      "Failed to retrieve https://designkollective.com/stores/chic-home/products/87988, Status Code: 404\n",
      "Error processing https://designkollective.com/stores/chic-home/products/87988: cannot unpack non-iterable NoneType object\n",
      "Failed to retrieve https://designkollective.com/stores/chic-home/products/87954, Status Code: 404\n",
      "Error processing https://designkollective.com/stores/chic-home/products/87954: cannot unpack non-iterable NoneType object\n",
      "Failed to retrieve https://designkollective.com/stores/chic-home/products/87727, Status Code: 404\n",
      "Error processing https://designkollective.com/stores/chic-home/products/87727: cannot unpack non-iterable NoneType object\n",
      "Failed to retrieve https://designkollective.com/stores/chic-home/products/87734, Status Code: 404\n",
      "Error processing https://designkollective.com/stores/chic-home/products/87734: cannot unpack non-iterable NoneType object\n",
      "Failed to retrieve https://designkollective.com/stores/chic-home/products/87956, Status Code: 404\n",
      "Error processing https://designkollective.com/stores/chic-home/products/87956: cannot unpack non-iterable NoneType object\n",
      "Failed to retrieve https://designkollective.com/stores/chic-home/products/87957, Status Code: 404\n",
      "Failed to retrieve https://designkollective.com/stores/chic-home/products/87970, Status Code: 404\n",
      "Error processing https://designkollective.com/stores/chic-home/products/87957: cannot unpack non-iterable NoneType object\n",
      "Error processing https://designkollective.com/stores/chic-home/products/87970: cannot unpack non-iterable NoneType object\n",
      "Failed to retrieve https://designkollective.com/stores/chic-home/products/87977, Status Code: 404\n",
      "Error processing https://designkollective.com/stores/chic-home/products/87977: cannot unpack non-iterable NoneType object\n",
      "Failed to retrieve https://designkollective.com/stores/chic-home/products/87978, Status Code: 404\n",
      "Error processing https://designkollective.com/stores/chic-home/products/87978: cannot unpack non-iterable NoneType object\n"
     ]
    },
    {
     "name": "stderr",
     "output_type": "stream",
     "text": [
      "Processing URLs:  34%|███▍      | 10238/30000 [07:28<10:32, 31.24it/s]"
     ]
    },
    {
     "name": "stdout",
     "output_type": "stream",
     "text": [
      "Failed to retrieve https://designkollective.com/stores/chic-home/products/88002, Status Code: 404\n",
      "Error processing https://designkollective.com/stores/chic-home/products/88002: cannot unpack non-iterable NoneType object\n",
      "Failed to retrieve https://designkollective.com/stores/chic-home/products/87959, Status Code: 404\n",
      "Error processing https://designkollective.com/stores/chic-home/products/87959: cannot unpack non-iterable NoneType object\n",
      "Failed to retrieve https://designkollective.com/stores/chic-home/products/87972, Status Code: 404\n",
      "Error processing https://designkollective.com/stores/chic-home/products/87972: cannot unpack non-iterable NoneType object\n",
      "Failed to retrieve https://designkollective.com/stores/chic-home/products/87958, Status Code: 404\n",
      "Error processing https://designkollective.com/stores/chic-home/products/87958: cannot unpack non-iterable NoneType object\n",
      "Failed to retrieve https://designkollective.com/stores/chic-home/products/87955, Status Code: 404\n",
      "Error processing https://designkollective.com/stores/chic-home/products/87955: cannot unpack non-iterable NoneType object\n",
      "Failed to retrieve https://designkollective.com/stores/chic-home/products/87975, Status Code: 404\n",
      "Error processing https://designkollective.com/stores/chic-home/products/87975: cannot unpack non-iterable NoneType object\n",
      "Failed to retrieve https://designkollective.com/stores/chic-home/products/87968, Status Code: 404\n",
      "Error processing https://designkollective.com/stores/chic-home/products/87968: cannot unpack non-iterable NoneType object\n"
     ]
    },
    {
     "name": "stderr",
     "output_type": "stream",
     "text": [
      "Processing URLs:  34%|███▍      | 10247/30000 [07:28<11:38, 28.28it/s]"
     ]
    },
    {
     "name": "stdout",
     "output_type": "stream",
     "text": [
      "Failed to retrieve https://designkollective.com/stores/chic-home/products/88054, Status Code: 404\n",
      "Error processing https://designkollective.com/stores/chic-home/products/88054: cannot unpack non-iterable NoneType object\n",
      "Failed to retrieve https://designkollective.com/stores/chic-home/products/88028, Status Code: 404\n",
      "Error processing https://designkollective.com/stores/chic-home/products/88028: cannot unpack non-iterable NoneType object\n",
      "Failed to retrieve https://designkollective.com/stores/chic-home/products/87981, Status Code: 404\n",
      "Error processing https://designkollective.com/stores/chic-home/products/87981: cannot unpack non-iterable NoneType object\n"
     ]
    },
    {
     "name": "stderr",
     "output_type": "stream",
     "text": [
      "Processing URLs:  34%|███▍      | 10251/30000 [07:29<13:22, 24.62it/s]"
     ]
    },
    {
     "name": "stdout",
     "output_type": "stream",
     "text": [
      "Failed to retrieve https://designkollective.com/stores/chic-home/products/88051, Status Code: 404\n",
      "Error processing https://designkollective.com/stores/chic-home/products/88051: cannot unpack non-iterable NoneType object\n",
      "Failed to retrieve https://designkollective.com/stores/chic-home/products/88042, Status Code: 404\n",
      "Error processing https://designkollective.com/stores/chic-home/products/88042: cannot unpack non-iterable NoneType object\n",
      "Failed to retrieve https://designkollective.com/stores/chic-home/products/88011, Status Code: 404\n",
      "Error processing https://designkollective.com/stores/chic-home/products/88011: cannot unpack non-iterable NoneType object\n",
      "Failed to retrieve https://designkollective.com/stores/chic-home/products/87966, Status Code: 404\n",
      "Error processing https://designkollective.com/stores/chic-home/products/87966: cannot unpack non-iterable NoneType object\n"
     ]
    },
    {
     "name": "stderr",
     "output_type": "stream",
     "text": [
      "Processing URLs:  34%|███▍      | 10257/30000 [07:29<14:20, 22.95it/s]"
     ]
    },
    {
     "name": "stdout",
     "output_type": "stream",
     "text": [
      "Failed to retrieve https://designkollective.com/stores/chic-home/products/100351, Status Code: 404\n",
      "Error processing https://designkollective.com/stores/chic-home/products/100351: cannot unpack non-iterable NoneType object\n",
      "Failed to retrieve https://designkollective.com/stores/chic-home/products/88311, Status Code: 404\n",
      "Error processing https://designkollective.com/stores/chic-home/products/88311: cannot unpack non-iterable NoneType object\n",
      "Failed to retrieve https://designkollective.com/stores/chic-home/products/88264, Status Code: 404\n",
      "Error processing https://designkollective.com/stores/chic-home/products/88264: cannot unpack non-iterable NoneType object\n",
      "Failed to retrieve https://designkollective.com/stores/chic-home/products/88050, Status Code: 404\n",
      "Error processing https://designkollective.com/stores/chic-home/products/88050: cannot unpack non-iterable NoneType object\n",
      "Failed to retrieve https://designkollective.com/stores/chic-home/products/87967, Status Code: 404\n",
      "Error processing https://designkollective.com/stores/chic-home/products/87967: cannot unpack non-iterable NoneType object\n",
      "Failed to retrieve https://designkollective.com/stores/chic-home/products/87983, Status Code: 404\n",
      "Failed to retrieve https://designkollective.com/stores/chic-home/products/87982, Status Code: 404\n",
      "Error processing https://designkollective.com/stores/chic-home/products/87983: cannot unpack non-iterable NoneType object\n",
      "Error processing https://designkollective.com/stores/chic-home/products/87982: cannot unpack non-iterable NoneType object\n",
      "Failed to retrieve https://designkollective.com/stores/chic-home/products/87974, Status Code: 404\n",
      "Error processing https://designkollective.com/stores/chic-home/products/87974: cannot unpack non-iterable NoneType object\n",
      "Failed to retrieve https://designkollective.com/stores/chic-home/products/88016, Status Code: 404\n",
      "Error processing https://designkollective.com/stores/chic-home/products/88016: cannot unpack non-iterable NoneType object\n",
      "Failed to retrieve https://designkollective.com/stores/chic-home/products/88029, Status Code: 404\n",
      "Error processing https://designkollective.com/stores/chic-home/products/88029: cannot unpack non-iterable NoneType object\n"
     ]
    },
    {
     "name": "stderr",
     "output_type": "stream",
     "text": [
      "Processing URLs:  34%|███▍      | 10275/30000 [07:29<07:51, 41.87it/s]"
     ]
    },
    {
     "name": "stdout",
     "output_type": "stream",
     "text": [
      "Failed to retrieve https://designkollective.com/stores/chic-home/products/87961, Status Code: 404\n",
      "Error processing https://designkollective.com/stores/chic-home/products/87961: cannot unpack non-iterable NoneType object\n",
      "Failed to retrieve https://designkollective.com/stores/chic-home/products/87994, Status Code: 404\n",
      "Error processing https://designkollective.com/stores/chic-home/products/87994: cannot unpack non-iterable NoneType object\n",
      "Failed to retrieve https://designkollective.com/stores/chic-home/products/88057, Status Code: 404\n",
      "Error processing https://designkollective.com/stores/chic-home/products/88057: cannot unpack non-iterable NoneType object\n",
      "Failed to retrieve https://designkollective.com/stores/chic-home/products/88047, Status Code: 404\n",
      "Error processing https://designkollective.com/stores/chic-home/products/88047: cannot unpack non-iterable NoneType object\n",
      "Failed to retrieve https://designkollective.com/stores/chic-home/products/87992, Status Code: 404\n",
      "Failed to retrieve https://designkollective.com/stores/chic-home/products/88273, Status Code: 404\n",
      "Error processing https://designkollective.com/stores/chic-home/products/87992: cannot unpack non-iterable NoneType object\n",
      "Error processing https://designkollective.com/stores/chic-home/products/88273: cannot unpack non-iterable NoneType object\n",
      "Failed to retrieve https://designkollective.com/stores/chic-home/products/88013, Status Code: 404\n",
      "Error processing https://designkollective.com/stores/chic-home/products/88013: cannot unpack non-iterable NoneType object\n",
      "Failed to retrieve https://designkollective.com/stores/chic-home/products/88329, Status Code: 404\n",
      "Error processing https://designkollective.com/stores/chic-home/products/88329: cannot unpack non-iterable NoneType object\n",
      "Failed to retrieve https://designkollective.com/stores/chic-home/products/88034, Status Code: 404\n",
      "Error processing https://designkollective.com/stores/chic-home/products/88034: cannot unpack non-iterable NoneType object\n",
      "Failed to retrieve https://designkollective.com/stores/chic-home/products/88059, Status Code: 404\n",
      "Error processing https://designkollective.com/stores/chic-home/products/88059: cannot unpack non-iterable NoneType object\n",
      "Failed to retrieve https://designkollective.com/stores/chic-home/products/88313, Status Code: 404\n",
      "Error processing https://designkollective.com/stores/chic-home/products/88313: cannot unpack non-iterable NoneType object\n",
      "Failed to retrieve https://designkollective.com/stores/chic-home/products/88063, Status Code: 404\n",
      "Error processing https://designkollective.com/stores/chic-home/products/88063: cannot unpack non-iterable NoneType object\n"
     ]
    },
    {
     "name": "stderr",
     "output_type": "stream",
     "text": [
      "Processing URLs:  34%|███▍      | 10285/30000 [07:30<11:45, 27.95it/s]"
     ]
    },
    {
     "name": "stdout",
     "output_type": "stream",
     "text": [
      "Failed to retrieve https://designkollective.com/stores/chic-home/products/88325, Status Code: 404\n",
      "Error processing https://designkollective.com/stores/chic-home/products/88325: cannot unpack non-iterable NoneType object\n",
      "Failed to retrieve https://designkollective.com/stores/chic-home/products/100371, Status Code: 404\n",
      "Failed to retrieve https://designkollective.com/stores/chic-home/products/88031, Status Code: 404\n",
      "Error processing https://designkollective.com/stores/chic-home/products/100371: cannot unpack non-iterable NoneType object\n",
      "Error processing https://designkollective.com/stores/chic-home/products/88031: cannot unpack non-iterable NoneType object\n",
      "Failed to retrieve https://designkollective.com/stores/chic-home/products/88267, Status Code: 404\n",
      "Error processing https://designkollective.com/stores/chic-home/products/88267: cannot unpack non-iterable NoneType object\n",
      "Failed to retrieve https://designkollective.com/stores/chic-home/products/100358, Status Code: 404\n",
      "Error processing https://designkollective.com/stores/chic-home/products/100358: cannot unpack non-iterable NoneType object\n",
      "Failed to retrieve https://designkollective.com/stores/chic-home/products/100357, Status Code: 404\n",
      "Error processing https://designkollective.com/stores/chic-home/products/100357: cannot unpack non-iterable NoneType object\n"
     ]
    },
    {
     "name": "stderr",
     "output_type": "stream",
     "text": [
      "Processing URLs:  34%|███▍      | 10293/30000 [07:30<11:40, 28.13it/s]"
     ]
    },
    {
     "name": "stdout",
     "output_type": "stream",
     "text": [
      "Failed to retrieve https://designkollective.com/stores/chic-home/products/88318, Status Code: 404\n",
      "Error processing https://designkollective.com/stores/chic-home/products/88318: cannot unpack non-iterable NoneType object\n",
      "Failed to retrieve https://designkollective.com/stores/chic-home/products/100347, Status Code: 404\n",
      "Error processing https://designkollective.com/stores/chic-home/products/100347: cannot unpack non-iterable NoneType object\n",
      "Failed to retrieve https://designkollective.com/stores/chic-home/products/100327, Status Code: 404\n",
      "Failed to retrieve https://designkollective.com/stores/chic-home/products/88321, Status Code: 404\n",
      "Error processing https://designkollective.com/stores/chic-home/products/100327: cannot unpack non-iterable NoneType object\n",
      "Error processing https://designkollective.com/stores/chic-home/products/88321: cannot unpack non-iterable NoneType object\n",
      "Failed to retrieve https://designkollective.com/stores/chic-home/products/88270, Status Code: 404\n",
      "Error processing https://designkollective.com/stores/chic-home/products/88270: cannot unpack non-iterable NoneType object\n",
      "Failed to retrieve https://designkollective.com/stores/chic-home/products/100352, Status Code: 404\n",
      "Error processing https://designkollective.com/stores/chic-home/products/100352: cannot unpack non-iterable NoneType object\n"
     ]
    },
    {
     "name": "stderr",
     "output_type": "stream",
     "text": [
      "Processing URLs:  34%|███▍      | 10304/30000 [07:30<11:25, 28.73it/s]"
     ]
    },
    {
     "name": "stdout",
     "output_type": "stream",
     "text": [
      "Failed to retrieve https://designkollective.com/stores/chic-home/products/100336, Status Code: 404\n",
      "Error processing https://designkollective.com/stores/chic-home/products/100336: cannot unpack non-iterable NoneType object\n",
      "Failed to retrieve https://designkollective.com/stores/chic-home/products/100344, Status Code: 404\n",
      "Failed to retrieve https://designkollective.com/stores/chic-home/products/100343, Status Code: 404\n",
      "Error processing https://designkollective.com/stores/chic-home/products/100343: cannot unpack non-iterable NoneType object\n",
      "Failed to retrieve https://designkollective.com/stores/chic-home/products/88327, Status Code: 404\n",
      "Error processing https://designkollective.com/stores/chic-home/products/100344: cannot unpack non-iterable NoneType object\n",
      "Error processing https://designkollective.com/stores/chic-home/products/88327: cannot unpack non-iterable NoneType object\n",
      "Failed to retrieve https://designkollective.com/stores/chic-home/products/100346, Status Code: 404\n",
      "Error processing https://designkollective.com/stores/chic-home/products/100346: cannot unpack non-iterable NoneType object\n"
     ]
    },
    {
     "name": "stderr",
     "output_type": "stream",
     "text": [
      "Processing URLs:  34%|███▍      | 10318/30000 [07:31<08:24, 38.98it/s]"
     ]
    },
    {
     "name": "stdout",
     "output_type": "stream",
     "text": [
      "Failed to retrieve https://designkollective.com/stores/chic-home/products/88404, Status Code: 404\n",
      "Error processing https://designkollective.com/stores/chic-home/products/88404: cannot unpack non-iterable NoneType object\n",
      "Failed to retrieve https://designkollective.com/stores/chic-home/products/88465, Status Code: 404\n",
      "Error processing https://designkollective.com/stores/chic-home/products/88465: cannot unpack non-iterable NoneType object\n",
      "Failed to retrieve https://designkollective.com/stores/chic-home/products/88403, Status Code: 404\n",
      "Error processing https://designkollective.com/stores/chic-home/products/88403: cannot unpack non-iterable NoneType object\n",
      "Failed to retrieve https://designkollective.com/stores/chic-home/products/88388, Status Code: 404\n",
      "Error processing https://designkollective.com/stores/chic-home/products/88388: cannot unpack non-iterable NoneType object\n",
      "Failed to retrieve https://designkollective.com/stores/chic-home/products/88408, Status Code: 404\n",
      "Error processing https://designkollective.com/stores/chic-home/products/88408: cannot unpack non-iterable NoneType object\n",
      "Failed to retrieve https://designkollective.com/stores/chic-home/products/88558, Status Code: 404\n",
      "Error processing https://designkollective.com/stores/chic-home/products/88558: cannot unpack non-iterable NoneType object\n",
      "Failed to retrieve https://designkollective.com/stores/chic-home/products/88389, Status Code: 404\n",
      "Error processing https://designkollective.com/stores/chic-home/products/88389: cannot unpack non-iterable NoneType object\n",
      "Failed to retrieve https://designkollective.com/stores/chic-home/products/88560, Status Code: 404\n",
      "Error processing https://designkollective.com/stores/chic-home/products/88560: cannot unpack non-iterable NoneType object\n",
      "Failed to retrieve https://designkollective.com/stores/chic-home/products/88392, Status Code: 404\n",
      "Error processing https://designkollective.com/stores/chic-home/products/88392: cannot unpack non-iterable NoneType object\n",
      "Failed to retrieve https://designkollective.com/stores/chic-home/products/88464, Status Code: 404\n",
      "Error processing https://designkollective.com/stores/chic-home/products/88464: cannot unpack non-iterable NoneType object\n",
      "Failed to retrieve https://designkollective.com/stores/chic-home/products/88534, Status Code: 404\n",
      "Error processing https://designkollective.com/stores/chic-home/products/88534: cannot unpack non-iterable NoneType object\n",
      "Failed to retrieve https://designkollective.com/stores/chic-home/products/88387, Status Code: 404\n",
      "Error processing https://designkollective.com/stores/chic-home/products/88387: cannot unpack non-iterable NoneType object\n"
     ]
    },
    {
     "name": "stderr",
     "output_type": "stream",
     "text": [
      "Processing URLs:  34%|███▍      | 10327/30000 [07:31<10:25, 31.46it/s]"
     ]
    },
    {
     "name": "stdout",
     "output_type": "stream",
     "text": [
      "Failed to retrieve https://designkollective.com/stores/chic-home/products/88518, Status Code: 404\n",
      "Error processing https://designkollective.com/stores/chic-home/products/88518: cannot unpack non-iterable NoneType object\n",
      "Failed to retrieve https://designkollective.com/stores/chic-home/products/88407, Status Code: 404\n",
      "Error processing https://designkollective.com/stores/chic-home/products/88407: cannot unpack non-iterable NoneType object\n",
      "Failed to retrieve https://designkollective.com/stores/chic-home/products/88500, Status Code: 404\n",
      "Error processing https://designkollective.com/stores/chic-home/products/88500: cannot unpack non-iterable NoneType object\n",
      "Failed to retrieve https://designkollective.com/stores/chic-home/products/88565, Status Code: 404\n",
      "Error processing https://designkollective.com/stores/chic-home/products/88565: cannot unpack non-iterable NoneType object\n",
      "Failed to retrieve https://designkollective.com/stores/chic-home/products/88401, Status Code: 404\n",
      "Error processing https://designkollective.com/stores/chic-home/products/88401: cannot unpack non-iterable NoneType object\n",
      "Failed to retrieve https://designkollective.com/stores/chic-home/products/88413, Status Code: 404\n",
      "Error processing https://designkollective.com/stores/chic-home/products/88413: cannot unpack non-iterable NoneType object\n",
      "Failed to retrieve https://designkollective.com/stores/chic-home/products/88457, Status Code: 404\n",
      "Error processing https://designkollective.com/stores/chic-home/products/88457: cannot unpack non-iterable NoneType object\n",
      "Failed to retrieve https://designkollective.com/stores/chic-home/products/88390, Status Code: 404\n",
      "Error processing https://designkollective.com/stores/chic-home/products/88390: cannot unpack non-iterable NoneType object\n",
      "Failed to retrieve https://designkollective.com/stores/chic-home/products/88419, Status Code: 404\n",
      "Error processing https://designkollective.com/stores/chic-home/products/88419: cannot unpack non-iterable NoneType object\n"
     ]
    },
    {
     "name": "stderr",
     "output_type": "stream",
     "text": [
      "Processing URLs:  34%|███▍      | 10346/30000 [07:32<09:27, 34.66it/s]"
     ]
    },
    {
     "name": "stdout",
     "output_type": "stream",
     "text": [
      "Failed to retrieve https://designkollective.com/stores/chic-home/products/88489, Status Code: 404\n",
      "Error processing https://designkollective.com/stores/chic-home/products/88489: cannot unpack non-iterable NoneType object\n",
      "Failed to retrieve https://designkollective.com/stores/chic-home/products/88421, Status Code: 404\n",
      "Error processing https://designkollective.com/stores/chic-home/products/88421: cannot unpack non-iterable NoneType object\n",
      "Failed to retrieve https://designkollective.com/stores/chic-home/products/88411, Status Code: 404\n",
      "Error processing https://designkollective.com/stores/chic-home/products/88411: cannot unpack non-iterable NoneType object\n",
      "Failed to retrieve https://designkollective.com/stores/chic-home/products/88405, Status Code: 404\n",
      "Failed to retrieve https://designkollective.com/stores/chic-home/products/88456, Status Code: 404\n",
      "Error processing https://designkollective.com/stores/chic-home/products/88405: cannot unpack non-iterable NoneType object\n",
      "Error processing https://designkollective.com/stores/chic-home/products/88456: cannot unpack non-iterable NoneType object\n",
      "Failed to retrieve https://designkollective.com/stores/chic-home/products/88531, Status Code: 404\n",
      "Error processing https://designkollective.com/stores/chic-home/products/88531: cannot unpack non-iterable NoneType object\n",
      "Failed to retrieve https://designkollective.com/stores/chic-home/products/88467, Status Code: 404\n",
      "Error processing https://designkollective.com/stores/chic-home/products/88467: cannot unpack non-iterable NoneType object\n",
      "Failed to retrieve https://designkollective.com/stores/chic-home/products/88548, Status Code: 404\n",
      "Error processing https://designkollective.com/stores/chic-home/products/88548: cannot unpack non-iterable NoneType object\n",
      "Failed to retrieve https://designkollective.com/stores/chic-home/products/88550, Status Code: 404\n",
      "Error processing https://designkollective.com/stores/chic-home/products/88550: cannot unpack non-iterable NoneType object\n",
      "Failed to retrieve https://designkollective.com/stores/chic-home/products/88418, Status Code: 404\n",
      "Error processing https://designkollective.com/stores/chic-home/products/88418: cannot unpack non-iterable NoneType object\n",
      "Failed to retrieve https://designkollective.com/stores/chic-home/products/88420, Status Code: 404\n",
      "Error processing https://designkollective.com/stores/chic-home/products/88420: cannot unpack non-iterable NoneType object\n",
      "Failed to retrieve https://designkollective.com/stores/chic-home/products/88498, Status Code: 404\n",
      "Error processing https://designkollective.com/stores/chic-home/products/88498: cannot unpack non-iterable NoneType object\n"
     ]
    },
    {
     "name": "stderr",
     "output_type": "stream",
     "text": [
      "Processing URLs:  35%|███▍      | 10356/30000 [07:32<08:52, 36.88it/s]"
     ]
    },
    {
     "name": "stdout",
     "output_type": "stream",
     "text": [
      "Failed to retrieve https://designkollective.com/stores/chic-home/products/88460, Status Code: 404\n",
      "Error processing https://designkollective.com/stores/chic-home/products/88460: cannot unpack non-iterable NoneType object\n",
      "Failed to retrieve https://designkollective.com/stores/chic-home/products/88523, Status Code: 404\n",
      "Error processing https://designkollective.com/stores/chic-home/products/88523: cannot unpack non-iterable NoneType object\n",
      "Failed to retrieve https://designkollective.com/stores/chic-home/products/88422, Status Code: 404\n",
      "Error processing https://designkollective.com/stores/chic-home/products/88422: cannot unpack non-iterable NoneType object\n",
      "Failed to retrieve https://designkollective.com/stores/chic-home/products/88463, Status Code: 404\n",
      "Error processing https://designkollective.com/stores/chic-home/products/88463: cannot unpack non-iterable NoneType object\n",
      "Failed to retrieve https://designkollective.com/stores/chic-home/products/88516, Status Code: 404\n",
      "Error processing https://designkollective.com/stores/chic-home/products/88516: cannot unpack non-iterable NoneType object\n"
     ]
    },
    {
     "name": "stderr",
     "output_type": "stream",
     "text": [
      "Processing URLs:  35%|███▍      | 10361/30000 [07:32<10:32, 31.07it/s]"
     ]
    },
    {
     "name": "stdout",
     "output_type": "stream",
     "text": [
      "Failed to retrieve https://designkollective.com/stores/chic-home/products/88459, Status Code: 404Failed to retrieve https://designkollective.com/stores/chic-home/products/88540, Status Code: 404\n",
      "Error processing https://designkollective.com/stores/chic-home/products/88540: cannot unpack non-iterable NoneType object\n",
      "\n",
      "Error processing https://designkollective.com/stores/chic-home/products/88459: cannot unpack non-iterable NoneType object\n",
      "Failed to retrieve https://designkollective.com/stores/chic-home/products/88529, Status Code: 404\n",
      "Error processing https://designkollective.com/stores/chic-home/products/88529: cannot unpack non-iterable NoneType object\n",
      "Failed to retrieve https://designkollective.com/stores/chic-home/products/88537, Status Code: 404\n",
      "Error processing https://designkollective.com/stores/chic-home/products/88537: cannot unpack non-iterable NoneType object\n",
      "Failed to retrieve https://designkollective.com/stores/chic-home/products/88552, Status Code: 404\n",
      "Error processing https://designkollective.com/stores/chic-home/products/88552: cannot unpack non-iterable NoneType object\n",
      "Failed to retrieve https://designkollective.com/stores/chic-home/products/88559, Status Code: 404\n",
      "Failed to retrieve https://designkollective.com/stores/chic-home/products/88526, Status Code: 404\n",
      "Error processing https://designkollective.com/stores/chic-home/products/88559: cannot unpack non-iterable NoneType object\n",
      "Error processing https://designkollective.com/stores/chic-home/products/88526: cannot unpack non-iterable NoneType object\n"
     ]
    },
    {
     "name": "stderr",
     "output_type": "stream",
     "text": [
      "Processing URLs:  35%|███▍      | 10376/30000 [07:33<09:19, 35.07it/s]"
     ]
    },
    {
     "name": "stdout",
     "output_type": "stream",
     "text": [
      "Failed to retrieve https://designkollective.com/stores/chic-home/products/88564, Status Code: 404\n",
      "Error processing https://designkollective.com/stores/chic-home/products/88564: cannot unpack non-iterable NoneType object\n",
      "Failed to retrieve https://designkollective.com/stores/chic-home/products/88492, Status Code: 404\n",
      "Error processing https://designkollective.com/stores/chic-home/products/88492: cannot unpack non-iterable NoneType object\n",
      "Failed to retrieve https://designkollective.com/stores/chic-home/products/100610, Status Code: 404\n",
      "Error processing https://designkollective.com/stores/chic-home/products/100610: cannot unpack non-iterable NoneType object\n",
      "Failed to retrieve https://designkollective.com/stores/chic-home/products/88957, Status Code: 404\n",
      "Error processing https://designkollective.com/stores/chic-home/products/88957: cannot unpack non-iterable NoneType object\n",
      "Failed to retrieve https://designkollective.com/stores/chic-home/products/88951, Status Code: 404\n",
      "Error processing https://designkollective.com/stores/chic-home/products/88951: cannot unpack non-iterable NoneType object\n",
      "Failed to retrieve https://designkollective.com/stores/chic-home/products/100611, Status Code: 404\n",
      "Error processing https://designkollective.com/stores/chic-home/products/100611: cannot unpack non-iterable NoneType object\n",
      "Failed to retrieve https://designkollective.com/stores/chic-home/products/88903, Status Code: 404\n",
      "Failed to retrieve https://designkollective.com/stores/chic-home/products/88945, Status Code: 404\n",
      "Error processing https://designkollective.com/stores/chic-home/products/88903: cannot unpack non-iterable NoneType object\n",
      "Error processing https://designkollective.com/stores/chic-home/products/88945: cannot unpack non-iterable NoneType object\n"
     ]
    },
    {
     "name": "stderr",
     "output_type": "stream",
     "text": [
      "Processing URLs:  35%|███▍      | 10394/30000 [07:33<10:30, 31.08it/s]"
     ]
    },
    {
     "name": "stdout",
     "output_type": "stream",
     "text": [
      "Failed to retrieve https://designkollective.com/stores/chic-home/products/88950, Status Code: 404\n",
      "Error processing https://designkollective.com/stores/chic-home/products/88950: cannot unpack non-iterable NoneType object\n",
      "Failed to retrieve https://designkollective.com/stores/chic-home/products/88906, Status Code: 404\n",
      "Error processing https://designkollective.com/stores/chic-home/products/88906: cannot unpack non-iterable NoneType object\n",
      "Failed to retrieve https://designkollective.com/stores/chic-home/products/88965, Status Code: 404\n",
      "Error processing https://designkollective.com/stores/chic-home/products/88965: cannot unpack non-iterable NoneType object\n",
      "Failed to retrieve https://designkollective.com/stores/chic-home/products/88952, Status Code: 404\n",
      "Error processing https://designkollective.com/stores/chic-home/products/88952: cannot unpack non-iterable NoneType object\n",
      "Failed to retrieve https://designkollective.com/stores/chic-home/products/88961, Status Code: 404\n",
      "Error processing https://designkollective.com/stores/chic-home/products/88961: cannot unpack non-iterable NoneType object\n",
      "Failed to retrieve https://designkollective.com/stores/chic-home/products/88973, Status Code: 404\n",
      "Error processing https://designkollective.com/stores/chic-home/products/88973: cannot unpack non-iterable NoneType object\n"
     ]
    },
    {
     "name": "stderr",
     "output_type": "stream",
     "text": [
      "Processing URLs:  35%|███▍      | 10398/30000 [07:33<10:55, 29.89it/s]"
     ]
    },
    {
     "name": "stdout",
     "output_type": "stream",
     "text": [
      "Failed to retrieve https://designkollective.com/stores/chic-home/products/88941, Status Code: 404\n",
      "Error processing https://designkollective.com/stores/chic-home/products/88941: cannot unpack non-iterable NoneType object\n",
      "Failed to retrieve https://designkollective.com/stores/chic-home/products/88964, Status Code: 404\n",
      "Error processing https://designkollective.com/stores/chic-home/products/88964: cannot unpack non-iterable NoneType object\n",
      "Failed to retrieve https://designkollective.com/stores/chic-home/products/88969, Status Code: 404\n",
      "Failed to retrieve https://designkollective.com/stores/chic-home/products/88967, Status Code: 404\n",
      "Error processing https://designkollective.com/stores/chic-home/products/88969: cannot unpack non-iterable NoneType object\n",
      "Error processing https://designkollective.com/stores/chic-home/products/88967: cannot unpack non-iterable NoneType object\n",
      "Failed to retrieve https://designkollective.com/stores/chic-home/products/88947, Status Code: 404\n",
      "Error processing https://designkollective.com/stores/chic-home/products/88947: cannot unpack non-iterable NoneType object\n",
      "Failed to retrieve https://designkollective.com/stores/chic-home/products/88939, Status Code: 404\n",
      "Error processing https://designkollective.com/stores/chic-home/products/88939: cannot unpack non-iterable NoneType object\n",
      "Failed to retrieve https://designkollective.com/stores/chic-home/products/88956, Status Code: 404\n",
      "Error processing https://designkollective.com/stores/chic-home/products/88956: cannot unpack non-iterable NoneType object\n"
     ]
    },
    {
     "name": "stderr",
     "output_type": "stream",
     "text": [
      "Processing URLs:  35%|███▍      | 10407/30000 [07:34<07:37, 42.84it/s]"
     ]
    },
    {
     "name": "stdout",
     "output_type": "stream",
     "text": [
      "Failed to retrieve https://designkollective.com/stores/chic-home/products/88955, Status Code: 404\n",
      "Error processing https://designkollective.com/stores/chic-home/products/88955: cannot unpack non-iterable NoneType object\n",
      "Failed to retrieve https://designkollective.com/stores/chic-home/products/88953, Status Code: 404\n",
      "Error processing https://designkollective.com/stores/chic-home/products/88953: cannot unpack non-iterable NoneType object\n",
      "Failed to retrieve https://designkollective.com/stores/chic-home/products/88944, Status Code: 404\n",
      "Error processing https://designkollective.com/stores/chic-home/products/88944: cannot unpack non-iterable NoneType object\n",
      "Failed to retrieve https://designkollective.com/stores/chic-home/products/88960, Status Code: 404\n",
      "Error processing https://designkollective.com/stores/chic-home/products/88960: cannot unpack non-iterable NoneType object\n",
      "Failed to retrieve https://designkollective.com/stores/chic-home/products/88970, Status Code: 404\n",
      "Failed to retrieve https://designkollective.com/stores/chic-home/products/88949, Status Code: 404\n",
      "Error processing https://designkollective.com/stores/chic-home/products/88970: cannot unpack non-iterable NoneType object\n",
      "Error processing https://designkollective.com/stores/chic-home/products/88949: cannot unpack non-iterable NoneType object\n",
      "Failed to retrieve https://designkollective.com/stores/chic-home/products/89077, Status Code: 404\n",
      "Error processing https://designkollective.com/stores/chic-home/products/89077: cannot unpack non-iterable NoneType object\n",
      "Failed to retrieve https://designkollective.com/stores/chic-home/products/88937, Status Code: 404\n",
      "Error processing https://designkollective.com/stores/chic-home/products/88937: cannot unpack non-iterable NoneType object\n",
      "Failed to retrieve https://designkollective.com/stores/chic-home/products/88934, Status Code: 404\n",
      "Error processing https://designkollective.com/stores/chic-home/products/88934: cannot unpack non-iterable NoneType object\n"
     ]
    },
    {
     "name": "stderr",
     "output_type": "stream",
     "text": [
      "Processing URLs:  35%|███▍      | 10418/30000 [07:34<09:42, 33.61it/s]"
     ]
    },
    {
     "name": "stdout",
     "output_type": "stream",
     "text": [
      "Failed to retrieve https://designkollective.com/stores/chic-home/products/88954, Status Code: 404\n",
      "Error processing https://designkollective.com/stores/chic-home/products/88954: cannot unpack non-iterable NoneType object\n",
      "Failed to retrieve https://designkollective.com/stores/chic-home/products/88962, Status Code: 404\n",
      "Error processing https://designkollective.com/stores/chic-home/products/88962: cannot unpack non-iterable NoneType object\n",
      "Failed to retrieve https://designkollective.com/stores/chic-home/products/89078, Status Code: 404\n",
      "Error processing https://designkollective.com/stores/chic-home/products/89078: cannot unpack non-iterable NoneType object\n"
     ]
    },
    {
     "name": "stderr",
     "output_type": "stream",
     "text": [
      "Processing URLs:  35%|███▍      | 10431/30000 [07:35<15:31, 21.02it/s]"
     ]
    },
    {
     "name": "stdout",
     "output_type": "stream",
     "text": [
      "Failed to retrieve https://designkollective.com/stores/de-cor-globally-inspired/products/170875, Status Code: 404\n",
      "Error processing https://designkollective.com/stores/de-cor-globally-inspired/products/170875: cannot unpack non-iterable NoneType object\n",
      "Failed to retrieve https://designkollective.com/stores/chic-home/products/100587, Status Code: 404\n",
      "Error processing https://designkollective.com/stores/chic-home/products/100587: cannot unpack non-iterable NoneType object\n",
      "Failed to retrieve https://designkollective.com/stores/chic-home/products/100599, Status Code: 404\n",
      "Error processing https://designkollective.com/stores/chic-home/products/100599: cannot unpack non-iterable NoneType object\n"
     ]
    },
    {
     "name": "stderr",
     "output_type": "stream",
     "text": [
      "Processing URLs:  35%|███▍      | 10443/30000 [07:35<12:22, 26.32it/s]"
     ]
    },
    {
     "name": "stdout",
     "output_type": "stream",
     "text": [
      "Failed to retrieve https://designkollective.com/stores/chic-home/products/100624, Status Code: 404\n",
      "Error processing https://designkollective.com/stores/chic-home/products/100624: cannot unpack non-iterable NoneType object\n",
      "Failed to retrieve https://designkollective.com/stores/chic-home/products/100604, Status Code: 404\n",
      "Error processing https://designkollective.com/stores/chic-home/products/100604: cannot unpack non-iterable NoneType object\n"
     ]
    },
    {
     "name": "stderr",
     "output_type": "stream",
     "text": [
      "Processing URLs:  35%|███▍      | 10452/30000 [07:35<10:49, 30.08it/s]"
     ]
    },
    {
     "name": "stdout",
     "output_type": "stream",
     "text": [
      "Failed to retrieve https://designkollective.com/stores/chic-home/products/100621, Status Code: 404\n",
      "Error processing https://designkollective.com/stores/chic-home/products/100621: cannot unpack non-iterable NoneType object\n",
      "Failed to retrieve https://designkollective.com/stores/chic-home/products/100608, Status Code: 404\n",
      "Error processing https://designkollective.com/stores/chic-home/products/100608: cannot unpack non-iterable NoneType object\n",
      "Failed to retrieve https://designkollective.com/stores/chic-home/products/100606, Status Code: 404\n",
      "Error processing https://designkollective.com/stores/chic-home/products/100606: cannot unpack non-iterable NoneType object\n"
     ]
    },
    {
     "name": "stderr",
     "output_type": "stream",
     "text": [
      "Processing URLs:  35%|███▍      | 10464/30000 [07:36<11:21, 28.69it/s]"
     ]
    },
    {
     "name": "stdout",
     "output_type": "stream",
     "text": [
      "Failed to retrieve https://designkollective.com/stores/chic-home/products/100625, Status Code: 404\n",
      "Error processing https://designkollective.com/stores/chic-home/products/100625: cannot unpack non-iterable NoneType object\n",
      "Failed to retrieve https://designkollective.com/stores/chic-home/products/100633, Status Code: 404\n",
      "Error processing https://designkollective.com/stores/chic-home/products/100633: cannot unpack non-iterable NoneType object\n",
      "Failed to retrieve https://designkollective.com/stores/chic-home/products/100607, Status Code: 404\n",
      "Error processing https://designkollective.com/stores/chic-home/products/100607: cannot unpack non-iterable NoneType object\n"
     ]
    },
    {
     "name": "stderr",
     "output_type": "stream",
     "text": [
      "Processing URLs:  35%|███▍      | 10470/30000 [07:36<09:44, 33.42it/s]"
     ]
    },
    {
     "name": "stdout",
     "output_type": "stream",
     "text": [
      "Failed to retrieve https://designkollective.com/stores/chic-home/products/100619, Status Code: 404\n",
      "Error processing https://designkollective.com/stores/chic-home/products/100619: cannot unpack non-iterable NoneType object\n",
      "Failed to retrieve https://designkollective.com/stores/chic-home/products/100688, Status Code: 404\n",
      "Error processing https://designkollective.com/stores/chic-home/products/100688: cannot unpack non-iterable NoneType object\n",
      "Failed to retrieve https://designkollective.com/stores/chic-home/products/100609, Status Code: 404\n",
      "Error processing https://designkollective.com/stores/chic-home/products/100609: cannot unpack non-iterable NoneType object\n",
      "Failed to retrieve https://designkollective.com/stores/chic-home/products/100595, Status Code: 404\n",
      "Error processing https://designkollective.com/stores/chic-home/products/100595: cannot unpack non-iterable NoneType object\n"
     ]
    },
    {
     "name": "stderr",
     "output_type": "stream",
     "text": [
      "Processing URLs:  35%|███▍      | 10482/30000 [07:36<08:05, 40.18it/s]"
     ]
    },
    {
     "name": "stdout",
     "output_type": "stream",
     "text": [
      "Failed to retrieve https://designkollective.com/stores/chic-home/products/100603, Status Code: 404\n",
      "Error processing https://designkollective.com/stores/chic-home/products/100603: cannot unpack non-iterable NoneType object\n",
      "Failed to retrieve https://designkollective.com/stores/chic-home/products/100690, Status Code: 404\n",
      "Error processing https://designkollective.com/stores/chic-home/products/100690: cannot unpack non-iterable NoneType object\n",
      "Failed to retrieve https://designkollective.com/stores/chic-home/products/100637, Status Code: 404\n",
      "Error processing https://designkollective.com/stores/chic-home/products/100637: cannot unpack non-iterable NoneType object\n",
      "Failed to retrieve https://designkollective.com/stores/chic-home/products/100630, Status Code: 404\n",
      "Error processing https://designkollective.com/stores/chic-home/products/100630: cannot unpack non-iterable NoneType object\n",
      "Failed to retrieve https://designkollective.com/stores/chic-home/products/100712, Status Code: 404\n",
      "Error processing https://designkollective.com/stores/chic-home/products/100712: cannot unpack non-iterable NoneType object\n",
      "Failed to retrieve https://designkollective.com/stores/chic-home/products/100605, Status Code: 404\n",
      "Error processing https://designkollective.com/stores/chic-home/products/100605: cannot unpack non-iterable NoneType object\n"
     ]
    },
    {
     "name": "stderr",
     "output_type": "stream",
     "text": [
      "Processing URLs:  35%|███▍      | 10499/30000 [07:37<10:17, 31.60it/s]"
     ]
    },
    {
     "name": "stdout",
     "output_type": "stream",
     "text": [
      "Failed to retrieve https://designkollective.com/stores/chic-home/products/100856, Status Code: 404\n",
      "Error processing https://designkollective.com/stores/chic-home/products/100856: cannot unpack non-iterable NoneType object\n",
      "Failed to retrieve https://designkollective.com/stores/chic-home/products/100849, Status Code: 404\n",
      "Error processing https://designkollective.com/stores/chic-home/products/100849: cannot unpack non-iterable NoneType object\n"
     ]
    },
    {
     "name": "stderr",
     "output_type": "stream",
     "text": [
      "Processing URLs:  35%|███▌      | 10507/30000 [07:37<10:01, 32.42it/s]"
     ]
    },
    {
     "name": "stdout",
     "output_type": "stream",
     "text": [
      "Failed to retrieve https://designkollective.com/stores/chic-home/products/100850, Status Code: 404\n",
      "Error processing https://designkollective.com/stores/chic-home/products/100850: cannot unpack non-iterable NoneType object\n",
      "Failed to retrieve https://designkollective.com/stores/chic-home/products/100909, Status Code: 404\n",
      "Error processing https://designkollective.com/stores/chic-home/products/100909: cannot unpack non-iterable NoneType object\n",
      "Failed to retrieve https://designkollective.com/stores/chic-home/products/100848, Status Code: 404\n",
      "Error processing https://designkollective.com/stores/chic-home/products/100848: cannot unpack non-iterable NoneType object\n",
      "Failed to retrieve https://designkollective.com/stores/chic-home/products/100853, Status Code: 404\n",
      "Error processing https://designkollective.com/stores/chic-home/products/100853: cannot unpack non-iterable NoneType object\n"
     ]
    },
    {
     "name": "stderr",
     "output_type": "stream",
     "text": [
      "Processing URLs:  35%|███▌      | 10515/30000 [07:37<09:29, 34.21it/s]"
     ]
    },
    {
     "name": "stdout",
     "output_type": "stream",
     "text": [
      "Failed to retrieve https://designkollective.com/stores/chic-home/products/100840, Status Code: 404\n",
      "Error processing https://designkollective.com/stores/chic-home/products/100840: cannot unpack non-iterable NoneType object\n",
      "Failed to retrieve https://designkollective.com/stores/chic-home/products/100854, Status Code: 404\n",
      "Error processing https://designkollective.com/stores/chic-home/products/100854: cannot unpack non-iterable NoneType object\n",
      "Failed to retrieve https://designkollective.com/stores/chic-home/products/100838, Status Code: 404\n",
      "Error processing https://designkollective.com/stores/chic-home/products/100838: cannot unpack non-iterable NoneType object\n",
      "Failed to retrieve https://designkollective.com/stores/chic-home/products/100843, Status Code: 404\n",
      "Error processing https://designkollective.com/stores/chic-home/products/100843: cannot unpack non-iterable NoneType object\n"
     ]
    },
    {
     "name": "stderr",
     "output_type": "stream",
     "text": [
      "Processing URLs:  35%|███▌      | 10626/30000 [07:42<11:54, 27.12it/s]"
     ]
    },
    {
     "name": "stdout",
     "output_type": "stream",
     "text": [
      "Failed to retrieve https://designkollective.com/stores/chic-home/products/101086, Status Code: 404\n",
      "Error processing https://designkollective.com/stores/chic-home/products/101086: cannot unpack non-iterable NoneType object\n",
      "Failed to retrieve https://designkollective.com/stores/chic-home/products/101131, Status Code: 404\n",
      "Failed to retrieve https://designkollective.com/stores/chic-home/products/101163, Status Code: 404\n",
      "Error processing https://designkollective.com/stores/chic-home/products/101131: cannot unpack non-iterable NoneType object\n",
      "Error processing https://designkollective.com/stores/chic-home/products/101163: cannot unpack non-iterable NoneType object\n",
      "Failed to retrieve https://designkollective.com/stores/chic-home/products/101088, Status Code: 404\n",
      "Error processing https://designkollective.com/stores/chic-home/products/101088: cannot unpack non-iterable NoneType object\n"
     ]
    },
    {
     "name": "stderr",
     "output_type": "stream",
     "text": [
      "Processing URLs:  35%|███▌      | 10640/30000 [07:42<10:00, 32.26it/s]"
     ]
    },
    {
     "name": "stdout",
     "output_type": "stream",
     "text": [
      "Failed to retrieve https://designkollective.com/stores/chic-home/products/101152, Status Code: 404\n",
      "Error processing https://designkollective.com/stores/chic-home/products/101152: cannot unpack non-iterable NoneType object\n",
      "Failed to retrieve https://designkollective.com/stores/chic-home/products/101164, Status Code: 404\n",
      "Error processing https://designkollective.com/stores/chic-home/products/101164: cannot unpack non-iterable NoneType object\n",
      "Failed to retrieve https://designkollective.com/stores/chic-home/products/101264, Status Code: 404\n",
      "Error processing https://designkollective.com/stores/chic-home/products/101264: cannot unpack non-iterable NoneType object\n",
      "Failed to retrieve https://designkollective.com/stores/chic-home/products/101162, Status Code: 404\n",
      "Error processing https://designkollective.com/stores/chic-home/products/101162: cannot unpack non-iterable NoneType object\n",
      "Failed to retrieve https://designkollective.com/stores/chic-home/products/101156, Status Code: 404\n",
      "Error processing https://designkollective.com/stores/chic-home/products/101156: cannot unpack non-iterable NoneType object\n",
      "Failed to retrieve https://designkollective.com/stores/chic-home/products/101225, Status Code: 404\n",
      "Error processing https://designkollective.com/stores/chic-home/products/101225: cannot unpack non-iterable NoneType object\n"
     ]
    },
    {
     "name": "stderr",
     "output_type": "stream",
     "text": [
      "Processing URLs:  35%|███▌      | 10647/30000 [07:42<08:18, 38.85it/s]"
     ]
    },
    {
     "name": "stdout",
     "output_type": "stream",
     "text": [
      "Failed to retrieve https://designkollective.com/stores/chic-home/products/101143, Status Code: 404\n",
      "Error processing https://designkollective.com/stores/chic-home/products/101143: cannot unpack non-iterable NoneType object\n",
      "Failed to retrieve https://designkollective.com/stores/chic-home/products/101147, Status Code: 404\n",
      "Error processing https://designkollective.com/stores/chic-home/products/101147: cannot unpack non-iterable NoneType object\n",
      "Failed to retrieve https://designkollective.com/stores/chic-home/products/101099, Status Code: 404\n",
      "Error processing https://designkollective.com/stores/chic-home/products/101099: cannot unpack non-iterable NoneType object\n",
      "Failed to retrieve https://designkollective.com/stores/chic-home/products/101158, Status Code: 404\n",
      "Error processing https://designkollective.com/stores/chic-home/products/101158: cannot unpack non-iterable NoneType object\n"
     ]
    },
    {
     "name": "stderr",
     "output_type": "stream",
     "text": [
      "Processing URLs:  36%|███▌      | 10660/30000 [07:43<07:07, 45.24it/s]"
     ]
    },
    {
     "name": "stdout",
     "output_type": "stream",
     "text": [
      "Failed to retrieve https://designkollective.com/stores/chic-home/products/101146, Status Code: 404\n",
      "Error processing https://designkollective.com/stores/chic-home/products/101146: cannot unpack non-iterable NoneType object\n",
      "Failed to retrieve https://designkollective.com/stores/chic-home/products/101111, Status Code: 404\n",
      "Error processing https://designkollective.com/stores/chic-home/products/101111: cannot unpack non-iterable NoneType object\n",
      "Failed to retrieve https://designkollective.com/stores/chic-home/products/101194, Status Code: 404\n",
      "Error processing https://designkollective.com/stores/chic-home/products/101194: cannot unpack non-iterable NoneType object\n",
      "Failed to retrieve https://designkollective.com/stores/chic-home/products/101168, Status Code: 404\n",
      "Error processing https://designkollective.com/stores/chic-home/products/101168: cannot unpack non-iterable NoneType object\n",
      "Failed to retrieve https://designkollective.com/stores/chic-home/products/101150, Status Code: 404\n",
      "Error processing https://designkollective.com/stores/chic-home/products/101150: cannot unpack non-iterable NoneType object\n",
      "Failed to retrieve https://designkollective.com/stores/chic-home/products/101144, Status Code: 404\n",
      "Failed to retrieve https://designkollective.com/stores/chic-home/products/101224, Status Code: 404\n",
      "Error processing https://designkollective.com/stores/chic-home/products/101144: cannot unpack non-iterable NoneType object\n",
      "Error processing https://designkollective.com/stores/chic-home/products/101224: cannot unpack non-iterable NoneType object\n",
      "Failed to retrieve https://designkollective.com/stores/chic-home/products/101193, Status Code: 404\n",
      "Error processing https://designkollective.com/stores/chic-home/products/101193: cannot unpack non-iterable NoneType object\n",
      "Failed to retrieve https://designkollective.com/stores/chic-home/products/101151, Status Code: 404\n",
      "Error processing https://designkollective.com/stores/chic-home/products/101151: cannot unpack non-iterable NoneType object\n"
     ]
    },
    {
     "name": "stderr",
     "output_type": "stream",
     "text": [
      "Processing URLs:  36%|███▌      | 10675/30000 [07:43<11:40, 27.58it/s]"
     ]
    },
    {
     "name": "stdout",
     "output_type": "stream",
     "text": [
      "Failed to retrieve https://designkollective.com/stores/chic-home/products/101254, Status Code: 404\n",
      "Error processing https://designkollective.com/stores/chic-home/products/101254: cannot unpack non-iterable NoneType object\n",
      "Failed to retrieve https://designkollective.com/stores/chic-home/products/101252, Status Code: 404\n",
      "Error processing https://designkollective.com/stores/chic-home/products/101252: cannot unpack non-iterable NoneType object\n"
     ]
    },
    {
     "name": "stderr",
     "output_type": "stream",
     "text": [
      "Processing URLs:  36%|███▌      | 10687/30000 [07:44<14:22, 22.40it/s]"
     ]
    },
    {
     "name": "stdout",
     "output_type": "stream",
     "text": [
      "Failed to retrieve https://designkollective.com/stores/chic-home/products/101253, Status Code: 404Failed to retrieve https://designkollective.com/stores/chic-home/products/101263, Status Code: 404\n",
      "\n",
      "Error processing https://designkollective.com/stores/chic-home/products/101263: cannot unpack non-iterable NoneType object\n",
      "Error processing https://designkollective.com/stores/chic-home/products/101253: cannot unpack non-iterable NoneType object\n"
     ]
    },
    {
     "name": "stderr",
     "output_type": "stream",
     "text": [
      "Processing URLs:  36%|███▌      | 10704/30000 [07:44<10:12, 31.51it/s]"
     ]
    },
    {
     "name": "stdout",
     "output_type": "stream",
     "text": [
      "Failed to retrieve https://designkollective.com/stores/chic-home/products/101395, Status Code: 404\n",
      "Error processing https://designkollective.com/stores/chic-home/products/101395: cannot unpack non-iterable NoneType object\n",
      "Failed to retrieve https://designkollective.com/stores/chic-home/products/101405, Status Code: 404\n",
      "Failed to retrieve https://designkollective.com/stores/chic-home/products/101382, Status Code: 404\n",
      "Error processing https://designkollective.com/stores/chic-home/products/101405: cannot unpack non-iterable NoneType object\n",
      "Error processing https://designkollective.com/stores/chic-home/products/101382: cannot unpack non-iterable NoneType object\n",
      "Failed to retrieve https://designkollective.com/stores/chic-home/products/101380, Status Code: 404\n",
      "Error processing https://designkollective.com/stores/chic-home/products/101380: cannot unpack non-iterable NoneType object\n",
      "Failed to retrieve https://designkollective.com/stores/chic-home/products/101438, Status Code: 404\n",
      "Error processing https://designkollective.com/stores/chic-home/products/101438: cannot unpack non-iterable NoneType object\n",
      "Failed to retrieve https://designkollective.com/stores/chic-home/products/101384, Status Code: 404\n"
     ]
    },
    {
     "name": "stderr",
     "output_type": "stream",
     "text": [
      "Processing URLs:  36%|███▌      | 10711/30000 [07:45<08:17, 38.73it/s]"
     ]
    },
    {
     "name": "stdout",
     "output_type": "stream",
     "text": [
      "Error processing https://designkollective.com/stores/chic-home/products/101384: cannot unpack non-iterable NoneType object\n",
      "Failed to retrieve https://designkollective.com/stores/chic-home/products/101381, Status Code: 404\n",
      "Error processing https://designkollective.com/stores/chic-home/products/101381: cannot unpack non-iterable NoneType object\n",
      "Failed to retrieve https://designkollective.com/stores/chic-home/products/101383, Status Code: 404\n",
      "Error processing https://designkollective.com/stores/chic-home/products/101383: cannot unpack non-iterable NoneType object\n",
      "Failed to retrieve https://designkollective.com/stores/chic-home/products/101385, Status Code: 404\n",
      "Error processing https://designkollective.com/stores/chic-home/products/101385: cannot unpack non-iterable NoneType object\n",
      "Failed to retrieve https://designkollective.com/stores/chic-home/products/101387, Status Code: 404\n",
      "Error processing https://designkollective.com/stores/chic-home/products/101387: cannot unpack non-iterable NoneType object\n",
      "Failed to retrieve https://designkollective.com/stores/chic-home/products/101497, Status Code: 404\n",
      "Error processing https://designkollective.com/stores/chic-home/products/101497: cannot unpack non-iterable NoneType object\n",
      "Failed to retrieve https://designkollective.com/stores/chic-home/products/101455, Status Code: 404\n",
      "Error processing https://designkollective.com/stores/chic-home/products/101455: cannot unpack non-iterable NoneType object\n"
     ]
    },
    {
     "name": "stderr",
     "output_type": "stream",
     "text": [
      "Processing URLs:  36%|███▌      | 10721/30000 [07:45<08:22, 38.38it/s]"
     ]
    },
    {
     "name": "stdout",
     "output_type": "stream",
     "text": [
      "Failed to retrieve https://designkollective.com/stores/chic-home/products/101386, Status Code: 404\n",
      "Error processing https://designkollective.com/stores/chic-home/products/101386: cannot unpack non-iterable NoneType object\n",
      "Failed to retrieve https://designkollective.com/stores/chic-home/products/101392, Status Code: 404\n",
      "Error processing https://designkollective.com/stores/chic-home/products/101392: cannot unpack non-iterable NoneType object\n",
      "Failed to retrieve https://designkollective.com/stores/chic-home/products/101447, Status Code: 404\n",
      "Error processing https://designkollective.com/stores/chic-home/products/101447: cannot unpack non-iterable NoneType object\n",
      "Failed to retrieve https://designkollective.com/stores/chic-home/products/101394, Status Code: 404\n",
      "Error processing https://designkollective.com/stores/chic-home/products/101394: cannot unpack non-iterable NoneType object\n"
     ]
    },
    {
     "name": "stderr",
     "output_type": "stream",
     "text": [
      "Processing URLs:  36%|███▌      | 10730/30000 [07:45<09:56, 32.33it/s]"
     ]
    },
    {
     "name": "stdout",
     "output_type": "stream",
     "text": [
      "Failed to retrieve https://designkollective.com/stores/chic-home/products/101502, Status Code: 404\n",
      "Error processing https://designkollective.com/stores/chic-home/products/101502: cannot unpack non-iterable NoneType object\n",
      "Failed to retrieve https://designkollective.com/stores/chic-home/products/101443, Status Code: 404\n",
      "Error processing https://designkollective.com/stores/chic-home/products/101443: cannot unpack non-iterable NoneType object\n",
      "Failed to retrieve https://designkollective.com/stores/chic-home/products/101410, Status Code: 404\n",
      "Error processing https://designkollective.com/stores/chic-home/products/101410: cannot unpack non-iterable NoneType object\n"
     ]
    },
    {
     "name": "stderr",
     "output_type": "stream",
     "text": [
      "Processing URLs:  36%|███▌      | 10738/30000 [07:45<10:42, 29.97it/s]"
     ]
    },
    {
     "name": "stdout",
     "output_type": "stream",
     "text": [
      "Failed to retrieve https://designkollective.com/stores/chic-home/products/101441, Status Code: 404\n",
      "Error processing https://designkollective.com/stores/chic-home/products/101441: cannot unpack non-iterable NoneType object\n",
      "Failed to retrieve https://designkollective.com/stores/chic-home/products/101437, Status Code: 404\n",
      "Error processing https://designkollective.com/stores/chic-home/products/101437: cannot unpack non-iterable NoneType object\n",
      "Failed to retrieve https://designkollective.com/stores/chic-home/products/101446, Status Code: 404\n",
      "Error processing https://designkollective.com/stores/chic-home/products/101446: cannot unpack non-iterable NoneType object\n",
      "Failed to retrieve https://designkollective.com/stores/chic-home/products/101476, Status Code: 404\n",
      "Error processing https://designkollective.com/stores/chic-home/products/101476: cannot unpack non-iterable NoneType object\n",
      "Failed to retrieve https://designkollective.com/stores/chic-home/products/101454, Status Code: 404\n",
      "Error processing https://designkollective.com/stores/chic-home/products/101454: cannot unpack non-iterable NoneType object\n"
     ]
    },
    {
     "name": "stderr",
     "output_type": "stream",
     "text": [
      "Processing URLs:  36%|███▌      | 10746/30000 [07:46<11:04, 28.96it/s]"
     ]
    },
    {
     "name": "stdout",
     "output_type": "stream",
     "text": [
      "Failed to retrieve https://designkollective.com/stores/chic-home/products/101450, Status Code: 404\n",
      "Error processing https://designkollective.com/stores/chic-home/products/101450: cannot unpack non-iterable NoneType object\n",
      "Failed to retrieve https://designkollective.com/stores/chic-home/products/101439, Status Code: 404\n",
      "Error processing https://designkollective.com/stores/chic-home/products/101439: cannot unpack non-iterable NoneType object\n",
      "Failed to retrieve https://designkollective.com/stores/chic-home/products/101440, Status Code: 404\n",
      "Error processing https://designkollective.com/stores/chic-home/products/101440: cannot unpack non-iterable NoneType object\n",
      "Failed to retrieve https://designkollective.com/stores/chic-home/products/101462, Status Code: 404\n",
      "Error processing https://designkollective.com/stores/chic-home/products/101462: cannot unpack non-iterable NoneType object\n"
     ]
    },
    {
     "name": "stderr",
     "output_type": "stream",
     "text": [
      "Processing URLs:  36%|███▌      | 10761/30000 [07:46<08:28, 37.83it/s]"
     ]
    },
    {
     "name": "stdout",
     "output_type": "stream",
     "text": [
      "Failed to retrieve https://designkollective.com/stores/chic-home/products/101475, Status Code: 404\n",
      "Error processing https://designkollective.com/stores/chic-home/products/101475: cannot unpack non-iterable NoneType object\n",
      "Failed to retrieve https://designkollective.com/stores/chic-home/products/101442, Status Code: 404\n",
      "Error processing https://designkollective.com/stores/chic-home/products/101442: cannot unpack non-iterable NoneType object\n",
      "Failed to retrieve https://designkollective.com/stores/chic-home/products/101480, Status Code: 404\n",
      "Error processing https://designkollective.com/stores/chic-home/products/101480: cannot unpack non-iterable NoneType object\n",
      "Failed to retrieve https://designkollective.com/stores/chic-home/products/101451, Status Code: 404\n",
      "Error processing https://designkollective.com/stores/chic-home/products/101451: cannot unpack non-iterable NoneType object\n",
      "Failed to retrieve https://designkollective.com/stores/chic-home/products/101477, Status Code: 404\n",
      "Error processing https://designkollective.com/stores/chic-home/products/101477: cannot unpack non-iterable NoneType object\n",
      "Failed to retrieve https://designkollective.com/stores/chic-home/products/101453, Status Code: 404\n",
      "Error processing https://designkollective.com/stores/chic-home/products/101453: cannot unpack non-iterable NoneType object\n",
      "Failed to retrieve https://designkollective.com/stores/chic-home/products/101458, Status Code: 404\n",
      "Error processing https://designkollective.com/stores/chic-home/products/101458: cannot unpack non-iterable NoneType object\n"
     ]
    },
    {
     "name": "stderr",
     "output_type": "stream",
     "text": [
      "Processing URLs:  36%|███▌      | 10771/30000 [07:46<08:49, 36.32it/s]"
     ]
    },
    {
     "name": "stdout",
     "output_type": "stream",
     "text": [
      "Failed to retrieve https://designkollective.com/stores/chic-home/products/101482, Status Code: 404\n",
      "Error processing https://designkollective.com/stores/chic-home/products/101482: cannot unpack non-iterable NoneType object\n",
      "Failed to retrieve https://designkollective.com/stores/chic-home/products/101459, Status Code: 404\n",
      "Error processing https://designkollective.com/stores/chic-home/products/101459: cannot unpack non-iterable NoneType object\n",
      "Failed to retrieve https://designkollective.com/stores/chic-home/products/101478, Status Code: 404\n",
      "Error processing https://designkollective.com/stores/chic-home/products/101478: cannot unpack non-iterable NoneType object\n",
      "Failed to retrieve https://designkollective.com/stores/chic-home/products/101488, Status Code: 404\n",
      "Error processing https://designkollective.com/stores/chic-home/products/101488: cannot unpack non-iterable NoneType object\n",
      "Failed to retrieve https://designkollective.com/stores/chic-home/products/101501, Status Code: 404\n",
      "Error processing https://designkollective.com/stores/chic-home/products/101501: cannot unpack non-iterable NoneType object\n"
     ]
    },
    {
     "name": "stderr",
     "output_type": "stream",
     "text": [
      "Processing URLs:  36%|███▌      | 10778/30000 [07:47<07:44, 41.35it/s]"
     ]
    },
    {
     "name": "stdout",
     "output_type": "stream",
     "text": [
      "Failed to retrieve https://designkollective.com/stores/chic-home/products/101490, Status Code: 404\n",
      "Failed to retrieve https://designkollective.com/stores/chic-home/products/101479, Status Code: 404\n",
      "Error processing https://designkollective.com/stores/chic-home/products/101490: cannot unpack non-iterable NoneType object\n",
      "Error processing https://designkollective.com/stores/chic-home/products/101479: cannot unpack non-iterable NoneType object\n",
      "Failed to retrieve https://designkollective.com/stores/chic-home/products/101499, Status Code: 404\n",
      "Error processing https://designkollective.com/stores/chic-home/products/101499: cannot unpack non-iterable NoneType object\n",
      "Failed to retrieve https://designkollective.com/stores/chic-home/products/101503, Status Code: 404\n",
      "Error processing https://designkollective.com/stores/chic-home/products/101503: cannot unpack non-iterable NoneType object\n"
     ]
    },
    {
     "name": "stderr",
     "output_type": "stream",
     "text": [
      "Processing URLs:  36%|███▌      | 10799/30000 [07:48<12:23, 25.81it/s]"
     ]
    },
    {
     "name": "stdout",
     "output_type": "stream",
     "text": [
      "Failed to retrieve https://designkollective.com/stores/chic-home/products/101648, Status Code: 404\n",
      "Error processing https://designkollective.com/stores/chic-home/products/101648: cannot unpack non-iterable NoneType object\n",
      "Failed to retrieve https://designkollective.com/stores/chic-home/products/101629, Status Code: 404\n",
      "Error processing https://designkollective.com/stores/chic-home/products/101629: cannot unpack non-iterable NoneType object\n",
      "Failed to retrieve https://designkollective.com/stores/chic-home/products/101660, Status Code: 404\n",
      "Error processing https://designkollective.com/stores/chic-home/products/101660: cannot unpack non-iterable NoneType object\n",
      "Failed to retrieve https://designkollective.com/stores/chic-home/products/101598, Status Code: 404\n",
      "Error processing https://designkollective.com/stores/chic-home/products/101598: cannot unpack non-iterable NoneType object\n"
     ]
    },
    {
     "name": "stderr",
     "output_type": "stream",
     "text": [
      "Processing URLs:  36%|███▌      | 10807/30000 [07:48<10:39, 30.01it/s]"
     ]
    },
    {
     "name": "stdout",
     "output_type": "stream",
     "text": [
      "Failed to retrieve https://designkollective.com/stores/chic-home/products/101642, Status Code: 404\n",
      "Error processing https://designkollective.com/stores/chic-home/products/101642: cannot unpack non-iterable NoneType object\n",
      "Failed to retrieve https://designkollective.com/stores/chic-home/products/101710, Status Code: 404\n",
      "Error processing https://designkollective.com/stores/chic-home/products/101710: cannot unpack non-iterable NoneType object\n",
      "Failed to retrieve https://designkollective.com/stores/chic-home/products/101613, Status Code: 404\n",
      "Error processing https://designkollective.com/stores/chic-home/products/101613: cannot unpack non-iterable NoneType object\n"
     ]
    },
    {
     "name": "stderr",
     "output_type": "stream",
     "text": [
      "Processing URLs:  36%|███▌      | 10815/30000 [07:48<10:07, 31.56it/s]"
     ]
    },
    {
     "name": "stdout",
     "output_type": "stream",
     "text": [
      "Failed to retrieve https://designkollective.com/stores/chic-home/products/101674, Status Code: 404\n",
      "Error processing https://designkollective.com/stores/chic-home/products/101674: cannot unpack non-iterable NoneType object\n",
      "Failed to retrieve https://designkollective.com/stores/chic-home/products/101620, Status Code: 404\n",
      "Error processing https://designkollective.com/stores/chic-home/products/101620: cannot unpack non-iterable NoneType object\n"
     ]
    },
    {
     "name": "stderr",
     "output_type": "stream",
     "text": [
      "Processing URLs:  36%|███▌      | 10823/30000 [07:48<09:33, 33.43it/s]"
     ]
    },
    {
     "name": "stdout",
     "output_type": "stream",
     "text": [
      "Failed to retrieve https://designkollective.com/stores/chic-home/products/101691, Status Code: 404\n",
      "Error processing https://designkollective.com/stores/chic-home/products/101691: cannot unpack non-iterable NoneType object\n",
      "Failed to retrieve https://designkollective.com/stores/chic-home/products/101686, Status Code: 404\n",
      "Error processing https://designkollective.com/stores/chic-home/products/101686: cannot unpack non-iterable NoneType object\n",
      "Failed to retrieve https://designkollective.com/stores/chic-home/products/101639, Status Code: 404\n",
      "Error processing https://designkollective.com/stores/chic-home/products/101639: cannot unpack non-iterable NoneType object\n"
     ]
    },
    {
     "name": "stderr",
     "output_type": "stream",
     "text": [
      "Processing URLs:  36%|███▌      | 10834/30000 [07:48<08:14, 38.74it/s]"
     ]
    },
    {
     "name": "stdout",
     "output_type": "stream",
     "text": [
      "Failed to retrieve https://designkollective.com/stores/chic-home/products/101592, Status Code: 404\n",
      "Error processing https://designkollective.com/stores/chic-home/products/101592: cannot unpack non-iterable NoneType object\n",
      "Failed to retrieve https://designkollective.com/stores/chic-home/products/101681, Status Code: 404\n",
      "Error processing https://designkollective.com/stores/chic-home/products/101681: cannot unpack non-iterable NoneType object\n",
      "Failed to retrieve https://designkollective.com/stores/chic-home/products/101638, Status Code: 404\n",
      "Error processing https://designkollective.com/stores/chic-home/products/101638: cannot unpack non-iterable NoneType object\n",
      "Failed to retrieve https://designkollective.com/stores/chic-home/products/101590, Status Code: 404\n",
      "Error processing https://designkollective.com/stores/chic-home/products/101590: cannot unpack non-iterable NoneType object\n",
      "Failed to retrieve https://designkollective.com/stores/chic-home/products/101676, Status Code: 404\n",
      "Error processing https://designkollective.com/stores/chic-home/products/101676: cannot unpack non-iterable NoneType object\n",
      "Failed to retrieve https://designkollective.com/stores/chic-home/products/101610, Status Code: 404\n",
      "Error processing https://designkollective.com/stores/chic-home/products/101610: cannot unpack non-iterable NoneType object\n",
      "Failed to retrieve https://designkollective.com/stores/chic-home/products/101614, Status Code: 404\n",
      "Error processing https://designkollective.com/stores/chic-home/products/101614: cannot unpack non-iterable NoneType object\n",
      "Failed to retrieve https://designkollective.com/stores/chic-home/products/101679, Status Code: 404\n",
      "Error processing https://designkollective.com/stores/chic-home/products/101679: cannot unpack non-iterable NoneType object\n",
      "Failed to retrieve https://designkollective.com/stores/chic-home/products/101677, Status Code: 404\n",
      "Error processing https://designkollective.com/stores/chic-home/products/101677: cannot unpack non-iterable NoneType object\n",
      "Failed to retrieve https://designkollective.com/stores/chic-home/products/101671, Status Code: 404\n",
      "Error processing https://designkollective.com/stores/chic-home/products/101671: cannot unpack non-iterable NoneType object\n",
      "Failed to retrieve https://designkollective.com/stores/chic-home/products/101585, Status Code: 404\n",
      "Error processing https://designkollective.com/stores/chic-home/products/101585: cannot unpack non-iterable NoneType object\n"
     ]
    },
    {
     "name": "stderr",
     "output_type": "stream",
     "text": [
      "Processing URLs:  36%|███▌      | 10842/30000 [07:49<06:46, 47.15it/s]"
     ]
    },
    {
     "name": "stdout",
     "output_type": "stream",
     "text": [
      "Failed to retrieve https://designkollective.com/stores/chic-home/products/101665, Status Code: 404\n",
      "Error processing https://designkollective.com/stores/chic-home/products/101665: cannot unpack non-iterable NoneType object\n",
      "Failed to retrieve https://designkollective.com/stores/chic-home/products/101583, Status Code: 404\n",
      "Error processing https://designkollective.com/stores/chic-home/products/101583: cannot unpack non-iterable NoneType object\n",
      "Failed to retrieve https://designkollective.com/stores/chic-home/products/101603, Status Code: 404\n",
      "Error processing https://designkollective.com/stores/chic-home/products/101603: cannot unpack non-iterable NoneType object\n",
      "Failed to retrieve https://designkollective.com/stores/chic-home/products/101623, Status Code: 404\n",
      "Error processing https://designkollective.com/stores/chic-home/products/101623: cannot unpack non-iterable NoneType object\n",
      "Failed to retrieve https://designkollective.com/stores/chic-home/products/101617, Status Code: 404\n",
      "Error processing https://designkollective.com/stores/chic-home/products/101617: cannot unpack non-iterable NoneType object\n",
      "Failed to retrieve https://designkollective.com/stores/chic-home/products/101626, Status Code: 404\n",
      "Error processing https://designkollective.com/stores/chic-home/products/101626: cannot unpack non-iterable NoneType object\n",
      "Failed to retrieve https://designkollective.com/stores/chic-home/products/101584, Status Code: 404\n",
      "Error processing https://designkollective.com/stores/chic-home/products/101584: cannot unpack non-iterable NoneType object\n",
      "Failed to retrieve https://designkollective.com/stores/chic-home/products/101656, Status Code: 404\n",
      "Error processing https://designkollective.com/stores/chic-home/products/101656: cannot unpack non-iterable NoneType object\n",
      "Failed to retrieve https://designkollective.com/stores/chic-home/products/101693, Status Code: 404\n",
      "Error processing https://designkollective.com/stores/chic-home/products/101693: cannot unpack non-iterable NoneType object\n",
      "Failed to retrieve https://designkollective.com/stores/chic-home/products/101597, Status Code: 404\n",
      "Error processing https://designkollective.com/stores/chic-home/products/101597: cannot unpack non-iterable NoneType object\n"
     ]
    },
    {
     "name": "stderr",
     "output_type": "stream",
     "text": [
      "Processing URLs:  36%|███▌      | 10847/30000 [07:49<07:56, 40.18it/s]"
     ]
    },
    {
     "name": "stdout",
     "output_type": "stream",
     "text": [
      "Failed to retrieve https://designkollective.com/stores/chic-home/products/101611, Status Code: 404\n",
      "Error processing https://designkollective.com/stores/chic-home/products/101611: cannot unpack non-iterable NoneType object\n",
      "Failed to retrieve https://designkollective.com/stores/chic-home/products/101637, Status Code: 404\n",
      "Error processing https://designkollective.com/stores/chic-home/products/101637: cannot unpack non-iterable NoneType object\n",
      "Failed to retrieve https://designkollective.com/stores/chic-home/products/101702, Status Code: 404\n",
      "Error processing https://designkollective.com/stores/chic-home/products/101702: cannot unpack non-iterable NoneType object\n",
      "Failed to retrieve https://designkollective.com/stores/chic-home/products/101687, Status Code: 404\n",
      "Error processing https://designkollective.com/stores/chic-home/products/101687: cannot unpack non-iterable NoneType object\n",
      "Failed to retrieve https://designkollective.com/stores/chic-home/products/101669, Status Code: 404\n",
      "Error processing https://designkollective.com/stores/chic-home/products/101669: cannot unpack non-iterable NoneType object\n"
     ]
    },
    {
     "name": "stderr",
     "output_type": "stream",
     "text": [
      "Processing URLs:  36%|███▌      | 10856/30000 [07:49<10:40, 29.88it/s]"
     ]
    },
    {
     "name": "stdout",
     "output_type": "stream",
     "text": [
      "Failed to retrieve https://designkollective.com/stores/chic-home/products/101612, Status Code: 404\n",
      "Error processing https://designkollective.com/stores/chic-home/products/101612: cannot unpack non-iterable NoneType object\n",
      "Failed to retrieve https://designkollective.com/stores/chic-home/products/101683, Status Code: 404\n",
      "Error processing https://designkollective.com/stores/chic-home/products/101683: cannot unpack non-iterable NoneType object\n",
      "Failed to retrieve https://designkollective.com/stores/chic-home/products/101633, Status Code: 404\n",
      "Error processing https://designkollective.com/stores/chic-home/products/101633: cannot unpack non-iterable NoneType object\n",
      "Failed to retrieve https://designkollective.com/stores/chic-home/products/101588, Status Code: 404\n",
      "Error processing https://designkollective.com/stores/chic-home/products/101588: cannot unpack non-iterable NoneType object\n",
      "Failed to retrieve https://designkollective.com/stores/chic-home/products/101601, Status Code: 404\n",
      "Error processing https://designkollective.com/stores/chic-home/products/101601: cannot unpack non-iterable NoneType object\n",
      "Failed to retrieve https://designkollective.com/stores/chic-home/products/101640, Status Code: 404\n",
      "Error processing https://designkollective.com/stores/chic-home/products/101640: cannot unpack non-iterable NoneType object\n",
      "Failed to retrieve https://designkollective.com/stores/chic-home/products/101641, Status Code: 404\n",
      "Error processing https://designkollective.com/stores/chic-home/products/101641: cannot unpack non-iterable NoneType object\n"
     ]
    },
    {
     "name": "stderr",
     "output_type": "stream",
     "text": [
      "Processing URLs:  36%|███▌      | 10863/30000 [07:50<14:14, 22.41it/s]"
     ]
    },
    {
     "name": "stdout",
     "output_type": "stream",
     "text": [
      "Failed to retrieve https://designkollective.com/stores/chic-home/products/101646, Status Code: 404\n",
      "Error processing https://designkollective.com/stores/chic-home/products/101646: cannot unpack non-iterable NoneType object\n",
      "Failed to retrieve https://designkollective.com/stores/chic-home/products/101591, Status Code: 404\n",
      "Error processing https://designkollective.com/stores/chic-home/products/101591: cannot unpack non-iterable NoneType object\n",
      "Failed to retrieve https://designkollective.com/stores/chic-home/products/101589, Status Code: 404\n",
      "Error processing https://designkollective.com/stores/chic-home/products/101589: cannot unpack non-iterable NoneType object\n",
      "Failed to retrieve https://designkollective.com/stores/chic-home/products/101662, Status Code: 404\n",
      "Error processing https://designkollective.com/stores/chic-home/products/101662: cannot unpack non-iterable NoneType object\n",
      "Failed to retrieve https://designkollective.com/stores/chic-home/products/101659, Status Code: 404\n",
      "Error processing https://designkollective.com/stores/chic-home/products/101659: cannot unpack non-iterable NoneType object\n"
     ]
    },
    {
     "name": "stderr",
     "output_type": "stream",
     "text": [
      "Processing URLs:  36%|███▋      | 10878/30000 [07:50<07:58, 39.96it/s]"
     ]
    },
    {
     "name": "stdout",
     "output_type": "stream",
     "text": [
      "Failed to retrieve https://designkollective.com/stores/chic-home/products/101663, Status Code: 404\n",
      "Error processing https://designkollective.com/stores/chic-home/products/101663: cannot unpack non-iterable NoneType object\n",
      "Failed to retrieve https://designkollective.com/stores/chic-home/products/101720, Status Code: 404\n",
      "Failed to retrieve https://designkollective.com/stores/chic-home/products/101618, Status Code: 404\n",
      "Error processing https://designkollective.com/stores/chic-home/products/101720: cannot unpack non-iterable NoneType object\n",
      "Error processing https://designkollective.com/stores/chic-home/products/101618: cannot unpack non-iterable NoneType object\n",
      "Failed to retrieve https://designkollective.com/stores/chic-home/products/101604, Status Code: 404\n",
      "Error processing https://designkollective.com/stores/chic-home/products/101604: cannot unpack non-iterable NoneType object\n",
      "Failed to retrieve https://designkollective.com/stores/chic-home/products/101711, Status Code: 404\n",
      "Error processing https://designkollective.com/stores/chic-home/products/101711: cannot unpack non-iterable NoneType object\n",
      "Failed to retrieve https://designkollective.com/stores/chic-home/products/101670, Status Code: 404\n",
      "Error processing https://designkollective.com/stores/chic-home/products/101670: cannot unpack non-iterable NoneType object\n",
      "Failed to retrieve https://designkollective.com/stores/chic-home/products/101595, Status Code: 404\n",
      "Error processing https://designkollective.com/stores/chic-home/products/101595: cannot unpack non-iterable NoneType object\n",
      "Failed to retrieve https://designkollective.com/stores/chic-home/products/101609, Status Code: 404\n",
      "Error processing https://designkollective.com/stores/chic-home/products/101609: cannot unpack non-iterable NoneType object\n",
      "Failed to retrieve https://designkollective.com/stores/chic-home/products/101666, Status Code: 404\n",
      "Error processing https://designkollective.com/stores/chic-home/products/101666: cannot unpack non-iterable NoneType object\n",
      "Failed to retrieve https://designkollective.com/stores/chic-home/products/101599, Status Code: 404\n",
      "Error processing https://designkollective.com/stores/chic-home/products/101599: cannot unpack non-iterable NoneType object\n",
      "Failed to retrieve https://designkollective.com/stores/chic-home/products/101605, Status Code: 404\n",
      "Error processing https://designkollective.com/stores/chic-home/products/101605: cannot unpack non-iterable NoneType object\n",
      "Failed to retrieve https://designkollective.com/stores/chic-home/products/101587, Status Code: 404\n",
      "Failed to retrieve https://designkollective.com/stores/chic-home/products/101630, Status Code: 404\n",
      "Error processing https://designkollective.com/stores/chic-home/products/101630: cannot unpack non-iterable NoneType object\n",
      "Error processing https://designkollective.com/stores/chic-home/products/101587: cannot unpack non-iterable NoneType object\n"
     ]
    },
    {
     "name": "stderr",
     "output_type": "stream",
     "text": [
      "Processing URLs:  36%|███▋      | 10888/30000 [07:50<07:56, 40.11it/s]"
     ]
    },
    {
     "name": "stdout",
     "output_type": "stream",
     "text": [
      "Failed to retrieve https://designkollective.com/stores/chic-home/products/101606, Status Code: 404\n",
      "Error processing https://designkollective.com/stores/chic-home/products/101606: cannot unpack non-iterable NoneType object\n",
      "Failed to retrieve https://designkollective.com/stores/chic-home/products/101673, Status Code: 404\n",
      "Error processing https://designkollective.com/stores/chic-home/products/101673: cannot unpack non-iterable NoneType object\n",
      "Failed to retrieve https://designkollective.com/stores/chic-home/products/101658, Status Code: 404\n",
      "Error processing https://designkollective.com/stores/chic-home/products/101658: cannot unpack non-iterable NoneType object\n",
      "Failed to retrieve https://designkollective.com/stores/chic-home/products/101689, Status Code: 404\n",
      "Error processing https://designkollective.com/stores/chic-home/products/101689: cannot unpack non-iterable NoneType object\n",
      "Failed to retrieve https://designkollective.com/stores/chic-home/products/101721, Status Code: 404\n",
      "Error processing https://designkollective.com/stores/chic-home/products/101721: cannot unpack non-iterable NoneType object\n",
      "Failed to retrieve https://designkollective.com/stores/chic-home/products/101647, Status Code: 404\n",
      "Error processing https://designkollective.com/stores/chic-home/products/101647: cannot unpack non-iterable NoneType object\n",
      "Failed to retrieve https://designkollective.com/stores/chic-home/products/101698, Status Code: 404\n",
      "Error processing https://designkollective.com/stores/chic-home/products/101698: cannot unpack non-iterable NoneType object\n",
      "Failed to retrieve https://designkollective.com/stores/chic-home/products/101699, Status Code: 404\n",
      "Error processing https://designkollective.com/stores/chic-home/products/101699: cannot unpack non-iterable NoneType object\n"
     ]
    },
    {
     "name": "stderr",
     "output_type": "stream",
     "text": [
      "Processing URLs:  36%|███▋      | 10893/30000 [07:50<11:28, 27.76it/s]"
     ]
    },
    {
     "name": "stdout",
     "output_type": "stream",
     "text": [
      "Failed to retrieve https://designkollective.com/stores/chic-home/products/101708, Status Code: 404\n",
      "Error processing https://designkollective.com/stores/chic-home/products/101708: cannot unpack non-iterable NoneType object\n",
      "Failed to retrieve https://designkollective.com/stores/chic-home/products/101622, Status Code: 404\n",
      "Error processing https://designkollective.com/stores/chic-home/products/101622: cannot unpack non-iterable NoneType object\n",
      "Failed to retrieve https://designkollective.com/stores/chic-home/products/101635, Status Code: 404\n",
      "Error processing https://designkollective.com/stores/chic-home/products/101635: cannot unpack non-iterable NoneType object\n",
      "Failed to retrieve https://designkollective.com/stores/chic-home/products/101655, Status Code: 404\n",
      "Error processing https://designkollective.com/stores/chic-home/products/101655: cannot unpack non-iterable NoneType object\n",
      "Failed to retrieve https://designkollective.com/stores/chic-home/products/101643, Status Code: 404\n",
      "Error processing https://designkollective.com/stores/chic-home/products/101643: cannot unpack non-iterable NoneType object\n"
     ]
    },
    {
     "name": "stderr",
     "output_type": "stream",
     "text": [
      "Processing URLs:  36%|███▋      | 10909/30000 [07:51<09:20, 34.03it/s]"
     ]
    },
    {
     "name": "stdout",
     "output_type": "stream",
     "text": [
      "Failed to retrieve https://designkollective.com/stores/chic-home/products/101667, Status Code: 404\n",
      "Error processing https://designkollective.com/stores/chic-home/products/101667: cannot unpack non-iterable NoneType object\n",
      "Failed to retrieve https://designkollective.com/stores/chic-home/products/101636, Status Code: 404\n",
      "Error processing https://designkollective.com/stores/chic-home/products/101636: cannot unpack non-iterable NoneType object\n",
      "Failed to retrieve https://designkollective.com/stores/chic-home/products/101645, Status Code: 404\n",
      "Error processing https://designkollective.com/stores/chic-home/products/101645: cannot unpack non-iterable NoneType object\n",
      "Failed to retrieve https://designkollective.com/stores/chic-home/products/101685, Status Code: 404\n",
      "Failed to retrieve https://designkollective.com/stores/chic-home/products/101668, Status Code: 404\n",
      "Failed to retrieve https://designkollective.com/stores/chic-home/products/101625, Status Code: 404\n",
      "Failed to retrieve https://designkollective.com/stores/chic-home/products/101684, Status Code: 404\n",
      "Error processing https://designkollective.com/stores/chic-home/products/101685: cannot unpack non-iterable NoneType object\n",
      "Error processing https://designkollective.com/stores/chic-home/products/101668: cannot unpack non-iterable NoneType object\n",
      "Error processing https://designkollective.com/stores/chic-home/products/101625: cannot unpack non-iterable NoneType object\n",
      "Error processing https://designkollective.com/stores/chic-home/products/101684: cannot unpack non-iterable NoneType object\n",
      "Failed to retrieve https://designkollective.com/stores/chic-home/products/101644, Status Code: 404\n",
      "Error processing https://designkollective.com/stores/chic-home/products/101644: cannot unpack non-iterable NoneType object\n"
     ]
    },
    {
     "name": "stderr",
     "output_type": "stream",
     "text": [
      "Processing URLs:  36%|███▋      | 10921/30000 [07:51<10:34, 30.07it/s]"
     ]
    },
    {
     "name": "stdout",
     "output_type": "stream",
     "text": [
      "Failed to retrieve https://designkollective.com/stores/chic-home/products/101661, Status Code: 404\n",
      "Error processing https://designkollective.com/stores/chic-home/products/101661: cannot unpack non-iterable NoneType object\n"
     ]
    },
    {
     "name": "stderr",
     "output_type": "stream",
     "text": [
      "Processing URLs:  36%|███▋      | 10928/30000 [07:52<11:29, 27.66it/s]"
     ]
    },
    {
     "name": "stdout",
     "output_type": "stream",
     "text": [
      "Failed to retrieve https://designkollective.com/stores/chic-home/products/101657, Status Code: 404\n",
      "Error processing https://designkollective.com/stores/chic-home/products/101657: cannot unpack non-iterable NoneType object\n",
      "Failed to retrieve https://designkollective.com/stores/chic-home/products/101707, Status Code: 404\n",
      "Error processing https://designkollective.com/stores/chic-home/products/101707: cannot unpack non-iterable NoneType object\n",
      "Failed to retrieve https://designkollective.com/stores/chic-home/products/101706, Status Code: 404\n",
      "Error processing https://designkollective.com/stores/chic-home/products/101706: cannot unpack non-iterable NoneType object\n"
     ]
    },
    {
     "name": "stderr",
     "output_type": "stream",
     "text": [
      "Processing URLs:  36%|███▋      | 10937/30000 [07:52<10:55, 29.09it/s]"
     ]
    },
    {
     "name": "stdout",
     "output_type": "stream",
     "text": [
      "Failed to retrieve https://designkollective.com/stores/chic-home/products/101697, Status Code: 404\n",
      "Error processing https://designkollective.com/stores/chic-home/products/101697: cannot unpack non-iterable NoneType object\n",
      "Failed to retrieve https://designkollective.com/stores/chic-home/products/101675, Status Code: 404\n",
      "Failed to retrieve https://designkollective.com/stores/chic-home/products/101696, Status Code: 404\n",
      "Error processing https://designkollective.com/stores/chic-home/products/101675: cannot unpack non-iterable NoneType object\n",
      "Error processing https://designkollective.com/stores/chic-home/products/101696: cannot unpack non-iterable NoneType object\n"
     ]
    },
    {
     "name": "stderr",
     "output_type": "stream",
     "text": [
      "Processing URLs:  36%|███▋      | 10946/30000 [07:52<10:12, 31.10it/s]"
     ]
    },
    {
     "name": "stdout",
     "output_type": "stream",
     "text": [
      "Failed to retrieve https://designkollective.com/stores/chic-home/products/101705, Status Code: 404\n",
      "Error processing https://designkollective.com/stores/chic-home/products/101705: cannot unpack non-iterable NoneType object\n"
     ]
    },
    {
     "name": "stderr",
     "output_type": "stream",
     "text": [
      "Processing URLs:  37%|███▋      | 10955/30000 [07:52<09:57, 31.90it/s]"
     ]
    },
    {
     "name": "stdout",
     "output_type": "stream",
     "text": [
      "Failed to retrieve https://designkollective.com/stores/chic-home/products/101678, Status Code: 404\n",
      "Error processing https://designkollective.com/stores/chic-home/products/101678: cannot unpack non-iterable NoneType object\n",
      "Failed to retrieve https://designkollective.com/stores/chic-home/products/101709, Status Code: 404\n",
      "Error processing https://designkollective.com/stores/chic-home/products/101709: cannot unpack non-iterable NoneType object\n"
     ]
    },
    {
     "name": "stderr",
     "output_type": "stream",
     "text": [
      "Processing URLs:  37%|███▋      | 11018/30000 [07:55<12:51, 24.60it/s]"
     ]
    },
    {
     "name": "stdout",
     "output_type": "stream",
     "text": [
      "Failed to retrieve https://designkollective.com/stores/chic-home/products/101743, Status Code: 404\n",
      "Error processing https://designkollective.com/stores/chic-home/products/101743: cannot unpack non-iterable NoneType object\n"
     ]
    },
    {
     "name": "stderr",
     "output_type": "stream",
     "text": [
      "Processing URLs:  37%|███▋      | 11029/30000 [07:55<10:40, 29.61it/s]"
     ]
    },
    {
     "name": "stdout",
     "output_type": "stream",
     "text": [
      "Failed to retrieve https://designkollective.com/stores/chic-home/products/101761, Status Code: 404\n",
      "Error processing https://designkollective.com/stores/chic-home/products/101761: cannot unpack non-iterable NoneType object\n",
      "Failed to retrieve https://designkollective.com/stores/chic-home/products/101766, Status Code: 404\n",
      "Error processing https://designkollective.com/stores/chic-home/products/101766: cannot unpack non-iterable NoneType object\n",
      "Failed to retrieve https://designkollective.com/stores/chic-home/products/101740, Status Code: 404\n",
      "Error processing https://designkollective.com/stores/chic-home/products/101740: cannot unpack non-iterable NoneType object\n",
      "Failed to retrieve https://designkollective.com/stores/chic-home/products/101769, Status Code: 404\n",
      "Error processing https://designkollective.com/stores/chic-home/products/101769: cannot unpack non-iterable NoneType object\n",
      "Failed to retrieve https://designkollective.com/stores/chic-home/products/101748, Status Code: 404\n",
      "Error processing https://designkollective.com/stores/chic-home/products/101748: cannot unpack non-iterable NoneType object\n",
      "Failed to retrieve https://designkollective.com/stores/chic-home/products/101775, Status Code: 404\n",
      "Failed to retrieve https://designkollective.com/stores/chic-home/products/101741, Status Code: 404\n",
      "Error processing https://designkollective.com/stores/chic-home/products/101775: cannot unpack non-iterable NoneType object\n",
      "Error processing https://designkollective.com/stores/chic-home/products/101741: cannot unpack non-iterable NoneType object\n",
      "Failed to retrieve https://designkollective.com/stores/chic-home/products/101754, Status Code: 404\n",
      "Error processing https://designkollective.com/stores/chic-home/products/101754: cannot unpack non-iterable NoneType object\n"
     ]
    },
    {
     "name": "stderr",
     "output_type": "stream",
     "text": [
      "Processing URLs:  37%|███▋      | 11046/30000 [07:56<05:50, 54.08it/s]"
     ]
    },
    {
     "name": "stdout",
     "output_type": "stream",
     "text": [
      "Failed to retrieve https://designkollective.com/stores/chic-home/products/101742, Status Code: 404\n",
      "Error processing https://designkollective.com/stores/chic-home/products/101742: cannot unpack non-iterable NoneType object\n",
      "Failed to retrieve https://designkollective.com/stores/chic-home/products/101755, Status Code: 404\n",
      "Error processing https://designkollective.com/stores/chic-home/products/101755: cannot unpack non-iterable NoneType object\n",
      "Failed to retrieve https://designkollective.com/stores/chic-home/products/101744, Status Code: 404\n",
      "Error processing https://designkollective.com/stores/chic-home/products/101744: cannot unpack non-iterable NoneType object\n",
      "Failed to retrieve https://designkollective.com/stores/chic-home/products/101760, Status Code: 404\n",
      "Error processing https://designkollective.com/stores/chic-home/products/101760: cannot unpack non-iterable NoneType object\n",
      "Failed to retrieve https://designkollective.com/stores/chic-home/products/101763, Status Code: 404\n",
      "Error processing https://designkollective.com/stores/chic-home/products/101763: cannot unpack non-iterable NoneType object\n",
      "Failed to retrieve https://designkollective.com/stores/chic-home/products/101764, Status Code: 404\n",
      "Error processing https://designkollective.com/stores/chic-home/products/101764: cannot unpack non-iterable NoneType object\n",
      "Failed to retrieve https://designkollective.com/stores/chic-home/products/101753, Status Code: 404\n",
      "Failed to retrieve https://designkollective.com/stores/chic-home/products/101765, Status Code: 404\n",
      "Error processing https://designkollective.com/stores/chic-home/products/101765: cannot unpack non-iterable NoneType object\n",
      "Error processing https://designkollective.com/stores/chic-home/products/101753: cannot unpack non-iterable NoneType object\n",
      "Failed to retrieve https://designkollective.com/stores/chic-home/products/101762, Status Code: 404\n",
      "Error processing https://designkollective.com/stores/chic-home/products/101762: cannot unpack non-iterable NoneType object\n",
      "Failed to retrieve https://designkollective.com/stores/chic-home/products/101749, Status Code: 404\n",
      "Error processing https://designkollective.com/stores/chic-home/products/101749: cannot unpack non-iterable NoneType object\n"
     ]
    },
    {
     "name": "stderr",
     "output_type": "stream",
     "text": [
      "Processing URLs:  37%|███▋      | 11052/30000 [07:56<07:41, 41.07it/s]"
     ]
    },
    {
     "name": "stdout",
     "output_type": "stream",
     "text": [
      "Failed to retrieve https://designkollective.com/stores/chic-home/products/101771, Status Code: 404\n",
      "Error processing https://designkollective.com/stores/chic-home/products/101771: cannot unpack non-iterable NoneType object\n"
     ]
    },
    {
     "name": "stderr",
     "output_type": "stream",
     "text": [
      "Processing URLs:  37%|███▋      | 11096/30000 [07:58<12:57, 24.31it/s]"
     ]
    },
    {
     "name": "stdout",
     "output_type": "stream",
     "text": [
      "Failed to retrieve https://designkollective.com/stores/chic-home/products/57300, Status Code: 404\n",
      "Error processing https://designkollective.com/stores/chic-home/products/57300: cannot unpack non-iterable NoneType object\n"
     ]
    },
    {
     "name": "stderr",
     "output_type": "stream",
     "text": [
      "Processing URLs:  37%|███▋      | 11139/30000 [07:59<12:50, 24.49it/s]"
     ]
    },
    {
     "name": "stdout",
     "output_type": "stream",
     "text": [
      "Failed to retrieve https://designkollective.com/stores/chic-home/products/59636, Status Code: 404\n",
      "Error processing https://designkollective.com/stores/chic-home/products/59636: cannot unpack non-iterable NoneType object\n"
     ]
    },
    {
     "name": "stderr",
     "output_type": "stream",
     "text": [
      "Processing URLs:  38%|███▊      | 11262/30000 [08:04<10:33, 29.60it/s]"
     ]
    },
    {
     "name": "stdout",
     "output_type": "stream",
     "text": [
      "Failed to retrieve https://designkollective.com/stores/chic-home/products/101848, Status Code: 404\n",
      "Failed to retrieve https://designkollective.com/stores/chic-home/products/101898, Status Code: 404\n",
      "Error processing https://designkollective.com/stores/chic-home/products/101898: cannot unpack non-iterable NoneType object\n",
      "Error processing https://designkollective.com/stores/chic-home/products/101848: cannot unpack non-iterable NoneType object\n"
     ]
    },
    {
     "name": "stderr",
     "output_type": "stream",
     "text": [
      "Processing URLs:  38%|███▊      | 11271/30000 [08:05<10:16, 30.39it/s]"
     ]
    },
    {
     "name": "stdout",
     "output_type": "stream",
     "text": [
      "Failed to retrieve https://designkollective.com/stores/chic-home/products/101867, Status Code: 404\n",
      "Error processing https://designkollective.com/stores/chic-home/products/101867: cannot unpack non-iterable NoneType object\n",
      "Failed to retrieve https://designkollective.com/stores/chic-home/products/100897, Status Code: 404\n",
      "Error processing https://designkollective.com/stores/chic-home/products/100897: cannot unpack non-iterable NoneType object\n"
     ]
    },
    {
     "name": "stderr",
     "output_type": "stream",
     "text": [
      "Processing URLs:  38%|███▊      | 11282/30000 [08:05<11:10, 27.93it/s]"
     ]
    },
    {
     "name": "stdout",
     "output_type": "stream",
     "text": [
      "Failed to retrieve https://designkollective.com/stores/chic-home/products/93910, Status Code: 404\n",
      "Error processing https://designkollective.com/stores/chic-home/products/93910: cannot unpack non-iterable NoneType object\n"
     ]
    },
    {
     "name": "stderr",
     "output_type": "stream",
     "text": [
      "Processing URLs:  38%|███▊      | 11289/30000 [08:05<11:56, 26.11it/s]"
     ]
    },
    {
     "name": "stdout",
     "output_type": "stream",
     "text": [
      "Failed to retrieve https://designkollective.com/stores/chic-home/products/93942, Status Code: 404\n",
      "Error processing https://designkollective.com/stores/chic-home/products/93942: cannot unpack non-iterable NoneType object\n"
     ]
    },
    {
     "name": "stderr",
     "output_type": "stream",
     "text": [
      "Processing URLs:  38%|███▊      | 11298/30000 [08:06<10:14, 30.44it/s]"
     ]
    },
    {
     "name": "stdout",
     "output_type": "stream",
     "text": [
      "Failed to retrieve https://designkollective.com/stores/chic-home/products/101850, Status Code: 404\n",
      "Error processing https://designkollective.com/stores/chic-home/products/101850: cannot unpack non-iterable NoneType object\n",
      "Failed to retrieve https://designkollective.com/stores/chic-home/products/101849, Status Code: 404\n",
      "Error processing https://designkollective.com/stores/chic-home/products/101849: cannot unpack non-iterable NoneType object\n"
     ]
    },
    {
     "name": "stderr",
     "output_type": "stream",
     "text": [
      "Processing URLs:  38%|███▊      | 11305/30000 [08:06<11:26, 27.21it/s]"
     ]
    },
    {
     "name": "stdout",
     "output_type": "stream",
     "text": [
      "Failed to retrieve https://designkollective.com/stores/chic-home/products/101826, Status Code: 404\n",
      "Error processing https://designkollective.com/stores/chic-home/products/101826: cannot unpack non-iterable NoneType object\n",
      "Failed to retrieve https://designkollective.com/stores/chic-home/products/101866, Status Code: 404\n",
      "Failed to retrieve https://designkollective.com/stores/chic-home/products/101862, Status Code: 404\n",
      "Error processing https://designkollective.com/stores/chic-home/products/101866: cannot unpack non-iterable NoneType object\n",
      "Error processing https://designkollective.com/stores/chic-home/products/101862: cannot unpack non-iterable NoneType object\n"
     ]
    },
    {
     "name": "stderr",
     "output_type": "stream",
     "text": [
      "Processing URLs:  38%|███▊      | 11321/30000 [08:07<10:19, 30.14it/s]"
     ]
    },
    {
     "name": "stdout",
     "output_type": "stream",
     "text": [
      "Failed to retrieve https://designkollective.com/stores/chic-home/products/101843, Status Code: 404\n",
      "Error processing https://designkollective.com/stores/chic-home/products/101843: cannot unpack non-iterable NoneType object\n",
      "Failed to retrieve https://designkollective.com/stores/chic-home/products/101861, Status Code: 404\n",
      "Error processing https://designkollective.com/stores/chic-home/products/101861: cannot unpack non-iterable NoneType object\n",
      "Failed to retrieve https://designkollective.com/stores/chic-home/products/101869, Status Code: 404\n",
      "Error processing https://designkollective.com/stores/chic-home/products/101869: cannot unpack non-iterable NoneType object\n"
     ]
    },
    {
     "name": "stderr",
     "output_type": "stream",
     "text": [
      "Processing URLs:  38%|███▊      | 11333/30000 [08:07<09:34, 32.48it/s]"
     ]
    },
    {
     "name": "stdout",
     "output_type": "stream",
     "text": [
      "Failed to retrieve https://designkollective.com/stores/chic-home/products/101879, Status Code: 404\n",
      "Error processing https://designkollective.com/stores/chic-home/products/101879: cannot unpack non-iterable NoneType object\n",
      "Failed to retrieve https://designkollective.com/stores/chic-home/products/101872, Status Code: 404\n",
      "Error processing https://designkollective.com/stores/chic-home/products/101872: cannot unpack non-iterable NoneType object\n",
      "Failed to retrieve https://designkollective.com/stores/chic-home/products/101894, Status Code: 404\n",
      "Error processing https://designkollective.com/stores/chic-home/products/101894: cannot unpack non-iterable NoneType object\n",
      "Failed to retrieve https://designkollective.com/stores/chic-home/products/101892, Status Code: 404\n",
      "Error processing https://designkollective.com/stores/chic-home/products/101892: cannot unpack non-iterable NoneType object\n",
      "Failed to retrieve https://designkollective.com/stores/chic-home/products/101911, Status Code: 404\n",
      "Error processing https://designkollective.com/stores/chic-home/products/101911: cannot unpack non-iterable NoneType object\n",
      "Failed to retrieve https://designkollective.com/stores/chic-home/products/101885, Status Code: 404\n",
      "Error processing https://designkollective.com/stores/chic-home/products/101885: cannot unpack non-iterable NoneType object\n",
      "Failed to retrieve https://designkollective.com/stores/chic-home/products/101912, Status Code: 404\n",
      "Error processing https://designkollective.com/stores/chic-home/products/101912: cannot unpack non-iterable NoneType object\n"
     ]
    },
    {
     "name": "stderr",
     "output_type": "stream",
     "text": [
      "Processing URLs:  38%|███▊      | 11345/30000 [08:07<08:39, 35.93it/s]"
     ]
    },
    {
     "name": "stdout",
     "output_type": "stream",
     "text": [
      "Failed to retrieve https://designkollective.com/stores/chic-home/products/101811, Status Code: 404\n",
      "Error processing https://designkollective.com/stores/chic-home/products/101811: cannot unpack non-iterable NoneType object\n",
      "Failed to retrieve https://designkollective.com/stores/chic-home/products/101825, Status Code: 404\n",
      "Error processing https://designkollective.com/stores/chic-home/products/101825: cannot unpack non-iterable NoneType object\n",
      "Failed to retrieve https://designkollective.com/stores/chic-home/products/101868, Status Code: 404\n",
      "Error processing https://designkollective.com/stores/chic-home/products/101868: cannot unpack non-iterable NoneType object\n",
      "Failed to retrieve https://designkollective.com/stores/chic-home/products/101900, Status Code: 404\n",
      "Error processing https://designkollective.com/stores/chic-home/products/101900: cannot unpack non-iterable NoneType object\n"
     ]
    },
    {
     "name": "stderr",
     "output_type": "stream",
     "text": [
      "Processing URLs:  38%|███▊      | 11353/30000 [08:07<08:19, 37.29it/s]"
     ]
    },
    {
     "name": "stdout",
     "output_type": "stream",
     "text": [
      "Failed to retrieve https://designkollective.com/stores/chic-home/products/101883, Status Code: 404\n",
      "Error processing https://designkollective.com/stores/chic-home/products/101883: cannot unpack non-iterable NoneType object\n",
      "Failed to retrieve https://designkollective.com/stores/chic-home/products/101871, Status Code: 404\n",
      "Failed to retrieve https://designkollective.com/stores/chic-home/products/101881, Status Code: 404\n",
      "Error processing https://designkollective.com/stores/chic-home/products/101881: cannot unpack non-iterable NoneType object\n",
      "Error processing https://designkollective.com/stores/chic-home/products/101871: cannot unpack non-iterable NoneType object\n",
      "Failed to retrieve https://designkollective.com/stores/chic-home/products/101906, Status Code: 404\n",
      "Error processing https://designkollective.com/stores/chic-home/products/101906: cannot unpack non-iterable NoneType object\n"
     ]
    },
    {
     "name": "stderr",
     "output_type": "stream",
     "text": [
      "Processing URLs:  38%|███▊      | 11366/30000 [08:08<09:37, 32.29it/s]"
     ]
    },
    {
     "name": "stdout",
     "output_type": "stream",
     "text": [
      "Failed to retrieve https://designkollective.com/stores/chic-home/products/94551, Status Code: 404\n",
      "Error processing https://designkollective.com/stores/chic-home/products/94551: cannot unpack non-iterable NoneType object\n",
      "Failed to retrieve https://designkollective.com/stores/chic-home/products/94602, Status Code: 404\n",
      "Error processing https://designkollective.com/stores/chic-home/products/94602: cannot unpack non-iterable NoneType object\n",
      "Failed to retrieve https://designkollective.com/stores/chic-home/products/94538, Status Code: 404\n",
      "Error processing https://designkollective.com/stores/chic-home/products/94538: cannot unpack non-iterable NoneType object\n"
     ]
    },
    {
     "name": "stderr",
     "output_type": "stream",
     "text": [
      "Processing URLs:  38%|███▊      | 11378/30000 [08:08<10:19, 30.04it/s]"
     ]
    },
    {
     "name": "stdout",
     "output_type": "stream",
     "text": [
      "Failed to retrieve https://designkollective.com/stores/chic-home/products/94703, Status Code: 404\n",
      "Error processing https://designkollective.com/stores/chic-home/products/94703: cannot unpack non-iterable NoneType object\n",
      "Failed to retrieve https://designkollective.com/stores/chic-home/products/94714, Status Code: 404\n",
      "Error processing https://designkollective.com/stores/chic-home/products/94714: cannot unpack non-iterable NoneType object\n",
      "Failed to retrieve https://designkollective.com/stores/chic-home/products/94727, Status Code: 404\n",
      "Error processing https://designkollective.com/stores/chic-home/products/94727: cannot unpack non-iterable NoneType object\n",
      "Failed to retrieve https://designkollective.com/stores/chic-home/products/95036, Status Code: 404\n",
      "Error processing https://designkollective.com/stores/chic-home/products/95036: cannot unpack non-iterable NoneType object\n"
     ]
    },
    {
     "name": "stderr",
     "output_type": "stream",
     "text": [
      "Processing URLs:  38%|███▊      | 11386/30000 [08:09<10:44, 28.89it/s]"
     ]
    },
    {
     "name": "stdout",
     "output_type": "stream",
     "text": [
      "Failed to retrieve https://designkollective.com/stores/chic-home/products/95035, Status Code: 404\n",
      "Error processing https://designkollective.com/stores/chic-home/products/95035: cannot unpack non-iterable NoneType object\n"
     ]
    },
    {
     "name": "stderr",
     "output_type": "stream",
     "text": [
      "Processing URLs:  38%|███▊      | 11432/30000 [08:11<13:07, 23.59it/s]"
     ]
    },
    {
     "name": "stdout",
     "output_type": "stream",
     "text": [
      "Failed to retrieve https://designkollective.com/stores/chic-home/products/56450, Status Code: 404\n",
      "Error processing https://designkollective.com/stores/chic-home/products/56450: cannot unpack non-iterable NoneType object\n"
     ]
    },
    {
     "name": "stderr",
     "output_type": "stream",
     "text": [
      "Processing URLs:  38%|███▊      | 11491/30000 [08:13<10:43, 28.77it/s]"
     ]
    },
    {
     "name": "stdout",
     "output_type": "stream",
     "text": [
      "Failed to retrieve https://designkollective.com/stores/chic-home/products/96160, Status Code: 404\n",
      "Error processing https://designkollective.com/stores/chic-home/products/96160: cannot unpack non-iterable NoneType object\n",
      "Failed to retrieve https://designkollective.com/stores/chic-home/products/96133, Status Code: 404\n",
      "Error processing https://designkollective.com/stores/chic-home/products/96133: cannot unpack non-iterable NoneType object\n",
      "Failed to retrieve https://designkollective.com/stores/chic-home/products/96130, Status Code: 404\n",
      "Error processing https://designkollective.com/stores/chic-home/products/96130: cannot unpack non-iterable NoneType object\n",
      "Failed to retrieve https://designkollective.com/stores/chic-home/products/96158, Status Code: 404\n",
      "Error processing https://designkollective.com/stores/chic-home/products/96158: cannot unpack non-iterable NoneType object\n",
      "Failed to retrieve https://designkollective.com/stores/chic-home/products/96155, Status Code: 404\n",
      "Error processing https://designkollective.com/stores/chic-home/products/96155: cannot unpack non-iterable NoneType object\n",
      "Failed to retrieve https://designkollective.com/stores/chic-home/products/96213, Status Code: 404\n",
      "Error processing https://designkollective.com/stores/chic-home/products/96213: cannot unpack non-iterable NoneType object\n"
     ]
    },
    {
     "name": "stderr",
     "output_type": "stream",
     "text": [
      "Processing URLs:  38%|███▊      | 11500/30000 [08:13<07:22, 41.83it/s]"
     ]
    },
    {
     "name": "stdout",
     "output_type": "stream",
     "text": [
      "Failed to retrieve https://designkollective.com/stores/chic-home/products/96235, Status Code: 404\n",
      "Error processing https://designkollective.com/stores/chic-home/products/96235: cannot unpack non-iterable NoneType object\n",
      "Failed to retrieve https://designkollective.com/stores/chic-home/products/96197, Status Code: 404\n",
      "Failed to retrieve https://designkollective.com/stores/chic-home/products/96237, Status Code: 404\n",
      "Error processing https://designkollective.com/stores/chic-home/products/96197: cannot unpack non-iterable NoneType object\n",
      "Error processing https://designkollective.com/stores/chic-home/products/96237: cannot unpack non-iterable NoneType object\n",
      "Failed to retrieve https://designkollective.com/stores/chic-home/products/96250, Status Code: 404\n",
      "Error processing https://designkollective.com/stores/chic-home/products/96250: cannot unpack non-iterable NoneType object\n",
      "Failed to retrieve https://designkollective.com/stores/chic-home/products/96361, Status Code: 404\n",
      "Error processing https://designkollective.com/stores/chic-home/products/96361: cannot unpack non-iterable NoneType object\n",
      "Failed to retrieve https://designkollective.com/stores/chic-home/products/96169, Status Code: 404\n",
      "Error processing https://designkollective.com/stores/chic-home/products/96169: cannot unpack non-iterable NoneType object\n",
      "Failed to retrieve https://designkollective.com/stores/chic-home/products/96142, Status Code: 404\n",
      "Failed to retrieve https://designkollective.com/stores/chic-home/products/96162, Status Code: 404\n",
      "Error processing https://designkollective.com/stores/chic-home/products/96162: cannot unpack non-iterable NoneType object\n",
      "Error processing https://designkollective.com/stores/chic-home/products/96142: cannot unpack non-iterable NoneType object\n",
      "Failed to retrieve https://designkollective.com/stores/chic-home/products/96154, Status Code: 404\n",
      "Error processing https://designkollective.com/stores/chic-home/products/96154: cannot unpack non-iterable NoneType object\n",
      "Failed to retrieve https://designkollective.com/stores/chic-home/products/96367, Status Code: 404\n",
      "Error processing https://designkollective.com/stores/chic-home/products/96367: cannot unpack non-iterable NoneType object\n",
      "Failed to retrieve https://designkollective.com/stores/chic-home/products/96381, Status Code: 404\n",
      "Error processing https://designkollective.com/stores/chic-home/products/96381: cannot unpack non-iterable NoneType object\n",
      "Failed to retrieve https://designkollective.com/stores/chic-home/products/96594, Status Code: 404\n",
      "Error processing https://designkollective.com/stores/chic-home/products/96594: cannot unpack non-iterable NoneType object\n"
     ]
    },
    {
     "name": "stderr",
     "output_type": "stream",
     "text": [
      "Processing URLs:  38%|███▊      | 11515/30000 [08:13<06:39, 46.26it/s]"
     ]
    },
    {
     "name": "stdout",
     "output_type": "stream",
     "text": [
      "Failed to retrieve https://designkollective.com/stores/chic-home/products/96620, Status Code: 404\n",
      "Error processing https://designkollective.com/stores/chic-home/products/96620: cannot unpack non-iterable NoneType object\n",
      "Failed to retrieve https://designkollective.com/stores/chic-home/products/96598, Status Code: 404\n",
      "Error processing https://designkollective.com/stores/chic-home/products/96598: cannot unpack non-iterable NoneType object\n",
      "Failed to retrieve https://designkollective.com/stores/chic-home/products/96597, Status Code: 404\n",
      "Error processing https://designkollective.com/stores/chic-home/products/96597: cannot unpack non-iterable NoneType object\n",
      "Failed to retrieve https://designkollective.com/stores/chic-home/products/96639, Status Code: 404\n",
      "Failed to retrieve https://designkollective.com/stores/chic-home/products/96616, Status Code: 404\n",
      "Error processing https://designkollective.com/stores/chic-home/products/96639: cannot unpack non-iterable NoneType object\n",
      "Error processing https://designkollective.com/stores/chic-home/products/96616: cannot unpack non-iterable NoneType object\n",
      "Failed to retrieve https://designkollective.com/stores/chic-home/products/96645, Status Code: 404\n",
      "Error processing https://designkollective.com/stores/chic-home/products/96645: cannot unpack non-iterable NoneType object\n",
      "Failed to retrieve https://designkollective.com/stores/chic-home/products/96624, Status Code: 404\n",
      "Error processing https://designkollective.com/stores/chic-home/products/96624: cannot unpack non-iterable NoneType object\n"
     ]
    },
    {
     "name": "stderr",
     "output_type": "stream",
     "text": [
      "Processing URLs:  38%|███▊      | 11530/30000 [08:14<14:03, 21.90it/s]"
     ]
    },
    {
     "name": "stdout",
     "output_type": "stream",
     "text": [
      "Failed to retrieve https://designkollective.com/stores/chic-home/products/96636, Status Code: 404\n",
      "Error processing https://designkollective.com/stores/chic-home/products/96636: cannot unpack non-iterable NoneType object\n"
     ]
    },
    {
     "name": "stderr",
     "output_type": "stream",
     "text": [
      "Processing URLs:  38%|███▊      | 11543/30000 [08:15<12:08, 25.32it/s]"
     ]
    },
    {
     "name": "stdout",
     "output_type": "stream",
     "text": [
      "Failed to retrieve https://designkollective.com/stores/chic-home/products/96215, Status Code: 404\n",
      "Error processing https://designkollective.com/stores/chic-home/products/96215: cannot unpack non-iterable NoneType object\n",
      "Failed to retrieve https://designkollective.com/stores/chic-home/products/96359, Status Code: 404\n",
      "Error processing https://designkollective.com/stores/chic-home/products/96359: cannot unpack non-iterable NoneType object\n"
     ]
    },
    {
     "name": "stderr",
     "output_type": "stream",
     "text": [
      "Processing URLs:  39%|███▊      | 11624/30000 [08:18<11:46, 26.02it/s]"
     ]
    },
    {
     "name": "stdout",
     "output_type": "stream",
     "text": [
      "Failed to retrieve https://designkollective.com/stores/chic-home/products/100061, Status Code: 404\n",
      "Error processing https://designkollective.com/stores/chic-home/products/100061: cannot unpack non-iterable NoneType object\n",
      "Failed to retrieve https://designkollective.com/stores/chic-home/products/100075, Status Code: 404\n",
      "Error processing https://designkollective.com/stores/chic-home/products/100075: cannot unpack non-iterable NoneType object\n"
     ]
    },
    {
     "name": "stderr",
     "output_type": "stream",
     "text": [
      "Processing URLs:  39%|███▉      | 11647/30000 [08:19<11:46, 25.99it/s]"
     ]
    },
    {
     "name": "stdout",
     "output_type": "stream",
     "text": [
      "Failed to retrieve https://designkollective.com/stores/chic-home/products/98823, Status Code: 404\n",
      "Error processing https://designkollective.com/stores/chic-home/products/98823: cannot unpack non-iterable NoneType object\n",
      "Failed to retrieve https://designkollective.com/stores/chic-home/products/101694, Status Code: 404\n",
      "Error processing https://designkollective.com/stores/chic-home/products/101694: cannot unpack non-iterable NoneType object\n"
     ]
    },
    {
     "name": "stderr",
     "output_type": "stream",
     "text": [
      "Processing URLs:  39%|███▉      | 11657/30000 [08:20<10:49, 28.24it/s]"
     ]
    },
    {
     "name": "stdout",
     "output_type": "stream",
     "text": [
      "Failed to retrieve https://designkollective.com/stores/chic-home/products/101695, Status Code: 404\n",
      "Error processing https://designkollective.com/stores/chic-home/products/101695: cannot unpack non-iterable NoneType object\n"
     ]
    },
    {
     "name": "stderr",
     "output_type": "stream",
     "text": [
      "Processing URLs:  40%|███▉      | 11859/30000 [08:28<12:14, 24.70it/s]"
     ]
    },
    {
     "name": "stdout",
     "output_type": "stream",
     "text": [
      "Failed to retrieve https://designkollective.com/stores/chic-home/products/137783, Status Code: 404\n",
      "Error processing https://designkollective.com/stores/chic-home/products/137783: cannot unpack non-iterable NoneType object\n",
      "Failed to retrieve https://designkollective.com/stores/chic-home/products/137784, Status Code: 404\n",
      "Error processing https://designkollective.com/stores/chic-home/products/137784: cannot unpack non-iterable NoneType object\n",
      "Failed to retrieve https://designkollective.com/stores/chic-home/products/137782, Status Code: 404\n",
      "Error processing https://designkollective.com/stores/chic-home/products/137782: cannot unpack non-iterable NoneType object\n"
     ]
    },
    {
     "name": "stderr",
     "output_type": "stream",
     "text": [
      "Processing URLs:  40%|███▉      | 11875/30000 [08:29<11:47, 25.60it/s]"
     ]
    },
    {
     "name": "stdout",
     "output_type": "stream",
     "text": [
      "Failed to retrieve https://designkollective.com/stores/chic-home/products/137591, Status Code: 404\n",
      "Error processing https://designkollective.com/stores/chic-home/products/137591: cannot unpack non-iterable NoneType object\n"
     ]
    },
    {
     "name": "stderr",
     "output_type": "stream",
     "text": [
      "Processing URLs:  40%|███▉      | 11930/30000 [08:31<10:51, 27.75it/s]"
     ]
    },
    {
     "name": "stdout",
     "output_type": "stream",
     "text": [
      "Failed to retrieve https://designkollective.com/stores/chic-home/products/86602, Status Code: 404\n",
      "Error processing https://designkollective.com/stores/chic-home/products/86602: cannot unpack non-iterable NoneType object\n"
     ]
    },
    {
     "name": "stderr",
     "output_type": "stream",
     "text": [
      "Processing URLs:  40%|███▉      | 11940/30000 [08:31<10:45, 27.98it/s]"
     ]
    },
    {
     "name": "stdout",
     "output_type": "stream",
     "text": [
      "Failed to retrieve https://designkollective.com/stores/mixfurniture/products/27567, Status Code: 404\n",
      "Error processing https://designkollective.com/stores/mixfurniture/products/27567: cannot unpack non-iterable NoneType object\n"
     ]
    },
    {
     "name": "stderr",
     "output_type": "stream",
     "text": [
      "Processing URLs:  43%|████▎     | 12827/30000 [09:08<10:05, 28.36it/s]"
     ]
    },
    {
     "name": "stdout",
     "output_type": "stream",
     "text": [
      "Failed to retrieve https://designkollective.com/stores/chic-home/products/56329, Status Code: 404\n",
      "Error processing https://designkollective.com/stores/chic-home/products/56329: cannot unpack non-iterable NoneType object\n"
     ]
    },
    {
     "name": "stderr",
     "output_type": "stream",
     "text": [
      "Processing URLs:  43%|████▎     | 12942/30000 [09:13<12:47, 22.24it/s]"
     ]
    },
    {
     "name": "stdout",
     "output_type": "stream",
     "text": [
      "Failed to retrieve https://designkollective.com/stores/chic-home/products/59669, Status Code: 404\n",
      "Error processing https://designkollective.com/stores/chic-home/products/59669: cannot unpack non-iterable NoneType object\n"
     ]
    },
    {
     "name": "stderr",
     "output_type": "stream",
     "text": [
      "Processing URLs:  45%|████▌     | 13575/30000 [09:39<10:55, 25.05it/s]"
     ]
    },
    {
     "name": "stdout",
     "output_type": "stream",
     "text": [
      "Failed to retrieve https://designkollective.com/stores/chic-home/products/88462, Status Code: 404\n",
      "Error processing https://designkollective.com/stores/chic-home/products/88462: cannot unpack non-iterable NoneType object\n"
     ]
    },
    {
     "name": "stderr",
     "output_type": "stream",
     "text": [
      "Processing URLs:  47%|████▋     | 14076/30000 [10:01<10:14, 25.90it/s]"
     ]
    },
    {
     "name": "stdout",
     "output_type": "stream",
     "text": [
      "Failed to retrieve https://designkollective.com/stores/chic-home/products/137631, Status Code: 404\n",
      "Error processing https://designkollective.com/stores/chic-home/products/137631: cannot unpack non-iterable NoneType object\n"
     ]
    },
    {
     "name": "stderr",
     "output_type": "stream",
     "text": [
      "Processing URLs:  48%|████▊     | 14292/30000 [10:10<12:03, 21.73it/s]"
     ]
    },
    {
     "name": "stdout",
     "output_type": "stream",
     "text": [
      "Failed to retrieve https://designkollective.com/stores/chic-home/products/137808, Status Code: 404\n",
      "Error processing https://designkollective.com/stores/chic-home/products/137808: cannot unpack non-iterable NoneType object\n"
     ]
    },
    {
     "name": "stderr",
     "output_type": "stream",
     "text": [
      "Processing URLs:  48%|████▊     | 14317/30000 [10:11<09:03, 28.85it/s]"
     ]
    },
    {
     "name": "stdout",
     "output_type": "stream",
     "text": [
      "Failed to retrieve https://designkollective.com/stores/chic-home/products/98295, Status Code: 404\n",
      "Error processing https://designkollective.com/stores/chic-home/products/98295: cannot unpack non-iterable NoneType object\n",
      "Failed to retrieve https://designkollective.com/stores/chic-home/products/98293, Status Code: 404\n",
      "Error processing https://designkollective.com/stores/chic-home/products/98293: cannot unpack non-iterable NoneType object\n"
     ]
    },
    {
     "name": "stderr",
     "output_type": "stream",
     "text": [
      "Processing URLs:  48%|████▊     | 14323/30000 [10:11<09:34, 27.29it/s]"
     ]
    },
    {
     "name": "stdout",
     "output_type": "stream",
     "text": [
      "Failed to retrieve https://designkollective.com/stores/chic-home/products/97655, Status Code: 404\n",
      "Error processing https://designkollective.com/stores/chic-home/products/97655: cannot unpack non-iterable NoneType object\n",
      "Failed to retrieve https://designkollective.com/stores/chic-home/products/98275, Status Code: 404\n",
      "Error processing https://designkollective.com/stores/chic-home/products/98275: cannot unpack non-iterable NoneType object\n"
     ]
    },
    {
     "name": "stderr",
     "output_type": "stream",
     "text": [
      "Processing URLs:  48%|████▊     | 14335/30000 [10:11<08:53, 29.36it/s]"
     ]
    },
    {
     "name": "stdout",
     "output_type": "stream",
     "text": [
      "Failed to retrieve https://designkollective.com/stores/chic-home/products/98206, Status Code: 404\n",
      "Error processing https://designkollective.com/stores/chic-home/products/98206: cannot unpack non-iterable NoneType object\n"
     ]
    },
    {
     "name": "stderr",
     "output_type": "stream",
     "text": [
      "Processing URLs:  48%|████▊     | 14339/30000 [10:11<08:33, 30.51it/s]"
     ]
    },
    {
     "name": "stdout",
     "output_type": "stream",
     "text": [
      "Failed to retrieve https://designkollective.com/stores/chic-home/products/97753, Status Code: 404\n",
      "Error processing https://designkollective.com/stores/chic-home/products/97753: cannot unpack non-iterable NoneType object\n"
     ]
    },
    {
     "name": "stderr",
     "output_type": "stream",
     "text": [
      "Processing URLs:  48%|████▊     | 14378/30000 [10:13<09:18, 27.97it/s]"
     ]
    },
    {
     "name": "stdout",
     "output_type": "stream",
     "text": [
      "Failed to retrieve https://designkollective.com/stores/chic-home/products/98208, Status Code: 404\n",
      "Error processing https://designkollective.com/stores/chic-home/products/98208: cannot unpack non-iterable NoneType object\n",
      "Failed to retrieve https://designkollective.com/stores/chic-home/products/98211, Status Code: 404\n",
      "Error processing https://designkollective.com/stores/chic-home/products/98211: cannot unpack non-iterable NoneType object\n"
     ]
    },
    {
     "name": "stderr",
     "output_type": "stream",
     "text": [
      "Processing URLs:  48%|████▊     | 14396/30000 [10:14<10:02, 25.90it/s]"
     ]
    },
    {
     "name": "stdout",
     "output_type": "stream",
     "text": [
      "Failed to retrieve https://designkollective.com/stores/chic-home/products/97641, Status Code: 404\n",
      "Error processing https://designkollective.com/stores/chic-home/products/97641: cannot unpack non-iterable NoneType object\n"
     ]
    },
    {
     "name": "stderr",
     "output_type": "stream",
     "text": [
      "Processing URLs:  48%|████▊     | 14432/30000 [10:15<09:31, 27.22it/s]"
     ]
    },
    {
     "name": "stdout",
     "output_type": "stream",
     "text": [
      "Failed to retrieve https://designkollective.com/stores/chic-home/products/97663, Status Code: 404\n",
      "Error processing https://designkollective.com/stores/chic-home/products/97663: cannot unpack non-iterable NoneType object\n"
     ]
    },
    {
     "name": "stderr",
     "output_type": "stream",
     "text": [
      "Processing URLs:  48%|████▊     | 14537/30000 [10:20<09:33, 26.97it/s]"
     ]
    },
    {
     "name": "stdout",
     "output_type": "stream",
     "text": [
      "Failed to retrieve https://designkollective.com/stores/chic-home/products/97665, Status Code: 404\n",
      "Error processing https://designkollective.com/stores/chic-home/products/97665: cannot unpack non-iterable NoneType object\n",
      "Failed to retrieve https://designkollective.com/stores/chic-home/products/97643, Status Code: 404\n",
      "Error processing https://designkollective.com/stores/chic-home/products/97643: cannot unpack non-iterable NoneType object\n",
      "Failed to retrieve https://designkollective.com/stores/de-cor-globally-inspired/products/117625, Status Code: 404\n",
      "Error processing https://designkollective.com/stores/de-cor-globally-inspired/products/117625: cannot unpack non-iterable NoneType object\n"
     ]
    },
    {
     "name": "stderr",
     "output_type": "stream",
     "text": [
      "Processing URLs:  49%|████▊     | 14558/30000 [10:20<11:01, 23.35it/s]"
     ]
    },
    {
     "name": "stdout",
     "output_type": "stream",
     "text": [
      "Failed to retrieve https://designkollective.com/stores/chic-home/products/97638, Status Code: 404\n",
      "Error processing https://designkollective.com/stores/chic-home/products/97638: cannot unpack non-iterable NoneType object\n"
     ]
    },
    {
     "name": "stderr",
     "output_type": "stream",
     "text": [
      "Processing URLs:  49%|████▊     | 14565/30000 [10:21<10:29, 24.51it/s]"
     ]
    },
    {
     "name": "stdout",
     "output_type": "stream",
     "text": [
      "Failed to retrieve https://designkollective.com/stores/chic-home/products/98191, Status Code: 404\n",
      "Error processing https://designkollective.com/stores/chic-home/products/98191: cannot unpack non-iterable NoneType object\n"
     ]
    },
    {
     "name": "stderr",
     "output_type": "stream",
     "text": [
      "Processing URLs:  49%|████▉     | 14800/30000 [10:31<08:26, 30.01it/s]"
     ]
    },
    {
     "name": "stdout",
     "output_type": "stream",
     "text": [
      "Failed to retrieve https://designkollective.com/stores/chic-home/products/99175, Status Code: 404\n",
      "Error processing https://designkollective.com/stores/chic-home/products/99175: cannot unpack non-iterable NoneType object\n",
      "Failed to retrieve https://designkollective.com/stores/chic-home/products/98894, Status Code: 404\n",
      "Error processing https://designkollective.com/stores/chic-home/products/98894: cannot unpack non-iterable NoneType object\n",
      "Failed to retrieve https://designkollective.com/stores/chic-home/products/98851, Status Code: 404\n",
      "Error processing https://designkollective.com/stores/chic-home/products/98851: cannot unpack non-iterable NoneType object\n",
      "Failed to retrieve https://designkollective.com/stores/chic-home/products/98861, Status Code: 404\n",
      "Failed to retrieve https://designkollective.com/stores/chic-home/products/98890, Status Code: 404\n",
      "Failed to retrieve https://designkollective.com/stores/chic-home/products/99177, Status Code: 404\n",
      "Error processing https://designkollective.com/stores/chic-home/products/98861: cannot unpack non-iterable NoneType object\n",
      "Error processing https://designkollective.com/stores/chic-home/products/98890: cannot unpack non-iterable NoneType object\n",
      "Error processing https://designkollective.com/stores/chic-home/products/99177: cannot unpack non-iterable NoneType object\n"
     ]
    },
    {
     "name": "stderr",
     "output_type": "stream",
     "text": [
      "Processing URLs:  49%|████▉     | 14811/30000 [10:31<06:48, 37.16it/s]"
     ]
    },
    {
     "name": "stdout",
     "output_type": "stream",
     "text": [
      "Failed to retrieve https://designkollective.com/stores/chic-home/products/98845, Status Code: 404Failed to retrieve https://designkollective.com/stores/chic-home/products/137767, Status Code: 404\n",
      "Error processing https://designkollective.com/stores/chic-home/products/137767: cannot unpack non-iterable NoneType object\n",
      "\n",
      "Error processing https://designkollective.com/stores/chic-home/products/98845: cannot unpack non-iterable NoneType object\n",
      "Failed to retrieve https://designkollective.com/stores/chic-home/products/98820, Status Code: 404\n",
      "Error processing https://designkollective.com/stores/chic-home/products/98820: cannot unpack non-iterable NoneType object\n",
      "Failed to retrieve https://designkollective.com/stores/chic-home/products/99609, Status Code: 404\n"
     ]
    },
    {
     "name": "stderr",
     "output_type": "stream",
     "text": [
      "Processing URLs:  49%|████▉     | 14819/30000 [10:31<07:15, 34.86it/s]"
     ]
    },
    {
     "name": "stdout",
     "output_type": "stream",
     "text": [
      "Error processing https://designkollective.com/stores/chic-home/products/99609: cannot unpack non-iterable NoneType object\n",
      "Failed to retrieve https://designkollective.com/stores/chic-home/products/98816, Status Code: 404\n",
      "Error processing https://designkollective.com/stores/chic-home/products/98816: cannot unpack non-iterable NoneType object\n",
      "Failed to retrieve https://designkollective.com/stores/chic-home/products/98488, Status Code: 404\n",
      "Error processing https://designkollective.com/stores/chic-home/products/98488: cannot unpack non-iterable NoneType object\n"
     ]
    },
    {
     "name": "stderr",
     "output_type": "stream",
     "text": [
      "Processing URLs:  49%|████▉     | 14823/30000 [10:31<09:11, 27.50it/s]"
     ]
    },
    {
     "name": "stdout",
     "output_type": "stream",
     "text": [
      "Failed to retrieve https://designkollective.com/stores/chic-home/products/99434, Status Code: 404\n",
      "Error processing https://designkollective.com/stores/chic-home/products/99434: cannot unpack non-iterable NoneType object\n",
      "Failed to retrieve https://designkollective.com/stores/chic-home/products/99388, Status Code: 404\n",
      "Error processing https://designkollective.com/stores/chic-home/products/99388: cannot unpack non-iterable NoneType object\n"
     ]
    },
    {
     "name": "stderr",
     "output_type": "stream",
     "text": [
      "Processing URLs:  49%|████▉     | 14834/30000 [10:32<10:34, 23.92it/s]"
     ]
    },
    {
     "name": "stdout",
     "output_type": "stream",
     "text": [
      "Failed to retrieve https://designkollective.com/stores/chic-home/products/99432, Status Code: 404\n",
      "Error processing https://designkollective.com/stores/chic-home/products/99432: cannot unpack non-iterable NoneType object\n",
      "Failed to retrieve https://designkollective.com/stores/chic-home/products/99390, Status Code: 404\n",
      "Error processing https://designkollective.com/stores/chic-home/products/99390: cannot unpack non-iterable NoneType object\n",
      "Failed to retrieve https://designkollective.com/stores/chic-home/products/99465, Status Code: 404\n",
      "Error processing https://designkollective.com/stores/chic-home/products/99465: cannot unpack non-iterable NoneType object\n"
     ]
    },
    {
     "name": "stderr",
     "output_type": "stream",
     "text": [
      "Processing URLs:  50%|████▉     | 14868/30000 [10:33<08:42, 28.95it/s]"
     ]
    },
    {
     "name": "stdout",
     "output_type": "stream",
     "text": [
      "Failed to retrieve https://designkollective.com/stores/chic-home/products/99272, Status Code: 404\n",
      "Error processing https://designkollective.com/stores/chic-home/products/99272: cannot unpack non-iterable NoneType object\n",
      "Failed to retrieve https://designkollective.com/stores/chic-home/products/98466, Status Code: 404\n",
      "Error processing https://designkollective.com/stores/chic-home/products/98466: cannot unpack non-iterable NoneType object\n",
      "Failed to retrieve https://designkollective.com/stores/chic-home/products/98464, Status Code: 404\n",
      "Error processing https://designkollective.com/stores/chic-home/products/98464: cannot unpack non-iterable NoneType object\n"
     ]
    },
    {
     "name": "stderr",
     "output_type": "stream",
     "text": [
      "Processing URLs:  50%|████▉     | 14887/30000 [10:34<08:51, 28.43it/s]"
     ]
    },
    {
     "name": "stdout",
     "output_type": "stream",
     "text": [
      "Failed to retrieve https://designkollective.com/stores/chic-home/products/98456, Status Code: 404\n",
      "Error processing https://designkollective.com/stores/chic-home/products/98456: cannot unpack non-iterable NoneType object\n",
      "Failed to retrieve https://designkollective.com/stores/chic-home/products/98461, Status Code: 404\n",
      "Error processing https://designkollective.com/stores/chic-home/products/98461: cannot unpack non-iterable NoneType object\n"
     ]
    },
    {
     "name": "stderr",
     "output_type": "stream",
     "text": [
      "Processing URLs:  50%|████▉     | 14896/30000 [10:34<07:41, 32.75it/s]"
     ]
    },
    {
     "name": "stdout",
     "output_type": "stream",
     "text": [
      "Failed to retrieve https://designkollective.com/stores/chic-home/products/99199, Status Code: 404\n",
      "Error processing https://designkollective.com/stores/chic-home/products/99199: cannot unpack non-iterable NoneType object\n",
      "Failed to retrieve https://designkollective.com/stores/chic-home/products/99180, Status Code: 404\n",
      "Error processing https://designkollective.com/stores/chic-home/products/99180: cannot unpack non-iterable NoneType object\n",
      "Failed to retrieve https://designkollective.com/stores/chic-home/products/98436, Status Code: 404\n",
      "Error processing https://designkollective.com/stores/chic-home/products/98436: cannot unpack non-iterable NoneType object\n",
      "Failed to retrieve https://designkollective.com/stores/chic-home/products/98458, Status Code: 404\n",
      "Error processing https://designkollective.com/stores/chic-home/products/98458: cannot unpack non-iterable NoneType object\n",
      "Failed to retrieve https://designkollective.com/stores/chic-home/products/99160, Status Code: 404\n",
      "Error processing https://designkollective.com/stores/chic-home/products/99160: cannot unpack non-iterable NoneType object\n"
     ]
    },
    {
     "name": "stderr",
     "output_type": "stream",
     "text": [
      "Processing URLs:  50%|████▉     | 14904/30000 [10:34<07:43, 32.56it/s]"
     ]
    },
    {
     "name": "stdout",
     "output_type": "stream",
     "text": [
      "Failed to retrieve https://designkollective.com/stores/chic-home/products/99179, Status Code: 404\n",
      "Error processing https://designkollective.com/stores/chic-home/products/99179: cannot unpack non-iterable NoneType object\n"
     ]
    },
    {
     "name": "stderr",
     "output_type": "stream",
     "text": [
      "Processing URLs:  50%|████▉     | 14914/30000 [10:35<07:56, 31.64it/s]"
     ]
    },
    {
     "name": "stdout",
     "output_type": "stream",
     "text": [
      "Failed to retrieve https://designkollective.com/stores/chic-home/products/98433, Status Code: 404\n",
      "Error processing https://designkollective.com/stores/chic-home/products/98433: cannot unpack non-iterable NoneType object\n",
      "Failed to retrieve https://designkollective.com/stores/chic-home/products/99118, Status Code: 404\n",
      "Error processing https://designkollective.com/stores/chic-home/products/99118: cannot unpack non-iterable NoneType object\n"
     ]
    },
    {
     "name": "stderr",
     "output_type": "stream",
     "text": [
      "Processing URLs:  50%|████▉     | 14999/30000 [10:38<11:31, 21.70it/s]"
     ]
    },
    {
     "name": "stdout",
     "output_type": "stream",
     "text": [
      "Failed to retrieve https://designkollective.com/stores/chic-home/products/98185, Status Code: 404\n",
      "Error processing https://designkollective.com/stores/chic-home/products/98185: cannot unpack non-iterable NoneType object\n"
     ]
    },
    {
     "name": "stderr",
     "output_type": "stream",
     "text": [
      "Processing URLs:  50%|█████     | 15012/30000 [10:39<08:39, 28.84it/s]"
     ]
    },
    {
     "name": "stdout",
     "output_type": "stream",
     "text": [
      "Failed to retrieve https://designkollective.com/stores/de-cor-globally-inspired/products/174559, Status Code: 404\n",
      "Error processing https://designkollective.com/stores/de-cor-globally-inspired/products/174559: cannot unpack non-iterable NoneType object\n",
      "Failed to retrieve https://designkollective.com/stores/chic-home/products/97911, Status Code: 404\n",
      "Error processing https://designkollective.com/stores/chic-home/products/97911: cannot unpack non-iterable NoneType object\n"
     ]
    },
    {
     "name": "stderr",
     "output_type": "stream",
     "text": [
      "Processing URLs:  50%|█████     | 15110/30000 [10:43<10:34, 23.47it/s]"
     ]
    },
    {
     "name": "stdout",
     "output_type": "stream",
     "text": [
      "Failed to retrieve https://designkollective.com/stores/chic-home/products/97857, Status Code: 404\n",
      "Error processing https://designkollective.com/stores/chic-home/products/97857: cannot unpack non-iterable NoneType object\n"
     ]
    },
    {
     "name": "stderr",
     "output_type": "stream",
     "text": [
      "Processing URLs:  50%|█████     | 15121/30000 [10:44<10:48, 22.93it/s]"
     ]
    },
    {
     "name": "stdout",
     "output_type": "stream",
     "text": [
      "Failed to retrieve https://designkollective.com/stores/chic-home/products/97861, Status Code: 404\n",
      "Error processing https://designkollective.com/stores/chic-home/products/97861: cannot unpack non-iterable NoneType object\n"
     ]
    },
    {
     "name": "stderr",
     "output_type": "stream",
     "text": [
      "Processing URLs:  51%|█████▏    | 15388/30000 [10:55<09:23, 25.93it/s]"
     ]
    },
    {
     "name": "stdout",
     "output_type": "stream",
     "text": [
      "Error fetching https://designkollective.com/stores/sohoconcept/products/151191: HTTPSConnectionPool(host='designkollective.com', port=443): Read timed out. (read timeout=3)\n",
      "Error processing https://designkollective.com/stores/sohoconcept/products/151191: cannot unpack non-iterable NoneType object\n"
     ]
    },
    {
     "name": "stderr",
     "output_type": "stream",
     "text": [
      "Processing URLs:  53%|█████▎    | 15965/30000 [11:20<10:25, 22.43it/s]"
     ]
    },
    {
     "name": "stdout",
     "output_type": "stream",
     "text": [
      "Failed to retrieve https://designkollective.com/stores/mixfurniture/products/147035, Status Code: 404\n",
      "Error processing https://designkollective.com/stores/mixfurniture/products/147035: cannot unpack non-iterable NoneType object\n"
     ]
    },
    {
     "name": "stderr",
     "output_type": "stream",
     "text": [
      "Processing URLs:  53%|█████▎    | 15986/30000 [11:21<08:54, 26.22it/s]"
     ]
    },
    {
     "name": "stdout",
     "output_type": "stream",
     "text": [
      "Failed to retrieve https://designkollective.com/stores/mixfurniture/products/147033, Status Code: 404\n",
      "Error processing https://designkollective.com/stores/mixfurniture/products/147033: cannot unpack non-iterable NoneType object\n"
     ]
    },
    {
     "name": "stderr",
     "output_type": "stream",
     "text": [
      "Processing URLs:  56%|█████▌    | 16771/30000 [11:55<08:33, 25.76it/s]"
     ]
    },
    {
     "name": "stdout",
     "output_type": "stream",
     "text": [
      "Failed to retrieve https://designkollective.com/stores/mixfurniture/products/148089, Status Code: 404\n",
      "Error processing https://designkollective.com/stores/mixfurniture/products/148089: cannot unpack non-iterable NoneType object\n"
     ]
    },
    {
     "name": "stderr",
     "output_type": "stream",
     "text": [
      "Processing URLs:  56%|█████▌    | 16819/30000 [11:57<10:50, 20.26it/s]"
     ]
    },
    {
     "name": "stdout",
     "output_type": "stream",
     "text": [
      "Failed to retrieve https://designkollective.com/stores/chic-home/products/87448, Status Code: 404\n",
      "Error processing https://designkollective.com/stores/chic-home/products/87448: cannot unpack non-iterable NoneType object\n"
     ]
    },
    {
     "name": "stderr",
     "output_type": "stream",
     "text": [
      "Processing URLs:  56%|█████▋    | 16928/30000 [12:01<08:16, 26.32it/s]"
     ]
    },
    {
     "name": "stdout",
     "output_type": "stream",
     "text": [
      "Failed to retrieve https://designkollective.com/stores/mixfurniture/products/148265, Status Code: 404\n",
      "Error processing https://designkollective.com/stores/mixfurniture/products/148265: cannot unpack non-iterable NoneType object\n"
     ]
    },
    {
     "name": "stderr",
     "output_type": "stream",
     "text": [
      "Processing URLs:  59%|█████▊    | 17565/30000 [12:29<07:43, 26.82it/s]"
     ]
    },
    {
     "name": "stdout",
     "output_type": "stream",
     "text": [
      "Failed to retrieve https://designkollective.com/stores/chic-home/products/96163, Status Code: 404\n",
      "Error processing https://designkollective.com/stores/chic-home/products/96163: cannot unpack non-iterable NoneType object\n"
     ]
    },
    {
     "name": "stderr",
     "output_type": "stream",
     "text": [
      "Processing URLs:  60%|██████    | 18104/30000 [12:52<06:34, 30.19it/s]"
     ]
    },
    {
     "name": "stdout",
     "output_type": "stream",
     "text": [
      "Failed to retrieve https://designkollective.com/stores/chic-home/products/52598, Status Code: 404\n",
      "Error processing https://designkollective.com/stores/chic-home/products/52598: cannot unpack non-iterable NoneType object\n",
      "Failed to retrieve https://designkollective.com/stores/chic-home/products/52609, Status Code: 404\n",
      "Error processing https://designkollective.com/stores/chic-home/products/52609: cannot unpack non-iterable NoneType object\n",
      "Failed to retrieve https://designkollective.com/stores/chic-home/products/52644, Status Code: 404\n",
      "Error processing https://designkollective.com/stores/chic-home/products/52644: cannot unpack non-iterable NoneType object\n"
     ]
    },
    {
     "name": "stderr",
     "output_type": "stream",
     "text": [
      "Processing URLs:  60%|██████    | 18109/30000 [12:52<05:43, 34.64it/s]"
     ]
    },
    {
     "name": "stdout",
     "output_type": "stream",
     "text": [
      "Failed to retrieve https://designkollective.com/stores/chic-home/products/52595, Status Code: 404\n",
      "Error processing https://designkollective.com/stores/chic-home/products/52595: cannot unpack non-iterable NoneType object\n",
      "Failed to retrieve https://designkollective.com/stores/chic-home/products/101628, Status Code: 404\n",
      "Error processing https://designkollective.com/stores/chic-home/products/101628: cannot unpack non-iterable NoneType object\n",
      "Failed to retrieve https://designkollective.com/stores/chic-home/products/52589, Status Code: 404\n",
      "Error processing https://designkollective.com/stores/chic-home/products/52589: cannot unpack non-iterable NoneType object\n"
     ]
    },
    {
     "name": "stderr",
     "output_type": "stream",
     "text": [
      "Processing URLs:  61%|██████    | 18193/30000 [12:56<08:19, 23.63it/s]"
     ]
    },
    {
     "name": "stdout",
     "output_type": "stream",
     "text": [
      "Failed to retrieve https://designkollective.com/stores/chic-home/products/96417, Status Code: 404\n",
      "Error processing https://designkollective.com/stores/chic-home/products/96417: cannot unpack non-iterable NoneType object\n",
      "Failed to retrieve https://designkollective.com/stores/chic-home/products/96415, Status Code: 404\n",
      "Error processing https://designkollective.com/stores/chic-home/products/96415: cannot unpack non-iterable NoneType object\n"
     ]
    },
    {
     "name": "stderr",
     "output_type": "stream",
     "text": [
      "Processing URLs:  61%|██████    | 18204/30000 [12:56<07:13, 27.24it/s]"
     ]
    },
    {
     "name": "stdout",
     "output_type": "stream",
     "text": [
      "Failed to retrieve https://designkollective.com/stores/chic-home/products/97325, Status Code: 404\n",
      "Error processing https://designkollective.com/stores/chic-home/products/97325: cannot unpack non-iterable NoneType object\n"
     ]
    },
    {
     "name": "stderr",
     "output_type": "stream",
     "text": [
      "Processing URLs:  61%|██████    | 18255/30000 [12:58<08:40, 22.55it/s]"
     ]
    },
    {
     "name": "stdout",
     "output_type": "stream",
     "text": [
      "Failed to retrieve https://designkollective.com/stores/chic-home/products/96131, Status Code: 404\n",
      "Error processing https://designkollective.com/stores/chic-home/products/96131: cannot unpack non-iterable NoneType object\n"
     ]
    },
    {
     "name": "stderr",
     "output_type": "stream",
     "text": [
      "Processing URLs:  63%|██████▎   | 18753/30000 [13:19<06:53, 27.19it/s]"
     ]
    },
    {
     "name": "stdout",
     "output_type": "stream",
     "text": [
      "Failed to retrieve https://designkollective.com/stores/chic-home/products/96373, Status Code: 404\n",
      "Error processing https://designkollective.com/stores/chic-home/products/96373: cannot unpack non-iterable NoneType object\n"
     ]
    },
    {
     "name": "stderr",
     "output_type": "stream",
     "text": [
      "Processing URLs:  63%|██████▎   | 18900/30000 [13:25<07:10, 25.77it/s]"
     ]
    },
    {
     "name": "stdout",
     "output_type": "stream",
     "text": [
      "Failed to retrieve https://designkollective.com/stores/chic-home/products/96589, Status Code: 404\n",
      "Error processing https://designkollective.com/stores/chic-home/products/96589: cannot unpack non-iterable NoneType object\n"
     ]
    },
    {
     "name": "stderr",
     "output_type": "stream",
     "text": [
      "Processing URLs:  63%|██████▎   | 19026/30000 [13:30<06:51, 26.65it/s]"
     ]
    },
    {
     "name": "stdout",
     "output_type": "stream",
     "text": [
      "Failed to retrieve https://designkollective.com/stores/chic-home/products/87546, Status Code: 404\n",
      "Error processing https://designkollective.com/stores/chic-home/products/87546: cannot unpack non-iterable NoneType object\n"
     ]
    },
    {
     "name": "stderr",
     "output_type": "stream",
     "text": [
      "Processing URLs:  64%|██████▎   | 19064/30000 [13:32<06:45, 26.95it/s]"
     ]
    },
    {
     "name": "stdout",
     "output_type": "stream",
     "text": [
      "Failed to retrieve https://designkollective.com/stores/chic-home/products/101632, Status Code: 404\n",
      "Error processing https://designkollective.com/stores/chic-home/products/101632: cannot unpack non-iterable NoneType object\n"
     ]
    },
    {
     "name": "stderr",
     "output_type": "stream",
     "text": [
      "Processing URLs:  64%|██████▎   | 19077/30000 [13:32<06:56, 26.23it/s]"
     ]
    },
    {
     "name": "stdout",
     "output_type": "stream",
     "text": [
      "Failed to retrieve https://designkollective.com/stores/chic-home/products/101634, Status Code: 404\n",
      "Error processing https://designkollective.com/stores/chic-home/products/101634: cannot unpack non-iterable NoneType object\n",
      "Failed to retrieve https://designkollective.com/stores/chic-home/products/52684, Status Code: 404\n",
      "Error processing https://designkollective.com/stores/chic-home/products/52684: cannot unpack non-iterable NoneType object\n"
     ]
    },
    {
     "name": "stderr",
     "output_type": "stream",
     "text": [
      "Processing URLs:  64%|██████▎   | 19085/30000 [13:33<06:02, 30.09it/s]"
     ]
    },
    {
     "name": "stdout",
     "output_type": "stream",
     "text": [
      "Failed to retrieve https://designkollective.com/stores/chic-home/products/101650, Status Code: 404\n",
      "Error processing https://designkollective.com/stores/chic-home/products/101650: cannot unpack non-iterable NoneType object\n",
      "Failed to retrieve https://designkollective.com/stores/chic-home/products/52624, Status Code: 404\n",
      "Error processing https://designkollective.com/stores/chic-home/products/52624: cannot unpack non-iterable NoneType object\n"
     ]
    },
    {
     "name": "stderr",
     "output_type": "stream",
     "text": [
      "Processing URLs:  64%|██████▎   | 19104/30000 [13:33<06:50, 26.53it/s]"
     ]
    },
    {
     "name": "stdout",
     "output_type": "stream",
     "text": [
      "Failed to retrieve https://designkollective.com/stores/chic-home/products/52565, Status Code: 404\n",
      "Error processing https://designkollective.com/stores/chic-home/products/52565: cannot unpack non-iterable NoneType object\n"
     ]
    },
    {
     "name": "stderr",
     "output_type": "stream",
     "text": [
      "Processing URLs:  64%|██████▎   | 19113/30000 [13:34<08:32, 21.26it/s]"
     ]
    },
    {
     "name": "stdout",
     "output_type": "stream",
     "text": [
      "Failed to retrieve https://designkollective.com/stores/chic-home/products/52701, Status Code: 404\n",
      "Error processing https://designkollective.com/stores/chic-home/products/52701: cannot unpack non-iterable NoneType object\n",
      "Failed to retrieve https://designkollective.com/stores/chic-home/products/52717, Status Code: 404\n",
      "Error processing https://designkollective.com/stores/chic-home/products/52717: cannot unpack non-iterable NoneType object\n"
     ]
    },
    {
     "name": "stderr",
     "output_type": "stream",
     "text": [
      "Processing URLs:  64%|██████▍   | 19125/30000 [13:34<07:17, 24.84it/s]"
     ]
    },
    {
     "name": "stdout",
     "output_type": "stream",
     "text": [
      "Failed to retrieve https://designkollective.com/stores/chic-home/products/52708, Status Code: 404\n",
      "Error processing https://designkollective.com/stores/chic-home/products/52708: cannot unpack non-iterable NoneType object\n"
     ]
    },
    {
     "name": "stderr",
     "output_type": "stream",
     "text": [
      "Processing URLs:  64%|██████▍   | 19285/30000 [13:41<08:23, 21.27it/s]"
     ]
    },
    {
     "name": "stdout",
     "output_type": "stream",
     "text": [
      "Failed to retrieve https://designkollective.com/stores/chic-home/products/52703, Status Code: 404\n",
      "Error processing https://designkollective.com/stores/chic-home/products/52703: cannot unpack non-iterable NoneType object\n"
     ]
    },
    {
     "name": "stderr",
     "output_type": "stream",
     "text": [
      "Processing URLs:  64%|██████▍   | 19299/30000 [13:42<06:57, 25.61it/s]"
     ]
    },
    {
     "name": "stdout",
     "output_type": "stream",
     "text": [
      "Failed to retrieve https://designkollective.com/stores/chic-home/products/52687, Status Code: 404\n",
      "Error processing https://designkollective.com/stores/chic-home/products/52687: cannot unpack non-iterable NoneType object\n"
     ]
    },
    {
     "name": "stderr",
     "output_type": "stream",
     "text": [
      "Processing URLs:  64%|██████▍   | 19307/30000 [13:42<06:11, 28.76it/s]"
     ]
    },
    {
     "name": "stdout",
     "output_type": "stream",
     "text": [
      "Failed to retrieve https://designkollective.com/stores/chic-home/products/52666, Status Code: 404\n",
      "Error processing https://designkollective.com/stores/chic-home/products/52666: cannot unpack non-iterable NoneType object\n"
     ]
    },
    {
     "name": "stderr",
     "output_type": "stream",
     "text": [
      "Processing URLs:  66%|██████▋   | 19885/30000 [14:07<06:30, 25.89it/s]"
     ]
    },
    {
     "name": "stdout",
     "output_type": "stream",
     "text": [
      "Failed to retrieve https://designkollective.com/stores/chic-home/products/100354, Status Code: 404\n",
      "Error processing https://designkollective.com/stores/chic-home/products/100354: cannot unpack non-iterable NoneType object\n"
     ]
    },
    {
     "name": "stderr",
     "output_type": "stream",
     "text": [
      "Processing URLs:  66%|██████▋   | 19897/30000 [14:08<06:23, 26.35it/s]"
     ]
    },
    {
     "name": "stdout",
     "output_type": "stream",
     "text": [
      "Failed to retrieve https://designkollective.com/stores/chic-home/products/100349, Status Code: 404\n",
      "Error processing https://designkollective.com/stores/chic-home/products/100349: cannot unpack non-iterable NoneType object\n"
     ]
    },
    {
     "name": "stderr",
     "output_type": "stream",
     "text": [
      "Processing URLs:  66%|██████▋   | 19907/30000 [14:08<07:22, 22.79it/s]"
     ]
    },
    {
     "name": "stdout",
     "output_type": "stream",
     "text": [
      "Failed to retrieve https://designkollective.com/stores/chic-home/products/100337, Status Code: 404\n",
      "Error processing https://designkollective.com/stores/chic-home/products/100337: cannot unpack non-iterable NoneType object\n"
     ]
    },
    {
     "name": "stderr",
     "output_type": "stream",
     "text": [
      "Processing URLs:  66%|██████▋   | 19941/30000 [14:10<07:18, 22.94it/s]"
     ]
    },
    {
     "name": "stdout",
     "output_type": "stream",
     "text": [
      "Failed to retrieve https://designkollective.com/stores/chic-home/products/100365, Status Code: 404\n",
      "Error processing https://designkollective.com/stores/chic-home/products/100365: cannot unpack non-iterable NoneType object\n"
     ]
    },
    {
     "name": "stderr",
     "output_type": "stream",
     "text": [
      "Processing URLs:  66%|██████▋   | 19949/30000 [14:10<05:52, 28.53it/s]"
     ]
    },
    {
     "name": "stdout",
     "output_type": "stream",
     "text": [
      "Failed to retrieve https://designkollective.com/stores/chic-home/products/100325, Status Code: 404\n",
      "Error processing https://designkollective.com/stores/chic-home/products/100325: cannot unpack non-iterable NoneType object\n"
     ]
    },
    {
     "name": "stderr",
     "output_type": "stream",
     "text": [
      "Processing URLs:  67%|██████▋   | 19961/30000 [14:10<05:59, 27.96it/s]"
     ]
    },
    {
     "name": "stdout",
     "output_type": "stream",
     "text": [
      "Failed to retrieve https://designkollective.com/stores/chic-home/products/100328, Status Code: 404\n",
      "Error processing https://designkollective.com/stores/chic-home/products/100328: cannot unpack non-iterable NoneType object\n"
     ]
    },
    {
     "name": "stderr",
     "output_type": "stream",
     "text": [
      "Processing URLs:  68%|██████▊   | 20495/30000 [14:33<08:46, 18.05it/s]"
     ]
    },
    {
     "name": "stdout",
     "output_type": "stream",
     "text": [
      "Failed to retrieve https://designkollective.com/stores/chic-home/products/97757, Status Code: 404\n",
      "Error processing https://designkollective.com/stores/chic-home/products/97757: cannot unpack non-iterable NoneType object\n"
     ]
    },
    {
     "name": "stderr",
     "output_type": "stream",
     "text": [
      "Processing URLs:  71%|███████▏  | 21428/30000 [15:12<05:38, 25.34it/s]"
     ]
    },
    {
     "name": "stdout",
     "output_type": "stream",
     "text": [
      "Failed to retrieve https://designkollective.com/stores/chic-home/products/87381, Status Code: 404\n",
      "Error processing https://designkollective.com/stores/chic-home/products/87381: cannot unpack non-iterable NoneType object\n"
     ]
    },
    {
     "name": "stderr",
     "output_type": "stream",
     "text": [
      "Processing URLs:  71%|███████▏  | 21448/30000 [15:12<05:08, 27.69it/s]"
     ]
    },
    {
     "name": "stdout",
     "output_type": "stream",
     "text": [
      "Failed to retrieve https://designkollective.com/stores/chic-home/products/87408, Status Code: 404\n",
      "Error processing https://designkollective.com/stores/chic-home/products/87408: cannot unpack non-iterable NoneType object\n"
     ]
    },
    {
     "name": "stderr",
     "output_type": "stream",
     "text": [
      "Processing URLs:  72%|███████▏  | 21671/30000 [15:22<06:00, 23.13it/s]"
     ]
    }
   ],
   "execution_count": null,
   "source": [
    "def get_base_url(url):\n",
    "    try:\n",
    "        parsed_url = urlparse(url)\n",
    "        base_url = f\"{parsed_url.scheme}://{parsed_url.netloc}\"\n",
    "        return base_url\n",
    "    except Exception as e:\n",
    "        # print(f\"Error parsing URL {url}: {e}\")\n",
    "        return None\n",
    "\n",
    "\n",
    "def clean_text(text):\n",
    "    # Replace multiple spaces and line breaks with a single space\n",
    "    cleaned_text = re.sub(r'\\s+', ' ', text).strip()\n",
    "    return cleaned_text\n",
    "\n",
    "USER_AGENTS = [\n",
    "    \"Mozilla/5.0 (Windows NT 10.0; Win64; x64) AppleWebKit/537.36 (KHTML, like Gecko) Chrome/85.0.4183.102 Safari/537.36\",\n",
    "    \"Mozilla/5.0 (Macintosh; Intel Mac OS X 10_15_5) AppleWebKit/537.36 (KHTML, like Gecko) Chrome/83.0.4103.116 Safari/537.36\",\n",
    "    \"Mozilla/5.0 (X11; Linux x86_64) AppleWebKit/537.36 (KHTML, like Gecko) Chrome/81.0.4044.122 Safari/537.36\",\n",
    "    \"Mozilla/5.0 (Windows NT 10.0; Win64; x64; rv:79.0) Gecko/20100101 Firefox/79.0\",\n",
    "    \"Mozilla/5.0 (Macintosh; Intel Mac OS X 10_15_6) AppleWebKit/605.1.15 (KHTML, like Gecko) Version/14.0.1 Safari/605.1.15\",\n",
    "]\n",
    "\n",
    "# List of proxy servers (this can be dynamically updated with proxy pools or services)\n",
    "PROXIES = [\n",
    "    {\"http\": \"http://178.48.68.61:18080\",  \"https\": \"http://178.48.68.61:18080\"},    \n",
    "    # Add more proxies if available\n",
    "]\n",
    "\n",
    "# Function to get page content\n",
    "def get_data(url):\n",
    "    headers = {\"User-Agent\": random.choice(USER_AGENTS)}  # Rotate user-agent\n",
    "\n",
    "    try:\n",
    "        response = requests.get(url, headers=headers, timeout=3)\n",
    "\n",
    "        # Handle rate-limiting (HTTP 429) by pausing and retrying\n",
    "        if response.status_code == 429:\n",
    "            print(f\"Rate limit reached. Sleeping before retrying {url}\")\n",
    "            time.sleep(random.uniform(4, 8))  # Random delay to avoid detection\n",
    "            return get_data(url)\n",
    "\n",
    "        if response.status_code == 200:\n",
    "            return response.content  # Return HTML content if successful\n",
    "\n",
    "        print(f\"Failed to retrieve {url}, Status Code: {response.status_code}\")\n",
    "        return None\n",
    "\n",
    "    except requests.RequestException as e:\n",
    "        print(f\"Error fetching {url}: {e}\")\n",
    "        return None\n",
    "\n",
    "\n",
    "def has_letters(input_string):\n",
    "    return any(char.isalpha() for char in input_string)\n",
    "\n",
    "def extract_data(url):\n",
    "    html_data = get_data(url)\n",
    "    if html_data is None:\n",
    "        return None\n",
    "    \n",
    "    soup = BeautifulSoup(html_data, \"html.parser\")\n",
    "    \n",
    "    # Finding the title in the meta tags\n",
    "    title = soup.find('title')\n",
    "    if title:\n",
    "        title = title.get_text()\n",
    "    else: return None\n",
    "        \n",
    "    # Remove scripts, styles, and irrelevant content\n",
    "    for script in soup([\"script\", \"style\", \"footer\", \"nav\", \"header\", \"noscript\", \"head\"]):\n",
    "        script.extract()\n",
    "\n",
    "    h1_tags = [clean_text(h1.get_text()) for h1 in soup.find_all('h1')]\n",
    "    \n",
    "    page_text = clean_text(soup.get_text(separator=' '))\n",
    "    \n",
    "    h1_tag = None\n",
    "    # If no h1 tags are found, return None\n",
    "    if h1_tags:\n",
    "        h1_tag = h1_tags[0] \n",
    " \n",
    "    # We get the last path of the url\n",
    "    url_index = url.rfind('/')\n",
    "    url_last_path = url[url_index + 1:].replace('-', ' ')\n",
    "    \n",
    "    if not has_letters(url_last_path):\n",
    "        url_last_path = None\n",
    "    \n",
    "    h1_tag_position = None\n",
    "    if h1_tag in page_text:\n",
    "        start_idx = page_text.index(h1_tag)\n",
    "        end_idx = start_idx + len(h1_tag)\n",
    "        h1_tag_position = (h1_tag, start_idx, end_idx)\n",
    "    \n",
    "    return h1_tag_position, title, url_last_path, page_text\n",
    "    \n",
    "\n",
    "final_data = []\n",
    "links = links[:30000]  \n",
    "\n",
    "final_data_lock = threading.Lock()  # A lock to ensure thread-safe appending to the list\n",
    "\n",
    "# Function to process a single URL\n",
    "def process_url(link):\n",
    "    try:\n",
    "        h1_tag, title, url_last_path, page_text = extract_data(link)\n",
    "        with final_data_lock:  # Ensure thread-safe access to final_data\n",
    "            final_data.append([link, h1_tag, title, url_last_path, page_text])\n",
    "    except Exception as e:\n",
    "        print(f\"Error processing {link}: {e}\")\n",
    "\n",
    "# Read from CSV and process in parallel\n",
    "with open('../dispersed_link_data.csv', mode='r', newline='', encoding='utf-8') as file:\n",
    "\n",
    "    # Use ThreadPoolExecutor for parallel processing\n",
    "    with ThreadPoolExecutor(max_workers=32) as executor:  # Adjust max_workers as needed\n",
    "        futures = []\n",
    "        for link in links:\n",
    "            futures.append(executor.submit(process_url, link))  # Submit tasks to the thread pool\n",
    "\n",
    "        # Track progress with tqdm\n",
    "        for _ in tqdm(concurrent.futures.as_completed(futures), total=len(links), desc=\"Processing URLs\"):\n",
    "            pass  # We don't need the result here since we're appending directly to final_data\n",
    "\n",
    "                          \n"
   ],
   "id": "da2a0de946c3761f"
  },
  {
   "cell_type": "code",
   "execution_count": null,
   "outputs": [],
   "source": [
    "with open('../data/preprocessed_data_from_all_sitemaps.csv', mode='w', newline='', encoding='utf-8') as file:\n",
    "    csv_writer = csv.writer(file)\n",
    "    csv_writer.writerow(['URL', 'h1', 'title', 'url_last_path', 'page_text'])\n",
    "    for row in final_data:\n",
    "        csv_writer.writerow(row)\n",
    "        \n",
    "\n",
    "print(\"Processing completed!\")"
   ],
   "metadata": {
    "collapsed": false,
    "is_executing": true
   },
   "id": "6c10df05c3a6f7a2"
  },
  {
   "cell_type": "code",
   "execution_count": null,
   "outputs": [],
   "source": [],
   "metadata": {
    "collapsed": false,
    "is_executing": true
   },
   "id": "68141b6d4c19d01a"
  },
  {
   "cell_type": "code",
   "execution_count": null,
   "outputs": [],
   "source": [],
   "metadata": {
    "collapsed": false,
    "is_executing": true
   },
   "id": "67673213880c14ec"
  }
 ],
 "metadata": {
  "kernelspec": {
   "display_name": "Python 3",
   "language": "python",
   "name": "python3"
  },
  "language_info": {
   "codemirror_mode": {
    "name": "ipython",
    "version": 2
   },
   "file_extension": ".py",
   "mimetype": "text/x-python",
   "name": "python",
   "nbconvert_exporter": "python",
   "pygments_lexer": "ipython2",
   "version": "2.7.6"
  }
 },
 "nbformat": 4,
 "nbformat_minor": 5
}
