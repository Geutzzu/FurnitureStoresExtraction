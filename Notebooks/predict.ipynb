{
 "cells": [
  {
   "metadata": {},
   "cell_type": "markdown",
   "source": "# Notebook for running predictions on text data",
   "id": "138c032472053cc9"
  },
  {
   "cell_type": "code",
   "id": "initial_id",
   "metadata": {
    "collapsed": true,
    "ExecuteTime": {
     "end_time": "2024-09-14T17:29:59.612720Z",
     "start_time": "2024-09-14T17:29:56.816038Z"
    }
   },
   "source": [
    "from transformers import AutoTokenizer, AutoModelForTokenClassification\n",
    "import torch"
   ],
   "outputs": [],
   "execution_count": 1
  },
  {
   "metadata": {
    "ExecuteTime": {
     "end_time": "2024-09-14T18:20:31.285110Z",
     "start_time": "2024-09-14T18:20:31.171808Z"
    }
   },
   "cell_type": "code",
   "source": [
    "# Load the tokenizer and model\n",
    "model_name = model_checkpoint = \"distilbert-base-uncased-for-product-extraction/checkpoint-7050\"\n",
    "tokenizer = AutoTokenizer.from_pretrained(model_name)\n",
    "model = AutoModelForTokenClassification.from_pretrained(model_name)"
   ],
   "id": "797484645ce9ed4b",
   "outputs": [
    {
     "name": "stderr",
     "output_type": "stream",
     "text": [
      "C:\\Users\\boroz\\Documents\\GitHub\\FurnitureStoresExtraction\\.venv\\Lib\\site-packages\\transformers\\tokenization_utils_base.py:1601: FutureWarning: `clean_up_tokenization_spaces` was not set. It will be set to `True` by default. This behavior will be depracted in transformers v4.45, and will be then set to `False` by default. For more details check this issue: https://github.com/huggingface/transformers/issues/31884\n",
      "  warnings.warn(\n"
     ]
    }
   ],
   "execution_count": 39
  },
  {
   "metadata": {
    "ExecuteTime": {
     "end_time": "2024-09-14T20:10:12.767143Z",
     "start_time": "2024-09-14T20:10:12.763578Z"
    }
   },
   "cell_type": "code",
   "source": [
    "label_list = ['O', 'B-PRODUCT', 'I-PRODUCT']\n",
    "\n",
    "\n",
    "example = \"\"\"Orland single desk is finished in solid oak with oak veneers and features striking heavy round brass knobs. Whilst this Orland single desk matches other pieces in the Orland range, it also suits a wide range of decors. This beautifully crafted piece of furniture is delivered fully assembled to your home, for your convenience.\"\"\""
   ],
   "id": "aec2868b2743c2dd",
   "outputs": [],
   "execution_count": 65
  },
  {
   "metadata": {
    "ExecuteTime": {
     "end_time": "2024-09-14T20:10:14.164837Z",
     "start_time": "2024-09-14T20:10:14.075283Z"
    }
   },
   "cell_type": "code",
   "source": [
    "inputs = tokenizer(example, return_tensors=\"pt\", max_length=512, truncation=True)\n",
    "\n",
    "# Get model predictions\n",
    "with torch.no_grad():\n",
    "    outputs = model(**inputs)\n",
    "\n",
    "# Get the predicted token class indices\n",
    "predictions = torch.argmax(outputs.logits, dim=2)\n",
    "\n",
    "# Convert token IDs to words\n",
    "tokens = tokenizer.convert_ids_to_tokens(inputs[\"input_ids\"][0])\n",
    "\n",
    "# Map predictions to labels\n",
    "predicted_labels = [label_list[pred] for pred in predictions[0].numpy()]"
   ],
   "id": "383e2147036e115c",
   "outputs": [],
   "execution_count": 66
  },
  {
   "metadata": {
    "ExecuteTime": {
     "end_time": "2024-09-14T20:10:15.617702Z",
     "start_time": "2024-09-14T20:10:15.613278Z"
    }
   },
   "cell_type": "code",
   "source": [
    "# Print tokens with predicted labels\n",
    "for token, label in zip(tokens, predicted_labels):\n",
    "    print(f\"{token:10} -> {label}\")"
   ],
   "id": "46bd311906cb8b57",
   "outputs": [
    {
     "name": "stdout",
     "output_type": "stream",
     "text": [
      "[CLS]      -> O\n",
      "or         -> O\n",
      "##land     -> O\n",
      "single     -> O\n",
      "desk       -> O\n",
      "is         -> O\n",
      "finished   -> O\n",
      "in         -> O\n",
      "solid      -> O\n",
      "oak        -> O\n",
      "with       -> O\n",
      "oak        -> O\n",
      "ve         -> O\n",
      "##neer     -> O\n",
      "##s        -> O\n",
      "and        -> O\n",
      "features   -> O\n",
      "striking   -> O\n",
      "heavy      -> O\n",
      "round      -> O\n",
      "brass      -> O\n",
      "knob       -> O\n",
      "##s        -> O\n",
      ".          -> O\n",
      "whilst     -> O\n",
      "this       -> O\n",
      "or         -> B-PRODUCT\n",
      "##land     -> I-PRODUCT\n",
      "single     -> I-PRODUCT\n",
      "desk       -> I-PRODUCT\n",
      "matches    -> I-PRODUCT\n",
      "other      -> I-PRODUCT\n",
      "pieces     -> I-PRODUCT\n",
      "in         -> I-PRODUCT\n",
      "the        -> I-PRODUCT\n",
      "or         -> I-PRODUCT\n",
      "##land     -> I-PRODUCT\n",
      "range      -> I-PRODUCT\n",
      ",          -> O\n",
      "it         -> O\n",
      "also       -> O\n",
      "suits      -> O\n",
      "a          -> O\n",
      "wide       -> O\n",
      "range      -> O\n",
      "of         -> O\n",
      "decor      -> O\n",
      "##s        -> O\n",
      ".          -> O\n",
      "this       -> O\n",
      "beautifully -> O\n",
      "crafted    -> O\n",
      "piece      -> O\n",
      "of         -> O\n",
      "furniture  -> O\n",
      "is         -> O\n",
      "delivered  -> O\n",
      "fully      -> O\n",
      "assembled  -> O\n",
      "to         -> O\n",
      "your       -> O\n",
      "home       -> O\n",
      ",          -> O\n",
      "for        -> O\n",
      "your       -> O\n",
      "convenience -> O\n",
      ".          -> O\n",
      "[SEP]      -> O\n"
     ]
    }
   ],
   "execution_count": 67
  },
  {
   "metadata": {},
   "cell_type": "code",
   "outputs": [],
   "execution_count": null,
   "source": "",
   "id": "71eadf7467edfc0e"
  }
 ],
 "metadata": {
  "kernelspec": {
   "display_name": "Python 3",
   "language": "python",
   "name": "python3"
  },
  "language_info": {
   "codemirror_mode": {
    "name": "ipython",
    "version": 2
   },
   "file_extension": ".py",
   "mimetype": "text/x-python",
   "name": "python",
   "nbconvert_exporter": "python",
   "pygments_lexer": "ipython2",
   "version": "2.7.6"
  }
 },
 "nbformat": 4,
 "nbformat_minor": 5
}
