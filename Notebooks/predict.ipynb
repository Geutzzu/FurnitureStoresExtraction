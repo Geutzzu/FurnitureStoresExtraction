{
 "cells": [
  {
   "metadata": {},
   "cell_type": "markdown",
   "source": "# Notebook for running predictions on text data",
   "id": "138c032472053cc9"
  },
  {
   "cell_type": "code",
   "id": "initial_id",
   "metadata": {
    "collapsed": true,
    "ExecuteTime": {
     "end_time": "2024-09-27T18:17:03.891233Z",
     "start_time": "2024-09-27T18:17:00.784526Z"
    }
   },
   "source": [
    "from transformers import AutoTokenizer, AutoModelForTokenClassification\n",
    "import torch"
   ],
   "outputs": [],
   "execution_count": 3
  },
  {
   "metadata": {
    "ExecuteTime": {
     "end_time": "2024-09-27T18:17:05.147292Z",
     "start_time": "2024-09-27T18:17:03.895749Z"
    }
   },
   "cell_type": "code",
   "source": [
    "# Load the tokenizer and model\n",
    "model_name = model_checkpoint = \"distilbert-base-uncased-for-product-extraction/full_text_strictly_labeled_86000_0.87\"\n",
    "tokenizer = AutoTokenizer.from_pretrained(model_name)\n",
    "model = AutoModelForTokenClassification.from_pretrained(model_name)"
   ],
   "id": "797484645ce9ed4b",
   "outputs": [],
   "execution_count": 4
  },
  {
   "metadata": {
    "ExecuteTime": {
     "end_time": "2024-09-27T18:17:06.279475Z",
     "start_time": "2024-09-27T18:17:06.275400Z"
    }
   },
   "cell_type": "code",
   "source": "label_list = ['O', 'B-PRODUCT', 'I-PRODUCT']",
   "id": "aec2868b2743c2dd",
   "outputs": [],
   "execution_count": 5
  },
  {
   "metadata": {
    "ExecuteTime": {
     "end_time": "2024-09-27T18:17:07.644041Z",
     "start_time": "2024-09-27T18:17:07.638343Z"
    }
   },
   "cell_type": "code",
   "source": [
    "\n",
    "# Takes a splited sentance and returns the labels\n",
    "def predict_labels(text, model, tokenizer, label_list, max_length=512):\n",
    "\n",
    "    inputs = tokenizer(text, return_tensors=\"pt\", max_length=max_length, truncation=True, is_split_into_words=True)\n",
    "    word_ids = inputs.word_ids()\n",
    "    \n",
    "    with torch.no_grad():\n",
    "        outputs = model(**inputs)\n",
    "        \n",
    "    logits = outputs.logits\n",
    "    predictions = torch.argmax(logits, dim=2)\n",
    "    \n",
    "    predictions = [label_list[prediction] for prediction in predictions[0]]\n",
    "    tokenized_tokens = tokenizer.convert_ids_to_tokens(inputs[\"input_ids\"][0])\n",
    "    \n",
    "    labels = ['O'] * len(text)\n",
    "    \n",
    "    for idx, (token, prediction) in enumerate(zip(tokenized_tokens, predictions)):\n",
    "        original_token_index = word_ids[idx]\n",
    "        if original_token_index is not None:\n",
    "            labels[original_token_index] = prediction\n",
    "        \n",
    "    return labels\n",
    "    "
   ],
   "id": "27c3df5b997ba77d",
   "outputs": [],
   "execution_count": 6
  },
  {
   "metadata": {
    "ExecuteTime": {
     "end_time": "2024-09-27T18:18:31.208737Z",
     "start_time": "2024-09-27T18:18:31.157872Z"
    }
   },
   "cell_type": "code",
   "source": [
    "text = \"\"\"[URL] <NO_URL> [URL] [TITLE] <NO_TITLE> [TITLE]\n",
    "[TEXT]  [TEXT]\n",
    " [TEXT] \"\"\"\n",
    "\n",
    "labels = predict_labels(text.split(), model, tokenizer, label_list)\n",
    "\n",
    "for token, label in zip(text.split(), labels):\n",
    "    print(f\"{token:10}: {label}\")"
   ],
   "id": "435982d59ddfa9ff",
   "outputs": [
    {
     "name": "stdout",
     "output_type": "stream",
     "text": [
      "[URL]     : O\n",
      "<NO_URL>  : O\n",
      "[URL]     : O\n",
      "[TITLE]   : O\n",
      "<NO_TITLE>: O\n",
      "[TITLE]   : O\n",
      "[TEXT]    : O\n",
      "Gaming    : B-PRODUCT\n",
      "desk      : I-PRODUCT\n",
      "with      : O\n",
      "a         : O\n",
      "lot       : O\n",
      "of        : O\n",
      "space     : O\n",
      "for       : O\n",
      "your      : O\n",
      "gaming    : O\n",
      "setup.    : O\n",
      "The       : O\n",
      "desk      : O\n",
      "is        : O\n",
      "made      : O\n",
      "of        : O\n",
      "high      : O\n",
      "quality   : O\n",
      "materials : O\n",
      "and       : O\n",
      "has       : O\n",
      "a         : O\n",
      "modern    : O\n",
      "design.   : O\n",
      "The       : O\n",
      "desk      : O\n",
      "is        : O\n",
      "perfect   : O\n",
      "for       : O\n",
      "gamers    : O\n",
      "who       : O\n",
      "need      : O\n",
      "a         : O\n",
      "lot       : O\n",
      "of        : O\n",
      "space     : O\n",
      "for       : O\n",
      "their     : O\n",
      "gaming    : O\n",
      "setup.    : O\n",
      "The       : O\n",
      "desk      : O\n",
      "is        : O\n",
      "easy      : O\n",
      "to        : O\n",
      "assemble  : O\n",
      "and       : O\n",
      "comes     : O\n",
      "with      : O\n",
      "all       : O\n",
      "the       : O\n",
      "necessary : O\n",
      "tools.    : O\n",
      "The       : O\n",
      "desk      : O\n",
      "is        : O\n",
      "also      : O\n",
      "very      : O\n",
      "durable   : O\n",
      "and       : O\n",
      "will      : O\n",
      "last      : O\n",
      "for       : O\n",
      "a         : O\n",
      "long      : O\n",
      "time.     : O\n",
      "The       : O\n",
      "desk      : O\n",
      "is        : O\n",
      "available : O\n",
      "in        : O\n",
      "different : O\n",
      "colors    : O\n",
      "and       : O\n",
      "sizes.    : O\n",
      "[TEXT]    : O\n",
      "[TEXT]    : O\n"
     ]
    }
   ],
   "execution_count": 12
  },
  {
   "metadata": {
    "ExecuteTime": {
     "end_time": "2024-09-27T18:17:09.852563Z",
     "start_time": "2024-09-27T18:17:09.620751Z"
    }
   },
   "cell_type": "code",
   "source": [
    "\n",
    "\n",
    "# inputs = tokenizer(text, return_tensors=\"pt\", max_length=512, truncation=True)\n",
    "# \n",
    "# # Get model predictions\n",
    "# with torch.no_grad():\n",
    "#     outputs = model(**inputs)\n",
    "# \n",
    "# # Get the logits (raw prediction scores)\n",
    "# logits = outputs.logits\n",
    "# \n",
    "# # Apply softmax to get the probabilities\n",
    "# probabilities = torch.softmax(logits, dim=2)\n",
    "# \n",
    "# # Convert token IDs to words\n",
    "# tokens = tokenizer.convert_ids_to_tokens(inputs[\"input_ids\"][0])\n",
    "# word_ids = inputs.word_ids()\n",
    "# \n",
    "# \n",
    "# # Get probabilities for O, B-PRODUCT, and I-PRODUCT\n",
    "# predicted_labels = []\n",
    "# o_tag_probs = []\n",
    "# b_product_probs = []\n",
    "# i_product_probs = []\n",
    "# \n",
    "# for i, token_probs in enumerate(probabilities[0]):\n",
    "#     o_tag_prob = token_probs[label_list.index('O')].item()\n",
    "#     b_product_prob = token_probs[label_list.index('B-PRODUCT')].item()\n",
    "#     i_product_prob = token_probs[label_list.index('I-PRODUCT')].item()\n",
    "#     \n",
    "#     # Get the predicted label (max probability)\n",
    "#     max_prob, predicted_idx = torch.max(token_probs, dim=0)  # Get the max probability and its index\n",
    "#     predicted_label = label_list[predicted_idx]\n",
    "# \n",
    "#     predicted_labels.append(predicted_label)\n",
    "#     o_tag_probs.append(o_tag_prob)\n",
    "#     b_product_probs.append(b_product_prob)\n",
    "#     i_product_probs.append(i_product_prob)\n",
    "#     \n",
    "# \n",
    "# for token, label, o_prob, b_prob, i_prob in zip(tokens, predicted_labels, o_tag_probs, b_product_probs, i_product_probs):\n",
    "#     print(f\"{token:10}: {label:10} O: {o_prob:.2f} B-PRODUCT: {b_prob:.2f} I-PRODUCT: {i_prob:.2f}\")"
   ],
   "id": "9360ff38eed23b5a",
   "outputs": [
    {
     "name": "stdout",
     "output_type": "stream",
     "text": [
      "[URL]     : O\n",
      "<NO_URL>  : O\n",
      "[URL]     : O\n",
      "[TITLE]   : O\n",
      "[TITLE]   : O\n",
      "[TEXT]    : O\n",
      "The       : O\n",
      "Best      : O\n",
      "Sleeper   : O\n",
      "Sofas     : O\n",
      "for       : O\n",
      "Small     : O\n",
      "Spaces    : O\n",
      "[TEXT]    : O\n"
     ]
    }
   ],
   "execution_count": 7
  },
  {
   "metadata": {},
   "cell_type": "code",
   "outputs": [],
   "execution_count": null,
   "source": "\n",
   "id": "7172cc21fbd1ab9"
  }
 ],
 "metadata": {
  "kernelspec": {
   "display_name": "Python 3",
   "language": "python",
   "name": "python3"
  },
  "language_info": {
   "codemirror_mode": {
    "name": "ipython",
    "version": 2
   },
   "file_extension": ".py",
   "mimetype": "text/x-python",
   "name": "python",
   "nbconvert_exporter": "python",
   "pygments_lexer": "ipython2",
   "version": "2.7.6"
  }
 },
 "nbformat": 4,
 "nbformat_minor": 5
}
